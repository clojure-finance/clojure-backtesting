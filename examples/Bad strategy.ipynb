{
 "cells": [
  {
   "cell_type": "code",
   "execution_count": 1,
   "metadata": {},
   "outputs": [
    {
     "data": {
      "text/plain": [
       "nil"
      ]
     },
     "execution_count": 1,
     "metadata": {},
     "output_type": "execute_result"
    }
   ],
   "source": [
    "; import libraries from kernel\n",
    "(ns clojure-backtesting.demo\n",
    "  (:require [clojure.test :refer :all]\n",
    "            [clojure-backtesting.data :refer :all]\n",
    "            [clojure-backtesting.data-management :refer :all]\n",
    "            [clojure-backtesting.portfolio :refer :all]\n",
    "            [clojure-backtesting.order :refer :all]\n",
    "            [clojure-backtesting.evaluate :refer :all]\n",
    "            [clojure-backtesting.plot :refer :all]\n",
    "            [clojure-backtesting.specs :refer :all]\n",
    "            [clojure-backtesting.counter :refer :all]\n",
    "            [clojure-backtesting.large-data :refer :all]\n",
    "            [clojure-backtesting.parameters :refer :all]\n",
    "            [clojure.string :as str]\n",
    "            [clojure.pprint :as pprint]\n",
    "            [java-time :as t]\n",
    "            [clojupyter.kernel.version :as ver]\n",
    "            [clojupyter.misc.helper :as helper]\n",
    "  ) ;; require all libriaries from core\n",
    "  (:use clojure.pprint)\n",
    ")"
   ]
  },
  {
   "cell_type": "code",
   "execution_count": 3,
   "metadata": {},
   "outputs": [
    {
     "name": "stdout",
     "output_type": "stream",
     "text": [
      "1980-12-16\n",
      "1980-12-17\n",
      "1980-12-18\n",
      "1980-12-19\n",
      "1980-12-19: You have lost all cash. Closing all positions.\n",
      "Please reset the dataset and call init-portfolio again.\n"
     ]
    },
    {
     "data": {
      "text/plain": [
       "nil"
      ]
     },
     "execution_count": 3,
     "metadata": {},
     "output_type": "execute_result"
    }
   ],
   "source": [
    "(reset! data-set (add-aprc (read-csv-row \"../resources/CRSP-extract.csv\")))\n",
    "\n",
    "(init-portfolio \"1980-12-15\" 100)\n",
    "\n",
    "(order \"AAPL\" -100)\n",
    "(update-eval-report (get-date))\n",
    "(println (next-date))\n",
    "(update-eval-report (get-date))\n",
    "(println (next-date))\n",
    "(update-eval-report (get-date))\n",
    "(println (next-date))\n",
    "(println (next-date))\n",
    "(next-date)\n",
    "(next-date)\n",
    "(update-eval-report (get-date))\n",
    "\n",
    "(end-order)"
   ]
  },
  {
   "cell_type": "code",
   "execution_count": 4,
   "metadata": {},
   "outputs": [
    {
     "name": "stdout",
     "output_type": "stream",
     "text": [
      "\n",
      "|      :date | :tic |  :price | :aprc | :quantity |\n",
      "|------------+------+---------+-------+-----------|\n",
      "| 1980-12-16 | AAPL | 25.3125 | 25.82 |      -100 |\n",
      "| 1980-12-22 | AAPL | 29.6875 | 27.67 |       100 |\n"
     ]
    },
    {
     "data": {
      "text/plain": [
       "nil"
      ]
     },
     "execution_count": 4,
     "metadata": {},
     "output_type": "execute_result"
    }
   ],
   "source": [
    "(pprint/print-table (deref order-record))"
   ]
  },
  {
   "cell_type": "code",
   "execution_count": 5,
   "metadata": {},
   "outputs": [
    {
     "name": "stdout",
     "output_type": "stream",
     "text": [
      "\n",
      "| :asset |  :price |   :aprc | :quantity | :tot-val |\n",
      "|--------+---------+---------+-----------+----------|\n",
      "|   cash |     N/A |     N/A |       N/A |  2681.87 |\n",
      "|   AAPL | 28.3125 | 27.1056 |      -100 | -2710.56 |\n"
     ]
    },
    {
     "data": {
      "text/plain": [
       "nil"
      ]
     },
     "execution_count": 5,
     "metadata": {},
     "output_type": "execute_result"
    }
   ],
   "source": [
    "(view-portfolio)"
   ]
  },
  {
   "cell_type": "code",
   "execution_count": 6,
   "metadata": {},
   "outputs": [
    {
     "name": "stdout",
     "output_type": "stream",
     "text": [
      "\n",
      "|      :date | :tot-value | :daily-ret | :tot-ret | :loan | :leverage |\n",
      "|------------+------------+------------+----------+-------+-----------|\n",
      "| 1980-12-15 |    $100.00 |      0.00% |    0.00% | $0.00 |      0.00 |\n",
      "| 1980-12-16 |    $100.00 |      0.00% |    0.00% | $0.00 |      0.00 |\n",
      "| 1980-12-17 |     $72.51 |    -13.96% |  -13.96% | $0.00 |      0.00 |\n",
      "| 1980-12-18 |     $40.00 |    -25.83% |  -39.79% | $0.00 |      0.00 |\n",
      "| 1980-12-19 |    $-28.70 |       NaN% |     NaN% | $0.00 |      0.00 |\n"
     ]
    },
    {
     "data": {
      "text/plain": [
       "nil"
      ]
     },
     "execution_count": 6,
     "metadata": {},
     "output_type": "execute_result"
    }
   ],
   "source": [
    "(view-portfolio-record -1)"
   ]
  },
  {
   "cell_type": "code",
   "execution_count": 7,
   "metadata": {},
   "outputs": [
    {
     "name": "stdout",
     "output_type": "stream",
     "text": [
      "\n",
      "|      :date | :tot-value |    :vol |  :sharpe | :pnl-pt |\n",
      "|------------+------------+---------+----------+---------|\n",
      "| 1980-12-15 |       $100 | 0.0000% |  0.0000% |      $0 |\n",
      "| 1980-12-16 |       $100 | 0.0000% |  0.0000% |      $0 |\n",
      "| 1980-12-17 |        $72 | 8.0616% | -1.7321% |    $-27 |\n"
     ]
    },
    {
     "data": {
      "text/plain": [
       "nil"
      ]
     },
     "execution_count": 7,
     "metadata": {},
     "output_type": "execute_result"
    }
   ],
   "source": [
    "(eval-report -1)"
   ]
  },
  {
   "cell_type": "code",
   "execution_count": null,
   "metadata": {},
   "outputs": [],
   "source": []
  }
 ],
 "metadata": {
  "kernelspec": {
   "display_name": "Clojure (backtesting_clojure)",
   "language": "clojure",
   "name": "backtesting_clojure"
  },
  "language_info": {
   "file_extension": ".clj",
   "mimetype": "text/x-clojure",
   "name": "clojure",
   "version": "1.10.1"
  }
 },
 "nbformat": 4,
 "nbformat_minor": 2
}
