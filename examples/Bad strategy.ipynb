{
 "cells": [
  {
   "cell_type": "code",
   "execution_count": 2,
   "metadata": {},
   "outputs": [
    {
     "data": {
      "text/plain": [
       "nil"
      ]
     },
     "execution_count": 2,
     "metadata": {},
     "output_type": "execute_result"
    }
   ],
   "source": [
    "; import libraries from kernel\n",
    "(ns clojure-backtesting.demo\n",
    "  (:require [clojure-backtesting.data :refer :all]\n",
    "            [clojure-backtesting.data-management :refer :all]\n",
    "            [clojure-backtesting.portfolio :refer :all]\n",
    "            [clojure-backtesting.order :refer :all]\n",
    "            [clojure-backtesting.evaluate :refer :all]\n",
    "            [clojure-backtesting.plot :refer :all]\n",
    "            [clojure-backtesting.counter :refer :all]\n",
    "            [clojure-backtesting.automation :refer :all]\n",
    "            [clojure-backtesting.parameters :refer :all]\n",
    "            [clojure-backtesting.indicators :refer :all]\n",
    "            [clojure-backtesting.direct :refer :all]\n",
    "            [clojure.string :as str]\n",
    "            [clojure.java.io :as io]\n",
    "            [clojure.pprint :as pprint]\n",
    "  ) ;; require all libriaries from core\n",
    ")"
   ]
  },
  {
   "cell_type": "code",
   "execution_count": 10,
   "metadata": {},
   "outputs": [
    {
     "name": "stdout",
     "output_type": "stream",
     "text": [
      "The dataset is already furnished by add-aprc. No more modification is needed.\n"
     ]
    },
    {
     "data": {
      "text/plain": [
       "\"Date: 1980-12-15 Cash: $2000\""
      ]
     },
     "execution_count": 10,
     "metadata": {},
     "output_type": "execute_result"
    }
   ],
   "source": [
    "(load-dataset \"/Volumes/T7/CRSP\" \"main\" add-aprc)\n",
    "(init-portfolio \"1980-12-15\" 2000)"
   ]
  },
  {
   "cell_type": "code",
   "execution_count": 11,
   "metadata": {},
   "outputs": [
    {
     "name": "stdout",
     "output_type": "stream",
     "text": [
      "1980-12-16\n",
      "1980-12-17\n",
      "1980-12-18\n",
      "1980-12-19\n"
     ]
    },
    {
     "data": {
      "text/plain": [
       "true"
      ]
     },
     "execution_count": 11,
     "metadata": {},
     "output_type": "execute_result"
    }
   ],
   "source": [
    ";; (reset! data-set (add-aprc (read-csv-row \"../resources/CRSP-extract.csv\")))\n",
    "\n",
    ";; (init-portfolio \"1980-12-15\" 100)\n",
    "\n",
    "(order \"28636\" -100)\n",
    "(update-eval-report (get-date))\n",
    "(println (next-date))\n",
    "(update-eval-report (get-date))\n",
    "(println (next-date))\n",
    "(update-eval-report (get-date))\n",
    "(println (next-date))\n",
    "(println (next-date))\n",
    "(next-date)\n",
    "(next-date)\n",
    "(update-eval-report (get-date))\n",
    "\n",
    "(end-order)"
   ]
  },
  {
   "cell_type": "code",
   "execution_count": 12,
   "metadata": {},
   "outputs": [
    {
     "name": "stdout",
     "output_type": "stream",
     "text": [
      "\n",
      "|      :date |  :tic | :price | :aprc | :quantity |\n",
      "|------------+-------+--------+-------+-----------|\n",
      "| 1980-12-16 | 28636 |  7.375 | 22.18 |      -100 |\n",
      "| 1980-12-23 | 28636 |  7.125 | 21.85 |       100 |\n"
     ]
    },
    {
     "data": {
      "text/plain": [
       "nil"
      ]
     },
     "execution_count": 12,
     "metadata": {},
     "output_type": "execute_result"
    }
   ],
   "source": [
    "(print-order-record)"
   ]
  },
  {
   "cell_type": "code",
   "execution_count": 13,
   "metadata": {},
   "outputs": [
    {
     "name": "stdout",
     "output_type": "stream",
     "text": [
      "\n",
      "| :asset | :price | :aprc | :quantity | :tot-val |\n",
      "|--------+--------+-------+-----------+----------|\n",
      "|   cash |    N/A |   N/A |       N/A |  2032.97 |\n"
     ]
    },
    {
     "data": {
      "text/plain": [
       "nil"
      ]
     },
     "execution_count": 13,
     "metadata": {},
     "output_type": "execute_result"
    }
   ],
   "source": [
    "(print-portfolio)"
   ]
  },
  {
   "cell_type": "code",
   "execution_count": 14,
   "metadata": {},
   "outputs": [
    {
     "name": "stdout",
     "output_type": "stream",
     "text": [
      "\n",
      "|      :date | :tot-value | :daily-ret | :tot-ret | :loan | :leverage | :margin |\n",
      "|------------+------------+------------+----------+-------+-----------+---------|\n",
      "| 1980-12-15 |   $2000.00 |      0.00% |    0.00% | $0.00 |      0.00 |   0.00% |\n",
      "| 1980-12-16 |   $2000.00 |      0.00% |    0.00% | $0.00 |      0.00 |   0.00% |\n",
      "| 1980-12-17 |   $2016.40 |      0.35% |    0.35% | $0.00 |      0.00 |   0.00% |\n",
      "| 1980-12-18 |   $2032.97 |      0.36% |    0.71% | $0.00 |      0.00 |   0.00% |\n",
      "| 1980-12-19 |   $2049.70 |      0.36% |    1.07% | $0.00 |      0.00 |   0.00% |\n",
      "| 1980-12-22 |   $2049.70 |      0.00% |    1.07% | $0.00 |      0.00 |   0.00% |\n",
      "| 1980-12-23 |   $2032.97 |      0.00% |    0.71% | $0.00 |      0.00 |   0.00% |\n"
     ]
    },
    {
     "data": {
      "text/plain": [
       "nil"
      ]
     },
     "execution_count": 14,
     "metadata": {},
     "output_type": "execute_result"
    }
   ],
   "source": [
    "(print-portfolio-record -1)"
   ]
  },
  {
   "cell_type": "code",
   "execution_count": 15,
   "metadata": {},
   "outputs": [
    {
     "name": "stdout",
     "output_type": "stream",
     "text": [
      "\n",
      "|      :date | :tot-value |    :vol |  :r-vol | :sharpe | :r-sharpe | :pnl-pt | :max-drawdown |\n",
      "|------------+------------+---------+---------+---------+-----------+---------+---------------|\n",
      "| 1980-12-16 |      $2000 | 0.0000% | 0.0000% | 0.0000% |   0.0000% |      $0 |        0.0000 |\n",
      "| 1980-12-17 |      $2016 | 0.2048% | 0.2048% | 1.7321% |   1.7321% |     $16 |      100.0000 |\n",
      "| 1980-12-23 |      $2032 | 0.2688% | 0.2688% | 2.6419% |   2.6419% |     $32 |      199.9984 |\n",
      "| 1980-12-23 |      $2032 | 0.1899% | 0.1899% | 3.7385% |   3.7385% |     $16 |      100.0000 |\n"
     ]
    },
    {
     "data": {
      "text/plain": [
       "nil"
      ]
     },
     "execution_count": 15,
     "metadata": {},
     "output_type": "execute_result"
    }
   ],
   "source": [
    "(print-eval-report -1)"
   ]
  }
 ],
 "metadata": {
  "kernelspec": {
   "display_name": "Clojure (backtesting_clojure)",
   "language": "clojure",
   "name": "backtesting_clojure"
  },
  "language_info": {
   "file_extension": ".clj",
   "mimetype": "text/x-clojure",
   "name": "clojure",
   "version": "1.10.1"
  }
 },
 "nbformat": 4,
 "nbformat_minor": 2
}
