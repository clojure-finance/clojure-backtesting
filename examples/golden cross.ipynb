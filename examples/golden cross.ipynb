{
 "cells": [
  {
   "cell_type": "markdown",
   "metadata": {},
   "source": [
    "### Run this in Python kernel"
   ]
  },
  {
   "cell_type": "code",
   "execution_count": null,
   "metadata": {},
   "outputs": [],
   "source": [
    "%%html\n",
    "<style>\n",
    "body {\n",
    "    font-family: \"Arial\", cursive, sans-serif; # font style of application\n",
    "}\n",
    "pre {\n",
    "    font-family: \"Courier New\"; # font style of cell outputs\n",
    "}\n",
    "</style>  "
   ]
  },
  {
   "cell_type": "markdown",
   "metadata": {},
   "source": [
    "### Run below in the backtesting_clojure kernel"
   ]
  },
  {
   "cell_type": "code",
   "execution_count": 1,
   "metadata": {},
   "outputs": [
    {
     "data": {
      "text/plain": [
       "nil"
      ]
     },
     "execution_count": 1,
     "metadata": {},
     "output_type": "execute_result"
    }
   ],
   "source": [
    "; import libraries from kernel\n",
    "(ns clojure-backtesting.demo\n",
    "  (:require [clojure.test :refer :all]\n",
    "            [clojure-backtesting.data :refer :all]\n",
    "            [clojure-backtesting.data-management :refer :all]\n",
    "            [clojure-backtesting.order :refer :all]\n",
    "            [clojure-backtesting.evaluate :refer :all]\n",
    "            [clojure-backtesting.plot :refer :all]\n",
    "            [clojure-backtesting.counter :refer :all]\n",
    "            [clojure-backtesting.parameters :refer :all]\n",
    "            [clojure.string :as str]\n",
    "            [clojure.pprint :as pprint]\n",
    "            [java-time :as t]\n",
    "            [clojupyter.kernel.version :as ver]\n",
    "            [clojupyter.misc.helper :as helper]\n",
    "  ) ;; require all libriaries from core\n",
    "  (:use clojure.pprint)\n",
    ")"
   ]
  },
  {
   "cell_type": "markdown",
   "metadata": {},
   "source": [
    "### Import dataset"
   ]
  },
  {
   "cell_type": "code",
   "execution_count": 2,
   "metadata": {},
   "outputs": [],
   "source": [
    "; path to dataset = \"../resources/CRSP-extract.csv\"\n",
    "; change it to the relative to your own dataset\n",
    ";\n",
    "(reset! data-set (add-aprc (read-csv-row \"../resources/CRSP-extract.csv\")));"
   ]
  },
  {
   "cell_type": "markdown",
   "metadata": {},
   "source": [
    "### Initialise portfolio"
   ]
  },
  {
   "cell_type": "markdown",
   "metadata": {},
   "source": [
    "### Write a strategy\n",
    "\n",
    "The following code implements a trading strategy called Golden Rule:\n",
    "\n",
    "MA 50 cross above the MA 200 (golden cross)\n",
    "\n",
    "MA 200 cross below the MA 50 (death cross)\n",
    "\n",
    "So in the codes, MA50 and MA200 are compared on a daily basis, if golden cross occurs, then you set a buy order; if death cross occurs, then you set a sell order first \n",
    "\n"
   ]
  },
  {
   "cell_type": "markdown",
   "metadata": {},
   "source": [
    "#### Define your functions\n",
    "Take Moving Average function as an example"
   ]
  },
  {
   "cell_type": "code",
   "execution_count": 15,
   "metadata": {},
   "outputs": [
    {
     "name": "stdout",
     "output_type": "stream",
     "text": [
      "\"Elapsed time: 13.711902 msecs\"\n"
     ]
    },
    {
     "data": {
      "text/plain": [
       "\"F\""
      ]
     },
     "execution_count": 15,
     "metadata": {},
     "output_type": "execute_result"
    }
   ],
   "source": [
    "(time (nth (first (rest (available_tics (get-date)))) 0))"
   ]
  },
  {
   "cell_type": "code",
   "execution_count": 95,
   "metadata": {},
   "outputs": [
    {
     "name": "stdout",
     "output_type": "stream",
     "text": [
      "26.09360329290876\n",
      "Order: 1981-03-05 | AAPL | 0.\n",
      "26.01151389613127\n",
      "Order: 1981-03-06 | AAPL | 0.\n",
      "\"Elapsed time: 224.617141 msecs\"\n"
     ]
    },
    {
     "data": {
      "text/plain": [
       "\"1981-03-06\""
      ]
     },
     "execution_count": 95,
     "metadata": {},
     "output_type": "execute_result"
    }
   ],
   "source": [
    "(def MA50-vec [])\n",
    "(def MA200-vec [])\n",
    "(time ( do\n",
    "        ;; write your trading strategy here\n",
    "        (def tics (available_tics (get-date)))\n",
    "        (def MA50-vec (get-prev-n_days :PRC 50 \"AAPL\" MA50-vec (nth (first tics) 1)))\n",
    "        ;(println MA50-vec)\n",
    "        (def MA200-vec (get-prev-n_days :PRC 200 \"AAPL\" MA200-vec (nth (first tics) 1)))\n",
    "        (let [[MA50 MA200] [(moving-average :PRC MA50-vec) (moving-average :PRC MA200-vec)]]\n",
    "            (if (> MA50 MA200)\n",
    "                (order \"AAPL\" 1)\n",
    "                (order \"AAPL\" 0 :remaining true)))\n",
    "        ;(update-eval-report (get-date))\n",
    "        (next-date)\n",
    "          (def tics (available_tics (get-date)))\n",
    "        (def MA50-vec (get-prev-n_days :PRC 50 \"AAPL\" MA50-vec (nth (first tics) 1)))\n",
    "        ;(println MA50-vec)\n",
    "        (def MA200-vec (get-prev-n_days :PRC 200 \"AAPL\" MA200-vec (nth (first tics) 1)))\n",
    "        (let [[MA50 MA200] [(moving-average :PRC MA50-vec) (moving-average :PRC MA200-vec)]]\n",
    "            (if (> MA50 MA200)\n",
    "                (order \"AAPL\" 1)\n",
    "                (order \"AAPL\" 0 :remaining true)))\n",
    "        ;(update-eval-report (get-date))\n",
    "        (next-date)\n",
    "    ))"
   ]
  },
  {
   "cell_type": "code",
   "execution_count": 7,
   "metadata": {},
   "outputs": [
    {
     "name": "stdout",
     "output_type": "stream",
     "text": [
      "\"Elapsed time: 2.047113 msecs\"\n"
     ]
    },
    {
     "data": {
      "text/plain": [
       "#'clojure-backtesting.order/portfolio-value"
      ]
     },
     "execution_count": 7,
     "metadata": {},
     "output_type": "execute_result"
    }
   ],
   "source": [
    "(time (init-portfolio \"1980-12-15\" 100))"
   ]
  },
  {
   "cell_type": "code",
   "execution_count": 10,
   "metadata": {},
   "outputs": [],
   "source": [
    ";; initialise with current date and initial capital (= $10000)\n",
    "(init-portfolio \"1980-12-15\" 100);"
   ]
  },
  {
   "cell_type": "code",
   "execution_count": 11,
   "metadata": {
    "scrolled": true
   },
   "outputs": [
    {
     "name": "stdout",
     "output_type": "stream",
     "text": [
      "\"Elapsed time: 937600.983345 msecs\"\n"
     ]
    },
    {
     "data": {
      "text/plain": [
       "nil"
      ]
     },
     "execution_count": 11,
     "metadata": {},
     "output_type": "execute_result"
    }
   ],
   "source": [
    "(time (do (def MA50-vec [])\n",
    "(def MA200-vec [])\n",
    "(while (not= (get-date) \"2000-12-15\")\n",
    "    (do \n",
    "        ;; write your trading strategy here\n",
    "        (def tics (available-tics (get-date))) ;20 ms\n",
    "        (def MA50-vec (get-prev-n-days :PRC 50 \"AAPL\" MA50-vec (nth (first tics) 1)))\n",
    "        (def MA200-vec (get-prev-n-days :PRC 200 \"AAPL\" MA200-vec (nth (first tics) 1)))\n",
    "        (let [[MA50 MA200] [(moving-average :PRC MA50-vec) (moving-average :PRC MA200-vec)]]\n",
    "            (if (> MA50 MA200)\n",
    "                (order \"AAPL\" 1 :reference (nth (first tics) 1)) ;1ms\n",
    "                (order \"AAPL\" 0 :remaining true :reference (nth (first tics) 1)))) ;1ms\n",
    "        ;(update-eval-report (get-date))\n",
    "        (next-date) ; 20ms\n",
    "    )\n",
    ") ))"
   ]
  },
  {
   "cell_type": "code",
   "execution_count": 13,
   "metadata": {},
   "outputs": [
    {
     "data": {
      "text/plain": [
       "({:date \"2000-12-18\", :tic \"AAPL\", :price 14.25, :quantity -5007, :reference 5058})"
      ]
     },
     "execution_count": 13,
     "metadata": {},
     "output_type": "execute_result"
    }
   ],
   "source": [
    "774526.053076 msecs"
   ]
  },
  {
   "cell_type": "code",
   "execution_count": 17,
   "metadata": {
    "scrolled": true
   },
   "outputs": [
    {
     "name": "stdout",
     "output_type": "stream",
     "text": [
      "The order request 1980-12-14 | AAPL | 4 fails.\n",
      "Failure reason: No such date or ticker in the dataset.\n"
     ]
    },
    {
     "data": {
      "text/plain": [
       "nil"
      ]
     },
     "execution_count": 17,
     "metadata": {},
     "output_type": "execute_result"
    }
   ],
   "source": [
    "(order \"AAPL\" 4 :remaining true)"
   ]
  },
  {
   "cell_type": "code",
   "execution_count": 17,
   "metadata": {},
   "outputs": [
    {
     "data": {
      "text/plain": [
       "[{:date \"1980-12-15\", :tot-value 100, :daily-ret 0.0, :loan 0.0, :leverage 0.0} {:date \"1981-01-22\", :tot-value 182.38220770990057, :daily-ret 0.6009343414441662, :loan 0.0, :leverage 0.0} {:date \"1981-01-23\", :tot-value 264.31208010027797, :daily-ret 0.37102599915044043, :loan 0.0, :leverage 0.0} {:date \"1981-01-26\", :tot-value 348.6035865657647, :daily-ret 0.27680489493499144, :loan 0.0, :leverage 0.0} {:date \"1981-01-27\", :tot-value 437.67493582326995, :daily-ret 0.22754105767027955, :loan 0.0, :leverage 0.0} {:date \"1981-01-28\", :tot-value 521.5624197790875, :daily-ret 0.1753524808593537, :loan 0.0, :leverage 0.0} {:date \"1981-01-29\", :tot-value 608.6061027841563, :daily-ret -0.0041039878026873965, :leverage -0.026590167901067007, :loan -16.625} {:date \"1981-01-30\", :tot-value 689.0873168012478, :daily-ret 5.657960571701284E-4, :leverage 0.0045556438356153086, :loan 3.125} {:date \"1981-02-02\", :tot-value 768.650553479289, :daily-ret 0.0033138259420045493, :leverage 0.030327379396700667, :loan 22.625} {:date \"1981-02-03\", :tot-value 854.6688355570618, :daily-ret 0.005516587195483568, :leverage 0.05200519504330533, :loan 42.25} {:date \"1981-02-04\", :tot-value 935.6570200508099, :daily-ret 0.006397168813622329, :leverage 0.07065969100054807, :loan 61.75} {:date \"1981-02-05\", :tot-value 1025.2626510192854, :daily-ret 0.007897740763405119, :leverage 0.08635645828109231, :loan 81.5} {:date \"1981-02-06\", :tot-value 1122.2269613792407, :daily-ret 0.009010262614041288, :leverage 0.0997082774533962, :loan 101.75} {:date \"1981-02-09\", :tot-value 1192.5376332148242, :daily-ret 0.006893655518280006, :leverage 0.11344139200347786, :loan 121.5} {:date \"1981-02-10\", :tot-value 1272.5548953426176, :daily-ret 0.008100454103199572, :leverage 0.12473154596756061, :loan 141.125} {:date \"1981-02-11\", :tot-value 1376.9089420411356, :daily-ret 0.010463456850539494, :leverage 0.13276058727658205, :loan 161.375} {:date \"1981-02-12\", :tot-value 1448.24955971057, :daily-ret 0.007226332320363658, :leverage 0.14305450906502623, :loan 181.25} {:date \"1981-02-13\", :tot-value 1532.2964071924807, :daily-ret 0.008523202880010594, :leverage 0.1510887320094897, :loan 201.125} {:date \"1981-02-17\", :tot-value 1621.3183061852662, :daily-ret 0.00891832841889061, :leverage 0.15792462299540652, :loan 221.125} {:date \"1981-02-18\", :tot-value 1710.763138881804, :daily-ret 0.008815924021636844, :leverage 0.16417001904697107, :loan 241.25} {:date \"1981-02-19\", :tot-value 1761.6897382040233, :daily-ret 0.005093145707916161, :leverage 0.17362675530692273, :loan 260.625} {:date \"1981-02-20\", :tot-value 1845.0929751142244, :daily-ret 0.008275385574091451, :leverage 0.17890310956099265, :loan 280.0} {:date \"1981-02-23\", :tot-value 101.5, :daily-ret 4.549374352531671, :leverage -1.5686274509803921, :loan 280.0} {:date \"1981-02-27\", :tot-value 185.22709640815305, :daily-ret -1.777160599247218, :leverage -2.954430954293223, :loan 280.0} {:date \"1981-03-02\", :tot-value 270.72509845914715, :daily-ret -11.457368080264963, :leverage -30.188999717861506, :loan 280.0} {:date \"1981-03-03\", :tot-value 355.80670214469126, :daily-ret 1.0094019999134671, :leverage 3.693604814328523, :loan 280.0} {:date \"1981-03-04\", :tot-value 440.32560285958834, :daily-ret 0.3722145205456459, :leverage 1.7464459512759254, :loan 280.0} {:date \"1981-03-05\", :tot-value 523.5626688905115, :daily-ret 0.19904461201448972, :leverage 1.1496014609934666, :loan 280.0} {:date \"1981-03-06\", :tot-value 620.2686703300077, :daily-ret 0.12232247971963019, :leverage 0.7216836250619263, :loan 260.0} {:date \"1981-03-09\", :tot-value 725.2195252082552, :daily-ret 0.0997491002810039, :leverage 0.63810151555234, :loan 282.5} {:date \"1981-03-10\", :tot-value 800.3204123557794, :daily-ret 0.06043519808877675, :leverage 0.6133201908881301, :loan 304.25} {:date \"1981-03-11\", :tot-value 888.9403865887443, :daily-ret 0.06085299107293309, :leverage 0.5794528859217264, :loan 326.125} {:date \"1981-03-12\", :tot-value 983.0582963299389, :daily-ret 0.05523991141693787, :leverage 0.5488958067976283, :loan 348.375} {:date \"1981-03-13\", :tot-value 1072.7512313629736, :daily-ret 0.04611311164178113, :leverage 0.5281329767473039, :loan 370.75} {:date \"1981-03-16\", :tot-value 1165.8861474280652, :daily-ret 0.04239469608923649, :leverage 0.5092159528178593, :loan 393.375} {:date \"1981-03-17\", :tot-value 1263.0647507813837, :daily-ret 0.03937079087972395, :leverage 0.49176808815240813, :loan 416.375} {:date \"1981-03-18\", :tot-value 1409.3146768683657, :daily-ret 0.049980450665221804, :leverage 0.45618237721770905, :loan 441.5} {:date \"1981-03-19\", :tot-value 1499.247868073249, :daily-ret 0.027953508046341034, :leverage 0.4518832716446291, :loan 466.625} {:date \"1981-03-20\", :tot-value 1585.3229041816544, :daily-ret 0.02509353319338902, :leverage 0.44950712451794644, :loan 491.625} {:date \"1981-03-23\", :tot-value 1683.3346704636424, :daily-ret 0.02658182508072561, :leverage 0.4431143339868351, :loan 516.875} {:date \"1981-03-24\", :tot-value 1747.138779686521, :daily-ret 0.016703621176496347, :leverage 0.44898927063537164, :loan 541.375} {:date \"1981-03-25\", :tot-value 1831.7719630746024, :daily-ret 0.021138983618095155, :leverage 0.4468721842913734, :loan 565.75} {:date \"1981-03-26\", :tot-value 1906.0847139940843, :daily-ret 0.017816792966784286, :leverage 0.4480243464905313, :loan 589.75} {:date \"1981-03-27\", :tot-value 1952.4979378628454, :daily-ret 0.0110033542047461, :leverage 0.4573621520011097, :loan 612.75} {:date \"1981-03-30\", :tot-value 2045.8400658374817, :daily-ret 0.021060588469468813, :leverage 0.450986350943601, :loan 635.875} {:date \"1981-03-31\", :tot-value 2174.334948853917, :daily-ret 0.026541380617033657, :leverage 0.4357163756620749, :loan 659.875} {:date \"1981-04-01\", :tot-value 2220.689743684857, :daily-ret 0.009369823931160617, :leverage 0.44417282667392094, :loan 683.0} {:date \"1981-04-02\", :tot-value 2282.8355538762435, :daily-ret 0.012348127264617495, :leverage 0.447387952271696, :loan 705.625} {:date \"1981-04-03\", :tot-value 2336.210029546172, :daily-ret 0.010454283900829848, :leverage 0.4523385376807118, :loan 727.625} {:date \"1981-04-06\", :tot-value 2394.1869262747837, :daily-ret 0.011163006091581763, :leverage 0.4553779940043847, :loan 749.125} {:date \"1981-04-07\", :tot-value 2502.5375125220626, :daily-ret 0.019708290859501234, :leverage 0.44526901347750975, :loan 771.0} {:date \"1981-04-08\", :tot-value 2589.003137969279, :daily-ret 0.014994549770555825, :leverage 0.4414356544163005, :loan 792.875} {:date \"1981-04-09\", :tot-value 2707.0264704769306, :daily-ret 0.019210574941039643, :leverage 0.4309441483826414, :loan 815.25} {:date \"1981-04-10\", :tot-value 2794.0606861594947, :daily-ret 0.013548517771206057, :leverage 0.4281382750916118, :loan 837.625} {:date \"1981-04-13\", :tot-value 2855.8643415087495, :daily-ret 0.00942139523040065, :leverage 0.43062221153817104, :loan 859.625} {:date \"1981-04-14\", :tot-value 2968.5030603639784, :daily-ret 0.016352066552381535, :leverage 0.4227168494285075, :loan 882.0} {:date \"1981-04-15\", :tot-value 3082.1114022707416, :daily-ret 0.015605937112360859, :leverage 0.4155258741412648, :loan 904.75} {:date \"1981-04-16\", :tot-value 3160.4691789648823, :daily-ret 0.010426033074328074, :leverage 0.41528700792631634, :loan 927.375} {:date \"1981-04-20\", :tot-value 3275.764983962626, :daily-ret 0.01464391947735034, :leverage 0.40869488840770485, :loan 950.375} {:date \"1981-04-21\", :tot-value 3391.992275442846, :daily-ret 0.014039446488130618, :leverage 0.40266850426377554, :loan 973.75} {:date \"1981-04-22\", :tot-value 3509.1385157941286, :daily-ret 0.013484522784741913, :leverage 0.397151100258793, :loan 997.5} {:date \"1981-04-23\", :tot-value 3646.722180098741, :daily-ret 0.014972084311934567, :leverage 0.38930837869256807, :loan 1021.875} {:date \"1981-04-24\", :tot-value 3715.860643450261, :daily-ret 0.007358264287757106, :leverage 0.39178074801996193, :loan 1046.0} {:date \"1981-04-27\", :tot-value 3788.555798628083, :daily-ret 0.00762193977811694, :leverage 0.3933991260607703, :loan 1069.625} {:date \"1981-04-28\", :tot-value 3735.0222397801363, :daily-ret -0.005876923693805308, :leverage 0.4129629037861883, :loan 1091.625} {:date \"1981-04-29\", :tot-value 3810.746672717816, :daily-ret 0.008286033018509257, :leverage 0.41282838950655126, :loan 1113.5} {:date \"1981-04-30\", :tot-value 3850.4159654193663, :daily-ret 0.004327980770532932, :leverage 0.4179185710883721, :loan 1134.875} {:date \"1981-05-01\", :tot-value 3936.8884873607158, :daily-ret 0.009235194235731282, :leverage 0.4158217636904939, :loan 1156.25} {:date \"1981-05-04\", :tot-value 3985.7476452994097, :daily-ret 0.005170188818509639, :leverage 0.41917428770872095, :loan 1177.25} {:date \"1981-05-05\", :tot-value 4097.438886908052, :daily-ret 0.011425971435947578, :leverage 0.4134271354986359, :loan 1198.5} {:date \"1981-05-06\", :tot-value 4222.764453380313, :daily-ret 0.012242488911762382, :leverage 0.40635081865270467, :loan 1220.125} {:date \"1981-05-07\", :tot-value 4375.03816392405, :daily-ret 0.014049209011519357, :leverage 0.3965874832338408, :loan 1242.375} {:date \"1981-05-08\", :tot-value 4475.773005818616, :daily-ret 0.008966163496890152, :leverage 0.3938775890761846, :loan 1264.75} {:date \"1981-05-11\", :tot-value 4467.920804066136, :daily-ret -7.098633910493387E-4, :leverage 0.40426872521072527, :loan 1286.25} {:date \"1981-05-12\", :tot-value 69.375, :daily-ret 4.402610443600838, :leverage -1.0570107858243452, :loan 1286.25} {:date \"1981-06-25\", :tot-value 158.65467558636334, :daily-ret -0.943592414381363, :leverage -1.140701785606344, :loan 1286.25} {:date \"1981-06-26\", :tot-value 248.32321083693427, :daily-ret -0.555185126575583, :leverage -1.2392492547929803, :loan 1286.25} {:date \"1981-06-29\", :tot-value 336.4410182736893, :daily-ret -0.4115206895332078, :leverage -1.3550607664134469, :loan 1284.0} {:date \"1981-06-30\", :tot-value 426.49368306648057, :daily-ret -0.3519417276562245, :leverage -1.4838923572266396, :loan 1307.875} {:date \"1981-07-01\", :tot-value 512.2716631717028, :daily-ret -0.2978677667361856, :leverage -1.6254054160678957, :loan 1331.375} {:date \"1981-07-02\", :tot-value 596.8319703106353, :daily-ret -0.2731291727636196, :leverage -1.7877222568772362, :loan 1354.5} {:date \"1981-07-06\", :tot-value 671.4496622120454, :daily-ret -0.22997280560891215, :leverage -1.9521740569066093, :loan 1376.625} {:date \"1981-07-07\", :tot-value 756.7721640195832, :daily-ret -0.2606640791602328, :leverage -2.179043110191497, :loan 1398.625} {:date \"1981-07-08\", :tot-value 841.6738015692306, :daily-ret -0.26094565750611537, :leverage -2.454104537512393, :loan 1420.5} {:date \"1981-07-09\", :tot-value 933.874496897396, :daily-ret -0.2947617469206754, :leverage -2.8356237314797386, :loan 1442.625} {:date \"1981-07-10\", :tot-value 1024.049620592117, :daily-ret -0.3063107379319949, :leverage -3.3230278210560864, :loan 1464.875} {:date \"1981-07-13\", :tot-value 1108.4495436453828, :daily-ret -0.3110980484763929, :leverage -3.9281421407322608, :loan 1487.0} {:date \"1981-07-14\", :tot-value 1195.7995056158315, :daily-ret -0.3653431259814533, :leverage -4.816476881225827, :loan 1509.125} {:date \"1981-07-15\", :tot-value 1286.7792349229142, :daily-ret -0.4590909789960183, :leverage -6.260840205133469, :loan 1531.375} {:date \"1981-07-16\", :tot-value 1358.6035437766188, :daily-ret -0.43366919867898557, :leverage -7.984337718593107, :loan 1553.125} {:date \"1981-07-17\", :tot-value 1462.2658525102663, :daily-ret -1.0241173521363827, :leverage -13.927918607493602, :loan 1575.375} {:date \"1981-07-20\", :tot-value 1536.4126591207464, :daily-ret -1.2986249589572747, :leverage -26.2544348078942, :loan 1597.25} {:date \"1981-07-21\", :tot-value 1628.2068178790994, :daily-ret 10.49072619911502, :leverage 180.78407106819682, :loan 1619.25} {:date \"1981-07-22\", :tot-value 1715.412752205716, :daily-ret 1.154639951905064, :leverage 22.130381508057106, :loan 1641.25} {:date \"1981-07-23\", :tot-value 1818.334469242986, :daily-ret 0.6265603779820259, :leverage 10.753220265962637, :loan 1663.625} {:date \"1981-07-24\", :tot-value 1911.44163526481, :daily-ret 0.37369482878844845, :leverage 7.483357800094663, :loan 1686.125} {:date \"1981-07-27\", :tot-value 1996.0785223785256, :daily-ret 0.25714257157676024, :leverage 5.934957334608649, :loan 1708.25} {:date \"1981-07-28\", :tot-value 2065.712742167846, :daily-ret 0.17670788906644277, :leverage 5.153215182803676, :loan 1730.0} {:date \"1981-07-29\", :tot-value 2140.377874146963, :daily-ret 0.1599232990826865, :leverage 4.503984712018045, :loan 1751.5} {:date \"1981-07-30\", :tot-value 2234.3620943691676, :daily-ret 0.16520175141541513, :leverage 3.844281003515333, :loan 1773.125} {:date \"1981-07-31\", :tot-value 2321.766578143934, :daily-ret 0.13067746394416987, :leverage 3.4054905944720275, :loan 1794.75} {:date \"1981-08-03\", :tot-value 2401.8943622448596, :daily-ret 0.10522470881006259, :leverage 3.101284870288943, :loan 1816.25} {:date \"1981-08-04\", :tot-value 2496.701069500464, :daily-ret 0.10799332527579089, :leverage 2.789620941067975, :loan 1837.875} {:date \"1981-08-05\", :tot-value 2552.646181790781, :daily-ret 0.05939037515592065, :leverage 2.680040702019917, :loan 1859.0} {:date \"1981-08-06\", :tot-value 2639.448636335291, :daily-ret 0.08279796417524514, :leverage 2.476052252336053, :loan 1880.125} {:date \"1981-08-07\", :tot-value 2717.764011917202, :daily-ret 0.06806904148658352, :leverage 2.327986995792399, :loan 1901.125} {:date \"1981-08-10\", :tot-value 2786.792800073594, :daily-ret 0.05573281200641414, :leverage 2.2220319663168815, :loan 1921.875} {:date \"1981-08-11\", :tot-value 2863.9975391027883, :daily-ret 0.05760479478313959, :leverage 2.1079817553189626, :loan 1942.5} {:date \"1981-08-12\", :tot-value 2959.600935104807, :daily-ret 0.06470147539740695, :leverage 1.9704402643968857, :loan 1963.25} {:date \"1981-08-13\", :tot-value 3065.2376875263426, :daily-ret 0.06437537473818429, :leverage 1.8355898248393747, :loan 1984.25} {:date \"1981-08-14\", :tot-value 3151.887335741381, :daily-ret 0.04875035329628963, :leverage 1.7488092681924283, :loan 2005.25} {:date \"1981-08-17\", :tot-value 3228.3487614870505, :daily-ret 0.040395906453569747, :leverage 1.6853143856463562, :loan 2026.125} {:date \"1981-08-18\", :tot-value 3293.8013120031196, :daily-ret 0.03294282490173188, :leverage 1.641271678478359, :loan 2046.75} {:date \"1981-08-19\", :tot-value 3379.9868728453066, :daily-ret 0.04068170680722875, :leverage 1.575008608994689, :loan 2067.375} {:date \"1981-08-20\", :tot-value 3455.031970659071, :daily-ret 0.03353637928218298, :leverage 1.5271655302269276, :loan 2087.875} {:date \"1981-08-21\", :tot-value 3541.0608949255475, :daily-ret 0.03619409203055316, :leverage 1.4716240366905868, :loan 2108.375} {:date \"1981-08-24\", :tot-value 3603.561125227997, :daily-ret 0.02525046496889197, :leverage 1.4431980908128854, :loan 2128.625} {:date \"1981-08-25\", :tot-value 3689.2738901143775, :daily-ret 0.032792691691106955, :leverage 1.395012041225531, :loan 2148.875} {:date \"1981-08-26\", :tot-value 3774.986655000759, :daily-ret 0.03102303277125219, :leverage 1.3507545891298927, :loan 2169.125} {:date \"1981-08-27\", :tot-value 3809.7061158679508, :daily-ret 0.012363778149883554, :leverage 1.3504645725090632, :loan 2188.875} {:date \"1981-08-28\", :tot-value 3920.9363581567895, :daily-ret 0.03712949796784676, :leverage 1.2901844840292882, :loan 2208.875} {:date \"1981-08-31\", :tot-value 3979.5925729549153, :daily-ret 0.018899692405983402, :leverage 1.2727962724283892, :loan 2228.625} {:date \"1981-09-01\", :tot-value 4091.9711402667926, :daily-ret 0.03396987998210801, :leverage 1.2198604216973326, :loan 2248.625} {:date \"1981-09-02\", :tot-value 4205.050292472752, :daily-ret 0.03194354529519272, :leverage 1.1718334640570416, :loan 2268.875} {:date \"1981-09-03\", :tot-value 4276.659395376273, :daily-ret 0.019445941341551257, :leverage 1.1516057556564825, :loan 2289.0} {:date \"1981-09-04\", :tot-value -1.0, :daily-ret ##NaN, :leverage -0.9995633187772925, :loan 2289.0} {:date \"1982-04-06\", :tot-value 87.2740000977369, :daily-ret ##NaN, :leverage -1.0392533613008352, :loan 2310.625} {:date \"1982-04-07\", :tot-value 173.82632691163403, :daily-ret -0.744505142539624, :leverage -1.0805525835225016, :loan 2331.75} {:date \"1982-04-08\", :tot-value 262.91124129654673, :daily-ret -0.46580334143512864, :leverage -1.1257819877042763, :loan 2353.125} {:date \"1982-04-12\", :tot-value 346.90852370279566, :daily-ret -0.3246911998763093, :leverage -1.1711360970924103, :loan 2374.0} {:date \"1982-04-13\", :tot-value 435.5405317784375, :daily-ret -0.2781004370584606, :leverage -1.222275856603322, :loan 2395.0} {:date \"1982-04-14\", :tot-value 519.9211312614166, :daily-ret -0.2256550715441711, :leverage -1.2742447590258257, :loan 2415.75} {:date \"1982-04-15\", :tot-value 618.108631860974, :daily-ret -0.23176472048345534, :leverage -1.3397804275614362, :loan 2437.25} {:date \"1982-04-16\", :tot-value 708.317030369515, :daily-ret -0.19134843547711855, :leverage -1.4046235786861887, :loan 2458.875} {:date \"1982-04-19\", :tot-value 798.9448253788609, :daily-ret -0.1776006717019183, :leverage -1.4750872594183093, :loan 2480.625} {:date \"1982-04-20\", :tot-value 874.1311420242071, :daily-ret -0.1382410264853918, :leverage -1.5370613259613681, :loan 2501.75} {:date \"1982-04-21\", :tot-value 973.5138470174197, :daily-ret -0.17531967181433314, :leverage -1.6281297167452533, :loan 2523.375} {:date \"1982-04-22\", :tot-value 1074.444634127422, :daily-ret -0.17069805672879068, :leverage -1.7303903435953272, :loan 2545.5} {:date \"1982-04-23\", :tot-value 1173.510822129727, :daily-ret -0.162416072642105, :leverage -1.841534549534451, :loan 2568.0} {:date \"1982-04-26\", :tot-value 1291.6615526932671, :daily-ret -0.19125544962504756, :leverage -1.9937092993129968, :loan 2591.5} {:date \"1982-04-27\", :tot-value 1366.7126215802518, :daily-ret -0.11834073159472971, :leverage -2.095308900552525, :loan 2614.5} {:date \"1982-04-28\", :tot-value 1448.290926870292, :daily-ret -0.1285972690441476, :leverage -2.218116720416576, :loan 2637.25} {:date \"1982-04-29\", :tot-value 1533.4472833480615, :daily-ret -0.13491292946772757, :leverage -2.361336604807542, :loan 2659.875} {:date \"1982-04-30\", :tot-value 1622.900064721477, :daily-ret -0.1435334672109783, :leverage -2.5316158586730064, :loan 2682.5} {:date \"1982-05-03\", :tot-value 1746.8608081163707, :daily-ret -0.207662105881023, :leverage -2.821279771380997, :loan 2706.0} {:date \"1982-05-04\", :tot-value 1872.894524876077, :daily-ret -0.22182534949280708, :leverage -3.18418328954418, :loan 2730.375} {:date \"1982-05-05\", :tot-value 1958.9860656371402, :daily-ret -0.1555958667047433, :leverage -3.462154604344341, :loan 2754.625} {:date \"1982-05-06\", :tot-value 2055.7971024642607, :daily-ret -0.1853554494806228, :leverage -3.842628409633366, :loan 2779.0} {:date \"1982-05-07\", :tot-value 2129.69234196998, :daily-ret -0.14701270857179918, :leverage -4.163030030285244, :loan 2803.0} {:date \"1982-05-10\", :tot-value 2177.3991886338217, :daily-ret -0.09651049796032293, :leverage -4.356424471608965, :loan 2826.125} {:date \"1982-05-11\", :tot-value 2299.7477576759875, :daily-ret -0.28320332248778274, :leverage -5.180392426960539, :loan 2849.875} {:date \"1982-05-12\", :tot-value 2430.16979091555, :daily-ret -0.3569416896700819, :leverage -6.470826863837022, :loan 2874.375} {:date \"1982-05-13\", :tot-value 2487.3567036838936, :daily-ret -0.16406135971453345, :leverage -7.05353439928193, :loan 2898.25} {:date \"1982-05-14\", :tot-value 2585.3768243681347, :daily-ret -0.33528040807964804, :leverage -8.674629538308603, :loan 2922.25} {:date \"1982-05-17\", :tot-value 2654.0094746351538, :daily-ret -0.2644458175341553, :leverage -10.093261258990802, :loan 2945.875} {:date \"1982-05-18\", :tot-value 2721.237535820525, :daily-ret -0.299625463763475, :leverage -11.97771339437439, :loan 2969.125} {:date \"1982-05-19\", :tot-value 2819.470688282671, :daily-ret -0.613313868811874, :leverage -17.294757577772277, :loan 2992.5} {:date \"1982-05-20\", :tot-value 2909.7721620982406, :daily-ret -0.8960864432601751, :leverage -28.424074790463187, :loan 3015.875} {:date \"1982-05-21\", :tot-value 2991.4725689814854, :daily-ret -1.766045306906683, :leverage -63.776914105792386, :loan 3039.125} {:date \"1982-05-24\", :tot-value 3099.3375955601477, :daily-ret 2.9550152609094678, :leverage 83.42164189896016, :loan 3062.625} {:date \"1982-05-25\", :tot-value 3162.3905730985657, :daily-ret 0.810882744344785, :leverage 40.262616460754884, :loan 3085.75} {:date \"1982-05-26\", :tot-value 3242.9613086229365, :daily-ret 0.5827522043488527, :leverage 23.163100277443537, :loan 3108.75} {:date \"1982-05-27\", :tot-value 3313.3144335143406, :daily-ret 0.36965527352572325, :leverage 17.223605076177865, :loan 3131.5} {:date \"1982-05-28\", :tot-value 3402.9107695552684, :daily-ret 0.33846175236164666, :leverage 12.68495229722565, :loan 3154.25} {:date \"1982-06-01\", :tot-value 3471.7811580559, :daily-ret 0.21574412156411024, :leverage 10.767506798038246, :loan 3176.75} {:date \"1982-06-02\", :tot-value 3582.353248854515, :daily-ret 0.26200955959206096, :leverage 8.356987983183643, :loan 3199.5} {:date \"1982-06-03\", :tot-value 3661.064988998246, :daily-ret 0.15954392740924078, :leverage 7.340695951065136, :loan 3222.125} {:date \"1982-06-04\", :tot-value 3694.2222050289283, :daily-ret 0.06498342915870815, :leverage 7.20760974241441, :loan 3244.125} {:date \"1982-06-07\", :tot-value 3782.944757529617, :daily-ret 0.1499826499605415, :leverage 6.319659711950601, :loan 3266.125} {:date \"1982-06-08\", :tot-value 3847.795696995503, :daily-ret 0.09981109463787124, :leverage 5.872036911017073, :loan 3287.875} {:date \"1982-06-09\", :tot-value 3936.220031018128, :daily-ret 0.1200075618279509, :leverage 5.2819202773158445, :loan 3309.625} {:date \"1982-06-10\", :tot-value 4037.1480853025496, :daily-ret 0.11952945205538494, :leverage 4.721191865165489, :loan 3331.5} {:date \"1982-06-11\", :tot-value 4214.026025032285, :daily-ret 0.16728790809432073, :leverage 3.9013067384311455, :loan 3354.25} {:date \"1982-06-14\", :tot-value 4252.326450995355, :daily-ret 0.03488099892994722, :leverage 3.8552158320437697, :loan 3376.5} {:date \"1982-06-15\", :tot-value 4354.499972258293, :daily-ret 0.08444878726591332, :leverage 3.5567038311775376, :loan 3398.875} {:date \"1982-06-16\", :tot-value 4510.165719114334, :daily-ret 0.11043953126428539, :leverage 3.1442655348423525, :loan 3421.875} {:date \"1982-06-17\", :tot-value 4600.046533496621, :daily-ret 0.05884500176089384, :leverage 2.982132869542423, :loan 3444.875} {:date \"1982-06-18\", :tot-value 4676.175962101627, :daily-ret 0.04710303520656418, :leverage 2.8696420871073327, :loan 3467.75} {:date \"1982-06-21\", :tot-value 4751.854714850046, :daily-ret 0.04442656238039854, :leverage 2.767262815848723, :loan 3490.5} {:date \"1982-06-22\", :tot-value 4884.306223410606, :daily-ret 0.07047403826709106, :leverage 2.563415139850825, :loan 3513.625} {:date \"1982-06-23\", :tot-value 5116.994365486627, :daily-ret 0.10428056964186593, :leverage 2.24066664032055, :loan 3538.0} {:date \"1982-06-24\", :tot-value 5194.049397580606, :daily-ret 0.03262827264792456, :leverage 2.183019558213825, :loan 3562.25} {:date \"1982-06-25\", :tot-value 5196.835645741374, :daily-ret 0.0011935995312456363, :leverage 2.225673110227448, :loan 3585.75} {:date \"1982-06-28\", :tot-value 5317.465934489679, :daily-ret 0.04849453858506655, :leverage 2.113332547864005, :loan 3609.5} {:date \"1982-06-29\", :tot-value 5438.711972827888, :daily-ret 0.04537900096225886, :leverage 2.012783016449905, :loan 3633.5} {:date \"1982-06-30\", :tot-value 5529.69861643514, :daily-ret 0.03241203638495391, :leverage 1.9535854625105207, :loan 3657.5} {:date \"1982-07-01\", :tot-value 5525.385381486879, :daily-ret -0.001557029613828454, :leverage 1.9953807874123668, :loan 3680.75} {:date \"1982-07-02\", :tot-value 5483.567259609323, :daily-ret -0.01579959423803003, :leverage 2.079674317280484, :loan 3703.0} {:date \"1982-07-06\", :tot-value 5555.579155997953, :daily-ret 0.026551368152395453, :leverage 2.035082379852929, :loan 3725.125} {:date \"1982-07-07\", :tot-value 5831.538846060539, :daily-ret 0.08724640805225524, :leverage 1.7997023770761604, :loan 3748.625} {:date \"1982-07-08\", :tot-value 5904.969903807257, :daily-ret 0.022129085987220177, :leverage 1.7684262648371865, :loan 3772.0} {:date \"1982-07-09\", :tot-value 5960.56721400843, :daily-ret 0.016424003869122985, :leverage 1.7525865966078493, :loan 3795.125} {:date \"1982-07-12\", :tot-value 6138.274704593386, :daily-ret 0.04837077071157542, :leverage 1.6464928371065253, :loan 3818.875} {:date \"1982-07-13\", :tot-value 6228.989625557466, :daily-ret 0.02362294665942751, :leverage 1.6102421896663612, :loan 3842.625} {:date \"1982-07-14\", :tot-value 6301.750022298348, :daily-ret 0.018435504358366814, :leverage 1.5874563599270564, :loan 3866.25} {:date \"1982-07-15\", :tot-value 6318.905150760797, :daily-ret 0.004352109983288889, :leverage 1.6008753786332135, :loan 3889.375} {:date \"1982-07-16\", :tot-value 6575.254132481572, :daily-ret 0.05847328036264297, :leverage 1.4703870468802422, :loan 3913.625} {:date \"1982-07-19\", :tot-value 6666.509472375677, :daily-ret 0.019891424801315002, :leverage 1.4431669173231183, :loan 3937.875} {:date \"1982-07-20\", :tot-value 6738.984998805818, :daily-ret 0.01542707906273806, :leverage 1.426727188552971, :loan 3962.0} {:date \"1982-07-21\", :tot-value 6849.142523801924, :daily-ret 0.022576340868152918, :leverage 1.3923854866567804, :loan 3986.25} {:date \"1982-07-22\", :tot-value 6901.749099173439, :daily-ret 0.010611815045643699, :leverage 1.386910340434263, :loan 4010.25} {:date \"1982-07-23\", :tot-value 7031.905462497105, :daily-ret 0.02514706007878259, :leverage 1.3459974135894526, :loan 4034.5} {:date \"1982-07-26\", :tot-value 7063.541521654288, :daily-ret 0.006062027237934538, :leverage 1.3504659295106018, :loan 4058.375} {:date \"1982-07-27\", :tot-value 7174.586563685525, :daily-ret 0.02059343411235546, :leverage 1.3202120605015542, :loan 4082.375} {:date \"1982-07-28\", :tot-value 7183.395156211711, :daily-ret 0.0016369974093664846, :leverage 1.3341504820732508, :loan 4105.875} {:date \"1982-07-29\", :tot-value 7168.37186500405, :daily-ret -0.0028437334797806095, :leverage 1.3583104028614095, :loan 4128.75} {:date \"1982-07-30\", :tot-value 7214.930833112028, :daily-ret 0.008772884356534623, :leverage 1.3550838392205637, :loan 4151.375} {:date \"1982-08-02\", :tot-value 7391.543074084113, :daily-ret 0.03138153372681946, :leverage 1.2976201760022978, :loan 4174.5} {:date \"1982-08-03\", :tot-value 7459.611624010402, :daily-ret 0.011795360012084432, :leverage 1.2867432153776646, :loan 4197.5} {:date \"1982-08-04\", :tot-value 7482.415704610281, :daily-ret 0.0039485353463889926, :leverage 1.2936078915456872, :loan 4220.125} {:date \"1982-08-05\", :tot-value 7457.297078257738, :daily-ret -0.004436732880460825, :leverage 1.3194083852266953, :loan 4242.125} {:date \"1982-08-06\", :tot-value 7546.0196909431215, :daily-ret 0.015366939719780403, :leverage 1.2992875767060685, :loan 4264.125} {:date \"1982-08-09\", :tot-value 7611.058333122794, :daily-ret 0.011062200832327227, :leverage 1.2889999424385195, :loan 4286.0} {:date \"1982-08-10\", :tot-value 7794.998170307463, :daily-ret 0.02950824834296256, :leverage 1.2356870213823745, :loan 4308.375} {:date \"1982-08-11\", :tot-value 7884.16150178823, :daily-ret 0.013861677538749154, :leverage 1.2187583672255744, :loan 4330.75} {:date \"1982-08-12\", :tot-value 7949.05390127817, :daily-ret 0.0099224658928018, :leverage 1.2104935352756485, :loan 4353.0} {:date \"1982-08-13\", :tot-value 8087.0739149212095, :daily-ret 0.02029330819237677, :leverage 1.1788799308050113, :loan 4375.5} {:date \"1982-08-16\", :tot-value 8250.116236101845, :daily-ret 0.022793055661387795, :leverage 1.1419186104130339, :loan 4398.375} {:date \"1982-08-17\", :tot-value 8678.829377160713, :daily-ret 0.05264928518878979, :leverage 1.0392803865061937, :loan 4423.0} {:date \"1982-08-18\", :tot-value 8600.958620625215, :daily-ret -0.00964768979045892, :leverage 1.0704204834399378, :loan 4446.75} {:date \"1982-08-19\", :tot-value 8814.415790737425, :daily-ret 0.025236410401737366, :leverage 1.0294325697775513, :loan 4471.125} {:date \"1982-08-20\", :tot-value 9148.56706678527, :daily-ret 0.035968380350646, :leverage 0.9666652698162888, :loan 4496.75} {:date \"1982-08-23\", :tot-value 9526.795989567858, :daily-ret 0.036632117201411726, :leverage 0.9042467409405887, :loan 4523.875} {:date \"1982-08-24\", :tot-value 9549.67699766894, :daily-ret 0.002183688420662601, :leverage 0.9102975928479957, :loan 4550.625} {:date \"1982-08-25\", :tot-value 9857.747984473202, :daily-ret 0.027535978683914487, :leverage 0.867263673437169, :loan 4578.5} {:date \"1982-08-26\", :tot-value 9976.323496854091, :daily-ret 0.010257212908831727, :leverage 0.8578494251624316, :loan 4606.5} {:date \"1982-08-27\", :tot-value 9999.143141285942, :daily-ret 0.0019735070109553167, :leverage 0.86376688353364, :loan 4634.125} {:date \"1982-08-30\", :tot-value 10020.336540559463, :daily-ret 0.0018416682229719832, :leverage 0.8698280375255992, :loan 4661.375} {:date \"1982-08-31\", :tot-value 10164.078095950308, :daily-ret 0.01219753126713048, :leverage 0.8563837574295811, :loan 4688.875} {:date \"1982-09-01\", :tot-value 10233.618305646512, :daily-ret 0.005828427426545999, :leverage 0.8548006474705264, :loan 4716.25} {:date \"1982-09-02\", :tot-value 10626.12118851999, :daily-ret 0.03036770611727971, :leverage 0.8068573499950111, :loan 4745.125} {:date \"1982-09-03\", :tot-value 10697.11150035727, :daily-ret 0.005366481145223425, :leverage 0.8059571823127534, :loan 4773.875} {:date \"1982-09-07\", :tot-value 10666.936446320635, :daily-ret -0.002312882884538254, :leverage 0.8187642004224159, :loan 4802.0} {:date \"1982-09-08\", :tot-value 10529.335578800508, :daily-ret -0.010999034547246645, :leverage 0.8471431081985775, :loan 4829.0} {:date \"1982-09-09\", :tot-value 10596.92242026399, :daily-ret 0.005411870721474905, :leverage 0.8458169118862133, :loan 4855.875} {:date \"1982-09-10\", :tot-value 10583.406811962255, :daily-ret -0.001092924023966344, :leverage 0.8563612896519506, :loan 4882.25} {:date \"1982-09-13\", :tot-value 10865.77237990978, :daily-ret 0.021702954492245803, :leverage 0.8242571338005809, :loan 4909.5} {:date \"1982-09-14\", :tot-value 11094.092041831784, :daily-ret 0.016676550511916056, :leverage 0.8019493126698904, :loan 4937.375} {:date \"1982-09-15\", :tot-value 11162.014575016841, :daily-ret 0.00489049089584722, :leverage 0.8012285744153358, :loan 4965.125} {:date \"1982-09-16\", :tot-value 11256.734836742655, :daily-ret 0.006735545105981183, :leverage 0.7970923887397208, :loan 4992.875} {:date \"1982-09-17\", :tot-value 11213.426927789913, :daily-ret -0.0031243828746756637, :leverage 0.8105367284588851, :loan 5020.0} {:date \"1982-09-20\", :tot-value 11279.504059495168, :daily-ret 0.00475781018491262, :leverage 0.8097868772842495, :loan 5047.0} {:date \"1982-09-21\", :tot-value 11373.525646214954, :daily-ret 0.0066861541591795165, :leverage 0.8054574717143494, :loan 5074.0} {:date \"1982-09-22\", :tot-value 11410.222138145657, :daily-ret 0.002604178609013859, :leverage 0.8084273752731242, :loan 5100.75} {:date \"1982-09-23\", :tot-value 11328.699083041185, :daily-ret -0.00592729291373289, :leverage 0.8266352934142518, :loan 5126.75} {:date \"1982-09-24\", :tot-value 11421.75327701632, :daily-ret 0.006723863803888647, :leverage 0.8219408687966756, :loan 5152.75} {:date \"1982-09-27\", :tot-value 11514.807470991456, :daily-ret 0.006632020667507494, :leverage 0.8173458059226911, :loan 5178.75} {:date \"1982-09-28\", :tot-value 11728.016699113336, :daily-ret 0.014640942199355632, :leverage 0.798012598044871, :loan 5205.25} {:date \"1982-09-29\", :tot-value 11700.416809660472, :daily-ret -0.0019052475566572061, :leverage 0.8086435477576682, :loan 5231.25} {:date \"1982-09-30\", :tot-value 11700.994736547464, :daily-ret 4.029256267094391E-5, :leverage 0.815763085559371, :loan 5256.875} {:date \"1982-10-01\", :tot-value 12131.832033684825, :daily-ret 0.027900151105493497, :leverage 0.7715987372597158, :loan 5283.875} {:date \"1982-10-04\", :tot-value 12041.178877704118, :daily-ret -0.005917058858445032, :leverage 0.7888994942663006, :loan 5310.125} {:date \"1982-10-05\", :tot-value 12258.908121051154, :daily-ret 0.013816686730417098, :leverage 0.7709981889236558, :loan 5336.875} {:date \"1982-10-06\", :tot-value 12721.12760218446, :daily-ret 0.026994340962589673, :leverage 0.7293533308983273, :loan 5365.125} {:date \"1982-10-07\", :tot-value 12937.577578893155, :daily-ret 0.012063669334783015, :leverage 0.7150169222063117, :loan 5393.875} {:date \"1982-10-08\", :tot-value 13093.855710001222, :daily-ret 0.008488169520297427, :leverage 0.7069337292075052, :loan 5422.875} {:date \"1982-10-11\", :tot-value 13638.888388297502, :daily-ret 0.027173049657051845, :leverage 0.6662990582782771, :loan 5453.75} {:date \"1982-10-12\", :tot-value 13617.154306983579, :daily-ret -0.0010753840289672383, :leverage 0.6743028695704998, :loan 5484.125} {:date \"1982-10-13\", :tot-value 13714.152635066788, :daily-ret 0.004773603624446444, :leverage 0.6725284893675356, :loan 5514.5} {:date \"1982-10-14\", :tot-value 13347.20707329203, :daily-ret -0.019263035933327545, :leverage 0.7102579349758091, :loan 5543.0} {:date \"1982-10-15\", :tot-value 13537.456266583813, :daily-ret 0.009900094925007433, :leverage 0.6994938364855326, :loan 5571.875} {:date \"1982-10-18\", :tot-value 14161.807741587978, :daily-ret 0.029515883976847738, :leverage 0.6546230901868815, :loan 5602.875} {:date \"1982-10-19\", :tot-value 14166.877595218444, :daily-ret 2.362959817363715E-4, :leverage 0.6601723569758182, :loan 5633.5} {:date \"1982-10-20\", :tot-value 14510.964359571404, :daily-ret 0.015368900054743489, :leverage 0.6404282024260596, :loan 5665.125} {:date \"1982-10-21\", :tot-value 14454.069349081587, :daily-ret -0.0025551007402953158, :leverage 0.6503952038239809, :loan 5696.125} {:date \"1982-10-22\", :tot-value 14645.394988220552, :daily-ret 0.008445535190749507, :leverage 0.6422479752862448, :loan 5727.5} {:date \"1982-10-25\", :tot-value 14166.220366600395, :daily-ret -0.0227713659300321, :leverage 0.6845305569472522, :loan 5756.625} {:date \"1982-10-26\", :tot-value 14360.743918477117, :daily-ret 0.009202934762437843, :leverage 0.6747967524867725, :loan 5786.125} {:date \"1982-10-27\", :tot-value 14522.797690066363, :daily-ret 0.007495379511772701, :leverage 0.6679598759542531, :loan 5815.875} {:date \"1982-10-28\", :tot-value 14619.27617041648, :daily-ret 0.004411559796455978, :leverage 0.6662705054550865, :loan 5845.625} {:date \"1982-10-29\", :tot-value 15270.352596148281, :daily-ret 0.027264986000575142, :leverage 0.6257417477636327, :loan 5877.5} {:date \"1982-11-01\", :tot-value 15400.730323657965, :daily-ret 0.005293405116810145, :leverage 0.6226273937605226, :loan 5909.5} {:date \"1982-11-02\", :tot-value 15368.974296434604, :daily-ret -0.0013006910467547915, :leverage 0.6301459691342943, :loan 5941.0} {:date \"1982-11-03\", :tot-value 16015.493141805018, :daily-ret 0.024518689404394764, :leverage 0.595030720015606, :loan 5974.625} {:date \"1982-11-04\", :tot-value 15857.611037811395, :daily-ret -0.006041790309187906, :leverage 0.6098507432306991, :loan 6007.25} {:date \"1982-11-05\", :tot-value 15890.892604697594, :daily-ret 0.001285371054404912, :leverage 0.6130810005729612, :loan 6039.625} {:date \"1982-11-08\", :tot-value 15655.458229063417, :daily-ret -0.009454144935934106, :leverage 0.6333786960349873, :loan 6070.75} {:date \"1982-11-09\", :tot-value 16022.648892005673, :daily-ret 0.014263120622693859, :leverage 0.6152231962583639, :loan 6102.875} {:date \"1982-11-10\", :tot-value 15883.86344164185, :daily-ret -0.005473397581648476, :leverage 0.6291579037444431, :loan 6134.125} {:date \"1982-11-11\", :tot-value 16050.159168545677, :daily-ret 0.006496542482175758, :leverage 0.6237648527353066, :loan 6165.625} {:date \"1982-11-12\", :tot-value 16079.017481689516, :daily-ret 0.001126478954337986, :leverage 0.6270780867086366, :loan 6196.875} {:date \"1982-11-15\", :tot-value 15895.575652376832, :daily-ret -0.007390244466353503, :leverage 0.6440664821999337, :loan 6227.125} {:date \"1982-11-16\", :tot-value 15920.909719973348, :daily-ret 0.0010311228084175176, :leverage 0.6474818284256292, :loan 6257.125} {:date \"1982-11-17\", :tot-value 16374.38687775175, :daily-ret 0.017510302005683015, :leverage 0.6234748755225269, :loan 6288.375} {:date \"1982-11-18\", :tot-value 16857.753398236146, :daily-ret 0.01745250831482647, :leverage 0.5999001553038279, :loan 6321.0} {:date \"1982-11-19\", :tot-value 16746.00041059022, :daily-ret -0.004065622838691357, :leverage 0.6112574176702082, :loan 6352.875} {:date \"1982-11-22\", :tot-value 16665.49344101637, :daily-ret -0.0029923947279578453, :leverage 0.6209411749637574, :loan 6384.125} {:date \"1982-11-23\", :tot-value 16471.199834854186, :daily-ret -0.007479589689352426, :leverage 0.6378131373800549, :loan 6414.375} {:date \"1982-11-24\", :tot-value 16752.357209347076, :daily-ret 0.010583923418687996, :leverage 0.625320943024157, :loan 6445.25} {:date \"1982-11-26\", :tot-value 17105.77387485606, :daily-ret 0.012722150874622988, :leverage 0.6093835541390437, :loan 6477.0} {:date \"1982-11-29\", :tot-value 17167.321992070873, :daily-ret 0.0021931939178757754, :leverage 0.6106398375750658, :loan 6508.625} {:date \"1982-11-30\", :tot-value 17665.359868503092, :daily-ret 0.01681783424917502, :leverage 0.5880781120127775, :loan 6541.625} {:date \"1982-12-01\", :tot-value 17944.18680634205, :daily-ret 0.009057317109313581, :leverage 0.5783522339865642, :loan 6575.25} {:date \"1982-12-02\", :tot-value 18115.497603193955, :daily-ret 0.005457598832757634, :leverage 0.5743882305849742, :loan 6609.125} {:date \"1982-12-03\", :tot-value 18070.3861839046, :daily-ret -0.001449249583695487, :leverage 0.5812536013314089, :loan 6642.5} {:date \"1982-12-06\", :tot-value 18531.553297105977, :daily-ret 0.01419436934141219, :leverage 0.5632599761584528, :loan 6677.125} {:date \"1982-12-07\", :tot-value 18846.58075320262, :daily-ret 0.009324992386855519, :leverage 0.553193944933021, :loan 6712.5} {:date \"1982-12-08\", :tot-value 19018.741194561982, :daily-ret 0.005000822597175828, :leverage 0.549941819791462, :loan 6748.125} {:date \"1982-12-09\", :tot-value 18939.41336455329, :daily-ret -0.002332275978663137, :leverage 0.5579930976118517, :loan 6783.125} {:date \"1982-12-10\", :tot-value 18597.23483721604, :daily-ret -0.010549719651218196, :leverage 0.5786309108095277, :loan 6816.625} {:date \"1982-12-13\", :tot-value 18957.676110412518, :daily-ret 0.010862759228942705, :leverage 0.5658861224599624, :loan 6851.0} {:date \"1982-12-14\", :tot-value 19169.05722798124, :daily-ret 0.006215942301223722, :leverage 0.5605778535209424, :loan 6885.75} {:date \"1982-12-15\", :tot-value 19454.48248094491, :daily-ret 0.008161828960441878, :leverage 0.5522163562734513, :loan 6921.125} {:date \"1982-12-16\", :tot-value 19518.104978328985, :daily-ret 0.0018080706046941987, :leverage 0.5537752373280489, :loan 6956.375} {:date \"1982-12-17\", :tot-value 20350.891657614196, :daily-ret 0.021878809397865868, :leverage 0.5236390796729917, :loan 6994.125} {:date \"1982-12-20\", :tot-value 20525.21463472887, :daily-ret 0.004445216519258828, :leverage 0.52116492147955, :loan 7032.125} {:date \"1982-12-21\", :tot-value 21407.695844175552, :daily-ret 0.02077056434745284, :leverage 0.49340518984398835, :loan 7072.875} {:date \"1982-12-22\", :tot-value 21371.320024047454, :daily-ret -8.484143286693265E-4, :leverage 0.49887976619784, :loan 7113.125} {:date \"1982-12-23\", :tot-value 21404.080682417905, :daily-ret 7.688479128956255E-4, :leverage 0.5019400213857347, :loan 7153.125} {:date \"1982-12-27\", :tot-value 21826.593175574297, :daily-ret 0.009610877047497692, :leverage 0.4916676648214025, :loan 7194.25} {:date \"1982-12-28\", :tot-value 21788.843569159664, :daily-ret -8.605020429571852E-4, :leverage 0.4971066802583961, :loan 7234.875} {:date \"1982-12-29\", :tot-value 21676.82527261909, :daily-ret -0.0026035537685185095, :leverage 0.5051181765332524, :loan 7274.75} {:date \"1982-12-30\", :tot-value 21487.243685644426, :daily-ret -0.004532715998408979, :leverage 0.5160026639779377, :loan 7313.625} {:date \"1982-12-31\", :tot-value 21590.148732091722, :daily-ret 0.0024672596005106133, :leverage 0.5164125157426754, :loan 7352.5} {:date \"1983-01-03\", :tot-value 21430.303511694125, :daily-ret -0.003911735387978857, :leverage 0.5263962557484695, :loan 7390.5} {:date \"1983-01-04\", :tot-value 21721.70727411469, :daily-ret 0.0070203324602764175, :leverage 0.5197888567312917, :loan 7429.125} {:date \"1983-01-05\", :tot-value 21862.25702531964, :daily-ret 0.0033460996265774396, :leverage 0.5188048355854422, :loan 7467.875} {:date \"1983-01-06\", :tot-value 22378.500231994032, :daily-ret 0.011783659704097825, :leverage 0.5048922284299799, :loan 7508.0} {:date \"1983-01-07\", :tot-value 22369.58985012355, :daily-ret -2.0279965182756475E-4, :leverage 0.5092316525021072, :loan 7547.75} {:date \"1983-01-10\", :tot-value 22586.107548600405, :daily-ret 0.004873288261223498, :leverage 0.5059179456920796, :loan 7587.875} {:date \"1983-01-11\", :tot-value 22461.71921271116, :daily-ret -0.0028394412218779954, :leverage 0.5141572570365015, :loan 7627.25} {:date \"1983-01-12\", :tot-value 22679.8091023338, :daily-ret 0.004934647669711304, :leverage 0.5106972284626023, :loan 7667.0} {:date \"1983-01-13\", :tot-value 22395.82139561862, :daily-ret -0.006609414666479, :leverage 0.5245290278195113, :loan 7705.5} {:date \"1983-01-14\", :tot-value 22537.764788264678, :daily-ret 0.0033072943945533333, :leverage 0.5234766501576689, :loan 7744.125} {:date \"1983-01-17\", :tot-value 22758.458126529848, :daily-ret 0.005064518714210211, :leverage 0.5197296737400553, :loan 7783.125} {:date \"1983-01-18\", :tot-value 22822.000867231895, :daily-ret 0.0014539318587956445, :leverage 0.5214666365178334, :loan 7822.0} {:date \"1983-01-19\", :tot-value 22321.485596826817, :daily-ret -0.012050203369153923, :leverage 0.5434058998630448, :loan 7859.0} {:date \"1983-01-20\", :tot-value 22545.908996622537, :daily-ret 0.005392310087149607, :leverage 0.5390188521915111, :loan 7896.375} {:date \"1983-01-21\", :tot-value 22275.975026488115, :daily-ret -0.006661453619470448, :leverage 0.5530524588294006, :loan 7932.625} {:date \"1983-01-24\", :tot-value 22166.765941710062, :daily-ret -0.002758092323462964, :leverage 0.561203018168412, :loan 7968.25} {:date \"1983-01-25\", :tot-value 22937.39268793915, :daily-ret 0.018323338465826604, :leverage 0.5361728906142408, :loan 8005.875} {:date \"1983-01-26\", :tot-value 23163.46753455514, :daily-ret 0.005217974093305447, :leverage 0.5320166520107, :loan 8043.875} {:date \"1983-01-27\", :tot-value 23757.082913610986, :daily-ret 0.013050170672125404, :leverage 0.5157283167807682, :loan 8083.375} {:date \"1983-01-28\", :tot-value 23697.01651061457, :daily-ret -0.0013202406323516505, :leverage 0.5215128062154346, :loan 8122.375} {:date \"1983-01-31\", :tot-value 24004.96767029066, :daily-ret 0.006651835236406508, :leverage 0.5151812570637062, :loan 8162.0} {:date \"1983-02-01\", :tot-value 23984.952256121527, :daily-ret -4.334267862722392E-4, :leverage 0.5196024270426945, :loan 8201.25} {:date \"1983-02-02\", :tot-value 24212.01031607053, :daily-ret 0.004861698242796662, :leverage 0.5159855474837683, :loan 8240.875} {:date \"1983-02-03\", :tot-value 24149.165348001436, :daily-ret -0.0013560638900013203, :leverage 0.5217665717398794, :loan 8280.0} {:date \"1983-02-04\", :tot-value 24252.215656246724, :daily-ret 0.002223308951249417, :leverage 0.5221287683277196, :loan 8319.125} {:date \"1983-02-07\", :tot-value 24355.265964492013, :daily-ret 0.0022154053474523383, :leverage 0.5224880701846206, :loan 8358.25} {:date \"1983-02-08\", :tot-value 24542.743134277585, :daily-ret 0.003988453979470906, :leverage 0.5201340077017499, :loan 8397.625} {:date \"1983-02-09\", :tot-value 24518.592783661148, :daily-ret -5.164682865948357E-4, :leverage 0.5246015359246887, :loan 8436.625} {:date \"1983-02-10\", :tot-value 24961.19848879851, :daily-ret 0.009199749117655965, :leverage 0.5142156092640178, :loan 8476.625} {:date \"1983-02-11\", :tot-value 25275.542295773528, :daily-ret 0.006360463288927011, :leverage 0.5082409263232666, :loan 8517.25} {:date \"1983-02-14\", :tot-value 26044.932508616224, :daily-ret 0.014679757625685363, :leverage 0.4895537229878652, :loan 8559.875} {:date \"1983-02-15\", :tot-value 25859.622786057775, :daily-ret -0.0035588908478601253, :leverage 0.49841384305594233, :loan 8601.625} {:date \"1983-02-16\", :tot-value 25753.721527770194, :daily-ret -0.00207275039817621, :leverage 0.5050998995570344, :loan 8642.75} {:date \"1983-02-17\", :tot-value 25644.698284667815, :daily-ret -0.0021717976004461594, :leverage 0.5119403634799963, :loan 8683.25} {:date \"1983-02-18\", :tot-value 25791.494201789905, :daily-ret 0.0029175131886741506, :leverage 0.5111360229483627, :loan 8723.875} {:date \"1983-02-22\", :tot-value 25722.24291690569, :daily-ret -0.0013894936055482018, :leverage 0.5167988242026631, :loan 8764.0} {:date \"1983-02-23\", :tot-value 25518.524017882002, :daily-ret -0.004187718859813625, :leverage 0.5266590299735608, :loan 8803.25} {:date \"1983-02-24\", :tot-value 25886.48113904536, :daily-ret 0.0074282957651887445, :leverage 0.5188716815405071, :loan 8843.25} {:date \"1983-02-25\", :tot-value 25768.549466126762, :daily-ret -0.0024019561341662075, :leverage 0.5260372340181069, :loan 8882.625} {:date \"1983-02-28\", :tot-value 25420.740875480416, :daily-ret -0.007347093037095308, :leverage 0.5406518141326101, :loan 8920.75} {:date \"1983-03-01\", :tot-value 26376.94971377812, :daily-ret 0.018999814426038538, :leverage 0.5145500983179255, :loan 8961.25} {:date \"1983-03-02\", :tot-value 26789.478512365342, :daily-ret 0.007854626353237385, :leverage 0.5061392670570664, :loan 9002.625} {:date \"1983-03-03\", :tot-value 27112.970383862143, :daily-ret 0.006008447451472693, :leverage 0.5005784872851868, :loan 9044.625} {:date \"1983-03-04\", :tot-value 26953.19455752996, :daily-ret -0.003005551126851727, :leverage 0.5085191973393048, :loan 9085.875} {:date \"1983-03-07\", :tot-value 26608.69503721212, :daily-ret -0.006714779327182246, :leverage 0.5219910163563777, :loan 9125.875} {:date \"1983-03-08\", :tot-value 26575.490578348807, :daily-ret -6.573574225848619E-4, :leverage 0.5264506008060845, :loan 9165.5} {:date \"1983-03-09\", :tot-value 26998.15080117873, :daily-ret 0.008164352314103477, :leverage 0.5174191756170424, :loan 9206.0} {:date \"1983-03-10\", :tot-value 26919.207515799426, :daily-ret -0.0015319881600981886, :leverage 0.523164795735822, :loan 9246.0} {:date \"1983-03-11\", :tot-value 27114.686200884382, :daily-ret 0.003768705099011987, :leverage 0.5208673321297442, :loan 9286.25} {:date \"1983-03-14\", :tot-value 26753.45901185304, :daily-ret -0.007176168684931319, :leverage 0.535066454255732, :loan 9325.25} {:date \"1983-03-15\", :tot-value 27044.196383653492, :daily-ret 0.0057253133637088305, :leverage 0.5296970163420217, :loan 9364.75} {:date \"1983-03-16\", :tot-value 27100.447705166313, :daily-ret 0.001104187285936662, :leverage 0.5314169026344967, :loan 9404.125} {:date \"1983-03-17\", :tot-value 27250.851585417462, :daily-ret 0.0029350983803228606, :leverage 0.5303254246078662, :loan 9443.625} {:date \"1983-03-18\", :tot-value 27542.86903031318, :daily-ret 0.00559740742194245, :leverage 0.5251396450527689, :loan 9483.625} {:date \"1983-03-21\", :tot-value 28021.4997731174, :daily-ret 0.008871447200515381, :leverage 0.5149315825959259, :loan 9524.625} {:date \"1983-03-22\", :tot-value 27890.818253716883, :daily-ret -0.0024398271696479323, :leverage 0.5219412234463258, :loan 9565.0} {:date \"1983-03-23\", :tot-value 28370.78320522487, :daily-ret 0.008734994392103759, :leverage 0.5119466009764777, :loan 9606.375} {:date \"1983-03-24\", :tot-value 28239.598057484385, :daily-ret -0.0024048063331709828, :leverage 0.5188726088333127, :loan 9647.125} {:date \"1983-03-25\", :tot-value 28009.07232733596, :daily-ret -0.004333654447053319, :leverage 0.5287065691552422, :loan 9687.0} {:date \"1983-03-28\", :tot-value 28112.549846879832, :daily-ret 0.0019509226073344448, :leverage 0.5290463951422872, :loan 9726.875} {:date \"1983-03-29\", :tot-value 28216.027366423703, :daily-ret 0.0019449947050509148, :leverage 0.5293838780794066, :loan 9766.75} {:date \"1983-03-30\", :tot-value 28754.042023906142, :daily-ret 0.009777671146079097, :leverage 0.517660658224033, :loan 9807.75} {:date \"1983-03-31\", :tot-value 28568.044029964185, :daily-ret -0.0034139642369497365, :leverage 0.5260671387437351, :loan 9848.0} {:date \"1983-04-04\", :tot-value 28769.149279790174, :daily-ret 0.0036739415883149944, :leverage 0.5237372853795149, :loan 9888.5} {:date \"1983-04-05\", :tot-value 28677.004548873847, :daily-ret -0.0016988573954212463, :leverage 0.5295622365036239, :loan 9928.5} {:date \"1983-04-06\", :tot-value 28382.844705799725, :daily-ret -0.005580755553430807, :leverage 0.5412605715091957, :loan 9967.5} {:date \"1983-04-07\", :tot-value 28283.9975458723, :daily-ret -0.0019098422794360827, :leverage 0.5474341472520684, :loan 10006.0} {:date \"1983-04-08\", :tot-value 28589.292183552505, :daily-ret 0.005815468037350281, :leverage 0.5416761071586876, :loan 10045.0} {:date \"1983-04-11\", :tot-value 28944.461706018665, :daily-ret 0.006601920921390553, :leverage 0.5347143327482646, :loan 10084.625} {:date \"1983-04-12\", :tot-value 29298.71549989526, :daily-ret 0.006423701669197953, :leverage 0.5280567030927011, :loan 10124.875} {:date \"1983-04-13\", :tot-value 30193.858851005156, :daily-ret 0.015278497143780986, :leverage 0.507677641079237, :loan 10167.125} {:date \"1983-04-14\", :tot-value 31167.350385624006, :daily-ret 0.015463110713072218, :leverage 0.48729522896904126, :loan 10211.625} {:date \"1983-04-15\", :tot-value 31033.50838625095, :daily-ret -0.0021241228093273386, :leverage 0.4935747358147273, :loan 10255.5} {:date \"1983-04-18\", :tot-value 31331.705772771842, :daily-ret 0.004683274304696451, :leverage 0.48972793245057816, :loan 10299.875} {:date \"1983-04-19\", :tot-value 31146.964422670004, :daily-ret -0.0029403257779800477, :leverage 0.4972008406796156, :loan 10343.5} {:date \"1983-04-20\", :tot-value 32119.066017261808, :daily-ret 0.01469403662073234, :leverage 0.47811885552108424, :loan 10389.375} {:date \"1983-04-21\", :tot-value 32130.084885783777, :daily-ret 1.64979775435323E-4, :leverage 0.4809845204541137, :loan 10435.0} {:date \"1983-04-22\", :tot-value 33088.30107166834, :daily-ret 0.013627695299797465, :leverage 0.46373268819464175, :loan 10482.875} {:date \"1983-04-25\", :tot-value 32913.18386083906, :daily-ret -0.002496391232383952, :leverage 0.4704424565096375, :loan 10530.0} {:date \"1983-04-26\", :tot-value 33724.26552223453, :daily-ret 0.011127051796484443, :leverage 0.4570697186358597, :loan 10579.0} {:date \"1983-04-27\", :tot-value 33598.20653945381, :daily-ret -0.001732580951734815, :leverage 0.4626465081051521, :loan 10627.375} {:date \"1983-04-28\", :tot-value 34033.84849037377, :daily-ret 0.005888787535031358, :leverage 0.45710163300874207, :loan 10676.625} {:date \"1983-04-29\", :tot-value 34927.94753756425, :daily-ret 0.011495708438783465, :leverage 0.4433067461550284, :loan 10728.0} {:date \"1983-05-02\", :tot-value 34528.14669268309, :daily-ret -0.005224443357866531, :leverage 0.4538077233569454, :loan 10778.0} {:date \"1983-05-03\", :tot-value 34542.66255294544, :daily-ret 1.919088172482249E-4, :leverage 0.4565797987163639, :loan 10827.75} {:date \"1983-05-04\", :tot-value 34650.723587937915, :daily-ret 0.0014291437167311795, :leverage 0.4575525889353532, :loan 10877.5} {:date \"1983-05-05\", :tot-value 35040.95901572994, :daily-ret 0.005075402129234397, :leverage 0.4532002892250257, :loan 10928.0} {:date \"1983-05-06\", :tot-value 35616.05423342841, :daily-ret 0.007255059193573994, :leverage 0.4456735838284478, :loan 10979.75} {:date \"1983-05-09\", :tot-value 35678.29352065979, :daily-ret 7.814597878474728E-4, :leverage 0.4475762351692431, :loan 11031.375} {:date \"1983-05-10\", :tot-value 35740.25366195632, :daily-ret 7.798965928685816E-4, :leverage 0.449474988884349, :loan 11082.875} {:date \"1983-05-11\", :tot-value 35136.694275658956, :daily-ret -0.007898799041047866, :leverage 0.46377311698767254, :loan 11132.5} {:date \"1983-05-12\", :tot-value 35148.24529215248, :daily-ret 1.533558317358781E-4, :leverage 0.4665652271784092, :loan 11181.875} {:date \"1983-05-13\", :tot-value 35975.56161553467, :daily-ret 0.010562441302393226, :leverage 0.45400237553593337, :loan 11233.125} {:date \"1983-05-16\", :tot-value 35652.83556982803, :daily-ret -0.004172225615866323, :leverage 0.463005411711629, :loan 11283.25} {:date \"1983-05-17\", :tot-value 35857.712904951346, :daily-ret 0.002648079176359715, :leverage 0.4621425695392232, :loan 11333.625} {:date \"1983-05-18\", :tot-value 35330.47791654007, :daily-ret -0.007040378006954633, :leverage 0.47529338919529257, :loan 11382.375} {:date \"1983-05-19\", :tot-value 35783.048299495815, :daily-ret 0.005975501064931226, :leverage 0.4694664418302147, :loan 11432.0} {:date \"1983-05-20\", :tot-value 35594.6240294734, :daily-ret -0.002513713147521319, :leverage 0.4761132325781165, :loan 11480.875} {:date \"1983-05-23\", :tot-value 35851.41901138334, :daily-ret 0.003407905595260144, :leverage 0.4740753100802712, :loan 11530.125} {:date \"1983-05-24\", :tot-value 36108.22459103949, :daily-ret 0.0033695812579058256, :leverage 0.4720941759757944, :loan 11579.75} {:date \"1983-05-25\", :tot-value 36365.06346749824, :daily-ret 0.0033324801434293106, :leverage 0.4701678842793435, :loan 11629.75} {:date \"1983-05-26\", :tot-value 36073.56300005202, :daily-ret -0.00385301107220515, :leverage 0.47873906637345803, :loan 11678.75} {:date \"1983-05-27\", :tot-value 35979.078140813464, :daily-ret -0.001268219018569012, :leverage 0.48356148377384306, :loan 11727.25} {:date \"1983-05-31\", :tot-value 35470.562540956256, :daily-ret -0.0070728434174264715, :leverage 0.49688110669749186, :loan 11774.25} {:date \"1983-06-01\", :tot-value 36297.70222288867, :daily-ret 0.011135402238736202, :leverage 0.48307022869284044, :loan 11823.0} {:date \"1983-06-02\", :tot-value 37013.157457261404, :daily-ret 0.009218576725470023, :leverage 0.47228694139725375, :loan 11873.25} {:date \"1983-06-03\", :tot-value 37572.05142412447, :daily-ret 0.006968122443879754, :leverage 0.4649443107002528, :loan 11924.625} {:date \"1983-06-06\", :tot-value 38373.064704466415, :daily-ret 0.009572698190613878, :leverage 0.4537831859217506, :loan 11977.75} {:date \"1983-06-07\", :tot-value 38235.70864901941, :daily-ret -0.001646200200375528, :leverage 0.45907420133820714, :loan 12030.25} {:date \"1983-06-08\", :tot-value 38394.37101327339, :daily-ret 0.001901647433172325, :leverage 0.4592241731106638, :loan 12082.875} {:date \"1983-06-09\", :tot-value 38652.41509010403, :daily-ret 0.0030656687374148346, :leverage 0.4576718892722022, :loan 12135.875} {:date \"1983-06-10\", :tot-value 38711.88151082076, :daily-ret 7.064731645831909E-4, :leverage 0.45955169339741436, :loan 12188.75} {:date \"1983-06-13\", :tot-value 39660.750593201716, :daily-ret 0.010814030555926103, :leverage 0.44657510796552796, :loan 12243.75} {:date \"1983-06-14\", :tot-value 39770.589465604375, :daily-ret 0.0012381340931369965, :leverage 0.44768571159562975, :loan 12298.75} {:date \"1983-06-15\", :tot-value 40076.61971675381, :daily-ret 0.003416038635413376, :leverage 0.44564191756427657, :loan 12354.25} {:date \"1983-06-16\", :tot-value 40431.24118771145, :daily-ret 0.003901781023994029, :leverage 0.44289762196725274, :loan 12410.375} {:date \"1983-06-17\", :tot-value 40098.467235989665, :daily-ret -0.003728219953687153, :leverage 0.4511031517408301, :loan 12465.375} {:date \"1983-06-20\", :tot-value 40799.70702309973, :daily-ret 0.007677007340337999, :leverage 0.44281594818765, :loan 12521.875} {:date \"1983-06-21\", :tot-value 41494.45511123244, :daily-ret 0.007346121073691742, :leverage 0.43507029850013623, :loan 12579.875} {:date \"1983-06-22\", :tot-value 41943.22116913391, :daily-ret 0.004639404289765091, :leverage 0.4312908404677939, :loan 12638.75} {:date \"1983-06-23\", :tot-value 41617.509532517965, :daily-ret -0.00342242397284077, :leverage 0.4390061137293432, :loan 12696.5} {:date \"1983-06-24\", :tot-value 42117.73761338921, :daily-ret 0.0051902831604502325, :leverage 0.43440631352309683, :loan 12755.25} {:date \"1983-06-27\", :tot-value 41443.0093234486, :daily-ret -0.007226804602862445, :leverage 0.44748684390623494, :loan 12812.0} {:date \"1983-06-28\", :tot-value 40850.71829812734, :daily-ret -0.006618777664883719, :leverage 0.4598030848838645, :loan 12867.0} {:date \"1983-06-29\", :tot-value 41765.14821990264, :daily-ret 0.009920169686335762, :leverage 0.4481097597591982, :loan 12924.0} {:date \"1983-06-30\", :tot-value 41675.29800078949, :daily-ret -9.742287367996744E-4, :leverage 0.45236422293834805, :loan 12980.5} {:date \"1983-07-01\", :tot-value 41634.23785420952, :daily-ret -4.493566798590904E-4, :leverage 0.45586409839382913, :loan 13036.625} {:date \"1983-07-05\", :tot-value 41028.193725413985, :daily-ret -0.006871062401413664, :leverage 0.46858679252710134, :loan 13091.0} {:date \"1983-07-06\", :tot-value 41086.018430414515, :daily-ret 6.626064620088863E-4, :leverage 0.47046844945362815, :loan 13145.25} {:date \"1983-07-07\", :tot-value 41039.277965629226, :daily-ret -5.396592729342E-4, :leverage 0.4741038964942225, :loan 13199.125} {:date \"1983-07-08\", :tot-value 41617.499017337825, :daily-ret 0.006538011537904056, :leverage 0.467297190803114, :loan 13254.125} {:date \"1983-07-11\", :tot-value 42396.97007531963, :daily-ret 0.008491875240807209, :leverage 0.4576307944288195, :loan 13310.75} {:date \"1983-07-12\", :tot-value 42146.943756597364, :daily-ret -0.0027469759439929984, :leverage 0.4644299480940417, :loan 13366.5} {:date \"1983-07-13\", :tot-value 42308.83361547876, :daily-ret 0.001781377138523569, :leverage 0.4646597625091932, :loan 13422.375} {:date \"1983-07-14\", :tot-value 43394.54698060638, :daily-ret 0.0114184494058674, :leverage 0.4506471939299595, :loan 13480.625} {:date \"1983-07-15\", :tot-value 42993.11340823656, :daily-ret -0.004271410895041209, :leverage 0.4595960118663152, :loan 13537.625} {:date \"1983-07-18\", :tot-value 43155.192815368195, :daily-ret 0.001730501158724234, :leverage 0.45989669657222515, :loan 13594.75} {:date \"1983-07-19\", :tot-value 43213.82490802705, :daily-ret 6.269903988108982E-4, :leverage 0.46179945225337055, :loan 13651.75} {:date \"1983-07-20\", :tot-value 44046.20515892701, :daily-ret 0.008622809204447385, :leverage 0.4519591658796616, :loan 13710.5} {:date \"1983-07-21\", :tot-value 44565.407116289076, :daily-ret 0.005240105719691938, :leverage 0.44715634825309064, :loan 13770.25} {:date \"1983-07-22\", :tot-value 44472.24035711169, :daily-ret -9.444877805737336E-4, :leverage 0.4513140743559639, :loan 13829.5} {:date \"1983-07-25\", :tot-value 45144.45728215742, :daily-ret 0.006667370310539962, :leverage 0.4444223883781271, :loan 13890.125} {:date \"1983-07-26\", :tot-value 45811.49823247606, :daily-ret 0.006423360081866135, :leverage 0.43792842056848164, :loan 13952.125} {:date \"1983-07-27\", :tot-value 46394.2434935465, :daily-ret 0.005471204743194148, :leverage 0.43283901931783325, :loan 14015.0} {:date \"1983-07-28\", :tot-value 45542.0555162087, :daily-ret -0.00829288124139675, :leverage 0.4473161987097567, :loan 14075.5} {:date \"1983-07-29\", :tot-value 45499.03845413438, :daily-ret -4.2591702334091156E-4, :leverage 0.4507042902288627, :loan 14135.625} {:date \"1983-08-01\", :tot-value 45454.90962253332, :daily-ret -4.406515121051037E-4, :leverage 0.4541134463904436, :loan 14195.375} {:date \"1983-08-02\", :tot-value 44723.95750376812, :daily-ret -0.0075831463068489185, :leverage 0.4677629007424531, :loan 14253.125} {:date \"1983-08-03\", :tot-value 44513.80057508428, :daily-ret -0.002231564741952483, :leverage 0.4737875350444023, :loan 14310.125} {:date \"1983-08-04\", :tot-value 43808.69294954802, :daily-ret -0.0077901874527225076, :leverage 0.4878930098159773, :loan 14365.25} {:date \"1983-08-05\", :tot-value 44520.48864717673, :daily-ret 0.007722540875755932, :leverage 0.47914798586926044, :loan 14421.75} {:date \"1983-08-08\", :tot-value 43527.702494654266, :daily-ret -0.01123697521742687, :leverage 0.49827115759822427, :loan 14475.75} {:date \"1983-08-09\", :tot-value 44194.44470295112, :daily-ret 0.007446650559536783, :leverage 0.48986219050123864, :loan 14531.0} {:date \"1983-08-10\", :tot-value 45020.1671175185, :daily-ret 0.00887355918120267, :leverage 0.47935511868993985, :loan 14587.875} {:date \"1983-08-11\", :tot-value 45021.25476894171, :daily-ret 1.1646905637022203E-5, :leverage 0.4820956060445622, :loan 14644.5} {:date \"1983-08-12\", :tot-value 44855.81450936693, :daily-ret -0.0017946965608804928, :leverage 0.4874928429426159, :loan 14700.5} {:date \"1983-08-15\", :tot-value 45463.4415680779, :daily-ret 0.006466795401477069, :leverage 0.4806133381042271, :loan 14757.625} {:date \"1983-08-16\", :tot-value 45075.62899705942, :daily-ret -0.004193553275504004, :leverage 0.48951236016753713, :loan 14813.625} {:date \"1983-08-17\", :tot-value 45630.864768800886, :daily-ret 0.005918531783117014, :leverage 0.48343657630012343, :loan 14870.625} {:date \"1983-08-18\", :tot-value 45407.51018341159, :daily-ret -0.0024029577004811994, :leverage 0.4897166647013846, :loan 14926.875} {:date \"1983-08-19\", :tot-value 45630.020961223796, :daily-ret 0.002389946276618085, :leverage 0.48890749803283456, :loan 14983.375} {:date \"1983-08-22\", :tot-value 45289.763280566985, :daily-ret -0.003720992391113409, :leverage 0.4971382942715403, :loan 15038.875} {:date \"1983-08-23\", :tot-value 45000.631865545954, :daily-ret -0.003232216192489792, :leverage 0.5046789530957407, :loan 15093.5} {:date \"1983-08-24\", :tot-value 44415.40443327954, :daily-ret -0.006774179800934064, :leverage 0.5175010811273463, :loan 15146.625} {:date \"1983-08-25\", :tot-value 44348.92892869387, :daily-ret -7.809928186592133E-4, :leverage 0.5214273617078657, :loan 15199.375} {:date \"1983-08-26\", :tot-value 45391.97999492441, :daily-ret 0.011766292023427775, :leverage 0.506145012727979, :loan 15254.125} {:date \"1983-08-29\", :tot-value 45328.04441939018, :daily-ret -7.187833849053453E-4, :leverage 0.5099511100545535, :loan 15308.5} {:date \"1983-08-30\", :tot-value 45612.58123589232, :daily-ret 0.003178185657425303, :leverage 0.5078872613808647, :loan 15363.25} {:date \"1983-08-31\", :tot-value 46758.86896774732, :daily-ret 0.012212926223997521, :leverage 0.49205263371273683, :loan 15420.25} {:date \"1983-09-01\", :tot-value 47773.919432396186, :daily-ret 0.010293686185099111, :leverage 0.4793128485926563, :loan 15479.25} {:date \"1983-09-02\", :tot-value 48443.134280012615, :daily-ret 0.006569671951067058, :leverage 0.47227305858549196, :loan 15539.5} {:date \"1983-09-06\", :tot-value 49327.08522287972, :daily-ret 0.008365083173824804, :leverage 0.4626013128280962, :loan 15601.5} {:date \"1983-09-07\", :tot-value 49053.41048927781, :daily-ret -0.0026097248913958646, :leverage 0.46907027703883936, :loan 15662.625} {:date \"1983-09-08\", :tot-value 49771.572328454466, :daily-ret 0.0067129826244451025, :leverage 0.4618727131290923, :loan 15725.125} {:date \"1983-09-09\", :tot-value 49608.25408568161, :daily-ret -0.0015341815411118232, :leverage 0.466777487316282, :loan 15787.0} {:date \"1983-09-12\", :tot-value 49219.069529860084, :daily-ret -0.0037402879345451324, :leverage 0.47489132054906324, :loan 15847.75} {:date \"1983-09-13\", :tot-value 48879.64142544, :daily-ret -0.003338650858740344, :leverage 0.4824527407772915, :loan 15907.5} {:date \"1983-09-14\", :tot-value 49499.743518147836, :daily-ret 0.00600349682798013, :leverage 0.47622198871357135, :loan 15968.375} {:date \"1983-09-15\", :tot-value 49272.083562220345, :daily-ret -0.00222264126445246, :leverage 0.4821531941645299, :loan 16028.5} {:date \"1983-09-16\", :tot-value 49780.49132881791, :daily-ret 0.004902402605531927, :leverage 0.4775608958183933, :loan 16089.5} {:date \"1983-09-19\", :tot-value 50789.80831573888, :daily-ret 0.009360478062405711, :leverage 0.46633242550953213, :loan 16152.5} {:date \"1983-09-20\", :tot-value 51068.94617053999, :daily-ret 0.0025500623126339067, :leverage 0.46526387647888773, :loan 16215.875} {:date \"1983-09-21\", :tot-value 51013.85701715866, :daily-ret -5.05825662149585E-4, :leverage 0.46865937607102925, :loan 16278.875} {:date \"1983-09-22\", :tot-value 51516.82344860351, :daily-ret 0.00455849110280789, :leverage 0.4646248898035677, :loan 16342.75} {:date \"1983-09-23\", :tot-value 52073.29273003069, :daily-ret 0.004942565238841324, :leverage 0.4600397537541317, :loan 16407.625} {:date \"1983-09-26\", :tot-value 52185.87863547314, :daily-ret 9.961586224734344E-4, :leverage 0.4612417147124329, :loan 16472.5} {:date \"1983-09-27\", :tot-value 51683.56168064935, :daily-ret -0.004550495497376461, :leverage 0.4704736035531014, :loan 16536.0} {:date \"1983-09-28\", :tot-value 52020.940844431825, :daily-ret 0.003049300101185104, :leverage 0.4686493245028956, :loan 16600.0} {:date \"1983-09-29\", :tot-value 51794.48010356288, :daily-ret -0.0020693220833708174, :leverage 0.4743144475977252, :loan 16663.25} {:date \"1983-09-30\", :tot-value 51220.29630705943, :daily-ret -0.0054049558162070814, :leverage 0.48484871244828953, :loan 16725.0} {:date \"1983-10-03\", :tot-value 50926.36118259194, :daily-ret -0.0028296505411404406, :leverage 0.49167064904187074, :loan 16785.875} {:date \"1983-10-04\", :tot-value 52192.262576684894, :daily-ret 0.011705543752886209, :leverage 0.4767349688553467, :loan 16849.25} {:date \"1983-10-05\", :tot-value 52646.63894387342, :daily-ret 0.004102830532798874, :leverage 0.4733229806984887, :loan 16913.375} {:date \"1983-10-06\", :tot-value 53494.50692103416, :daily-ret 0.007428876740927291, :leverage 0.4649855514784968, :loan 16979.125} {:date \"1983-10-07\", :tot-value 53888.10790572448, :daily-ret 0.003391669474094487, :leverage 0.4626572593236954, :loan 17045.5} {:date \"1983-10-10\", :tot-value 54615.20606006238, :daily-ret 0.0061159666717927825, :leverage 0.4563295304541385, :loan 17113.25} {:date \"1983-10-11\", :tot-value 53943.256754260365, :daily-ret -0.00578481839042469, :leverage 0.46728448601455, :loan 17179.25} {:date \"1983-10-12\", :tot-value 54169.21056834709, :daily-ret 0.0019522929147144908, :leverage 0.4670576097187733, :loan 17245.5} {:date \"1983-10-13\", :tot-value 55347.952655435394, :daily-ret 0.009799724926087617, :leverage 0.4552296223471383, :loan 17314.125} {:date \"1983-10-14\", :tot-value 55182.018415572835, :daily-ret -0.0013806975978068658, :leverage 0.4598458733441533, :loan 17382.125} {:date \"1983-10-17\", :tot-value 55853.47023703692, :daily-ret 0.005496206839206472, :leverage 0.45443809490813963, :loan 17451.375} {:date \"1983-10-18\", :tot-value 55237.92764160526, :daily-ret -0.0051470939495986065, :leverage 0.46446177278581874, :loan 17519.0} {:date \"1983-10-19\", :tot-value 54610.23571356275, :daily-ret -0.005427914611081517, :leverage 0.47494633487393084, :loan 17585.0} {:date \"1983-10-20\", :tot-value 55067.0684570828, :daily-ret 0.003930169549791717, :leverage 0.4717786919346262, :loan 17651.75} {:date \"1983-10-21\", :tot-value 55007.80918271688, :daily-ret -5.115960840059423E-4, :leverage 0.475148164655469, :loan 17718.125} {:date \"1983-10-24\", :tot-value 55864.736403255345, :daily-ret 0.007220359154353214, :leverage 0.46708964283501847, :loan 17786.125} {:date \"1983-10-25\", :tot-value 56488.39174378835, :daily-ret 0.005130974320886507, :leverage 0.4621744231523926, :loan 17855.25} {:date \"1983-10-26\", :tot-value 56692.62283955957, :daily-ret 0.0016685443010829547, :leverage 0.4623373614881238, :loan 17924.125} {:date \"1983-10-27\", :tot-value 56405.75853742253, :daily-ret -0.0023760091870203013, :leverage 0.4683786287093119, :loan 17992.125} {:date \"1983-10-28\", :tot-value 55707.212674725015, :daily-ret -0.005977254844960021, :leverage 0.47965292198444737, :loan 18058.375} {:date \"1983-10-31\", :tot-value 55879.12233031464, :daily-ret 0.001479191376600071, :leverage 0.48007022448753156, :loan 18124.75} {:date \"1983-11-01\", :tot-value 55343.196021077165, :daily-ret -0.004718175813386006, :leverage 0.48958446518476234, :loan 18189.75} {:date \"1983-11-02\", :tot-value 55930.46995573089, :daily-ret 0.00511483942878424, :leverage 0.4845623277744637, :loan 18255.75} {:date \"1983-11-03\", :tot-value 55329.218641803, :daily-ret -0.005350283994778654, :leverage 0.4950219006996752, :loan 18320.25} {:date \"1983-11-04\", :tot-value 54898.75636186627, :daily-ret -0.003932183360100635, :leverage 0.5034522488175549, :loan 18383.625} {:date \"1983-11-07\", :tot-value 55254.37587517151, :daily-ret 0.003236151159942876, :leverage 0.5011971149782904, :loan 18447.5} {:date \"1983-11-08\", :tot-value 55123.8431439431, :daily-ret -0.0011957991801627248, :leverage 0.5055824735985591, :loan 18510.875} {:date \"1983-11-09\", :tot-value 56326.30308027846, :daily-ret 0.010619058722013599, :leverage 0.4920952822057203, :loan 18576.5} {:date \"1983-11-10\", :tot-value 56499.59930466612, :daily-ret 0.0015127206929521173, :leverage 0.49243410704674573, :loan 18642.25} {:date \"1983-11-11\", :tot-value 56793.07187730989, :daily-ret 0.0025449674545642755, :leverage 0.4912307707284413, :loan 18708.375} {:date \"1983-11-14\", :tot-value 56241.03481118128, :daily-ret -0.004894059972676053, :leverage 0.5010454304658776, :loan 18773.125} {:date \"1983-11-15\", :tot-value 55925.44971542033, :daily-ret -0.0028579694024214244, :leverage 0.5078939708867936, :loan 18837.0} {:date \"1983-11-16\", :tot-value 56284.28624467393, :daily-ret 0.0032338350364315756, :leverage 0.5056153833576282, :loan 18901.375} {:date \"1983-11-17\", :tot-value 56765.04218569983, :daily-ret 0.004267774182349308, :leverage 0.5017786111120317, :loan 18966.5} {:date \"1983-11-18\", :tot-value 56939.37716816447, :daily-ret 0.0015395353211268509, :leverage 0.5020559560631961, :loan 19031.75} {:date \"1983-11-21\", :tot-value 57601.7895347758, :daily-ret 0.005737072436418217, :leverage 0.4960079834154727, :loan 19098.125} {:date \"1983-11-22\", :tot-value 57593.27464295426, :daily-ret -7.372380232077885E-5, :leverage 0.49869207397418697, :loan 19164.25} {:date \"1983-11-23\", :tot-value 56719.50605017845, :daily-ret -0.007840687330304607, :leverage 0.5128779650383068, :loan 19228.375} {:date \"1983-11-25\", :tot-value 56582.368172110815, :daily-ret -0.001252365574816734, :leverage 0.5173453882503725, :loan 19292.0} {:date \"1983-11-28\", :tot-value 56443.38589568007, :daily-ret -0.001283428660376797, :leverage 0.5218666104199678, :loan 19355.125} {:date \"1983-11-29\", :tot-value 56745.55128190026, :daily-ret 0.0027775891349111287, :leverage 0.5202310217923314, :loan 19418.625} {:date \"1983-11-30\", :tot-value 55966.79297692764, :daily-ret -0.007377924370041648, :leverage 0.5339075765759881, :loan 19480.375} {:date \"1983-12-01\", :tot-value 56655.38807831092, :daily-ret 0.0064395603106059155, :leverage 0.5265999484794294, :loan 19543.25} {:date \"1983-12-02\", :tot-value 56468.7221418431, :daily-ret -0.0017523491158330515, :leverage 0.5309826697808948, :loan 19584.75} {:date \"1983-12-05\", :tot-value 56987.095233140804, :daily-ret 0.004800497057673911, :leverage 0.5253364196054037, :loan 19626.75} {:date \"1983-12-06\", :tot-value 56734.80764878857, :daily-ret -0.002354322392000524, :leverage 0.5306198160174393, :loan 19668.25} {:date \"1983-12-07\", :tot-value 57255.00367679975, :daily-ret 0.004791559450397932, :leverage 0.5249801388943369, :loan 19710.25} {:date \"1983-12-08\", :tot-value 56806.0057178471, :daily-ret -0.0041966084791967215, :leverage 0.5330390897775974, :loan 19751.5} {:date \"1983-12-09\", :tot-value 57134.46787500259, :daily-ret 0.0030560380554009573, :leverage 0.5300541496187401, :loan 19793.0} {:date \"1983-12-12\", :tot-value 57657.398550604805, :daily-ret 0.00477803294039143, :leverage 0.5244246996514933, :loan 19835.0} {:date \"1983-12-13\", :tot-value 57204.291662454925, :daily-ret -0.004201041333419138, :leverage 0.5324750272123655, :loan 19876.25} {:date \"1983-12-14\", :tot-value 57337.38325141171, :daily-ret 0.0012369429493259807, :leverage 0.532270500850603, :loan 19917.5} {:date \"1983-12-15\", :tot-value 56774.92990358859, :daily-ret -0.0053438315891995766, :leverage 0.5420823325565535, :loan 19957.875} {:date \"1983-12-16\", :tot-value 57207.105505251995, :daily-ret 0.004075811741229703, :leverage 0.5374749177725004, :loan 19998.625} {:date \"1983-12-19\", :tot-value 58034.933189073505, :daily-ret 0.007577863646409999, :leverage 0.5274487985667207, :loan 20040.25} {:date \"1983-12-20\", :tot-value 58365.888532765704, :daily-ret 0.0029829059361243825, :leverage 0.5245598433083107, :loan 20082.125} {:date \"1983-12-21\", :tot-value 59382.361390778184, :daily-ret 0.008851175930237749, :leverage 0.5126475231131538, :loan 20125.125} {:date \"1983-12-22\", :tot-value 59905.95269798921, :daily-ret 0.004455587172685104, :leverage 0.5075485989718572, :loan 20168.625} {:date \"1983-12-23\", :tot-value 60137.97125180416, :daily-ret 0.001956928507369553, :leverage 0.5062463335984606, :loan 20212.25} {:date \"1983-12-27\", :tot-value 60660.663218586866, :daily-ret 0.0043386116146962765, :leverage 0.5013422063126859, :loan 20256.375} {:date \"1983-12-28\", :tot-value 60892.8165885918, :daily-ret 0.0019103151900148666, :leverage 0.5001115782500735, :loan 20300.625} {:date \"1983-12-29\", :tot-value 59952.90408394042, :daily-ret -0.007989549089726098, :leverage 0.5136027786958867, :loan 20343.5} {:date \"1983-12-30\", :tot-value 59690.516278572104, :daily-ret -0.0022749457197016394, :leverage 0.5186633012502232, :loan 20385.875} {:date \"1984-01-03\", :tot-value 59824.532188500845, :daily-ret 0.0011628933037024674, :leverage 0.5185324316202274, :loan 20428.25} {:date \"1984-01-04\", :tot-value 61244.47137598008, :daily-ret 0.011778443136041155, :leverage 0.5021126960735258, :loan 20472.25} {:date \"1984-01-05\", :tot-value 62256.30551827712, :daily-ret 0.008054894055909943, :leverage 0.4915644638047354, :loan 20517.375} {:date \"1984-01-06\", :tot-value 62295.46143008572, :daily-ret 3.097920218344598E-4, :leverage 0.4927115811203558, :loan 20562.375} {:date \"1984-01-09\", :tot-value 1973.125, :daily-ret 3.818705444731519, :leverage -1.1061433355299435, :loan 20562.375} {:date \"1984-09-05\", :tot-value 2109.538977863975, :daily-ret -0.07449327747761517, :leverage -1.114320583314856, :loan 20562.375} {:date \"1984-09-06\", :tot-value 2249.226218581443, :daily-ret -0.07199167139408012, :leverage -1.1228202886039795, :loan 20562.375} {:date \"1984-09-07\", :tot-value 2383.3442938520498, :daily-ret -0.0655117502780918, :leverage -1.1311040358739275, :loan 20562.375} {:date \"1984-09-10\", :tot-value 2518.602258391814, :daily-ret -0.06290431715396218, :leverage -1.1395829073253634, :loan 20562.375} {:date \"1984-09-11\", :tot-value 2654.2094641067206, :daily-ret -0.06021542903102535, :leverage -1.1482122475798482, :loan 20562.375} {:date \"1984-09-12\", :tot-value 2798.1313460758356, :daily-ret -0.06112252435019248, :leverage -1.1575148033650011, :loan 20562.375} {:date \"1984-09-13\", :tot-value 2952.511078487124, :daily-ret -0.06270837599949854, :leverage -1.167662344902065, :loan 20562.375} {:date \"1984-09-14\", :tot-value 3095.7357934739903, :daily-ret -0.055765240123101155, :leverage -1.1772370607115616, :loan 20562.375} {:date \"1984-09-17\", :tot-value 3249.077518724809, :daily-ret -0.05741819745776929, :leverage -1.18766370312985, :loan 20562.375} {:date \"1984-09-18\", :tot-value 3378.1327465478, :daily-ret -0.04660930668292614, :leverage -1.1965831659449024, :loan 20562.375} {:date \"1984-09-19\", :tot-value 3510.1369202308706, :daily-ret -0.0462224091859402, :leverage -1.2058461126223259, :loan 20562.375} {:date \"1984-09-20\", :tot-value 3658.7606425808417, :daily-ret -0.05044541352470895, :leverage -1.2164484213386575, :loan 20562.375} {:date \"1984-09-21\", :tot-value 3781.338865057161, :daily-ret -0.040379261580368184, :leverage -1.2253340517623552, :loan 20562.375} {:date \"1984-09-24\", :tot-value 3937.4491067248587, :daily-ret -0.050036285553919826, :leverage -1.2368400997394868, :loan 20562.375} {:date \"1984-09-25\", :tot-value 4082.7212409969575, :daily-ret -0.045206555299654644, :leverage -1.2477431444071765, :loan 20562.375} {:date \"1984-09-26\", :tot-value 4251.940065087811, :daily-ret -0.05119860522855253, :leverage -1.2606883312465573, :loan 20562.375} {:date \"1984-09-27\", :tot-value 4406.004913301497, :daily-ret -0.045299568252828264, :leverage -1.2727100759426742, :loan 20562.375} {:date \"1984-09-28\", :tot-value 4486.0120453812515, :daily-ret -0.023017365239474424, :leverage -1.2790439639889082, :loan 20562.375} {:date \"1984-10-01\", :tot-value 4612.7458654954535, :daily-ret -0.035916266518967885, :leverage -1.2892070923151746, :loan 20562.375} {:date \"1984-10-02\", :tot-value 4738.47657376039, :daily-ret -0.03494531269677795, :leverage -1.2994506439641271, :loan 20562.375} {:date \"1984-10-03\", :tot-value 4840.395187633776, :daily-ret -0.027832458829903844, :leverage -1.307874405475736, :loan 20562.375} {:date \"1984-10-04\", :tot-value 4997.066410961098, :daily-ret -0.042081231595105316, :leverage -1.3210386984861988, :loan 20562.375} {:date \"1984-10-05\", :tot-value 5129.98676672665, :daily-ret -0.03497868479971248, :leverage -1.3324169071683944, :loan 20562.375} {:date \"1984-10-08\", :tot-value 5262.578002738717, :daily-ret -0.034295192681512696, :leverage -1.3439639103499699, :loan 20562.375} {:date \"1984-10-09\", :tot-value 5389.369202646172, :daily-ret -0.03226355847927184, :leverage -1.3551945655742172, :loan 20562.375} {:date \"1984-10-10\", :tot-value 5572.181892572704, :daily-ret -0.04575837992734808, :leverage -1.3717218219031357, :loan 20562.375} {:date \"1984-10-11\", :tot-value 5774.231070298439, :daily-ret -0.04952608682144089, :leverage -1.3904635428047913, :loan 20562.375} {:date \"1984-10-12\", :tot-value 5919.529617065255, :daily-ret -0.03489853648345334, :leverage -1.4042608838828599, :loan 20562.375} {:date \"1984-10-15\", :tot-value 6114.11221780458, :daily-ret -0.04602909295464713, :leverage -1.4231728277630025, :loan 20562.375} {:date \"1984-10-16\", :tot-value 6210.027608185476, :daily-ret -0.022300817497010614, :leverage -1.4326837581793204, :loan 20562.375} {:date \"1984-10-17\", :tot-value 6401.993512371906, :daily-ret -0.0442080408042266, :leverage -1.4521060056161141, :loan 20562.375} {:date \"1984-10-18\", :tot-value 6687.743115610664, :daily-ret -0.0647150857764479, :leverage -1.4820122920259382, :loan 20562.375} {:date \"1984-10-19\", :tot-value 6803.038227827581, :daily-ret -0.025544072428667252, :leverage -1.4944306793614057, :loan 20562.375} {:date \"1984-10-22\", :tot-value 6944.925749882963, :daily-ret -0.031169421684631538, :leverage -1.5100019557497726, :loan 20562.375} {:date \"1984-10-23\", :tot-value 7072.458846583615, :daily-ret -0.027737155425222364, :leverage -1.5242774503674348, :loan 20562.375} {:date \"1984-10-24\", :tot-value 7214.179099343147, :daily-ret -0.030563059302608792, :leverage -1.5404609846180144, :loan 20562.375} {:date \"1984-10-25\", :tot-value 7355.899352102679, :daily-ret -0.0302900549267617, :leverage -1.5569918537103313, :loan 20562.375} {:date \"1984-10-26\", :tot-value 7381.106189707438, :daily-ret -0.00533648870018754, :leverage -1.5599693243448551, :loan 20562.375} {:date \"1984-10-29\", :tot-value 7438.617091382431, :daily-ret -0.012160664945112948, :leverage -1.5668054183244227, :loan 20562.375} {:date \"1984-10-30\", :tot-value 7647.050332894581, :daily-ret -0.04399750347054047, :leverage -1.592091219539465, :loan 20562.375} {:date \"1984-10-31\", :tot-value 7761.471970356338, :daily-ret -0.02385710892520293, :leverage -1.6063222221418854, :loan 20562.375} {:date \"1984-11-01\", :tot-value 7982.165475751187, :daily-ret -0.045827727123633095, :leverage -1.6345017911160598, :loan 20562.375} {:date \"1984-11-02\", :tot-value 8105.190167894825, :daily-ret -0.02525609523933567, :leverage -1.6512777180054563, :loan 20550.25} {:date \"1984-11-05\", :tot-value 8246.214939241216, :daily-ret -0.02876579745874116, :leverage -1.6676132153108112, :loan 20598.0} {:date \"1984-11-06\", :tot-value 8425.256294310037, :daily-ret -0.036287812008480747, :leverage -1.6894084472351318, :loan 20646.25} {:date \"1984-11-07\", :tot-value 8498.454370974303, :daily-ret -0.01467862837417937, :leverage -1.6968704768055605, :loan 20693.625} {:date \"1984-11-08\", :tot-value 8669.164010561732, :daily-ret -0.034169846767740174, :leverage -1.718109053772023, :loan 20741.375} {:date \"1984-11-09\", :tot-value 8800.003720096074, :daily-ret -0.025975041316277307, :leverage -1.7340067103738057, :loan 20789.0} {:date \"1984-11-12\", :tot-value 8930.522689183237, :daily-ret -0.02576615204650986, :leverage -1.7500873263944254, :loan 20836.5} {:date \"1984-11-13\", :tot-value 9071.367539982895, :daily-ret -0.027664875201349186, :leverage -1.767937847104553, :loan 20884.0} {:date \"1984-11-14\", :tot-value 9201.349413152926, :daily-ret -0.02538725728649716, :leverage -1.7844270538906954, :loan 20931.375} {:date \"1984-11-15\", :tot-value 9264.093489391586, :daily-ret -0.012170517412473924, :leverage -1.7908712896003476, :loan 20977.875} {:date \"1984-11-16\", :tot-value 9312.265653780387, :daily-ret -0.009310455550741769, :leverage -1.7951651187328739, :loan 21023.375} {:date \"1984-11-19\", :tot-value 9356.744223706677, :daily-ret -0.008572001719960464, :leverage -1.7989616376453932, :loan 21067.875} {:date \"1984-11-20\", :tot-value 9519.60694693983, :daily-ret -0.03142607467684793, :leverage -1.8211500148942639, :loan 21112.625} {:date \"1984-11-21\", :tot-value 9646.034687813815, :daily-ret -0.024248973007518722, :leverage -1.8379684009213326, :loan 21157.25} {:date \"1984-11-23\", :tot-value 9983.567759382082, :daily-ret -0.06499622263785558, :leverage -1.8897766830520653, :loan 21203.875} {:date \"1984-11-26\", :tot-value 10124.272895511593, :daily-ret -0.026730810747342224, :leverage -1.9099875271457267, :loan 21250.0} {:date \"1984-11-27\", :tot-value 10354.434053883886, :daily-ret -0.04374989796210273, :leverage -1.9462528354749393, :loan 21297.0} {:date \"1984-11-28\", :tot-value 10378.630779454166, :daily-ret -0.0045435729598455035, :leverage -1.9465887999836513, :loan 21342.875} {:date \"1984-11-29\", :tot-value 10505.804490270148, :daily-ret -0.023935988702516887, :leverage -1.965356773170831, :loan 21388.625} {:date \"1984-11-30\", :tot-value 10578.101596668163, :daily-ret -0.01354078780392019, :leverage -1.9744329591055574, :loan 21433.75} {:date \"1984-12-03\", :tot-value 10648.257622569643, :daily-ret -0.01310967089688828, :leverage -1.9832193090699262, :loan 21478.25} {:date \"1984-12-04\", :tot-value 10816.12759532515, :daily-ret -0.031443696453128694, :leverage -2.0102042115120935, :loan 21523.0} {:date \"1984-12-05\", :tot-value 10795.79586762231, :daily-ret 0.0037674637672877064, :leverage -2.0023412608490863, :loan 21566.375} {:date \"1984-12-06\", :tot-value 10859.51548807676, :daily-ret -0.011829993071416583, :leverage -2.0102241831232677, :loan 21609.125} {:date \"1984-12-07\", :tot-value 10951.651353111645, :daily-ret -0.01709593081329994, :leverage -2.023533296080456, :loan 21651.5} {:date \"1984-12-10\", :tot-value 11135.923223894217, :daily-ret -0.03428472177184093, :leverage -2.0547053013263024, :loan 21694.25} {:date \"1984-12-11\", :tot-value 11289.639499105111, :daily-ret -0.028523553262836638, :leverage -2.0806082954734024, :loan 21737.125} {:date \"1984-12-12\", :tot-value 11395.871979863585, :daily-ret -0.019644239962428978, :leverage -2.0974581902603933, :loan 21779.75} {:date \"1984-12-13\", :tot-value 11549.971553240654, :daily-ret -0.028533896597926916, :leverage -2.124355275636574, :loan 21822.5} {:date \"1984-12-14\", :tot-value 11785.914910630405, :daily-ret -0.04386654122991853, :leverage -2.1692277204147583, :loan 21866.0} {:date \"1984-12-17\", :tot-value 12104.09174311445, :daily-ret -0.05951700980262037, :leverage -2.2342570877780856, :loan 21910.875} {:date \"1984-12-18\", :tot-value 12422.70108223281, :daily-ret -0.0598347088143025, :leverage -2.3029314816895625, :loan 21957.125} {:date \"1984-12-19\", :tot-value 12497.931337820373, :daily-ret -0.013976379267826751, :leverage -2.3148874714060543, :loan 22002.875} {:date \"1984-12-20\", :tot-value 12521.058379931968, :daily-ret -0.004278609098946734, :leverage -2.314313392233279, :loan 22047.75} {:date \"1984-12-21\", :tot-value 12660.797634931074, :daily-ret -0.025996603989646157, :leverage -2.3423483217918877, :loan 22092.625} {:date \"1984-12-24\", :tot-value 12852.301912114883, :daily-ret -0.03579155976649127, :leverage -2.3841150988174626, :loan 22137.875} {:date \"1984-12-26\", :tot-value 12992.334628936867, :daily-ret -0.0261555102809461, :leverage -2.4136253906783423, :loan 22183.125} {:date \"1984-12-27\", :tot-value 13079.27018194379, :daily-ret -0.01620320205821673, :leverage -2.429626892700465, :loan 22228.0} {:date \"1984-12-28\", :tot-value 13326.290647328566, :daily-ret -0.04657763588099689, :leverage -2.489414625860013, :loan 22273.625} {:date \"1984-12-31\", :tot-value 13466.613680011633, :daily-ret -0.026408887657104665, :leverage -2.521198114691029, :loan 22319.25} {:date \"1985-01-02\", :tot-value 13460.104156847834, :daily-ret 0.0012144198118008236, :leverage -2.5117307480122215, :loan 22363.875} {:date \"1985-01-03\", :tot-value 13430.17264603317, :daily-ret 0.005556655964775585, :leverage -2.496030958921035, :loan 22407.375}]"
      ]
     },
     "execution_count": 17,
     "metadata": {},
     "output_type": "execute_result"
    }
   ],
   "source": [
    "(deref portfolio-value)"
   ]
  },
  {
   "cell_type": "code",
   "execution_count": null,
   "metadata": {},
   "outputs": [],
   "source": [
    "(get-prev-n-days :PRC 10 \"AAPL\")"
   ]
  },
  {
   "cell_type": "code",
   "execution_count": null,
   "metadata": {},
   "outputs": [],
   "source": [
    "(test true)"
   ]
  },
  {
   "cell_type": "markdown",
   "metadata": {},
   "source": [
    "### New way of using order"
   ]
  },
  {
   "cell_type": "code",
   "execution_count": null,
   "metadata": {},
   "outputs": [],
   "source": [
    "(order \"AAPL\" 10) ;with leverage, exact value trade\n",
    "(order \"AAPL\" 10 :leverage false) ;without leverage, exact value trade\n",
    "(order \"AAPL\" 10 :remaining true) ;with leverage, remaining value\n",
    "(order \"AAPL\" 10 :leverage false :remaining true) ;without leverage, remaining value"
   ]
  },
  {
   "cell_type": "markdown",
   "metadata": {},
   "source": [
    "### Calculating indices during the process"
   ]
  },
  {
   "cell_type": "markdown",
   "metadata": {},
   "source": [
    "#### Moving average"
   ]
  },
  {
   "cell_type": "code",
   "execution_count": null,
   "metadata": {},
   "outputs": [],
   "source": [
    "(average (map (fn [_] (Double/parseDouble (get _ :PRC))) (get-prev-n-days :PRC 10 \"AAPL\"))) ;:PRC should be replaced\n",
    "                                                                                            ; by the key"
   ]
  },
  {
   "cell_type": "markdown",
   "metadata": {},
   "source": [
    "##### An example of defining moving average"
   ]
  },
  {
   "cell_type": "code",
   "execution_count": null,
   "metadata": {},
   "outputs": [],
   "source": [
    "(defn moving-average\n",
    "    [key period tic]\n",
    "    (average (map (fn [_] (Double/parseDouble (get _ key))) (get-prev-n-days key period tic))))"
   ]
  },
  {
   "cell_type": "markdown",
   "metadata": {},
   "source": [
    "### Check order record"
   ]
  },
  {
   "cell_type": "code",
   "execution_count": null,
   "metadata": {},
   "outputs": [],
   "source": [
    "(pprint/print-table (deref order-record))"
   ]
  },
  {
   "cell_type": "markdown",
   "metadata": {},
   "source": [
    "### Check portfolio record"
   ]
  },
  {
   "cell_type": "code",
   "execution_count": null,
   "metadata": {},
   "outputs": [],
   "source": [
    ";; view final portfolio\n",
    "(view-portfolio)"
   ]
  },
  {
   "cell_type": "code",
   "execution_count": null,
   "metadata": {},
   "outputs": [],
   "source": [
    ";; view portfolio value and return\n",
    "(view-portfolio-record)"
   ]
  },
  {
   "cell_type": "markdown",
   "metadata": {},
   "source": [
    "### Generate evaluation report"
   ]
  },
  {
   "cell_type": "code",
   "execution_count": null,
   "metadata": {},
   "outputs": [],
   "source": [
    "(eval-report)"
   ]
  },
  {
   "cell_type": "markdown",
   "metadata": {},
   "source": [
    "### Plot variables"
   ]
  },
  {
   "cell_type": "code",
   "execution_count": null,
   "metadata": {},
   "outputs": [],
   "source": [
    "(def data (deref portfolio-value))"
   ]
  },
  {
   "cell_type": "code",
   "execution_count": null,
   "metadata": {},
   "outputs": [],
   "source": [
    "; Add legend name to series\n",
    "(def data-to-plot\n",
    " (map #(assoc % :plot \"portfolio\")\n",
    "  data))"
   ]
  },
  {
   "cell_type": "code",
   "execution_count": null,
   "metadata": {},
   "outputs": [],
   "source": [
    "(first data-to-plot)"
   ]
  },
  {
   "cell_type": "code",
   "execution_count": null,
   "metadata": {},
   "outputs": [],
   "source": [
    "(plot data-to-plot :plot :date :daily-ret)"
   ]
  },
  {
   "cell_type": "code",
   "execution_count": null,
   "metadata": {},
   "outputs": [],
   "source": []
  }
 ],
 "metadata": {
  "kernelspec": {
   "display_name": "Clojure (backtesting_clojure)",
   "language": "clojure",
   "name": "backtesting_clojure"
  },
  "language_info": {
   "file_extension": ".clj",
   "mimetype": "text/x-clojure",
   "name": "clojure",
   "version": "1.10.1"
  }
 },
 "nbformat": 4,
 "nbformat_minor": 2
}
