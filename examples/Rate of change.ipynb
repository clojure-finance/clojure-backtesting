{
 "cells": [
  {
   "cell_type": "markdown",
   "metadata": {},
   "source": [
    "### Run this in Python kernel"
   ]
  },
  {
   "cell_type": "code",
   "execution_count": null,
   "metadata": {},
   "outputs": [],
   "source": [
    "%%html\n",
    "<style>\n",
    "body {\n",
    "    font-family: \"Arial\", cursive, sans-serif; # font style of application\n",
    "}\n",
    "pre {\n",
    "    font-family: \"Courier New\"; # font style of cell outputs\n",
    "}\n",
    "</style>  "
   ]
  },
  {
   "cell_type": "markdown",
   "metadata": {},
   "source": [
    "### Run below in the backtesting_clojure kernel"
   ]
  },
  {
   "cell_type": "code",
   "execution_count": 1,
   "metadata": {},
   "outputs": [
    {
     "data": {
      "text/plain": [
       "nil"
      ]
     },
     "execution_count": 1,
     "metadata": {},
     "output_type": "execute_result"
    }
   ],
   "source": [
    "; import libraries from kernel\n",
    "(ns clojure-backtesting.demo\n",
    "  (:require [clojure-backtesting.data :refer :all]\n",
    "            [clojure-backtesting.data-management :refer :all]\n",
    "            [clojure-backtesting.portfolio :refer :all]\n",
    "            [clojure-backtesting.order :refer :all]\n",
    "            [clojure-backtesting.evaluate :refer :all]\n",
    "            [clojure-backtesting.plot :refer :all]\n",
    "            [clojure-backtesting.counter :refer :all]\n",
    "            [clojure-backtesting.automation :refer :all]\n",
    "            [clojure-backtesting.parameters :refer :all]\n",
    "            [clojure-backtesting.indicators :refer :all]\n",
    "            [clojure-backtesting.direct :refer :all]\n",
    "            [clojure.string :as str]\n",
    "            [clojure.java.io :as io]\n",
    "            [clojure.pprint :as pprint]\n",
    "  ) ;; require all libriaries from core\n",
    ")"
   ]
  },
  {
   "cell_type": "markdown",
   "metadata": {},
   "source": [
    "### Import dataset"
   ]
  },
  {
   "cell_type": "code",
   "execution_count": 2,
   "metadata": {},
   "outputs": [],
   "source": [
    "; path to dataset = \"/Volumes/T7/CRSP\"\n",
    "; change it to the relative path to your own dataset\n",
    ";\n",
    "(load-dataset \"/Volumes/T7/CRSP\" \"main\" add-aprc)"
   ]
  },
  {
   "cell_type": "markdown",
   "metadata": {},
   "source": [
    "### Initialise portfolio （Go back here everytime you want to restart.）"
   ]
  },
  {
   "cell_type": "code",
   "execution_count": 3,
   "metadata": {},
   "outputs": [],
   "source": [
    ";; initialise with current date and initial capital (= $10000)\n",
    "(init-portfolio \"1980-12-15\" 1000);"
   ]
  },
  {
   "cell_type": "markdown",
   "metadata": {},
   "source": [
    "### Rate of Change (ROC) strategy\n",
    "\n",
    "ROC = (Closing price - Closing n periods ago) / Closing n periods ago * 100\n",
    "\n",
    "We'll trade according to the following rules:\n",
    "- **Buy signal**: when ROC crosses the lower threshold (e.g. -30)\n",
    "- **Sell signal**: when ROC crosses the upper threshold (e.g. +30"
   ]
  },
  {
   "cell_type": "code",
   "execution_count": 8,
   "metadata": {},
   "outputs": [
    {
     "data": {
      "text/plain": [
       "[]"
      ]
     },
     "execution_count": 8,
     "metadata": {},
     "output_type": "execute_result"
    }
   ],
   "source": [
    "(def n 10)\n",
    "(def lower-threshold -30)\n",
    "(def upper-threshold 30)\n",
    "    \n",
    "(while (< (compare (get-date) \"1981-12-31\") 0)\n",
    "\n",
    "  (let [roc (ROC \"14593\" 10)]\n",
    "    (if (< roc lower-threshold)\n",
    "      (order \"14593\" 1 :print false)) ; buy signal\n",
    "    (if (> roc upper-threshold)\n",
    "      (order \"14593\" -1 :print false))) ; sell signal\n",
    "  (update-eval-report)\n",
    "  (next-date))\n",
    "(end-order)"
   ]
  },
  {
   "cell_type": "code",
   "execution_count": 11,
   "metadata": {},
   "outputs": [
    {
     "name": "stdout",
     "output_type": "stream",
     "text": [
      "\n",
      "|      :date | :tic |  :price | :aprc | :quantity |\n",
      "|------------+------+---------+-------+-----------|\n",
      "| 1980-12-30 | AAPL | 35.1875 | 29.79 |        -1 |\n",
      "| 1980-12-31 | AAPL | 34.1875 | 29.42 |        -1 |\n",
      "| 1981-01-02 | AAPL |  34.625 | 29.58 |        -1 |\n",
      "| 1982-01-04 | AAPL | 22.0625 | 24.32 |         3 |\n"
     ]
    },
    {
     "data": {
      "text/plain": [
       "nil"
      ]
     },
     "execution_count": 11,
     "metadata": {},
     "output_type": "execute_result"
    }
   ],
   "source": [
    "(print-order-record 10)"
   ]
  },
  {
   "cell_type": "markdown",
   "metadata": {},
   "source": [
    "### Check portfolio record"
   ]
  },
  {
   "cell_type": "code",
   "execution_count": 12,
   "metadata": {},
   "outputs": [
    {
     "name": "stdout",
     "output_type": "stream",
     "text": [
      "\n",
      "| :asset | :price | :aprc | :quantity | :tot-val |\n",
      "|--------+--------+-------+-----------+----------|\n",
      "|   cash |    N/A |   N/A |       N/A |  1015.82 |\n"
     ]
    },
    {
     "data": {
      "text/plain": [
       "nil"
      ]
     },
     "execution_count": 12,
     "metadata": {},
     "output_type": "execute_result"
    }
   ],
   "source": [
    ";; view final portfolio\n",
    "(print-portfolio)"
   ]
  },
  {
   "cell_type": "code",
   "execution_count": 13,
   "metadata": {},
   "outputs": [
    {
     "name": "stdout",
     "output_type": "stream",
     "text": [
      "\n",
      "|      :date | :tot-value | :daily-ret | :tot-ret | :loan | :leverage | :margin |\n",
      "|------------+------------+------------+----------+-------+-----------+---------|\n",
      "| 1980-12-15 |   $1000.00 |      0.00% |    0.00% | $0.00 |      0.00 |   0.00% |\n",
      "| 1980-12-30 |   $1000.00 |      0.00% |    0.00% | $0.00 |      0.00 |   0.00% |\n",
      "| 1980-12-31 |   $1000.37 |      0.00% |    0.02% | $0.00 |      0.00 |   0.00% |\n",
      "| 1981-01-02 |   $1000.04 |      0.00% |    0.00% | $0.00 |      0.00 |   0.00% |\n",
      "| 1981-01-05 |   $1000.96 |      0.04% |    0.04% | $0.00 |      0.00 |   0.00% |\n",
      "| 1981-01-06 |   $1002.67 |      0.07% |    0.12% | $0.00 |      0.00 |   0.00% |\n",
      "| 1981-01-07 |   $1004.28 |      0.07% |    0.19% | $0.00 |      0.00 |   0.00% |\n",
      "| 1981-01-08 |   $1005.03 |      0.03% |    0.22% | $0.00 |      0.00 |   0.00% |\n",
      "| 1981-01-09 |   $1003.10 |     -0.08% |    0.13% | $0.00 |      0.00 |   0.00% |\n",
      "| 1981-01-12 |   $1003.32 |      0.01% |    0.14% | $0.00 |      0.00 |   0.00% |\n"
     ]
    },
    {
     "data": {
      "text/plain": [
       "nil"
      ]
     },
     "execution_count": 13,
     "metadata": {},
     "output_type": "execute_result"
    }
   ],
   "source": [
    ";; view portfolio value and return\n",
    "(print-portfolio-record 10)"
   ]
  },
  {
   "cell_type": "markdown",
   "metadata": {},
   "source": [
    "### Generate evaluation report"
   ]
  },
  {
   "cell_type": "code",
   "execution_count": 14,
   "metadata": {},
   "outputs": [
    {
     "name": "stdout",
     "output_type": "stream",
     "text": [
      "\n",
      "|      :date | :tot-value |    :vol |  :r-vol | :sharpe | :r-sharpe | :pnl-pt | :max-drawdown |\n",
      "|------------+------------+---------+---------+---------+-----------+---------+---------------|\n",
      "| 1980-12-29 |      $1000 | 0.0000% | 0.0000% | 0.0000% |   0.0000% |      $0 |        0.0000 |\n",
      "| 1980-12-30 |      $1000 | 0.0093% | 0.0093% | 1.7321% |   1.7321% |      $0 |      100.0000 |\n",
      "| 1980-12-31 |      $1000 | 0.0071% | 0.0071% | 0.2753% |   0.2753% |      $0 |        0.0000 |\n",
      "| 1981-01-02 |      $1000 | 0.0000% | 0.0000% | 0.0000% |   0.0000% |      $0 |        0.0000 |\n",
      "| 1981-01-05 |      $1000 | 0.0177% | 0.0177% | 2.3463% |   2.3463% |      $0 |      100.0000 |\n",
      "| 1981-01-06 |      $1002 | 0.0314% | 0.0314% | 3.6894% |   3.6894% |      $0 |      100.0000 |\n",
      "| 1981-01-07 |      $1004 | 0.0345% | 0.0345% | 5.3805% |   5.3805% |      $1 |      100.0000 |\n",
      "| 1981-01-08 |      $1005 | 0.0320% | 0.0320% | 6.8064% |   6.8064% |      $1 |      100.0000 |\n",
      "| 1981-01-09 |      $1003 | 0.0473% | 0.0473% | 2.8434% |   2.8434% |      $1 |      211.8496 |\n",
      "| 1981-01-12 |      $1003 | 0.0447% | 0.0447% | 3.2259% |   3.2259% |      $1 |      211.8496 |\n",
      "| 1981-01-13 |      $1004 | 0.0446% | 0.0446% | 4.5883% |   4.5883% |      $1 |      211.8496 |\n",
      "| 1981-01-14 |      $1004 | 0.0432% | 0.0432% | 4.5957% |   4.5957% |      $1 |      211.8496 |\n",
      "| 1981-01-15 |      $1003 | 0.0437% | 0.0437% | 3.7307% |   3.7307% |      $1 |      211.8496 |\n",
      "| 1981-01-16 |      $1004 | 0.0420% | 0.0420% | 4.2616% |   4.2616% |      $1 |      211.8496 |\n",
      "| 1981-01-19 |      $1001 | 0.0490% | 0.0490% | 1.7249% |   1.7249% |      $0 |      227.1822 |\n",
      "| 1981-01-20 |      $1003 | 0.0487% | 0.0487% | 2.7661% |   2.7661% |      $1 |      227.1822 |\n",
      "| 1981-01-21 |      $1002 | 0.0483% | 0.0483% | 2.0754% |   2.0754% |      $0 |      227.1822 |\n",
      "| 1981-01-22 |      $1001 | 0.0472% | 0.0472% | 1.7279% |   1.7279% |      $0 |      227.1822 |\n",
      "| 1981-01-23 |      $1002 | 0.0458% | 0.0458% | 1.9132% |   1.9132% |      $0 |      227.1822 |\n",
      "| 1981-01-26 |      $1002 | 0.0449% | 0.0449% | 2.5770% |   2.5770% |      $0 |      227.1822 |\n",
      "| 1981-01-27 |      $1002 | 0.0438% | 0.0438% | 2.8584% |   2.8584% |      $0 |      227.1822 |\n",
      "| 1981-01-28 |      $1004 | 0.0440% | 0.0440% | 4.0749% |   4.0749% |      $1 |      227.1822 |\n",
      "| 1981-01-29 |      $1005 | 0.0442% | 0.0442% | 5.3685% |   5.3685% |      $1 |      227.1822 |\n",
      "| 1981-01-30 |      $1007 | 0.0457% | 0.0457% | 7.0040% |   7.0040% |      $2 |      214.2333 |\n",
      "| 1981-02-02 |      $1009 | 0.0474% | 0.0474% | 8.6896% |   8.6896% |      $3 |      202.5987 |\n",
      "| 1981-02-03 |      $1008 | 0.0485% | 0.0485% | 7.3598% |   7.3598% |      $2 |      202.5987 |\n",
      "| 1981-02-04 |      $1007 | 0.0493% | 0.0493% | 6.1475% |   6.1475% |      $2 |      202.5987 |\n",
      "| 1981-02-05 |      $1006 | 0.0485% | 0.0485% | 6.1858% |   6.1858% |      $2 |      202.5987 |\n",
      "| 1981-02-06 |      $1006 | 0.0477% | 0.0477% | 6.2201% |   6.2201% |      $2 |      202.5987 |\n",
      "| 1981-02-09 |      $1008 | 0.0484% | 0.0484% | 7.7245% |   7.7245% |      $2 |      202.5987 |\n"
     ]
    },
    {
     "data": {
      "text/plain": [
       "nil"
      ]
     },
     "execution_count": 14,
     "metadata": {},
     "output_type": "execute_result"
    }
   ],
   "source": [
    "(print-eval-report 30)"
   ]
  },
  {
   "cell_type": "markdown",
   "metadata": {},
   "source": [
    "### Plot variables"
   ]
  },
  {
   "cell_type": "code",
   "execution_count": 16,
   "metadata": {},
   "outputs": [
    {
     "data": {
      "text/plain": [
       "#'clojure-backtesting.demo/data"
      ]
     },
     "execution_count": 16,
     "metadata": {},
     "output_type": "execute_result"
    }
   ],
   "source": [
    "(def data (deref portfolio-value))"
   ]
  },
  {
   "cell_type": "code",
   "execution_count": 17,
   "metadata": {},
   "outputs": [
    {
     "data": {
      "text/plain": [
       "#'clojure-backtesting.demo/data-to-plot"
      ]
     },
     "execution_count": 17,
     "metadata": {},
     "output_type": "execute_result"
    }
   ],
   "source": [
    "; Add legend name to series\n",
    "(def data-to-plot\n",
    " (map #(assoc % :plot \"portfolio\")\n",
    "  data))"
   ]
  },
  {
   "cell_type": "code",
   "execution_count": 18,
   "metadata": {},
   "outputs": [
    {
     "data": {
      "text/plain": [
       "{:date \"1980-12-15\", :tot-value 1000, :daily-ret 0.0, :tot-ret 0.0, :loan 0.0, :leverage 0.0, :margin 0.0, :plot \"portfolio\"}"
      ]
     },
     "execution_count": 18,
     "metadata": {},
     "output_type": "execute_result"
    }
   ],
   "source": [
    "(first data-to-plot)"
   ]
  },
  {
   "cell_type": "code",
   "execution_count": 19,
   "metadata": {},
   "outputs": [
    {
     "data": {
      "text/html": [
       "\n",
       "  <div>\n",
       "    <div id='uuid-153d1a58-97a1-4d57-a0ee-0fbc9578a232'></div>\n",
       "    <script>\n",
       "    requirejs.config({\n",
       "      baseUrl: 'https://cdn.jsdelivr.net/npm/',\n",
       "      paths: {\n",
       "        'vega-embed':  'vega-embed@6.12.2?noext',\n",
       "        'vega-lib': 'vega-lib?noext',\n",
       "        'vega-lite': 'vega-lite@4.17.0?noext',\n",
       "        'vega': 'vega@5.17.0?noext'\n",
       "      }\n",
       "    });\n",
       "    require(['vega-embed'], function(vegaEmbed) {\n",
       "      let spec = {\"width\":800,\"height\":500,\"data\":{\"values\":[{\"date\":\"1980-12-15\",\"tot-value\":1000,\"daily-ret\":0.0,\"tot-ret\":0.0,\"loan\":0.0,\"leverage\":0.0,\"margin\":0.0,\"plot\":\"portfolio\"},{\"date\":\"1980-12-30\",\"tot-value\":1000.0,\"daily-ret\":0.0,\"tot-ret\":0.0,\"loan\":0.0,\"leverage\":0.0,\"margin\":0.0,\"plot\":\"portfolio\"},{\"date\":\"1980-12-31\",\"tot-value\":1000.3706669933827,\"daily-ret\":0.0,\"tot-ret\":1.6094880248787707E-4,\"loan\":0.0,\"leverage\":0.0,\"margin\":0.0,\"plot\":\"portfolio\"},{\"date\":\"1981-01-02\",\"tot-value\":1000.0448440219322,\"daily-ret\":0.0,\"tot-ret\":1.9475074604468652E-5,\"loan\":0.0,\"leverage\":0.0,\"margin\":0.0,\"plot\":\"portfolio\"},{\"date\":\"1981-01-05\",\"tot-value\":1000.9553342421823,\"daily-ret\":3.9522325891440087E-4,\"tot-ret\":4.1469833351886955E-4,\"loan\":0.0,\"leverage\":0.0,\"margin\":0.0,\"plot\":\"portfolio\"},{\"date\":\"1981-01-06\",\"tot-value\":1002.6693064391009,\"daily-ret\":7.430222544810058E-4,\"tot-ret\":0.0011577205879998755,\"loan\":0.0,\"leverage\":0.0,\"margin\":0.0,\"plot\":\"portfolio\"},{\"date\":\"1981-01-07\",\"tot-value\":1004.2804510650063,\"daily-ret\":6.972883783209468E-4,\"tot-ret\":0.0018550089663208224,\"loan\":0.0,\"leverage\":0.0,\"margin\":0.0,\"plot\":\"portfolio\"},{\"date\":\"1981-01-08\",\"tot-value\":1005.026184988474,\"daily-ret\":3.2236806168774336E-4,\"tot-ret\":0.002177377028008566,\"loan\":0.0,\"leverage\":0.0,\"margin\":0.0,\"plot\":\"portfolio\"},{\"date\":\"1981-01-09\",\"tot-value\":1003.1048018233647,\"daily-ret\":-8.310676607708245E-4,\"tot-ret\":0.0013463093672377415,\"loan\":0.0,\"leverage\":0.0,\"margin\":0.0,\"plot\":\"portfolio\"},{\"date\":\"1981-01-12\",\"tot-value\":1003.3236402267976,\"daily-ret\":9.473580958526861E-5,\"tot-ret\":0.0014410451768230102,\"loan\":0.0,\"leverage\":0.0,\"margin\":0.0,\"plot\":\"portfolio\"},{\"date\":\"1981-01-13\",\"tot-value\":1004.7268873733275,\"daily-ret\":6.069793397219387E-4,\"tot-ret\":0.002048024516544949,\"loan\":0.0,\"leverage\":0.0,\"margin\":0.0,\"plot\":\"portfolio\"},{\"date\":\"1981-01-14\",\"tot-value\":1004.5777419474582,\"daily-ret\":-6.447308648964284E-5,\"tot-ret\":0.001983551430055306,\"loan\":0.0,\"leverage\":0.0,\"margin\":0.0,\"plot\":\"portfolio\"},{\"date\":\"1981-01-15\",\"tot-value\":1003.7635337882717,\"daily-ret\":-3.5213749206906066E-4,\"tot-ret\":0.0016314139379862455,\"loan\":0.0,\"leverage\":0.0,\"margin\":0.0,\"plot\":\"portfolio\"},{\"date\":\"1981-01-16\",\"tot-value\":1004.1323622720071,\"daily-ret\":1.595502808396212E-4,\"tot-ret\":0.0017909642188258666,\"loan\":0.0,\"leverage\":0.0,\"margin\":0.0,\"plot\":\"portfolio\"},{\"date\":\"1981-01-19\",\"tot-value\":1001.949821482792,\"daily-ret\":-9.449919878105498E-4,\"tot-ret\":8.459722310153169E-4,\"loan\":0.0,\"leverage\":0.0,\"margin\":0.0,\"plot\":\"portfolio\"},{\"date\":\"1981-01-20\",\"tot-value\":1003.1048509206197,\"daily-ret\":5.003583928910137E-4,\"tot-ret\":0.0013463306239063304,\"loan\":0.0,\"leverage\":0.0,\"margin\":0.0,\"plot\":\"portfolio\"},{\"date\":\"1981-01-21\",\"tot-value\":1002.3086386962368,\"daily-ret\":-3.4485715333340067E-4,\"tot-ret\":0.0010014734705729297,\"loan\":0.0,\"leverage\":0.0,\"margin\":0.0,\"plot\":\"portfolio\"},{\"date\":\"1981-01-22\",\"tot-value\":1001.8783392835035,\"daily-ret\":-1.8648625646305455E-4,\"tot-ret\":8.149872141098751E-4,\"loan\":0.0,\"leverage\":0.0,\"margin\":0.0,\"plot\":\"portfolio\"},{\"date\":\"1981-01-23\",\"tot-value\":1002.0214713259641,\"daily-ret\":6.204048326242183E-5,\"tot-ret\":8.770276973722969E-4,\"loan\":0.0,\"leverage\":0.0,\"margin\":0.0,\"plot\":\"portfolio\"},{\"date\":\"1981-01-26\",\"tot-value\":1002.6693754238588,\"daily-ret\":2.807227705674057E-4,\"tot-ret\":0.0011577504679397025,\"loan\":0.0,\"leverage\":0.0,\"margin\":0.0,\"plot\":\"portfolio\"},{\"date\":\"1981-01-27\",\"tot-value\":1002.8867741575688,\"daily-ret\":9.415350531323412E-5,\"tot-ret\":0.0012519039732529367,\"loan\":0.0,\"leverage\":0.0,\"margin\":0.0,\"plot\":\"portfolio\"},{\"date\":\"1981-01-28\",\"tot-value\":1004.1324182891723,\"daily-ret\":5.39084473399842E-4,\"tot-ret\":0.0017909884466527789,\"loan\":0.0,\"leverage\":0.0,\"margin\":0.0,\"plot\":\"portfolio\"},{\"date\":\"1981-01-29\",\"tot-value\":1005.4778841337978,\"daily-ret\":5.815341198383877E-4,\"tot-ret\":0.0023725225664911666,\"loan\":0.0,\"leverage\":0.0,\"margin\":0.0,\"plot\":\"portfolio\"},{\"date\":\"1981-01-30\",\"tot-value\":1007.3949516851997,\"daily-ret\":8.27247599479271E-4,\"tot-ret\":0.0031997701659704377,\"loan\":0.0,\"leverage\":0.0,\"margin\":0.0,\"plot\":\"portfolio\"},{\"date\":\"1981-02-02\",\"tot-value\":1009.5337140727175,\"daily-ret\":9.210569187929035E-4,\"tot-ret\":0.004120827084763341,\"loan\":0.0,\"leverage\":0.0,\"margin\":0.0,\"plot\":\"portfolio\"},{\"date\":\"1981-02-03\",\"tot-value\":1008.2573546187738,\"daily-ret\":-5.494284817742228E-4,\"tot-ret\":0.003571398602989118,\"loan\":0.0,\"leverage\":0.0,\"margin\":0.0,\"plot\":\"portfolio\"},{\"date\":\"1981-02-04\",\"tot-value\":1007.0068379950732,\"daily-ret\":-5.389789992771721E-4,\"tot-ret\":0.003032419603711946,\"loan\":0.0,\"leverage\":0.0,\"margin\":0.0,\"plot\":\"portfolio\"},{\"date\":\"1981-02-05\",\"tot-value\":1006.9294922475054,\"daily-ret\":-3.33583846514299E-5,\"tot-ret\":0.002999061219060516,\"loan\":0.0,\"leverage\":0.0,\"margin\":0.0,\"plot\":\"portfolio\"},{\"date\":\"1981-02-06\",\"tot-value\":1006.8522508892855,\"daily-ret\":-3.3315919940556114E-5,\"tot-ret\":0.0029657452991199602,\"loan\":0.0,\"leverage\":0.0,\"margin\":0.0,\"plot\":\"portfolio\"},{\"date\":\"1981-02-09\",\"tot-value\":1008.6533857277516,\"daily-ret\":7.762053506810666E-4,\"tot-ret\":0.0037419506498010268,\"loan\":0.0,\"leverage\":0.0,\"margin\":0.0,\"plot\":\"portfolio\"},{\"date\":\"1981-02-10\",\"tot-value\":1008.732891804461,\"daily-ret\":3.423147147881724E-5,\"tot-ret\":0.003776182121279844,\"loan\":0.0,\"leverage\":0.0,\"margin\":0.0,\"plot\":\"portfolio\"},{\"date\":\"1981-02-11\",\"tot-value\":1009.8570276389306,\"daily-ret\":4.8370997554898017E-4,\"tot-ret\":0.004259892096828824,\"loan\":0.0,\"leverage\":0.0,\"margin\":0.0,\"plot\":\"portfolio\"},{\"date\":\"1981-02-12\",\"tot-value\":1010.1820508807281,\"daily-ret\":1.397555157442305E-4,\"tot-ret\":0.004399647612573054,\"loan\":0.0,\"leverage\":0.0,\"margin\":0.0,\"plot\":\"portfolio\"},{\"date\":\"1981-02-13\",\"tot-value\":1010.9198598066705,\"daily-ret\":3.170808535434174E-4,\"tot-ret\":0.004716728466116472,\"loan\":0.0,\"leverage\":0.0,\"margin\":0.0,\"plot\":\"portfolio\"},{\"date\":\"1981-02-17\",\"tot-value\":1010.1820682055252,\"daily-ret\":-3.170734053179128E-4,\"tot-ret\":0.004399655060798559,\"loan\":0.0,\"leverage\":0.0,\"margin\":0.0,\"plot\":\"portfolio\"},{\"date\":\"1981-02-18\",\"tot-value\":1008.6534063936958,\"daily-ret\":-6.576955128908638E-4,\"tot-ret\":0.003741959547907695,\"loan\":0.0,\"leverage\":0.0,\"margin\":0.0,\"plot\":\"portfolio\"},{\"date\":\"1981-02-19\",\"tot-value\":1010.8374478372941,\"daily-ret\":9.393630231218867E-4,\"tot-ret\":0.004681322571029581,\"loan\":0.0,\"leverage\":0.0,\"margin\":0.0,\"plot\":\"portfolio\"},{\"date\":\"1981-02-20\",\"tot-value\":1012.6778281958275,\"daily-ret\":7.899789679487902E-4,\"tot-ret\":0.005471301538978371,\"loan\":0.0,\"leverage\":0.0,\"margin\":0.0,\"plot\":\"portfolio\"},{\"date\":\"1981-02-23\",\"tot-value\":1012.1701949037622,\"daily-ret\":-2.17756927609471E-4,\"tot-ret\":0.0052535446113689,\"loan\":0.0,\"leverage\":0.0,\"margin\":0.0,\"plot\":\"portfolio\"},{\"date\":\"1981-02-24\",\"tot-value\":1013.2756960420334,\"daily-ret\":4.740813802147474E-4,\"tot-ret\":0.005727625991583647,\"loan\":0.0,\"leverage\":0.0,\"margin\":0.0,\"plot\":\"portfolio\"},{\"date\":\"1981-02-25\",\"tot-value\":1011.3337326757987,\"daily-ret\":-8.331327718778589E-4,\"tot-ret\":0.004894493219705788,\"loan\":0.0,\"leverage\":0.0,\"margin\":0.0,\"plot\":\"portfolio\"},{\"date\":\"1981-02-26\",\"tot-value\":1010.8374476460226,\"daily-ret\":-2.1317073085375641E-4,\"tot-ret\":0.004681322488852032,\"loan\":0.0,\"leverage\":0.0,\"margin\":0.0,\"plot\":\"portfolio\"},{\"date\":\"1981-02-27\",\"tot-value\":1009.6144205422098,\"daily-ret\":-5.257774220129076E-4,\"tot-ret\":0.004155545066839124,\"loan\":0.0,\"leverage\":0.0,\"margin\":0.0,\"plot\":\"portfolio\"},{\"date\":\"1981-03-02\",\"tot-value\":1009.533771539644,\"daily-ret\":-3.46932601988292E-5,\"tot-ret\":0.0041208518066402945,\"loan\":0.0,\"leverage\":0.0,\"margin\":0.0,\"plot\":\"portfolio\"},{\"date\":\"1981-03-03\",\"tot-value\":1010.0193838933149,\"daily-ret\":2.088568642430637E-4,\"tot-ret\":0.004329708670883358,\"loan\":0.0,\"leverage\":0.0,\"margin\":0.0,\"plot\":\"portfolio\"},{\"date\":\"1981-03-04\",\"tot-value\":1010.345286340863,\"daily-ret\":1.401109788958341E-4,\"tot-ret\":0.004469819649779192,\"loan\":0.0,\"leverage\":0.0,\"margin\":0.0,\"plot\":\"portfolio\"},{\"date\":\"1981-03-05\",\"tot-value\":1010.5088985765016,\"daily-ret\":7.032263069274182E-5,\"tot-ret\":0.004540142280471934,\"loan\":0.0,\"leverage\":0.0,\"margin\":0.0,\"plot\":\"portfolio\"},{\"date\":\"1981-03-06\",\"tot-value\":1010.755166766834,\"daily-ret\":1.0582775253635837E-4,\"tot-ret\":0.004645970033008292,\"loan\":0.0,\"leverage\":0.0,\"margin\":0.0,\"plot\":\"portfolio\"},{\"date\":\"1981-03-09\",\"tot-value\":1013.5338611238822,\"daily-ret\":0.0011922925703644772,\"tot-ret\":0.00583826260337277,\"loan\":0.0,\"leverage\":0.0,\"margin\":0.0,\"plot\":\"portfolio\"},{\"date\":\"1981-03-10\",\"tot-value\":1015.1074692812601,\"daily-ret\":6.737607740257651E-4,\"tot-ret\":0.006512023377398535,\"loan\":0.0,\"leverage\":0.0,\"margin\":0.0,\"plot\":\"portfolio\"},{\"date\":\"1981-03-11\",\"tot-value\":1016.2717771053598,\"daily-ret\":4.978415719408303E-4,\"tot-ret\":0.007009864949339365,\"loan\":0.0,\"leverage\":0.0,\"margin\":0.0,\"plot\":\"portfolio\"},{\"date\":\"1981-03-12\",\"tot-value\":1015.1074765425249,\"daily-ret\":-4.978384653464161E-4,\"tot-ret\":0.006512026483992949,\"loan\":0.0,\"leverage\":0.0,\"margin\":0.0,\"plot\":\"portfolio\"},{\"date\":\"1981-03-13\",\"tot-value\":1015.4631518378701,\"daily-ret\":1.521422771890309E-4,\"tot-ret\":0.006664168761181979,\"loan\":0.0,\"leverage\":0.0,\"margin\":0.0,\"plot\":\"portfolio\"},{\"date\":\"1981-03-16\",\"tot-value\":1014.1406696431845,\"daily-ret\":-5.659693727153677E-4,\"tot-ret\":0.006098199388466612,\"loan\":0.0,\"leverage\":0.0,\"margin\":0.0,\"plot\":\"portfolio\"},{\"date\":\"1981-03-17\",\"tot-value\":1012.5929230872248,\"daily-ret\":-6.633115686414046E-4,\"tot-ret\":0.005434887819825207,\"loan\":0.0,\"leverage\":0.0,\"margin\":0.0,\"plot\":\"portfolio\"},{\"date\":\"1981-03-18\",\"tot-value\":1010.5908679375423,\"daily-ret\":-8.59518340978944E-4,\"tot-ret\":0.004575369478846263,\"loan\":0.0,\"leverage\":0.0,\"margin\":0.0,\"plot\":\"portfolio\"},{\"date\":\"1981-03-19\",\"tot-value\":1011.0024288395116,\"daily-ret\":1.7682946559690525E-4,\"tot-ret\":0.004752198944443169,\"loan\":0.0,\"leverage\":0.0,\"margin\":0.0,\"plot\":\"portfolio\"},{\"date\":\"1981-03-20\",\"tot-value\":1010.5908557564653,\"daily-ret\":-1.7683470033109038E-4,\"tot-ret\":0.004575364244112078,\"loan\":0.0,\"leverage\":0.0,\"margin\":0.0,\"plot\":\"portfolio\"},{\"date\":\"1981-03-23\",\"tot-value\":1009.2924173356006,\"daily-ret\":-5.583537687138844E-4,\"tot-ret\":0.004017010475398194,\"loan\":0.0,\"leverage\":0.0,\"margin\":0.0,\"plot\":\"portfolio\"},{\"date\":\"1981-03-24\",\"tot-value\":1009.5337770109759,\"daily-ret\":1.038436849714258E-4,\"tot-ret\":0.00412085416036962,\"loan\":0.0,\"leverage\":0.0,\"margin\":0.0,\"plot\":\"portfolio\"},{\"date\":\"1981-03-25\",\"tot-value\":1010.1006698100001,\"daily-ret\":2.4380493341278784E-4,\"tot-ret\":0.004364659093782407,\"loan\":0.0,\"leverage\":0.0,\"margin\":0.0,\"plot\":\"portfolio\"},{\"date\":\"1981-03-26\",\"tot-value\":1010.8374781758538,\"daily-ret\":3.166765118541787E-4,\"tot-ret\":0.004681335605636586,\"loan\":0.0,\"leverage\":0.0,\"margin\":0.0,\"plot\":\"portfolio\"},{\"date\":\"1981-03-27\",\"tot-value\":1012.0019671724564,\"daily-ret\":5.000210990450736E-4,\"tot-ret\":0.00518135670468166,\"loan\":0.0,\"leverage\":0.0,\"margin\":0.0,\"plot\":\"portfolio\"},{\"date\":\"1981-03-30\",\"tot-value\":1011.9180220957182,\"daily-ret\":-3.602601271250469E-5,\"tot-ret\":0.005145330691969156,\"loan\":0.0,\"leverage\":0.0,\"margin\":0.0,\"plot\":\"portfolio\"},{\"date\":\"1981-03-31\",\"tot-value\":1012.2544996394242,\"daily-ret\":1.4438526389696325E-4,\"tot-ret\":0.005289715955866119,\"loan\":0.0,\"leverage\":0.0,\"margin\":0.0,\"plot\":\"portfolio\"},{\"date\":\"1981-04-01\",\"tot-value\":1012.6778243720748,\"daily-ret\":1.8158394326724846E-4,\"tot-ret\":0.005471299899133367,\"loan\":0.0,\"leverage\":0.0,\"margin\":0.0,\"plot\":\"portfolio\"},{\"date\":\"1981-04-02\",\"tot-value\":1009.8570280096,\"daily-ret\":-0.0012114076428962155,\"tot-ret\":0.004259892256237152,\"loan\":0.0,\"leverage\":0.0,\"margin\":0.0,\"plot\":\"portfolio\"},{\"date\":\"1981-04-03\",\"tot-value\":1009.6951682547851,\"daily-ret\":-6.961424283941699E-5,\"tot-ret\":0.004190278013397735,\"loan\":0.0,\"leverage\":0.0,\"margin\":0.0,\"plot\":\"portfolio\"},{\"date\":\"1981-04-06\",\"tot-value\":1010.345255786011,\"daily-ret\":2.795285024518742E-4,\"tot-ret\":0.004469806515849609,\"loan\":0.0,\"leverage\":0.0,\"margin\":0.0,\"plot\":\"portfolio\"},{\"date\":\"1981-04-07\",\"tot-value\":1010.6729270351224,\"daily-ret\":1.4082586472894345E-4,\"tot-ret\":0.004610632380578553,\"loan\":0.0,\"leverage\":0.0,\"margin\":0.0,\"plot\":\"portfolio\"},{\"date\":\"1981-04-08\",\"tot-value\":1008.9720795682966,\"daily-ret\":-7.314838415786352E-4,\"tot-ret\":0.003879148538999918,\"loan\":0.0,\"leverage\":0.0,\"margin\":0.0,\"plot\":\"portfolio\"},{\"date\":\"1981-04-09\",\"tot-value\":1008.415507616787,\"daily-ret\":-2.396328152219056E-4,\"tot-ret\":0.003639515723778012,\"loan\":0.0,\"leverage\":0.0,\"margin\":0.0,\"plot\":\"portfolio\"},{\"date\":\"1981-04-10\",\"tot-value\":1007.9424251490807,\"daily-ret\":-2.03790314845679E-4,\"tot-ret\":0.003435725408932333,\"loan\":0.0,\"leverage\":0.0,\"margin\":0.0,\"plot\":\"portfolio\"},{\"date\":\"1981-04-13\",\"tot-value\":1007.9424251490807,\"daily-ret\":0.0,\"tot-ret\":0.003435725408932333,\"loan\":0.0,\"leverage\":0.0,\"margin\":0.0,\"plot\":\"portfolio\"},{\"date\":\"1981-04-14\",\"tot-value\":1007.9424251490807,\"daily-ret\":0.0,\"tot-ret\":0.003435725408932333,\"loan\":0.0,\"leverage\":0.0,\"margin\":0.0,\"plot\":\"portfolio\"},{\"date\":\"1981-04-15\",\"tot-value\":1009.6952043719912,\"daily-ret\":7.54568139354998E-4,\"tot-ret\":0.004190293548287331,\"loan\":0.0,\"leverage\":0.0,\"margin\":0.0,\"plot\":\"portfolio\"},{\"date\":\"1981-04-16\",\"tot-value\":1011.6669325109118,\"daily-ret\":8.472612665621333E-4,\"tot-ret\":0.0050375548148494645,\"loan\":0.0,\"leverage\":0.0,\"margin\":0.0,\"plot\":\"portfolio\"},{\"date\":\"1981-04-20\",\"tot-value\":1010.6729785724958,\"daily-ret\":-4.269002882376128E-4,\"tot-ret\":0.004610654526611852,\"loan\":0.0,\"leverage\":0.0,\"margin\":0.0,\"plot\":\"portfolio\"},{\"date\":\"1981-04-21\",\"tot-value\":1008.4155315908536,\"daily-ret\":-9.71128477918553E-4,\"tot-ret\":0.003639526048693299,\"loan\":0.0,\"leverage\":0.0,\"margin\":0.0,\"plot\":\"portfolio\"},{\"date\":\"1981-04-22\",\"tot-value\":1007.1618605708405,\"daily-ret\":-5.402545974603703E-4,\"tot-ret\":0.003099271451232929,\"loan\":0.0,\"leverage\":0.0,\"margin\":0.0,\"plot\":\"portfolio\"},{\"date\":\"1981-04-23\",\"tot-value\":1006.237821169147,\"daily-ret\":-3.9863445398540415E-4,\"tot-ret\":0.0027006369972475248,\"loan\":0.0,\"leverage\":0.0,\"margin\":0.0,\"plot\":\"portfolio\"},{\"date\":\"1981-04-24\",\"tot-value\":1006.467581688572,\"daily-ret\":9.915383149196791E-5,\"tot-ret\":0.0027997908287394927,\"loan\":0.0,\"leverage\":0.0,\"margin\":0.0,\"plot\":\"portfolio\"},{\"date\":\"1981-04-27\",\"tot-value\":1006.8523719897862,\"daily-ret\":1.660067057267195E-4,\"tot-ret\":0.0029657975344662122,\"loan\":0.0,\"leverage\":0.0,\"margin\":0.0,\"plot\":\"portfolio\"},{\"date\":\"1981-04-28\",\"tot-value\":1007.4729719605288,\"daily-ret\":2.6760637461087264E-4,\"tot-ret\":0.003233403909077085,\"loan\":0.0,\"leverage\":0.0,\"margin\":0.0,\"plot\":\"portfolio\"},{\"date\":\"1981-04-29\",\"tot-value\":1007.9424891638968,\"daily-ret\":2.0234908206611657E-4,\"tot-ret\":0.0034357529911432016,\"loan\":0.0,\"leverage\":0.0,\"margin\":0.0,\"plot\":\"portfolio\"},{\"date\":\"1981-04-30\",\"tot-value\":1007.2395383968695,\"daily-ret\":-3.029876679891136E-4,\"tot-ret\":0.003132765323154088,\"loan\":0.0,\"leverage\":0.0,\"margin\":0.0,\"plot\":\"portfolio\"},{\"date\":\"1981-05-01\",\"tot-value\":1007.2395383968695,\"daily-ret\":0.0,\"tot-ret\":0.003132765323154088,\"loan\":0.0,\"leverage\":0.0,\"margin\":0.0,\"plot\":\"portfolio\"},{\"date\":\"1981-05-04\",\"tot-value\":1007.4729805459631,\"daily-ret\":1.006422868726376E-4,\"tot-ret\":0.003233407610026726,\"loan\":0.0,\"leverage\":0.0,\"margin\":0.0,\"plot\":\"portfolio\"},{\"date\":\"1981-05-05\",\"tot-value\":1007.6290932233421,\"daily-ret\":6.729075946970651E-5,\"tot-ret\":0.0033006983694964325,\"loan\":0.0,\"leverage\":0.0,\"margin\":0.0,\"plot\":\"portfolio\"},{\"date\":\"1981-05-06\",\"tot-value\":1008.5741198192718,\"daily-ret\":4.0712152749759604E-4,\"tot-ret\":0.0037078198969940288,\"loan\":0.0,\"leverage\":0.0,\"margin\":0.0,\"plot\":\"portfolio\"},{\"date\":\"1981-05-07\",\"tot-value\":1008.0998275228244,\"daily-ret\":-2.0427945848718065E-4,\"tot-ret\":0.0035035404385068483,\"loan\":0.0,\"leverage\":0.0,\"margin\":0.0,\"plot\":\"portfolio\"},{\"date\":\"1981-05-08\",\"tot-value\":1007.7856216467733,\"daily-ret\":-1.3538257276654738E-4,\"tot-ret\":0.0033681578657403007,\"loan\":0.0,\"leverage\":0.0,\"margin\":0.0,\"plot\":\"portfolio\"},{\"date\":\"1981-05-11\",\"tot-value\":1008.5741364694818,\"daily-ret\":3.3966920087477424E-4,\"tot-ret\":0.003707827066615075,\"loan\":0.0,\"leverage\":0.0,\"margin\":0.0,\"plot\":\"portfolio\"},{\"date\":\"1981-05-12\",\"tot-value\":1008.4156223277289,\"daily-ret\":-6.826194025863292E-5,\"tot-ret\":0.003639565126356442,\"loan\":0.0,\"leverage\":0.0,\"margin\":0.0,\"plot\":\"portfolio\"},{\"date\":\"1981-05-13\",\"tot-value\":1008.5741246757038,\"daily-ret\":6.82568618290888E-5,\"tot-ret\":0.0037078219881855304,\"loan\":0.0,\"leverage\":0.0,\"margin\":0.0,\"plot\":\"portfolio\"},{\"date\":\"1981-05-14\",\"tot-value\":1009.1321299190226,\"daily-ret\":2.4021197701376684E-4,\"tot-ret\":0.003948033965199297,\"loan\":0.0,\"leverage\":0.0,\"margin\":0.0,\"plot\":\"portfolio\"},{\"date\":\"1981-05-15\",\"tot-value\":1008.2575027815228,\"daily-ret\":-3.7657154292916254E-4,\"tot-ret\":0.0035714624222701347,\"loan\":0.0,\"leverage\":0.0,\"margin\":0.0,\"plot\":\"portfolio\"},{\"date\":\"1981-05-18\",\"tot-value\":1007.7073174237671,\"daily-ret\":-2.370502386100697E-4,\"tot-ret\":0.003334412183660065,\"loan\":0.0,\"leverage\":0.0,\"margin\":0.0,\"plot\":\"portfolio\"},{\"date\":\"1981-05-19\",\"tot-value\":1008.415616360883,\"daily-ret\":3.051503729540423E-4,\"tot-ret\":0.0036395625566141075,\"loan\":0.0,\"leverage\":0.0,\"margin\":0.0,\"plot\":\"portfolio\"},{\"date\":\"1981-05-20\",\"tot-value\":1007.2395472739511,\"daily-ret\":-5.067934059023822E-4,\"tot-ret\":0.0031327691507117253,\"loan\":0.0,\"leverage\":0.0,\"margin\":0.0,\"plot\":\"portfolio\"},{\"date\":\"1981-05-21\",\"tot-value\":1005.3271007349432,\"daily-ret\":-8.253791044807482E-4,\"tot-ret\":0.0023073900462309773,\"loan\":0.0,\"leverage\":0.0,\"margin\":0.0,\"plot\":\"portfolio\"},{\"date\":\"1981-05-22\",\"tot-value\":1003.6167358915066,\"daily-ret\":-7.394952307517898E-4,\"tot-ret\":0.0015678948154791874,\"loan\":0.0,\"leverage\":0.0,\"margin\":0.0,\"plot\":\"portfolio\"},{\"date\":\"1981-05-26\",\"tot-value\":1003.8372730891188,\"daily-ret\":9.542244846882525E-5,\"tot-ret\":0.0016633172639480126,\"loan\":0.0,\"leverage\":0.0,\"margin\":0.0,\"plot\":\"portfolio\"},{\"date\":\"1981-05-27\",\"tot-value\":1001.8069978564548,\"daily-ret\":-8.792562512104979E-4,\"tot-ret\":7.840610127375148E-4,\"loan\":0.0,\"leverage\":0.0,\"margin\":0.0,\"plot\":\"portfolio\"},{\"date\":\"1981-05-28\",\"tot-value\":1001.8069978564548,\"daily-ret\":0.0,\"tot-ret\":7.840610127375148E-4,\"loan\":0.0,\"leverage\":0.0,\"margin\":0.0,\"plot\":\"portfolio\"},{\"date\":\"1981-05-29\",\"tot-value\":1001.6643188326261,\"daily-ret\":-6.185734961187068E-5,\"tot-ret\":7.222036631256441E-4,\"loan\":0.0,\"leverage\":0.0,\"margin\":0.0,\"plot\":\"portfolio\"},{\"date\":\"1981-06-01\",\"tot-value\":1001.6643188326261,\"daily-ret\":0.0,\"tot-ret\":7.222036631256441E-4,\"loan\":0.0,\"leverage\":0.0,\"margin\":0.0,\"plot\":\"portfolio\"},{\"date\":\"1981-06-02\",\"tot-value\":1003.543358637291,\"daily-ret\":8.139374953293704E-4,\"tot-ret\":0.0015361411584550145,\"loan\":0.0,\"leverage\":0.0,\"margin\":0.0,\"plot\":\"portfolio\"},{\"date\":\"1981-06-03\",\"tot-value\":1003.470096050219,\"daily-ret\":-3.1706351778705847E-5,\"tot-ret\":0.0015044348066763087,\"loan\":0.0,\"leverage\":0.0,\"margin\":0.0,\"plot\":\"portfolio\"},{\"date\":\"1981-06-04\",\"tot-value\":1002.8143049007274,\"daily-ret\":-2.839143717744018E-4,\"tot-ret\":0.001220520434901907,\"loan\":0.0,\"leverage\":0.0,\"margin\":0.0,\"plot\":\"portfolio\"},{\"date\":\"1981-06-05\",\"tot-value\":1003.3968927612801,\"daily-ret\":2.5223137072383363E-4,\"tot-ret\":0.0014727518056257406,\"loan\":0.0,\"leverage\":0.0,\"margin\":0.0,\"plot\":\"portfolio\"},{\"date\":\"1981-06-08\",\"tot-value\":1004.7270165205144,\"daily-ret\":5.753285349521047E-4,\"tot-ret\":0.0020480803405778453,\"loan\":0.0,\"leverage\":0.0,\"margin\":0.0,\"plot\":\"portfolio\"},{\"date\":\"1981-06-09\",\"tot-value\":1003.9847016942147,\"daily-ret\":-3.209850817806509E-4,\"tot-ret\":0.0017270952587971943,\"loan\":0.0,\"leverage\":0.0,\"margin\":0.0,\"plot\":\"portfolio\"},{\"date\":\"1981-06-10\",\"tot-value\":1003.3968929786303,\"daily-ret\":-2.5434335909709665E-4,\"tot-ret\":0.0014727518997000976,\"loan\":0.0,\"leverage\":0.0,\"margin\":0.0,\"plot\":\"portfolio\"},{\"date\":\"1981-06-11\",\"tot-value\":1001.949934908297,\"daily-ret\":-6.26730504478272E-4,\"tot-ret\":8.460213952218256E-4,\"loan\":0.0,\"leverage\":0.0,\"margin\":0.0,\"plot\":\"portfolio\"},{\"date\":\"1981-06-12\",\"tot-value\":1002.3807001717934,\"daily-ret\":1.8667476965940306E-4,\"tot-ret\":0.0010326961648812287,\"loan\":0.0,\"leverage\":0.0,\"margin\":0.0,\"plot\":\"portfolio\"},{\"date\":\"1981-06-15\",\"tot-value\":1002.5249229052847,\"daily-ret\":6.248188114927379E-5,\"tot-ret\":0.0010951780460305026,\"loan\":0.0,\"leverage\":0.0,\"margin\":0.0,\"plot\":\"portfolio\"},{\"date\":\"1981-06-16\",\"tot-value\":1003.2507596431652,\"daily-ret\":3.1431919982551933E-4,\"tot-ret\":0.001409497245856022,\"loan\":0.0,\"leverage\":0.0,\"margin\":0.0,\"plot\":\"portfolio\"},{\"date\":\"1981-06-17\",\"tot-value\":1003.8372491144612,\"daily-ret\":2.538096458315087E-4,\"tot-ret\":0.0016633068916875307,\"loan\":0.0,\"leverage\":0.0,\"margin\":0.0,\"plot\":\"portfolio\"},{\"date\":\"1981-06-18\",\"tot-value\":1003.9109319248311,\"daily-ret\":3.18765453469753E-5,\"tot-ret\":0.001695183437034506,\"loan\":0.0,\"leverage\":0.0,\"margin\":0.0,\"plot\":\"portfolio\"},{\"date\":\"1981-06-19\",\"tot-value\":1005.0263372319565,\"daily-ret\":4.822593788112447E-4,\"tot-ret\":0.0021774428158457507,\"loan\":0.0,\"leverage\":0.0,\"margin\":0.0,\"plot\":\"portfolio\"},{\"date\":\"1981-06-22\",\"tot-value\":1006.3908867049524,\"daily-ret\":5.892525829717106E-4,\"tot-ret\":0.0027666953988174613,\"loan\":0.0,\"leverage\":0.0,\"margin\":0.0,\"plot\":\"portfolio\"},{\"date\":\"1981-06-23\",\"tot-value\":1005.704953425634,\"daily-ret\":-2.961062229348012E-4,\"tot-ret\":0.00247058917588266,\"loan\":0.0,\"leverage\":0.0,\"margin\":0.0,\"plot\":\"portfolio\"},{\"date\":\"1981-06-24\",\"tot-value\":1006.621185443751,\"daily-ret\":3.954771837647036E-4,\"tot-ret\":0.0028660663596473636,\"loan\":0.0,\"leverage\":0.0,\"margin\":0.0,\"plot\":\"portfolio\"},{\"date\":\"1981-06-25\",\"tot-value\":1005.9327566939177,\"daily-ret\":-2.9711583141948114E-4,\"tot-ret\":0.0025689505282278824,\"loan\":0.0,\"leverage\":0.0,\"margin\":0.0,\"plot\":\"portfolio\"},{\"date\":\"1981-06-26\",\"tot-value\":1006.3142906067201,\"daily-ret\":1.6468959434869684E-4,\"tot-ret\":0.0027336401225765794,\"loan\":0.0,\"leverage\":0.0,\"margin\":0.0,\"plot\":\"portfolio\"},{\"date\":\"1981-06-29\",\"tot-value\":1007.5509153586052,\"daily-ret\":5.333617879089022E-4,\"tot-ret\":0.0032670019104854816,\"loan\":0.0,\"leverage\":0.0,\"margin\":0.0,\"plot\":\"portfolio\"},{\"date\":\"1981-06-30\",\"tot-value\":1010.3452902413665,\"daily-ret\":0.0012028194159155502,\"tot-ret\":0.004469821326401032,\"loan\":0.0,\"leverage\":0.0,\"margin\":0.0,\"plot\":\"portfolio\"},{\"date\":\"1981-07-01\",\"tot-value\":1010.6729613465538,\"daily-ret\":1.4082579808187518E-4,\"tot-ret\":0.004610647124482907,\"loan\":0.0,\"leverage\":0.0,\"margin\":0.0,\"plot\":\"portfolio\"},{\"date\":\"1981-07-02\",\"tot-value\":1010.6729613465538,\"daily-ret\":0.0,\"tot-ret\":0.004610647124482907,\"loan\":0.0,\"leverage\":0.0,\"margin\":0.0,\"plot\":\"portfolio\"},{\"date\":\"1981-07-06\",\"tot-value\":1011.7505068502337,\"daily-ret\":4.627835049273395E-4,\"tot-ret\":0.0050734306294102464,\"loan\":0.0,\"leverage\":0.0,\"margin\":0.0,\"plot\":\"portfolio\"},{\"date\":\"1981-07-07\",\"tot-value\":1011.4168713014253,\"daily-ret\":-1.4323686778704498E-4,\"tot-ret\":0.004930193761623201,\"loan\":0.0,\"leverage\":0.0,\"margin\":0.0,\"plot\":\"portfolio\"},{\"date\":\"1981-07-08\",\"tot-value\":1010.1820951663537,\"daily-ret\":-5.305271099053571E-4,\"tot-ret\":0.004399666651717845,\"loan\":0.0,\"leverage\":0.0,\"margin\":0.0,\"plot\":\"portfolio\"},{\"date\":\"1981-07-09\",\"tot-value\":1012.8480308228886,\"daily-ret\":0.0011446214271092511,\"tot-ret\":0.0055442880788270955,\"loan\":0.0,\"leverage\":0.0,\"margin\":0.0,\"plot\":\"portfolio\"},{\"date\":\"1981-07-10\",\"tot-value\":1015.4631347982761,\"daily-ret\":0.0011198733948410025,\"tot-ret\":0.006664161473668098,\"loan\":0.0,\"leverage\":0.0,\"margin\":0.0,\"plot\":\"portfolio\"},{\"date\":\"1981-07-13\",\"tot-value\":1014.753983983518,\"daily-ret\":-3.033964154502761E-4,\"tot-ret\":0.006360765058217822,\"loan\":0.0,\"leverage\":0.0,\"margin\":0.0,\"plot\":\"portfolio\"},{\"date\":\"1981-07-14\",\"tot-value\":1013.2757064422176,\"daily-ret\":-6.33134609069026E-4,\"tot-ret\":0.005727630449148796,\"loan\":0.0,\"leverage\":0.0,\"margin\":0.0,\"plot\":\"portfolio\"},{\"date\":\"1981-07-15\",\"tot-value\":1012.5081354630561,\"daily-ret\":-3.2910900933835275E-4,\"tot-ret\":0.005398521439810443,\"loan\":0.0,\"leverage\":0.0,\"margin\":0.0,\"plot\":\"portfolio\"},{\"date\":\"1981-07-16\",\"tot-value\":1011.5834361859729,\"daily-ret\":-3.9681191011389316E-4,\"tot-ret\":0.00500170952969655,\"loan\":0.0,\"leverage\":0.0,\"margin\":0.0,\"plot\":\"portfolio\"},{\"date\":\"1981-07-17\",\"tot-value\":1010.5088886968203,\"daily-ret\":-4.6157149529426245E-4,\"tot-ret\":0.004540138034402287,\"loan\":0.0,\"leverage\":0.0,\"margin\":0.0,\"plot\":\"portfolio\"},{\"date\":\"1981-07-20\",\"tot-value\":1012.8480474776331,\"daily-ret\":0.001004157185736582,\"tot-ret\":0.005544295220138869,\"loan\":0.0,\"leverage\":0.0,\"margin\":0.0,\"plot\":\"portfolio\"},{\"date\":\"1981-07-21\",\"tot-value\":1013.0187433440065,\"daily-ret\":7.318573300175359E-5,\"tot-ret\":0.005617480953140623,\"loan\":0.0,\"leverage\":0.0,\"margin\":0.0,\"plot\":\"portfolio\"},{\"date\":\"1981-07-22\",\"tot-value\":1014.8421600774242,\"daily-ret\":7.810200764973204E-4,\"tot-ret\":0.006398501029637943,\"loan\":0.0,\"leverage\":0.0,\"margin\":0.0,\"plot\":\"portfolio\"},{\"date\":\"1981-07-23\",\"tot-value\":1014.0535990308585,\"daily-ret\":-3.3759026492548256E-4,\"tot-ret\":0.006060910764712461,\"loan\":0.0,\"leverage\":0.0,\"margin\":0.0,\"plot\":\"portfolio\"},{\"date\":\"1981-07-24\",\"tot-value\":1013.0187230118992,\"daily-ret\":-4.4343852821426556E-4,\"tot-ret\":0.005617472236498195,\"loan\":0.0,\"leverage\":0.0,\"margin\":0.0,\"plot\":\"portfolio\"},{\"date\":\"1981-07-27\",\"tot-value\":1011.6669127835647,\"daily-ret\":-5.799258903234722E-4,\"tot-ret\":0.005037546346174723,\"loan\":0.0,\"leverage\":0.0,\"margin\":0.0,\"plot\":\"portfolio\"},{\"date\":\"1981-07-28\",\"tot-value\":1012.8480520824828,\"daily-ret\":5.067508484564917E-4,\"tot-ret\":0.005544297194631215,\"loan\":0.0,\"leverage\":0.0,\"margin\":0.0,\"plot\":\"portfolio\"},{\"date\":\"1981-07-29\",\"tot-value\":1013.3616508854293,\"daily-ret\":2.201678636541716E-4,\"tot-ret\":0.005764465058285387,\"loan\":0.0,\"leverage\":0.0,\"margin\":0.0,\"plot\":\"portfolio\"},{\"date\":\"1981-07-30\",\"tot-value\":1012.0860427916678,\"daily-ret\":-5.470293122506262E-4,\"tot-ret\":0.00521743574603476,\"loan\":0.0,\"leverage\":0.0,\"margin\":0.0,\"plot\":\"portfolio\"},{\"date\":\"1981-07-31\",\"tot-value\":1011.6669380073326,\"daily-ret\":-1.7987857164877437E-4,\"tot-ret\":0.005037557174385986,\"loan\":0.0,\"leverage\":0.0,\"margin\":0.0,\"plot\":\"portfolio\"},{\"date\":\"1981-08-03\",\"tot-value\":1011.9180388622894,\"daily-ret\":1.0778071345174019E-4,\"tot-ret\":0.005145337887837727,\"loan\":0.0,\"leverage\":0.0,\"margin\":0.0,\"plot\":\"portfolio\"},{\"date\":\"1981-08-04\",\"tot-value\":1011.5001045256606,\"daily-ret\":-1.7940590220573356E-4,\"tot-ret\":0.004965931985631993,\"loan\":0.0,\"leverage\":0.0,\"margin\":0.0,\"plot\":\"portfolio\"},{\"date\":\"1981-08-05\",\"tot-value\":1010.50888637256,\"daily-ret\":-4.257949501457606E-4,\"tot-ret\":0.0045401370354862325,\"loan\":0.0,\"leverage\":0.0,\"margin\":0.0,\"plot\":\"portfolio\"},{\"date\":\"1981-08-06\",\"tot-value\":1011.3337309814746,\"daily-ret\":3.543554566299423E-4,\"tot-ret\":0.0048944924921161745,\"loan\":0.0,\"leverage\":0.0,\"margin\":0.0,\"plot\":\"portfolio\"},{\"date\":\"1981-08-07\",\"tot-value\":1011.3337309814746,\"daily-ret\":0.0,\"tot-ret\":0.0048944924921161745,\"loan\":0.0,\"leverage\":0.0,\"margin\":0.0,\"plot\":\"portfolio\"},{\"date\":\"1981-08-10\",\"tot-value\":1011.5834169033603,\"daily-ret\":1.0720875914066791E-4,\"tot-ret\":0.0050017012512568425,\"loan\":0.0,\"leverage\":0.0,\"margin\":0.0,\"plot\":\"portfolio\"},{\"date\":\"1981-08-11\",\"tot-value\":1012.2544645265185,\"daily-ret\":2.879996398782458E-4,\"tot-ret\":0.005289700891135088,\"loan\":0.0,\"leverage\":0.0,\"margin\":0.0,\"plot\":\"portfolio\"},{\"date\":\"1981-08-12\",\"tot-value\":1013.0187044014182,\"daily-ret\":3.277633668043109E-4,\"tot-ret\":0.005617464257939399,\"loan\":0.0,\"leverage\":0.0,\"margin\":0.0,\"plot\":\"portfolio\"},{\"date\":\"1981-08-13\",\"tot-value\":1014.0535731790862,\"daily-ret\":4.434354350877076E-4,\"tot-ret\":0.006060899693027107,\"loan\":0.0,\"leverage\":0.0,\"margin\":0.0,\"plot\":\"portfolio\"},{\"date\":\"1981-08-14\",\"tot-value\":1014.4903272050058,\"daily-ret\":1.87010856704509E-4,\"tot-ret\":0.006247910549731616,\"loan\":0.0,\"leverage\":0.0,\"margin\":0.0,\"plot\":\"portfolio\"},{\"date\":\"1981-08-17\",\"tot-value\":1015.5524221792949,\"daily-ret\":4.544357785740035E-4,\"tot-ret\":0.006702346328305619,\"loan\":0.0,\"leverage\":0.0,\"margin\":0.0,\"plot\":\"portfolio\"},{\"date\":\"1981-08-18\",\"tot-value\":1016.2717762040364,\"daily-ret\":3.0751823586110095E-4,\"tot-ret\":0.0070098645641667205,\"loan\":0.0,\"leverage\":0.0,\"margin\":0.0,\"plot\":\"portfolio\"},{\"date\":\"1981-08-19\",\"tot-value\":1016.6349538173099,\"daily-ret\":1.551729184071182E-4,\"tot-ret\":0.0071650374825738385,\"loan\":0.0,\"leverage\":0.0,\"margin\":0.0,\"plot\":\"portfolio\"},{\"date\":\"1981-08-20\",\"tot-value\":1016.3623400467491,\"daily-ret\":-1.1647300988778499E-4,\"tot-ret\":0.007048564472686054,\"loan\":0.0,\"leverage\":0.0,\"margin\":0.0,\"plot\":\"portfolio\"},{\"date\":\"1981-08-21\",\"tot-value\":1018.4877275875435,\"daily-ret\":9.072358020130218E-4,\"tot-ret\":0.007955800274699075,\"loan\":0.0,\"leverage\":0.0,\"margin\":0.0,\"plot\":\"portfolio\"},{\"date\":\"1981-08-24\",\"tot-value\":1020.5042041730287,\"daily-ret\":8.589979448432082E-4,\"tot-ret\":0.008814798219542282,\"loan\":0.0,\"leverage\":0.0,\"margin\":0.0,\"plot\":\"portfolio\"},{\"date\":\"1981-08-25\",\"tot-value\":1019.7269647269438,\"daily-ret\":-3.308946790216484E-4,\"tot-ret\":0.008483903540520634,\"loan\":0.0,\"leverage\":0.0,\"margin\":0.0,\"plot\":\"portfolio\"},{\"date\":\"1981-08-26\",\"tot-value\":1020.3088206646258,\"daily-ret\":2.477376442704497E-4,\"tot-ret\":0.008731641184791084,\"loan\":0.0,\"leverage\":0.0,\"margin\":0.0,\"plot\":\"portfolio\"},{\"date\":\"1981-08-27\",\"tot-value\":1020.1141702164593,\"daily-ret\":-8.286087362564129E-5,\"tot-ret\":0.008648780311165442,\"loan\":0.0,\"leverage\":0.0,\"margin\":0.0,\"plot\":\"portfolio\"},{\"date\":\"1981-08-28\",\"tot-value\":1018.5820705366422,\"daily-ret\":-6.527530179645549E-4,\"tot-ret\":0.007996027293200888,\"loan\":0.0,\"leverage\":0.0,\"margin\":0.0,\"plot\":\"portfolio\"},{\"date\":\"1981-08-31\",\"tot-value\":1018.5820705366422,\"daily-ret\":0.0,\"tot-ret\":0.007996027293200888,\"loan\":0.0,\"leverage\":0.0,\"margin\":0.0,\"plot\":\"portfolio\"},{\"date\":\"1981-09-01\",\"tot-value\":1016.7261196084992,\"daily-ret\":-7.92046604134295E-4,\"tot-ret\":0.007203980689066593,\"loan\":0.0,\"leverage\":0.0,\"margin\":0.0,\"plot\":\"portfolio\"},{\"date\":\"1981-09-02\",\"tot-value\":1016.1813287736073,\"daily-ret\":-2.3276973010966526E-4,\"tot-ret\":0.006971210958956928,\"loan\":0.0,\"leverage\":0.0,\"margin\":0.0,\"plot\":\"portfolio\"},{\"date\":\"1981-09-03\",\"tot-value\":1017.739071975427,\"daily-ret\":6.65236858630264E-4,\"tot-ret\":0.007636447817587192,\"loan\":0.0,\"leverage\":0.0,\"margin\":0.0,\"plot\":\"portfolio\"},{\"date\":\"1981-09-04\",\"tot-value\":1018.2057721230625,\"daily-ret\":1.9910686967688452E-4,\"tot-ret\":0.007835554687264077,\"loan\":0.0,\"leverage\":0.0,\"margin\":0.0,\"plot\":\"portfolio\"},{\"date\":\"1981-09-08\",\"tot-value\":1019.1514494075639,\"daily-ret\":4.031717673028244E-4,\"tot-ret\":0.008238726454566902,\"loan\":0.0,\"leverage\":0.0,\"margin\":0.0,\"plot\":\"portfolio\"},{\"date\":\"1981-09-09\",\"tot-value\":1019.1514494075639,\"daily-ret\":0.0,\"tot-ret\":0.008238726454566902,\"loan\":0.0,\"leverage\":0.0,\"margin\":0.0,\"plot\":\"portfolio\"},{\"date\":\"1981-09-10\",\"tot-value\":1018.9609824733493,\"daily-ret\":-8.117190932284415E-5,\"tot-ret\":0.008157554545244057,\"loan\":0.0,\"leverage\":0.0,\"margin\":0.0,\"plot\":\"portfolio\"},{\"date\":\"1981-09-11\",\"tot-value\":1019.3426006402201,\"daily-ret\":1.6262019786995465E-4,\"tot-ret\":0.008320174743114013,\"loan\":0.0,\"leverage\":0.0,\"margin\":0.0,\"plot\":\"portfolio\"},{\"date\":\"1981-09-14\",\"tot-value\":1020.3088187460769,\"daily-ret\":4.114656250466677E-4,\"tot-ret\":0.00873164036816068,\"loan\":0.0,\"leverage\":0.0,\"margin\":0.0,\"plot\":\"portfolio\"},{\"date\":\"1981-09-15\",\"tot-value\":1021.0947901847159,\"daily-ret\":3.344199785948412E-4,\"tot-ret\":0.009066060346755521,\"loan\":0.0,\"leverage\":0.0,\"margin\":0.0,\"plot\":\"portfolio\"},{\"date\":\"1981-09-16\",\"tot-value\":1021.6921495576375,\"daily-ret\":2.5399603034524296E-4,\"tot-ret\":0.009320056377100764,\"loan\":0.0,\"leverage\":0.0,\"margin\":0.0,\"plot\":\"portfolio\"},{\"date\":\"1981-09-17\",\"tot-value\":1022.499560220432,\"daily-ret\":3.4307351119674585E-4,\"tot-ret\":0.00966312988829751,\"loan\":0.0,\"leverage\":0.0,\"margin\":0.0,\"plot\":\"portfolio\"},{\"date\":\"1981-09-18\",\"tot-value\":1022.2965104056584,\"daily-ret\":-8.625154915376007E-5,\"tot-ret\":0.00957687833914375,\"loan\":0.0,\"leverage\":0.0,\"margin\":0.0,\"plot\":\"portfolio\"},{\"date\":\"1981-09-21\",\"tot-value\":1022.0942480372015,\"daily-ret\":-8.593409106488054E-5,\"tot-ret\":0.00949094424807887,\"loan\":0.0,\"leverage\":0.0,\"margin\":0.0,\"plot\":\"portfolio\"},{\"date\":\"1981-09-22\",\"tot-value\":1023.7352758373885,\"daily-ret\":6.967242019008412E-4,\"tot-ret\":0.01018766844997971,\"loan\":0.0,\"leverage\":0.0,\"margin\":0.0,\"plot\":\"portfolio\"},{\"date\":\"1981-09-23\",\"tot-value\":1024.2592864415806,\"daily-ret\":2.222417217479212E-4,\"tot-ret\":0.010409910171727632,\"loan\":0.0,\"leverage\":0.0,\"margin\":0.0,\"plot\":\"portfolio\"},{\"date\":\"1981-09-24\",\"tot-value\":1024.5763689570106,\"daily-ret\":1.344248256280139E-4,\"tot-ret\":0.010544334997355645,\"loan\":0.0,\"leverage\":0.0,\"margin\":0.0,\"plot\":\"portfolio\"},{\"date\":\"1981-09-25\",\"tot-value\":1028.2085941967305,\"daily-ret\":0.0015368945634370076,\"tot-ret\":0.012081229560792653,\"loan\":0.0,\"leverage\":0.0,\"margin\":0.0,\"plot\":\"portfolio\"},{\"date\":\"1981-09-28\",\"tot-value\":1028.0943384979553,\"daily-ret\":-4.826197421224417E-5,\"tot-ret\":0.012032967586580408,\"loan\":0.0,\"leverage\":0.0,\"margin\":0.0,\"plot\":\"portfolio\"},{\"date\":\"1981-09-29\",\"tot-value\":1026.7445991495738,\"daily-ret\":-5.705405173863595E-4,\"tot-ret\":0.011462427069194049,\"loan\":0.0,\"leverage\":0.0,\"margin\":0.0,\"plot\":\"portfolio\"},{\"date\":\"1981-09-30\",\"tot-value\":1026.523348850206,\"daily-ret\":-9.359497828848521E-5,\"tot-ret\":0.011368832090905563,\"loan\":0.0,\"leverage\":0.0,\"margin\":0.0,\"plot\":\"portfolio\"},{\"date\":\"1981-10-01\",\"tot-value\":1026.523348850206,\"daily-ret\":0.0,\"tot-ret\":0.011368832090905563,\"loan\":0.0,\"leverage\":0.0,\"margin\":0.0,\"plot\":\"portfolio\"},{\"date\":\"1981-10-02\",\"tot-value\":1024.3647420816267,\"daily-ret\":-9.142101497557045E-4,\"tot-ret\":0.010454621941149858,\"loan\":0.0,\"leverage\":0.0,\"margin\":0.0,\"plot\":\"portfolio\"},{\"date\":\"1981-10-05\",\"tot-value\":1023.4234752995046,\"daily-ret\":-3.99247338952384E-4,\"tot-ret\":0.010055374602197475,\"loan\":0.0,\"leverage\":0.0,\"margin\":0.0,\"plot\":\"portfolio\"},{\"date\":\"1981-10-06\",\"tot-value\":1023.735265781873,\"daily-ret\":1.322895819773882E-4,\"tot-ret\":0.010187664184174864,\"loan\":0.0,\"leverage\":0.0,\"margin\":0.0,\"plot\":\"portfolio\"},{\"date\":\"1981-10-07\",\"tot-value\":1021.9933978804291,\"daily-ret\":-7.395739367141474E-4,\"tot-ret\":0.009448090247460716,\"loan\":0.0,\"leverage\":0.0,\"margin\":0.0,\"plot\":\"portfolio\"},{\"date\":\"1981-10-08\",\"tot-value\":1021.0947431345526,\"daily-ret\":-3.820499121937509E-4,\"tot-ret\":0.009066040335266964,\"loan\":0.0,\"leverage\":0.0,\"margin\":0.0,\"plot\":\"portfolio\"},{\"date\":\"1981-10-09\",\"tot-value\":1020.7986222940469,\"daily-ret\":-1.259650969900131E-4,\"tot-ret\":0.00894007523827695,\"loan\":0.0,\"leverage\":0.0,\"margin\":0.0,\"plot\":\"portfolio\"},{\"date\":\"1981-10-12\",\"tot-value\":1019.9201791203467,\"daily-ret\":-3.738908528726188E-4,\"tot-ret\":0.008566184385404333,\"loan\":0.0,\"leverage\":0.0,\"margin\":0.0,\"plot\":\"portfolio\"},{\"date\":\"1981-10-13\",\"tot-value\":1019.8234799132556,\"daily-ret\":-4.117765670167429E-5,\"tot-ret\":0.008525006728702659,\"loan\":0.0,\"leverage\":0.0,\"margin\":0.0,\"plot\":\"portfolio\"},{\"date\":\"1981-10-14\",\"tot-value\":1021.6921009451319,\"daily-ret\":7.950289844990724E-4,\"tot-ret\":0.009320035713201731,\"loan\":0.0,\"leverage\":0.0,\"margin\":0.0,\"plot\":\"portfolio\"},{\"date\":\"1981-10-15\",\"tot-value\":1021.0947277637438,\"daily-ret\":-2.540019154843461E-4,\"tot-ret\":0.009066033797717385,\"loan\":0.0,\"leverage\":0.0,\"margin\":0.0,\"plot\":\"portfolio\"},{\"date\":\"1981-10-16\",\"tot-value\":1021.4922000547102,\"daily-ret\":1.6902098266079746E-4,\"tot-ret\":0.009235054780378182,\"loan\":0.0,\"leverage\":0.0,\"margin\":0.0,\"plot\":\"portfolio\"},{\"date\":\"1981-10-19\",\"tot-value\":1020.8971209974504,\"daily-ret\":-2.5307570453240655E-4,\"tot-ret\":0.008981979075845775,\"loan\":0.0,\"leverage\":0.0,\"margin\":0.0,\"plot\":\"portfolio\"},{\"date\":\"1981-10-20\",\"tot-value\":1019.3425365626948,\"daily-ret\":-6.618316331864601E-4,\"tot-ret\":0.008320147442659315,\"loan\":0.0,\"leverage\":0.0,\"margin\":0.0,\"plot\":\"portfolio\"},{\"date\":\"1981-10-21\",\"tot-value\":1019.3425365626948,\"daily-ret\":0.0,\"tot-ret\":0.008320147442659315,\"loan\":0.0,\"leverage\":0.0,\"margin\":0.0,\"plot\":\"portfolio\"},{\"date\":\"1981-10-22\",\"tot-value\":1019.5343707531644,\"daily-ret\":8.172394351832994E-5,\"tot-ret\":0.008401871386177645,\"loan\":0.0,\"leverage\":0.0,\"margin\":0.0,\"plot\":\"portfolio\"},{\"date\":\"1981-10-23\",\"tot-value\":1020.3087471410814,\"daily-ret\":3.297385033133582E-4,\"tot-ret\":0.008731609889491003,\"loan\":0.0,\"leverage\":0.0,\"margin\":0.0,\"plot\":\"portfolio\"},{\"date\":\"1981-10-26\",\"tot-value\":1020.3087471410814,\"daily-ret\":0.0,\"tot-ret\":0.008731609889491003,\"loan\":0.0,\"leverage\":0.0,\"margin\":0.0,\"plot\":\"portfolio\"},{\"date\":\"1981-10-27\",\"tot-value\":1019.6305425176096,\"daily-ret\":-2.887738256920247E-4,\"tot-ret\":0.008442836063798979,\"loan\":0.0,\"leverage\":0.0,\"margin\":0.0,\"plot\":\"portfolio\"},{\"date\":\"1981-10-28\",\"tot-value\":1018.7711047265518,\"daily-ret\":-3.662174359181241E-4,\"tot-ret\":0.008076618627880854,\"loan\":0.0,\"leverage\":0.0,\"margin\":0.0,\"plot\":\"portfolio\"},{\"date\":\"1981-10-29\",\"tot-value\":1019.151371770392,\"daily-ret\":1.620747428920824E-4,\"tot-ret\":0.008238693370772937,\"loan\":0.0,\"leverage\":0.0,\"margin\":0.0,\"plot\":\"portfolio\"},{\"date\":\"1981-10-30\",\"tot-value\":1018.7711118086762,\"daily-ret\":-1.6207172383559548E-4,\"tot-ret\":0.008076621646937341,\"loan\":0.0,\"leverage\":0.0,\"margin\":0.0,\"plot\":\"portfolio\"},{\"date\":\"1981-11-02\",\"tot-value\":1018.7711118086762,\"daily-ret\":0.0,\"tot-ret\":0.008076621646937341,\"loan\":0.0,\"leverage\":0.0,\"margin\":0.0,\"plot\":\"portfolio\"},{\"date\":\"1981-11-03\",\"tot-value\":1019.1513788140537,\"daily-ret\":1.6207472537544057E-4,\"tot-ret\":0.008238696372312782,\"loan\":0.0,\"leverage\":0.0,\"margin\":0.0,\"plot\":\"portfolio\"},{\"date\":\"1981-11-04\",\"tot-value\":1019.9201564302708,\"daily-ret\":3.2747835137977805E-4,\"tot-ret\":0.00856617472369256,\"loan\":0.0,\"leverage\":0.0,\"margin\":0.0,\"plot\":\"portfolio\"},{\"date\":\"1981-11-05\",\"tot-value\":1022.0941891136742,\"daily-ret\":9.247444873963358E-4,\"tot-ret\":0.009490919211088895,\"loan\":0.0,\"leverage\":0.0,\"margin\":0.0,\"plot\":\"portfolio\"},{\"date\":\"1981-11-06\",\"tot-value\":1021.8927250387977,\"daily-ret\":-8.561183606230873E-5,\"tot-ret\":0.009405307375026586,\"loan\":0.0,\"leverage\":0.0,\"margin\":0.0,\"plot\":\"portfolio\"},{\"date\":\"1981-11-09\",\"tot-value\":1021.4921656169163,\"daily-ret\":-1.7026723611515124E-4,\"tot-ret\":0.009235040138911434,\"loan\":0.0,\"leverage\":0.0,\"margin\":0.0,\"plot\":\"portfolio\"},{\"date\":\"1981-11-10\",\"tot-value\":1021.2930462710418,\"daily-ret\":-8.466522366042006E-5,\"tot-ret\":0.009150374915251015,\"loan\":0.0,\"leverage\":0.0,\"margin\":0.0,\"plot\":\"portfolio\"},{\"date\":\"1981-11-11\",\"tot-value\":1020.5041084033106,\"daily-ret\":-3.356174522894418E-4,\"tot-ret\":0.008814757462961573,\"loan\":0.0,\"leverage\":0.0,\"margin\":0.0,\"plot\":\"portfolio\"},{\"date\":\"1981-11-12\",\"tot-value\":1019.5343518805787,\"daily-ret\":-4.1289411600268605E-4,\"tot-ret\":0.008401863346958888,\"loan\":0.0,\"leverage\":0.0,\"margin\":0.0,\"plot\":\"portfolio\"},{\"date\":\"1981-11-13\",\"tot-value\":1021.6920645708014,\"daily-ret\":9.181569044698838E-4,\"tot-ret\":0.009320020251428772,\"loan\":0.0,\"leverage\":0.0,\"margin\":0.0,\"plot\":\"portfolio\"},{\"date\":\"1981-11-16\",\"tot-value\":1022.094193575624,\"daily-ret\":1.7090085557161028E-4,\"tot-ret\":0.009490921107000382,\"loan\":0.0,\"leverage\":0.0,\"margin\":0.0,\"plot\":\"portfolio\"},{\"date\":\"1981-11-17\",\"tot-value\":1021.4921832289317,\"daily-ret\":-2.558734802185001E-4,\"tot-ret\":0.009235047626781881,\"loan\":0.0,\"leverage\":0.0,\"margin\":0.0,\"plot\":\"portfolio\"},{\"date\":\"1981-11-18\",\"tot-value\":1020.5041295515468,\"daily-ret\":-4.2028116379565E-4,\"tot-ret\":0.008814766462986231,\"loan\":0.0,\"leverage\":0.0,\"margin\":0.0,\"plot\":\"portfolio\"},{\"date\":\"1981-11-19\",\"tot-value\":1020.5041295515468,\"daily-ret\":0.0,\"tot-ret\":0.008814766462986231,\"loan\":0.0,\"leverage\":0.0,\"margin\":0.0,\"plot\":\"portfolio\"},{\"date\":\"1981-11-20\",\"tot-value\":1020.3087342157664,\"daily-ret\":-8.316207515635996E-5,\"tot-ret\":0.008731604387829871,\"loan\":0.0,\"leverage\":0.0,\"margin\":0.0,\"plot\":\"portfolio\"},{\"date\":\"1981-11-23\",\"tot-value\":1021.5920133338462,\"daily-ret\":5.458846261445856E-4,\"tot-ret\":0.009277489013974457,\"loan\":0.0,\"leverage\":0.0,\"margin\":0.0,\"plot\":\"portfolio\"},{\"date\":\"1981-11-24\",\"tot-value\":1021.8927215430438,\"daily-ret\":1.278168753905683E-4,\"tot-ret\":0.009405305889365025,\"loan\":0.0,\"leverage\":0.0,\"margin\":0.0,\"plot\":\"portfolio\"},{\"date\":\"1981-11-25\",\"tot-value\":1021.2930564899086,\"daily-ret\":-2.5492662864492555E-4,\"tot-ret\":0.0091503792607201,\"loan\":0.0,\"leverage\":0.0,\"margin\":0.0,\"plot\":\"portfolio\"},{\"date\":\"1981-11-27\",\"tot-value\":1020.5041187416211,\"daily-ret\":-3.356173980985194E-4,\"tot-ret\":0.008814761862621581,\"loan\":0.0,\"leverage\":0.0,\"margin\":0.0,\"plot\":\"portfolio\"},{\"date\":\"1981-11-30\",\"tot-value\":1020.8970802767652,\"daily-ret\":1.6719989045098214E-4,\"tot-ret\":0.008981961753072563,\"loan\":0.0,\"leverage\":0.0,\"margin\":0.0,\"plot\":\"portfolio\"},{\"date\":\"1981-12-01\",\"tot-value\":1020.8970802767652,\"daily-ret\":0.0,\"tot-ret\":0.008981961753072563,\"loan\":0.0,\"leverage\":0.0,\"margin\":0.0,\"plot\":\"portfolio\"},{\"date\":\"1981-12-02\",\"tot-value\":1020.7002243360596,\"daily-ret\":-8.375153008884755E-5,\"tot-ret\":0.008898210222983715,\"loan\":0.0,\"leverage\":0.0,\"margin\":0.0,\"plot\":\"portfolio\"},{\"date\":\"1981-12-03\",\"tot-value\":1021.0946792873218,\"daily-ret\":1.6780295662395382E-4,\"tot-ret\":0.009066013179607669,\"loan\":0.0,\"leverage\":0.0,\"margin\":0.0,\"plot\":\"portfolio\"},{\"date\":\"1981-12-04\",\"tot-value\":1020.3087223618684,\"daily-ret\":-3.344138373904096E-4,\"tot-ret\":0.00873159934221726,\"loan\":0.0,\"leverage\":0.0,\"margin\":0.0,\"plot\":\"portfolio\"},{\"date\":\"1981-12-07\",\"tot-value\":1020.1140716342856,\"daily-ret\":-8.286100056600891E-5,\"tot-ret\":0.00864873834165125,\"loan\":0.0,\"leverage\":0.0,\"margin\":0.0,\"plot\":\"portfolio\"},{\"date\":\"1981-12-08\",\"tot-value\":1020.6020958064969,\"daily-ret\":2.077174792347413E-4,\"tot-ret\":0.008856455820885992,\"loan\":0.0,\"leverage\":0.0,\"margin\":0.0,\"plot\":\"portfolio\"},{\"date\":\"1981-12-09\",\"tot-value\":1020.5041371633329,\"daily-ret\":-4.1686118562892746E-5,\"tot-ret\":0.008814769702323099,\"loan\":0.0,\"leverage\":0.0,\"margin\":0.0,\"plot\":\"portfolio\"},{\"date\":\"1981-12-10\",\"tot-value\":1020.5041371633329,\"daily-ret\":0.0,\"tot-ret\":0.008814769702323099,\"loan\":0.0,\"leverage\":0.0,\"margin\":0.0,\"plot\":\"portfolio\"},{\"date\":\"1981-12-11\",\"tot-value\":1020.6020936239817,\"daily-ret\":4.1685189842160694E-5,\"tot-ret\":0.00885645489216526,\"loan\":0.0,\"leverage\":0.0,\"margin\":0.0,\"plot\":\"portfolio\"},{\"date\":\"1981-12-14\",\"tot-value\":1021.5920321101291,\"daily-ret\":4.2104210389585763E-4,\"tot-ret\":0.009277496996061117,\"loan\":0.0,\"leverage\":0.0,\"margin\":0.0,\"plot\":\"portfolio\"},{\"date\":\"1981-12-15\",\"tot-value\":1020.8970996785908,\"daily-ret\":-2.9552698935954454E-4,\"tot-ret\":0.008981970006701572,\"loan\":0.0,\"leverage\":0.0,\"margin\":0.0,\"plot\":\"portfolio\"},{\"date\":\"1981-12-16\",\"tot-value\":1019.534356255793,\"daily-ret\":-5.801047960180033E-4,\"tot-ret\":0.00840186521068357,\"loan\":0.0,\"leverage\":0.0,\"margin\":0.0,\"plot\":\"portfolio\"},{\"date\":\"1981-12-17\",\"tot-value\":1017.0922174769414,\"daily-ret\":-0.0010415339932349,\"tot-ret\":0.00736033121744867,\"loan\":0.0,\"leverage\":0.0,\"margin\":0.0,\"plot\":\"portfolio\"},{\"date\":\"1981-12-18\",\"tot-value\":1014.5779823254752,\"daily-ret\":-0.0010748978943581275,\"tot-ret\":0.006285433323090542,\"loan\":0.0,\"leverage\":0.0,\"margin\":0.0,\"plot\":\"portfolio\"},{\"date\":\"1981-12-21\",\"tot-value\":1016.0008353542651,\"daily-ret\":6.086317011859152E-4,\"tot-ret\":0.006894065024276457,\"loan\":0.0,\"leverage\":0.0,\"margin\":0.0,\"plot\":\"portfolio\"},{\"date\":\"1981-12-22\",\"tot-value\":1015.4630528324504,\"daily-ret\":-2.2993860585180057E-4,\"tot-ret\":0.006664126418424656,\"loan\":0.0,\"leverage\":0.0,\"margin\":0.0,\"plot\":\"portfolio\"},{\"date\":\"1981-12-23\",\"tot-value\":1016.1812524812874,\"daily-ret\":3.0705193480150565E-4,\"tot-ret\":0.006971178353226162,\"loan\":0.0,\"leverage\":0.0,\"margin\":0.0,\"plot\":\"portfolio\"},{\"date\":\"1981-12-24\",\"tot-value\":1016.0008263456815,\"daily-ret\":-7.711717971246343E-5,\"tot-ret\":0.006894061173513698,\"loan\":0.0,\"leverage\":0.0,\"margin\":0.0,\"plot\":\"portfolio\"},{\"date\":\"1981-12-28\",\"tot-value\":1017.3684612075651,\"daily-ret\":5.842090435572913E-4,\"tot-ret\":0.007478270217070989,\"loan\":0.0,\"leverage\":0.0,\"margin\":0.0,\"plot\":\"portfolio\"},{\"date\":\"1981-12-29\",\"tot-value\":1016.8173472413109,\"daily-ret\":-2.3532339996277374E-4,\"tot-ret\":0.007242946817108215,\"loan\":0.0,\"leverage\":0.0,\"margin\":0.0,\"plot\":\"portfolio\"},{\"date\":\"1981-12-30\",\"tot-value\":1015.6417259005934,\"daily-ret\":-5.024120040288149E-4,\"tot-ret\":0.0067405348130794,\"loan\":0.0,\"leverage\":0.0,\"margin\":0.0,\"plot\":\"portfolio\"},{\"date\":\"1981-12-31\",\"tot-value\":1015.6417259005934,\"daily-ret\":0.0,\"tot-ret\":0.0067405348130794,\"loan\":0.0,\"leverage\":0.0,\"margin\":0.0,\"plot\":\"portfolio\"},{\"date\":\"1982-01-04\",\"tot-value\":1015.8209915518753,\"daily-ret\":7.664830142313256E-5,\"tot-ret\":0.0068171831145025326,\"loan\":0.0,\"leverage\":0.0,\"margin\":0.0,\"plot\":\"portfolio\"}]},\"encoding\":{\"x\":{\"field\":\"date\",\"type\":\"temporal\"},\"y\":{\"field\":\"daily-ret\",\"type\":\"quantitative\"},\"color\":{\"field\":\"plot\",\"type\":\"nominal\"}},\"mark\":\"line\"};\n",
       "      vegaEmbed('#uuid-153d1a58-97a1-4d57-a0ee-0fbc9578a232', spec, {defaultStyle:true}).catch(console.warn);\n",
       "      }, function(err) {\n",
       "      console.log('Failed to load');\n",
       "    });\n",
       "    </script>\n",
       "  </div>\n",
       "    "
      ]
     },
     "execution_count": 19,
     "metadata": {},
     "output_type": "execute_result"
    }
   ],
   "source": [
    "(plot data-to-plot :plot :date :daily-ret false)"
   ]
  },
  {
   "cell_type": "code",
   "execution_count": null,
   "metadata": {},
   "outputs": [],
   "source": []
  }
 ],
 "metadata": {
  "kernelspec": {
   "display_name": "Clojure (backtesting_clojure)",
   "language": "clojure",
   "name": "backtesting_clojure"
  },
  "language_info": {
   "file_extension": ".clj",
   "mimetype": "text/x-clojure",
   "name": "clojure",
   "version": "1.10.1"
  }
 },
 "nbformat": 4,
 "nbformat_minor": 2
}
