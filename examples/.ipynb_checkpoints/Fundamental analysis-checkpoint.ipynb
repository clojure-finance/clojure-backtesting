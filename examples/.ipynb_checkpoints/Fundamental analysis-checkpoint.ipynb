{
 "cells": [
  {
   "cell_type": "markdown",
   "metadata": {},
   "source": [
    "### Run this in Python kernel"
   ]
  },
  {
   "cell_type": "code",
   "execution_count": null,
   "metadata": {},
   "outputs": [],
   "source": [
    "%%html\n",
    "<style>\n",
    "body {\n",
    "    font-family: \"Arial\", cursive, sans-serif; # font style of application\n",
    "}\n",
    "pre {\n",
    "    font-family: \"Courier New\"; # font style of cell outputs\n",
    "}\n",
    "</style>  "
   ]
  },
  {
   "cell_type": "markdown",
   "metadata": {},
   "source": [
    "### Run below in the backtesting_clojure kernel"
   ]
  },
  {
   "cell_type": "code",
   "execution_count": 1,
   "metadata": {},
   "outputs": [
    {
     "data": {
      "text/plain": [
       "nil"
      ]
     },
     "execution_count": 1,
     "metadata": {},
     "output_type": "execute_result"
    }
   ],
   "source": [
    "; import libraries from kernel\n",
    "(ns clojure-backtesting.demo\n",
    "  (:require [clojure.test :refer :all]\n",
    "            [clojure-backtesting.data :refer :all]\n",
    "            [clojure-backtesting.data-management :refer :all]\n",
    "            [clojure-backtesting.order :refer :all]\n",
    "            [clojure-backtesting.evaluate :refer :all]\n",
    "            [clojure-backtesting.plot :refer :all]\n",
    "            [clojure-backtesting.counter :refer :all]\n",
    "            ;;[clojure-backtesting.parameters :refer :all]\n",
    "            [clojure.string :as str]\n",
    "            [clojure.pprint :as pprint]\n",
    "            [java-time :as t]\n",
    "            [clojupyter.kernel.version :as ver]\n",
    "            [clojure.edn :as edn]\n",
    "            [clojupyter.misc.helper :as helper]\n",
    "  ) ;; require all libriaries from core\n",
    "  (:use clojure.pprint)\n",
    ")"
   ]
  },
  {
   "cell_type": "markdown",
   "metadata": {},
   "source": [
    "### Import dataset"
   ]
  },
  {
   "cell_type": "code",
   "execution_count": 2,
   "metadata": {},
   "outputs": [],
   "source": [
    "; path to dataset = \"../resources/CRSP-extract.csv\"\n",
    "; change it to the relative to your own dataset\n",
    ";\n",
    "(reset! data-set (add-aprc (read-csv-row \"../resources/CRSP-extract.csv\")));"
   ]
  },
  {
   "cell_type": "markdown",
   "metadata": {},
   "source": [
    "### Get list of tickers with ROE"
   ]
  },
  {
   "cell_type": "code",
   "execution_count": 6,
   "metadata": {},
   "outputs": [
    {
     "data": {
      "text/plain": [
       "#'clojure-backtesting.demo/get-set-roe"
      ]
     },
     "execution_count": 6,
     "metadata": {},
     "output_type": "execute_result"
    }
   ],
   "source": [
    ";; Use merged database CRSP + COMPUSTAT\n",
    ";; Compute the latest quarter ROE by using: niq/(share price * cshoq) in the merged dataset\n",
    ";; output {{:tic \"AAPL\" :year \"1980\" :ROE x.x}{...}{:ROE 1.x 2.x 3.x 10.x}}\n",
    "\n",
    ";; need to use lazy sequence if applying on big dataset\n",
    "(defn get-set-roe\n",
    "    \"return a set of maps of tickers and datadate\" ;;{:tic \"AAPL\", :datadate \"1981/3/31\", :ROE x.x}\n",
    "    [file date]\n",
    "    (loop [remaining file\n",
    "            result-set []\n",
    "            ROE-list [] ]\n",
    "        (if (empty? remaining)\n",
    "            ;; how to change the output here?\n",
    "            ;;(into #{} (conj result-set {:ROE-set ROE-list}))\n",
    "            {:data result-set :ROE-set ROE-list}\n",
    "            (let [first-line (first remaining)\n",
    "                next-remaining (rest remaining)\n",
    "                ;;next-result-set (conj result-set (get first-line :datadate)\n",
    "                [year month day] (map parse-int (str/split date #\"-\"))]\n",
    "                ;;merged file use :datadate as key\n",
    "                (if (= date (get first-line :datadate))\n",
    "                    (let [[niq PRC cshoq] (map edn/read-string [(get first-line :niq)(get first-line :PRC)(get first-line :cshoq)])\n",
    "                          ROE (/ niq (* PRC cshoq))]\n",
    "                        (recur next-remaining (conj result-set {:tic (get first-line :tic) :year year :ROE ROE}) (conj ROE-list ROE))\n",
    "                    )\n",
    "                    (recur next-remaining result-set ROE-list)\n",
    "                )  \n",
    "            )\n",
    "        )\n",
    "    )\n",
    ")"
   ]
  },
  {
   "cell_type": "code",
   "execution_count": 7,
   "metadata": {},
   "outputs": [
    {
     "name": "stdout",
     "output_type": "stream",
     "text": [
      "{:data [{:tic AAPL, :year 1980, :ROE 0.002731506525434953} {:tic GM, :year 1980, :ROE -0.046370846428037134} {:tic IBM, :year 1980, :ROE 0.0238072629827958}], :ROE-set [0.002731506525434953 -0.046370846428037134 0.0238072629827958]}\n"
     ]
    }
   ],
   "source": [
    ";; this function can be used to get the list of stocks available for trading\n",
    "(def dataFA (get-set-roe (read-csv-row \"../resources/data-testing-merged.csv\") \"1980-12-18\"))\n",
    "(println dataFA) ;"
   ]
  },
  {
   "cell_type": "code",
   "execution_count": 8,
   "metadata": {},
   "outputs": [
    {
     "data": {
      "text/plain": [
       "#'clojure-backtesting.demo/get-ROE"
      ]
     },
     "execution_count": 8,
     "metadata": {},
     "output_type": "execute_result"
    }
   ],
   "source": [
    ";; fn to get a set of ROE\n",
    "(defn get-ROE\n",
    "            \"return a set of ROE\"  ;;{10.2 1.8 x.x ...}\n",
    "        [dataset]\n",
    "        (into #{} (get dataset :ROE-set))\n",
    "        )"
   ]
  },
  {
   "cell_type": "code",
   "execution_count": 9,
   "metadata": {},
   "outputs": [
    {
     "data": {
      "text/plain": [
       "#'clojure-backtesting.demo/get-roe-20"
      ]
     },
     "execution_count": 9,
     "metadata": {},
     "output_type": "execute_result"
    }
   ],
   "source": [
    "(defn get-roe-20\n",
    "    \"return a set tickers\" ;;{\"AAPL\" \"GM\"}\n",
    "    [data roe-20]\n",
    "    (loop [remaining (get data :data)\n",
    "            result-set []]\n",
    "        (if (empty? remaining)\n",
    "            (into #{} result-set)\n",
    "            (let [first-line (first remaining)\n",
    "                next-remaining (rest remaining)]\n",
    "                ;;conj the stock ticker whose ROE >= roe-20\n",
    "                ;;(if (not= -1 (compare roe-20 (get first-line :ROE)))\n",
    "                (if (>= (get first-line :ROE) roe-20)\n",
    "                    (recur next-remaining (conj result-set (get first-line :tic)))           \n",
    "                    (recur next-remaining result-set)            \n",
    "                )  \n",
    "            )\n",
    "        )\n",
    "    )\n",
    ")"
   ]
  },
  {
   "cell_type": "code",
   "execution_count": 10,
   "metadata": {},
   "outputs": [
    {
     "name": "stdout",
     "output_type": "stream",
     "text": [
      "#{0.0238072629827958 -0.046370846428037134 0.002731506525434953}\n",
      "#{-0.046370846428037134 0.002731506525434953 0.0238072629827958}\n",
      "[-0.046370846428037134 0.002731506525434953 0.0238072629827958]\n",
      "0.0238072629827958\n",
      "#{IBM}\n",
      "clojure.lang.PersistentHashSet\n"
     ]
    },
    {
     "data": {
      "text/plain": [
       "nil"
      ]
     },
     "execution_count": 10,
     "metadata": {},
     "output_type": "execute_result"
    }
   ],
   "source": [
    ";; test examples\n",
    "\n",
    ";; dataFA is the dataset that contains the output from get-set\n",
    "\n",
    ";; get a set of ROE\n",
    "(def roe-list-demo (get-ROE dataFA))\n",
    "(println roe-list-demo)\n",
    "\n",
    "\n",
    ";; get a sorted set of ROE\n",
    "(def roe-sorted-set (apply sorted-set roe-list-demo))\n",
    "(println roe-sorted-set)\n",
    "\n",
    "\n",
    ";; get a sorted vector of ROE\n",
    "(def roe-sorted-vec (into '[] roe-sorted-set))\n",
    "(println roe-sorted-vec)\n",
    "\n",
    ";; find the 20th per centile ROE\n",
    "(def roe-20-demo (nth roe-sorted-vec (int (* 0.8 (count roe-sorted-vec)))))\n",
    "(println roe-20-demo)\n",
    "         \n",
    ";; get the list of tickers to buy\n",
    "(def stock-to-buy-test (get-roe-20 dataFA roe-20-demo))\n",
    "(println stock-to-buy-test)\n",
    "(println (type stock-to-buy-test)) ;;stored in a set format"
   ]
  },
  {
   "cell_type": "markdown",
   "metadata": {},
   "source": [
    "### Initialise portfolio"
   ]
  },
  {
   "cell_type": "code",
   "execution_count": 11,
   "metadata": {},
   "outputs": [
    {
     "name": "stderr",
     "output_type": "stream",
     "text": [
      "Execution error (ClassCastException) at clojure-backtesting.demo/eval4336 (REPL:1).\n",
      "clojure.lang.Var$Unbound cannot be cast to java.base/java.util.concurrent.Future\n"
     ]
    },
    {
     "ename": "class java.lang.ClassCastException",
     "evalue": "",
     "output_type": "error",
     "traceback": [
      "   core.clj:  2298 clojure.core$deref_future/invokeStatic",
      "   core.clj:  2320 clojure.core$deref/invokeStatic",
      "   core.clj:  2306 clojure.core$deref/invoke",
      "   core.clj:  3214 clojure.core$eval/invokeStatic",
      "   core.clj:  3210 clojure.core$eval/invoke",
      "   main.clj:   437 clojure.main$repl$read_eval_print__9086$fn__9089/invoke",
      "   main.clj:   458 clojure.main$repl$fn__9095/invoke",
      "   main.clj:   368 clojure.main$repl/doInvoke",
      "RestFn.java:  1523 clojure.lang.RestFn/invoke",
      "   AFn.java:    22 clojure.lang.AFn/run",
      "   AFn.java:    22 clojure.lang.AFn/run",
      "Thread.java:   844 java.lang.Thread/run"
     ]
    }
   ],
   "source": [
    "(keys (deref available-tics-))"
   ]
  },
  {
   "cell_type": "code",
   "execution_count": 79,
   "metadata": {},
   "outputs": [
    {
     "data": {
      "text/plain": [
       "nil"
      ]
     },
     "execution_count": 79,
     "metadata": {},
     "output_type": "execute_result"
    }
   ],
   "source": [
    ";; initialise with current date and initial capital (= $1,000,000)\n",
    "(init-portfolio \"1980-12-18\" 100000)\n",
    "\n",
    "(def start-date (get-date))\n",
    ";; time span = n days\n",
    "(def time-span 100) \n",
    "\n",
    ";; get stock tickers and ROE data\n",
    ";; output {{:tic \"AAPL\" :year \"1980\" :ROE x.x}{...}{:ROE 1.x 2.x 3.x 10.x}}\n",
    "(def stock-data (get-set-roe (read-csv-row \"../resources/data-testing-merged.csv\") \"1980-12-18\"))\n",
    "\n",
    ";; 1. sort the stocks according to their ROE (= Net Income/Total Equity)\n",
    "\n",
    ";; get a set of ROE\n",
    "(def roe-list (get-ROE stock-data))\n",
    "\n",
    ";; sorting function, return tickers of the top 20% stocks\n",
    ";; determine what are the top 20% stocks and turn the sorted-set into list format\n",
    "(def roe-sorted (into '[] (apply sorted-set roe-list)))\n",
    "\n",
    ";(println roe-list)\n",
    ";(println (int (* 0.8 (count roe-sorted))))\n",
    "\n",
    ";;find the 20% cut-off ROE value\n",
    "(let [roe-20 (nth roe-sorted (int (* 0.8 (count roe-sorted))))]    \n",
    "  ;;get the tickers of the top 20 with function get-roe-20\n",
    "  (def stocks-to-buy (get-roe-20 stock-data roe-20))\n",
    ")\n",
    "\n",
    ";; 2. buy the top 20% stocks and the sell the stocks that are not in the top 20% this year      \n",
    "(def stocks-to-buy-list (into [] stocks-to-buy))\n",
    ";(println stocks-to-buy-list)\n",
    "\n",
    "(doseq [stock stocks-to-buy-list]        \n",
    "(order stock 10)\n",
    ")\n",
    "\n",
    "\n",
    "(while (not= time-span 0)\n",
    "  ;; check whether the start day is in the dataset\n",
    "  ;; find the quarterly date before inputting into get-set function\n",
    "  (do \n",
    "      (next-date) ; move on to the next trading day\n",
    "      (update-eval-report (get-date)) ; update the eval-report\n",
    "      (def time-span (dec time-span)) ; decrement time span\n",
    "  )\n",
    ")\n",
    "\n",
    ";; 3. sell all stocks by the end of time span\n",
    "(doseq [stock stocks-to-buy-list]        \n",
    "    (order stock -10)\n",
    ")"
   ]
  },
  {
   "cell_type": "markdown",
   "metadata": {},
   "source": [
    "### Check order record"
   ]
  },
  {
   "cell_type": "code",
   "execution_count": 80,
   "metadata": {},
   "outputs": [
    {
     "name": "stdout",
     "output_type": "stream",
     "text": [
      "\n",
      "|      :date | :tic | :price | :quantity | :count |\n",
      "|------------+------+--------+-----------+--------|\n",
      "| 1980-12-19 |  IBM | 64.625 |        10 |        |\n",
      "| 1981-05-14 |  IBM | 56.625 |       -10 |        |\n"
     ]
    },
    {
     "data": {
      "text/plain": [
       "nil"
      ]
     },
     "execution_count": 80,
     "metadata": {},
     "output_type": "execute_result"
    }
   ],
   "source": [
    "(pprint/print-table (deref order-record))"
   ]
  },
  {
   "cell_type": "markdown",
   "metadata": {},
   "source": [
    "### Check portfolio record"
   ]
  },
  {
   "cell_type": "code",
   "execution_count": 81,
   "metadata": {},
   "outputs": [
    {
     "name": "stdout",
     "output_type": "stream",
     "text": [
      "\n",
      "| :asset | :price |  :aprc | :quantity | :tot-val |\n",
      "|--------+--------+--------+-----------+----------|\n",
      "|   cash |    N/A |    N/A |       N/A |    99920 |\n",
      "|    IBM | 56.625 | 703.59 |         0 |        0 |\n"
     ]
    },
    {
     "data": {
      "text/plain": [
       "nil"
      ]
     },
     "execution_count": 81,
     "metadata": {},
     "output_type": "execute_result"
    }
   ],
   "source": [
    ";; view final portfolio\n",
    "(view-portfolio)"
   ]
  },
  {
   "cell_type": "code",
   "execution_count": 82,
   "metadata": {},
   "outputs": [
    {
     "name": "stdout",
     "output_type": "stream",
     "text": [
      "\n",
      "|      :date | :tot-value | :daily-ret | :tot-ret | :loan | :leverage |\n",
      "|------------+------------+------------+----------+-------+-----------|\n",
      "| 1980-12-18 |    $100000 |      0.00% |    0.00% | $0.00 |     0.00% |\n",
      "| 1980-12-19 |    $106714 |      6.50% |    6.50% | $0.00 |     0.00% |\n",
      "| 1981-05-14 |     $99920 |     -6.58% |   -0.08% | $0.00 |     0.00% |\n"
     ]
    },
    {
     "data": {
      "text/plain": [
       "nil"
      ]
     },
     "execution_count": 82,
     "metadata": {},
     "output_type": "execute_result"
    }
   ],
   "source": [
    ";; view portfolio value and return\n",
    "(view-portfolio-record)"
   ]
  },
  {
   "cell_type": "markdown",
   "metadata": {},
   "source": [
    "### Generate evaluation report"
   ]
  },
  {
   "cell_type": "code",
   "execution_count": 65,
   "metadata": {},
   "outputs": [
    {
     "name": "stdout",
     "output_type": "stream",
     "text": [
      "\n",
      "|      :date | :pnl-pt | :sharpe | :tot-val |  :vol |\n",
      "|------------+---------+---------+----------+-------|\n",
      "| 1980-12-19 |   $2278 |   1.67% |  $106836 | 3.95% |\n",
      "| 1980-12-22 |   $1368 |   1.91% |  $106842 | 3.47% |\n",
      "| 1980-12-23 |    $986 |   2.13% |  $106903 | 3.13% |\n",
      "| 1980-12-24 |    $769 |   2.33% |  $106926 | 2.87% |\n",
      "| 1980-12-26 |    $625 |   2.49% |  $106879 | 2.67% |\n",
      "| 1980-12-29 |    $531 |   2.67% |  $106908 | 2.50% |\n",
      "| 1980-12-30 |    $458 |   2.81% |  $106873 | 2.36% |\n",
      "| 1980-12-31 |    $407 |   2.99% |  $106932 | 2.24% |\n",
      "| 1981-01-02 |    $367 |   3.15% |  $106986 | 2.14% |\n",
      "| 1981-01-05 |    $335 |   3.32% |  $107044 | 2.05% |\n",
      "| 1981-01-06 |    $302 |   3.41% |  $106950 | 1.97% |\n",
      "| 1981-01-07 |    $274 |   3.49% |  $106860 | 1.90% |\n",
      "| 1981-01-08 |    $253 |   3.60% |  $106848 | 1.84% |\n",
      "| 1981-01-09 |    $235 |   3.70% |  $106818 | 1.78% |\n",
      "| 1981-01-12 |    $219 |   3.81% |  $106806 | 1.73% |\n",
      "| 1981-01-13 |    $206 |   3.93% |  $106818 | 1.68% |\n",
      "| 1981-01-14 |    $193 |   4.00% |  $106769 | 1.64% |\n",
      "| 1981-01-15 |    $184 |   4.14% |  $106824 | 1.59% |\n",
      "| 1981-01-16 |    $174 |   4.23% |  $106812 | 1.56% |\n",
      "| 1981-01-19 |    $164 |   4.28% |  $106733 | 1.52% |\n",
      "| 1981-01-20 |    $156 |   4.38% |  $106739 | 1.49% |\n",
      "| 1981-01-21 |    $149 |   4.48% |  $106745 | 1.46% |\n",
      "| 1981-01-22 |    $143 |   4.56% |  $106733 | 1.43% |\n",
      "| 1981-01-23 |    $137 |   4.65% |  $106733 | 1.40% |\n",
      "| 1981-01-26 |    $132 |   4.76% |  $106757 | 1.37% |\n",
      "| 1981-01-27 |    $126 |   4.82% |  $106714 | 1.35% |\n",
      "| 1981-01-28 |    $122 |   4.91% |  $106726 | 1.33% |\n",
      "| 1981-01-29 |    $117 |   4.98% |  $106702 | 1.30% |\n",
      "| 1981-01-30 |    $112 |   5.02% |  $106652 | 1.28% |\n",
      "| 1981-02-02 |    $109 |   5.13% |  $106695 | 1.26% |\n",
      "| 1981-02-03 |    $106 |   5.22% |  $106708 | 1.24% |\n",
      "| 1981-02-04 |    $103 |   5.31% |  $106726 | 1.22% |\n",
      "| 1981-02-05 |    $100 |   5.40% |  $106738 | 1.21% |\n",
      "| 1981-02-06 |     $97 |   5.45% |  $106701 | 1.19% |\n",
      "| 1981-02-09 |     $94 |   5.50% |  $106675 | 1.17% |\n",
      "| 1981-02-10 |     $91 |   5.56% |  $106656 | 1.16% |\n",
      "| 1981-02-11 |     $88 |   5.60% |  $106612 | 1.14% |\n",
      "| 1981-02-12 |     $85 |   5.67% |  $106612 | 1.13% |\n",
      "| 1981-02-13 |     $83 |   5.75% |  $106625 | 1.12% |\n",
      "| 1981-02-17 |     $81 |   5.82% |  $106625 | 1.10% |\n",
      "| 1981-02-18 |     $79 |   5.86% |  $106586 | 1.09% |\n",
      "| 1981-02-19 |     $77 |   5.89% |  $106548 | 1.08% |\n",
      "| 1981-02-20 |     $76 |   6.02% |  $106625 | 1.06% |\n",
      "| 1981-02-23 |     $74 |   6.10% |  $106631 | 1.05% |\n",
      "| 1981-02-24 |     $74 |   6.26% |  $106738 | 1.04% |\n",
      "| 1981-02-25 |     $72 |   6.35% |  $106763 | 1.03% |\n",
      "| 1981-02-26 |     $70 |   6.39% |  $106738 | 1.02% |\n",
      "| 1981-02-27 |     $69 |   6.43% |  $106707 | 1.01% |\n",
      "| 1981-03-02 |     $67 |   6.44% |  $106650 | 1.00% |\n",
      "| 1981-03-03 |     $65 |   6.47% |  $106618 | 0.99% |\n",
      "| 1981-03-04 |     $64 |   6.54% |  $106625 | 0.98% |\n",
      "| 1981-03-05 |     $63 |   6.59% |  $106618 | 0.97% |\n",
      "| 1981-03-06 |     $62 |   6.71% |  $106675 | 0.96% |\n",
      "| 1981-03-09 |     $61 |   6.74% |  $106650 | 0.95% |\n",
      "| 1981-03-10 |     $59 |   6.79% |  $106637 | 0.95% |\n",
      "| 1981-03-11 |     $59 |   6.94% |  $106726 | 0.94% |\n",
      "| 1981-03-12 |     $58 |   6.96% |  $106688 | 0.93% |\n",
      "| 1981-03-13 |     $57 |   7.09% |  $106757 | 0.92% |\n",
      "| 1981-03-16 |     $56 |   7.13% |  $106738 | 0.91% |\n",
      "| 1981-03-17 |     $55 |   7.21% |  $106763 | 0.91% |\n",
      "| 1981-03-18 |     $54 |   7.22% |  $106713 | 0.90% |\n",
      "| 1981-03-19 |     $53 |   7.24% |  $106682 | 0.89% |\n",
      "| 1981-03-20 |     $52 |   7.28% |  $106669 | 0.89% |\n",
      "| 1981-03-23 |     $51 |   7.31% |  $106637 | 0.88% |\n",
      "| 1981-03-24 |     $51 |   7.45% |  $106719 | 0.87% |\n",
      "| 1981-03-25 |     $50 |   7.46% |  $106682 | 0.87% |\n",
      "| 1981-03-26 |     $48 |   7.44% |  $106612 | 0.86% |\n",
      "| 1981-03-27 |     $48 |   7.48% |  $106599 | 0.85% |\n",
      "| 1981-03-30 |     $47 |   7.58% |  $106644 | 0.85% |\n",
      "| 1981-03-31 |     $47 |   7.67% |  $106675 | 0.84% |\n",
      "| 1981-04-01 |     $46 |   7.68% |  $106631 | 0.84% |\n",
      "| 1981-04-02 |     $45 |   7.67% |  $106580 | 0.83% |\n",
      "| 1981-04-03 |     $44 |   7.68% |  $106541 | 0.83% |\n",
      "| 1981-04-06 |     $43 |   7.71% |  $106522 | 0.82% |\n",
      "| 1981-04-07 |     $43 |   7.76% |  $106522 | 0.81% |\n",
      "| 1981-04-08 |     $43 |   7.91% |  $106612 | 0.81% |\n",
      "| 1981-04-09 |     $42 |   7.90% |  $106561 | 0.80% |\n",
      "| 1981-04-10 |     $41 |   7.92% |  $106528 | 0.80% |\n",
      "| 1981-04-13 |     $40 |   7.90% |  $106476 | 0.79% |\n",
      "| 1981-04-14 |     $40 |   7.98% |  $106502 | 0.79% |\n",
      "| 1981-04-15 |     $40 |   8.06% |  $106522 | 0.78% |\n",
      "| 1981-04-16 |     $40 |   8.20% |  $106606 | 0.78% |\n",
      "| 1981-04-20 |     $39 |   8.18% |  $106548 | 0.78% |\n",
      "| 1981-04-21 |     $38 |   8.22% |  $106541 | 0.77% |\n",
      "| 1981-04-22 |     $38 |   8.27% |  $106541 | 0.77% |\n",
      "| 1981-04-23 |     $37 |   8.33% |  $106554 | 0.76% |\n",
      "| 1981-04-24 |     $37 |   8.41% |  $106580 | 0.76% |\n",
      "| 1981-04-27 |     $36 |   8.41% |  $106541 | 0.75% |\n",
      "| 1981-04-28 |     $36 |   8.41% |  $106502 | 0.75% |\n",
      "| 1981-04-29 |     $35 |   8.39% |  $106450 | 0.75% |\n",
      "| 1981-04-30 |     $35 |   8.47% |  $106476 | 0.74% |\n",
      "| 1981-05-01 |     $34 |   8.46% |  $106437 | 0.74% |\n",
      "| 1981-05-04 |     $34 |   8.47% |  $106404 | 0.73% |\n",
      "| 1981-05-05 |     $33 |   8.52% |  $106410 | 0.73% |\n",
      "| 1981-05-06 |     $33 |   8.59% |  $106429 | 0.73% |\n",
      "| 1981-05-07 |     $33 |   8.67% |  $106456 | 0.72% |\n",
      "| 1981-05-08 |     $32 |   8.58% |  $106355 | 0.72% |\n",
      "| 1981-05-11 |     $32 |   8.68% |  $106396 | 0.71% |\n",
      "| 1981-05-12 |     $32 |   8.72% |  $106396 | 0.71% |\n",
      "| 1981-05-13 |     $31 |   8.76% |  $106389 | 0.71% |\n"
     ]
    },
    {
     "data": {
      "text/plain": [
       "nil"
      ]
     },
     "execution_count": 65,
     "metadata": {},
     "output_type": "execute_result"
    }
   ],
   "source": [
    "(eval-report)"
   ]
  },
  {
   "cell_type": "markdown",
   "metadata": {},
   "source": [
    "### Plot variables\n",
    "Below are example codes that show how to plot different variables in the portfolio record / evaluation record."
   ]
  },
  {
   "cell_type": "markdown",
   "metadata": {},
   "source": [
    "### 1. Portfolio total value"
   ]
  },
  {
   "cell_type": "code",
   "execution_count": 66,
   "metadata": {},
   "outputs": [
    {
     "data": {
      "text/plain": [
       "#'clojure-backtesting.demo/data"
      ]
     },
     "execution_count": 66,
     "metadata": {},
     "output_type": "execute_result"
    }
   ],
   "source": [
    "(def data (deref portfolio-value))"
   ]
  },
  {
   "cell_type": "code",
   "execution_count": 67,
   "metadata": {},
   "outputs": [
    {
     "data": {
      "text/plain": [
       "#'clojure-backtesting.demo/data-to-plot"
      ]
     },
     "execution_count": 67,
     "metadata": {},
     "output_type": "execute_result"
    }
   ],
   "source": [
    "; Add legend name to series\n",
    "(def data-to-plot\n",
    " (map #(assoc % :plot \"total value\")\n",
    "  data))"
   ]
  },
  {
   "cell_type": "code",
   "execution_count": 68,
   "metadata": {},
   "outputs": [
    {
     "data": {
      "text/plain": [
       "{:date \"1980-12-18\", :tot-value 100000, :daily-ret 0.0, :tot-ret 0.0, :loan 0.0, :leverage 0.0, :plot \"total value\"}"
      ]
     },
     "execution_count": 68,
     "metadata": {},
     "output_type": "execute_result"
    }
   ],
   "source": [
    "(first data-to-plot)"
   ]
  },
  {
   "cell_type": "code",
   "execution_count": 69,
   "metadata": {},
   "outputs": [
    {
     "data": {
      "text/html": [
       "\n",
       "  <div>\n",
       "    <div id='uuid-25826d62-50ea-4b78-ba4b-ac7098609e36'></div>\n",
       "    <script>\n",
       "    requirejs.config({\n",
       "      baseUrl: 'https://cdn.jsdelivr.net/npm/',\n",
       "      paths: {\n",
       "        'vega-embed':  'vega-embed@6.12.2?noext',\n",
       "        'vega-lib': 'vega-lib?noext',\n",
       "        'vega-lite': 'vega-lite@4.17.0?noext',\n",
       "        'vega': 'vega@5.17.0?noext'\n",
       "      }\n",
       "    });\n",
       "    require(['vega-embed'], function(vegaEmbed) {\n",
       "      let spec = {\"width\":800,\"height\":500,\"data\":{\"values\":[{\"date\":\"1980-12-18\",\"tot-value\":100000,\"daily-ret\":0.0,\"tot-ret\":0.0,\"loan\":0.0,\"leverage\":0.0,\"plot\":\"total value\"},{\"date\":\"1980-12-19\",\"tot-value\":106714.48851556178,\"daily-ret\":0.06498675050117103,\"tot-ret\":0.06498675050117103,\"loan\":0.0,\"leverage\":0.0,\"plot\":\"total value\"},{\"date\":\"1980-12-22\",\"tot-value\":106836.82743650615,\"daily-ret\":-0.006355676822909309,\"tot-ret\":0.0661325072836325,\"loan\":0.0,\"leverage\":0.0,\"plot\":\"total value\"},{\"date\":\"1980-12-23\",\"tot-value\":106842.87549048473,\"daily-ret\":-0.0063597804853953175,\"tot-ret\":0.06618911587955757,\"loan\":0.0,\"leverage\":0.0,\"plot\":\"total value\"},{\"date\":\"1980-12-24\",\"tot-value\":106903.0146626279,\"daily-ret\":-0.0064004937338424245,\"tot-ret\":0.0667518324182196,\"loan\":0.0,\"leverage\":0.0,\"plot\":\"total value\"},{\"date\":\"1980-12-26\",\"tot-value\":106926.8959748524,\"daily-ret\":-0.006416614157681579,\"tot-ret\":0.06697519978766381,\"loan\":0.0,\"leverage\":0.0,\"plot\":\"total value\"},{\"date\":\"1980-12-29\",\"tot-value\":106879.03195501617,\"daily-ret\":-0.006384277617948871,\"tot-ret\":0.06652746645211718,\"loan\":0.0,\"leverage\":0.0,\"plot\":\"total value\"},{\"date\":\"1980-12-30\",\"tot-value\":106908.99215767105,\"daily-ret\":-0.0064045307723980885,\"tot-ret\":0.06680774597642969,\"loan\":0.0,\"leverage\":0.0,\"plot\":\"total value\"},{\"date\":\"1980-12-31\",\"tot-value\":106873.02043167403,\"daily-ret\":-0.006380208620654221,\"tot-ret\":0.06647121882055898,\"loan\":0.0,\"leverage\":0.0,\"plot\":\"total value\"},{\"date\":\"1981-01-02\",\"tot-value\":106932.849021178,\"daily-ret\":-0.006420628074472283,\"tot-ret\":0.06703087222220472,\"loan\":0.0,\"leverage\":0.0,\"plot\":\"total value\"},{\"date\":\"1981-01-05\",\"tot-value\":106986.17464121181,\"daily-ret\":-0.006456513807533997,\"tot-ret\":0.06752943116498028,\"loan\":0.0,\"leverage\":0.0,\"plot\":\"total value\"},{\"date\":\"1981-01-06\",\"tot-value\":107044.86263113076,\"daily-ret\":-0.0064958551787850285,\"tot-ret\":0.06807783752826063,\"loan\":0.0,\"leverage\":0.0,\"plot\":\"total value\"},{\"date\":\"1981-01-07\",\"tot-value\":106950.68011756876,\"daily-ret\":-0.0064326426764147815,\"tot-ret\":0.06719760873065733,\"loan\":0.0,\"leverage\":0.0,\"plot\":\"total value\"},{\"date\":\"1981-01-08\",\"tot-value\":106860.98253266708,\"daily-ret\":-0.006372056275328639,\"tot-ret\":0.06635857507784397,\"loan\":0.0,\"leverage\":0.0,\"plot\":\"total value\"},{\"date\":\"1981-01-09\",\"tot-value\":106848.91639114573,\"daily-ret\":-0.0063638774388478135,\"tot-ret\":0.06624565432316719,\"loan\":0.0,\"leverage\":0.0,\"plot\":\"total value\"},{\"date\":\"1981-01-12\",\"tot-value\":106818.64238817562,\"daily-ret\":-0.006343327332089484,\"tot-ret\":0.06596227950159242,\"loan\":0.0,\"leverage\":0.0,\"plot\":\"total value\"},{\"date\":\"1981-01-13\",\"tot-value\":106806.48835597356,\"daily-ret\":-0.0063350651993545415,\"tot-ret\":0.06584849108940663,\"loan\":0.0,\"leverage\":0.0,\"plot\":\"total value\"},{\"date\":\"1981-01-14\",\"tot-value\":106818.64213706947,\"daily-ret\":-0.006343327113363503,\"tot-ret\":0.06596227715082159,\"loan\":0.0,\"leverage\":0.0,\"plot\":\"total value\"},{\"date\":\"1981-01-15\",\"tot-value\":106769.86688553936,\"daily-ret\":-0.006310128165114169,\"tot-ret\":0.06550555546105306,\"loan\":0.0,\"leverage\":0.0,\"plot\":\"total value\"},{\"date\":\"1981-01-16\",\"tot-value\":106824.71006485306,\"daily-ret\":-0.006347449533591371,\"tot-ret\":0.06601908142507286,\"loan\":0.0,\"leverage\":0.0,\"plot\":\"total value\"},{\"date\":\"1981-01-19\",\"tot-value\":106812.56891389891,\"daily-ret\":-0.00633919959472136,\"tot-ret\":0.06590542007322209,\"loan\":0.0,\"leverage\":0.0,\"plot\":\"total value\"},{\"date\":\"1981-01-20\",\"tot-value\":106733.00970296495,\"daily-ret\":-0.006284967773673454,\"tot-ret\":0.06516029376219931,\"loan\":0.0,\"leverage\":0.0,\"plot\":\"total value\"},{\"date\":\"1981-01-21\",\"tot-value\":106739.16913034456,\"daily-ret\":-0.006289176870549674,\"tot-ret\":0.0652180008359265,\"loan\":0.0,\"leverage\":0.0,\"plot\":\"total value\"},{\"date\":\"1981-01-22\",\"tot-value\":106745.3208830986,\"daily-ret\":-0.0062933787704626855,\"tot-ret\":0.06527563268314278,\"loan\":0.0,\"leverage\":0.0,\"plot\":\"total value\"},{\"date\":\"1981-01-23\",\"tot-value\":106733.00956643431,\"daily-ret\":-0.006284967654571368,\"tot-ret\":0.06516029248302037,\"loan\":0.0,\"leverage\":0.0,\"plot\":\"total value\"},{\"date\":\"1981-01-26\",\"tot-value\":106733.00956643431,\"daily-ret\":-0.006284967654571368,\"tot-ret\":0.06516029248302037,\"loan\":0.0,\"leverage\":0.0,\"plot\":\"total value\"},{\"date\":\"1981-01-27\",\"tot-value\":106757.60725119157,\"daily-ret\":-0.006301766121189341,\"tot-ret\":0.0653907258878488,\"loan\":0.0,\"leverage\":0.0,\"plot\":\"total value\"},{\"date\":\"1981-01-28\",\"tot-value\":106714.48854308548,\"daily-ret\":-0.006272300045070668,\"tot-ret\":0.06498675075908959,\"loan\":0.0,\"leverage\":0.0,\"plot\":\"total value\"},{\"date\":\"1981-01-29\",\"tot-value\":106726.83998657197,\"daily-ret\":-0.006280749196694144,\"tot-ret\":0.06510248695306246,\"loan\":0.0,\"leverage\":0.0,\"plot\":\"total value\"},{\"date\":\"1981-01-30\",\"tot-value\":106702.1074459242,\"daily-ret\":-0.006263822983748251,\"tot-ret\":0.06487072325787469,\"loan\":0.0,\"leverage\":0.0,\"plot\":\"total value\"},{\"date\":\"1981-02-02\",\"tot-value\":106652.31339243907,\"daily-ret\":-0.0062296587658232,\"tot-ret\":0.06440395013741583,\"loan\":0.0,\"leverage\":0.0,\"plot\":\"total value\"},{\"date\":\"1981-02-03\",\"tot-value\":106695.90810222494,\"daily-ret\":-0.006259576011017813,\"tot-ret\":0.06481262202684819,\"loan\":0.0,\"leverage\":0.0,\"plot\":\"total value\"},{\"date\":\"1981-02-04\",\"tot-value\":106708.30154610248,\"daily-ret\":-0.00626806486884286,\"tot-ret\":0.06492877197451699,\"loan\":0.0,\"leverage\":0.0,\"plot\":\"total value\"},{\"date\":\"1981-02-05\",\"tot-value\":106726.0994313946,\"daily-ret\":-0.006288250298884994,\"tot-ret\":0.06509554813854543,\"loan\":0.0,\"leverage\":0.0,\"plot\":\"total value\"},{\"date\":\"1981-02-06\",\"tot-value\":106738.59175871086,\"daily-ret\":-0.006296819427211789,\"tot-ret\":0.06521259163890968,\"loan\":0.0,\"leverage\":0.0,\"plot\":\"total value\"},{\"date\":\"1981-02-09\",\"tot-value\":106701.02979154345,\"daily-ret\":-0.006271031631395179,\"tot-ret\":0.0648606235527375,\"loan\":0.0,\"leverage\":0.0,\"plot\":\"total value\"},{\"date\":\"1981-02-10\",\"tot-value\":106675.84858912868,\"daily-ret\":-0.006253707165139119,\"tot-ret\":0.0646245979559366,\"loan\":0.0,\"leverage\":0.0,\"plot\":\"total value\"},{\"date\":\"1981-02-11\",\"tot-value\":106656.88958071463,\"daily-ret\":-0.006240644396941902,\"tot-ret\":0.06444685675571937,\"loan\":0.0,\"leverage\":0.0,\"plot\":\"total value\"},{\"date\":\"1981-02-12\",\"tot-value\":106612.39798054453,\"daily-ret\":-0.006209923926329755,\"tot-ret\":0.06402962273834815,\"loan\":0.0,\"leverage\":0.0,\"plot\":\"total value\"},{\"date\":\"1981-02-13\",\"tot-value\":106612.39798054453,\"daily-ret\":-0.006209923926329755,\"tot-ret\":0.06402962273834824,\"loan\":0.0,\"leverage\":0.0,\"plot\":\"total value\"},{\"date\":\"1981-02-17\",\"tot-value\":106625.14742328777,\"daily-ret\":-0.006218736737415757,\"tot-ret\":0.06414920245620975,\"loan\":0.0,\"leverage\":0.0,\"plot\":\"total value\"},{\"date\":\"1981-02-18\",\"tot-value\":106625.14742328777,\"daily-ret\":-0.006218736737415757,\"tot-ret\":0.06414920245620984,\"loan\":0.0,\"leverage\":0.0,\"plot\":\"total value\"},{\"date\":\"1981-02-19\",\"tot-value\":106586.81442650969,\"daily-ret\":-0.006192217703990229,\"tot-ret\":0.06378962603415043,\"loan\":0.0,\"leverage\":0.0,\"plot\":\"total value\"},{\"date\":\"1981-02-20\",\"tot-value\":106548.21537049516,\"daily-ret\":-0.006165446060838683,\"tot-ret\":0.06342742319519648,\"loan\":0.0,\"leverage\":0.0,\"plot\":\"total value\"},{\"date\":\"1981-02-23\",\"tot-value\":106625.14517828703,\"daily-ret\":-0.006218734775490457,\"tot-ret\":0.0641491814011321,\"loan\":0.0,\"leverage\":0.0,\"plot\":\"total value\"},{\"date\":\"1981-02-24\",\"tot-value\":106631.50793222539,\"daily-ret\":-0.006223129904577316,\"tot-ret\":0.06420885366783467,\"loan\":0.0,\"leverage\":0.0,\"plot\":\"total value\"},{\"date\":\"1981-02-25\",\"tot-value\":106738.59163438318,\"daily-ret\":-0.00629681931877566,\"tot-ret\":0.06521259047412346,\"loan\":0.0,\"leverage\":0.0,\"plot\":\"total value\"},{\"date\":\"1981-02-26\",\"tot-value\":106763.49531801729,\"daily-ret\":-0.006313880748705867,\"tot-ret\":0.06544587797123926,\"loan\":0.0,\"leverage\":0.0,\"plot\":\"total value\"},{\"date\":\"1981-02-27\",\"tot-value\":106738.59133738399,\"daily-ret\":-0.006296819059739029,\"tot-ret\":0.06521258769163234,\"loan\":0.0,\"leverage\":0.0,\"plot\":\"total value\"},{\"date\":\"1981-03-02\",\"tot-value\":106707.30544906881,\"daily-ret\":-0.006275344281847626,\"tot-ret\":0.06491943716486874,\"loan\":0.0,\"leverage\":0.0,\"plot\":\"total value\"},{\"date\":\"1981-03-03\",\"tot-value\":106650.55100024714,\"daily-ret\":-0.006236272551744758,\"tot-ret\":0.06438742535049458,\"loan\":0.0,\"leverage\":0.0,\"plot\":\"total value\"},{\"date\":\"1981-03-04\",\"tot-value\":106618.7712903996,\"daily-ret\":-0.0062143293713655305,\"tot-ret\":0.06408940114578071,\"loan\":0.0,\"leverage\":0.0,\"plot\":\"total value\"},{\"date\":\"1981-03-05\",\"tot-value\":106625.14107318757,\"daily-ret\":-0.006218731188009214,\"tot-ret\":0.06414914290083719,\"loan\":0.0,\"leverage\":0.0,\"plot\":\"total value\"},{\"date\":\"1981-03-06\",\"tot-value\":106618.77106221851,\"daily-ret\":-0.006214329171934025,\"tot-ret\":0.06408939900562206,\"loan\":0.0,\"leverage\":0.0,\"plot\":\"total value\"},{\"date\":\"1981-03-09\",\"tot-value\":106675.84589334673,\"daily-ret\":-0.006253704811358177,\"tot-ret\":0.06462457268515628,\"loan\":0.0,\"leverage\":0.0,\"plot\":\"total value\"},{\"date\":\"1981-03-10\",\"tot-value\":106650.54976514902,\"daily-ret\":-0.006236271472861022,\"tot-ret\":0.06438741376969996,\"loan\":0.0,\"leverage\":0.0,\"plot\":\"total value\"},{\"date\":\"1981-03-11\",\"tot-value\":106637.85955405344,\"daily-ret\":-0.006227514763580203,\"tot-ret\":0.06426841798224904,\"loan\":0.0,\"leverage\":0.0,\"plot\":\"total value\"},{\"date\":\"1981-03-12\",\"tot-value\":106726.093473364,\"daily-ret\":-0.006288245101278519,\"tot-ret\":0.06509549231311251,\"loan\":0.0,\"leverage\":0.0,\"plot\":\"total value\"},{\"date\":\"1981-03-13\",\"tot-value\":106688.44681215042,\"daily-ret\":-0.006262377111447113,\"tot-ret\":0.06474268915777247,\"loan\":0.0,\"leverage\":0.0,\"plot\":\"total value\"},{\"date\":\"1981-03-16\",\"tot-value\":106757.2735859807,\"daily-ret\":-0.0063096198170192784,\"tot-ret\":0.06538760043626889,\"loan\":0.0,\"leverage\":0.0,\"plot\":\"total value\"},{\"date\":\"1981-03-17\",\"tot-value\":106738.58442633708,\"daily-ret\":-0.006296813032062036,\"tot-ret\":0.06521252294422424,\"loan\":0.0,\"leverage\":0.0,\"plot\":\"total value\"},{\"date\":\"1981-03-18\",\"tot-value\":106763.48808566372,\"daily-ret\":-0.00631387444352636,\"tot-ret\":0.06544581022941612,\"loan\":0.0,\"leverage\":0.0,\"plot\":\"total value\"},{\"date\":\"1981-03-19\",\"tot-value\":106713.57029339348,\"daily-ret\":-0.006279646971294684,\"tot-ret\":0.06497814598896745,\"loan\":0.0,\"leverage\":0.0,\"plot\":\"total value\"},{\"date\":\"1981-03-20\",\"tot-value\":106682.14613332032,\"daily-ret\":-0.006258041035319651,\"tot-ret\":0.06468363060856047,\"loan\":0.0,\"leverage\":0.0,\"plot\":\"total value\"},{\"date\":\"1981-03-23\",\"tot-value\":106669.52856628949,\"daily-ret\":-0.0062493531353985795,\"tot-ret\":0.06456535108660859,\"loan\":0.0,\"leverage\":0.0,\"plot\":\"total value\"},{\"date\":\"1981-03-24\",\"tot-value\":106637.85791935328,\"daily-ret\":-0.00622751333531928,\"tot-ret\":0.06426840265279458,\"loan\":0.0,\"leverage\":0.0,\"plot\":\"total value\"},{\"date\":\"1981-03-25\",\"tot-value\":106719.83500616829,\"daily-ret\":-0.00628394902229225,\"tot-ret\":0.06503685013387664,\"loan\":0.0,\"leverage\":0.0,\"plot\":\"total value\"},{\"date\":\"1981-03-26\",\"tot-value\":106682.14623269234,\"daily-ret\":-0.006258041122075356,\"tot-ret\":0.06468363154003778,\"loan\":0.0,\"leverage\":0.0,\"plot\":\"total value\"},{\"date\":\"1981-03-27\",\"tot-value\":106612.38900867097,\"daily-ret\":-0.006209916083984823,\"tot-ret\":0.06402953858421512,\"loan\":0.0,\"leverage\":0.0,\"plot\":\"total value\"},{\"date\":\"1981-03-30\",\"tot-value\":106599.61034501933,\"daily-ret\":-0.006201075537609852,\"tot-ret\":0.06390967043696559,\"loan\":0.0,\"leverage\":0.0,\"plot\":\"total value\"},{\"date\":\"1981-03-31\",\"tot-value\":106644.20468354048,\"daily-ret\":-0.006231893409222233,\"tot-ret\":0.06432791787045154,\"loan\":0.0,\"leverage\":0.0,\"plot\":\"total value\"},{\"date\":\"1981-04-01\",\"tot-value\":106675.84060168377,\"daily-ret\":-0.0062537001910230915,\"tot-ret\":0.06462452308008321,\"loan\":0.0,\"leverage\":0.0,\"plot\":\"total value\"},{\"date\":\"1981-04-02\",\"tot-value\":106631.49958785558,\"daily-ret\":-0.006223122613172325,\"tot-ret\":0.06420877541357084,\"loan\":0.0,\"leverage\":0.0,\"plot\":\"total value\"},{\"date\":\"1981-04-03\",\"tot-value\":106580.38840135884,\"daily-ret\":-0.006187763413921322,\"tot-ret\":0.06372933509757527,\"loan\":0.0,\"leverage\":0.0,\"plot\":\"total value\"},{\"date\":\"1981-04-06\",\"tot-value\":106541.74462608335,\"daily-ret\":-0.00616094928534549,\"tot-ret\":0.0633666906819056,\"loan\":0.0,\"leverage\":0.0,\"plot\":\"total value\"},{\"date\":\"1981-04-07\",\"tot-value\":106522.32153434127,\"daily-ret\":-0.006147446053140307,\"tot-ret\":0.06318436907182924,\"loan\":0.0,\"leverage\":0.0,\"plot\":\"total value\"},{\"date\":\"1981-04-08\",\"tot-value\":106522.32153434127,\"daily-ret\":-0.006147446053140307,\"tot-ret\":0.06318436907182924,\"loan\":0.0,\"leverage\":0.0,\"plot\":\"total value\"},{\"date\":\"1981-04-09\",\"tot-value\":106612.38836958536,\"daily-ret\":-0.006209915525357744,\"tot-ret\":0.06402953258973698,\"loan\":0.0,\"leverage\":0.0,\"plot\":\"total value\"},{\"date\":\"1981-04-10\",\"tot-value\":106561.10278981569,\"daily-ret\":-0.00617439060805979,\"tot-ret\":0.06354836975396223,\"loan\":0.0,\"leverage\":0.0,\"plot\":\"total value\"},{\"date\":\"1981-04-13\",\"tot-value\":106528.80596591522,\"daily-ret\":-0.006151956510985477,\"tot-ret\":0.06324524114185318,\"loan\":0.0,\"leverage\":0.0,\"plot\":\"total value\"},{\"date\":\"1981-04-14\",\"tot-value\":106476.7332499714,\"daily-ret\":-0.006115684056837563,\"tot-ret\":0.06275630815754793,\"loan\":0.0,\"leverage\":0.0,\"plot\":\"total value\"},{\"date\":\"1981-04-15\",\"tot-value\":106502.83243956555,\"daily-ret\":-0.006133879908981046,\"tot-ret\":0.06300139448440088,\"loan\":0.0,\"leverage\":0.0,\"plot\":\"total value\"},{\"date\":\"1981-04-16\",\"tot-value\":106522.3239504037,\"daily-ret\":-0.006147448168363341,\"tot-ret\":0.06318439175310721,\"loan\":0.0,\"leverage\":0.0,\"plot\":\"total value\"},{\"date\":\"1981-04-20\",\"tot-value\":106606.00376449834,\"daily-ret\":-0.006205499658922777,\"tot-ret\":0.06396964465019239,\"loan\":0.0,\"leverage\":0.0,\"plot\":\"total value\"},{\"date\":\"1981-04-21\",\"tot-value\":106548.20463978422,\"daily-ret\":-0.006165436670540641,\"tot-ret\":0.06342732248293656,\"loan\":0.0,\"leverage\":0.0,\"plot\":\"total value\"},{\"date\":\"1981-04-22\",\"tot-value\":106541.7456217478,\"daily-ret\":-0.006160950156736601,\"tot-ret\":0.06336670002720396,\"loan\":0.0,\"leverage\":0.0,\"plot\":\"total value\"},{\"date\":\"1981-04-23\",\"tot-value\":106541.7456217478,\"daily-ret\":-0.006160950156736601,\"tot-ret\":0.06336670002720396,\"loan\":0.0,\"leverage\":0.0,\"plot\":\"total value\"},{\"date\":\"1981-04-24\",\"tot-value\":106554.65750109186,\"daily-ret\":-0.0061699172332422,\"tot-ret\":0.0634878834838051,\"loan\":0.0,\"leverage\":0.0,\"plot\":\"total value\"},{\"date\":\"1981-04-27\",\"tot-value\":106580.38855823646,\"daily-ret\":-0.006187763551125503,\"tot-ret\":0.06372933656949284,\"loan\":0.0,\"leverage\":0.0,\"plot\":\"total value\"},{\"date\":\"1981-04-28\",\"tot-value\":106541.74478212208,\"daily-ret\":-0.006160949421908359,\"tot-ret\":0.06336669214648334,\"loan\":0.0,\"leverage\":0.0,\"plot\":\"total value\"},{\"date\":\"1981-04-29\",\"tot-value\":106502.82980424393,\"daily-ret\":-0.006133877601010794,\"tot-ret\":0.0630013697402544,\"loan\":0.0,\"leverage\":0.0,\"plot\":\"total value\"},{\"date\":\"1981-04-30\",\"tot-value\":106450.5099097599,\"daily-ret\":-0.006097370122088324,\"tot-ret\":0.06250999547388224,\"loan\":0.0,\"leverage\":0.0,\"plot\":\"total value\"},{\"date\":\"1981-05-01\",\"tot-value\":106476.73386579093,\"daily-ret\":-0.006115684596409363,\"tot-ret\":0.06275631394115411,\"loan\":0.0,\"leverage\":0.0,\"plot\":\"total value\"},{\"date\":\"1981-05-04\",\"tot-value\":106437.35143112396,\"daily-ret\":-0.006088168603525759,\"tot-ret\":0.062386376601769586,\"loan\":0.0,\"leverage\":0.0,\"plot\":\"total value\"},{\"date\":\"1981-05-05\",\"tot-value\":106404.31243185778,\"daily-ret\":-0.0060650291989407055,\"tot-ret\":0.06207592047272122,\"loan\":0.0,\"leverage\":0.0,\"plot\":\"total value\"},{\"date\":\"1981-05-06\",\"tot-value\":106410.93765090471,\"daily-ret\":-0.006069673552314558,\"tot-ret\":0.06213818310706248,\"loan\":0.0,\"leverage\":0.0,\"plot\":\"total value\"},{\"date\":\"1981-05-07\",\"tot-value\":106429.96788321565,\"daily-ret\":-0.006091033138777797,\"tot-ret\":0.06231700430042183,\"loan\":0.0,\"leverage\":0.0,\"plot\":\"total value\"},{\"date\":\"1981-05-08\",\"tot-value\":106456.68477118235,\"daily-ret\":-0.006109784836828115,\"tot-ret\":0.06256800066655233,\"loan\":0.0,\"leverage\":0.0,\"plot\":\"total value\"},{\"date\":\"1981-05-11\",\"tot-value\":106355.81603170616,\"daily-ret\":-0.0060388182006473655,\"tot-ret\":0.06162004181404842,\"loan\":0.0,\"leverage\":0.0,\"plot\":\"total value\"},{\"date\":\"1981-05-12\",\"tot-value\":106396.39037396804,\"daily-ret\":-0.006067420629174171,\"tot-ret\":0.06200146528729245,\"loan\":0.0,\"leverage\":0.0,\"plot\":\"total value\"},{\"date\":\"1981-05-13\",\"tot-value\":106396.39037396804,\"daily-ret\":-0.006067420629174171,\"tot-ret\":0.06200146528729252,\"loan\":0.0,\"leverage\":0.0,\"plot\":\"total value\"},{\"date\":\"1981-05-14\",\"tot-value\":99920.0,\"daily-ret\":-0.06273841424306242,\"tot-ret\":-8.003201707701552E-4,\"loan\":0.0,\"leverage\":0.0,\"plot\":\"total value\"}]},\"encoding\":{\"x\":{\"field\":\"date\",\"type\":\"temporal\"},\"y\":{\"field\":\"tot-value\",\"type\":\"quantitative\"},\"color\":{\"field\":\"plot\",\"type\":\"nominal\"}},\"mark\":\"line\"};\n",
       "      vegaEmbed('#uuid-25826d62-50ea-4b78-ba4b-ac7098609e36', spec, {defaultStyle:true}).catch(console.warn);\n",
       "      }, function(err) {\n",
       "      console.log('Failed to load');\n",
       "    });\n",
       "    </script>\n",
       "  </div>\n",
       "    "
      ]
     },
     "execution_count": 69,
     "metadata": {},
     "output_type": "execute_result"
    }
   ],
   "source": [
    "(plot data-to-plot :plot :date :tot-value false)"
   ]
  },
  {
   "cell_type": "markdown",
   "metadata": {},
   "source": [
    "### 2. Plot sharpe ratio"
   ]
  },
  {
   "cell_type": "code",
   "execution_count": 72,
   "metadata": {},
   "outputs": [
    {
     "data": {
      "text/html": [
       "\n",
       "  <div>\n",
       "    <div id='uuid-6fdc77b4-9e52-4e14-90f0-855f2b8e5f5b'></div>\n",
       "    <script>\n",
       "    requirejs.config({\n",
       "      baseUrl: 'https://cdn.jsdelivr.net/npm/',\n",
       "      paths: {\n",
       "        'vega-embed':  'vega-embed@6.12.2?noext',\n",
       "        'vega-lib': 'vega-lib?noext',\n",
       "        'vega-lite': 'vega-lite@4.17.0?noext',\n",
       "        'vega': 'vega@5.17.0?noext'\n",
       "      }\n",
       "    });\n",
       "    require(['vega-embed'], function(vegaEmbed) {\n",
       "      let spec = {\"width\":800,\"height\":500,\"data\":{\"values\":[{\"date\":\"1980-12-19\",\"plot\":\"sharpe ratio\",\"pnl-pt\":2278.942478835384,\"sharpe\":1.6749641952461063,\"tot-val\":106836.82743650615,\"vol\":3.948293788686957},{\"date\":\"1980-12-22\",\"plot\":\"sharpe ratio\",\"pnl-pt\":1368.575098096946,\"sharpe\":1.9051541332033248,\"tot-val\":106842.87549048473,\"vol\":3.4742131739371263},{\"date\":\"1980-12-23\",\"plot\":\"sharpe ratio\",\"pnl-pt\":986.144951803986,\"sharpe\":2.1311515364358065,\"tot-val\":106903.0146626279,\"vol\":3.1321954951104556},{\"date\":\"1980-12-24\",\"plot\":\"sharpe ratio\",\"pnl-pt\":769.655108316934,\"sharpe\":2.3312630237635616,\"tot-val\":106926.8959748524,\"vol\":2.8729147721624257},{\"date\":\"1980-12-26\",\"plot\":\"sharpe ratio\",\"pnl-pt\":625.366541365106,\"sharpe\":2.4935764952535524,\"tot-val\":106879.03195501617,\"vol\":2.6679537033955127},{\"date\":\"1980-12-29\",\"plot\":\"sharpe ratio\",\"pnl-pt\":531.4609352054651,\"sharpe\":2.6710417285837775,\"tot-val\":106908.99215767105,\"vol\":2.501186906273159},{\"date\":\"1980-12-30\",\"plot\":\"sharpe ratio\",\"pnl-pt\":458.20136211160184,\"sharpe\":2.8142594977211086,\"tot-val\":106873.02043167403,\"vol\":2.361943483690296},{\"date\":\"1980-12-31\",\"plot\":\"sharpe ratio\",\"pnl-pt\":407.8146483045883,\"sharpe\":2.9875235868762737,\"tot-val\":106932.849021178,\"vol\":2.2436934897070238},{\"date\":\"1981-01-02\",\"plot\":\"sharpe ratio\",\"pnl-pt\":367.69340216904254,\"sharpe\":3.1531497847675665,\"tot-val\":106986.17464121181,\"vol\":2.14164996192714},{\"date\":\"1981-01-05\",\"plot\":\"sharpe ratio\",\"pnl-pt\":335.46964910146477,\"sharpe\":3.3169152357627554,\"tot-val\":107044.86263113076,\"vol\":2.0524442950561412},{\"date\":\"1981-01-06\",\"plot\":\"sharpe ratio\",\"pnl-pt\":302.2034833725547,\"sharpe\":3.4052729447093673,\"tot-val\":106950.68011756876,\"vol\":1.9733398708922731},{\"date\":\"1981-01-07\",\"plot\":\"sharpe ratio\",\"pnl-pt\":274.4393013066833,\"sharpe\":3.487829562317559,\"tot-val\":106860.98253266708,\"vol\":1.9025750511085948},{\"date\":\"1981-01-08\",\"plot\":\"sharpe ratio\",\"pnl-pt\":253.6635700424344,\"sharpe\":3.6024851587200906,\"tot-val\":106848.91639114573,\"vol\":1.8388876401840135},{\"date\":\"1981-01-09\",\"plot\":\"sharpe ratio\",\"pnl-pt\":235.12559959226274,\"sharpe\":3.703351964169114,\"tot-val\":106818.64238817562,\"vol\":1.7811507018450987},{\"date\":\"1981-01-12\",\"plot\":\"sharpe ratio\",\"pnl-pt\":219.56414051527616,\"sharpe\":3.809546369285369,\"tot-val\":106806.48835597356,\"vol\":1.72851265495317},{\"date\":\"1981-01-13\",\"plot\":\"sharpe ratio\",\"pnl-pt\":206.62551930513555,\"sharpe\":3.9256486313215158,\"tot-val\":106818.64213706947,\"vol\":1.6802898920838032},{\"date\":\"1981-01-14\",\"plot\":\"sharpe ratio\",\"pnl-pt\":193.4247681582675,\"sharpe\":4.004394592252652,\"tot-val\":106769.86688553936,\"vol\":1.635841672241477},{\"date\":\"1981-01-15\",\"plot\":\"sharpe ratio\",\"pnl-pt\":184.45162337440706,\"sharpe\":4.139675138000371,\"tot-val\":106824.71006485306,\"vol\":1.5947889441624814},{\"date\":\"1981-01-16\",\"plot\":\"sharpe ratio\",\"pnl-pt\":174.68125420253617,\"sharpe\":4.233749729972948,\"tot-val\":106812.56891389891,\"vol\":1.5566678305673771},{\"date\":\"1981-01-19\",\"plot\":\"sharpe ratio\",\"pnl-pt\":164.2197488528036,\"sharpe\":4.283774004301401,\"tot-val\":106733.00970296495,\"vol\":1.5210955035623002},{\"date\":\"1981-01-20\",\"plot\":\"sharpe ratio\",\"pnl-pt\":156.724863496385,\"sharpe\":4.383346352752459,\"tot-val\":106739.16913034456,\"vol\":1.487858717688914},{\"date\":\"1981-01-21\",\"plot\":\"sharpe ratio\",\"pnl-pt\":149.89601962441327,\"sharpe\":4.481022934200046,\"tot-val\":106745.3208830986,\"vol\":1.456712756030467},{\"date\":\"1981-01-22\",\"plot\":\"sharpe ratio\",\"pnl-pt\":143.2555226900917,\"sharpe\":4.564848031991168,\"tot-val\":106733.00956643431,\"vol\":1.4274361824614283},{\"date\":\"1981-01-23\",\"plot\":\"sharpe ratio\",\"pnl-pt\":137.4083584986594,\"sharpe\":4.654784874163866,\"tot-val\":106733.00956643431,\"vol\":1.3998561532819505},{\"date\":\"1981-01-26\",\"plot\":\"sharpe ratio\",\"pnl-pt\":132.5021029645406,\"sharpe\":4.759745599533058,\"tot-val\":106757.60725119157,\"vol\":1.3738281704438948},{\"date\":\"1981-01-27\",\"plot\":\"sharpe ratio\",\"pnl-pt\":126.68846307708448,\"sharpe\":4.816767132239693,\"tot-val\":106714.48854308548,\"vol\":1.349177757091864},{\"date\":\"1981-01-28\",\"plot\":\"sharpe ratio\",\"pnl-pt\":122.3061815740358,\"sharpe\":4.910378690409866,\"tot-val\":106726.83998657197,\"vol\":1.325813976022049},{\"date\":\"1981-01-29\",\"plot\":\"sharpe ratio\",\"pnl-pt\":117.58083238463497,\"sharpe\":4.976229778744774,\"tot-val\":106702.1074459242,\"vol\":1.303611893786745},{\"date\":\"1981-01-30\",\"plot\":\"sharpe ratio\",\"pnl-pt\":112.75107444811985,\"sharpe\":5.0218775679576915,\"tot-val\":106652.31339243907,\"vol\":1.2824675485588903},{\"date\":\"1981-02-02\",\"plot\":\"sharpe ratio\",\"pnl-pt\":109.76898528237615,\"sharpe\":5.134333976399107,\"tot-val\":106695.90810222494,\"vol\":1.2623374779430225},{\"date\":\"1981-02-03\",\"plot\":\"sharpe ratio\",\"pnl-pt\":106.48097692226153,\"sharpe\":5.223002295737279,\"tot-val\":106708.30154610248,\"vol\":1.2431312164558725},{\"date\":\"1981-02-04\",\"plot\":\"sharpe ratio\",\"pnl-pt\":103.47845279068615,\"sharpe\":5.314847601056651,\"tot-val\":106726.0994313946,\"vol\":1.2247867300203246},{\"date\":\"1981-02-05\",\"plot\":\"sharpe ratio\",\"pnl-pt\":100.57599639866949,\"sharpe\":5.401811957728084,\"tot-val\":106738.59175871086,\"vol\":1.2072355007769846},{\"date\":\"1981-02-06\",\"plot\":\"sharpe ratio\",\"pnl-pt\":97.11637379048477,\"sharpe\":5.448619823571977,\"tot-val\":106701.02979154345,\"vol\":1.1904046465516938},{\"date\":\"1981-02-09\",\"plot\":\"sharpe ratio\",\"pnl-pt\":94.02603646660118,\"sharpe\":5.503477376388224,\"tot-val\":106675.84858912868,\"vol\":1.1742502700782953},{\"date\":\"1981-02-10\",\"plot\":\"sharpe ratio\",\"pnl-pt\":91.19026822896757,\"sharpe\":5.56185197496343,\"tot-val\":106656.88958071463,\"vol\":1.1587301684012028},{\"date\":\"1981-02-11\",\"plot\":\"sharpe ratio\",\"pnl-pt\":88.16530640726036,\"sharpe\":5.597992096685461,\"tot-val\":106612.39798054453,\"vol\":1.1437962332290488},{\"date\":\"1981-02-12\",\"plot\":\"sharpe ratio\",\"pnl-pt\":85.87529844863022,\"sharpe\":5.6692221056056145,\"tot-val\":106612.39798054453,\"vol\":1.1294251935382285},{\"date\":\"1981-02-13\",\"plot\":\"sharpe ratio\",\"pnl-pt\":83.86262561123755,\"sharpe\":5.750269163030375,\"tot-val\":106625.14742328777,\"vol\":1.115586081928786},{\"date\":\"1981-02-17\",\"plot\":\"sharpe ratio\",\"pnl-pt\":81.79194349737983,\"sharpe\":5.819875715704187,\"tot-val\":106625.14742328777,\"vol\":1.1022435115428917},{\"date\":\"1981-02-18\",\"plot\":\"sharpe ratio\",\"pnl-pt\":79.35920995794811,\"sharpe\":5.85570464536218,\"tot-val\":106586.81442650969,\"vol\":1.0893586664189583},{\"date\":\"1981-02-19\",\"plot\":\"sharpe ratio\",\"pnl-pt\":77.0378278881784,\"sharpe\":5.88978303484949,\"tot-val\":106548.21537049516,\"vol\":1.0769059372798668},{\"date\":\"1981-02-20\",\"plot\":\"sharpe ratio\",\"pnl-pt\":76.15109400329918,\"sharpe\":6.024025186253087,\"tot-val\":106625.14517828703,\"vol\":1.0648889972691593},{\"date\":\"1981-02-23\",\"plot\":\"sharpe ratio\",\"pnl-pt\":74.51132508118413,\"sharpe\":6.096160961410788,\"tot-val\":106631.50793222539,\"vol\":1.0532670327158702},{\"date\":\"1981-02-24\",\"plot\":\"sharpe ratio\",\"pnl-pt\":74.05045752069427,\"sharpe\":6.258153145963459,\"tot-val\":106738.59163438318,\"vol\":1.042042100171133},{\"date\":\"1981-02-25\",\"plot\":\"sharpe ratio\",\"pnl-pt\":72.72575610771278,\"sharpe\":6.346733428889638,\"tot-val\":106763.49531801729,\"vol\":1.031174204880526},{\"date\":\"1981-02-26\",\"plot\":\"sharpe ratio\",\"pnl-pt\":70.93254039351565,\"sharpe\":6.389420385874147,\"tot-val\":106738.59133738399,\"vol\":1.0206338564888542},{\"date\":\"1981-02-27\",\"plot\":\"sharpe ratio\",\"pnl-pt\":69.14747885637946,\"sharpe\":6.425099632139695,\"tot-val\":106707.30544906881,\"vol\":1.010403587208642},{\"date\":\"1981-03-02\",\"plot\":\"sharpe ratio\",\"pnl-pt\":67.1772828307792,\"sharpe\":6.435760253346497,\"tot-val\":106650.55100024714,\"vol\":1.0004633922933053},{\"date\":\"1981-03-03\",\"plot\":\"sharpe ratio\",\"pnl-pt\":65.53238901385743,\"sharpe\":6.468418754689782,\"tot-val\":106618.7712903996,\"vol\":0.9908047635183502},{\"date\":\"1981-03-04\",\"plot\":\"sharpe ratio\",\"pnl-pt\":64.3217579921123,\"sharpe\":6.536348133232006,\"tot-val\":106625.14107318757,\"vol\":0.9814217601827395},{\"date\":\"1981-03-05\",\"plot\":\"sharpe ratio\",\"pnl-pt\":63.035914878271534,\"sharpe\":6.59153045258213,\"tot-val\":106618.77106221851,\"vol\":0.9722992174073327},{\"date\":\"1981-03-06\",\"plot\":\"sharpe ratio\",\"pnl-pt\":62.39108311539003,\"sharpe\":6.7077141137081835,\"tot-val\":106675.84589334673,\"vol\":0.9634365983649575},{\"date\":\"1981-03-09\",\"plot\":\"sharpe ratio\",\"pnl-pt\":61.01421802889005,\"sharpe\":6.743496414515604,\"tot-val\":106650.54976514902,\"vol\":0.9548075629002171},{\"date\":\"1981-03-10\",\"plot\":\"sharpe ratio\",\"pnl-pt\":59.800536523004006,\"sharpe\":6.790800450194624,\"tot-val\":106637.85955405344,\"vol\":0.9464041603579607},{\"date\":\"1981-03-11\",\"plot\":\"sharpe ratio\",\"pnl-pt\":59.522951091716834,\"sharpe\":6.938090504064772,\"tot-val\":106726.093473364,\"vol\":0.9382335424274943},{\"date\":\"1981-03-12\",\"plot\":\"sharpe ratio\",\"pnl-pt\":58.16040706217755,\"sharpe\":6.959598328770915,\"tot-val\":106688.44681215042,\"vol\":0.9302647379824607},{\"date\":\"1981-03-13\",\"plot\":\"sharpe ratio\",\"pnl-pt\":57.754475093852136,\"sharpe\":7.0880351945831634,\"tot-val\":106757.2735859807,\"vol\":0.9225067122443124},{\"date\":\"1981-03-16\",\"plot\":\"sharpe ratio\",\"pnl-pt\":56.626759885185564,\"sharpe\":7.12754553767998,\"tot-val\":106738.58442633708,\"vol\":0.9149366019406864},{\"date\":\"1981-03-17\",\"plot\":\"sharpe ratio\",\"pnl-pt\":55.896595749286924,\"sharpe\":7.211232707630971,\"tot-val\":106763.48808566372,\"vol\":0.9075537135302951},{\"date\":\"1981-03-18\",\"plot\":\"sharpe ratio\",\"pnl-pt\":54.58187230401204,\"sharpe\":7.217074372028684,\"tot-val\":106713.57029339348,\"vol\":0.9003391490713213},{\"date\":\"1981-03-19\",\"plot\":\"sharpe ratio\",\"pnl-pt\":53.45716906656255,\"sharpe\":7.241061090070429,\"tot-val\":106682.14613332032,\"vol\":0.8932893923137906},{\"date\":\"1981-03-20\",\"plot\":\"sharpe ratio\",\"pnl-pt\":52.515972962909366,\"sharpe\":7.283989668401415,\"tot-val\":106669.52856628949,\"vol\":0.8864009152387836},{\"date\":\"1981-03-23\",\"plot\":\"sharpe ratio\",\"pnl-pt\":51.45626294072309,\"sharpe\":7.306008020701157,\"tot-val\":106637.85791935328,\"vol\":0.8796650985147256},{\"date\":\"1981-03-24\",\"plot\":\"sharpe ratio\",\"pnl-pt\":51.296450428765546,\"sharpe\":7.44903022997444,\"tot-val\":106719.83500616829,\"vol\":0.8730915048803581},{\"date\":\"1981-03-25\",\"plot\":\"sharpe ratio\",\"pnl-pt\":50.241700997686735,\"sharpe\":7.463569570900064,\"tot-val\":106682.14623269234,\"vol\":0.8666581174808733},{\"date\":\"1981-03-26\",\"plot\":\"sharpe ratio\",\"pnl-pt\":48.98065932348869,\"sharpe\":7.442213485112701,\"tot-val\":106612.38900867097,\"vol\":0.8603561119591491},{\"date\":\"1981-03-27\",\"plot\":\"sharpe ratio\",\"pnl-pt\":48.17233828481265,\"sharpe\":7.481920189236373,\"tot-val\":106599.61034501933,\"vol\":0.8541880803394188},{\"date\":\"1981-03-30\",\"plot\":\"sharpe ratio\",\"pnl-pt\":47.8000336945358,\"sharpe\":7.584443028605327,\"tot-val\":106644.20468354048,\"vol\":0.8481561220492224},{\"date\":\"1981-03-31\",\"plot\":\"sharpe ratio\",\"pnl-pt\":47.346387245984175,\"sharpe\":7.672807571285327,\"tot-val\":106675.84060168377,\"vol\":0.8422539269971225},{\"date\":\"1981-04-01\",\"plot\":\"sharpe ratio\",\"pnl-pt\":46.37412299199705,\"sharpe\":7.676177249685565,\"tot-val\":106631.49958785558,\"vol\":0.8364681185052234},{\"date\":\"1981-04-02\",\"plot\":\"sharpe ratio\",\"pnl-pt\":45.38198897488855,\"sharpe\":7.670892205764754,\"tot-val\":106580.38840135884,\"vol\":0.8307942986043008},{\"date\":\"1981-04-03\",\"plot\":\"sharpe ratio\",\"pnl-pt\":44.501664123016006,\"sharpe\":7.678667087095984,\"tot-val\":106541.74462608335,\"vol\":0.8252303422347019},{\"date\":\"1981-04-06\",\"plot\":\"sharpe ratio\",\"pnl-pt\":43.773970029136066,\"sharpe\":7.707528146834689,\"tot-val\":106522.32153434127,\"vol\":0.8197747431876413},{\"date\":\"1981-04-07\",\"plot\":\"sharpe ratio\",\"pnl-pt\":43.19418234663095,\"sharpe\":7.7581479479012625,\"tot-val\":106522.32153434127,\"vol\":0.8144259363978991},{\"date\":\"1981-04-08\",\"plot\":\"sharpe ratio\",\"pnl-pt\":43.2182246378128,\"sharpe\":7.91279895974954,\"tot-val\":106612.38836958536,\"vol\":0.8091894273497842},{\"date\":\"1981-04-09\",\"plot\":\"sharpe ratio\",\"pnl-pt\":42.32969541816574,\"sharpe\":7.903558353388579,\"tot-val\":106561.10278981569,\"vol\":0.8040475810078184},{\"date\":\"1981-04-10\",\"plot\":\"sharpe ratio\",\"pnl-pt\":41.58475137525618,\"sharpe\":7.915554639338033,\"tot-val\":106528.80596591522,\"vol\":0.7989994892782685},{\"date\":\"1981-04-13\",\"plot\":\"sharpe ratio\",\"pnl-pt\":40.734171383467896,\"sharpe\":7.903412527204021,\"tot-val\":106476.7332499714,\"vol\":0.7940406494224734},{\"date\":\"1981-04-14\",\"plot\":\"sharpe ratio\",\"pnl-pt\":40.39026359978603,\"sharpe\":7.983194156860042,\"tot-val\":106502.83243956555,\"vol\":0.7891752755413461},{\"date\":\"1981-04-15\",\"plot\":\"sharpe ratio\",\"pnl-pt\":40.014257364439906,\"sharpe\":8.055124403797752,\"tot-val\":106522.3239504037,\"vol\":0.7843999494696524},{\"date\":\"1981-04-16\",\"plot\":\"sharpe ratio\",\"pnl-pt\":40.03638645150508,\"sharpe\":8.204205759158421,\"tot-val\":106606.00376449834,\"vol\":0.7797177024574568},{\"date\":\"1981-04-20\",\"plot\":\"sharpe ratio\",\"pnl-pt\":39.21080622625282,\"sharpe\":8.18297510948375,\"tot-val\":106548.20463978422,\"vol\":0.7751132275769328},{\"date\":\"1981-04-21\",\"plot\":\"sharpe ratio\",\"pnl-pt\":38.70855397483907,\"sharpe\":8.223153200742644,\"tot-val\":106541.7456217478,\"vol\":0.7705888298600739},{\"date\":\"1981-04-22\",\"plot\":\"sharpe ratio\",\"pnl-pt\":38.25582234940236,\"sharpe\":8.270873835338703,\"tot-val\":106541.7456217478,\"vol\":0.7661427472930255},{\"date\":\"1981-04-23\",\"plot\":\"sharpe ratio\",\"pnl-pt\":37.88819364792983,\"sharpe\":8.334217244483144,\"tot-val\":106554.65750109186,\"vol\":0.7617738009629046},{\"date\":\"1981-04-24\",\"plot\":\"sharpe ratio\",\"pnl-pt\":37.60222033277977,\"sharpe\":8.413326388403656,\"tot-val\":106580.38855823646,\"vol\":0.7574808539144865},{\"date\":\"1981-04-27\",\"plot\":\"sharpe ratio\",\"pnl-pt\":36.95901006848636,\"sharpe\":8.412364741509561,\"tot-val\":106541.74478212208,\"vol\":0.7532565942345537},{\"date\":\"1981-04-28\",\"plot\":\"sharpe ratio\",\"pnl-pt\":36.32865812426775,\"sharpe\":8.41028310679422,\"tot-val\":106502.82980424393,\"vol\":0.74909927454593},{\"date\":\"1981-04-29\",\"plot\":\"sharpe ratio\",\"pnl-pt\":35.63817629701603,\"sharpe\":8.390532587903014,\"tot-val\":106450.5099097599,\"vol\":0.7450062891598269},{\"date\":\"1981-04-30\",\"plot\":\"sharpe ratio\",\"pnl-pt\":35.39198833765534,\"sharpe\":8.469349646122218,\"tot-val\":106476.73386579093,\"vol\":0.7409814987374829},{\"date\":\"1981-05-01\",\"plot\":\"sharpe ratio\",\"pnl-pt\":34.796494222291656,\"sharpe\":8.464695458509489,\"tot-val\":106437.35143112396,\"vol\":0.7370185602962606},{\"date\":\"1981-05-04\",\"plot\":\"sharpe ratio\",\"pnl-pt\":34.247660063410564,\"sharpe\":8.467403074920036,\"tot-val\":106404.31243185778,\"vol\":0.7331163985400264},{\"date\":\"1981-05-05\",\"plot\":\"sharpe ratio\",\"pnl-pt\":33.920305031241874,\"sharpe\":8.520530541196113,\"tot-val\":106410.93765090471,\"vol\":0.7292759858864318},{\"date\":\"1981-05-06\",\"plot\":\"sharpe ratio\",\"pnl-pt\":33.66475331526518,\"sharpe\":8.58955789577474,\"tot-val\":106429.96788321565,\"vol\":0.7254972264763007},{\"date\":\"1981-05-07\",\"plot\":\"sharpe ratio\",\"pnl-pt\":33.45432523928679,\"sharpe\":8.668589628547592,\"tot-val\":106456.68477118235,\"vol\":0.7217783208989614},{\"date\":\"1981-05-08\",\"plot\":\"sharpe ratio\",\"pnl-pt\":32.593928367723876,\"sharpe\":8.580865170021251,\"tot-val\":106355.81603170616,\"vol\":0.7181098944349898},{\"date\":\"1981-05-11\",\"plot\":\"sharpe ratio\",\"pnl-pt\":32.46898666988852,\"sharpe\":8.677611673218422,\"tot-val\":106396.39037396804,\"vol\":0.7144991919682995},{\"date\":\"1981-05-12\",\"plot\":\"sharpe ratio\",\"pnl-pt\":32.14266519581929,\"sharpe\":8.721024953299978,\"tot-val\":106396.39037396804,\"vol\":0.7109424135271116},{\"date\":\"1981-05-13\",\"plot\":\"sharpe ratio\",\"pnl-pt\":31.789294124741787,\"sharpe\":8.755270109354003,\"tot-val\":106389.6481190731,\"vol\":0.7074378437064839}]},\"encoding\":{\"x\":{\"field\":\"date\",\"type\":\"temporal\"},\"y\":{\"field\":\"sharpe\",\"type\":\"quantitative\"},\"color\":{\"field\":\"plot\",\"type\":\"nominal\"}},\"mark\":\"line\"};\n",
       "      vegaEmbed('#uuid-6fdc77b4-9e52-4e14-90f0-855f2b8e5f5b', spec, {defaultStyle:true}).catch(console.warn);\n",
       "      }, function(err) {\n",
       "      console.log('Failed to load');\n",
       "    });\n",
       "    </script>\n",
       "  </div>\n",
       "    "
      ]
     },
     "execution_count": 72,
     "metadata": {},
     "output_type": "execute_result"
    }
   ],
   "source": [
    "(def data (deref eval-record))\n",
    "\n",
    "; Add rename legend\n",
    "(def data-to-plot\n",
    " (map #(assoc % :plot \"sharpe ratio\")\n",
    "  data))\n",
    "\n",
    "(plot data-to-plot :plot :date :sharpe false)"
   ]
  },
  {
   "cell_type": "markdown",
   "metadata": {},
   "source": [
    "### 3. Plot stock price"
   ]
  },
  {
   "cell_type": "code",
   "execution_count": 76,
   "metadata": {},
   "outputs": [
    {
     "data": {
      "text/plain": [
       "#'clojure-backtesting.demo/data"
      ]
     },
     "execution_count": 76,
     "metadata": {},
     "output_type": "execute_result"
    }
   ],
   "source": [
    "(def data (deref order-record))"
   ]
  },
  {
   "cell_type": "code",
   "execution_count": 77,
   "metadata": {},
   "outputs": [
    {
     "data": {
      "text/plain": [
       "{:date \"1980-12-19\", :tic \"IBM\", :price 64.625, :quantity 10, :count nil}"
      ]
     },
     "execution_count": 77,
     "metadata": {},
     "output_type": "execute_result"
    }
   ],
   "source": [
    "(first data)"
   ]
  },
  {
   "cell_type": "code",
   "execution_count": 78,
   "metadata": {},
   "outputs": [
    {
     "data": {
      "text/html": [
       "\n",
       "  <div>\n",
       "    <div id='uuid-6a9ec0b8-363c-4b00-9a5b-b26abd19ef00'></div>\n",
       "    <script>\n",
       "    requirejs.config({\n",
       "      baseUrl: 'https://cdn.jsdelivr.net/npm/',\n",
       "      paths: {\n",
       "        'vega-embed':  'vega-embed@6.12.2?noext',\n",
       "        'vega-lib': 'vega-lib?noext',\n",
       "        'vega-lite': 'vega-lite@4.17.0?noext',\n",
       "        'vega': 'vega@5.17.0?noext'\n",
       "      }\n",
       "    });\n",
       "    require(['vega-embed'], function(vegaEmbed) {\n",
       "      let spec = {\"width\":800,\"height\":500,\"data\":{\"values\":[{\"date\":\"1980-12-19\",\"tic\":\"IBM\",\"price\":64.625,\"quantity\":10,\"count\":null,\"plot\":\"price\"},{\"date\":\"1980-12-22\",\"tic\":\"IBM\",\"price\":67.125,\"quantity\":1,\"count\":null,\"plot\":\"price\"},{\"date\":\"1980-12-22\",\"tic\":\"IBM\",\"price\":67.125,\"quantity\":-1,\"count\":null,\"plot\":\"price\"},{\"date\":\"1980-12-23\",\"tic\":\"IBM\",\"price\":67.25,\"quantity\":1,\"count\":null,\"plot\":\"price\"},{\"date\":\"1980-12-23\",\"tic\":\"IBM\",\"price\":67.25,\"quantity\":-1,\"count\":null,\"plot\":\"price\"},{\"date\":\"1980-12-24\",\"tic\":\"IBM\",\"price\":68.5,\"quantity\":1,\"count\":null,\"plot\":\"price\"},{\"date\":\"1980-12-24\",\"tic\":\"IBM\",\"price\":68.5,\"quantity\":-1,\"count\":null,\"plot\":\"price\"},{\"date\":\"1980-12-26\",\"tic\":\"IBM\",\"price\":69.0,\"quantity\":1,\"count\":null,\"plot\":\"price\"},{\"date\":\"1980-12-26\",\"tic\":\"IBM\",\"price\":69.0,\"quantity\":-1,\"count\":null,\"plot\":\"price\"},{\"date\":\"1980-12-29\",\"tic\":\"IBM\",\"price\":68.0,\"quantity\":1,\"count\":null,\"plot\":\"price\"},{\"date\":\"1980-12-29\",\"tic\":\"IBM\",\"price\":68.0,\"quantity\":-1,\"count\":null,\"plot\":\"price\"},{\"date\":\"1980-12-30\",\"tic\":\"IBM\",\"price\":68.625,\"quantity\":1,\"count\":null,\"plot\":\"price\"},{\"date\":\"1980-12-30\",\"tic\":\"IBM\",\"price\":68.625,\"quantity\":-1,\"count\":null,\"plot\":\"price\"},{\"date\":\"1980-12-31\",\"tic\":\"IBM\",\"price\":67.875,\"quantity\":1,\"count\":null,\"plot\":\"price\"},{\"date\":\"1980-12-31\",\"tic\":\"IBM\",\"price\":67.875,\"quantity\":-1,\"count\":null,\"plot\":\"price\"},{\"date\":\"1981-01-02\",\"tic\":\"IBM\",\"price\":69.125,\"quantity\":1,\"count\":null,\"plot\":\"price\"},{\"date\":\"1981-01-02\",\"tic\":\"IBM\",\"price\":69.125,\"quantity\":-1,\"count\":null,\"plot\":\"price\"},{\"date\":\"1981-01-05\",\"tic\":\"IBM\",\"price\":70.25,\"quantity\":1,\"count\":null,\"plot\":\"price\"},{\"date\":\"1981-01-05\",\"tic\":\"IBM\",\"price\":70.25,\"quantity\":-1,\"count\":null,\"plot\":\"price\"},{\"date\":\"1981-01-06\",\"tic\":\"IBM\",\"price\":71.5,\"quantity\":1,\"count\":null,\"plot\":\"price\"},{\"date\":\"1981-01-06\",\"tic\":\"IBM\",\"price\":71.5,\"quantity\":-1,\"count\":null,\"plot\":\"price\"},{\"date\":\"1981-01-07\",\"tic\":\"IBM\",\"price\":69.5,\"quantity\":1,\"count\":null,\"plot\":\"price\"},{\"date\":\"1981-01-07\",\"tic\":\"IBM\",\"price\":69.5,\"quantity\":-1,\"count\":null,\"plot\":\"price\"},{\"date\":\"1981-01-08\",\"tic\":\"IBM\",\"price\":67.625,\"quantity\":1,\"count\":null,\"plot\":\"price\"},{\"date\":\"1981-01-08\",\"tic\":\"IBM\",\"price\":67.625,\"quantity\":-1,\"count\":null,\"plot\":\"price\"},{\"date\":\"1981-01-09\",\"tic\":\"IBM\",\"price\":67.375,\"quantity\":1,\"count\":null,\"plot\":\"price\"},{\"date\":\"1981-01-09\",\"tic\":\"IBM\",\"price\":67.375,\"quantity\":-1,\"count\":null,\"plot\":\"price\"},{\"date\":\"1981-01-12\",\"tic\":\"IBM\",\"price\":66.75,\"quantity\":1,\"count\":null,\"plot\":\"price\"},{\"date\":\"1981-01-12\",\"tic\":\"IBM\",\"price\":66.75,\"quantity\":-1,\"count\":null,\"plot\":\"price\"},{\"date\":\"1981-01-13\",\"tic\":\"IBM\",\"price\":66.5,\"quantity\":1,\"count\":null,\"plot\":\"price\"},{\"date\":\"1981-01-13\",\"tic\":\"IBM\",\"price\":66.5,\"quantity\":-1,\"count\":null,\"plot\":\"price\"},{\"date\":\"1981-01-14\",\"tic\":\"IBM\",\"price\":66.75,\"quantity\":1,\"count\":null,\"plot\":\"price\"},{\"date\":\"1981-01-14\",\"tic\":\"IBM\",\"price\":66.75,\"quantity\":-1,\"count\":null,\"plot\":\"price\"},{\"date\":\"1981-01-15\",\"tic\":\"IBM\",\"price\":65.75,\"quantity\":1,\"count\":null,\"plot\":\"price\"},{\"date\":\"1981-01-15\",\"tic\":\"IBM\",\"price\":65.75,\"quantity\":-1,\"count\":null,\"plot\":\"price\"},{\"date\":\"1981-01-16\",\"tic\":\"IBM\",\"price\":66.875,\"quantity\":1,\"count\":null,\"plot\":\"price\"},{\"date\":\"1981-01-16\",\"tic\":\"IBM\",\"price\":66.875,\"quantity\":-1,\"count\":null,\"plot\":\"price\"},{\"date\":\"1981-01-19\",\"tic\":\"IBM\",\"price\":66.625,\"quantity\":1,\"count\":null,\"plot\":\"price\"},{\"date\":\"1981-01-19\",\"tic\":\"IBM\",\"price\":66.625,\"quantity\":-1,\"count\":null,\"plot\":\"price\"},{\"date\":\"1981-01-20\",\"tic\":\"IBM\",\"price\":65.0,\"quantity\":1,\"count\":null,\"plot\":\"price\"},{\"date\":\"1981-01-20\",\"tic\":\"IBM\",\"price\":65.0,\"quantity\":-1,\"count\":null,\"plot\":\"price\"},{\"date\":\"1981-01-21\",\"tic\":\"IBM\",\"price\":65.125,\"quantity\":1,\"count\":null,\"plot\":\"price\"},{\"date\":\"1981-01-21\",\"tic\":\"IBM\",\"price\":65.125,\"quantity\":-1,\"count\":null,\"plot\":\"price\"},{\"date\":\"1981-01-22\",\"tic\":\"IBM\",\"price\":65.25,\"quantity\":1,\"count\":null,\"plot\":\"price\"},{\"date\":\"1981-01-22\",\"tic\":\"IBM\",\"price\":65.25,\"quantity\":-1,\"count\":null,\"plot\":\"price\"},{\"date\":\"1981-01-23\",\"tic\":\"IBM\",\"price\":65.0,\"quantity\":1,\"count\":null,\"plot\":\"price\"},{\"date\":\"1981-01-23\",\"tic\":\"IBM\",\"price\":65.0,\"quantity\":-1,\"count\":null,\"plot\":\"price\"},{\"date\":\"1981-01-26\",\"tic\":\"IBM\",\"price\":65.0,\"quantity\":1,\"count\":null,\"plot\":\"price\"},{\"date\":\"1981-01-26\",\"tic\":\"IBM\",\"price\":65.0,\"quantity\":-1,\"count\":null,\"plot\":\"price\"},{\"date\":\"1981-01-27\",\"tic\":\"IBM\",\"price\":65.5,\"quantity\":1,\"count\":null,\"plot\":\"price\"},{\"date\":\"1981-01-27\",\"tic\":\"IBM\",\"price\":65.5,\"quantity\":-1,\"count\":null,\"plot\":\"price\"},{\"date\":\"1981-01-28\",\"tic\":\"IBM\",\"price\":64.625,\"quantity\":1,\"count\":null,\"plot\":\"price\"},{\"date\":\"1981-01-28\",\"tic\":\"IBM\",\"price\":64.625,\"quantity\":-1,\"count\":null,\"plot\":\"price\"},{\"date\":\"1981-01-29\",\"tic\":\"IBM\",\"price\":64.875,\"quantity\":1,\"count\":null,\"plot\":\"price\"},{\"date\":\"1981-01-29\",\"tic\":\"IBM\",\"price\":64.875,\"quantity\":-1,\"count\":null,\"plot\":\"price\"},{\"date\":\"1981-01-30\",\"tic\":\"IBM\",\"price\":64.375,\"quantity\":1,\"count\":null,\"plot\":\"price\"},{\"date\":\"1981-01-30\",\"tic\":\"IBM\",\"price\":64.375,\"quantity\":-1,\"count\":null,\"plot\":\"price\"},{\"date\":\"1981-02-02\",\"tic\":\"IBM\",\"price\":63.375,\"quantity\":1,\"count\":null,\"plot\":\"price\"},{\"date\":\"1981-02-02\",\"tic\":\"IBM\",\"price\":63.375,\"quantity\":-1,\"count\":null,\"plot\":\"price\"},{\"date\":\"1981-02-03\",\"tic\":\"IBM\",\"price\":64.25,\"quantity\":1,\"count\":null,\"plot\":\"price\"},{\"date\":\"1981-02-03\",\"tic\":\"IBM\",\"price\":64.25,\"quantity\":-1,\"count\":null,\"plot\":\"price\"},{\"date\":\"1981-02-04\",\"tic\":\"IBM\",\"price\":64.5,\"quantity\":1,\"count\":null,\"plot\":\"price\"},{\"date\":\"1981-02-04\",\"tic\":\"IBM\",\"price\":64.5,\"quantity\":-1,\"count\":null,\"plot\":\"price\"},{\"date\":\"1981-02-05\",\"tic\":\"IBM\",\"price\":64.0,\"quantity\":1,\"count\":null,\"plot\":\"price\"},{\"date\":\"1981-02-05\",\"tic\":\"IBM\",\"price\":64.0,\"quantity\":-1,\"count\":null,\"plot\":\"price\"},{\"date\":\"1981-02-06\",\"tic\":\"IBM\",\"price\":64.25,\"quantity\":1,\"count\":null,\"plot\":\"price\"},{\"date\":\"1981-02-06\",\"tic\":\"IBM\",\"price\":64.25,\"quantity\":-1,\"count\":null,\"plot\":\"price\"},{\"date\":\"1981-02-09\",\"tic\":\"IBM\",\"price\":63.5,\"quantity\":1,\"count\":null,\"plot\":\"price\"},{\"date\":\"1981-02-09\",\"tic\":\"IBM\",\"price\":63.5,\"quantity\":-1,\"count\":null,\"plot\":\"price\"},{\"date\":\"1981-02-10\",\"tic\":\"IBM\",\"price\":63.0,\"quantity\":1,\"count\":null,\"plot\":\"price\"},{\"date\":\"1981-02-10\",\"tic\":\"IBM\",\"price\":63.0,\"quantity\":-1,\"count\":null,\"plot\":\"price\"},{\"date\":\"1981-02-11\",\"tic\":\"IBM\",\"price\":62.625,\"quantity\":1,\"count\":null,\"plot\":\"price\"},{\"date\":\"1981-02-11\",\"tic\":\"IBM\",\"price\":62.625,\"quantity\":-1,\"count\":null,\"plot\":\"price\"},{\"date\":\"1981-02-12\",\"tic\":\"IBM\",\"price\":61.75,\"quantity\":1,\"count\":null,\"plot\":\"price\"},{\"date\":\"1981-02-12\",\"tic\":\"IBM\",\"price\":61.75,\"quantity\":-1,\"count\":null,\"plot\":\"price\"},{\"date\":\"1981-02-13\",\"tic\":\"IBM\",\"price\":61.75,\"quantity\":1,\"count\":null,\"plot\":\"price\"},{\"date\":\"1981-02-13\",\"tic\":\"IBM\",\"price\":61.75,\"quantity\":-1,\"count\":null,\"plot\":\"price\"},{\"date\":\"1981-02-17\",\"tic\":\"IBM\",\"price\":62.0,\"quantity\":1,\"count\":null,\"plot\":\"price\"},{\"date\":\"1981-02-17\",\"tic\":\"IBM\",\"price\":62.0,\"quantity\":-1,\"count\":null,\"plot\":\"price\"},{\"date\":\"1981-02-18\",\"tic\":\"IBM\",\"price\":62.0,\"quantity\":1,\"count\":null,\"plot\":\"price\"},{\"date\":\"1981-02-18\",\"tic\":\"IBM\",\"price\":62.0,\"quantity\":-1,\"count\":null,\"plot\":\"price\"},{\"date\":\"1981-02-19\",\"tic\":\"IBM\",\"price\":61.25,\"quantity\":1,\"count\":null,\"plot\":\"price\"},{\"date\":\"1981-02-19\",\"tic\":\"IBM\",\"price\":61.25,\"quantity\":-1,\"count\":null,\"plot\":\"price\"},{\"date\":\"1981-02-20\",\"tic\":\"IBM\",\"price\":60.5,\"quantity\":1,\"count\":null,\"plot\":\"price\"},{\"date\":\"1981-02-20\",\"tic\":\"IBM\",\"price\":60.5,\"quantity\":-1,\"count\":null,\"plot\":\"price\"},{\"date\":\"1981-02-23\",\"tic\":\"IBM\",\"price\":62.0,\"quantity\":1,\"count\":null,\"plot\":\"price\"},{\"date\":\"1981-02-23\",\"tic\":\"IBM\",\"price\":62.0,\"quantity\":-1,\"count\":null,\"plot\":\"price\"},{\"date\":\"1981-02-24\",\"tic\":\"IBM\",\"price\":62.125,\"quantity\":1,\"count\":null,\"plot\":\"price\"},{\"date\":\"1981-02-24\",\"tic\":\"IBM\",\"price\":62.125,\"quantity\":-1,\"count\":null,\"plot\":\"price\"},{\"date\":\"1981-02-25\",\"tic\":\"IBM\",\"price\":64.25,\"quantity\":1,\"count\":null,\"plot\":\"price\"},{\"date\":\"1981-02-25\",\"tic\":\"IBM\",\"price\":64.25,\"quantity\":-1,\"count\":null,\"plot\":\"price\"},{\"date\":\"1981-02-26\",\"tic\":\"IBM\",\"price\":64.75,\"quantity\":1,\"count\":null,\"plot\":\"price\"},{\"date\":\"1981-02-26\",\"tic\":\"IBM\",\"price\":64.75,\"quantity\":-1,\"count\":null,\"plot\":\"price\"},{\"date\":\"1981-02-27\",\"tic\":\"IBM\",\"price\":64.25,\"quantity\":1,\"count\":null,\"plot\":\"price\"},{\"date\":\"1981-02-27\",\"tic\":\"IBM\",\"price\":64.25,\"quantity\":-1,\"count\":null,\"plot\":\"price\"},{\"date\":\"1981-03-02\",\"tic\":\"IBM\",\"price\":63.625,\"quantity\":1,\"count\":null,\"plot\":\"price\"},{\"date\":\"1981-03-02\",\"tic\":\"IBM\",\"price\":63.625,\"quantity\":-1,\"count\":null,\"plot\":\"price\"},{\"date\":\"1981-03-03\",\"tic\":\"IBM\",\"price\":62.5,\"quantity\":1,\"count\":null,\"plot\":\"price\"},{\"date\":\"1981-03-03\",\"tic\":\"IBM\",\"price\":62.5,\"quantity\":-1,\"count\":null,\"plot\":\"price\"},{\"date\":\"1981-03-04\",\"tic\":\"IBM\",\"price\":61.875,\"quantity\":1,\"count\":null,\"plot\":\"price\"},{\"date\":\"1981-03-04\",\"tic\":\"IBM\",\"price\":61.875,\"quantity\":-1,\"count\":null,\"plot\":\"price\"},{\"date\":\"1981-03-05\",\"tic\":\"IBM\",\"price\":62.0,\"quantity\":1,\"count\":null,\"plot\":\"price\"},{\"date\":\"1981-03-05\",\"tic\":\"IBM\",\"price\":62.0,\"quantity\":-1,\"count\":null,\"plot\":\"price\"},{\"date\":\"1981-03-06\",\"tic\":\"IBM\",\"price\":61.875,\"quantity\":1,\"count\":null,\"plot\":\"price\"},{\"date\":\"1981-03-06\",\"tic\":\"IBM\",\"price\":61.875,\"quantity\":-1,\"count\":null,\"plot\":\"price\"},{\"date\":\"1981-03-09\",\"tic\":\"IBM\",\"price\":63.0,\"quantity\":1,\"count\":null,\"plot\":\"price\"},{\"date\":\"1981-03-09\",\"tic\":\"IBM\",\"price\":63.0,\"quantity\":-1,\"count\":null,\"plot\":\"price\"},{\"date\":\"1981-03-10\",\"tic\":\"IBM\",\"price\":62.5,\"quantity\":1,\"count\":null,\"plot\":\"price\"},{\"date\":\"1981-03-10\",\"tic\":\"IBM\",\"price\":62.5,\"quantity\":-1,\"count\":null,\"plot\":\"price\"},{\"date\":\"1981-03-11\",\"tic\":\"IBM\",\"price\":62.25,\"quantity\":1,\"count\":null,\"plot\":\"price\"},{\"date\":\"1981-03-11\",\"tic\":\"IBM\",\"price\":62.25,\"quantity\":-1,\"count\":null,\"plot\":\"price\"},{\"date\":\"1981-03-12\",\"tic\":\"IBM\",\"price\":64.0,\"quantity\":1,\"count\":null,\"plot\":\"price\"},{\"date\":\"1981-03-12\",\"tic\":\"IBM\",\"price\":64.0,\"quantity\":-1,\"count\":null,\"plot\":\"price\"},{\"date\":\"1981-03-13\",\"tic\":\"IBM\",\"price\":63.25,\"quantity\":1,\"count\":null,\"plot\":\"price\"},{\"date\":\"1981-03-13\",\"tic\":\"IBM\",\"price\":63.25,\"quantity\":-1,\"count\":null,\"plot\":\"price\"},{\"date\":\"1981-03-16\",\"tic\":\"IBM\",\"price\":64.625,\"quantity\":1,\"count\":null,\"plot\":\"price\"},{\"date\":\"1981-03-16\",\"tic\":\"IBM\",\"price\":64.625,\"quantity\":-1,\"count\":null,\"plot\":\"price\"},{\"date\":\"1981-03-17\",\"tic\":\"IBM\",\"price\":64.25,\"quantity\":1,\"count\":null,\"plot\":\"price\"},{\"date\":\"1981-03-17\",\"tic\":\"IBM\",\"price\":64.25,\"quantity\":-1,\"count\":null,\"plot\":\"price\"},{\"date\":\"1981-03-18\",\"tic\":\"IBM\",\"price\":64.75,\"quantity\":1,\"count\":null,\"plot\":\"price\"},{\"date\":\"1981-03-18\",\"tic\":\"IBM\",\"price\":64.75,\"quantity\":-1,\"count\":null,\"plot\":\"price\"},{\"date\":\"1981-03-19\",\"tic\":\"IBM\",\"price\":63.75,\"quantity\":1,\"count\":null,\"plot\":\"price\"},{\"date\":\"1981-03-19\",\"tic\":\"IBM\",\"price\":63.75,\"quantity\":-1,\"count\":null,\"plot\":\"price\"},{\"date\":\"1981-03-20\",\"tic\":\"IBM\",\"price\":63.125,\"quantity\":1,\"count\":null,\"plot\":\"price\"},{\"date\":\"1981-03-20\",\"tic\":\"IBM\",\"price\":63.125,\"quantity\":-1,\"count\":null,\"plot\":\"price\"},{\"date\":\"1981-03-23\",\"tic\":\"IBM\",\"price\":62.875,\"quantity\":1,\"count\":null,\"plot\":\"price\"},{\"date\":\"1981-03-23\",\"tic\":\"IBM\",\"price\":62.875,\"quantity\":-1,\"count\":null,\"plot\":\"price\"},{\"date\":\"1981-03-24\",\"tic\":\"IBM\",\"price\":62.25,\"quantity\":1,\"count\":null,\"plot\":\"price\"},{\"date\":\"1981-03-24\",\"tic\":\"IBM\",\"price\":62.25,\"quantity\":-1,\"count\":null,\"plot\":\"price\"},{\"date\":\"1981-03-25\",\"tic\":\"IBM\",\"price\":63.875,\"quantity\":1,\"count\":null,\"plot\":\"price\"},{\"date\":\"1981-03-25\",\"tic\":\"IBM\",\"price\":63.875,\"quantity\":-1,\"count\":null,\"plot\":\"price\"},{\"date\":\"1981-03-26\",\"tic\":\"IBM\",\"price\":63.125,\"quantity\":1,\"count\":null,\"plot\":\"price\"},{\"date\":\"1981-03-26\",\"tic\":\"IBM\",\"price\":63.125,\"quantity\":-1,\"count\":null,\"plot\":\"price\"},{\"date\":\"1981-03-27\",\"tic\":\"IBM\",\"price\":61.75,\"quantity\":1,\"count\":null,\"plot\":\"price\"},{\"date\":\"1981-03-27\",\"tic\":\"IBM\",\"price\":61.75,\"quantity\":-1,\"count\":null,\"plot\":\"price\"},{\"date\":\"1981-03-30\",\"tic\":\"IBM\",\"price\":61.5,\"quantity\":1,\"count\":null,\"plot\":\"price\"},{\"date\":\"1981-03-30\",\"tic\":\"IBM\",\"price\":61.5,\"quantity\":-1,\"count\":null,\"plot\":\"price\"},{\"date\":\"1981-03-31\",\"tic\":\"IBM\",\"price\":62.375,\"quantity\":1,\"count\":null,\"plot\":\"price\"},{\"date\":\"1981-03-31\",\"tic\":\"IBM\",\"price\":62.375,\"quantity\":-1,\"count\":null,\"plot\":\"price\"},{\"date\":\"1981-04-01\",\"tic\":\"IBM\",\"price\":63.0,\"quantity\":1,\"count\":null,\"plot\":\"price\"},{\"date\":\"1981-04-01\",\"tic\":\"IBM\",\"price\":63.0,\"quantity\":-1,\"count\":null,\"plot\":\"price\"},{\"date\":\"1981-04-02\",\"tic\":\"IBM\",\"price\":62.125,\"quantity\":1,\"count\":null,\"plot\":\"price\"},{\"date\":\"1981-04-02\",\"tic\":\"IBM\",\"price\":62.125,\"quantity\":-1,\"count\":null,\"plot\":\"price\"},{\"date\":\"1981-04-03\",\"tic\":\"IBM\",\"price\":61.125,\"quantity\":1,\"count\":null,\"plot\":\"price\"},{\"date\":\"1981-04-03\",\"tic\":\"IBM\",\"price\":61.125,\"quantity\":-1,\"count\":null,\"plot\":\"price\"},{\"date\":\"1981-04-06\",\"tic\":\"IBM\",\"price\":60.375,\"quantity\":1,\"count\":null,\"plot\":\"price\"},{\"date\":\"1981-04-06\",\"tic\":\"IBM\",\"price\":60.375,\"quantity\":-1,\"count\":null,\"plot\":\"price\"},{\"date\":\"1981-04-07\",\"tic\":\"IBM\",\"price\":60.0,\"quantity\":1,\"count\":null,\"plot\":\"price\"},{\"date\":\"1981-04-07\",\"tic\":\"IBM\",\"price\":60.0,\"quantity\":-1,\"count\":null,\"plot\":\"price\"},{\"date\":\"1981-04-08\",\"tic\":\"IBM\",\"price\":60.0,\"quantity\":1,\"count\":null,\"plot\":\"price\"},{\"date\":\"1981-04-08\",\"tic\":\"IBM\",\"price\":60.0,\"quantity\":-1,\"count\":null,\"plot\":\"price\"},{\"date\":\"1981-04-09\",\"tic\":\"IBM\",\"price\":61.75,\"quantity\":1,\"count\":null,\"plot\":\"price\"},{\"date\":\"1981-04-09\",\"tic\":\"IBM\",\"price\":61.75,\"quantity\":-1,\"count\":null,\"plot\":\"price\"},{\"date\":\"1981-04-10\",\"tic\":\"IBM\",\"price\":60.75,\"quantity\":1,\"count\":null,\"plot\":\"price\"},{\"date\":\"1981-04-10\",\"tic\":\"IBM\",\"price\":60.75,\"quantity\":-1,\"count\":null,\"plot\":\"price\"},{\"date\":\"1981-04-13\",\"tic\":\"IBM\",\"price\":60.125,\"quantity\":1,\"count\":null,\"plot\":\"price\"},{\"date\":\"1981-04-13\",\"tic\":\"IBM\",\"price\":60.125,\"quantity\":-1,\"count\":null,\"plot\":\"price\"},{\"date\":\"1981-04-14\",\"tic\":\"IBM\",\"price\":59.125,\"quantity\":1,\"count\":null,\"plot\":\"price\"},{\"date\":\"1981-04-14\",\"tic\":\"IBM\",\"price\":59.125,\"quantity\":-1,\"count\":null,\"plot\":\"price\"},{\"date\":\"1981-04-15\",\"tic\":\"IBM\",\"price\":59.625,\"quantity\":1,\"count\":null,\"plot\":\"price\"},{\"date\":\"1981-04-15\",\"tic\":\"IBM\",\"price\":59.625,\"quantity\":-1,\"count\":null,\"plot\":\"price\"},{\"date\":\"1981-04-16\",\"tic\":\"IBM\",\"price\":60.0,\"quantity\":1,\"count\":null,\"plot\":\"price\"},{\"date\":\"1981-04-16\",\"tic\":\"IBM\",\"price\":60.0,\"quantity\":-1,\"count\":null,\"plot\":\"price\"},{\"date\":\"1981-04-20\",\"tic\":\"IBM\",\"price\":61.625,\"quantity\":1,\"count\":null,\"plot\":\"price\"},{\"date\":\"1981-04-20\",\"tic\":\"IBM\",\"price\":61.625,\"quantity\":-1,\"count\":null,\"plot\":\"price\"},{\"date\":\"1981-04-21\",\"tic\":\"IBM\",\"price\":60.5,\"quantity\":1,\"count\":null,\"plot\":\"price\"},{\"date\":\"1981-04-21\",\"tic\":\"IBM\",\"price\":60.5,\"quantity\":-1,\"count\":null,\"plot\":\"price\"},{\"date\":\"1981-04-22\",\"tic\":\"IBM\",\"price\":60.375,\"quantity\":1,\"count\":null,\"plot\":\"price\"},{\"date\":\"1981-04-22\",\"tic\":\"IBM\",\"price\":60.375,\"quantity\":-1,\"count\":null,\"plot\":\"price\"},{\"date\":\"1981-04-23\",\"tic\":\"IBM\",\"price\":60.375,\"quantity\":1,\"count\":null,\"plot\":\"price\"},{\"date\":\"1981-04-23\",\"tic\":\"IBM\",\"price\":60.375,\"quantity\":-1,\"count\":null,\"plot\":\"price\"},{\"date\":\"1981-04-24\",\"tic\":\"IBM\",\"price\":60.625,\"quantity\":1,\"count\":null,\"plot\":\"price\"},{\"date\":\"1981-04-24\",\"tic\":\"IBM\",\"price\":60.625,\"quantity\":-1,\"count\":null,\"plot\":\"price\"},{\"date\":\"1981-04-27\",\"tic\":\"IBM\",\"price\":61.125,\"quantity\":1,\"count\":null,\"plot\":\"price\"},{\"date\":\"1981-04-27\",\"tic\":\"IBM\",\"price\":61.125,\"quantity\":-1,\"count\":null,\"plot\":\"price\"},{\"date\":\"1981-04-28\",\"tic\":\"IBM\",\"price\":60.375,\"quantity\":1,\"count\":null,\"plot\":\"price\"},{\"date\":\"1981-04-28\",\"tic\":\"IBM\",\"price\":60.375,\"quantity\":-1,\"count\":null,\"plot\":\"price\"},{\"date\":\"1981-04-29\",\"tic\":\"IBM\",\"price\":59.625,\"quantity\":1,\"count\":null,\"plot\":\"price\"},{\"date\":\"1981-04-29\",\"tic\":\"IBM\",\"price\":59.625,\"quantity\":-1,\"count\":null,\"plot\":\"price\"},{\"date\":\"1981-04-30\",\"tic\":\"IBM\",\"price\":58.625,\"quantity\":1,\"count\":null,\"plot\":\"price\"},{\"date\":\"1981-04-30\",\"tic\":\"IBM\",\"price\":58.625,\"quantity\":-1,\"count\":null,\"plot\":\"price\"},{\"date\":\"1981-05-01\",\"tic\":\"IBM\",\"price\":59.125,\"quantity\":1,\"count\":null,\"plot\":\"price\"},{\"date\":\"1981-05-01\",\"tic\":\"IBM\",\"price\":59.125,\"quantity\":-1,\"count\":null,\"plot\":\"price\"},{\"date\":\"1981-05-04\",\"tic\":\"IBM\",\"price\":58.375,\"quantity\":1,\"count\":null,\"plot\":\"price\"},{\"date\":\"1981-05-04\",\"tic\":\"IBM\",\"price\":58.375,\"quantity\":-1,\"count\":null,\"plot\":\"price\"},{\"date\":\"1981-05-05\",\"tic\":\"IBM\",\"price\":57.75,\"quantity\":1,\"count\":null,\"plot\":\"price\"},{\"date\":\"1981-05-05\",\"tic\":\"IBM\",\"price\":57.75,\"quantity\":-1,\"count\":null,\"plot\":\"price\"},{\"date\":\"1981-05-06\",\"tic\":\"IBM\",\"price\":57.875,\"quantity\":1,\"count\":null,\"plot\":\"price\"},{\"date\":\"1981-05-06\",\"tic\":\"IBM\",\"price\":57.875,\"quantity\":-1,\"count\":null,\"plot\":\"price\"},{\"date\":\"1981-05-07\",\"tic\":\"IBM\",\"price\":57.375,\"quantity\":1,\"count\":null,\"plot\":\"price\"},{\"date\":\"1981-05-07\",\"tic\":\"IBM\",\"price\":57.375,\"quantity\":-1,\"count\":null,\"plot\":\"price\"},{\"date\":\"1981-05-08\",\"tic\":\"IBM\",\"price\":57.875,\"quantity\":1,\"count\":null,\"plot\":\"price\"},{\"date\":\"1981-05-08\",\"tic\":\"IBM\",\"price\":57.875,\"quantity\":-1,\"count\":null,\"plot\":\"price\"},{\"date\":\"1981-05-11\",\"tic\":\"IBM\",\"price\":56.0,\"quantity\":1,\"count\":null,\"plot\":\"price\"},{\"date\":\"1981-05-11\",\"tic\":\"IBM\",\"price\":56.0,\"quantity\":-1,\"count\":null,\"plot\":\"price\"},{\"date\":\"1981-05-12\",\"tic\":\"IBM\",\"price\":56.75,\"quantity\":1,\"count\":null,\"plot\":\"price\"},{\"date\":\"1981-05-12\",\"tic\":\"IBM\",\"price\":56.75,\"quantity\":-1,\"count\":null,\"plot\":\"price\"},{\"date\":\"1981-05-13\",\"tic\":\"IBM\",\"price\":56.75,\"quantity\":1,\"count\":null,\"plot\":\"price\"},{\"date\":\"1981-05-13\",\"tic\":\"IBM\",\"price\":56.75,\"quantity\":-1,\"count\":null,\"plot\":\"price\"},{\"date\":\"1981-05-14\",\"tic\":\"IBM\",\"price\":56.625,\"quantity\":1,\"count\":null,\"plot\":\"price\"},{\"date\":\"1981-05-14\",\"tic\":\"IBM\",\"price\":56.625,\"quantity\":-1,\"count\":null,\"plot\":\"price\"},{\"date\":\"1981-05-14\",\"tic\":\"IBM\",\"price\":56.625,\"quantity\":-10,\"count\":null,\"plot\":\"price\"}]},\"encoding\":{\"x\":{\"field\":\"date\",\"type\":\"temporal\"},\"y\":{\"field\":\"price\",\"type\":\"quantitative\"},\"color\":{\"field\":\"plot\",\"type\":\"nominal\"}},\"mark\":\"line\"};\n",
       "      vegaEmbed('#uuid-6a9ec0b8-363c-4b00-9a5b-b26abd19ef00', spec, {defaultStyle:true}).catch(console.warn);\n",
       "      }, function(err) {\n",
       "      console.log('Failed to load');\n",
       "    });\n",
       "    </script>\n",
       "  </div>\n",
       "    "
      ]
     },
     "execution_count": 78,
     "metadata": {},
     "output_type": "execute_result"
    }
   ],
   "source": [
    "; Add rename legend\n",
    "(def data-to-plot\n",
    " (map #(assoc % :plot \"price\")\n",
    "  data))\n",
    "\n",
    "(plot data-to-plot :plot :date :price false)"
   ]
  },
  {
   "cell_type": "code",
   "execution_count": null,
   "metadata": {},
   "outputs": [],
   "source": []
  }
 ],
 "metadata": {
  "kernelspec": {
   "display_name": "Clojure (backtesting_clojure)",
   "language": "clojure",
   "name": "backtesting_clojure"
  },
  "language_info": {
   "file_extension": ".clj",
   "mimetype": "text/x-clojure",
   "name": "clojure",
   "version": "1.10.1"
  }
 },
 "nbformat": 4,
 "nbformat_minor": 2
}
