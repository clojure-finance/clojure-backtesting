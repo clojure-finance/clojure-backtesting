{
 "cells": [
  {
   "cell_type": "markdown",
   "metadata": {},
   "source": [
    "### Run this in Python kernel\n",
    "\n",
    "To reset font style of output (in case it is not the default one)"
   ]
  },
  {
   "cell_type": "code",
   "execution_count": 1,
   "metadata": {},
   "outputs": [
    {
     "data": {
      "text/html": [
       "<style>\n",
       "body {\n",
       "    font-family: \"Arial\", cursive, sans-serif; # font style of application\n",
       "}\n",
       "pre {\n",
       "    font-family: \"Courier New\"; # font style of cell outputs\n",
       "}\n",
       "</style>  \n"
      ],
      "text/plain": [
       "<IPython.core.display.HTML object>"
      ]
     },
     "metadata": {},
     "output_type": "display_data"
    }
   ],
   "source": [
    "%%html\n",
    "<style>\n",
    "body {\n",
    "    font-family: \"Arial\", cursive, sans-serif; # font style of application\n",
    "}\n",
    "pre {\n",
    "    font-family: \"Courier New\"; # font style of cell outputs\n",
    "}\n",
    "</style>  "
   ]
  },
  {
   "cell_type": "markdown",
   "metadata": {},
   "source": [
    "### Run below in the backtesting_clojure kernel"
   ]
  },
  {
   "cell_type": "code",
   "execution_count": 12,
   "metadata": {},
   "outputs": [
    {
     "data": {
      "text/plain": [
       "nil"
      ]
     },
     "execution_count": 12,
     "metadata": {},
     "output_type": "execute_result"
    }
   ],
   "source": [
    "; import libraries from kernel\n",
    "(ns clojure-backtesting.demo\n",
    "  (:require [clojure.test :refer :all]\n",
    "            [clojure-backtesting.data :refer :all]\n",
    "            [clojure-backtesting.data-management :refer :all]\n",
    "            [clojure-backtesting.order :refer :all]\n",
    "            [clojure-backtesting.evaluate :refer :all]\n",
    "            [clojure-backtesting.plot :refer :all]\n",
    "            [clojure-backtesting.counter :refer :all]\n",
    "            ;;[clojure-backtesting.parameters :refer :all]\n",
    "            [clojure.string :as str]\n",
    "            [clojure.pprint :as pprint]\n",
    "            [java-time :as t]\n",
    "            [clojupyter.kernel.version :as ver]\n",
    "            [clojure.edn :as edn]\n",
    "            [clojupyter.misc.helper :as helper]\n",
    "  ) ;; require all libriaries from core\n",
    "  (:use clojure.pprint)\n",
    ")"
   ]
  },
  {
   "cell_type": "markdown",
   "metadata": {},
   "source": [
    "### Import dataset"
   ]
  },
  {
   "cell_type": "code",
   "execution_count": 13,
   "metadata": {},
   "outputs": [],
   "source": [
    "; path to dataset = \"../resources/CRSP-extract.csv\"\n",
    "; change it to the relative path to your own dataset\n",
    ";\n",
    "(reset! data-set (add-aprc (read-csv-row \"../resources/CRSP-extract.csv\")));"
   ]
  },
  {
   "cell_type": "markdown",
   "metadata": {},
   "source": [
    "### Get list of tickers with ROE"
   ]
  },
  {
   "cell_type": "code",
   "execution_count": 14,
   "metadata": {},
   "outputs": [
    {
     "data": {
      "text/plain": [
       "#'clojure-backtesting.demo/get-set-roe"
      ]
     },
     "execution_count": 14,
     "metadata": {},
     "output_type": "execute_result"
    }
   ],
   "source": [
    ";; Use merged database CRSP + COMPUSTAT\n",
    ";; Compute the latest quarter ROE by using: niq/(share price * cshoq) in the merged dataset\n",
    ";; output {{:tic \"AAPL\" :year \"1980\" :ROE x.x}{...}{:ROE 1.x 2.x 3.x 10.x}}\n",
    "\n",
    ";; need to use lazy sequence if applying on big dataset\n",
    "\n",
    "(defn get-set-roe\n",
    "    \"return a set of maps of tickers and datadate\" ;;{:tic \"AAPL\", :datadate \"1981/3/31\", :ROE x.x}\n",
    "    [file date]\n",
    "    (loop [remaining file\n",
    "            result-set []\n",
    "            ROE-list [] ]\n",
    "        (if (empty? remaining)\n",
    "            ;; how to change the output here?\n",
    "            ;;(into #{} (conj result-set {:ROE-set ROE-list}))\n",
    "            {:data result-set :ROE-set ROE-list}\n",
    "            (let [first-line (first remaining)\n",
    "                next-remaining (rest remaining)\n",
    "                ;;next-result-set (conj result-set (get first-line :datadate)\n",
    "                [year month day] (map parse-int (str/split date #\"-\"))]\n",
    "                ;;merged file use :datadate as key\n",
    "                (if (= date (get first-line :datadate))\n",
    "                    (let [[niq PRC cshoq] (map edn/read-string [(get first-line :niq)(get first-line :PRC)(get first-line :cshoq)])\n",
    "                          ROE (/ niq (* PRC cshoq))]\n",
    "                        (recur next-remaining (conj result-set {:tic (get first-line :tic) :year year :ROE ROE}) (conj ROE-list ROE))\n",
    "                    )\n",
    "                    (recur next-remaining result-set ROE-list)\n",
    "                )  \n",
    "            )\n",
    "        )\n",
    "    )\n",
    ")"
   ]
  },
  {
   "cell_type": "code",
   "execution_count": 15,
   "metadata": {},
   "outputs": [
    {
     "name": "stdout",
     "output_type": "stream",
     "text": [
      "{:data [{:tic AAPL, :year 1980, :ROE 0.002731506525434953} {:tic GM, :year 1980, :ROE -0.046370846428037134} {:tic IBM, :year 1980, :ROE 0.0238072629827958}], :ROE-set [0.002731506525434953 -0.046370846428037134 0.0238072629827958]}\n"
     ]
    }
   ],
   "source": [
    ";; this function can be used to get the list of stocks available for trading\n",
    "(def dataFA (get-set-roe (read-csv-row \"../resources/data-testing-merged.csv\") \"1980-12-18\"))\n",
    "(println dataFA) ;"
   ]
  },
  {
   "cell_type": "code",
   "execution_count": 16,
   "metadata": {},
   "outputs": [
    {
     "data": {
      "text/plain": [
       "#'clojure-backtesting.demo/get-ROE"
      ]
     },
     "execution_count": 16,
     "metadata": {},
     "output_type": "execute_result"
    }
   ],
   "source": [
    ";; fn to get a set of ROE\n",
    "(defn get-ROE\n",
    "            \"return a set of ROE\"  ;;{10.2 1.8 x.x ...}\n",
    "        [dataset]\n",
    "        (into #{} (get dataset :ROE-set))\n",
    "        )"
   ]
  },
  {
   "cell_type": "code",
   "execution_count": 17,
   "metadata": {},
   "outputs": [
    {
     "data": {
      "text/plain": [
       "#'clojure-backtesting.demo/get-roe-20"
      ]
     },
     "execution_count": 17,
     "metadata": {},
     "output_type": "execute_result"
    }
   ],
   "source": [
    "(defn get-roe-20\n",
    "    \"return a set tickers\" ;;{\"AAPL\" \"GM\"}\n",
    "    [data roe-20]\n",
    "    (loop [remaining (get data :data)\n",
    "            result-set []]\n",
    "        (if (empty? remaining)\n",
    "            (into #{} result-set)\n",
    "            (let [first-line (first remaining)\n",
    "                next-remaining (rest remaining)]\n",
    "                ;;conj the stock ticker whose ROE >= roe-20\n",
    "                ;;(if (not= -1 (compare roe-20 (get first-line :ROE)))\n",
    "                (if (>= (get first-line :ROE) roe-20)\n",
    "                    (recur next-remaining (conj result-set (get first-line :tic)))           \n",
    "                    (recur next-remaining result-set)            \n",
    "                )  \n",
    "            )\n",
    "        )\n",
    "    )\n",
    ")"
   ]
  },
  {
   "cell_type": "code",
   "execution_count": 18,
   "metadata": {},
   "outputs": [
    {
     "name": "stdout",
     "output_type": "stream",
     "text": [
      "#{0.0238072629827958 -0.046370846428037134 0.002731506525434953}\n",
      "#{-0.046370846428037134 0.002731506525434953 0.0238072629827958}\n",
      "[-0.046370846428037134 0.002731506525434953 0.0238072629827958]\n",
      "0.0238072629827958\n",
      "#{IBM}\n",
      "clojure.lang.PersistentHashSet\n"
     ]
    },
    {
     "data": {
      "text/plain": [
       "nil"
      ]
     },
     "execution_count": 18,
     "metadata": {},
     "output_type": "execute_result"
    }
   ],
   "source": [
    ";; test examples\n",
    "\n",
    ";; dataFA is the dataset that contains the output from get-set\n",
    "\n",
    ";; get a set of ROE\n",
    "(def roe-list-demo (get-ROE dataFA))\n",
    "(println roe-list-demo)\n",
    "\n",
    "\n",
    ";; get a sorted set of ROE\n",
    "(def roe-sorted-set (apply sorted-set roe-list-demo))\n",
    "(println roe-sorted-set)\n",
    "\n",
    "\n",
    ";; get a sorted vector of ROE\n",
    "(def roe-sorted-vec (into '[] roe-sorted-set))\n",
    "(println roe-sorted-vec)\n",
    "\n",
    ";; find the 20th per centile ROE\n",
    "(def roe-20-demo (nth roe-sorted-vec (int (* 0.8 (count roe-sorted-vec)))))\n",
    "(println roe-20-demo)\n",
    "         \n",
    ";; get the list of tickers to buy\n",
    "(def stock-to-buy-test (get-roe-20 dataFA roe-20-demo))\n",
    "(println stock-to-buy-test)\n",
    "(println (type stock-to-buy-test)) ;;stored in a set format"
   ]
  },
  {
   "cell_type": "markdown",
   "metadata": {},
   "source": [
    "### Initialise portfolio"
   ]
  },
  {
   "cell_type": "code",
   "execution_count": 24,
   "metadata": {},
   "outputs": [
    {
     "name": "stderr",
     "output_type": "stream",
     "text": [
      "Execution error (IOException) at clojure-backtesting.order/init-portfolio (order.clj:129).\n",
      "Couldn't delete ./order_record.csv\n"
     ]
    },
    {
     "ename": "class java.io.IOException",
     "evalue": "",
     "output_type": "error",
     "traceback": [
      "     io.clj:   434 clojure.java.io$delete_file/invokeStatic",
      "     io.clj:   430 clojure.java.io$delete_file/doInvoke",
      "RestFn.java:   410 clojure.lang.RestFn/invoke",
      "  order.clj:   129 clojure_backtesting.order$init_portfolio/invokeStatic",
      "  order.clj:   117 clojure_backtesting.order$init_portfolio/invoke",
      "   core.clj:  3214 clojure.core$eval/invokeStatic",
      "   core.clj:  3210 clojure.core$eval/invoke",
      "   main.clj:   437 clojure.main$repl$read_eval_print__9086$fn__9089/invoke",
      "   main.clj:   458 clojure.main$repl$fn__9095/invoke",
      "   main.clj:   368 clojure.main$repl/doInvoke",
      "RestFn.java:  1523 clojure.lang.RestFn/invoke",
      "   AFn.java:    22 clojure.lang.AFn/run",
      "   AFn.java:    22 clojure.lang.AFn/run",
      "Thread.java:   844 java.lang.Thread/run"
     ]
    }
   ],
   "source": [
    "(init-portfolio \"1980-12-18\" 100000)"
   ]
  },
  {
   "cell_type": "code",
   "execution_count": 23,
   "metadata": {},
   "outputs": [
    {
     "data": {
      "text/plain": [
       "(\"AAPL\" \"F\" \"IBM\")"
      ]
     },
     "execution_count": 23,
     "metadata": {},
     "output_type": "execute_result"
    }
   ],
   "source": [
    "(keys (deref available-tics))"
   ]
  },
  {
   "cell_type": "code",
   "execution_count": 29,
   "metadata": {},
   "outputs": [
    {
     "name": "stdout",
     "output_type": "stream",
     "text": [
      "The order request 1983-12-19 | GM | 10 fails.\n",
      "Failure reason: No such date or ticker in the dataset or the dataset has reached the end.\n"
     ]
    },
    {
     "data": {
      "text/plain": [
       "nil"
      ]
     },
     "execution_count": 29,
     "metadata": {},
     "output_type": "execute_result"
    }
   ],
   "source": [
    "\n",
    "\n",
    "(def year-count 3) ;; hold the stock for 3 years\n",
    "(def start-year 1980)\n",
    "(def rebalance-md (subs (get-date) 4)) ; = -12-18\n",
    "\n",
    "(def rebalance-years (into [] (range (+ start-year 1) (+ (+ start-year 1) year-count) 1))) ; rebalance every year\n",
    "\n",
    "(def rebalance-dates []) ; [1981-12-18, 1982-12-18, 1983-12-18]\n",
    "(doseq [year rebalance-years]\n",
    "  (def rebalance-dates (conj rebalance-dates (str year rebalance-md)))\n",
    ")\n",
    "\n",
    "(def end-date (last rebalance-dates)) ; 1983-12-18\n",
    "\n",
    ";; get stock tickers and ROE data\n",
    ";; output {{:tic \"AAPL\" :year \"1980\" :ROE x.x}{...}{:ROE 1.x 2.x 3.x 10.x}}\n",
    "(def stock-data (get-set-roe (read-csv-row \"../resources/data-testing-merged.csv\") \"1980-12-18\"))\n",
    "\n",
    ";; sort the stocks according to their ROE (= Net Income/Total Equity)\n",
    "\n",
    ";; get a set of ROE\n",
    "(def roe-list (get-ROE stock-data))\n",
    "\n",
    ";; sorting function, return tickers of the top 20% stocks\n",
    ";; determine what are the top 20% stocks and turn the sorted-set into list format\n",
    "(def roe-sorted (into '[] (apply sorted-set roe-list)))\n",
    "\n",
    ";(println roe-list)\n",
    ";(println (int (* 0.8 (count roe-sorted))))\n",
    "\n",
    ";; find the 20% cut-off ROE value\n",
    "(let [roe-20 (nth roe-sorted (int (* 0.8 (count roe-sorted))))]    \n",
    "    ;;get the tickers of the top 20 with function get-roe-20\n",
    "    (def stocks-to-buy (get-roe-20 stock-data roe-20))\n",
    ")\n",
    "\n",
    ";; buy the top 20% stocks and the sell the stocks that are not in the top 20% this year      \n",
    "(def stocks-to-buy-list (into [] stocks-to-buy))\n",
    "\n",
    ";; buy stocks \n",
    "(doseq [stock stocks-to-buy-list]        \n",
    "  (order stock 10)\n",
    ")\n",
    "\n",
    "(update-eval-report (get-date)) ; update evaluation metrics\n",
    "(next-date)\n",
    "\n",
    "(while (not= (empty? rebalance-dates) true)\n",
    "  ;(println (get-date)) ; debug\n",
    "  (if (t/after? (t/local-date (get-date)) (t/local-date (first rebalance-dates))) ; check if (get-date) has passed first date in rebalance-dates\n",
    "    (do\n",
    "      (def rebalance-dates (rest rebalance-dates)) ; pop the first date in rebalance-dates\n",
    "      ;(println (rest rebalance-dates)) ; debug\n",
    "      (while (empty? (get-set-roe (read-csv-row \"../resources/data-testing-merged.csv\") (get-date)))\n",
    "          (next-date) ;; move on to next date til data is not empty\n",
    "      )\n",
    "      (def stock-data (get-set-roe (read-csv-row \"../resources/data-testing-merged.csv\") (get-date)))\n",
    "      (def roe-list (get-ROE stock-data))\n",
    "      (def roe-sorted (into '[] (apply sorted-set roe-list)))\n",
    "      (let [roe-20 (nth roe-sorted (int (* 0.8 (count roe-sorted))))]    \n",
    "          (def stocks-to-buy (get-roe-20 stock-data roe-20))\n",
    "      )\n",
    "      (def stocks-to-buy-list (into [] stocks-to-buy))\n",
    "\n",
    "      ;; sell stocks held in portfolio\n",
    "      (doseq [[ticker row] (deref portfolio)]\n",
    "        (if (not= ticker :cash)      \n",
    "          (order ticker -10)\n",
    "        )\n",
    "      )\n",
    "\n",
    "      ;; buy stocks\n",
    "      (doseq [stock stocks-to-buy-list]       \n",
    "        (order stock 10)\n",
    "      )\n",
    "\n",
    "      (update-eval-report (get-date)) ; update evaluation metrics\n",
    "    )\n",
    "  )\n",
    "  (next-date) ; move on to the next trading day\n",
    ")\n",
    "\n",
    ";; sell stocks held in portfolio (if ticker != \"cash\" && quantity > 0)\n",
    "(doseq [[ticker row] (deref portfolio)]\n",
    "  (if (and (not= ticker :cash) (= (compare (get row :quantity) 0) 1))\n",
    "      (order ticker -10)\n",
    "  )\n",
    ")"
   ]
  },
  {
   "cell_type": "markdown",
   "metadata": {},
   "source": [
    "### Check order record"
   ]
  },
  {
   "cell_type": "code",
   "execution_count": 30,
   "metadata": {},
   "outputs": [
    {
     "name": "stdout",
     "output_type": "stream",
     "text": [
      "\n",
      "|      :date | :tic | :price | :quantity | :count |\n",
      "|------------+------+--------+-----------+--------|\n",
      "| 1980-12-19 |  IBM | 64.625 |        10 |        |\n",
      "| 1981-12-22 |  IBM | 56.875 |       -10 |        |\n",
      "| 1981-12-22 |  IBM | 56.875 |        10 |        |\n",
      "| 1982-12-21 |  IBM |  95.75 |       -10 |        |\n",
      "| 1982-12-21 |  IBM |  95.75 |        10 |        |\n",
      "| 1983-12-20 |  IBM | 121.75 |       -10 |        |\n"
     ]
    },
    {
     "data": {
      "text/plain": [
       "nil"
      ]
     },
     "execution_count": 30,
     "metadata": {},
     "output_type": "execute_result"
    }
   ],
   "source": [
    "(pprint/print-table (deref order-record))"
   ]
  },
  {
   "cell_type": "markdown",
   "metadata": {},
   "source": [
    "### Check portfolio record"
   ]
  },
  {
   "cell_type": "code",
   "execution_count": 31,
   "metadata": {},
   "outputs": [
    {
     "name": "stdout",
     "output_type": "stream",
     "text": [
      "\n",
      "| :asset | :price |   :aprc | :quantity | :tot-val |\n",
      "|--------+--------+---------+-----------+----------|\n",
      "|   cash |    N/A |     N/A |       N/A |   100571 |\n",
      "|    IBM | 121.75 | 1030.91 |         0 |        0 |\n"
     ]
    },
    {
     "data": {
      "text/plain": [
       "nil"
      ]
     },
     "execution_count": 31,
     "metadata": {},
     "output_type": "execute_result"
    }
   ],
   "source": [
    ";; view final portfolio\n",
    "(view-portfolio)"
   ]
  },
  {
   "cell_type": "code",
   "execution_count": 32,
   "metadata": {},
   "outputs": [
    {
     "name": "stdout",
     "output_type": "stream",
     "text": [
      "\n",
      "|      :date | :tot-value | :daily-ret | :tot-ret | :loan | :leverage |\n",
      "|------------+------------+------------+----------+-------+-----------|\n",
      "| 1980-12-18 |    $100000 |      0.00% |    0.00% | $0.00 |     0.00% |\n",
      "| 1980-12-19 |    $106714 |      6.50% |    6.50% | $0.00 |     0.00% |\n",
      "| 1981-12-22 |    $106499 |      6.37% |    6.30% | $0.00 |     0.00% |\n",
      "| 1982-12-21 |    $108511 |      7.86% |    8.17% | $0.00 |     0.00% |\n",
      "| 1983-12-20 |    $100571 |     -7.60% |    0.57% | $0.00 |     0.00% |\n"
     ]
    },
    {
     "data": {
      "text/plain": [
       "nil"
      ]
     },
     "execution_count": 32,
     "metadata": {},
     "output_type": "execute_result"
    }
   ],
   "source": [
    ";; view portfolio value and return\n",
    "(view-portfolio-record)"
   ]
  },
  {
   "cell_type": "markdown",
   "metadata": {},
   "source": [
    "### Generate evaluation report"
   ]
  },
  {
   "cell_type": "code",
   "execution_count": 33,
   "metadata": {},
   "outputs": [
    {
     "name": "stdout",
     "output_type": "stream",
     "text": [
      "\n",
      "|      :date | :pnl-pt | :sharpe | :tot-val |  :vol |\n",
      "|------------+---------+---------+----------+-------|\n",
      "| 1980-12-18 |   $6714 |   1.41% |  $106714 | 4.60% |\n",
      "| 1981-12-21 |   $2166 |   1.69% |  $106499 | 3.72% |\n",
      "| 1982-12-20 |   $1702 |   2.32% |  $108511 | 3.52% |\n",
      "| 1983-12-19 |     $95 |   0.09% |  $100571 | 6.48% |\n"
     ]
    },
    {
     "data": {
      "text/plain": [
       "nil"
      ]
     },
     "execution_count": 33,
     "metadata": {},
     "output_type": "execute_result"
    }
   ],
   "source": [
    "(eval-report)"
   ]
  },
  {
   "cell_type": "markdown",
   "metadata": {},
   "source": [
    "### Plot variables\n",
    "Below are example codes that show how to plot different variables in the portfolio record / evaluation record."
   ]
  },
  {
   "cell_type": "markdown",
   "metadata": {},
   "source": [
    "### 1. Portfolio total value"
   ]
  },
  {
   "cell_type": "code",
   "execution_count": 34,
   "metadata": {},
   "outputs": [
    {
     "data": {
      "text/plain": [
       "#'clojure-backtesting.demo/data"
      ]
     },
     "execution_count": 34,
     "metadata": {},
     "output_type": "execute_result"
    }
   ],
   "source": [
    "(def data (deref portfolio-value))"
   ]
  },
  {
   "cell_type": "code",
   "execution_count": 35,
   "metadata": {},
   "outputs": [
    {
     "data": {
      "text/plain": [
       "#'clojure-backtesting.demo/data-to-plot"
      ]
     },
     "execution_count": 35,
     "metadata": {},
     "output_type": "execute_result"
    }
   ],
   "source": [
    "; Add legend name to series\n",
    "(def data-to-plot\n",
    " (map #(assoc % :plot \"total value\")\n",
    "  data))"
   ]
  },
  {
   "cell_type": "code",
   "execution_count": 36,
   "metadata": {},
   "outputs": [
    {
     "data": {
      "text/plain": [
       "{:date \"1980-12-18\", :tot-value 100000, :daily-ret 0.0, :tot-ret 0.0, :loan 0.0, :leverage 0.0, :plot \"total value\"}"
      ]
     },
     "execution_count": 36,
     "metadata": {},
     "output_type": "execute_result"
    }
   ],
   "source": [
    "(first data-to-plot)"
   ]
  },
  {
   "cell_type": "code",
   "execution_count": 37,
   "metadata": {},
   "outputs": [
    {
     "data": {
      "text/html": [
       "\n",
       "  <div>\n",
       "    <div id='uuid-78dc84ae-9bd9-4fa4-b385-78660e3e1250'></div>\n",
       "    <script>\n",
       "    requirejs.config({\n",
       "      baseUrl: 'https://cdn.jsdelivr.net/npm/',\n",
       "      paths: {\n",
       "        'vega-embed':  'vega-embed@6.12.2?noext',\n",
       "        'vega-lib': 'vega-lib?noext',\n",
       "        'vega-lite': 'vega-lite@4.17.0?noext',\n",
       "        'vega': 'vega@5.17.0?noext'\n",
       "      }\n",
       "    });\n",
       "    require(['vega-embed'], function(vegaEmbed) {\n",
       "      let spec = {\"width\":800,\"height\":500,\"data\":{\"values\":[{\"date\":\"1980-12-18\",\"tot-value\":100000,\"daily-ret\":0.0,\"tot-ret\":0.0,\"loan\":0.0,\"leverage\":0.0,\"plot\":\"total value\"},{\"date\":\"1980-12-19\",\"tot-value\":106714.48851556178,\"daily-ret\":0.06498675050117103,\"tot-ret\":0.06498675050117103,\"loan\":0.0,\"leverage\":0.0,\"plot\":\"total value\"},{\"date\":\"1981-12-22\",\"tot-value\":106499.59027660717,\"daily-ret\":0.063746252453732,\"tot-ret\":0.06297095198598031,\"loan\":0.0,\"leverage\":0.0,\"plot\":\"total value\"},{\"date\":\"1982-12-21\",\"tot-value\":108511.15769122237,\"daily-ret\":0.07857515136956456,\"tot-ret\":0.08168281756897858,\"loan\":0.0,\"leverage\":0.0,\"plot\":\"total value\"},{\"date\":\"1983-12-20\",\"tot-value\":100571.25,\"daily-ret\":-0.0759865720240989,\"tot-ret\":0.005696245544879672,\"loan\":0.0,\"leverage\":0.0,\"plot\":\"total value\"}]},\"encoding\":{\"x\":{\"field\":\"date\",\"type\":\"temporal\"},\"y\":{\"field\":\"tot-value\",\"type\":\"quantitative\"},\"color\":{\"field\":\"plot\",\"type\":\"nominal\"}},\"mark\":\"line\"};\n",
       "      vegaEmbed('#uuid-78dc84ae-9bd9-4fa4-b385-78660e3e1250', spec, {defaultStyle:true}).catch(console.warn);\n",
       "      }, function(err) {\n",
       "      console.log('Failed to load');\n",
       "    });\n",
       "    </script>\n",
       "  </div>\n",
       "    "
      ]
     },
     "execution_count": 37,
     "metadata": {},
     "output_type": "execute_result"
    }
   ],
   "source": [
    "(plot data-to-plot :plot :date :tot-value false)"
   ]
  },
  {
   "cell_type": "markdown",
   "metadata": {},
   "source": [
    "### 2. Plot sharpe ratio"
   ]
  },
  {
   "cell_type": "code",
   "execution_count": 38,
   "metadata": {},
   "outputs": [
    {
     "data": {
      "text/html": [
       "\n",
       "  <div>\n",
       "    <div id='uuid-edae5605-d0aa-4904-b9e7-3221d1537267'></div>\n",
       "    <script>\n",
       "    requirejs.config({\n",
       "      baseUrl: 'https://cdn.jsdelivr.net/npm/',\n",
       "      paths: {\n",
       "        'vega-embed':  'vega-embed@6.12.2?noext',\n",
       "        'vega-lib': 'vega-lib?noext',\n",
       "        'vega-lite': 'vega-lite@4.17.0?noext',\n",
       "        'vega': 'vega@5.17.0?noext'\n",
       "      }\n",
       "    });\n",
       "    require(['vega-embed'], function(vegaEmbed) {\n",
       "      let spec = {\"width\":800,\"height\":500,\"data\":{\"values\":[{\"date\":\"1980-12-18\",\"plot\":\"sharpe ratio\",\"pnl-pt\":6714.488515561781,\"sharpe\":1.4142135623730951,\"tot-val\":106714.48851556178,\"vol\":4.59525719666563},{\"date\":\"1981-12-21\",\"plot\":\"sharpe ratio\",\"pnl-pt\":2166.530092202389,\"sharpe\":1.6942617242788571,\"tot-val\":106499.59027660717,\"vol\":3.716719269732849},{\"date\":\"1982-12-20\",\"plot\":\"sharpe ratio\",\"pnl-pt\":1702.2315382444735,\"sharpe\":2.3206503585415676,\"tot-val\":108511.15769122237,\"vol\":3.5198244004457804},{\"date\":\"1983-12-19\",\"plot\":\"sharpe ratio\",\"pnl-pt\":95.20833333333333,\"sharpe\":0.08793213514162071,\"tot-val\":100571.25,\"vol\":6.478002081611551}]},\"encoding\":{\"x\":{\"field\":\"date\",\"type\":\"temporal\"},\"y\":{\"field\":\"sharpe\",\"type\":\"quantitative\"},\"color\":{\"field\":\"plot\",\"type\":\"nominal\"}},\"mark\":\"line\"};\n",
       "      vegaEmbed('#uuid-edae5605-d0aa-4904-b9e7-3221d1537267', spec, {defaultStyle:true}).catch(console.warn);\n",
       "      }, function(err) {\n",
       "      console.log('Failed to load');\n",
       "    });\n",
       "    </script>\n",
       "  </div>\n",
       "    "
      ]
     },
     "execution_count": 38,
     "metadata": {},
     "output_type": "execute_result"
    }
   ],
   "source": [
    "(def data (deref eval-record))\n",
    "\n",
    "; Add rename legend\n",
    "(def data-to-plot\n",
    " (map #(assoc % :plot \"sharpe ratio\")\n",
    "  data))\n",
    "\n",
    "(plot data-to-plot :plot :date :sharpe false)"
   ]
  },
  {
   "cell_type": "markdown",
   "metadata": {},
   "source": [
    "### 3. Plot stock price"
   ]
  },
  {
   "cell_type": "code",
   "execution_count": 39,
   "metadata": {},
   "outputs": [
    {
     "data": {
      "text/plain": [
       "#'clojure-backtesting.demo/data"
      ]
     },
     "execution_count": 39,
     "metadata": {},
     "output_type": "execute_result"
    }
   ],
   "source": [
    "(def data (deref order-record))"
   ]
  },
  {
   "cell_type": "code",
   "execution_count": 40,
   "metadata": {},
   "outputs": [
    {
     "data": {
      "text/plain": [
       "{:date \"1980-12-19\", :tic \"IBM\", :price 64.625, :quantity 10, :count nil}"
      ]
     },
     "execution_count": 40,
     "metadata": {},
     "output_type": "execute_result"
    }
   ],
   "source": [
    "(first data)"
   ]
  },
  {
   "cell_type": "code",
   "execution_count": 41,
   "metadata": {},
   "outputs": [
    {
     "data": {
      "text/html": [
       "\n",
       "  <div>\n",
       "    <div id='uuid-93b63a75-549a-4241-8977-2eb989410fa5'></div>\n",
       "    <script>\n",
       "    requirejs.config({\n",
       "      baseUrl: 'https://cdn.jsdelivr.net/npm/',\n",
       "      paths: {\n",
       "        'vega-embed':  'vega-embed@6.12.2?noext',\n",
       "        'vega-lib': 'vega-lib?noext',\n",
       "        'vega-lite': 'vega-lite@4.17.0?noext',\n",
       "        'vega': 'vega@5.17.0?noext'\n",
       "      }\n",
       "    });\n",
       "    require(['vega-embed'], function(vegaEmbed) {\n",
       "      let spec = {\"width\":800,\"height\":500,\"data\":{\"values\":[{\"date\":\"1980-12-19\",\"tic\":\"IBM\",\"price\":64.625,\"quantity\":10,\"count\":null,\"plot\":\"price\"},{\"date\":\"1981-12-22\",\"tic\":\"IBM\",\"price\":56.875,\"quantity\":-10,\"count\":null,\"plot\":\"price\"},{\"date\":\"1981-12-22\",\"tic\":\"IBM\",\"price\":56.875,\"quantity\":10,\"count\":null,\"plot\":\"price\"},{\"date\":\"1982-12-21\",\"tic\":\"IBM\",\"price\":95.75,\"quantity\":-10,\"count\":null,\"plot\":\"price\"},{\"date\":\"1982-12-21\",\"tic\":\"IBM\",\"price\":95.75,\"quantity\":10,\"count\":null,\"plot\":\"price\"},{\"date\":\"1983-12-20\",\"tic\":\"IBM\",\"price\":121.75,\"quantity\":-10,\"count\":null,\"plot\":\"price\"}]},\"encoding\":{\"x\":{\"field\":\"date\",\"type\":\"temporal\"},\"y\":{\"field\":\"price\",\"type\":\"quantitative\"},\"color\":{\"field\":\"plot\",\"type\":\"nominal\"}},\"mark\":\"line\"};\n",
       "      vegaEmbed('#uuid-93b63a75-549a-4241-8977-2eb989410fa5', spec, {defaultStyle:true}).catch(console.warn);\n",
       "      }, function(err) {\n",
       "      console.log('Failed to load');\n",
       "    });\n",
       "    </script>\n",
       "  </div>\n",
       "    "
      ]
     },
     "execution_count": 41,
     "metadata": {},
     "output_type": "execute_result"
    }
   ],
   "source": [
    "; Add rename legend\n",
    "(def data-to-plot\n",
    " (map #(assoc % :plot \"price\")\n",
    "  data))\n",
    "\n",
    "(plot data-to-plot :plot :date :price false)"
   ]
  },
  {
   "cell_type": "code",
   "execution_count": null,
   "metadata": {},
   "outputs": [],
   "source": []
  }
 ],
 "metadata": {
  "kernelspec": {
   "display_name": "Clojure (backtesting_clojure)",
   "language": "clojure",
   "name": "backtesting_clojure"
  },
  "language_info": {
   "file_extension": ".clj",
   "mimetype": "text/x-clojure",
   "name": "clojure",
   "version": "1.10.1"
  }
 },
 "nbformat": 4,
 "nbformat_minor": 2
}
