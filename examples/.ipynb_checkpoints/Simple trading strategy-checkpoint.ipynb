{
 "cells": [
  {
   "cell_type": "markdown",
   "metadata": {},
   "source": [
    "### Run this in Python kernel\n",
    "\n",
    "To reset font style of output (in case it is not the default one)"
   ]
  },
  {
   "cell_type": "code",
   "execution_count": 1,
   "metadata": {},
   "outputs": [
    {
     "data": {
      "text/html": [
       "<style>\n",
       "body {\n",
       "    font-family: \"Arial\", cursive, sans-serif; # font style of application\n",
       "}\n",
       "pre {\n",
       "    font-family: \"Courier New\"; # font style of cell outputs\n",
       "}\n",
       "</style>  \n"
      ],
      "text/plain": [
       "<IPython.core.display.HTML object>"
      ]
     },
     "metadata": {},
     "output_type": "display_data"
    }
   ],
   "source": [
    "%%html\n",
    "<style>\n",
    "body {\n",
    "    font-family: \"Arial\", cursive, sans-serif; # font style of application\n",
    "}\n",
    "pre {\n",
    "    font-family: \"Courier New\"; # font style of cell outputs\n",
    "}\n",
    "</style>  "
   ]
  },
  {
   "cell_type": "markdown",
   "metadata": {},
   "source": [
    "### Run below in the backtesting_clojure kernel"
   ]
  },
  {
   "cell_type": "code",
   "execution_count": 1,
   "metadata": {},
   "outputs": [
    {
     "data": {
      "text/plain": [
       "nil"
      ]
     },
     "execution_count": 1,
     "metadata": {},
     "output_type": "execute_result"
    }
   ],
   "source": [
    "; import libraries from kernel\n",
    "(ns clojure-backtesting.demo\n",
    "  (:require [clojure.test :refer :all]\n",
    "            [oz.notebook.clojupyter :as oz]\n",
    "            [clojure-backtesting.data :refer :all]\n",
    "            [clojure-backtesting.order :refer :all]\n",
    "            [clojure-backtesting.evaluate :refer :all]\n",
    "            [clojure-backtesting.plot :refer :all]\n",
    "            [clojure-backtesting.counter :refer :all]\n",
    "            [clojure-backtesting.parameters :refer :all]\n",
    "            [clojure.string :as str]\n",
    "            [clojure.pprint :as pprint]\n",
    "            [java-time :as t]\n",
    "            [clojupyter.kernel.version :as ver]\n",
    "            [clojupyter.misc.helper :as helper]\n",
    "  ) ;; require all libriaries from core\n",
    "  (:use clojure.pprint)\n",
    ")"
   ]
  },
  {
   "cell_type": "markdown",
   "metadata": {},
   "source": [
    "### Import dataset"
   ]
  },
  {
   "cell_type": "code",
   "execution_count": 2,
   "metadata": {},
   "outputs": [],
   "source": [
    "; path to dataset = \"../resources/CRSP-extract.csv\"\n",
    "; change it to the relative to your own dataset\n",
    ";\n",
    "(reset! data-set (add-aprc (read-csv-row \"../resources/CRSP-extract.csv\")));"
   ]
  },
  {
   "cell_type": "markdown",
   "metadata": {},
   "source": [
    "### Initialise portfolio"
   ]
  },
  {
   "cell_type": "code",
   "execution_count": 3,
   "metadata": {},
   "outputs": [],
   "source": [
    ";; initialise with current date and initial capital (= $10000)\n",
    "(init-portfolio \"1980-12-16\" 10000);"
   ]
  },
  {
   "cell_type": "code",
   "execution_count": 4,
   "metadata": {},
   "outputs": [
    {
     "data": {
      "text/plain": [
       "(\"AAPL\" \"F\" \"IBM\")"
      ]
     },
     "execution_count": 4,
     "metadata": {},
     "output_type": "execute_result"
    }
   ],
   "source": [
    "(keys (deref available-tics))"
   ]
  },
  {
   "cell_type": "markdown",
   "metadata": {},
   "source": [
    "### Write a strategy\n",
    "\n",
    "The following code implements a simple trading strategy:\n",
    "\n",
    "In a timespan of 10 days (inclusive of today),\n",
    "- Buy 50 stocks of AAPL on the first day\n",
    "- Sell 10 stocks of AAPL on every other day"
   ]
  },
  {
   "cell_type": "code",
   "execution_count": 5,
   "metadata": {
    "scrolled": false
   },
   "outputs": [
    {
     "name": "stdout",
     "output_type": "stream",
     "text": [
      "Buy 50 stocks of AAPL on 1980-12-16\n",
      "Sell 10 stocks of AAPL on 1980-12-17\n",
      "Sell 10 stocks of AAPL on 1980-12-19\n",
      "Sell 10 stocks of AAPL on 1980-12-23\n",
      "Sell 10 stocks of AAPL on 1980-12-26\n",
      "Sell 10 stocks of AAPL on 1980-12-30\n",
      "Counter: 0\n"
     ]
    },
    {
     "data": {
      "text/plain": [
       "nil"
      ]
     },
     "execution_count": 5,
     "metadata": {},
     "output_type": "execute_result"
    }
   ],
   "source": [
    ";; define the \"time span\", i.e. to trade in the coming 10 days \n",
    "(def num-of-days (atom 10))                              \n",
    "\n",
    "(while (pos? @num-of-days) ;; check if num-of-days is > 0\n",
    "    (do \n",
    "        ;; write your trading strategy here\n",
    "        (if (= 10 @num-of-days) ;; check if num-of-days == 10\n",
    "            (do\n",
    "                (order \"AAPL\" 50) ; buy 50 stocks\n",
    "                (println ((fn [date] (str \"Buy 50 stocks of AAPL on \" date)) (get-date)))\n",
    "            )\n",
    "        )\n",
    "        (if (odd? @num-of-days) ;; check if num-of-days is odd\n",
    "            (do\n",
    "                (order \"AAPL\" -10) ; sell 10 stocks\n",
    "                (println ((fn [date] (str \"Sell 10 stocks of AAPL on \" date)) (get-date)))\n",
    "            )\n",
    "        )\n",
    "        \n",
    "        (update-eval-report (get-date)) ;; update the evaluation metrics every day\n",
    "        \n",
    "        ; move on to the next trading day\n",
    "        (next-date)\n",
    "        \n",
    "        ; decrement counter\n",
    "        (swap! num-of-days dec)\n",
    "    )\n",
    ")\n",
    "\n",
    "; check whether counter == 0\n",
    "(println ((fn [counter] (str \"Counter: \" counter)) @num-of-days))"
   ]
  },
  {
   "cell_type": "markdown",
   "metadata": {},
   "source": [
    "### Check order record"
   ]
  },
  {
   "cell_type": "code",
   "execution_count": 6,
   "metadata": {},
   "outputs": [
    {
     "name": "stdout",
     "output_type": "stream",
     "text": [
      "\n",
      "|      :date | :tic |  :price | :aprc | :quantity |\n",
      "|------------+------+---------+-------+-----------|\n",
      "| 1980-12-17 | AAPL | 25.9375 | 26.09 |        50 |\n",
      "| 1980-12-18 | AAPL | 26.6875 | 26.42 |       -10 |\n",
      "| 1980-12-22 | AAPL | 29.6875 | 27.67 |       -10 |\n",
      "| 1980-12-24 | AAPL | 32.5625 | 28.80 |       -10 |\n",
      "| 1980-12-29 | AAPL | 36.0625 | 30.11 |       -10 |\n",
      "| 1980-12-31 | AAPL | 34.1875 | 29.42 |       -10 |\n"
     ]
    },
    {
     "data": {
      "text/plain": [
       "nil"
      ]
     },
     "execution_count": 6,
     "metadata": {},
     "output_type": "execute_result"
    }
   ],
   "source": [
    "(pprint/print-table (deref order-record))"
   ]
  },
  {
   "cell_type": "markdown",
   "metadata": {},
   "source": [
    "### Check portfolio record"
   ]
  },
  {
   "cell_type": "code",
   "execution_count": 7,
   "metadata": {},
   "outputs": [
    {
     "name": "stdout",
     "output_type": "stream",
     "text": [
      "\n",
      "| :asset |  :price | :aprc | :quantity | :tot-val |\n",
      "|--------+---------+-------+-----------+----------|\n",
      "|   cash |     N/A |   N/A |       N/A |    10119 |\n",
      "|   AAPL | 34.1875 | 29.42 |         0 |        0 |\n"
     ]
    },
    {
     "data": {
      "text/plain": [
       "nil"
      ]
     },
     "execution_count": 7,
     "metadata": {},
     "output_type": "execute_result"
    }
   ],
   "source": [
    ";; view final portfolio\n",
    "(view-portfolio)"
   ]
  },
  {
   "cell_type": "code",
   "execution_count": 9,
   "metadata": {},
   "outputs": [
    {
     "name": "stdout",
     "output_type": "stream",
     "text": [
      "\n",
      "|      :date | :tot-value | :daily-ret | :tot-ret | :loan | :leverage |\n",
      "|------------+------------+------------+----------+-------+-----------|\n",
      "| 1980-12-16 |     $10000 |      0.00% |    0.00% | $0.00 |     0.00% |\n",
      "| 1980-12-17 |     $10000 |      0.00% |    0.00% | $0.00 |     0.00% |\n",
      "| 1980-12-18 |     $10016 |      0.00% |    0.16% | $0.00 |     0.00% |\n",
      "| 1980-12-19 |     $10043 |      0.27% |    0.44% | $0.00 |     0.00% |\n",
      "| 1980-12-22 |     $10066 |      0.00% |    0.66% | $0.00 |     0.00% |\n",
      "| 1980-12-23 |     $10081 |      0.15% |    0.81% | $0.00 |     0.00% |\n",
      "| 1980-12-24 |     $10100 |      0.00% |    1.00% | $0.00 |     0.00% |\n",
      "| 1980-12-26 |     $10122 |      0.22% |    1.22% | $0.00 |     0.00% |\n",
      "| 1980-12-29 |     $10126 |      0.00% |    1.26% | $0.00 |     0.00% |\n",
      "| 1980-12-30 |     $10123 |     -0.03% |    1.22% | $0.00 |     0.00% |\n",
      "| 1980-12-31 |     $10119 |      0.00% |    1.19% | $0.00 |     0.00% |\n"
     ]
    },
    {
     "data": {
      "text/plain": [
       "nil"
      ]
     },
     "execution_count": 9,
     "metadata": {},
     "output_type": "execute_result"
    }
   ],
   "source": [
    ";; view portfolio value and return\n",
    "(view-portfolio-record)"
   ]
  },
  {
   "cell_type": "markdown",
   "metadata": {},
   "source": [
    "### Generate evaluation report"
   ]
  },
  {
   "cell_type": "code",
   "execution_count": 11,
   "metadata": {},
   "outputs": [
    {
     "name": "stdout",
     "output_type": "stream",
     "text": [
      "\n",
      "|      :date | :pnl-pt | :sharpe | :tot-val |  :vol |\n",
      "|------------+---------+---------+----------+-------|\n",
      "| 1980-12-16 |      $0 |   0.00% |   $10000 | 0.00% |\n",
      "| 1980-12-17 |      $8 |   1.73% |   $10016 | 0.09% |\n",
      "| 1980-12-18 |      $8 |   0.00% |   $10016 | 0.00% |\n",
      "| 1980-12-19 |     $22 |   4.80% |   $10066 | 0.14% |\n",
      "| 1980-12-22 |     $22 |   5.39% |   $10066 | 0.12% |\n",
      "| 1980-12-23 |     $25 |   8.68% |   $10100 | 0.11% |\n",
      "| 1980-12-24 |     $25 |   9.13% |   $10100 | 0.11% |\n",
      "| 1980-12-26 |     $25 |  11.44% |   $10126 | 0.11% |\n",
      "| 1980-12-29 |     $25 |  11.21% |   $10126 | 0.11% |\n",
      "| 1980-12-30 |     $19 |  10.90% |   $10119 | 0.11% |\n"
     ]
    },
    {
     "data": {
      "text/plain": [
       "nil"
      ]
     },
     "execution_count": 11,
     "metadata": {},
     "output_type": "execute_result"
    }
   ],
   "source": [
    "(eval-report)"
   ]
  },
  {
   "cell_type": "markdown",
   "metadata": {},
   "source": [
    "### Plot variables\n",
    "Below are example codes that show how to plot different variables in the portfolio record / evaluation record."
   ]
  },
  {
   "cell_type": "markdown",
   "metadata": {},
   "source": [
    "### 1. Portfolio daily return"
   ]
  },
  {
   "cell_type": "code",
   "execution_count": 25,
   "metadata": {},
   "outputs": [
    {
     "data": {
      "text/plain": [
       "#'clojure-backtesting.demo/data"
      ]
     },
     "execution_count": 25,
     "metadata": {},
     "output_type": "execute_result"
    }
   ],
   "source": [
    "(def data (deref portfolio-value))"
   ]
  },
  {
   "cell_type": "code",
   "execution_count": 26,
   "metadata": {},
   "outputs": [
    {
     "data": {
      "text/plain": [
       "#'clojure-backtesting.demo/data-to-plot"
      ]
     },
     "execution_count": 26,
     "metadata": {},
     "output_type": "execute_result"
    }
   ],
   "source": [
    "; Add legend name to series\n",
    "(def data-to-plot\n",
    " (map #(assoc % :plot \"port-value\")\n",
    "  data))"
   ]
  },
  {
   "cell_type": "code",
   "execution_count": 27,
   "metadata": {},
   "outputs": [
    {
     "data": {
      "text/plain": [
       "{:date \"1980-12-16\", :tot-value 10000, :daily-ret 0.0, :tot-ret 0.0, :loan 0.0, :leverage 0.0, :plot \"port-value\"}"
      ]
     },
     "execution_count": 27,
     "metadata": {},
     "output_type": "execute_result"
    }
   ],
   "source": [
    "(first data-to-plot)"
   ]
  },
  {
   "cell_type": "code",
   "execution_count": 28,
   "metadata": {},
   "outputs": [
    {
     "data": {
      "text/html": [
       "\n",
       "  <div>\n",
       "    <div id='uuid-bb1d5bd0-a04e-4ce8-96dc-892595a0a708'></div>\n",
       "    <script>\n",
       "    requirejs.config({\n",
       "      baseUrl: 'https://cdn.jsdelivr.net/npm/',\n",
       "      paths: {\n",
       "        'vega-embed':  'vega-embed@6.12.2?noext',\n",
       "        'vega-lib': 'vega-lib?noext',\n",
       "        'vega-lite': 'vega-lite@4.17.0?noext',\n",
       "        'vega': 'vega@5.17.0?noext'\n",
       "      }\n",
       "    });\n",
       "    require(['vega-embed'], function(vegaEmbed) {\n",
       "      let spec = {\"width\":800,\"height\":500,\"data\":{\"values\":[{\"date\":\"1980-12-16\",\"tot-value\":10000,\"daily-ret\":0.0,\"tot-ret\":0.0,\"loan\":0.0,\"leverage\":0.0,\"plot\":\"port-value\"},{\"date\":\"1980-12-17\",\"tot-value\":10000.0,\"daily-ret\":0.0,\"tot-ret\":0.0,\"loan\":0.0,\"leverage\":0.0,\"plot\":\"port-value\"},{\"date\":\"1980-12-18\",\"tot-value\":10016.252245658983,\"daily-ret\":0.0,\"tot-ret\":0.001623905317643203,\"loan\":0.0,\"leverage\":0.0,\"plot\":\"port-value\"},{\"date\":\"1980-12-19\",\"tot-value\":10043.730494560075,\"daily-ret\":0.002739610142576476,\"tot-ret\":0.004363515460219679,\"loan\":0.0,\"leverage\":0.0,\"plot\":\"port-value\"},{\"date\":\"1980-12-22\",\"tot-value\":10066.292033517748,\"daily-ret\":0.0,\"tot-ret\":0.006607326812696593,\"loan\":0.0,\"leverage\":0.0,\"plot\":\"port-value\"},{\"date\":\"1980-12-23\",\"tot-value\":10081.294128104159,\"daily-ret\":0.0014892203203573074,\"tot-ret\":0.0080965471330539,\"loan\":0.0,\"leverage\":0.0,\"plot\":\"port-value\"},{\"date\":\"1980-12-24\",\"tot-value\":10100.29298419185,\"daily-ret\":0.0,\"tot-ret\":0.009979338768261164,\"loan\":0.0,\"leverage\":0.0,\"plot\":\"port-value\"},{\"date\":\"1980-12-26\",\"tot-value\":10122.768939903104,\"daily-ret\":0.002222805334803666,\"tot-ret\":0.012202144103064829,\"loan\":0.0,\"leverage\":0.0,\"plot\":\"port-value\"},{\"date\":\"1980-12-29\",\"tot-value\":10126.409283459587,\"daily-ret\":0.0,\"tot-ret\":0.012561698802573629,\"loan\":0.0,\"leverage\":0.0,\"plot\":\"port-value\"},{\"date\":\"1980-12-30\",\"tot-value\":10123.214574175161,\"daily-ret\":-3.1553270652251843E-4,\"tot-ret\":0.01224616609605111,\"loan\":0.0,\"leverage\":0.0,\"plot\":\"port-value\"},{\"date\":\"1980-12-31\",\"tot-value\":10119.507904241334,\"daily-ret\":0.0,\"tot-ret\":0.011879943619879083,\"loan\":0.0,\"leverage\":0.0,\"plot\":\"port-value\"}]},\"encoding\":{\"x\":{\"field\":\"date\",\"type\":\"temporal\"},\"y\":{\"field\":\"daily-ret\",\"type\":\"quantitative\"},\"color\":{\"field\":\"plot\",\"type\":\"nominal\"}},\"mark\":\"line\"};\n",
       "      vegaEmbed('#uuid-bb1d5bd0-a04e-4ce8-96dc-892595a0a708', spec, {defaultStyle:true}).catch(console.warn);\n",
       "      }, function(err) {\n",
       "      console.log('Failed to load');\n",
       "    });\n",
       "    </script>\n",
       "  </div>\n",
       "    "
      ]
     },
     "execution_count": 28,
     "metadata": {},
     "output_type": "execute_result"
    }
   ],
   "source": [
    "(plot data-to-plot :plot :date :daily-ret false)"
   ]
  },
  {
   "cell_type": "markdown",
   "metadata": {},
   "source": [
    "### 2. Plot volatility"
   ]
  },
  {
   "cell_type": "code",
   "execution_count": 16,
   "metadata": {},
   "outputs": [
    {
     "data": {
      "text/plain": [
       "#'clojure-backtesting.demo/data"
      ]
     },
     "execution_count": 16,
     "metadata": {},
     "output_type": "execute_result"
    }
   ],
   "source": [
    "(def data (deref eval-record))"
   ]
  },
  {
   "cell_type": "code",
   "execution_count": 17,
   "metadata": {},
   "outputs": [
    {
     "data": {
      "text/plain": [
       "{:date \"1980-12-16\", :pnl-pt 0.0, :sharpe 0.0, :tot-val 10000.0, :vol 0.0}"
      ]
     },
     "execution_count": 17,
     "metadata": {},
     "output_type": "execute_result"
    }
   ],
   "source": [
    "(first data)"
   ]
  },
  {
   "cell_type": "code",
   "execution_count": 18,
   "metadata": {},
   "outputs": [
    {
     "data": {
      "text/plain": [
       "#'clojure-backtesting.demo/data-to-plot"
      ]
     },
     "execution_count": 18,
     "metadata": {},
     "output_type": "execute_result"
    }
   ],
   "source": [
    "; Add legend name to series\n",
    "(def data-to-plot\n",
    " (map #(assoc % :plot \"volatility\")\n",
    "  data))"
   ]
  },
  {
   "cell_type": "code",
   "execution_count": 19,
   "metadata": {},
   "outputs": [
    {
     "name": "stdout",
     "output_type": "stream",
     "text": [
      "\n",
      "|      :date | :pnl-pt | :sharpe | :tot-val |  :vol |\n",
      "|------------+---------+---------+----------+-------|\n",
      "| 1980-12-16 |      $0 |   0.00% |   $10000 | 0.00% |\n",
      "| 1980-12-17 |      $8 |   1.73% |   $10016 | 0.09% |\n",
      "| 1980-12-18 |      $8 |   0.00% |   $10016 | 0.00% |\n",
      "| 1980-12-19 |     $22 |   4.80% |   $10066 | 0.14% |\n",
      "| 1980-12-22 |     $22 |   5.39% |   $10066 | 0.12% |\n",
      "| 1980-12-23 |     $25 |   8.68% |   $10100 | 0.11% |\n",
      "| 1980-12-24 |     $25 |   9.13% |   $10100 | 0.11% |\n",
      "| 1980-12-26 |     $25 |  11.44% |   $10126 | 0.11% |\n",
      "| 1980-12-29 |     $25 |  11.21% |   $10126 | 0.11% |\n",
      "| 1980-12-30 |     $19 |  10.90% |   $10119 | 0.11% |\n"
     ]
    },
    {
     "data": {
      "text/plain": [
       "nil"
      ]
     },
     "execution_count": 19,
     "metadata": {},
     "output_type": "execute_result"
    }
   ],
   "source": [
    "(eval-report)"
   ]
  },
  {
   "cell_type": "code",
   "execution_count": 20,
   "metadata": {},
   "outputs": [
    {
     "data": {
      "text/html": [
       "\n",
       "  <div>\n",
       "    <div id='uuid-e868c3d5-1e07-4442-8367-0aaeba60697e'></div>\n",
       "    <script>\n",
       "    requirejs.config({\n",
       "      baseUrl: 'https://cdn.jsdelivr.net/npm/',\n",
       "      paths: {\n",
       "        'vega-embed':  'vega-embed@6.12.2?noext',\n",
       "        'vega-lib': 'vega-lib?noext',\n",
       "        'vega-lite': 'vega-lite@4.17.0?noext',\n",
       "        'vega': 'vega@5.17.0?noext'\n",
       "      }\n",
       "    });\n",
       "    require(['vega-embed'], function(vegaEmbed) {\n",
       "      let spec = {\"width\":800,\"height\":500,\"data\":{\"values\":[{\"date\":\"1980-12-16\",\"plot\":\"volatility\",\"pnl-pt\":0.0,\"sharpe\":0.0,\"tot-val\":10000.0,\"vol\":0.0},{\"date\":\"1980-12-17\",\"plot\":\"volatility\",\"pnl-pt\":8.126122829491578,\"sharpe\":1.7320508075688774,\"tot-val\":10016.252245658983,\"vol\":0.09375621722797678},{\"date\":\"1980-12-18\",\"plot\":\"volatility\",\"pnl-pt\":8.126122829491578,\"sharpe\":0.0,\"tot-val\":10016.252245658983,\"vol\":0.0},{\"date\":\"1980-12-19\",\"plot\":\"volatility\",\"pnl-pt\":22.097344505915924,\"sharpe\":4.801915234727219,\"tot-val\":10066.292033517748,\"vol\":0.13759773943764614},{\"date\":\"1980-12-22\",\"plot\":\"volatility\",\"pnl-pt\":22.097344505915924,\"sharpe\":5.392895752989122,\"tot-val\":10066.292033517748,\"vol\":0.12251909021297784},{\"date\":\"1980-12-23\",\"plot\":\"volatility\",\"pnl-pt\":25.073246047962584,\"sharpe\":8.679241398031385,\"tot-val\":10100.29298419185,\"vol\":0.11497938944899798},{\"date\":\"1980-12-24\",\"plot\":\"volatility\",\"pnl-pt\":25.073246047962584,\"sharpe\":9.129825373460262,\"tot-val\":10100.29298419185,\"vol\":0.10930481537215787},{\"date\":\"1980-12-26\",\"plot\":\"volatility\",\"pnl-pt\":25.281856691917348,\"sharpe\":11.444176244946057,\"tot-val\":10126.409283459587,\"vol\":0.1097649890538962},{\"date\":\"1980-12-29\",\"plot\":\"volatility\",\"pnl-pt\":25.281856691917348,\"sharpe\":11.213534641625635,\"tot-val\":10126.409283459587,\"vol\":0.11202265123383566},{\"date\":\"1980-12-30\",\"plot\":\"volatility\",\"pnl-pt\":19.91798404022241,\"sharpe\":10.903490883341496,\"tot-val\":10119.507904241334,\"vol\":0.10895541388519364}]},\"encoding\":{\"x\":{\"field\":\"date\",\"type\":\"temporal\",\"timeUnit\":\"yearmonthdate\"},\"y\":{\"field\":\"vol\",\"type\":\"quantitative\"},\"color\":{\"field\":\"plot\",\"type\":\"nominal\"}},\"mark\":\"line\"};\n",
       "      vegaEmbed('#uuid-e868c3d5-1e07-4442-8367-0aaeba60697e', spec, {defaultStyle:true}).catch(console.warn);\n",
       "      }, function(err) {\n",
       "      console.log('Failed to load');\n",
       "    });\n",
       "    </script>\n",
       "  </div>\n",
       "    "
      ]
     },
     "execution_count": 20,
     "metadata": {},
     "output_type": "execute_result"
    }
   ],
   "source": [
    "(plot data-to-plot :plot :date :vol true)"
   ]
  },
  {
   "cell_type": "markdown",
   "metadata": {},
   "source": [
    "### 3. Plot sharpe ratio"
   ]
  },
  {
   "cell_type": "code",
   "execution_count": 21,
   "metadata": {},
   "outputs": [
    {
     "data": {
      "text/html": [
       "\n",
       "  <div>\n",
       "    <div id='uuid-bd7c0399-2ff5-4e89-8832-3fa935389698'></div>\n",
       "    <script>\n",
       "    requirejs.config({\n",
       "      baseUrl: 'https://cdn.jsdelivr.net/npm/',\n",
       "      paths: {\n",
       "        'vega-embed':  'vega-embed@6.12.2?noext',\n",
       "        'vega-lib': 'vega-lib?noext',\n",
       "        'vega-lite': 'vega-lite@4.17.0?noext',\n",
       "        'vega': 'vega@5.17.0?noext'\n",
       "      }\n",
       "    });\n",
       "    require(['vega-embed'], function(vegaEmbed) {\n",
       "      let spec = {\"width\":800,\"height\":500,\"data\":{\"values\":[{\"date\":\"1980-12-16\",\"plot\":\"sharpe ratio\",\"pnl-pt\":0.0,\"sharpe\":0.0,\"tot-val\":10000.0,\"vol\":0.0},{\"date\":\"1980-12-17\",\"plot\":\"sharpe ratio\",\"pnl-pt\":8.126122829491578,\"sharpe\":1.7320508075688774,\"tot-val\":10016.252245658983,\"vol\":0.09375621722797678},{\"date\":\"1980-12-18\",\"plot\":\"sharpe ratio\",\"pnl-pt\":8.126122829491578,\"sharpe\":0.0,\"tot-val\":10016.252245658983,\"vol\":0.0},{\"date\":\"1980-12-19\",\"plot\":\"sharpe ratio\",\"pnl-pt\":22.097344505915924,\"sharpe\":4.801915234727219,\"tot-val\":10066.292033517748,\"vol\":0.13759773943764614},{\"date\":\"1980-12-22\",\"plot\":\"sharpe ratio\",\"pnl-pt\":22.097344505915924,\"sharpe\":5.392895752989122,\"tot-val\":10066.292033517748,\"vol\":0.12251909021297784},{\"date\":\"1980-12-23\",\"plot\":\"sharpe ratio\",\"pnl-pt\":25.073246047962584,\"sharpe\":8.679241398031385,\"tot-val\":10100.29298419185,\"vol\":0.11497938944899798},{\"date\":\"1980-12-24\",\"plot\":\"sharpe ratio\",\"pnl-pt\":25.073246047962584,\"sharpe\":9.129825373460262,\"tot-val\":10100.29298419185,\"vol\":0.10930481537215787},{\"date\":\"1980-12-26\",\"plot\":\"sharpe ratio\",\"pnl-pt\":25.281856691917348,\"sharpe\":11.444176244946057,\"tot-val\":10126.409283459587,\"vol\":0.1097649890538962},{\"date\":\"1980-12-29\",\"plot\":\"sharpe ratio\",\"pnl-pt\":25.281856691917348,\"sharpe\":11.213534641625635,\"tot-val\":10126.409283459587,\"vol\":0.11202265123383566},{\"date\":\"1980-12-30\",\"plot\":\"sharpe ratio\",\"pnl-pt\":19.91798404022241,\"sharpe\":10.903490883341496,\"tot-val\":10119.507904241334,\"vol\":0.10895541388519364}]},\"encoding\":{\"x\":{\"field\":\"date\",\"type\":\"temporal\",\"timeUnit\":\"yearmonthdate\"},\"y\":{\"field\":\"sharpe\",\"type\":\"quantitative\"},\"color\":{\"field\":\"plot\",\"type\":\"nominal\"}},\"mark\":\"line\"};\n",
       "      vegaEmbed('#uuid-bd7c0399-2ff5-4e89-8832-3fa935389698', spec, {defaultStyle:true}).catch(console.warn);\n",
       "      }, function(err) {\n",
       "      console.log('Failed to load');\n",
       "    });\n",
       "    </script>\n",
       "  </div>\n",
       "    "
      ]
     },
     "execution_count": 21,
     "metadata": {},
     "output_type": "execute_result"
    }
   ],
   "source": [
    "; Add rename legend\n",
    "(def data-to-plot\n",
    " (map #(assoc % :plot \"sharpe ratio\")\n",
    "  data))\n",
    "\n",
    "(plot data-to-plot :plot :date :sharpe true)"
   ]
  },
  {
   "cell_type": "markdown",
   "metadata": {},
   "source": [
    "### 4. Plot stock price"
   ]
  },
  {
   "cell_type": "code",
   "execution_count": 22,
   "metadata": {},
   "outputs": [
    {
     "data": {
      "text/plain": [
       "#'clojure-backtesting.demo/data"
      ]
     },
     "execution_count": 22,
     "metadata": {},
     "output_type": "execute_result"
    }
   ],
   "source": [
    "(def data (deref order-record))"
   ]
  },
  {
   "cell_type": "code",
   "execution_count": 23,
   "metadata": {},
   "outputs": [
    {
     "data": {
      "text/plain": [
       "{:date \"1980-12-17\", :tic \"AAPL\", :price 25.9375, :aprc \"26.09\", :quantity 50}"
      ]
     },
     "execution_count": 23,
     "metadata": {},
     "output_type": "execute_result"
    }
   ],
   "source": [
    "(first data)"
   ]
  },
  {
   "cell_type": "code",
   "execution_count": 24,
   "metadata": {},
   "outputs": [
    {
     "data": {
      "text/html": [
       "\n",
       "  <div>\n",
       "    <div id='uuid-6365be48-acbb-48ca-a880-1e8b18f348dc'></div>\n",
       "    <script>\n",
       "    requirejs.config({\n",
       "      baseUrl: 'https://cdn.jsdelivr.net/npm/',\n",
       "      paths: {\n",
       "        'vega-embed':  'vega-embed@6.12.2?noext',\n",
       "        'vega-lib': 'vega-lib?noext',\n",
       "        'vega-lite': 'vega-lite@4.17.0?noext',\n",
       "        'vega': 'vega@5.17.0?noext'\n",
       "      }\n",
       "    });\n",
       "    require(['vega-embed'], function(vegaEmbed) {\n",
       "      let spec = {\"width\":800,\"height\":500,\"data\":{\"values\":[{\"date\":\"1980-12-17\",\"tic\":\"AAPL\",\"price\":25.9375,\"aprc\":\"26.09\",\"quantity\":50,\"plot\":\"price\"},{\"date\":\"1980-12-18\",\"tic\":\"AAPL\",\"price\":26.6875,\"aprc\":\"26.42\",\"quantity\":-10,\"plot\":\"price\"},{\"date\":\"1980-12-22\",\"tic\":\"AAPL\",\"price\":29.6875,\"aprc\":\"27.67\",\"quantity\":-10,\"plot\":\"price\"},{\"date\":\"1980-12-24\",\"tic\":\"AAPL\",\"price\":32.5625,\"aprc\":\"28.80\",\"quantity\":-10,\"plot\":\"price\"},{\"date\":\"1980-12-29\",\"tic\":\"AAPL\",\"price\":36.0625,\"aprc\":\"30.11\",\"quantity\":-10,\"plot\":\"price\"},{\"date\":\"1980-12-31\",\"tic\":\"AAPL\",\"price\":34.1875,\"aprc\":\"29.42\",\"quantity\":-10,\"plot\":\"price\"}]},\"encoding\":{\"x\":{\"field\":\"date\",\"type\":\"temporal\",\"timeUnit\":\"yearmonthdate\"},\"y\":{\"field\":\"price\",\"type\":\"quantitative\"},\"color\":{\"field\":\"plot\",\"type\":\"nominal\"}},\"mark\":\"line\"};\n",
       "      vegaEmbed('#uuid-6365be48-acbb-48ca-a880-1e8b18f348dc', spec, {defaultStyle:true}).catch(console.warn);\n",
       "      }, function(err) {\n",
       "      console.log('Failed to load');\n",
       "    });\n",
       "    </script>\n",
       "  </div>\n",
       "    "
      ]
     },
     "execution_count": 24,
     "metadata": {},
     "output_type": "execute_result"
    }
   ],
   "source": [
    "; Add rename legend\n",
    "(def data-to-plot\n",
    " (map #(assoc % :plot \"price\")\n",
    "  data))\n",
    "\n",
    "(plot data-to-plot :plot :date :price true)"
   ]
  },
  {
   "cell_type": "code",
   "execution_count": null,
   "metadata": {},
   "outputs": [],
   "source": []
  }
 ],
 "metadata": {
  "kernelspec": {
   "display_name": "Clojure (backtesting_clojure)",
   "language": "clojure",
   "name": "backtesting_clojure"
  },
  "language_info": {
   "file_extension": ".clj",
   "mimetype": "text/x-clojure",
   "name": "clojure",
   "version": "1.10.1"
  }
 },
 "nbformat": 4,
 "nbformat_minor": 2
}
