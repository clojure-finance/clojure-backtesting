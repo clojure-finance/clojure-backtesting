{
 "cells": [
  {
   "cell_type": "markdown",
   "metadata": {},
   "source": [
    "### Run this in Python kernel"
   ]
  },
  {
   "cell_type": "code",
   "execution_count": 1,
   "metadata": {},
   "outputs": [
    {
     "name": "stderr",
     "output_type": "stream",
     "text": [
      "Syntax error compiling at (REPL:0:0).\n",
      "Unable to resolve symbol: %%html in this context\n",
      "Syntax error compiling at (REPL:0:0).\n",
      "Unable to resolve symbol: <style> in this context\n",
      "Syntax error compiling at (REPL:0:0).\n",
      "Unable to resolve symbol: body in this context\n",
      "Syntax error reading source at (REPL:4:17).\n",
      "Invalid token: font-family:\n"
     ]
    },
    {
     "ename": "class clojure.lang.ExceptionInfo",
     "evalue": "",
     "output_type": "error",
     "traceback": [
      "      Util.java:   221 clojure.lang.Util/runtimeException",
      "LispReader.java:   412 clojure.lang.LispReader/interpretToken",
      "LispReader.java:   305 clojure.lang.LispReader/read",
      "LispReader.java:  1398 clojure.lang.LispReader/readDelimitedList",
      "LispReader.java:  1355 clojure.lang.LispReader$MapReader/invoke",
      "LispReader.java:   285 clojure.lang.LispReader/read",
      "       core.clj:  3768 clojure.core$read/invokeStatic",
      "       core.clj:  3741 clojure.core$read/invoke",
      "       main.clj:   433 clojure.main$repl$read_eval_print__9086$fn__9087/invoke",
      "       main.clj:   432 clojure.main$repl$read_eval_print__9086/invoke",
      "       main.clj:   458 clojure.main$repl$fn__9095/invoke",
      "       main.clj:   368 clojure.main$repl/doInvoke",
      "    RestFn.java:  1523 clojure.lang.RestFn/invoke",
      "       AFn.java:    22 clojure.lang.AFn/run",
      "       AFn.java:    22 clojure.lang.AFn/run",
      "    Thread.java:   844 java.lang.Thread/run"
     ]
    }
   ],
   "source": [
    "%%html\n",
    "<style>\n",
    "body {\n",
    "    font-family: \"Arial\", cursive, sans-serif; # font style of application\n",
    "}\n",
    "pre {\n",
    "    font-family: \"Courier New\"; # font style of cell outputs\n",
    "}\n",
    "</style>  "
   ]
  },
  {
   "cell_type": "markdown",
   "metadata": {},
   "source": [
    "### Run below in the backtesting_clojure kernel"
   ]
  },
  {
   "cell_type": "code",
   "execution_count": 29,
   "metadata": {},
   "outputs": [
    {
     "data": {
      "text/plain": [
       "nil"
      ]
     },
     "execution_count": 29,
     "metadata": {},
     "output_type": "execute_result"
    }
   ],
   "source": [
    "; import libraries from kernel\n",
    "(ns clojure-backtesting.demo\n",
    "  (:require [clojure.test :refer :all]\n",
    "            [clojure-backtesting.data :refer :all]\n",
    "            [clojure-backtesting.order :refer :all]\n",
    "            [clojure-backtesting.evaluate :refer :all]\n",
    "            [clojure-backtesting.plot :refer :all]\n",
    "            [clojure-backtesting.counter :refer :all]\n",
    "            ;;[clojure-backtesting.parameters :refer :all]\n",
    "            [clojure.string :as str]\n",
    "            [clojure.pprint :as pprint]\n",
    "            [java-time :as t]\n",
    "            [clojupyter.kernel.version :as ver]\n",
    "            [clojupyter.misc.helper :as helper]\n",
    "  ) ;; require all libriaries from core\n",
    "  (:use clojure.pprint)\n",
    ")"
   ]
  },
  {
   "cell_type": "markdown",
   "metadata": {},
   "source": [
    "### Import dataset"
   ]
  },
  {
   "cell_type": "code",
   "execution_count": 30,
   "metadata": {},
   "outputs": [],
   "source": [
    "; path to dataset = \"../resources/CRSP-extract.csv\"\n",
    "; change it to the relative to your own dataset\n",
    ";\n",
    "(reset! data-set (add-aprc (read-csv-row \"../resources/CRSP-extract.csv\")));"
   ]
  },
  {
   "cell_type": "markdown",
   "metadata": {},
   "source": [
    "### Initialise portfolio"
   ]
  },
  {
   "cell_type": "code",
   "execution_count": 31,
   "metadata": {},
   "outputs": [],
   "source": [
    ";; initialise with current date and initial capital (= $10000)\n",
    "(init-portfolio \"1980-12-16\" 10000);"
   ]
  },
  {
   "cell_type": "markdown",
   "metadata": {},
   "source": [
    "### Write a strategy\n",
    "\n",
    "The following code implements a simple trading strategy:\n",
    "\n",
    "In a timespan of 10 days (inclusive of today),\n",
    "- Buy 50 stocks of AAPL on the first day\n",
    "- Sell 10 stocks of AAPL on every other day"
   ]
  },
  {
   "cell_type": "code",
   "execution_count": 32,
   "metadata": {
    "scrolled": false
   },
   "outputs": [
    {
     "name": "stdout",
     "output_type": "stream",
     "text": [
      "26.093628318359524\n",
      "Order: 1980-12-17 | AAPL | 50.\n",
      "Buy 50 stocks of AAPL on 1980-12-16\n",
      "26.4186732315392\n",
      "Order: 1980-12-18 | AAPL | -10.\n",
      "Sell 10 stocks of AAPL on 1980-12-17\n",
      "27.669667928008312\n",
      "Order: 1980-12-22 | AAPL | -10.\n",
      "Sell 10 stocks of AAPL on 1980-12-19\n",
      "28.803032950478386\n",
      "Order: 1980-12-24 | AAPL | -10.\n",
      "Sell 10 stocks of AAPL on 1980-12-23\n",
      "30.10884791386528\n",
      "Order: 1980-12-29 | AAPL | -10.\n",
      "Sell 10 stocks of AAPL on 1980-12-26\n",
      "29.41870999204002\n",
      "Order: 1980-12-31 | AAPL | -10.\n",
      "Sell 10 stocks of AAPL on 1980-12-30\n",
      "Counter: 0\n"
     ]
    },
    {
     "data": {
      "text/plain": [
       "nil"
      ]
     },
     "execution_count": 32,
     "metadata": {},
     "output_type": "execute_result"
    }
   ],
   "source": [
    ";; define the \"time span\", i.e. to trade in the coming 10 days \n",
    "(def num-of-days (atom 10))                              \n",
    "\n",
    "(while (pos? @num-of-days)\n",
    "    (do \n",
    "        ;; write your trading strategy here\n",
    "        (if (= 10 @num-of-days)\n",
    "            (do\n",
    "                (order \"AAPL\" 50) ; buy 50 stocks\n",
    "                (println ((fn [date] (str \"Buy 50 stocks of AAPL on \" date)) (get-date)))\n",
    "            )\n",
    "        )\n",
    "        (if (odd? @num-of-days)\n",
    "            (do\n",
    "                (order \"AAPL\" -10) ; sell 10 stocks\n",
    "                (println ((fn [date] (str \"Sell 10 stocks of AAPL on \" date)) (get-date)))\n",
    "            )\n",
    "        )\n",
    "        \n",
    "        (update-eval-report (get-date))\n",
    "        \n",
    "        ; move on to the next trading day\n",
    "        (next-date)\n",
    "        \n",
    "        ; decrement counter\n",
    "        (swap! num-of-days dec)\n",
    "    )\n",
    ")\n",
    "\n",
    "; check whether counter == 0\n",
    "(println ((fn [counter] (str \"Counter: \" counter)) @num-of-days))"
   ]
  },
  {
   "cell_type": "markdown",
   "metadata": {},
   "source": [
    "### Check order record"
   ]
  },
  {
   "cell_type": "code",
   "execution_count": 33,
   "metadata": {},
   "outputs": [
    {
     "name": "stdout",
     "output_type": "stream",
     "text": [
      "\n",
      "|      :date | :tic |  :price | :quantity | :reference |\n",
      "|------------+------+---------+-----------+------------|\n",
      "| 1980-12-17 | AAPL | 25.9375 |        50 |          2 |\n",
      "| 1980-12-18 | AAPL | 26.6875 |       -10 |          3 |\n",
      "| 1980-12-22 | AAPL | 29.6875 |       -10 |          5 |\n",
      "| 1980-12-24 | AAPL | 32.5625 |       -10 |          7 |\n",
      "| 1980-12-29 | AAPL | 36.0625 |       -10 |          9 |\n",
      "| 1980-12-31 | AAPL | 34.1875 |       -10 |         11 |\n"
     ]
    },
    {
     "data": {
      "text/plain": [
       "nil"
      ]
     },
     "execution_count": 33,
     "metadata": {},
     "output_type": "execute_result"
    }
   ],
   "source": [
    "(pprint/print-table (deref order-record))"
   ]
  },
  {
   "cell_type": "markdown",
   "metadata": {},
   "source": [
    "### Check portfolio record"
   ]
  },
  {
   "cell_type": "code",
   "execution_count": 34,
   "metadata": {},
   "outputs": [
    {
     "name": "stdout",
     "output_type": "stream",
     "text": [
      "\n",
      "| :asset |  :price | :aprc | :quantity | :tot-val |\n",
      "|--------+---------+-------+-----------+----------|\n",
      "|   cash |     N/A |   N/A |       N/A |    10295 |\n",
      "|   AAPL | 34.1875 | 29.42 |         0 |        0 |\n"
     ]
    },
    {
     "data": {
      "text/plain": [
       "nil"
      ]
     },
     "execution_count": 34,
     "metadata": {},
     "output_type": "execute_result"
    }
   ],
   "source": [
    ";; view final portfolio\n",
    "(view-portfolio)"
   ]
  },
  {
   "cell_type": "code",
   "execution_count": 35,
   "metadata": {},
   "outputs": [
    {
     "name": "stdout",
     "output_type": "stream",
     "text": [
      "\n",
      "|      :date | :tot-value | :daily-ret | :loan | :leverage |\n",
      "|------------+------------+------------+-------+-----------|\n",
      "| 1980-12-16 |     $10000 |      0.00% | $0.00 |     0.00% |\n",
      "| 1980-12-17 |     $10007 |      0.00% |   $nu |       nu% |\n",
      "| 1980-12-18 |     $10026 |      0.00% |   $nu |       nu% |\n",
      "| 1980-12-22 |     $10096 |      0.01% |   $nu |       nu% |\n",
      "| 1980-12-24 |     $10168 |      0.01% |   $nu |       nu% |\n",
      "| 1980-12-29 |     $10254 |      0.01% |   $nu |       nu% |\n",
      "| 1980-12-31 |     $10295 |      0.00% |   $nu |       nu% |\n"
     ]
    },
    {
     "data": {
      "text/plain": [
       "nil"
      ]
     },
     "execution_count": 35,
     "metadata": {},
     "output_type": "execute_result"
    }
   ],
   "source": [
    ";; view portfolio value and return\n",
    "(view-portfolio-record)"
   ]
  },
  {
   "cell_type": "markdown",
   "metadata": {},
   "source": [
    "### Generate evaluation report"
   ]
  },
  {
   "cell_type": "code",
   "execution_count": 36,
   "metadata": {},
   "outputs": [
    {
     "name": "stdout",
     "output_type": "stream",
     "text": [
      "\n",
      "|      :date | :pnl-pt | :ret-da | :ret-r | :ret-tot | :sharpe-e | :sharpe-r | :tot-val | :vol-e | :vol-r |\n",
      "|------------+---------+---------+--------+----------+-----------+-----------+----------+--------+--------|\n",
      "| 1980-12-16 |      $7 |   0.08% |  0.00% |    0.08% |     1.41% |     0.22% |   $10007 |  0.06% |  0.01% |\n",
      "| 1980-12-17 |     $13 |   0.19% |  0.01% |    0.27% |     2.81% |     0.45% |   $10026 |  0.10% |  0.02% |\n",
      "| 1980-12-18 |     $13 |   0.19% |  0.01% |    0.27% |     2.81% |     0.45% |   $10026 |  0.10% |  0.02% |\n",
      "| 1980-12-19 |     $32 |   0.70% |  0.00% |    0.96% |     3.07% |     0.10% |   $10096 |  0.31% |  0.05% |\n",
      "| 1980-12-22 |     $32 |   0.70% |  0.00% |    0.96% |     3.07% |     0.10% |   $10096 |  0.31% |  0.05% |\n",
      "| 1980-12-23 |     $42 |   0.71% |  0.01% |    1.67% |     4.88% |     0.11% |   $10168 |  0.34% |  0.05% |\n",
      "| 1980-12-24 |     $42 |   0.71% |  0.01% |    1.67% |     4.88% |     0.11% |   $10168 |  0.34% |  0.05% |\n",
      "| 1980-12-26 |     $50 |   0.84% |  0.01% |    2.51% |     6.80% |     0.09% |   $10254 |  0.37% |  0.06% |\n",
      "| 1980-12-29 |     $50 |   0.84% |  0.01% |    2.51% |     6.80% |     0.09% |   $10254 |  0.37% |  0.06% |\n",
      "| 1980-12-30 |     $49 |   0.40% |  0.01% |    2.91% |     8.62% |     0.10% |   $10295 |  0.34% |  0.05% |\n"
     ]
    },
    {
     "data": {
      "text/plain": [
       "nil"
      ]
     },
     "execution_count": 36,
     "metadata": {},
     "output_type": "execute_result"
    }
   ],
   "source": [
    "(eval-report)"
   ]
  },
  {
   "cell_type": "markdown",
   "metadata": {},
   "source": [
    "### Plot variables\n",
    "Below are example codes that show how to plot different variables in the portfolio record / evaluation record."
   ]
  },
  {
   "cell_type": "markdown",
   "metadata": {},
   "source": [
    "### 1. Portfolio daily return"
   ]
  },
  {
   "cell_type": "code",
   "execution_count": 37,
   "metadata": {},
   "outputs": [
    {
     "data": {
      "text/plain": [
       "#'clojure-backtesting.demo/data"
      ]
     },
     "execution_count": 37,
     "metadata": {},
     "output_type": "execute_result"
    }
   ],
   "source": [
    "(def data (deref portfolio-value))"
   ]
  },
  {
   "cell_type": "code",
   "execution_count": 38,
   "metadata": {},
   "outputs": [
    {
     "data": {
      "text/plain": [
       "#'clojure-backtesting.demo/data-to-plot"
      ]
     },
     "execution_count": 38,
     "metadata": {},
     "output_type": "execute_result"
    }
   ],
   "source": [
    "; Add legend name to series\n",
    "(def data-to-plot\n",
    " (map #(assoc % :plot \"portfolio\")\n",
    "  data))"
   ]
  },
  {
   "cell_type": "code",
   "execution_count": 39,
   "metadata": {},
   "outputs": [
    {
     "data": {
      "text/plain": [
       "{:date \"1980-12-16\", :tot-value 10000, :daily-ret 0.0, :loan 0.0, :leverage 0.0, :plot \"portfolio\"}"
      ]
     },
     "execution_count": 39,
     "metadata": {},
     "output_type": "execute_result"
    }
   ],
   "source": [
    "(first data-to-plot)"
   ]
  },
  {
   "cell_type": "code",
   "execution_count": 40,
   "metadata": {},
   "outputs": [
    {
     "data": {
      "text/html": [
       "\n",
       "  <div>\n",
       "    <div id='uuid-9f31785e-dcfb-49ec-a324-2ff8dfe084d5'></div>\n",
       "    <script>\n",
       "    requirejs.config({\n",
       "      baseUrl: 'https://cdn.jsdelivr.net/npm/',\n",
       "      paths: {\n",
       "        'vega-embed':  'vega-embed@6.12.2?noext',\n",
       "        'vega-lib': 'vega-lib?noext',\n",
       "        'vega-lite': 'vega-lite@4.17.0?noext',\n",
       "        'vega': 'vega@5.17.0?noext'\n",
       "      }\n",
       "    });\n",
       "    require(['vega-embed'], function(vegaEmbed) {\n",
       "      let spec = {\"width\":800,\"height\":500,\"data\":{\"values\":[{\"date\":\"1980-12-16\",\"tot-value\":10000,\"daily-ret\":0.0,\"loan\":0.0,\"leverage\":0.0,\"plot\":\"portfolio\"},{\"date\":\"1980-12-17\",\"tot-value\":10007.806415917976,\"daily-ret\":7.803370496319297E-4,\"plot\":\"portfolio\"},{\"date\":\"1980-12-18\",\"tot-value\":10026.746929261568,\"daily-ret\":0.0018907852508677928,\"plot\":\"portfolio\"},{\"date\":\"1980-12-22\",\"tot-value\":10096.96503784025,\"daily-ret\":0.006978672093164625,\"plot\":\"portfolio\"},{\"date\":\"1980-12-24\",\"tot-value\":10168.560659009569,\"daily-ret\":0.007065784535722363,\"plot\":\"portfolio\"},{\"date\":\"1980-12-29\",\"tot-value\":10254.213479138652,\"daily-ret\":0.008388020329870642,\"plot\":\"portfolio\"},{\"date\":\"1980-12-31\",\"tot-value\":10295.0,\"daily-ret\":0.003969648226449433,\"plot\":\"portfolio\"}]},\"encoding\":{\"x\":{\"field\":\"date\",\"type\":\"temporal\"},\"y\":{\"field\":\"daily-ret\",\"type\":\"quantitative\"},\"color\":{\"field\":\"plot\",\"type\":\"nominal\"}},\"mark\":\"line\"};\n",
       "      vegaEmbed('#uuid-9f31785e-dcfb-49ec-a324-2ff8dfe084d5', spec, {defaultStyle:true}).catch(console.warn);\n",
       "      }, function(err) {\n",
       "      console.log('Failed to load');\n",
       "    });\n",
       "    </script>\n",
       "  </div>\n",
       "    "
      ]
     },
     "execution_count": 40,
     "metadata": {},
     "output_type": "execute_result"
    }
   ],
   "source": [
    "(plot data-to-plot :plot :date :daily-ret)"
   ]
  },
  {
   "cell_type": "markdown",
   "metadata": {},
   "source": [
    "### 2. Plot volatility (expanded window)"
   ]
  },
  {
   "cell_type": "code",
   "execution_count": 41,
   "metadata": {},
   "outputs": [
    {
     "data": {
      "text/plain": [
       "#'clojure-backtesting.demo/data"
      ]
     },
     "execution_count": 41,
     "metadata": {},
     "output_type": "execute_result"
    }
   ],
   "source": [
    "(def data (deref eval-record))"
   ]
  },
  {
   "cell_type": "code",
   "execution_count": 42,
   "metadata": {},
   "outputs": [
    {
     "data": {
      "text/plain": [
       "{:date \"1980-12-16\", :pnl-pt \"$7\", :ret-da \"0.08%\", :ret-r \"0.00%\", :ret-tot \"0.08%\", :sharpe-e \"1.41%\", :sharpe-r \"0.22%\", :tot-val \"$10007\", :vol-e \"0.06%\", :vol-r \"0.01%\"}"
      ]
     },
     "execution_count": 42,
     "metadata": {},
     "output_type": "execute_result"
    }
   ],
   "source": [
    "(first data)"
   ]
  },
  {
   "cell_type": "code",
   "execution_count": 43,
   "metadata": {},
   "outputs": [
    {
     "data": {
      "text/plain": [
       "#'clojure-backtesting.demo/data-to-plot"
      ]
     },
     "execution_count": 43,
     "metadata": {},
     "output_type": "execute_result"
    }
   ],
   "source": [
    "; Add legend name to series\n",
    "(def data-to-plot\n",
    " (map #(assoc % :plot \"volatility (expanding window)\")\n",
    "  data))"
   ]
  },
  {
   "cell_type": "code",
   "execution_count": 44,
   "metadata": {},
   "outputs": [
    {
     "name": "stdout",
     "output_type": "stream",
     "text": [
      "\n",
      "|      :date | :pnl-pt | :ret-da | :ret-r | :ret-tot | :sharpe-e | :sharpe-r | :tot-val | :vol-e | :vol-r |\n",
      "|------------+---------+---------+--------+----------+-----------+-----------+----------+--------+--------|\n",
      "| 1980-12-16 |      $7 |   0.08% |  0.00% |    0.08% |     1.41% |     0.22% |   $10007 |  0.06% |  0.01% |\n",
      "| 1980-12-17 |     $13 |   0.19% |  0.01% |    0.27% |     2.81% |     0.45% |   $10026 |  0.10% |  0.02% |\n",
      "| 1980-12-18 |     $13 |   0.19% |  0.01% |    0.27% |     2.81% |     0.45% |   $10026 |  0.10% |  0.02% |\n",
      "| 1980-12-19 |     $32 |   0.70% |  0.00% |    0.96% |     3.07% |     0.10% |   $10096 |  0.31% |  0.05% |\n",
      "| 1980-12-22 |     $32 |   0.70% |  0.00% |    0.96% |     3.07% |     0.10% |   $10096 |  0.31% |  0.05% |\n",
      "| 1980-12-23 |     $42 |   0.71% |  0.01% |    1.67% |     4.88% |     0.11% |   $10168 |  0.34% |  0.05% |\n",
      "| 1980-12-24 |     $42 |   0.71% |  0.01% |    1.67% |     4.88% |     0.11% |   $10168 |  0.34% |  0.05% |\n",
      "| 1980-12-26 |     $50 |   0.84% |  0.01% |    2.51% |     6.80% |     0.09% |   $10254 |  0.37% |  0.06% |\n",
      "| 1980-12-29 |     $50 |   0.84% |  0.01% |    2.51% |     6.80% |     0.09% |   $10254 |  0.37% |  0.06% |\n",
      "| 1980-12-30 |     $49 |   0.40% |  0.01% |    2.91% |     8.62% |     0.10% |   $10295 |  0.34% |  0.05% |\n"
     ]
    },
    {
     "data": {
      "text/plain": [
       "nil"
      ]
     },
     "execution_count": 44,
     "metadata": {},
     "output_type": "execute_result"
    }
   ],
   "source": [
    "(eval-report)"
   ]
  },
  {
   "cell_type": "code",
   "execution_count": 46,
   "metadata": {},
   "outputs": [
    {
     "name": "stdout",
     "output_type": "stream",
     "text": [
      "({:date 1980-12-16, :plot volatility (expanding window), :pnl-pt $7, :ret-da 0.08%, :ret-r 0.00%, :ret-tot 0.08%, :sharpe-e 1.41%, :sharpe-r 0.22%, :tot-val $10007, :vol-e 0.06%, :vol-r 0.01%} {:date 1980-12-17, :plot volatility (expanding window), :pnl-pt $13, :ret-da 0.19%, :ret-r 0.01%, :ret-tot 0.27%, :sharpe-e 2.81%, :sharpe-r 0.45%, :tot-val $10026, :vol-e 0.10%, :vol-r 0.02%} {:date 1980-12-18, :plot volatility (expanding window), :pnl-pt $13, :ret-da 0.19%, :ret-r 0.01%, :ret-tot 0.27%, :sharpe-e 2.81%, :sharpe-r 0.45%, :tot-val $10026, :vol-e 0.10%, :vol-r 0.02%} {:date 1980-12-19, :plot volatility (expanding window), :pnl-pt $32, :ret-da 0.70%, :ret-r 0.00%, :ret-tot 0.96%, :sharpe-e 3.07%, :sharpe-r 0.10%, :tot-val $10096, :vol-e 0.31%, :vol-r 0.05%} {:date 1980-12-22, :plot volatility (expanding window), :pnl-pt $32, :ret-da 0.70%, :ret-r 0.00%, :ret-tot 0.96%, :sharpe-e 3.07%, :sharpe-r 0.10%, :tot-val $10096, :vol-e 0.31%, :vol-r 0.05%} {:date 1980-12-23, :plot volatility (expanding window), :pnl-pt $42, :ret-da 0.71%, :ret-r 0.01%, :ret-tot 1.67%, :sharpe-e 4.88%, :sharpe-r 0.11%, :tot-val $10168, :vol-e 0.34%, :vol-r 0.05%} {:date 1980-12-24, :plot volatility (expanding window), :pnl-pt $42, :ret-da 0.71%, :ret-r 0.01%, :ret-tot 1.67%, :sharpe-e 4.88%, :sharpe-r 0.11%, :tot-val $10168, :vol-e 0.34%, :vol-r 0.05%} {:date 1980-12-26, :plot volatility (expanding window), :pnl-pt $50, :ret-da 0.84%, :ret-r 0.01%, :ret-tot 2.51%, :sharpe-e 6.80%, :sharpe-r 0.09%, :tot-val $10254, :vol-e 0.37%, :vol-r 0.06%} {:date 1980-12-29, :plot volatility (expanding window), :pnl-pt $50, :ret-da 0.84%, :ret-r 0.01%, :ret-tot 2.51%, :sharpe-e 6.80%, :sharpe-r 0.09%, :tot-val $10254, :vol-e 0.37%, :vol-r 0.06%} {:date 1980-12-30, :plot volatility (expanding window), :pnl-pt $49, :ret-da 0.40%, :ret-r 0.01%, :ret-tot 2.91%, :sharpe-e 8.62%, :sharpe-r 0.10%, :tot-val $10295, :vol-e 0.34%, :vol-r 0.05%})\n"
     ]
    },
    {
     "data": {
      "text/plain": [
       "nil"
      ]
     },
     "execution_count": 46,
     "metadata": {},
     "output_type": "execute_result"
    }
   ],
   "source": [
    "(println data-to-plot)"
   ]
  },
  {
   "cell_type": "code",
   "execution_count": 45,
   "metadata": {},
   "outputs": [
    {
     "data": {
      "text/html": [
       "\n",
       "  <div>\n",
       "    <div id='uuid-eab59f36-3582-4923-b601-6c2d7b0ae547'></div>\n",
       "    <script>\n",
       "    requirejs.config({\n",
       "      baseUrl: 'https://cdn.jsdelivr.net/npm/',\n",
       "      paths: {\n",
       "        'vega-embed':  'vega-embed@6.12.2?noext',\n",
       "        'vega-lib': 'vega-lib?noext',\n",
       "        'vega-lite': 'vega-lite@4.17.0?noext',\n",
       "        'vega': 'vega@5.17.0?noext'\n",
       "      }\n",
       "    });\n",
       "    require(['vega-embed'], function(vegaEmbed) {\n",
       "      let spec = {\"width\":800,\"height\":500,\"data\":{\"values\":[{\"date\":\"1980-12-16\",\"plot\":\"volatility (expanding window)\",\"pnl-pt\":\"$7\",\"ret-da\":\"0.08%\",\"ret-r\":\"0.00%\",\"ret-tot\":\"0.08%\",\"sharpe-e\":\"1.41%\",\"sharpe-r\":\"0.22%\",\"tot-val\":\"$10007\",\"vol-e\":\"0.06%\",\"vol-r\":\"0.01%\"},{\"date\":\"1980-12-17\",\"plot\":\"volatility (expanding window)\",\"pnl-pt\":\"$13\",\"ret-da\":\"0.19%\",\"ret-r\":\"0.01%\",\"ret-tot\":\"0.27%\",\"sharpe-e\":\"2.81%\",\"sharpe-r\":\"0.45%\",\"tot-val\":\"$10026\",\"vol-e\":\"0.10%\",\"vol-r\":\"0.02%\"},{\"date\":\"1980-12-18\",\"plot\":\"volatility (expanding window)\",\"pnl-pt\":\"$13\",\"ret-da\":\"0.19%\",\"ret-r\":\"0.01%\",\"ret-tot\":\"0.27%\",\"sharpe-e\":\"2.81%\",\"sharpe-r\":\"0.45%\",\"tot-val\":\"$10026\",\"vol-e\":\"0.10%\",\"vol-r\":\"0.02%\"},{\"date\":\"1980-12-19\",\"plot\":\"volatility (expanding window)\",\"pnl-pt\":\"$32\",\"ret-da\":\"0.70%\",\"ret-r\":\"0.00%\",\"ret-tot\":\"0.96%\",\"sharpe-e\":\"3.07%\",\"sharpe-r\":\"0.10%\",\"tot-val\":\"$10096\",\"vol-e\":\"0.31%\",\"vol-r\":\"0.05%\"},{\"date\":\"1980-12-22\",\"plot\":\"volatility (expanding window)\",\"pnl-pt\":\"$32\",\"ret-da\":\"0.70%\",\"ret-r\":\"0.00%\",\"ret-tot\":\"0.96%\",\"sharpe-e\":\"3.07%\",\"sharpe-r\":\"0.10%\",\"tot-val\":\"$10096\",\"vol-e\":\"0.31%\",\"vol-r\":\"0.05%\"},{\"date\":\"1980-12-23\",\"plot\":\"volatility (expanding window)\",\"pnl-pt\":\"$42\",\"ret-da\":\"0.71%\",\"ret-r\":\"0.01%\",\"ret-tot\":\"1.67%\",\"sharpe-e\":\"4.88%\",\"sharpe-r\":\"0.11%\",\"tot-val\":\"$10168\",\"vol-e\":\"0.34%\",\"vol-r\":\"0.05%\"},{\"date\":\"1980-12-24\",\"plot\":\"volatility (expanding window)\",\"pnl-pt\":\"$42\",\"ret-da\":\"0.71%\",\"ret-r\":\"0.01%\",\"ret-tot\":\"1.67%\",\"sharpe-e\":\"4.88%\",\"sharpe-r\":\"0.11%\",\"tot-val\":\"$10168\",\"vol-e\":\"0.34%\",\"vol-r\":\"0.05%\"},{\"date\":\"1980-12-26\",\"plot\":\"volatility (expanding window)\",\"pnl-pt\":\"$50\",\"ret-da\":\"0.84%\",\"ret-r\":\"0.01%\",\"ret-tot\":\"2.51%\",\"sharpe-e\":\"6.80%\",\"sharpe-r\":\"0.09%\",\"tot-val\":\"$10254\",\"vol-e\":\"0.37%\",\"vol-r\":\"0.06%\"},{\"date\":\"1980-12-29\",\"plot\":\"volatility (expanding window)\",\"pnl-pt\":\"$50\",\"ret-da\":\"0.84%\",\"ret-r\":\"0.01%\",\"ret-tot\":\"2.51%\",\"sharpe-e\":\"6.80%\",\"sharpe-r\":\"0.09%\",\"tot-val\":\"$10254\",\"vol-e\":\"0.37%\",\"vol-r\":\"0.06%\"},{\"date\":\"1980-12-30\",\"plot\":\"volatility (expanding window)\",\"pnl-pt\":\"$49\",\"ret-da\":\"0.40%\",\"ret-r\":\"0.01%\",\"ret-tot\":\"2.91%\",\"sharpe-e\":\"8.62%\",\"sharpe-r\":\"0.10%\",\"tot-val\":\"$10295\",\"vol-e\":\"0.34%\",\"vol-r\":\"0.05%\"}]},\"encoding\":{\"x\":{\"field\":\"date\",\"type\":\"temporal\"},\"y\":{\"field\":\"vol-e\",\"type\":\"quantitative\"},\"color\":{\"field\":\"plot\",\"type\":\"nominal\"}},\"mark\":\"line\"};\n",
       "      vegaEmbed('#uuid-eab59f36-3582-4923-b601-6c2d7b0ae547', spec, {defaultStyle:true}).catch(console.warn);\n",
       "      }, function(err) {\n",
       "      console.log('Failed to load');\n",
       "    });\n",
       "    </script>\n",
       "  </div>\n",
       "    "
      ]
     },
     "execution_count": 45,
     "metadata": {},
     "output_type": "execute_result"
    }
   ],
   "source": [
    "(plot data-to-plot :plot :date :vol-e)"
   ]
  },
  {
   "cell_type": "code",
   "execution_count": null,
   "metadata": {},
   "outputs": [],
   "source": []
  }
 ],
 "metadata": {
  "kernelspec": {
   "display_name": "Clojure (backtesting_clojure)",
   "language": "clojure",
   "name": "backtesting_clojure"
  },
  "language_info": {
   "file_extension": ".clj",
   "mimetype": "text/x-clojure",
   "name": "clojure",
   "version": "1.10.1"
  }
 },
 "nbformat": 4,
 "nbformat_minor": 2
}
