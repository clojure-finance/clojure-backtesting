{
 "cells": [
  {
   "cell_type": "markdown",
   "metadata": {},
   "source": [
    "### Run this in Python kernel"
   ]
  },
  {
   "cell_type": "code",
   "execution_count": 1,
   "metadata": {},
   "outputs": [
    {
     "data": {
      "text/html": [
       "<style>\n",
       "body {\n",
       "    font-family: \"Arial\", cursive, sans-serif; # font style of application\n",
       "}\n",
       "pre {\n",
       "    font-family: \"Courier New\"; # font style of cell outputs\n",
       "}\n",
       "</style>  \n"
      ],
      "text/plain": [
       "<IPython.core.display.HTML object>"
      ]
     },
     "metadata": {},
     "output_type": "display_data"
    }
   ],
   "source": [
    "%%html\n",
    "<style>\n",
    "body {\n",
    "    font-family: \"Arial\", cursive, sans-serif; # font style of application\n",
    "}\n",
    "pre {\n",
    "    font-family: \"Courier New\"; # font style of cell outputs\n",
    "}\n",
    "</style>  "
   ]
  },
  {
   "cell_type": "markdown",
   "metadata": {},
   "source": [
    "### Run below in the backtesting_clojure kernel"
   ]
  },
  {
   "cell_type": "code",
   "execution_count": 1,
   "metadata": {},
   "outputs": [
    {
     "data": {
      "text/plain": [
       "nil"
      ]
     },
     "execution_count": 1,
     "metadata": {},
     "output_type": "execute_result"
    }
   ],
   "source": [
    "; import libraries from kernel\n",
    "(ns clojure-backtesting.demo\n",
    "  (:require [clojure.test :refer :all]\n",
    "            [clojure-backtesting.data :refer :all]\n",
    "            [clojure-backtesting.order :refer :all]\n",
    "            [clojure-backtesting.evaluate :refer :all]\n",
    "            [clojure-backtesting.plot :refer :all]\n",
    "            [clojure-backtesting.counter :refer :all]\n",
    "            ;;[clojure-backtesting.parameters :refer :all]\n",
    "            [clojure.string :as str]\n",
    "            [clojure.pprint :as pprint]\n",
    "            [java-time :as t]\n",
    "            [clojupyter.kernel.version :as ver]\n",
    "            [clojupyter.misc.helper :as helper]\n",
    "  ) ;; require all libriaries from core\n",
    "  (:use clojure.pprint)\n",
    ")"
   ]
  },
  {
   "cell_type": "markdown",
   "metadata": {},
   "source": [
    "### Import dataset"
   ]
  },
  {
   "cell_type": "code",
   "execution_count": 2,
   "metadata": {},
   "outputs": [],
   "source": [
    "; path to dataset = \"../resources/CRSP-extract.csv\"\n",
    "; change it to the relative to your own dataset\n",
    ";\n",
    "(reset! data-set (add-aprc (read-csv-row \"../resources/CRSP-extract.csv\")));"
   ]
  },
  {
   "cell_type": "markdown",
   "metadata": {},
   "source": [
    "### Initialise portfolio"
   ]
  },
  {
   "cell_type": "code",
   "execution_count": 3,
   "metadata": {},
   "outputs": [],
   "source": [
    ";; initialise with current date and initial capital (= $10000)\n",
    "(init-portfolio \"1980-12-16\" 10000);"
   ]
  },
  {
   "cell_type": "markdown",
   "metadata": {},
   "source": [
    "### Write a strategy\n",
    "\n",
    "The following code implements a simple trading strategy:\n",
    "\n",
    "In a timespan of 10 days (inclusive of today),\n",
    "- Buy 50 stocks of AAPL on the first day\n",
    "- Sell 10 stocks of AAPL on every other day"
   ]
  },
  {
   "cell_type": "code",
   "execution_count": 4,
   "metadata": {
    "scrolled": false
   },
   "outputs": [
    {
     "name": "stdout",
     "output_type": "stream",
     "text": [
      "26.093628318359524\n",
      "Buy 50 stocks of AAPL on 1980-12-16\n",
      "26.4186732315392\n",
      "Sell 10 stocks of AAPL on 1980-12-17\n",
      "27.669667928008312\n",
      "Sell 10 stocks of AAPL on 1980-12-19\n",
      "28.803032950478386\n",
      "Sell 10 stocks of AAPL on 1980-12-23\n",
      "30.10884791386528\n",
      "Sell 10 stocks of AAPL on 1980-12-26\n",
      "29.41870999204002\n",
      "Sell 10 stocks of AAPL on 1980-12-30\n",
      "Counter: 0\n"
     ]
    },
    {
     "data": {
      "text/plain": [
       "nil"
      ]
     },
     "execution_count": 4,
     "metadata": {},
     "output_type": "execute_result"
    }
   ],
   "source": [
    ";; define the \"time span\", i.e. to trade in the coming 10 days \n",
    "(def num-of-days (atom 10))                              \n",
    "\n",
    "(while (pos? @num-of-days)\n",
    "    (do \n",
    "        ;; write your trading strategy here\n",
    "        (if (= 10 @num-of-days)\n",
    "            (do\n",
    "                (order \"AAPL\" 50) ; buy 50 stocks\n",
    "                (println ((fn [date] (str \"Buy 50 stocks of AAPL on \" date)) (get-date)))\n",
    "            )\n",
    "        )\n",
    "        (if (odd? @num-of-days)\n",
    "            (do\n",
    "                (order \"AAPL\" -10) ; sell 10 stocks\n",
    "                (println ((fn [date] (str \"Sell 10 stocks of AAPL on \" date)) (get-date)))\n",
    "            )\n",
    "        )\n",
    "        \n",
    "        ;(update-eval-report (get-date))\n",
    "        \n",
    "        ; move on to the next trading day\n",
    "        (next-date)\n",
    "        \n",
    "        ; decrement counter\n",
    "        (swap! num-of-days dec)\n",
    "    )\n",
    ")\n",
    "\n",
    "; check whether counter == 0\n",
    "(println ((fn [counter] (str \"Counter: \" counter)) @num-of-days))"
   ]
  },
  {
   "cell_type": "markdown",
   "metadata": {},
   "source": [
    "### New way of using order"
   ]
  },
  {
   "cell_type": "code",
   "execution_count": null,
   "metadata": {},
   "outputs": [],
   "source": [
    "(order \"AAPL\" 10) ;with leverage, exact value trade\n",
    "(order \"AAPL\" 10 :leverage false) ;without leverage, exact value trade\n",
    "(order \"AAPL\" 10 :remaining true) ;with leverage, remaining value\n",
    "(order \"AAPL\" 10 :leverage false :remaining true) ;without leverage, remaining value"
   ]
  },
  {
   "cell_type": "markdown",
   "metadata": {},
   "source": [
    "### Calculating indices during the process"
   ]
  },
  {
   "cell_type": "markdown",
   "metadata": {},
   "source": [
    "#### Moving average"
   ]
  },
  {
   "cell_type": "code",
   "execution_count": null,
   "metadata": {},
   "outputs": [],
   "source": [
    "(average (map (fn [_] (Double/parseDouble (get _ :PRC))) (get-prev-n-days :PRC 10 \"AAPL\"))) ;:PRC should be replaced\n",
    "                                                                                            ; by the key"
   ]
  },
  {
   "cell_type": "markdown",
   "metadata": {},
   "source": [
    "##### An example of defining moving average"
   ]
  },
  {
   "cell_type": "code",
   "execution_count": null,
   "metadata": {},
   "outputs": [],
   "source": [
    "(defn moving-average\n",
    "    [key period tic]\n",
    "    (average (map (fn [_] (Double/parseDouble (get _ key))) (get-prev-n-days key period tic))))"
   ]
  },
  {
   "cell_type": "markdown",
   "metadata": {},
   "source": [
    "### Check order record"
   ]
  },
  {
   "cell_type": "code",
   "execution_count": 5,
   "metadata": {},
   "outputs": [
    {
     "name": "stdout",
     "output_type": "stream",
     "text": [
      "\n",
      "|      :date | :tic |  :price | :quantity | :total | :reference |\n",
      "|------------+------+---------+-----------+--------+------------|\n",
      "| 1980-12-17 | AAPL | 25.9375 |        50 |     50 |          2 |\n",
      "| 1980-12-18 | AAPL | 26.6875 |       -10 |     40 |          3 |\n",
      "| 1980-12-22 | AAPL | 29.6875 |       -10 |     30 |          5 |\n",
      "| 1980-12-24 | AAPL | 32.5625 |       -10 |     20 |          7 |\n",
      "| 1980-12-29 | AAPL | 36.0625 |       -10 |     10 |          9 |\n",
      "| 1980-12-31 | AAPL | 34.1875 |       -10 |      0 |         11 |\n"
     ]
    },
    {
     "data": {
      "text/plain": [
       "nil"
      ]
     },
     "execution_count": 5,
     "metadata": {},
     "output_type": "execute_result"
    }
   ],
   "source": [
    "(pprint/print-table (deref order-record))"
   ]
  },
  {
   "cell_type": "markdown",
   "metadata": {},
   "source": [
    "### Check portfolio record"
   ]
  },
  {
   "cell_type": "code",
   "execution_count": 6,
   "metadata": {},
   "outputs": [
    {
     "name": "stdout",
     "output_type": "stream",
     "text": [
      "\n",
      "| :asset |  :price | :aprc | :quantity | :tot-val |\n",
      "|--------+---------+-------+-----------+----------|\n",
      "|   cash |     N/A |   N/A |       N/A |    10295 |\n",
      "|   AAPL | 34.1875 | 29.42 |         0 |        0 |\n"
     ]
    },
    {
     "data": {
      "text/plain": [
       "nil"
      ]
     },
     "execution_count": 6,
     "metadata": {},
     "output_type": "execute_result"
    }
   ],
   "source": [
    ";; view final portfolio\n",
    "(view-portfolio)"
   ]
  },
  {
   "cell_type": "code",
   "execution_count": 7,
   "metadata": {},
   "outputs": [
    {
     "name": "stdout",
     "output_type": "stream",
     "text": [
      "\n",
      "|      :date | :tot-value | :daily-ret |\n",
      "|------------+------------+------------|\n",
      "| 1980-12-16 |     $10000 |      0.00% |\n",
      "| 1980-12-17 |     $10007 |      0.00% |\n",
      "| 1980-12-18 |     $10026 |      0.00% |\n",
      "| 1980-12-22 |     $10096 |      0.01% |\n",
      "| 1980-12-24 |     $10168 |      0.01% |\n",
      "| 1980-12-29 |     $10254 |      0.01% |\n",
      "| 1980-12-31 |     $10295 |      0.00% |\n"
     ]
    },
    {
     "data": {
      "text/plain": [
       "nil"
      ]
     },
     "execution_count": 7,
     "metadata": {},
     "output_type": "execute_result"
    }
   ],
   "source": [
    ";; view portfolio value and return\n",
    "(view-portfolio-record)"
   ]
  },
  {
   "cell_type": "markdown",
   "metadata": {},
   "source": [
    "### Generate evaluation report"
   ]
  },
  {
   "cell_type": "code",
   "execution_count": 8,
   "metadata": {},
   "outputs": [
    {
     "name": "stdout",
     "output_type": "stream",
     "text": [
      "\n",
      "|      :date | :pnl-pt | :ret-da | :ret-r | :ret-tot | :sharpe-e | :sharpe-r | :tot-val | :vol-e | :vol-r |\n",
      "|------------+---------+---------+--------+----------+-----------+-----------+----------+--------+--------|\n",
      "| 1980-12-16 |   $7.81 |   0.08% |  0.00% |    0.08% |     1.41% |     0.22% |   $10007 |  0.06% |  0.01% |\n",
      "| 1980-12-17 |  $13.37 |   0.19% |  0.01% |    0.27% |     2.81% |     0.45% |   $10026 |  0.10% |  0.02% |\n",
      "| 1980-12-18 |  $13.37 |   0.19% |  0.01% |    0.27% |     2.81% |     0.45% |   $10026 |  0.10% |  0.02% |\n",
      "| 1980-12-19 |  $32.32 |   0.70% |  0.00% |    0.96% |     3.07% |     0.10% |   $10096 |  0.31% |  0.05% |\n",
      "| 1980-12-22 |  $32.32 |   0.70% |  0.00% |    0.96% |     3.07% |     0.10% |   $10096 |  0.31% |  0.05% |\n",
      "| 1980-12-23 |  $42.14 |   0.71% |  0.01% |    1.67% |     4.88% |     0.11% |   $10168 |  0.34% |  0.05% |\n",
      "| 1980-12-24 |  $42.14 |   0.71% |  0.01% |    1.67% |     4.88% |     0.11% |   $10168 |  0.34% |  0.05% |\n",
      "| 1980-12-26 |  $50.84 |   0.84% |  0.01% |    2.51% |     6.80% |     0.09% |   $10254 |  0.37% |  0.06% |\n",
      "| 1980-12-29 |  $50.84 |   0.84% |  0.01% |    2.51% |     6.80% |     0.09% |   $10254 |  0.37% |  0.06% |\n",
      "| 1980-12-30 |  $49.17 |   0.40% |  0.01% |    2.91% |     8.62% |     0.10% |   $10295 |  0.34% |  0.05% |\n"
     ]
    },
    {
     "data": {
      "text/plain": [
       "nil"
      ]
     },
     "execution_count": 8,
     "metadata": {},
     "output_type": "execute_result"
    }
   ],
   "source": [
    "(eval-report)"
   ]
  },
  {
   "cell_type": "markdown",
   "metadata": {},
   "source": [
    "### Plot variables"
   ]
  },
  {
   "cell_type": "code",
   "execution_count": 9,
   "metadata": {},
   "outputs": [
    {
     "data": {
      "text/plain": [
       "#'clojure-backtesting.demo/data"
      ]
     },
     "execution_count": 9,
     "metadata": {},
     "output_type": "execute_result"
    }
   ],
   "source": [
    "(def data (deref portfolio-value))"
   ]
  },
  {
   "cell_type": "code",
   "execution_count": 10,
   "metadata": {},
   "outputs": [
    {
     "data": {
      "text/plain": [
       "{:date \"1980-12-16\", :tot-value 10000, :daily-ret 0.0}"
      ]
     },
     "execution_count": 10,
     "metadata": {},
     "output_type": "execute_result"
    }
   ],
   "source": [
    "(first data)"
   ]
  },
  {
   "cell_type": "code",
   "execution_count": 14,
   "metadata": {},
   "outputs": [
    {
     "data": {
      "text/html": [
       "\n",
       "  <div>\n",
       "    <div id='uuid-b0804724-2c48-451d-b4f1-161998376c0c'></div>\n",
       "    <script>\n",
       "    requirejs.config({\n",
       "      baseUrl: 'https://cdn.jsdelivr.net/npm/',\n",
       "      paths: {\n",
       "        'vega-embed':  'vega-embed@6.12.2?noext',\n",
       "        'vega-lib': 'vega-lib?noext',\n",
       "        'vega-lite': 'vega-lite@4.17.0?noext',\n",
       "        'vega': 'vega@5.17.0?noext'\n",
       "      }\n",
       "    });\n",
       "    require(['vega-embed'], function(vegaEmbed) {\n",
       "      let spec = {\"width\":500,\"height\":500,\"data\":{\"values\":[{\"date\":\"1980-12-16\",\"tot-value\":10000,\"daily-ret\":0.0},{\"date\":\"1980-12-17\",\"tot-value\":10007.806415917976,\"daily-ret\":7.803370496319297E-4},{\"date\":\"1980-12-18\",\"tot-value\":10026.746929261568,\"daily-ret\":0.0018907852508677928},{\"date\":\"1980-12-22\",\"tot-value\":10096.96503784025,\"daily-ret\":0.006978672093164625},{\"date\":\"1980-12-24\",\"tot-value\":10168.560659009569,\"daily-ret\":0.007065784535722363},{\"date\":\"1980-12-29\",\"tot-value\":10254.213479138652,\"daily-ret\":0.008388020329870642},{\"date\":\"1980-12-31\",\"tot-value\":10295.0,\"daily-ret\":0.003969648226449433}]},\"encoding\":{\"x\":{\"field\":\"date\",\"type\":\"temporal\"},\"y\":{\"field\":\"daily-ret\",\"type\":\"quantitative\"},\"color\":{\"field\":\"portfolio\",\"type\":\"nominal\"}},\"mark\":\"line\"};\n",
       "      vegaEmbed('#uuid-b0804724-2c48-451d-b4f1-161998376c0c', spec, {defaultStyle:true}).catch(console.warn);\n",
       "      }, function(err) {\n",
       "      console.log('Failed to load');\n",
       "    });\n",
       "    </script>\n",
       "  </div>\n",
       "    "
      ]
     },
     "execution_count": 14,
     "metadata": {},
     "output_type": "execute_result"
    }
   ],
   "source": [
    "(plot data \"portfolio\" :date :daily-ret)"
   ]
  },
  {
   "cell_type": "code",
   "execution_count": null,
   "metadata": {},
   "outputs": [],
   "source": []
  }
 ],
 "metadata": {
  "kernelspec": {
   "display_name": "Clojure (backtesting_clojure)",
   "language": "clojure",
   "name": "backtesting_clojure"
  },
  "language_info": {
   "file_extension": ".clj",
   "mimetype": "text/x-clojure",
   "name": "clojure",
   "version": "1.10.1"
  }
 },
 "nbformat": 4,
 "nbformat_minor": 2
}
