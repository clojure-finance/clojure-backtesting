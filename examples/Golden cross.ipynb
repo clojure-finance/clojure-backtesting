{
 "cells": [
  {
   "cell_type": "markdown",
   "metadata": {},
   "source": [
    "### Run this in Python kernel"
   ]
  },
  {
   "cell_type": "code",
   "execution_count": null,
   "metadata": {},
   "outputs": [],
   "source": [
    "%%html\n",
    "<style>\n",
    "body {\n",
    "    font-family: \"Arial\", cursive, sans-serif; # font style of application\n",
    "}\n",
    "pre {\n",
    "    font-family: \"Courier New\"; # font style of cell outputs\n",
    "}\n",
    "</style>  "
   ]
  },
  {
   "cell_type": "markdown",
   "metadata": {},
   "source": [
    "### Run below in the backtesting_clojure kernel"
   ]
  },
  {
   "cell_type": "code",
   "execution_count": 1,
   "metadata": {},
   "outputs": [
    {
     "data": {
      "text/plain": [
       "nil"
      ]
     },
     "execution_count": 1,
     "metadata": {},
     "output_type": "execute_result"
    }
   ],
   "source": [
    "; import libraries from kernel\n",
    "(ns clojure-backtesting.demo\n",
    "  (:require [clojure.test :refer :all]\n",
    "            [clojure-backtesting.data :refer :all]\n",
    "            [clojure-backtesting.data-management :refer :all]\n",
    "            [clojure-backtesting.order :refer :all]\n",
    "            [clojure-backtesting.evaluate :refer :all]\n",
    "            [clojure-backtesting.plot :refer :all]\n",
    "            [clojure-backtesting.counter :refer :all]\n",
    "            [clojure-backtesting.parameters :refer :all]\n",
    "            [clojure.string :as str]\n",
    "            [clojure.pprint :as pprint]\n",
    "            [java-time :as t]\n",
    "            [clojupyter.kernel.version :as ver]\n",
    "            [clojupyter.misc.helper :as helper]\n",
    "  ) ;; require all libriaries from core\n",
    "  (:use clojure.pprint)\n",
    ")"
   ]
  },
  {
   "cell_type": "markdown",
   "metadata": {},
   "source": [
    "### Import dataset"
   ]
  },
  {
   "cell_type": "code",
   "execution_count": 2,
   "metadata": {},
   "outputs": [],
   "source": [
    "; path to dataset = \"../resources/CRSP-extract.csv\"\n",
    "; change it to the relative to your own dataset\n",
    ";\n",
    "(reset! data-set (add-aprc (read-csv-row \"../resources/CRSP-extract.csv\")));"
   ]
  },
  {
   "cell_type": "markdown",
   "metadata": {},
   "source": [
    "### Initialise portfolio （Go back here everytime you want to restart.）"
   ]
  },
  {
   "cell_type": "code",
   "execution_count": 3,
   "metadata": {},
   "outputs": [],
   "source": [
    ";; initialise with current date and initial capital (= $10000)\n",
    "(init-portfolio \"1980-12-15\" 1000);"
   ]
  },
  {
   "cell_type": "markdown",
   "metadata": {},
   "source": [
    "### Write a strategy\n",
    "\n",
    "The following code implements a trading strategy called Golden Rule:\n",
    "\n",
    "MA 50 cross above the MA 200 (golden cross)\n",
    "\n",
    "MA 200 cross below the MA 50 (death cross)\n",
    "\n",
    "So in the codes, MA50 and MA200 are compared on a daily basis, if golden cross occurs, then you set a buy order; if death cross occurs, then you set a sell order first \n",
    "\n"
   ]
  },
  {
   "cell_type": "code",
   "execution_count": 4,
   "metadata": {
    "scrolled": true
   },
   "outputs": [
    {
     "name": "stderr",
     "output_type": "stream",
     "text": [
      "*Interrupted*\n"
     ]
    },
    {
     "ename": "interrupted",
     "evalue": "",
     "output_type": "error",
     "traceback": [
      "(no stacktrace)"
     ]
    }
   ],
   "source": [
    "(def MA50-vec-aapl [])\n",
    "(def MA200-vec-aapl [])\n",
    "(def MA50-vec-f [])\n",
    "(def MA200-vec-f [])\n",
    "(while (not= (get-date) \"2016-12-29\")\n",
    "    (do\n",
    "      (def tics (deref available-tics)) ;20 ms\n",
    "      (def MA50-vec-aapl (get-prev-n-days :PRC 50 \"AAPL\" MA50-vec-aapl))\n",
    "      (def MA200-vec-aapl (get-prev-n-days :PRC 200 \"AAPL\" MA200-vec-aapl))\n",
    "      (def MA50-vec-f (get-prev-n-days :PRC 50 \"F\" MA50-vec-f ))\n",
    "      (def MA200-vec-f (get-prev-n-days :PRC 200 \"F\" MA200-vec-f))\n",
    "      (let [[MA50 MA200] [(moving-average :PRC MA50-vec-aapl) (moving-average :PRC MA200-vec-aapl)]]\n",
    "        (if (> MA50 MA200)\n",
    "          (order \"AAPL\" 1 :print false) \n",
    "          (order \"AAPL\" 0 :remaining true))))\n",
    "      (let [[MA50 MA200] [(moving-average :PRC MA50-vec-f) (moving-average :PRC MA200-vec-f)]]\n",
    "        (if (> MA50 MA200)\n",
    "          (order \"F\" 1  :print false) \n",
    "          (order \"F\" 0 :remaining true )))\n",
    "      (next-date))\n",
    ";(update-eval-report (get-date))\n",
    "(end-order)"
   ]
  },
  {
   "cell_type": "code",
   "execution_count": 9,
   "metadata": {},
   "outputs": [
    {
     "data": {
      "text/plain": [
       "[{:date \"1980-12-15\", :tot-value 1000, :daily-ret 0.0, :tot-ret 0.0, :loan 0.0, :leverage 0.0} {:date \"1980-12-16\", :tot-value 1000.0, :daily-ret 0.0, :tot-ret 0.0, :loan 0.0, :leverage 0.0} {:date \"1980-12-17\", :tot-value 1000.0, :daily-ret 0.0, :tot-ret 0.0, :loan 0.0, :leverage 0.0} {:date \"1980-12-18\", :tot-value 1000.0, :daily-ret 0.0, :tot-ret 0.0, :loan 0.0, :leverage 0.0} {:date \"1980-12-19\", :tot-value 1000.0, :daily-ret 0.0, :tot-ret 0.0, :loan 0.0, :leverage 0.0} {:date \"1980-12-22\", :tot-value 1000.0, :daily-ret 0.0, :tot-ret 0.0, :loan 0.0, :leverage 0.0} {:date \"1980-12-23\", :tot-value 1000.0, :daily-ret 0.0, :tot-ret 0.0, :loan 0.0, :leverage 0.0} {:date \"1980-12-24\", :tot-value 1000.0, :daily-ret 0.0, :tot-ret 0.0, :loan 0.0, :leverage 0.0} {:date \"1980-12-26\", :tot-value 1000.0, :daily-ret 0.0, :tot-ret 0.0, :loan 0.0, :leverage 0.0} {:date \"1980-12-29\", :tot-value 1000.0, :daily-ret 0.0, :tot-ret 0.0, :loan 0.0, :leverage 0.0} {:date \"1980-12-30\", :tot-value 1000.0, :daily-ret 0.0, :tot-ret 0.0, :loan 0.0, :leverage 0.0} {:date \"1980-12-31\", :tot-value 1000.0, :daily-ret 0.0, :tot-ret 0.0, :loan 0.0, :leverage 0.0} {:date \"1981-01-02\", :tot-value 1000.0, :daily-ret 0.0, :tot-ret 0.0, :loan 0.0, :leverage 0.0} {:date \"1981-01-05\", :tot-value 1000.0, :daily-ret 0.0, :tot-ret 0.0, :loan 0.0, :leverage 0.0} {:date \"1981-01-06\", :tot-value 1000.0, :daily-ret 0.0, :tot-ret 0.0, :loan 0.0, :leverage 0.0} {:date \"1981-01-07\", :tot-value 1000.0, :daily-ret 0.0, :tot-ret 0.0, :loan 0.0, :leverage 0.0} {:date \"1981-01-08\", :tot-value 1000.0, :daily-ret 0.0, :tot-ret 0.0, :loan 0.0, :leverage 0.0} {:date \"1981-01-09\", :tot-value 1000.0, :daily-ret 0.0, :tot-ret 0.0, :loan 0.0, :leverage 0.0} {:date \"1981-01-12\", :tot-value 1000.0, :daily-ret 0.0, :tot-ret 0.0, :loan 0.0, :leverage 0.0} {:date \"1981-01-13\", :tot-value 1000.0, :daily-ret 0.0, :tot-ret 0.0, :loan 0.0, :leverage 0.0} {:date \"1981-01-14\", :tot-value 1000.0, :daily-ret 0.0, :tot-ret 0.0, :loan 0.0, :leverage 0.0} {:date \"1981-01-15\", :tot-value 1000.0, :daily-ret 0.0, :tot-ret 0.0, :loan 0.0, :leverage 0.0} {:date \"1981-01-16\", :tot-value 1000.0, :daily-ret 0.0, :tot-ret 0.0, :loan 0.0, :leverage 0.0} {:date \"1981-01-19\", :tot-value 1000.0, :daily-ret 0.0, :tot-ret 0.0, :loan 0.0, :leverage 0.0} {:date \"1981-01-20\", :tot-value 1000.0, :daily-ret 0.0, :tot-ret 0.0, :loan 0.0, :leverage 0.0} {:date \"1981-01-21\", :tot-value 1000.0, :daily-ret 0.0, :tot-ret 0.0, :loan 0.0, :leverage 0.0} {:date \"1981-01-22\", :tot-value 1000.0, :daily-ret 0.0, :tot-ret 0.0, :loan 0.0, :leverage 0.0} {:date \"1981-01-23\", :tot-value 1000.0, :daily-ret 0.0, :tot-ret 0.0, :loan 0.0, :leverage 0.0} {:date \"1981-01-26\", :tot-value 1000.0, :daily-ret 0.0, :tot-ret 0.0, :loan 0.0, :leverage 0.0} {:date \"1981-01-27\", :tot-value 1000.0, :daily-ret 0.0, :tot-ret 0.0, :loan 0.0, :leverage 0.0} {:date \"1981-01-28\", :tot-value 1000.0, :daily-ret 0.0, :tot-ret 0.0, :loan 0.0, :leverage 0.0} {:date \"1981-01-29\", :tot-value 1000.0, :daily-ret 0.0, :tot-ret 0.0, :loan 0.0, :leverage 0.0} {:date \"1981-01-30\", :tot-value 1000.0, :daily-ret 0.0, :tot-ret 0.0, :loan 0.0, :leverage 0.0} {:date \"1981-02-02\", :tot-value 1000.0, :daily-ret 0.0, :tot-ret 0.0, :loan 0.0, :leverage 0.0} {:date \"1981-02-03\", :tot-value 1000.0, :daily-ret 0.0, :tot-ret 0.0, :loan 0.0, :leverage 0.0} {:date \"1981-02-04\", :tot-value 1000.0, :daily-ret 0.0, :tot-ret 0.0, :loan 0.0, :leverage 0.0} {:date \"1981-02-05\", :tot-value 1000.0, :daily-ret 0.0, :tot-ret 0.0, :loan 0.0, :leverage 0.0} {:date \"1981-02-06\", :tot-value 1000.0, :daily-ret 0.0, :tot-ret 0.0, :loan 0.0, :leverage 0.0} {:date \"1981-02-09\", :tot-value 1000.0, :daily-ret 0.0, :tot-ret 0.0, :loan 0.0, :leverage 0.0} {:date \"1981-02-10\", :tot-value 1000.0, :daily-ret 0.0, :tot-ret 0.0, :loan 0.0, :leverage 0.0} {:date \"1981-02-11\", :tot-value 1000.0, :daily-ret 0.0, :tot-ret 0.0, :loan 0.0, :leverage 0.0} {:date \"1981-02-12\", :tot-value 1000.0, :daily-ret 0.0, :tot-ret 0.0, :loan 0.0, :leverage 0.0} {:date \"1981-02-13\", :tot-value 1000.0, :daily-ret 0.0, :tot-ret 0.0, :loan 0.0, :leverage 0.0} {:date \"1981-02-17\", :tot-value 1000.0, :daily-ret 0.0, :tot-ret 0.0, :loan 0.0, :leverage 0.0} {:date \"1981-02-18\", :tot-value 1000.0, :daily-ret 0.0, :tot-ret 0.0, :loan 0.0, :leverage 0.0} {:date \"1981-02-19\", :tot-value 1000.0, :daily-ret 0.0, :tot-ret 0.0, :loan 0.0, :leverage 0.0} {:date \"1981-02-20\", :tot-value 1000.0, :daily-ret 0.0, :tot-ret 0.0, :loan 0.0, :leverage 0.0} {:date \"1981-02-23\", :tot-value 1000.0, :daily-ret 0.0, :tot-ret 0.0, :loan 0.0, :leverage 0.0} {:date \"1981-02-24\", :tot-value 1000.0, :daily-ret 0.0, :tot-ret 0.0, :loan 0.0, :leverage 0.0} {:date \"1981-02-25\", :tot-value 1000.0, :daily-ret 0.0, :tot-ret 0.0, :loan 0.0, :leverage 0.0} {:date \"1981-02-26\", :tot-value 1000.0, :daily-ret 0.0, :tot-ret 0.0, :loan 0.0, :leverage 0.0} {:date \"1981-02-27\", :tot-value 1000.0, :daily-ret 0.0, :tot-ret 0.0, :loan 0.0, :leverage 0.0} {:date \"1981-03-02\", :tot-value 1001.1623358222758, :daily-ret 0.0, :tot-ret 0.0011616608329862246, :loan 0.0, :leverage 0.0} {:date \"1981-03-03\", :tot-value 1001.4012972238089, :daily-ret 0.0, :tot-ret 0.0014003163231029194, :loan 0.0, :leverage 0.0} {:date \"1981-03-04\", :tot-value 1001.0753947762607, :daily-ret 0.0, :tot-ret 0.0010748169535196527, :loan 0.0, :leverage 0.0} {:date \"1981-03-05\", :tot-value 999.7317773815636, :daily-ret 0.0, :tot-ret -2.6825859655647095E-4, :loan 0.0, :leverage 0.0} {:date \"1981-03-06\", :tot-value 1010.440886782171, :daily-ret 0.0, :tot-ret 0.010386757171852638, :loan 0.0, :leverage 0.0} {:date \"1981-03-09\", :tot-value 1022.6601350594286, :daily-ret 0.0, :tot-ret 0.022407207977614408, :loan 0.0, :leverage 0.0} {:date \"1981-03-10\", :tot-value 1007.7679682952652, :daily-ret 0.0, :tot-ret 0.007737952968081652, :loan 0.0, :leverage 0.0} {:date \"1981-03-11\", :tot-value 1006.8175231541039, :daily-ret 0.0, :tot-ret 0.006794388929016008, :loan 0.0, :leverage 0.0} {:date \"1981-03-12\", :tot-value 1014.0421032623046, :daily-ret 0.0, :tot-ret 0.013944426261914458, :loan 0.0, :leverage 0.0} {:date \"1981-03-13\", :tot-value 1016.7008354441598, :daily-ret 0.0, :tot-ret 0.014003349174303811, :leverage 0.022502683931575822, :loan 22.375} {:date \"1981-03-16\", :tot-value 1022.5223225569127, :daily-ret 0.0, :tot-ret 0.01426618598665057, :leverage 0.04603475435966838, :loan 45.0} {:date \"1981-03-17\", :tot-value 1031.9747912347402, :daily-ret 0.0, :tot-ret 0.014915292560288729, :leverage 0.07054126375327706, :loan 68.0} {:date \"1981-03-18\", :tot-value 1088.291526116839, :daily-ret 0.0, :tot-ret 0.019887505705187228, :leverage 0.0935773034522933, :loan 93.125} {:date \"1981-03-19\", :tot-value 1088.291526116839, :daily-ret 0.0, :tot-ret 0.019887505705187228, :leverage 0.12190199781793373, :loan 118.25} {:date \"1981-03-20\", :tot-value 1084.557318213891, :daily-ret 0.0, :tot-ret 0.019364432351199414, :leverage 0.15218196781027218, :loan 143.25} {:date \"1981-03-23\", :tot-value 1092.5126332921352, :daily-ret 0.0, :tot-ret 0.020697152385187666, :leverage 0.1823568141050807, :loan 168.5} {:date \"1981-03-24\", :tot-value 1067.0104214213184, :daily-ret 0.0, :tot-ret 0.01548147298720964, :leverage 0.22082116559450496, :loan 193.0} {:date \"1981-03-25\", :tot-value 1062.4648172791574, :daily-ret 0.0, :tot-ret 0.01438333630464464, :leverage 0.2572211799922739, :loan 217.375} {:date \"1981-03-26\", :tot-value 1047.985832498935, :daily-ret 0.0, :tot-ret 0.010277251104053284, :leverage 0.29924591919030386, :loan 241.375} {:date \"1981-03-27\", :tot-value 1006.672964088513, :daily-ret 0.0, :tot-ret -0.004047143814196236, :leverage 0.35615751731803946, :loan 264.375} {:date \"1981-03-30\", :tot-value 1012.153043615991, :daily-ret 0.0, :tot-ret -0.0018932377406478424, :leverage 0.3967415890029054, :loan 287.5} {:date \"1981-03-31\", :tot-value 1051.8561897257343, :daily-ret 0.0, :tot-ret 0.014295545042670376, :leverage 0.420743426370752, :loan 311.5} {:date \"1981-04-01\", :tot-value 1010.3489119031387, :daily-ret 0.0, :tot-ret -0.005641929452142388, :leverage 0.49520964717312926, :loan 334.625} {:date \"1981-04-02\", :tot-value 985.1812999394754, :daily-ret 0.0, :tot-ret -0.01999341413823537, :leverage 0.5689316650315638, :loan 357.25} {:date \"1981-04-03\", :tot-value 951.9467360114741, :daily-ret 0.0, :tot-ret -0.04271848008245779, :leverage 0.6622178478635535, :loan 379.25} {:date \"1981-04-06\", :tot-value 923.8935613965753, :daily-ret 0.0, :tot-ret -0.0656324941730209, :leverage 0.7660421145778121, :loan 400.75} {:date \"1981-04-07\", :tot-value 945.7785221966378, :daily-ret 0.0, :tot-ret -0.04671967844637165, :leverage 0.8078412589586806, :loan 422.625} {:date \"1981-04-08\", :tot-value 945.7785221966378, :daily-ret 0.0, :tot-ret -0.04671967844637165, :leverage 0.886732585414132, :loan 444.5} {:date \"1981-04-09\", :tot-value 976.7676390217248, :daily-ret 0.0, :tot-ret -0.01719930060871013, :leverage 0.9156339281456229, :loan 466.875} {:date \"1981-04-10\", :tot-value 976.7676390217243, :daily-ret 0.0, :tot-ret -0.017199300608710576, :leverage 1.003553432408624, :loan 489.25} {:date \"1981-04-13\", :tot-value 951.9622524488309, :daily-ret 0.0, :tot-ret -0.04703984397147761, :leverage 1.1600539743545226, :loan 511.25} {:date \"1981-04-14\", :tot-value 977.5667876566667, :daily-ret 0.0, :tot-ret -0.01513686719757408, :leverage 1.2020157030423366, :loan 533.625} {:date \"1981-04-15\", :tot-value 1003.7233236142906, :daily-ret 0.0, :tot-ret 0.017703588660322588, :leverage 1.2437176370861145, :loan 556.375} {:date \"1981-04-16\", :tot-value 994.7676951951489, :daily-ret 0.0, :tot-ret 0.005222439040087469, :leverage 1.39260458831039, :loan 579.0} {:date \"1981-04-20\", :tot-value 1022.3373895272643, :daily-ret 0.0, :tot-ret 0.044374888462557396, :leverage 1.4321828488230464, :loan 602.0} {:date \"1981-04-21\", :tot-value 1050.4331330225427, :daily-ret 0.0, :tot-ret 0.0842625050282513, :leverage 1.4712693427438397, :loan 625.375} {:date \"1981-04-22\", :tot-value 1079.0494124318743, :daily-ret 0.0, :tot-ret 0.1248443186523065, :leverage 1.5098584337842413, :loan 649.125} {:date \"1981-04-23\", :tot-value 1127.454302887801, :daily-ret 0.0, :tot-ret 0.18994862553474545, :leverage 1.4836295100973227, :loan 673.5} {:date \"1981-04-24\", :tot-value 1107.6712501530646, :daily-ret 0.0, :tot-ret 0.15983091792053197, :leverage 1.7013324710068343, :loan 697.625} {:date \"1981-04-27\", :tot-value 1091.352849266787, :daily-ret 0.0, :tot-ret 0.13090754251652004, :leverage 1.9487826192877813, :loan 721.25} {:date \"1981-04-28\", :tot-value 950.6134037574084, :daily-ret 0.0, :tot-ret -0.36396025441222374, :leverage 3.5842872297250583, :loan 743.25} {:date \"1981-04-29\", :tot-value 939.276867562116, :daily-ret 0.0, :tot-ret -0.41666906919349755, :leverage 4.393435515281497, :loan 765.125} {:date \"1981-04-30\", :tot-value 892.4736383223167, :daily-ret 0.0, :tot-ret -0.7960145494100754, :leverage 7.421657050292793, :loan 786.5} {:date \"1981-05-01\", :tot-value 892.4736383223167, :daily-ret 0.0, :tot-ret -0.7960145494100754, :leverage 9.549503585649166, :loan 807.875} {:date \"1981-05-04\", :tot-value 855.3111083197191, :daily-ret 0.0, :tot-ret -2.129549193976991, :leverage 31.35389634418049, :loan 828.875} {:date \"1981-05-05\", :tot-value 880.6791821218076, :daily-ret 0.0, :tot-ret -1.3163194824952136, :leverage 27.82352335961356, :loan 850.125} {:date \"1981-05-06\", :tot-value 919.2362183153118, :daily-ret 0.0, :tot-ret -0.5296861218644754, :leverage 18.35795797027927, :loan 871.75} {:date \"1981-05-07\", :tot-value 984.016803064681, :daily-ret 0.0, :tot-ret 0.1466460711007722, :leverage 9.931479119044278, :loan 894.0} {:date \"1981-05-08\", :tot-value 997.1161848428746, :daily-ret 0.0, :tot-ret 0.296736019869014, :leverage 11.34953619745982, :loan 916.375} {:date \"1981-05-11\", :tot-value 902.6429869322346, :daily-ret -0.0, :tot-ret 2.9464924068085727, :leverage -26.619966284529024, :loan 937.875} {:date \"1981-05-12\", :tot-value 944.2084180523689, :daily-ret -0.0, :tot-ret 0.16635301007416237, :leverage -61.75368783139135, :loan 959.75} {:date \"1981-05-13\", :tot-value 944.2084180523689, :daily-ret -0.0, :tot-ret 0.16635301007416237, :leverage -61.75368783139135, :loan 959.75}]"
      ]
     },
     "execution_count": 9,
     "metadata": {},
     "output_type": "execute_result"
    }
   ],
   "source": [
    ";(pprint/print-table (take 200 (deref portfolio-value)))\n",
    " (nth (deref order-record) 204)"
   ]
  },
  {
   "cell_type": "markdown",
   "metadata": {},
   "source": [
    "### Check portfolio record"
   ]
  },
  {
   "cell_type": "code",
   "execution_count": 16,
   "metadata": {},
   "outputs": [
    {
     "name": "stdout",
     "output_type": "stream",
     "text": [
      "\n",
      "| :asset | :price |  :aprc | :quantity | :tot-val |\n",
      "|--------+--------+--------+-----------+----------|\n",
      "|   cash |    N/A |    N/A |       N/A |   135759 |\n",
      "|   AAPL | 116.73 | 312.11 |        81 |    25280 |\n",
      "|      F |  14.87 | 605.11 |         0 |        0 |\n"
     ]
    },
    {
     "data": {
      "text/plain": [
       "nil"
      ]
     },
     "execution_count": 16,
     "metadata": {},
     "output_type": "execute_result"
    }
   ],
   "source": [
    ";; view final portfolio\n",
    "(view-portfolio)"
   ]
  },
  {
   "cell_type": "code",
   "execution_count": null,
   "metadata": {},
   "outputs": [],
   "source": [
    ";; view portfolio value and return\n",
    "(view-portfolio-record)"
   ]
  },
  {
   "cell_type": "markdown",
   "metadata": {},
   "source": [
    "### Generate evaluation report"
   ]
  },
  {
   "cell_type": "code",
   "execution_count": 19,
   "metadata": {},
   "outputs": [
    {
     "data": {
      "text/plain": [
       "nil"
      ]
     },
     "execution_count": 19,
     "metadata": {},
     "output_type": "execute_result"
    }
   ],
   "source": [
    "(eval-report)"
   ]
  },
  {
   "cell_type": "markdown",
   "metadata": {},
   "source": [
    "### Plot variables"
   ]
  },
  {
   "cell_type": "code",
   "execution_count": null,
   "metadata": {},
   "outputs": [],
   "source": [
    "(def data (deref portfolio-value))"
   ]
  },
  {
   "cell_type": "code",
   "execution_count": null,
   "metadata": {},
   "outputs": [],
   "source": [
    "; Add legend name to series\n",
    "(def data-to-plot\n",
    " (map #(assoc % :plot \"portfolio\")\n",
    "  data))"
   ]
  },
  {
   "cell_type": "code",
   "execution_count": null,
   "metadata": {},
   "outputs": [],
   "source": [
    "(first data-to-plot)"
   ]
  },
  {
   "cell_type": "code",
   "execution_count": null,
   "metadata": {},
   "outputs": [],
   "source": [
    "(plot data-to-plot :plot :date :daily-ret)"
   ]
  },
  {
   "cell_type": "code",
   "execution_count": null,
   "metadata": {},
   "outputs": [],
   "source": []
  }
 ],
 "metadata": {
  "kernelspec": {
   "display_name": "Clojure (backtesting_clojure)",
   "language": "clojure",
   "name": "backtesting_clojure"
  },
  "language_info": {
   "file_extension": ".clj",
   "mimetype": "text/x-clojure",
   "name": "clojure",
   "version": "1.10.1"
  }
 },
 "nbformat": 4,
 "nbformat_minor": 2
}
