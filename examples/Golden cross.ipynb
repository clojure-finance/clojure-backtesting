{
 "cells": [
  {
   "cell_type": "markdown",
   "metadata": {},
   "source": [
    "### Run this in Python kernel"
   ]
  },
  {
   "cell_type": "code",
   "execution_count": null,
   "metadata": {},
   "outputs": [],
   "source": [
    "%%html\n",
    "<style>\n",
    "body {\n",
    "    font-family: \"Arial\", cursive, sans-serif; # font style of application\n",
    "}\n",
    "pre {\n",
    "    font-family: \"Courier New\"; # font style of cell outputs\n",
    "}\n",
    "</style>  "
   ]
  },
  {
   "cell_type": "markdown",
   "metadata": {},
   "source": [
    "### Run below in the backtesting_clojure kernel"
   ]
  },
  {
   "cell_type": "code",
   "execution_count": 5,
   "metadata": {},
   "outputs": [
    {
     "data": {
      "text/plain": [
       "nil"
      ]
     },
     "execution_count": 5,
     "metadata": {},
     "output_type": "execute_result"
    }
   ],
   "source": [
    "; import libraries from kernel\n",
    "(ns clojure-backtesting.demo\n",
    "  (:require [clojure.test :refer :all]\n",
    "            [clojure-backtesting.data :refer :all]\n",
    "            [clojure-backtesting.data-management :refer :all]\n",
    "            [clojure-backtesting.order :refer :all]\n",
    "            [clojure-backtesting.evaluate :refer :all]\n",
    "            [clojure-backtesting.plot :refer :all]\n",
    "            [clojure-backtesting.counter :refer :all]\n",
    "            [clojure-backtesting.portfolio :refer :all]\n",
    "            [clojure-backtesting.parameters :refer :all]\n",
    "            [clojure-backtesting.large-data :refer :all]\n",
    "            [clojure.string :as str]\n",
    "            [clojure.pprint :as pprint]\n",
    "            [java-time :as t]\n",
    "            [clojupyter.kernel.version :as ver]\n",
    "            [clojupyter.misc.helper :as helper]\n",
    "  ) ;; require all libriaries from core\n",
    "  (:use clojure.pprint)\n",
    ")"
   ]
  },
  {
   "cell_type": "markdown",
   "metadata": {},
   "source": [
    "### Import dataset"
   ]
  },
  {
   "cell_type": "code",
   "execution_count": 6,
   "metadata": {},
   "outputs": [],
   "source": [
    "; path to dataset = \"../resources/CRSP-extract.csv\"\n",
    "; change it to the relative to your own dataset\n",
    ";\n",
    "(reset! data-set (add-aprc (read-csv-row \"../resources/CRSP-extract.csv\")));"
   ]
  },
  {
   "cell_type": "markdown",
   "metadata": {},
   "source": [
    "### Initialise portfolio （Go back here everytime you want to restart.）"
   ]
  },
  {
   "cell_type": "code",
   "execution_count": 27,
   "metadata": {},
   "outputs": [],
   "source": [
    ";; initialise with current date and initial capital (= $10000)\n",
    "(init-portfolio \"1980-12-15\" 1000);"
   ]
  },
  {
   "cell_type": "markdown",
   "metadata": {},
   "source": [
    "### Write a strategy\n",
    "\n",
    "The following code implements a trading strategy called Golden Rule:\n",
    "\n",
    "MA 50 cross above the MA 200 (golden cross)\n",
    "\n",
    "MA 50 cross below the MA 200 (death cross)\n",
    "\n",
    "So in the codes, MA50 and MA200 are compared on a daily basis, if golden cross occurs, then you set a buy order; if death cross occurs, then you set a sell order first \n",
    "\n"
   ]
  },
  {
   "cell_type": "code",
   "execution_count": 28,
   "metadata": {
    "scrolled": true
   },
   "outputs": [
    {
     "data": {
      "text/plain": [
       "nil"
      ]
     },
     "execution_count": 28,
     "metadata": {},
     "output_type": "execute_result"
    }
   ],
   "source": [
    "(def MA50-vec-aapl [])\n",
    "(def MA200-vec-aapl [])\n",
    "(def MA50-vec-f [])\n",
    "(def MA200-vec-f [])\n",
    "(while (not= (get-date) \"2000-12-26\")\n",
    "    (do\n",
    "      (def tics (deref available-tics)) ;20 ms\n",
    "      (def MA50-vec-aapl (get-prev-n-days :PRC 50 \"AAPL\" MA50-vec-aapl))\n",
    "      (def MA200-vec-aapl (get-prev-n-days :PRC 200 \"AAPL\" MA200-vec-aapl))\n",
    "      (def MA50-vec-f (get-prev-n-days :PRC 50 \"F\" MA50-vec-f ))\n",
    "      (def MA200-vec-f (get-prev-n-days :PRC 200 \"F\" MA200-vec-f))\n",
    "      (let [[MA50 MA200] [(moving-average :PRC MA50-vec-aapl) (moving-average :PRC MA200-vec-aapl)]]\n",
    "        (if (> MA50 MA200)\n",
    "          (order \"AAPL\" 1 :print false) \n",
    "          (order \"AAPL\" 0 :remaining true))))\n",
    "      (let [[MA50 MA200] [(moving-average :PRC MA50-vec-f) (moving-average :PRC MA200-vec-f)]]\n",
    "        (if (> MA50 MA200)\n",
    "          (order \"F\" 1  :print false) \n",
    "          (order \"F\" 0 :remaining true )))\n",
    "      (update-eval-report (get-date))\n",
    "      (next-date))\n",
    "(end-order)"
   ]
  },
  {
   "cell_type": "code",
   "execution_count": 12,
   "metadata": {},
   "outputs": [
    {
     "data": {
      "text/plain": [
       "2439"
      ]
     },
     "execution_count": 12,
     "metadata": {},
     "output_type": "execute_result"
    }
   ],
   "source": [
    ";(pprint/print-table (take 200 (deref portfolio-value)))\n",
    "(count (deref order-record))"
   ]
  },
  {
   "cell_type": "markdown",
   "metadata": {},
   "source": [
    "### Check portfolio record"
   ]
  },
  {
   "cell_type": "code",
   "execution_count": 13,
   "metadata": {},
   "outputs": [
    {
     "name": "stdout",
     "output_type": "stream",
     "text": [
      "\n",
      "| :asset | :price | :aprc | :quantity | :tot-val |\n",
      "|--------+--------+-------+-----------+----------|\n",
      "|   cash |    N/A |   N/A |       N/A |    15499 |\n"
     ]
    },
    {
     "data": {
      "text/plain": [
       "nil"
      ]
     },
     "execution_count": 13,
     "metadata": {},
     "output_type": "execute_result"
    }
   ],
   "source": [
    ";; view final portfolio\n",
    "(view-portfolio)"
   ]
  },
  {
   "cell_type": "code",
   "execution_count": 26,
   "metadata": {},
   "outputs": [
    {
     "name": "stdout",
     "output_type": "stream",
     "text": [
      "\n",
      "|      :date | :tot-value | :daily-ret | :tot-ret | :loan | :leverage |\n",
      "|------------+------------+------------+----------+-------+-----------|\n",
      "| 1980-12-15 |      $1000 |      0.00% |    0.00% | $0.00 |     0.00% |\n",
      "| 1981-02-27 |      $1000 |      0.00% |    0.00% | $0.00 |     0.00% |\n",
      "| 1981-03-02 |      $1001 |      0.00% |    0.05% | $0.00 |     0.00% |\n",
      "| 1981-03-03 |      $1001 |      0.00% |    0.06% | $0.00 |     0.00% |\n",
      "| 1981-03-04 |      $1001 |      0.00% |    0.05% | $0.00 |     0.00% |\n",
      "| 1981-03-05 |       $999 |      0.00% |   -0.01% | $0.00 |     0.00% |\n",
      "| 1981-03-06 |      $1010 |      0.00% |    0.45% | $0.00 |     0.00% |\n",
      "| 1981-03-09 |      $1022 |      0.00% |    0.97% | $0.00 |     0.00% |\n",
      "| 1981-03-10 |      $1007 |      0.00% |    0.34% | $0.00 |     0.00% |\n",
      "| 1981-03-11 |      $1006 |      0.00% |    0.30% | $0.00 |     0.00% |\n"
     ]
    },
    {
     "data": {
      "text/plain": [
       "nil"
      ]
     },
     "execution_count": 26,
     "metadata": {},
     "output_type": "execute_result"
    }
   ],
   "source": [
    ";; view portfolio value and return\n",
    "(view-portfolio-record 10)"
   ]
  },
  {
   "cell_type": "markdown",
   "metadata": {},
   "source": [
    "### Generate evaluation report"
   ]
  },
  {
   "cell_type": "code",
   "execution_count": 25,
   "metadata": {},
   "outputs": [
    {
     "name": "stdout",
     "output_type": "stream",
     "text": [
      "\n",
      "|      :date | :pnl-pt |      :sharpe | :tot-val |                                                                                                                                                                                                                                                                    :vol |\n",
      "|------------+---------+--------------+----------+-------------------------------------------------------------------------------------------------------------------------------------------------------------------------------------------------------------------------------------------------------------------------|\n",
      "| 1981-02-26 |      $0 |        0.00% |    $1000 |                                                                                                                                                                                                                                                                   0.00% |\n",
      "| 1981-02-27 |      $0 |     9459.33% |    $1001 |                                                                                                                                                                                                                                                                   0.00% |\n",
      "| 1981-03-02 |      $0 |   343743.93% |    $1001 |                                                                                                                                                                                                                                                                   0.00% |\n",
      "| 1981-03-03 |      $0 |   164431.76% |    $1001 |                                                                                                                                                                                                                                                                   0.00% |\n",
      "| 1981-03-04 |      $0 |    -2559.69% |     $999 |                                                                                                                                                                                                                                                                   0.00% |\n",
      "| 1981-03-05 |      $0 |     1572.58% |    $1010 |                                                                                                                                                                                                                                                                   0.00% |\n",
      "| 1981-03-06 |      $1 |     1722.89% |    $1022 |                                                                                                                                                                                                                                                                   0.00% |\n",
      "| 1981-03-09 |      $0 |      895.49% |    $1007 |                                                                                                                                                                                                                                                                   0.00% |\n",
      "| 1981-03-10 |      $0 |    18200.75% |    $1006 |                                                                                                                                                                                                                                                                   0.00% |\n",
      "| 1981-03-11 |      $0 |     9275.85% |    $1014 |                                                                                                                                                                                                                                                                   0.00% |\n",
      "| 1981-03-12 |      $0 |   243669.50% |    $1016 |                                                                                                                                                                                                                                                                   0.00% |\n",
      "| 1981-03-13 |      $1 |   565665.17% |    $1022 |                                                                                                                                                                                                                                                                   0.00% |\n",
      "| 1981-03-16 |      $1 |  2575402.65% |    $1031 |                                                                                                                                                                                                                                                                   0.00% |\n",
      "| 1981-03-17 |      $3 |    48217.00% |    $1088 |                                                                                                                                                                                                                                                                   0.00% |\n",
      "| 1981-03-18 |      $3 |   437817.61% |    $1088 |                                                                                                                                                                                                                                                                   0.00% |\n",
      "| 1981-03-19 |      $3 |   258194.62% |    $1084 |                                                                                                                                                                                                                                                                   0.00% |\n",
      "| 1981-03-20 |      $3 | 23587360.05% |    $1092 |                                                                                                                                                                                                                                                                   0.00% |\n",
      "| 1981-03-23 |      $2 |    17643.91% |    $1067 |                                                                                                                                                                                                                                                                   0.00% |\n",
      "| 1981-03-24 |      $2 |   182841.04% |    $1062 |                                                                                                                                                                                                                                                                   0.00% |\n",
      "| 1981-03-25 |      $1 |    22409.75% |    $1047 |                                                                                                                                                                                                                                                                   0.00% |\n",
      "| 1981-03-26 |      $0 |     -978.51% |    $1006 |                                                                                                                                                                                                                                                                   0.00% |\n",
      "| 1981-03-27 |      $0 |   -11151.14% |    $1012 |                                                                                                                                                                                                                                                                   0.00% |\n",
      "| 1981-03-30 |      $1 |     3113.62% |    $1051 |                                                                                                                                                                                                                                                                   0.00% |\n",
      "| 1981-03-31 |      $0 |     -792.51% |    $1010 |                                                                                                                                                                                                                                                                   0.00% |\n"
     ]
    },
    {
     "name": "stdout",
     "output_type": "stream",
     "text": [
      "| 1981-04-01 |      $0 |    -5852.08% |     $985 |                                                                                                                                                                                                                                                                   0.00% |\n",
      "| 1981-04-02 |     $-1 |    -5683.89% |     $951 |                                                                                                                                                                                                                                                                   0.00% |\n",
      "| 1981-04-03 |     $-2 |    -9319.48% |     $923 |                                                                                                                                                                                                                                                                   0.00% |\n",
      "| 1981-04-06 |     $-1 |    -6930.23% |     $945 |                                                                                                                                                                                                                                                                   0.00% |\n",
      "| 1981-04-07 |     $-1 |  -205710.12% |     $945 |                                                                                                                                                                                                                                                                   0.00% |\n",
      "| 1981-04-08 |      $0 |    -1313.48% |     $976 |                                                                                                                                                                                                                                                                   0.00% |\n",
      "| 1981-04-09 |      $0 |   -23708.87% |     $976 |                                                                                                                                                                                                                                                                   0.00% |\n",
      "| 1981-04-10 |     $-1 |    -4291.86% |     $951 |                                                                                                                                                                                                                                                                   0.00% |\n",
      "| 1981-04-13 |      $0 |    -1060.19% |     $977 |                                                                                                                                                                                                                                                                   0.00% |\n",
      "| 1981-04-14 |      $0 |     1245.42% |    $1003 |                                                                                                                                                                                                                                                                   0.00% |\n",
      "| 1981-04-15 |      $0 |     1844.51% |     $994 |                                                                                                                                                                                                                                                                   0.00% |\n",
      "| 1981-04-16 |      $0 |     2548.68% |    $1022 |                                                                                                                                                                                                                                                                   0.00% |\n",
      "| 1981-04-20 |      $1 |     4697.39% |    $1050 |                                                                                                                                                                                                                                                                   0.00% |\n",
      "| 1981-04-21 |      $1 |     7203.42% |    $1079 |                                                                                                                                                                                                                                                                   0.00% |\n",
      "| 1981-04-22 |      $2 |     4540.19% |    $1127 |                                                                                                                                                                                                                                                                   0.00% |\n",
      "| 1981-04-23 |      $2 |     7999.86% |    $1107 |                                                                                                                                                                                                                                                                   0.00% |\n",
      "| 1981-04-24 |      $1 |    10417.31% |    $1091 |                                                                                                                                                                                                                                                                   0.00% |\n",
      "| 1981-04-27 |      $0 |     -148.73% |     $950 |                                                                                                                                                                                                                                                                   0.11% |\n",
      "| 1981-04-28 |     $-1 |      -16.38% |     $939 |                                                                                                                                                                                                                                                                   1.10% |\n",
      "| 1981-04-29 |     $-2 |       -0.29% |     $892 |                                                                                                                                                                                                                                                                 119.36% |\n",
      "| 1981-04-30 |     $-1 |       -0.00% |     $892 |                                                                                                                                                                                                                                                             1393640.77% |\n",
      "| 1981-05-01 |     $-2 |       -0.00% |     $855 |                                                                                                                                                                                                                                                     190091046574505.53% |\n",
      "| 1981-05-04 |     $-2 |       -0.00% |     $880 |                                                                                                                                                                                                                                     3538180169637852000000000000000.00% |\n",
      "| 1981-05-05 |     $-1 |       -0.00% |     $919 |                                                                                                                                                                                                    1226323485337326400000000000000000000000000000000000000000000000.00% |\n",
      "| 1981-05-06 |      $0 |        0.00% |     $984 |                                                                                                                                   147379190487609020000000000000000000000000000000000000000000000000000000000000000000000000000000000000000000000000000000000000000.00% |\n",
      "| 1981-05-07 |      $0 |        0.00% |     $997 | 2129473116547347300000000000000000000000000000000000000000000000000000000000000000000000000000000000000000000000000000000000000000000000000000000000000000000000000000000000000000000000000000000000000000000000000000000000000000000000000000000000000000000000000.00% |\n"
     ]
    },
    {
     "name": "stdout",
     "output_type": "stream",
     "text": [
      "| 1981-05-08 |     $-1 |         NaN% |     $902 |                                                                                                                                                                                                                                                                    NaN% |\n",
      "| 1981-05-11 |      $0 |         NaN% |     $944 |                                                                                                                                                                                                                                                                    NaN% |\n",
      "| 1981-05-12 |      $0 |         NaN% |     $958 |                                                                                                                                                                                                                                                                    NaN% |\n",
      "| 1981-05-13 |      $0 |         NaN% |    $1029 |                                                                                                                                                                                                                                                                    NaN% |\n",
      "| 1981-05-14 |      $2 |         NaN% |    $1142 |                                                                                                                                                                                                                                                                    NaN% |\n",
      "| 1981-05-15 |      $1 |         NaN% |    $1113 |                                                                                                                                                                                                                                                                    NaN% |\n",
      "| 1981-05-18 |      $1 |         NaN% |    $1113 |                                                                                                                                                                                                                                                                    NaN% |\n",
      "| 1981-05-19 |      $1 |         NaN% |    $1068 |                                                                                                                                                                                                                                                                    NaN% |\n",
      "| 1981-05-20 |      $1 |         NaN% |    $1068 |                                                                                                                                                                                                                                                                    NaN% |\n",
      "| 1981-05-21 |      $0 |         NaN% |    $1068 |                                                                                                                                                                                                                                                                    NaN% |\n",
      "| 1981-05-22 |      $1 |         NaN% |    $1116 |                                                                                                                                                                                                                                                                    NaN% |\n",
      "| 1981-05-26 |      $1 |         NaN% |    $1084 |                                                                                                                                                                                                                                                                    NaN% |\n",
      "| 1981-05-27 |      $0 |         NaN% |    $1067 |                                                                                                                                                                                                                                                                    NaN% |\n",
      "| 1981-05-28 |      $0 |         NaN% |    $1067 |                                                                                                                                                                                                                                                                    NaN% |\n",
      "| 1981-05-29 |      $2 |         NaN% |    $1184 |                                                                                                                                                                                                                                                                    NaN% |\n",
      "| 1981-06-01 |      $1 |         NaN% |    $1100 |                                                                                                                                                                                                                                                                    NaN% |\n",
      "| 1981-06-02 |      $1 |         NaN% |    $1134 |                                                                                                                                                                                                                                                                    NaN% |\n",
      "| 1981-06-03 |      $1 |         NaN% |    $1134 |                                                                                                                                                                                                                                                                    NaN% |\n",
      "| 1981-06-04 |      $1 |         NaN% |    $1134 |                                                                                                                                                                                                                                                                    NaN% |\n",
      "| 1981-06-05 |      $1 |         NaN% |    $1134 |                                                                                                                                                                                                                                                                    NaN% |\n",
      "| 1981-06-08 |      $1 |         NaN% |    $1098 |                                                                                                                                                                                                                                                                    NaN% |\n",
      "| 1981-06-09 |      $0 |         NaN% |    $1061 |                                                                                                                                                                                                                                                                    NaN% |\n",
      "| 1981-06-10 |      $1 |         NaN% |    $1118 |                                                                                                                                                                                                                                                                    NaN% |\n",
      "| 1981-06-11 |      $1 |         NaN% |    $1118 |                                                                                                                                                                                                                                                                    NaN% |\n",
      "| 1981-06-12 |      $4 |         NaN% |    $1363 |                                                                                                                                                                                                                                                                    NaN% |\n",
      "| 1981-06-15 |      $2 |         NaN% |    $1191 |                                                                                                                                                                                                                                                                    NaN% |\n"
     ]
    },
    {
     "name": "stdout",
     "output_type": "stream",
     "text": [
      "| 1981-06-16 |      $2 |         NaN% |    $1228 |                                                                                                                                                                                                                                                                    NaN% |\n",
      "| 1981-06-17 |      $1 |         NaN% |    $1189 |                                                                                                                                                                                                                                                                    NaN% |\n",
      "| 1981-06-18 |      $1 |         NaN% |    $1145 |                                                                                                                                                                                                                                                                    NaN% |\n",
      "| 1981-06-19 |      $1 |         NaN% |    $1100 |                                                                                                                                                                                                                                                                    NaN% |\n",
      "| 1981-06-22 |      $2 |         NaN% |    $1267 |                                                                                                                                                                                                                                                                    NaN% |\n",
      "| 1981-06-23 |      $2 |         NaN% |    $1285 |                                                                                                                                                                                                                                                                    NaN% |\n",
      "| 1981-06-24 |      $1 |         NaN% |    $1183 |                                                                                                                                                                                                                                                                    NaN% |\n",
      "| 1981-06-25 |      $1 |         NaN% |    $1202 |                                                                                                                                                                                                                                                                    NaN% |\n",
      "| 1981-06-26 |      $1 |         NaN% |    $1153 |                                                                                                                                                                                                                                                                    NaN% |\n",
      "| 1981-06-29 |      $1 |         NaN% |    $1161 |                                                                                                                                                                                                                                                                    NaN% |\n",
      "| 1981-06-30 |      $0 |         NaN% |    $1093 |                                                                                                                                                                                                                                                                    NaN% |\n",
      "| 1981-07-01 |      $0 |         NaN% |    $1025 |                                                                                                                                                                                                                                                                    NaN% |\n",
      "| 1981-07-02 |     $-1 |         NaN% |     $831 |                                                                                                                                                                                                                                                                    NaN% |\n",
      "| 1981-07-06 |     $-1 |         NaN% |     $810 |                                                                                                                                                                                                                                                                    NaN% |\n",
      "| 1981-07-07 |     $-1 |         NaN% |     $794 |                                                                                                                                                                                                                                                                    NaN% |\n",
      "| 1981-07-08 |     $-1 |         NaN% |     $824 |                                                                                                                                                                                                                                                                    NaN% |\n",
      "| 1981-07-09 |     $-1 |         NaN% |     $829 |                                                                                                                                                                                                                                                                    NaN% |\n",
      "| 1981-07-10 |     $-1 |         NaN% |     $810 |                                                                                                                                                                                                                                                                    NaN% |\n",
      "| 1981-07-13 |     $-1 |         NaN% |     $822 |                                                                                                                                                                                                                                                                    NaN% |\n",
      "| 1981-07-14 |     $-1 |         NaN% |     $854 |                                                                                                                                                                                                                                                                    NaN% |\n",
      "| 1981-07-15 |     $-1 |         NaN% |     $758 |                                                                                                                                                                                                                                                                    NaN% |\n",
      "| 1981-07-16 |      $0 |         NaN% |     $872 |                                                                                                                                                                                                                                                                    NaN% |\n",
      "| 1981-07-17 |     $-1 |         NaN% |     $771 |                                                                                                                                                                                                                                                                    NaN% |\n",
      "| 1981-07-20 |     $-1 |         NaN% |     $797 |                                                                                                                                                                                                                                                                    NaN% |\n",
      "| 1981-07-21 |     $-1 |         NaN% |     $778 |                                                                                                                                                                                                                                                                    NaN% |\n",
      "| 1981-07-22 |      $0 |         NaN% |     $868 |                                                                                                                                                                                                                                                                    NaN% |\n"
     ]
    },
    {
     "name": "stdout",
     "output_type": "stream",
     "text": [
      "| 1981-07-23 |      $0 |         NaN% |     $906 |                                                                                                                                                                                                                                                                    NaN% |\n",
      "| 1981-07-24 |      $0 |         NaN% |     $904 |                                                                                                                                                                                                                                                                    NaN% |\n",
      "| 1981-07-27 |     $-1 |         NaN% |     $806 |                                                                                                                                                                                                                                                                    NaN% |\n",
      "| 1981-07-28 |     $-1 |         NaN% |     $743 |                                                                                                                                                                                                                                                                    NaN% |\n",
      "| 1981-07-29 |     $-1 |         NaN% |     $787 |                                                                                                                                                                                                                                                                    NaN% |\n",
      "| 1981-07-30 |     $-1 |         NaN% |     $792 |                                                                                                                                                                                                                                                                    NaN% |\n",
      "| 1981-07-31 |     $-1 |         NaN% |     $760 |                                                                                                                                                                                                                                                                    NaN% |\n",
      "| 1981-08-03 |     $-1 |         NaN% |     $795 |                                                                                                                                                                                                                                                                    NaN% |\n",
      "| 1981-08-04 |     $-1 |         NaN% |     $687 |                                                                                                                                                                                                                                                                    NaN% |\n",
      "| 1981-08-05 |     $-1 |         NaN% |     $687 |                                                                                                                                                                                                                                                                    NaN% |\n",
      "| 1981-08-06 |     $-2 |         NaN% |     $656 |                                                                                                                                                                                                                                                                    NaN% |\n",
      "| 1981-08-07 |     $-2 |         NaN% |     $593 |                                                                                                                                                                                                                                                                    NaN% |\n",
      "| 1981-08-10 |     $-2 |         NaN% |     $561 |                                                                                                                                                                                                                                                                    NaN% |\n",
      "| 1981-08-11 |     $-2 |         NaN% |     $593 |                                                                                                                                                                                                                                                                    NaN% |\n",
      "| 1981-08-12 |     $-2 |         NaN% |     $658 |                                                                                                                                                                                                                                                                    NaN% |\n",
      "| 1981-08-13 |     $-2 |         NaN% |     $658 |                                                                                                                                                                                                                                                                    NaN% |\n",
      "| 1981-08-14 |     $-2 |         NaN% |     $625 |                                                                                                                                                                                                                                                                    NaN% |\n",
      "| 1981-08-17 |     $-2 |         NaN% |     $558 |                                                                                                                                                                                                                                                                    NaN% |\n",
      "| 1981-08-18 |     $-2 |         NaN% |     $558 |                                                                                                                                                                                                                                                                    NaN% |\n",
      "| 1981-08-19 |     $-2 |         NaN% |     $524 |                                                                                                                                                                                                                                                                    NaN% |\n",
      "| 1981-08-20 |     $-2 |         NaN% |     $524 |                                                                                                                                                                                                                                                                    NaN% |\n",
      "| 1981-08-21 |     $-3 |         NaN% |     $454 |                                                                                                                                                                                                                                                                    NaN% |\n",
      "| 1981-08-24 |     $-3 |         NaN% |     $454 |                                                                                                                                                                                                                                                                    NaN% |\n",
      "| 1981-08-25 |     $-3 |         NaN% |     $454 |                                                                                                                                                                                                                                                                    NaN% |\n",
      "| 1981-08-26 |     $-3 |         NaN% |     $310 |                                                                                                                                                                                                                                                                    NaN% |\n",
      "| 1981-08-27 |     $-3 |         NaN% |     $383 |                                                                                                                                                                                                                                                                    NaN% |\n"
     ]
    },
    {
     "name": "stdout",
     "output_type": "stream",
     "text": [
      "| 1981-08-28 |     $-3 |         NaN% |     $310 |                                                                                                                                                                                                                                                                    NaN% |\n",
      "| 1981-08-31 |     $-3 |         NaN% |     $384 |                                                                                                                                                                                                                                                                    NaN% |\n",
      "| 1981-09-01 |     $-2 |         NaN% |     $458 |                                                                                                                                                                                                                                                                    NaN% |\n",
      "| 1981-09-02 |     $-3 |         NaN% |     $421 |                                                                                                                                                                                                                                                                    NaN% |\n",
      "| 1981-09-03 |     $-3 |         NaN% |     $421 |                                                                                                                                                                                                                                                                    NaN% |\n",
      "| 1981-09-04 |     $-3 |         NaN% |     $421 |                                                                                                                                                                                                                                                                    NaN% |\n",
      "| 1981-09-08 |     $-3 |         NaN% |     $421 |                                                                                                                                                                                                                                                                    NaN% |\n",
      "| 1981-09-09 |     $-3 |         NaN% |     $421 |                                                                                                                                                                                                                                                                    NaN% |\n",
      "| 1981-09-10 |     $-3 |         NaN% |     $421 |                                                                                                                                                                                                                                                                    NaN% |\n",
      "| 1981-09-11 |     $-3 |         NaN% |     $421 |                                                                                                                                                                                                                                                                    NaN% |\n",
      "| 1981-09-14 |     $-3 |         NaN% |     $421 |                                                                                                                                                                                                                                                                    NaN% |\n",
      "| 1981-09-15 |     $-3 |         NaN% |     $421 |                                                                                                                                                                                                                                                                    NaN% |\n",
      "| 1981-09-16 |     $-3 |         NaN% |     $421 |                                                                                                                                                                                                                                                                    NaN% |\n",
      "| 1981-09-17 |     $-3 |         NaN% |     $421 |                                                                                                                                                                                                                                                                    NaN% |\n",
      "| 1981-09-18 |     $-3 |         NaN% |     $421 |                                                                                                                                                                                                                                                                    NaN% |\n",
      "| 1981-09-21 |     $-3 |         NaN% |     $421 |                                                                                                                                                                                                                                                                    NaN% |\n",
      "| 1981-09-22 |     $-3 |         NaN% |     $421 |                                                                                                                                                                                                                                                                    NaN% |\n",
      "| 1981-09-23 |     $-3 |         NaN% |     $421 |                                                                                                                                                                                                                                                                    NaN% |\n",
      "| 1981-09-24 |     $-3 |         NaN% |     $421 |                                                                                                                                                                                                                                                                    NaN% |\n",
      "| 1981-09-25 |     $-3 |         NaN% |     $421 |                                                                                                                                                                                                                                                                    NaN% |\n",
      "| 1981-09-28 |     $-3 |         NaN% |     $421 |                                                                                                                                                                                                                                                                    NaN% |\n",
      "| 1981-09-29 |     $-3 |         NaN% |     $421 |                                                                                                                                                                                                                                                                    NaN% |\n",
      "| 1981-09-30 |     $-3 |         NaN% |     $421 |                                                                                                                                                                                                                                                                    NaN% |\n",
      "| 1981-10-01 |     $-3 |         NaN% |     $421 |                                                                                                                                                                                                                                                                    NaN% |\n",
      "| 1981-10-02 |     $-3 |         NaN% |     $421 |                                                                                                                                                                                                                                                                    NaN% |\n",
      "| 1981-10-05 |     $-3 |         NaN% |     $421 |                                                                                                                                                                                                                                                                    NaN% |\n"
     ]
    },
    {
     "name": "stdout",
     "output_type": "stream",
     "text": [
      "| 1981-10-06 |     $-3 |         NaN% |     $421 |                                                                                                                                                                                                                                                                    NaN% |\n",
      "| 1981-10-07 |     $-3 |         NaN% |     $421 |                                                                                                                                                                                                                                                                    NaN% |\n",
      "| 1981-10-08 |     $-3 |         NaN% |     $421 |                                                                                                                                                                                                                                                                    NaN% |\n",
      "| 1981-10-09 |     $-3 |         NaN% |     $421 |                                                                                                                                                                                                                                                                    NaN% |\n",
      "| 1981-10-12 |     $-3 |         NaN% |     $421 |                                                                                                                                                                                                                                                                    NaN% |\n",
      "| 1981-10-13 |     $-3 |         NaN% |     $421 |                                                                                                                                                                                                                                                                    NaN% |\n",
      "| 1981-10-14 |     $-3 |         NaN% |     $421 |                                                                                                                                                                                                                                                                    NaN% |\n",
      "| 1981-10-15 |     $-3 |         NaN% |     $421 |                                                                                                                                                                                                                                                                    NaN% |\n",
      "| 1981-10-16 |     $-3 |         NaN% |     $421 |                                                                                                                                                                                                                                                                    NaN% |\n",
      "| 1981-10-19 |     $-3 |         NaN% |     $421 |                                                                                                                                                                                                                                                                    NaN% |\n",
      "| 1981-10-20 |     $-3 |         NaN% |     $421 |                                                                                                                                                                                                                                                                    NaN% |\n",
      "| 1981-10-21 |     $-3 |         NaN% |     $421 |                                                                                                                                                                                                                                                                    NaN% |\n",
      "| 1981-10-22 |     $-3 |         NaN% |     $421 |                                                                                                                                                                                                                                                                    NaN% |\n",
      "| 1981-10-23 |     $-3 |         NaN% |     $421 |                                                                                                                                                                                                                                                                    NaN% |\n",
      "| 1981-10-26 |     $-3 |         NaN% |     $421 |                                                                                                                                                                                                                                                                    NaN% |\n",
      "| 1981-10-27 |     $-3 |         NaN% |     $421 |                                                                                                                                                                                                                                                                    NaN% |\n",
      "| 1981-10-28 |     $-3 |         NaN% |     $421 |                                                                                                                                                                                                                                                                    NaN% |\n",
      "| 1981-10-29 |     $-3 |         NaN% |     $421 |                                                                                                                                                                                                                                                                    NaN% |\n",
      "| 1981-10-30 |     $-3 |         NaN% |     $421 |                                                                                                                                                                                                                                                                    NaN% |\n",
      "| 1981-11-02 |     $-3 |         NaN% |     $421 |                                                                                                                                                                                                                                                                    NaN% |\n",
      "| 1981-11-03 |     $-3 |         NaN% |     $421 |                                                                                                                                                                                                                                                                    NaN% |\n",
      "| 1981-11-04 |     $-3 |         NaN% |     $421 |                                                                                                                                                                                                                                                                    NaN% |\n",
      "| 1981-11-05 |     $-3 |         NaN% |     $421 |                                                                                                                                                                                                                                                                    NaN% |\n",
      "| 1981-11-06 |     $-3 |         NaN% |     $421 |                                                                                                                                                                                                                                                                    NaN% |\n",
      "| 1981-11-09 |     $-3 |         NaN% |     $421 |                                                                                                                                                                                                                                                                    NaN% |\n",
      "| 1981-11-10 |     $-3 |         NaN% |     $421 |                                                                                                                                                                                                                                                                    NaN% |\n"
     ]
    },
    {
     "name": "stdout",
     "output_type": "stream",
     "text": [
      "| 1981-11-11 |     $-3 |         NaN% |     $421 |                                                                                                                                                                                                                                                                    NaN% |\n",
      "| 1981-11-12 |     $-3 |         NaN% |     $421 |                                                                                                                                                                                                                                                                    NaN% |\n",
      "| 1981-11-13 |     $-3 |         NaN% |     $421 |                                                                                                                                                                                                                                                                    NaN% |\n",
      "| 1981-11-16 |     $-3 |         NaN% |     $421 |                                                                                                                                                                                                                                                                    NaN% |\n",
      "| 1981-11-17 |     $-3 |         NaN% |     $421 |                                                                                                                                                                                                                                                                    NaN% |\n",
      "| 1981-11-18 |     $-3 |         NaN% |     $421 |                                                                                                                                                                                                                                                                    NaN% |\n",
      "| 1981-11-19 |     $-3 |         NaN% |     $421 |                                                                                                                                                                                                                                                                    NaN% |\n",
      "| 1981-11-20 |     $-3 |         NaN% |     $421 |                                                                                                                                                                                                                                                                    NaN% |\n",
      "| 1981-11-23 |     $-3 |         NaN% |     $421 |                                                                                                                                                                                                                                                                    NaN% |\n",
      "| 1981-11-24 |     $-3 |         NaN% |     $421 |                                                                                                                                                                                                                                                                    NaN% |\n",
      "| 1981-11-25 |     $-3 |         NaN% |     $421 |                                                                                                                                                                                                                                                                    NaN% |\n",
      "| 1981-11-27 |     $-3 |         NaN% |     $421 |                                                                                                                                                                                                                                                                    NaN% |\n",
      "| 1981-11-30 |     $-3 |         NaN% |     $421 |                                                                                                                                                                                                                                                                    NaN% |\n",
      "| 1981-12-01 |     $-3 |         NaN% |     $421 |                                                                                                                                                                                                                                                                    NaN% |\n",
      "| 1981-12-02 |     $-3 |         NaN% |     $421 |                                                                                                                                                                                                                                                                    NaN% |\n",
      "| 1981-12-03 |     $-3 |         NaN% |     $421 |                                                                                                                                                                                                                                                                    NaN% |\n",
      "| 1981-12-04 |     $-3 |         NaN% |     $421 |                                                                                                                                                                                                                                                                    NaN% |\n",
      "| 1981-12-07 |     $-3 |         NaN% |     $421 |                                                                                                                                                                                                                                                                    NaN% |\n",
      "| 1981-12-08 |     $-3 |         NaN% |     $421 |                                                                                                                                                                                                                                                                    NaN% |\n",
      "| 1981-12-09 |     $-3 |         NaN% |     $421 |                                                                                                                                                                                                                                                                    NaN% |\n",
      "| 1981-12-10 |     $-3 |         NaN% |     $421 |                                                                                                                                                                                                                                                                    NaN% |\n",
      "| 1981-12-11 |     $-3 |         NaN% |     $421 |                                                                                                                                                                                                                                                                    NaN% |\n",
      "| 1981-12-14 |     $-3 |         NaN% |     $421 |                                                                                                                                                                                                                                                                    NaN% |\n",
      "| 1981-12-15 |     $-3 |         NaN% |     $421 |                                                                                                                                                                                                                                                                    NaN% |\n",
      "| 1981-12-16 |     $-3 |         NaN% |     $421 |                                                                                                                                                                                                                                                                    NaN% |\n",
      "| 1981-12-17 |     $-3 |         NaN% |     $421 |                                                                                                                                                                                                                                                                    NaN% |\n"
     ]
    },
    {
     "name": "stdout",
     "output_type": "stream",
     "text": [
      "| 1981-12-18 |     $-3 |         NaN% |     $421 |                                                                                                                                                                                                                                                                    NaN% |\n",
      "| 1981-12-21 |     $-3 |         NaN% |     $421 |                                                                                                                                                                                                                                                                    NaN% |\n",
      "| 1981-12-22 |     $-3 |         NaN% |     $421 |                                                                                                                                                                                                                                                                    NaN% |\n",
      "| 1981-12-23 |     $-3 |         NaN% |     $421 |                                                                                                                                                                                                                                                                    NaN% |\n",
      "| 1981-12-24 |     $-3 |         NaN% |     $421 |                                                                                                                                                                                                                                                                    NaN% |\n",
      "| 1981-12-28 |     $-3 |         NaN% |     $421 |                                                                                                                                                                                                                                                                    NaN% |\n",
      "| 1981-12-29 |     $-3 |         NaN% |     $421 |                                                                                                                                                                                                                                                                    NaN% |\n",
      "| 1981-12-30 |     $-3 |         NaN% |     $421 |                                                                                                                                                                                                                                                                    NaN% |\n",
      "| 1981-12-31 |     $-3 |         NaN% |     $421 |                                                                                                                                                                                                                                                                    NaN% |\n",
      "| 1982-01-04 |     $-3 |         NaN% |     $421 |                                                                                                                                                                                                                                                                    NaN% |\n",
      "| 1982-01-05 |     $-3 |         NaN% |     $421 |                                                                                                                                                                                                                                                                    NaN% |\n",
      "| 1982-01-06 |     $-3 |         NaN% |     $421 |                                                                                                                                                                                                                                                                    NaN% |\n",
      "| 1982-01-07 |     $-3 |         NaN% |     $421 |                                                                                                                                                                                                                                                                    NaN% |\n",
      "| 1982-01-08 |     $-3 |         NaN% |     $421 |                                                                                                                                                                                                                                                                    NaN% |\n",
      "| 1982-01-11 |     $-3 |         NaN% |     $421 |                                                                                                                                                                                                                                                                    NaN% |\n",
      "| 1982-01-12 |     $-3 |         NaN% |     $421 |                                                                                                                                                                                                                                                                    NaN% |\n",
      "| 1982-01-13 |     $-3 |         NaN% |     $421 |                                                                                                                                                                                                                                                                    NaN% |\n",
      "| 1982-01-14 |     $-3 |         NaN% |     $421 |                                                                                                                                                                                                                                                                    NaN% |\n",
      "| 1982-01-15 |     $-3 |         NaN% |     $421 |                                                                                                                                                                                                                                                                    NaN% |\n",
      "| 1982-01-18 |     $-3 |         NaN% |     $421 |                                                                                                                                                                                                                                                                    NaN% |\n",
      "| 1982-01-19 |     $-3 |         NaN% |     $421 |                                                                                                                                                                                                                                                                    NaN% |\n",
      "| 1982-01-20 |     $-3 |         NaN% |     $421 |                                                                                                                                                                                                                                                                    NaN% |\n",
      "| 1982-01-21 |     $-3 |         NaN% |     $421 |                                                                                                                                                                                                                                                                    NaN% |\n",
      "| 1982-01-22 |     $-3 |         NaN% |     $421 |                                                                                                                                                                                                                                                                    NaN% |\n",
      "| 1982-01-25 |     $-3 |         NaN% |     $421 |                                                                                                                                                                                                                                                                    NaN% |\n",
      "| 1982-01-26 |     $-3 |         NaN% |     $421 |                                                                                                                                                                                                                                                                    NaN% |\n"
     ]
    },
    {
     "name": "stdout",
     "output_type": "stream",
     "text": [
      "| 1982-01-27 |     $-3 |         NaN% |     $421 |                                                                                                                                                                                                                                                                    NaN% |\n",
      "| 1982-01-28 |     $-3 |         NaN% |     $421 |                                                                                                                                                                                                                                                                    NaN% |\n",
      "| 1982-01-29 |     $-3 |         NaN% |     $421 |                                                                                                                                                                                                                                                                    NaN% |\n",
      "| 1982-02-01 |     $-3 |         NaN% |     $421 |                                                                                                                                                                                                                                                                    NaN% |\n",
      "| 1982-02-02 |     $-3 |         NaN% |     $421 |                                                                                                                                                                                                                                                                    NaN% |\n",
      "| 1982-02-03 |     $-3 |         NaN% |     $421 |                                                                                                                                                                                                                                                                    NaN% |\n",
      "| 1982-02-04 |     $-3 |         NaN% |     $421 |                                                                                                                                                                                                                                                                    NaN% |\n",
      "| 1982-02-05 |     $-3 |         NaN% |     $421 |                                                                                                                                                                                                                                                                    NaN% |\n",
      "| 1982-02-08 |     $-3 |         NaN% |     $421 |                                                                                                                                                                                                                                                                    NaN% |\n",
      "| 1982-02-09 |     $-3 |         NaN% |     $421 |                                                                                                                                                                                                                                                                    NaN% |\n",
      "| 1982-02-10 |     $-3 |         NaN% |     $421 |                                                                                                                                                                                                                                                                    NaN% |\n",
      "| 1982-02-11 |     $-3 |         NaN% |     $421 |                                                                                                                                                                                                                                                                    NaN% |\n",
      "| 1982-02-12 |     $-3 |         NaN% |     $421 |                                                                                                                                                                                                                                                                    NaN% |\n",
      "| 1982-02-16 |     $-3 |         NaN% |     $421 |                                                                                                                                                                                                                                                                    NaN% |\n",
      "| 1982-02-17 |     $-3 |         NaN% |     $421 |                                                                                                                                                                                                                                                                    NaN% |\n",
      "| 1982-02-18 |     $-3 |         NaN% |     $421 |                                                                                                                                                                                                                                                                    NaN% |\n",
      "| 1982-02-19 |     $-3 |         NaN% |     $421 |                                                                                                                                                                                                                                                                    NaN% |\n",
      "| 1982-02-22 |     $-3 |         NaN% |     $421 |                                                                                                                                                                                                                                                                    NaN% |\n",
      "| 1982-02-23 |     $-3 |         NaN% |     $421 |                                                                                                                                                                                                                                                                    NaN% |\n",
      "| 1982-02-24 |     $-3 |         NaN% |     $421 |                                                                                                                                                                                                                                                                    NaN% |\n",
      "| 1982-02-25 |     $-3 |         NaN% |     $421 |                                                                                                                                                                                                                                                                    NaN% |\n",
      "| 1982-02-26 |     $-3 |         NaN% |     $421 |                                                                                                                                                                                                                                                                    NaN% |\n",
      "| 1982-03-01 |     $-3 |         NaN% |     $421 |                                                                                                                                                                                                                                                                    NaN% |\n",
      "| 1982-03-02 |     $-3 |         NaN% |     $421 |                                                                                                                                                                                                                                                                    NaN% |\n",
      "| 1982-03-03 |     $-3 |         NaN% |     $421 |                                                                                                                                                                                                                                                                    NaN% |\n",
      "| 1982-03-04 |     $-3 |         NaN% |     $421 |                                                                                                                                                                                                                                                                    NaN% |\n"
     ]
    },
    {
     "name": "stdout",
     "output_type": "stream",
     "text": [
      "| 1982-03-05 |     $-3 |         NaN% |     $421 |                                                                                                                                                                                                                                                                    NaN% |\n",
      "| 1982-03-08 |     $-3 |         NaN% |     $421 |                                                                                                                                                                                                                                                                    NaN% |\n",
      "| 1982-03-09 |     $-3 |         NaN% |     $421 |                                                                                                                                                                                                                                                                    NaN% |\n",
      "| 1982-03-10 |     $-3 |         NaN% |     $421 |                                                                                                                                                                                                                                                                    NaN% |\n",
      "| 1982-03-11 |     $-3 |         NaN% |     $421 |                                                                                                                                                                                                                                                                    NaN% |\n",
      "| 1982-03-12 |     $-3 |         NaN% |     $421 |                                                                                                                                                                                                                                                                    NaN% |\n",
      "| 1982-03-15 |     $-3 |         NaN% |     $421 |                                                                                                                                                                                                                                                                    NaN% |\n",
      "| 1982-03-16 |     $-3 |         NaN% |     $421 |                                                                                                                                                                                                                                                                    NaN% |\n",
      "| 1982-03-17 |     $-3 |         NaN% |     $421 |                                                                                                                                                                                                                                                                    NaN% |\n",
      "| 1982-03-18 |     $-3 |         NaN% |     $421 |                                                                                                                                                                                                                                                                    NaN% |\n",
      "| 1982-03-19 |     $-3 |         NaN% |     $421 |                                                                                                                                                                                                                                                                    NaN% |\n",
      "| 1982-03-22 |     $-3 |         NaN% |     $421 |                                                                                                                                                                                                                                                                    NaN% |\n",
      "| 1982-03-23 |     $-3 |         NaN% |     $421 |                                                                                                                                                                                                                                                                    NaN% |\n",
      "| 1982-03-24 |     $-3 |         NaN% |     $421 |                                                                                                                                                                                                                                                                    NaN% |\n",
      "| 1982-03-25 |     $-3 |         NaN% |     $421 |                                                                                                                                                                                                                                                                    NaN% |\n",
      "| 1982-03-26 |     $-3 |         NaN% |     $421 |                                                                                                                                                                                                                                                                    NaN% |\n",
      "| 1982-03-29 |     $-3 |         NaN% |     $421 |                                                                                                                                                                                                                                                                    NaN% |\n",
      "| 1982-03-30 |     $-3 |         NaN% |     $421 |                                                                                                                                                                                                                                                                    NaN% |\n",
      "| 1982-03-31 |     $-3 |         NaN% |     $421 |                                                                                                                                                                                                                                                                    NaN% |\n",
      "| 1982-04-01 |     $-3 |         NaN% |     $421 |                                                                                                                                                                                                                                                                    NaN% |\n",
      "| 1982-04-02 |     $-3 |         NaN% |     $421 |                                                                                                                                                                                                                                                                    NaN% |\n",
      "| 1982-04-05 |     $-3 |         NaN% |     $421 |                                                                                                                                                                                                                                                                    NaN% |\n",
      "| 1982-04-06 |     $-3 |         NaN% |     $419 |                                                                                                                                                                                                                                                                    NaN% |\n",
      "| 1982-04-07 |     $-3 |         NaN% |     $421 |                                                                                                                                                                                                                                                                    NaN% |\n",
      "| 1982-04-08 |     $-3 |         NaN% |     $417 |                                                                                                                                                                                                                                                                    NaN% |\n",
      "| 1982-04-12 |     $-3 |         NaN% |     $418 |                                                                                                                                                                                                                                                                    NaN% |\n"
     ]
    },
    {
     "name": "stdout",
     "output_type": "stream",
     "text": [
      "| 1982-04-13 |     $-3 |         NaN% |     $416 |                                                                                                                                                                                                                                                                    NaN% |\n",
      "| 1982-04-14 |     $-3 |         NaN% |     $426 |                                                                                                                                                                                                                                                                    NaN% |\n",
      "| 1982-04-15 |     $-3 |         NaN% |     $428 |                                                                                                                                                                                                                                                                    NaN% |\n",
      "| 1982-04-16 |     $-2 |         NaN% |     $430 |                                                                                                                                                                                                                                                                    NaN% |\n",
      "| 1982-04-19 |     $-3 |         NaN% |     $417 |                                                                                                                                                                                                                                                                    NaN% |\n",
      "| 1982-04-20 |     $-2 |         NaN% |     $428 |                                                                                                                                                                                                                                                                    NaN% |\n",
      "| 1982-04-21 |     $-2 |         NaN% |     $440 |                                                                                                                                                                                                                                                                    NaN% |\n",
      "| 1982-04-22 |     $-2 |         NaN% |     $450 |                                                                                                                                                                                                                                                                    NaN% |\n",
      "| 1982-04-23 |     $-2 |         NaN% |     $478 |                                                                                                                                                                                                                                                                    NaN% |\n",
      "| 1982-04-26 |     $-2 |         NaN% |     $463 |                                                                                                                                                                                                                                                                    NaN% |\n",
      "| 1982-04-27 |     $-2 |         NaN% |     $455 |                                                                                                                                                                                                                                                                    NaN% |\n",
      "| 1982-04-28 |     $-2 |         NaN% |     $451 |                                                                                                                                                                                                                                                                    NaN% |\n",
      "| 1982-04-29 |     $-2 |         NaN% |     $451 |                                                                                                                                                                                                                                                                    NaN% |\n",
      "| 1982-04-30 |     $-2 |         NaN% |     $484 |                                                                                                                                                                                                                                                                    NaN% |\n",
      "| 1982-05-03 |     $-2 |         NaN% |     $519 |                                                                                                                                                                                                                                                                    NaN% |\n",
      "| 1982-05-04 |     $-2 |         NaN% |     $514 |                                                                                                                                                                                                                                                                    NaN% |\n",
      "| 1982-05-05 |     $-2 |         NaN% |     $519 |                                                                                                                                                                                                                                                                    NaN% |\n",
      "| 1982-05-06 |     $-2 |         NaN% |     $502 |                                                                                                                                                                                                                                                                    NaN% |\n",
      "| 1982-05-07 |     $-2 |         NaN% |     $460 |                                                                                                                                                                                                                                                                    NaN% |\n",
      "| 1982-05-10 |     $-2 |         NaN% |     $491 |                                                                                                                                                                                                                                                                    NaN% |\n",
      "| 1982-05-11 |     $-2 |         NaN% |     $530 |                                                                                                                                                                                                                                                                    NaN% |\n",
      "| 1982-05-12 |     $-2 |         NaN% |     $497 |                                                                                                                                                                                                                                                                    NaN% |\n",
      "| 1982-05-13 |     $-2 |         NaN% |     $504 |                                                                                                                                                                                                                                                                    NaN% |\n",
      "| 1982-05-14 |     $-2 |         NaN% |     $482 |                                                                                                                                                                                                                                                                    NaN% |\n",
      "| 1982-05-17 |     $-2 |         NaN% |     $459 |                                                                                                                                                                                                                                                                    NaN% |\n",
      "| 1982-05-18 |     $-2 |         NaN% |     $467 |                                                                                                                                                                                                                                                                    NaN% |\n"
     ]
    },
    {
     "name": "stdout",
     "output_type": "stream",
     "text": [
      "| 1982-05-19 |     $-2 |         NaN% |     $467 |                                                                                                                                                                                                                                                                    NaN% |\n",
      "| 1982-05-20 |     $-2 |         NaN% |     $458 |                                                                                                                                                                                                                                                                    NaN% |\n",
      "| 1982-05-21 |     $-2 |         NaN% |     $476 |                                                                                                                                                                                                                                                                    NaN% |\n",
      "| 1982-05-24 |     $-2 |         NaN% |     $449 |                                                                                                                                                                                                                                                                    NaN% |\n",
      "| 1982-05-25 |     $-2 |         NaN% |     $439 |                                                                                                                                                                                                                                                                    NaN% |\n",
      "| 1982-05-26 |     $-2 |         NaN% |     $420 |                                                                                                                                                                                                                                                                    NaN% |\n",
      "| 1982-05-27 |     $-2 |         NaN% |     $420 |                                                                                                                                                                                                                                                                    NaN% |\n",
      "| 1982-05-28 |     $-2 |         NaN% |     $400 |                                                                                                                                                                                                                                                                    NaN% |\n",
      "| 1982-06-01 |     $-2 |         NaN% |     $421 |                                                                                                                                                                                                                                                                    NaN% |\n",
      "| 1982-06-02 |     $-2 |         NaN% |     $410 |                                                                                                                                                                                                                                                                    NaN% |\n",
      "| 1982-06-03 |     $-2 |         NaN% |     $354 |                                                                                                                                                                                                                                                                    NaN% |\n",
      "| 1982-06-04 |     $-2 |         NaN% |     $354 |                                                                                                                                                                                                                                                                    NaN% |\n",
      "| 1982-06-07 |     $-2 |         NaN% |     $331 |                                                                                                                                                                                                                                                                    NaN% |\n",
      "| 1982-06-08 |     $-2 |         NaN% |     $331 |                                                                                                                                                                                                                                                                    NaN% |\n",
      "| 1982-06-09 |     $-2 |         NaN% |     $343 |                                                                                                                                                                                                                                                                    NaN% |\n",
      "| 1982-06-10 |     $-2 |         NaN% |     $430 |                                                                                                                                                                                                                                                                    NaN% |\n",
      "| 1982-06-11 |     $-2 |         NaN% |     $380 |                                                                                                                                                                                                                                                                    NaN% |\n",
      "| 1982-06-14 |     $-2 |         NaN% |     $393 |                                                                                                                                                                                                                                                                    NaN% |\n",
      "| 1982-06-15 |     $-2 |         NaN% |     $459 |                                                                                                                                                                                                                                                                    NaN% |\n",
      "| 1982-06-16 |     $-2 |         NaN% |     $459 |                                                                                                                                                                                                                                                                    NaN% |\n",
      "| 1982-06-17 |     $-2 |         NaN% |     $445 |                                                                                                                                                                                                                                                                    NaN% |\n",
      "| 1982-06-18 |     $-2 |         NaN% |     $431 |                                                                                                                                                                                                                                                                    NaN% |\n",
      "| 1982-06-21 |     $-2 |         NaN% |     $473 |                                                                                                                                                                                                                                                                    NaN% |\n",
      "| 1982-06-22 |     $-1 |         NaN% |     $615 |                                                                                                                                                                                                                                                                    NaN% |\n",
      "| 1982-06-23 |     $-1 |         NaN% |     $601 |                                                                                                                                                                                                                                                                    NaN% |\n",
      "| 1982-06-24 |     $-2 |         NaN% |     $513 |                                                                                                                                                                                                                                                                    NaN% |\n"
     ]
    },
    {
     "name": "stdout",
     "output_type": "stream",
     "text": [
      "| 1982-06-25 |     $-1 |         NaN% |     $543 |                                                                                                                                                                                                                                                                    NaN% |\n",
      "| 1982-06-28 |     $-1 |         NaN% |     $573 |                                                                                                                                                                                                                                                                    NaN% |\n",
      "| 1982-06-29 |     $-1 |         NaN% |     $573 |                                                                                                                                                                                                                                                                    NaN% |\n",
      "| 1982-06-30 |     $-2 |         NaN% |     $479 |                                                                                                                                                                                                                                                                    NaN% |\n",
      "| 1982-07-01 |     $-2 |         NaN% |     $348 |                                                                                                                                                                                                                                                                    NaN% |\n",
      "| 1982-07-02 |     $-2 |         NaN% |     $331 |                                                                                                                                                                                                                                                                    NaN% |\n",
      "| 1982-07-06 |     $-1 |         NaN% |     $516 |                                                                                                                                                                                                                                                                    NaN% |\n",
      "| 1982-07-07 |     $-2 |         NaN% |     $500 |                                                                                                                                                                                                                                                                    NaN% |\n",
      "| 1982-07-08 |     $-2 |         NaN% |     $465 |                                                                                                                                                                                                                                                                    NaN% |\n",
      "| 1982-07-09 |     $-1 |         NaN% |     $552 |                                                                                                                                                                                                                                                                    NaN% |\n",
      "| 1982-07-12 |     $-1 |         NaN% |     $552 |                                                                                                                                                                                                                                                                    NaN% |\n",
      "| 1982-07-13 |     $-1 |         NaN% |     $534 |                                                                                                                                                                                                                                                                    NaN% |\n",
      "| 1982-07-14 |     $-2 |         NaN% |     $461 |                                                                                                                                                                                                                                                                    NaN% |\n",
      "| 1982-07-15 |     $-1 |         NaN% |     $627 |                                                                                                                                                                                                                                                                    NaN% |\n",
      "| 1982-07-16 |     $-1 |         NaN% |     $627 |                                                                                                                                                                                                                                                                    NaN% |\n",
      "| 1982-07-19 |     $-1 |         NaN% |     $608 |                                                                                                                                                                                                                                                                    NaN% |\n",
      "| 1982-07-20 |     $-1 |         NaN% |     $627 |                                                                                                                                                                                                                                                                    NaN% |\n",
      "| 1982-07-21 |     $-1 |         NaN% |     $588 |                                                                                                                                                                                                                                                                    NaN% |\n",
      "| 1982-07-22 |     $-1 |         NaN% |     $627 |                                                                                                                                                                                                                                                                    NaN% |\n",
      "| 1982-07-23 |     $-1 |         NaN% |     $568 |                                                                                                                                                                                                                                                                    NaN% |\n",
      "| 1982-07-26 |     $-1 |         NaN% |     $588 |                                                                                                                                                                                                                                                                    NaN% |\n",
      "| 1982-07-27 |     $-1 |         NaN% |     $506 |                                                                                                                                                                                                                                                                    NaN% |\n",
      "| 1982-07-28 |     $-2 |         NaN% |     $402 |                                                                                                                                                                                                                                                                    NaN% |\n",
      "| 1982-07-29 |     $-2 |         NaN% |     $359 |                                                                                                                                                                                                                                                                    NaN% |\n",
      "| 1982-07-30 |     $-2 |         NaN% |     $445 |                                                                                                                                                                                                                                                                    NaN% |\n",
      "| 1982-08-02 |     $-2 |         NaN% |     $424 |                                                                                                                                                                                                                                                                    NaN% |\n"
     ]
    },
    {
     "name": "stdout",
     "output_type": "stream",
     "text": [
      "| 1982-08-03 |     $-2 |         NaN% |     $357 |                                                                                                                                                                                                                                                                    NaN% |\n",
      "| 1982-08-04 |     $-2 |         NaN% |     $243 |                                                                                                                                                                                                                                                                    NaN% |\n",
      "| 1982-08-05 |     $-2 |         NaN% |     $243 |                                                                                                                                                                                                                                                                    NaN% |\n",
      "| 1982-08-06 |     $-2 |         NaN% |     $220 |                                                                                                                                                                                                                                                                    NaN% |\n",
      "| 1982-08-09 |     $-2 |         NaN% |     $314 |                                                                                                                                                                                                                                                                    NaN% |\n",
      "| 1982-08-10 |     $-2 |         NaN% |     $314 |                                                                                                                                                                                                                                                                    NaN% |\n",
      "| 1982-08-11 |     $-2 |         NaN% |     $290 |                                                                                                                                                                                                                                                                    NaN% |\n",
      "| 1982-08-12 |     $-2 |         NaN% |     $339 |                                                                                                                                                                                                                                                                    NaN% |\n",
      "| 1982-08-13 |     $-2 |         NaN% |     $412 |                                                                                                                                                                                                                                                                    NaN% |\n",
      "| 1982-08-16 |      $0 |         NaN% |     $749 |                                                                                                                                                                                                                                                                    NaN% |\n",
      "| 1982-08-17 |     $-1 |         NaN% |     $581 |                                                                                                                                                                                                                                                                    NaN% |\n",
      "| 1982-08-18 |     $-1 |         NaN% |     $703 |                                                                                                                                                                                                                                                                    NaN% |\n",
      "| 1982-08-19 |      $0 |         NaN% |     $944 |                                                                                                                                                                                                                                                                    NaN% |\n",
      "| 1982-08-20 |      $0 |         NaN% |    $1228 |                                                                                                                                                                                                                                                                    NaN% |\n",
      "| 1982-08-23 |      $0 |         NaN% |    $1157 |                                                                                                                                                                                                                                                                    NaN% |\n",
      "| 1982-08-24 |      $1 |         NaN% |    $1371 |                                                                                                                                                                                                                                                                    NaN% |\n",
      "| 1982-08-25 |      $1 |         NaN% |    $1394 |                                                                                                                                                                                                                                                                    NaN% |\n",
      "| 1982-08-26 |      $1 |         NaN% |    $1323 |                                                                                                                                                                                                                                                                    NaN% |\n",
      "| 1982-08-27 |      $0 |         NaN% |    $1249 |                                                                                                                                                                                                                                                                    NaN% |\n",
      "| 1982-08-30 |      $1 |         NaN% |    $1299 |                                                                                                                                                                                                                                                                    NaN% |\n",
      "| 1982-08-31 |      $0 |         NaN% |    $1274 |                                                                                                                                                                                                                                                                    NaN% |\n",
      "| 1982-09-01 |      $1 |         NaN% |    $1571 |                                                                                                                                                                                                                                                                    NaN% |\n",
      "| 1982-09-02 |      $1 |         NaN% |    $1546 |                                                                                                                                                                                                                                                                    NaN% |\n",
      "| 1982-09-03 |      $1 |         NaN% |    $1421 |                                                                                                                                                                                                                                                                    NaN% |\n",
      "| 1982-09-07 |      $0 |         NaN% |    $1189 |                                                                                                                                                                                                                                                                    NaN% |\n",
      "| 1982-09-08 |      $0 |         NaN% |    $1163 |                                                                                                                                                                                                                                                                    NaN% |\n"
     ]
    },
    {
     "name": "stdout",
     "output_type": "stream",
     "text": [
      "| 1982-09-09 |      $0 |         NaN% |    $1056 |                                                                                                                                                                                                                                                                    NaN% |\n",
      "| 1982-09-10 |      $0 |         NaN% |    $1244 |                                                                                                                                                                                                                                                                    NaN% |\n",
      "| 1982-09-13 |      $1 |         NaN% |    $1378 |                                                                                                                                                                                                                                                                    NaN% |\n",
      "| 1982-09-14 |      $1 |         NaN% |    $1351 |                                                                                                                                                                                                                                                                    NaN% |\n",
      "| 1982-09-15 |      $1 |         NaN% |    $1351 |                                                                                                                                                                                                                                                                    NaN% |\n",
      "| 1982-09-16 |      $0 |         NaN% |    $1213 |                                                                                                                                                                                                                                                                    NaN% |\n",
      "| 1982-09-17 |      $0 |         NaN% |    $1185 |                                                                                                                                                                                                                                                                    NaN% |\n",
      "| 1982-09-20 |      $0 |         NaN% |    $1185 |                                                                                                                                                                                                                                                                    NaN% |\n",
      "| 1982-09-21 |      $0 |         NaN% |    $1128 |                                                                                                                                                                                                                                                                    NaN% |\n",
      "| 1982-09-22 |      $0 |         NaN% |     $954 |                                                                                                                                                                                                                                                                    NaN% |\n",
      "| 1982-09-23 |      $0 |         NaN% |     $954 |                                                                                                                                                                                                                                                                    NaN% |\n",
      "| 1982-09-24 |      $0 |         NaN% |     $954 |                                                                                                                                                                                                                                                                    NaN% |\n",
      "| 1982-09-27 |      $0 |         NaN% |    $1073 |                                                                                                                                                                                                                                                                    NaN% |\n",
      "| 1982-09-28 |      $0 |         NaN% |     $953 |                                                                                                                                                                                                                                                                    NaN% |\n",
      "| 1982-09-29 |      $0 |         NaN% |     $861 |                                                                                                                                                                                                                                                                    NaN% |\n",
      "| 1982-09-30 |      $0 |         NaN% |    $1197 |                                                                                                                                                                                                                                                                    NaN% |\n",
      "| 1982-10-01 |      $0 |         NaN% |    $1013 |                                                                                                                                                                                                                                                                    NaN% |\n",
      "| 1982-10-04 |      $0 |         NaN% |    $1137 |                                                                                                                                                                                                                                                                    NaN% |\n",
      "| 1982-10-05 |      $1 |         NaN% |    $1504 |                                                                                                                                                                                                                                                                    NaN% |\n",
      "| 1982-10-06 |      $2 |         NaN% |    $1625 |                                                                                                                                                                                                                                                                    NaN% |\n",
      "| 1982-10-07 |      $2 |         NaN% |    $1686 |                                                                                                                                                                                                                                                                    NaN% |\n",
      "| 1982-10-08 |      $3 |         NaN% |    $2134 |                                                                                                                                                                                                                                                                    NaN% |\n",
      "| 1982-10-11 |      $3 |         NaN% |    $2014 |                                                                                                                                                                                                                                                                    NaN% |\n",
      "| 1982-10-12 |      $3 |         NaN% |    $2014 |                                                                                                                                                                                                                                                                    NaN% |\n",
      "| 1982-10-13 |      $1 |         NaN% |    $1552 |                                                                                                                                                                                                                                                                    NaN% |\n",
      "| 1982-10-14 |      $1 |         NaN% |    $1645 |                                                                                                                                                                                                                                                                    NaN% |\n"
     ]
    },
    {
     "name": "stdout",
     "output_type": "stream",
     "text": [
      "| 1982-10-15 |      $3 |         NaN% |    $2174 |                                                                                                                                                                                                                                                                    NaN% |\n",
      "| 1982-10-18 |      $3 |         NaN% |    $2083 |                                                                                                                                                                                                                                                                    NaN% |\n",
      "| 1982-10-19 |      $4 |         NaN% |    $2334 |                                                                                                                                                                                                                                                                    NaN% |\n",
      "| 1982-10-20 |      $3 |         NaN% |    $2182 |                                                                                                                                                                                                                                                                    NaN% |\n",
      "| 1982-10-21 |      $3 |         NaN% |    $2275 |                                                                                                                                                                                                                                                                    NaN% |\n",
      "| 1982-10-22 |      $2 |         NaN% |    $1693 |                                                                                                                                                                                                                                                                    NaN% |\n",
      "| 1982-10-25 |      $2 |         NaN% |    $1792 |                                                                                                                                                                                                                                                                    NaN% |\n",
      "| 1982-10-26 |      $2 |         NaN% |    $1861 |                                                                                                                                                                                                                                                                    NaN% |\n",
      "| 1982-10-27 |      $2 |         NaN% |    $1861 |                                                                                                                                                                                                                                                                    NaN% |\n",
      "| 1982-10-28 |      $4 |         NaN% |    $2415 |                                                                                                                                                                                                                                                                    NaN% |\n",
      "| 1982-10-29 |      $4 |         NaN% |    $2457 |                                                                                                                                                                                                                                                                    NaN% |\n",
      "| 1982-11-01 |      $3 |         NaN% |    $2341 |                                                                                                                                                                                                                                                                    NaN% |\n",
      "| 1982-11-02 |      $5 |         NaN% |    $2903 |                                                                                                                                                                                                                                                                    NaN% |\n",
      "| 1982-11-03 |      $4 |         NaN% |    $2649 |                                                                                                                                                                                                                                                                    NaN% |\n",
      "| 1982-11-04 |      $4 |         NaN% |    $2576 |                                                                                                                                                                                                                                                                    NaN% |\n",
      "| 1982-11-05 |      $3 |         NaN% |    $2233 |                                                                                                                                                                                                                                                                    NaN% |\n",
      "| 1982-11-08 |      $4 |         NaN% |    $2510 |                                                                                                                                                                                                                                                                    NaN% |\n",
      "| 1982-11-09 |      $3 |         NaN% |    $2284 |                                                                                                                                                                                                                                                                    NaN% |\n",
      "| 1982-11-10 |      $3 |         NaN% |    $2371 |                                                                                                                                                                                                                                                                    NaN% |\n",
      "| 1982-11-11 |      $3 |         NaN% |    $2296 |                                                                                                                                                                                                                                                                    NaN% |\n"
     ]
    },
    {
     "data": {
      "text/plain": [
       "nil"
      ]
     },
     "execution_count": 25,
     "metadata": {},
     "output_type": "execute_result"
    }
   ],
   "source": [
    "(eval-report 434)\n",
    ";; (update-eval-report)\n",
    ";; (deref eval-report-data)"
   ]
  },
  {
   "cell_type": "markdown",
   "metadata": {},
   "source": [
    "### Plot variables"
   ]
  },
  {
   "cell_type": "code",
   "execution_count": null,
   "metadata": {},
   "outputs": [],
   "source": [
    "(def data (deref portfolio-value))"
   ]
  },
  {
   "cell_type": "code",
   "execution_count": null,
   "metadata": {},
   "outputs": [],
   "source": [
    "; Add legend name to series\n",
    "(def data-to-plot\n",
    " (map #(assoc % :plot \"portfolio\")\n",
    "  data))"
   ]
  },
  {
   "cell_type": "code",
   "execution_count": null,
   "metadata": {},
   "outputs": [],
   "source": [
    "(first data-to-plot)"
   ]
  },
  {
   "cell_type": "code",
   "execution_count": null,
   "metadata": {},
   "outputs": [],
   "source": [
    "(plot data-to-plot :plot :date :daily-ret)"
   ]
  },
  {
   "cell_type": "code",
   "execution_count": null,
   "metadata": {},
   "outputs": [],
   "source": []
  }
 ],
 "metadata": {
  "kernelspec": {
   "display_name": "Clojure (backtesting_clojure)",
   "language": "clojure",
   "name": "backtesting_clojure"
  },
  "language_info": {
   "file_extension": ".clj",
   "mimetype": "text/x-clojure",
   "name": "clojure",
   "version": "1.10.1"
  }
 },
 "nbformat": 4,
 "nbformat_minor": 2
}
