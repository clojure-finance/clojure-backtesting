{
 "cells": [
  {
   "cell_type": "markdown",
   "metadata": {},
   "source": [
    "### Run this in Python kernel"
   ]
  },
  {
   "cell_type": "code",
   "execution_count": null,
   "metadata": {},
   "outputs": [],
   "source": [
    "%%html\n",
    "<style>\n",
    "body {\n",
    "    font-family: \"Arial\", cursive, sans-serif; # font style of application\n",
    "}\n",
    "pre {\n",
    "    font-family: \"Courier New\"; # font style of cell outputs\n",
    "}\n",
    "</style>  "
   ]
  },
  {
   "cell_type": "markdown",
   "metadata": {},
   "source": [
    "### Run below in the backtesting_clojure kernel"
   ]
  },
  {
   "cell_type": "code",
   "execution_count": 1,
   "metadata": {},
   "outputs": [
    {
     "data": {
      "text/plain": [
       "nil"
      ]
     },
     "execution_count": 1,
     "metadata": {},
     "output_type": "execute_result"
    }
   ],
   "source": [
    "; import libraries from kernel\n",
    "(ns clojure-backtesting.demo\n",
    "  (:require [clojure-backtesting.data :refer :all]\n",
    "            [clojure-backtesting.data-management :refer :all]\n",
    "            [clojure-backtesting.portfolio :refer :all]\n",
    "            [clojure-backtesting.order :refer :all]\n",
    "            [clojure-backtesting.evaluate :refer :all]\n",
    "            [clojure-backtesting.plot :refer :all]\n",
    "            [clojure-backtesting.counter :refer :all]\n",
    "            [clojure-backtesting.automation :refer :all]\n",
    "            [clojure-backtesting.parameters :refer :all]\n",
    "            [clojure-backtesting.indicators :refer :all]\n",
    "            [clojure-backtesting.direct :refer :all]\n",
    "            [clojure.string :as str]\n",
    "            [clojure.java.io :as io]\n",
    "            [clojure.pprint :as pprint]\n",
    "  ) ;; require all libriaries from core\n",
    ")"
   ]
  },
  {
   "cell_type": "markdown",
   "metadata": {},
   "source": [
    "### Import dataset"
   ]
  },
  {
   "cell_type": "code",
   "execution_count": 2,
   "metadata": {},
   "outputs": [
    {
     "name": "stdout",
     "output_type": "stream",
     "text": [
      "The dataset is already furnished by add-aprc. No more modification is needed.\n"
     ]
    },
    {
     "data": {
      "text/plain": [
       "\"Date range: 1972-01-03 ~ 2017-02-10\""
      ]
     },
     "execution_count": 2,
     "metadata": {},
     "output_type": "execute_result"
    }
   ],
   "source": [
    "; path to dataset = \"/Volumes/T7/CRSP\"\n",
    "; change it to the relative path to your own dataset\n",
    ";\n",
    "(load-dataset \"/Volumes/T7/CRSP\" \"main\" add-aprc)"
   ]
  },
  {
   "cell_type": "markdown",
   "metadata": {},
   "source": [
    "### Initialise portfolio （Go back here everytime you want to restart.）"
   ]
  },
  {
   "cell_type": "code",
   "execution_count": 3,
   "metadata": {},
   "outputs": [],
   "source": [
    ";; initialise with current date and initial capital (= $10000)\n",
    "(init-portfolio \"1981-12-15\" 1000);"
   ]
  },
  {
   "cell_type": "code",
   "execution_count": 4,
   "metadata": {},
   "outputs": [
    {
     "data": {
      "text/plain": [
       "\"1981-12-15\""
      ]
     },
     "execution_count": 4,
     "metadata": {},
     "output_type": "execute_result"
    }
   ],
   "source": [
    "(get-date)"
   ]
  },
  {
   "cell_type": "markdown",
   "metadata": {},
   "source": [
    "### Write a strategy\n",
    "\n",
    "The following code implements a trading strategy called Golden Rule:\n",
    "\n",
    "MA 15 cross above the MA 30 (golden cross)\n",
    "\n",
    "MA 15 cross below the MA 30 (death cross)\n",
    "\n",
    "So in the codes, MA15 and MA30 are compared on a daily basis, if golden cross occurs, then you set a buy order; if death cross occurs, then you set a sell order first \n",
    "\n"
   ]
  },
  {
   "cell_type": "markdown",
   "metadata": {},
   "source": [
    "Should increase the cache size first to reduce repeatitive File IO"
   ]
  },
  {
   "cell_type": "code",
   "execution_count": 8,
   "metadata": {},
   "outputs": [
    {
     "data": {
      "text/plain": [
       "#'clojure-backtesting.parameters/CACHE-SIZE"
      ]
     },
     "execution_count": 8,
     "metadata": {},
     "output_type": "execute_result"
    }
   ],
   "source": [
    "(CHANGE-CACHE-SIZE 30)"
   ]
  },
  {
   "cell_type": "code",
   "execution_count": 5,
   "metadata": {
    "scrolled": true
   },
   "outputs": [
    {
     "data": {
      "text/plain": [
       "true"
      ]
     },
     "execution_count": 5,
     "metadata": {},
     "output_type": "execute_result"
    }
   ],
   "source": [
    "(while (< (compare (get-date) \"1981-12-24\") 0)\n",
    "  ;; run for about a week\n",
    "  (do\n",
    "    (let [[MA15 MA30] [(moving-avg \"14593\" 15) (moving-avg \"14593\" 30)]]\n",
    "      (if (> MA15 MA30)\n",
    "        (order \"14593\" 0.1 :print false)\n",
    "        (order \"14593\" 0 :remaining true))))\n",
    "  (let [[MA15 MA30] [(moving-avg \"25785\" 15) (moving-avg \"25785\" 30)]]\n",
    "    (if (> MA15 MA30)\n",
    "      (order \"25785\" 1  :print false)\n",
    "      (order \"25785\" 0 :remaining true)))\n",
    "  (update-eval-report)\n",
    "  (next-date))\n",
    "(end-order)"
   ]
  },
  {
   "cell_type": "code",
   "execution_count": 6,
   "metadata": {},
   "outputs": [
    {
     "name": "stdout",
     "output_type": "stream",
     "text": [
      "\n",
      "|      :date |  :tic |  :price | :aprc | :quantity |\n",
      "|------------+-------+---------+-------+-----------|\n",
      "| 1981-12-16 | 14593 | 19.5625 | 22.43 |       0.1 |\n",
      "| 1981-12-16 | 25785 |   17.25 | 55.94 |         1 |\n",
      "| 1981-12-17 | 14593 | 21.1875 | 23.22 |       0.1 |\n",
      "| 1981-12-17 | 25785 |  17.625 | 56.46 |         1 |\n",
      "| 1981-12-18 | 14593 | 22.9375 | 24.03 |       0.1 |\n",
      "| 1981-12-18 | 25785 |    18.0 | 56.98 |         1 |\n",
      "| 1981-12-21 | 14593 | 21.9375 | 23.57 |       0.1 |\n",
      "| 1981-12-21 | 25785 |    18.0 | 56.98 |         1 |\n",
      "| 1981-12-22 | 14593 | 22.3125 | 23.75 |       0.1 |\n",
      "| 1981-12-22 | 25785 |    17.5 | 56.29 |         1 |\n"
     ]
    },
    {
     "data": {
      "text/plain": [
       "nil"
      ]
     },
     "execution_count": 6,
     "metadata": {},
     "output_type": "execute_result"
    }
   ],
   "source": [
    ";(pprint/print-table (take 200 (deref portfolio-value)))\n",
    "(print-order-record 10)"
   ]
  },
  {
   "cell_type": "markdown",
   "metadata": {},
   "source": [
    "### Check portfolio record"
   ]
  },
  {
   "cell_type": "code",
   "execution_count": 7,
   "metadata": {},
   "outputs": [
    {
     "name": "stdout",
     "output_type": "stream",
     "text": [
      "\n",
      "| :asset | :price | :aprc | :quantity | :tot-val |\n",
      "|--------+--------+-------+-----------+----------|\n",
      "|   cash |    N/A |   N/A |       N/A |   996.42 |\n"
     ]
    },
    {
     "data": {
      "text/plain": [
       "nil"
      ]
     },
     "execution_count": 7,
     "metadata": {},
     "output_type": "execute_result"
    }
   ],
   "source": [
    ";; view final portfolio\n",
    "(print-portfolio)"
   ]
  },
  {
   "cell_type": "code",
   "execution_count": 9,
   "metadata": {},
   "outputs": [
    {
     "name": "stdout",
     "output_type": "stream",
     "text": [
      "\n",
      "|      :date | :tot-value | :daily-ret | :tot-ret | :loan | :leverage | :margin |\n",
      "|------------+------------+------------+----------+-------+-----------+---------|\n",
      "| 1981-12-15 |   $1000.00 |      0.00% |    0.00% | $0.00 |      0.00 |   0.00% |\n",
      "| 1981-12-16 |   $1000.00 |      0.00% |    0.00% | $0.00 |      0.00 |   0.00% |\n",
      "| 1981-12-17 |   $1000.60 |     -0.00% |    0.03% | $0.00 |      0.00 |   0.00% |\n",
      "| 1981-12-18 |   $1001.80 |      0.00% |    0.08% | $0.00 |      0.00 |   0.00% |\n",
      "| 1981-12-21 |   $1001.67 |      0.00% |    0.07% | $0.00 |      0.00 |   0.00% |\n",
      "| 1981-12-22 |    $998.96 |     -0.00% |   -0.05% | $0.00 |      0.00 |   0.00% |\n",
      "| 1981-12-23 |    $995.33 |      0.00% |   -0.20% | $0.00 |      0.00 |   0.00% |\n",
      "| 1981-12-24 |    $996.42 |      0.00% |   -0.16% | $0.00 |      0.00 |   0.00% |\n"
     ]
    },
    {
     "data": {
      "text/plain": [
       "nil"
      ]
     },
     "execution_count": 9,
     "metadata": {},
     "output_type": "execute_result"
    }
   ],
   "source": [
    ";; view portfolio value and return\n",
    "(print-portfolio-record 10)"
   ]
  },
  {
   "cell_type": "markdown",
   "metadata": {},
   "source": [
    "### Generate evaluation report"
   ]
  },
  {
   "cell_type": "code",
   "execution_count": 10,
   "metadata": {},
   "outputs": [
    {
     "name": "stdout",
     "output_type": "stream",
     "text": [
      "\n",
      "|      :date | :tot-value |    :vol |  :r-vol |               :sharpe |             :r-sharpe | :pnl-pt | :max-drawdown |\n",
      "|------------+------------+---------+---------+-----------------------+-----------------------+---------+---------------|\n",
      "| 1981-12-16 |      $1000 | 0.0000% | 0.0000% |               0.0000% |               0.0000% |      $0 |        0.0000 |\n",
      "| 1981-12-17 |      $1000 | 0.0000% | 0.0000% |   9419676466259.1450% |   9419676466259.1450% |      $0 |        0.0000 |\n",
      "| 1981-12-18 |      $1001 | 0.0000% | 0.0000% |  32469602626935.1760% |  32469602626935.1760% |      $0 |        0.0000 |\n",
      "| 1981-12-21 |      $1001 | 0.0000% | 0.0000% |  33522685497906.6330% |  33522685497906.6330% |      $0 |        0.0000 |\n",
      "| 1981-12-22 |       $998 | 0.0000% | 0.0000% | -18079259030964.3000% | -18079259030964.3000% |      $0 |        0.0000 |\n",
      "| 1981-12-23 |       $995 | 0.0000% | 0.0000% | -86461715180573.6600% | -86461715180573.6600% |      $0 |        0.0000 |\n",
      "| 1981-12-24 |       $996 | 0.0000% | 0.0000% | -69689219714318.2400% | -69689219714318.2400% |      $0 |        0.0000 |\n"
     ]
    },
    {
     "data": {
      "text/plain": [
       "nil"
      ]
     },
     "execution_count": 10,
     "metadata": {},
     "output_type": "execute_result"
    }
   ],
   "source": [
    "(print-eval-report 10)"
   ]
  },
  {
   "cell_type": "markdown",
   "metadata": {},
   "source": [
    "### Plot variables"
   ]
  },
  {
   "cell_type": "code",
   "execution_count": 11,
   "metadata": {},
   "outputs": [
    {
     "data": {
      "text/plain": [
       "#'clojure-backtesting.demo/data"
      ]
     },
     "execution_count": 11,
     "metadata": {},
     "output_type": "execute_result"
    }
   ],
   "source": [
    "(def data (deref portfolio-value))"
   ]
  },
  {
   "cell_type": "code",
   "execution_count": 12,
   "metadata": {},
   "outputs": [
    {
     "data": {
      "text/plain": [
       "#'clojure-backtesting.demo/data-to-plot"
      ]
     },
     "execution_count": 12,
     "metadata": {},
     "output_type": "execute_result"
    }
   ],
   "source": [
    "; Add legend name to series\n",
    "(def data-to-plot\n",
    " (map #(assoc % :plot \"portfolio\")\n",
    "  data))"
   ]
  },
  {
   "cell_type": "code",
   "execution_count": 13,
   "metadata": {},
   "outputs": [
    {
     "data": {
      "text/plain": [
       "{:date \"1981-12-15\", :tot-value 1000, :daily-ret 0.0, :tot-ret 0.0, :loan 0.0, :leverage 0.0, :margin 0.0, :plot \"portfolio\"}"
      ]
     },
     "execution_count": 13,
     "metadata": {},
     "output_type": "execute_result"
    }
   ],
   "source": [
    "(first data-to-plot)"
   ]
  },
  {
   "cell_type": "code",
   "execution_count": 15,
   "metadata": {},
   "outputs": [
    {
     "data": {
      "text/html": [
       "\n",
       "  <div>\n",
       "    <div id='uuid-db908eb7-e56f-45a0-871e-e6fa1832d205'></div>\n",
       "    <script>\n",
       "    requirejs.config({\n",
       "      baseUrl: 'https://cdn.jsdelivr.net/npm/',\n",
       "      paths: {\n",
       "        'vega-embed':  'vega-embed@6.12.2?noext',\n",
       "        'vega-lib': 'vega-lib?noext',\n",
       "        'vega-lite': 'vega-lite@4.17.0?noext',\n",
       "        'vega': 'vega@5.17.0?noext'\n",
       "      }\n",
       "    });\n",
       "    require(['vega-embed'], function(vegaEmbed) {\n",
       "      let spec = {\"width\":800,\"height\":500,\"data\":{\"values\":[{\"date\":\"1981-12-15\",\"tot-value\":1000,\"daily-ret\":0.0,\"tot-ret\":0.0,\"loan\":0.0,\"leverage\":0.0,\"margin\":0.0,\"plot\":\"portfolio\"},{\"date\":\"1981-12-16\",\"tot-value\":1000.0,\"daily-ret\":0.0,\"tot-ret\":0.0,\"loan\":0.0,\"leverage\":0.0,\"margin\":0.0,\"plot\":\"portfolio\"},{\"date\":\"1981-12-17\",\"tot-value\":1000.6039718630136,\"daily-ret\":-4.821637332766435E-17,\"tot-ret\":2.622224678041979E-4,\"loan\":0.0,\"leverage\":0.0,\"margin\":0.0,\"plot\":\"portfolio\"},{\"date\":\"1981-12-18\",\"tot-value\":1001.804050366196,\"daily-ret\":0.0,\"tot-ret\":7.827832410306088E-4,\"loan\":0.0,\"leverage\":0.0,\"margin\":0.0,\"plot\":\"portfolio\"},{\"date\":\"1981-12-21\",\"tot-value\":1001.6658101559706,\"daily-ret\":0.0,\"tot-ret\":7.228502599997982E-4,\"loan\":0.0,\"leverage\":0.0,\"margin\":0.0,\"plot\":\"portfolio\"},{\"date\":\"1981-12-22\",\"tot-value\":998.9640228741783,\"daily-ret\":-4.821637332766435E-17,\"tot-ret\":-4.501523631792231E-4,\"loan\":0.0,\"leverage\":0.0,\"margin\":0.0,\"plot\":\"portfolio\"},{\"date\":\"1981-12-23\",\"tot-value\":995.3270328506246,\"daily-ret\":0.0,\"tot-ret\":-0.0020342004333356043,\"loan\":0.0,\"leverage\":0.0,\"margin\":0.0,\"plot\":\"portfolio\"},{\"date\":\"1981-12-24\",\"tot-value\":996.4248444086998,\"daily-ret\":0.0,\"tot-ret\":-0.0015554524973440276,\"loan\":0.0,\"leverage\":0.0,\"margin\":0.0,\"plot\":\"portfolio\"}]},\"encoding\":{\"x\":{\"field\":\"date\",\"type\":\"temporal\",\"timeUnit\":\"yearmonthdate\"},\"y\":{\"field\":\"daily-ret\",\"type\":\"quantitative\"},\"color\":{\"field\":\"plot\",\"type\":\"nominal\"}},\"mark\":\"line\"};\n",
       "      vegaEmbed('#uuid-db908eb7-e56f-45a0-871e-e6fa1832d205', spec, {defaultStyle:true}).catch(console.warn);\n",
       "      }, function(err) {\n",
       "      console.log('Failed to load');\n",
       "    });\n",
       "    </script>\n",
       "  </div>\n",
       "    "
      ]
     },
     "execution_count": 15,
     "metadata": {},
     "output_type": "execute_result"
    }
   ],
   "source": [
    "(plot data-to-plot :plot :date :daily-ret true)"
   ]
  },
  {
   "cell_type": "code",
   "execution_count": null,
   "metadata": {},
   "outputs": [],
   "source": []
  }
 ],
 "metadata": {
  "kernelspec": {
   "display_name": "Clojure (backtesting_clojure)",
   "language": "clojure",
   "name": "backtesting_clojure"
  },
  "language_info": {
   "file_extension": ".clj",
   "mimetype": "text/x-clojure",
   "name": "clojure",
   "version": "1.10.1"
  }
 },
 "nbformat": 4,
 "nbformat_minor": 2
}
