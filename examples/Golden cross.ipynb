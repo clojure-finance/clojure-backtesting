{
 "cells": [
  {
   "cell_type": "markdown",
   "metadata": {},
   "source": [
    "### Run this in Python kernel"
   ]
  },
  {
   "cell_type": "code",
   "execution_count": null,
   "metadata": {},
   "outputs": [],
   "source": [
    "%%html\n",
    "<style>\n",
    "body {\n",
    "    font-family: \"Arial\", cursive, sans-serif; # font style of application\n",
    "}\n",
    "pre {\n",
    "    font-family: \"Courier New\"; # font style of cell outputs\n",
    "}\n",
    "</style>  "
   ]
  },
  {
   "cell_type": "markdown",
   "metadata": {},
   "source": [
    "### Run below in the backtesting_clojure kernel"
   ]
  },
  {
   "cell_type": "code",
   "execution_count": 1,
   "metadata": {},
   "outputs": [
    {
     "data": {
      "text/plain": [
       "nil"
      ]
     },
     "execution_count": 1,
     "metadata": {},
     "output_type": "execute_result"
    }
   ],
   "source": [
    "; import libraries from kernel\n",
    "(ns clojure-backtesting.demo\n",
    "  (:require [clojure.test :refer :all]\n",
    "            [clojure-backtesting.data :refer :all]\n",
    "            [clojure-backtesting.data-management :refer :all]\n",
    "            [clojure-backtesting.order :refer :all]\n",
    "            [clojure-backtesting.evaluate :refer :all]\n",
    "            [clojure-backtesting.plot :refer :all]\n",
    "            [clojure-backtesting.counter :refer :all]\n",
    "            [clojure-backtesting.portfolio :refer :all]\n",
    "            [clojure-backtesting.parameters :refer :all]\n",
    "            [clojure-backtesting.large-data :refer :all]\n",
    "            [clojure.string :as str]\n",
    "            [clojure.pprint :as pprint]\n",
    "            [java-time :as t]\n",
    "            [clojupyter.kernel.version :as ver]\n",
    "            [clojupyter.misc.helper :as helper]\n",
    "  ) ;; require all libriaries from core\n",
    "  (:use clojure.pprint)\n",
    ")"
   ]
  },
  {
   "cell_type": "markdown",
   "metadata": {},
   "source": [
    "### Import dataset"
   ]
  },
  {
   "cell_type": "code",
   "execution_count": 2,
   "metadata": {},
   "outputs": [],
   "source": [
    "; path to dataset = \"../resources/CRSP-extract.csv\"\n",
    "; change it to the relative to your own dataset\n",
    ";\n",
    "(reset! data-set (add-aprc (read-csv-row \"../resources/CRSP-extract.csv\")));"
   ]
  },
  {
   "cell_type": "markdown",
   "metadata": {},
   "source": [
    "### Initialise portfolio （Go back here everytime you want to restart.）"
   ]
  },
  {
   "cell_type": "code",
   "execution_count": 3,
   "metadata": {},
   "outputs": [],
   "source": [
    ";; initialise with current date and initial capital (= $10000)\n",
    "(init-portfolio \"1980-12-15\" 1000);"
   ]
  },
  {
   "cell_type": "markdown",
   "metadata": {},
   "source": [
    "### Write a strategy\n",
    "\n",
    "The following code implements a trading strategy called Golden Rule:\n",
    "\n",
    "MA 50 cross above the MA 200 (golden cross)\n",
    "\n",
    "MA 50 cross below the MA 200 (death cross)\n",
    "\n",
    "So in the codes, MA50 and MA200 are compared on a daily basis, if golden cross occurs, then you set a buy order; if death cross occurs, then you set a sell order first \n",
    "\n"
   ]
  },
  {
   "cell_type": "code",
   "execution_count": null,
   "metadata": {
    "scrolled": true
   },
   "outputs": [],
   "source": [
    "(def MA50-vec-aapl [])\n",
    "(def MA200-vec-aapl [])\n",
    "(def MA50-vec-f [])\n",
    "(def MA200-vec-f [])\n",
    "(while (not= (get-date) \"2000-12-26\")\n",
    "    (do\n",
    "      (def tics (deref available-tics)) ;20 ms\n",
    "      (def MA50-vec-aapl (get-prev-n-days :PRC 50 \"AAPL\" MA50-vec-aapl))\n",
    "      (def MA200-vec-aapl (get-prev-n-days :PRC 200 \"AAPL\" MA200-vec-aapl))\n",
    "      (def MA50-vec-f (get-prev-n-days :PRC 50 \"F\" MA50-vec-f ))\n",
    "      (def MA200-vec-f (get-prev-n-days :PRC 200 \"F\" MA200-vec-f))\n",
    "      (let [[MA50 MA200] [(moving-average :PRC MA50-vec-aapl) (moving-average :PRC MA200-vec-aapl)]]\n",
    "        (if (> MA50 MA200)\n",
    "          (order \"AAPL\" 0.1 :print false) \n",
    "          (order \"AAPL\" 0 :remaining true))))\n",
    "      (let [[MA50 MA200] [(moving-average :PRC MA50-vec-f) (moving-average :PRC MA200-vec-f)]]\n",
    "        (if (> MA50 MA200)\n",
    "          (order \"F\" 1  :print false) \n",
    "          (order \"F\" 0 :remaining true )))\n",
    "      (update-eval-report (get-date))\n",
    "      (next-date))\n",
    "(end-order)"
   ]
  },
  {
   "cell_type": "code",
   "execution_count": 5,
   "metadata": {},
   "outputs": [
    {
     "data": {
      "text/plain": [
       "({:date \"1981-02-27\", :tic \"AAPL\", :price 26.625, :aprc \"26.39\", :quantity 0.1} {:date \"1981-02-27\", :tic \"F\", :price 19.625, :aprc \"103.35\", :quantity 1} {:date \"1981-03-02\", :tic \"AAPL\", :price 26.6875, :aprc \"26.42\", :quantity 0.1} {:date \"1981-03-02\", :tic \"F\", :price 20.125, :aprc \"104.49\", :quantity 1} {:date \"1981-03-03\", :tic \"AAPL\", :price 26.3125, :aprc \"26.26\", :quantity 0.1} {:date \"1981-03-03\", :tic \"F\", :price 20.25, :aprc \"104.77\", :quantity 1} {:date \"1981-03-04\", :tic \"AAPL\", :price 26.0625, :aprc \"26.15\", :quantity 0.1} {:date \"1981-03-04\", :tic \"F\", :price 20.25, :aprc \"104.77\", :quantity 1} {:date \"1981-03-05\", :tic \"AAPL\", :price 25.9375, :aprc \"26.09\", :quantity 0.1} {:date \"1981-03-05\", :tic \"F\", :price 20.125, :aprc \"104.49\", :quantity 1})"
      ]
     },
     "execution_count": 5,
     "metadata": {},
     "output_type": "execute_result"
    }
   ],
   "source": [
    ";(pprint/print-table (take 200 (deref portfolio-value)))\n",
    "(take 10 (deref order-record))"
   ]
  },
  {
   "cell_type": "markdown",
   "metadata": {},
   "source": [
    "### Check portfolio record"
   ]
  },
  {
   "cell_type": "code",
   "execution_count": 6,
   "metadata": {},
   "outputs": [
    {
     "name": "stdout",
     "output_type": "stream",
     "text": [
      "\n",
      "| :asset | :price | :aprc | :quantity | :tot-val |\n",
      "|--------+--------+-------+-----------+----------|\n",
      "|   cash |    N/A |   N/A |       N/A |    46366 |\n"
     ]
    },
    {
     "data": {
      "text/plain": [
       "nil"
      ]
     },
     "execution_count": 6,
     "metadata": {},
     "output_type": "execute_result"
    }
   ],
   "source": [
    ";; view final portfolio\n",
    "(view-portfolio)"
   ]
  },
  {
   "cell_type": "code",
   "execution_count": 7,
   "metadata": {},
   "outputs": [
    {
     "name": "stdout",
     "output_type": "stream",
     "text": [
      "\n",
      "|      :date | :tot-value | :daily-ret | :tot-ret | :loan | :leverage |\n",
      "|------------+------------+------------+----------+-------+-----------|\n",
      "| 1980-12-15 |      $1000 |      0.00% |    0.00% | $0.00 |     0.00% |\n",
      "| 1981-02-27 |      $1000 |      0.00% |    0.00% | $0.00 |     0.00% |\n",
      "| 1981-03-02 |      $1001 |      0.00% |    0.05% | $0.00 |     0.00% |\n",
      "| 1981-03-03 |      $1001 |      0.00% |    0.07% | $0.00 |     0.00% |\n",
      "| 1981-03-04 |      $1001 |      0.00% |    0.07% | $0.00 |     0.00% |\n",
      "| 1981-03-05 |      $1000 |      0.00% |    0.02% | $0.00 |     0.00% |\n",
      "| 1981-03-06 |      $1011 |      0.00% |    0.50% | $0.00 |     0.00% |\n",
      "| 1981-03-09 |      $1028 |      0.00% |    1.23% | $0.00 |     0.00% |\n",
      "| 1981-03-10 |      $1017 |      0.00% |    0.74% | $0.00 |     0.00% |\n",
      "| 1981-03-11 |      $1019 |      0.00% |    0.82% | $0.00 |     0.00% |\n"
     ]
    },
    {
     "data": {
      "text/plain": [
       "nil"
      ]
     },
     "execution_count": 7,
     "metadata": {},
     "output_type": "execute_result"
    }
   ],
   "source": [
    ";; view portfolio value and return\n",
    "(view-portfolio-record 10)"
   ]
  },
  {
   "cell_type": "markdown",
   "metadata": {},
   "source": [
    "### Generate evaluation report"
   ]
  },
  {
   "cell_type": "code",
   "execution_count": 8,
   "metadata": {},
   "outputs": [
    {
     "name": "stdout",
     "output_type": "stream",
     "text": [
      "\n",
      "|      :date | :tot-val |                                                                                                                                                                                                                                                     :vol |     :sharpe | :pnl-pt |\n",
      "|------------+----------+----------------------------------------------------------------------------------------------------------------------------------------------------------------------------------------------------------------------------------------------------------+-------------+---------|\n",
      "| 1981-02-26 |    $1000 |                                                                                                                                                                                                                                                    0.00% |       0.00% |      $0 |\n",
      "| 1981-02-27 |    $1001 |                                                                                                                                                                                                                                                    0.00% |    9163.24% |      $0 |\n",
      "| 1981-03-02 |    $1001 |                                                                                                                                                                                                                                                    0.00% |  568882.36% |      $0 |\n",
      "| 1981-03-03 |    $1001 |                                                                                                                                                                                                                                                    0.00% |  138120.54% |      $0 |\n",
      "| 1981-03-04 |    $1000 |                                                                                                                                                                                                                                                    0.00% |    3856.96% |      $0 |\n",
      "| 1981-03-05 |    $1011 |                                                                                                                                                                                                                                                    0.00% |    1795.36% |      $0 |\n",
      "| 1981-03-06 |    $1028 |                                                                                                                                                                                                                                                    0.00% |    2354.55% |      $2 |\n",
      "| 1981-03-09 |    $1017 |                                                                                                                                                                                                                                                    0.00% |    1781.34% |      $1 |\n",
      "| 1981-03-10 |    $1019 |                                                                                                                                                                                                                                                    0.00% |   52335.58% |      $1 |\n",
      "| 1981-03-11 |    $1026 |                                                                                                                                                                                                                                                    0.00% |   26930.22% |      $1 |\n",
      "| 1981-03-12 |    $1028 |                                                                                                                                                                                                                                                    0.00% |  145060.44% |      $1 |\n",
      "| 1981-03-13 |    $1034 |                                                                                                                                                                                                                                                    0.00% |  233236.38% |      $1 |\n",
      "| 1981-03-16 |    $1044 |                                                                                                                                                                                                                                                    0.00% |  485750.57% |      $2 |\n",
      "| 1981-03-17 |    $1100 |                                                                                                                                                                                                                                                    0.00% |  136219.10% |      $4 |\n",
      "| 1981-03-18 |    $1100 |                                                                                                                                                                                                                                                    0.00% |  278094.75% |      $4 |\n",
      "| 1981-03-19 |    $1096 |                                                                                                                                                                                                                                                    0.00% |  208706.07% |      $3 |\n",
      "| 1981-03-20 |    $1104 |                                                                                                                                                                                                                                                    0.00% | 4900842.24% |      $4 |\n",
      "| 1981-03-23 |    $1079 |                                                                                                                                                                                                                                                    0.00% |   26667.07% |      $2 |\n",
      "| 1981-03-24 |    $1074 |                                                                                                                                                                                                                                                    0.00% |  195640.86% |      $2 |\n",
      "| 1981-03-25 |    $1060 |                                                                                                                                                                                                                                                    0.00% |   40170.08% |      $2 |\n",
      "| 1981-03-26 |    $1018 |                                                                                                                                                                                                                                                    0.00% |    1992.75% |      $0 |\n",
      "| 1981-03-27 |    $1024 |                                                                                                                                                                                                                                                    0.00% |   82749.64% |      $0 |\n",
      "| 1981-03-30 |    $1064 |                                                                                                                                                                                                                                                    0.00% |    6488.04% |      $2 |\n",
      "| 1981-03-31 |    $1022 |                                                                                                                                                                                                                                                    0.00% |     982.80% |      $0 |\n",
      "| 1981-04-01 |     $997 |                                                                                                                                                                                                                                                    0.00% |   -2032.01% |      $0 |\n",
      "| 1981-04-02 |     $964 |                                                                                                                                                                                                                                                    0.00% |   -3942.27% |     $-1 |\n"
     ]
    },
    {
     "name": "stdout",
     "output_type": "stream",
     "text": [
      "| 1981-04-03 |     $936 |                                                                                                                                                                                                                                                    0.00% |   -7464.43% |     $-1 |\n",
      "| 1981-04-06 |     $958 |                                                                                                                                                                                                                                                    0.00% |   -5453.43% |     $-1 |\n",
      "| 1981-04-07 |     $958 |                                                                                                                                                                                                                                                    0.00% | -193088.12% |     $-1 |\n",
      "| 1981-04-08 |     $988 |                                                                                                                                                                                                                                                    0.00% |    -367.37% |      $0 |\n",
      "| 1981-04-09 |     $988 |                                                                                                                                                                                                                                                    0.00% |   -7367.16% |      $0 |\n",
      "| 1981-04-10 |     $964 |                                                                                                                                                                                                                                                    0.00% |   -3177.54% |      $0 |\n",
      "| 1981-04-13 |     $989 |                                                                                                                                                                                                                                                    0.00% |    -183.56% |      $0 |\n",
      "| 1981-04-14 |    $1015 |                                                                                                                                                                                                                                                    0.00% |    2287.20% |      $0 |\n",
      "| 1981-04-15 |    $1006 |                                                                                                                                                                                                                                                    0.00% |    6592.59% |      $0 |\n",
      "| 1981-04-16 |    $1034 |                                                                                                                                                                                                                                                    0.00% |    3479.22% |      $0 |\n",
      "| 1981-04-20 |    $1062 |                                                                                                                                                                                                                                                    0.00% |    5766.91% |      $1 |\n",
      "| 1981-04-21 |    $1091 |                                                                                                                                                                                                                                                    0.00% |    8467.75% |      $1 |\n",
      "| 1981-04-22 |    $1139 |                                                                                                                                                                                                                                                    0.00% |    5091.25% |      $2 |\n",
      "| 1981-04-23 |    $1119 |                                                                                                                                                                                                                                                    0.00% |    9211.54% |      $2 |\n",
      "| 1981-04-24 |    $1103 |                                                                                                                                                                                                                                                    0.00% |   11975.78% |      $2 |\n",
      "| 1981-04-27 |     $962 |                                                                                                                                                                                                                                                    0.09% |    -151.60% |      $0 |\n",
      "| 1981-04-28 |     $951 |                                                                                                                                                                                                                                                    0.84% |     -19.24% |      $0 |\n",
      "| 1981-04-29 |     $904 |                                                                                                                                                                                                                                                   69.07% |      -0.45% |     $-1 |\n",
      "| 1981-04-30 |     $904 |                                                                                                                                                                                                                                               466755.18% |      -0.00% |     $-1 |\n",
      "| 1981-05-01 |     $867 |                                                                                                                                                                                                                                       21322506985073.89% |      -0.00% |     $-2 |\n",
      "| 1981-05-04 |     $892 |                                                                                                                                                                                                                        44517744362584720000000000000.00% |      -0.00% |     $-1 |\n",
      "| 1981-05-05 |     $931 |                                                                                                                                                                                         194138406184402650000000000000000000000000000000000000000000.00% |      -0.00% |     $-1 |\n",
      "| 1981-05-06 |     $996 |                                                                                                                            3693592634070371000000000000000000000000000000000000000000000000000000000000000000000000000000000000000000000000000000000.00% |       0.00% |      $0 |\n",
      "| 1981-05-07 |    $1009 | 1337512406515578500000000000000000000000000000000000000000000000000000000000000000000000000000000000000000000000000000000000000000000000000000000000000000000000000000000000000000000000000000000000000000000000000000000000000000000000000000000000.00% |       0.00% |      $0 |\n",
      "| 1981-05-08 |     $914 |                                                                                                                                                                                                                                                     NaN% |        NaN% |     $-1 |\n",
      "| 1981-05-11 |     $956 |                                                                                                                                                                                                                                                     NaN% |        NaN% |      $0 |\n",
      "| 1981-05-12 |     $970 |                                                                                                                                                                                                                                                     NaN% |        NaN% |      $0 |\n",
      "| 1981-05-13 |    $1041 |                                                                                                                                                                                                                                                     NaN% |        NaN% |      $0 |\n"
     ]
    },
    {
     "name": "stdout",
     "output_type": "stream",
     "text": [
      "| 1981-05-14 |    $1154 |                                                                                                                                                                                                                                                     NaN% |        NaN% |      $2 |\n",
      "| 1981-05-15 |    $1125 |                                                                                                                                                                                                                                                     NaN% |        NaN% |      $1 |\n",
      "| 1981-05-18 |    $1125 |                                                                                                                                                                                                                                                     NaN% |        NaN% |      $1 |\n",
      "| 1981-05-19 |    $1081 |                                                                                                                                                                                                                                                     NaN% |        NaN% |      $1 |\n",
      "| 1981-05-20 |    $1081 |                                                                                                                                                                                                                                                     NaN% |        NaN% |      $1 |\n",
      "| 1981-05-21 |    $1081 |                                                                                                                                                                                                                                                     NaN% |        NaN% |      $1 |\n",
      "| 1981-05-22 |    $1128 |                                                                                                                                                                                                                                                     NaN% |        NaN% |      $1 |\n",
      "| 1981-05-26 |    $1096 |                                                                                                                                                                                                                                                     NaN% |        NaN% |      $1 |\n",
      "| 1981-05-27 |    $1080 |                                                                                                                                                                                                                                                     NaN% |        NaN% |      $1 |\n",
      "| 1981-05-28 |    $1080 |                                                                                                                                                                                                                                                     NaN% |        NaN% |      $1 |\n",
      "| 1981-05-29 |    $1196 |                                                                                                                                                                                                                                                     NaN% |        NaN% |      $2 |\n",
      "| 1981-06-01 |    $1112 |                                                                                                                                                                                                                                                     NaN% |        NaN% |      $1 |\n",
      "| 1981-06-02 |    $1146 |                                                                                                                                                                                                                                                     NaN% |        NaN% |      $1 |\n",
      "| 1981-06-03 |    $1146 |                                                                                                                                                                                                                                                     NaN% |        NaN% |      $1 |\n",
      "| 1981-06-04 |    $1146 |                                                                                                                                                                                                                                                     NaN% |        NaN% |      $1 |\n",
      "| 1981-06-05 |    $1146 |                                                                                                                                                                                                                                                     NaN% |        NaN% |      $1 |\n",
      "| 1981-06-08 |    $1110 |                                                                                                                                                                                                                                                     NaN% |        NaN% |      $1 |\n",
      "| 1981-06-09 |    $1073 |                                                                                                                                                                                                                                                     NaN% |        NaN% |      $0 |\n",
      "| 1981-06-10 |    $1129 |                                                                                                                                                                                                                                                     NaN% |        NaN% |      $1 |\n",
      "| 1981-06-11 |    $1129 |                                                                                                                                                                                                                                                     NaN% |        NaN% |      $1 |\n",
      "| 1981-06-12 |    $1375 |                                                                                                                                                                                                                                                     NaN% |        NaN% |      $4 |\n",
      "| 1981-06-15 |    $1203 |                                                                                                                                                                                                                                                     NaN% |        NaN% |      $2 |\n",
      "| 1981-06-16 |    $1242 |                                                                                                                                                                                                                                                     NaN% |        NaN% |      $2 |\n",
      "| 1981-06-17 |    $1203 |                                                                                                                                                                                                                                                     NaN% |        NaN% |      $2 |\n",
      "| 1981-06-18 |    $1162 |                                                                                                                                                                                                                                                     NaN% |        NaN% |      $1 |\n",
      "| 1981-06-19 |    $1121 |                                                                                                                                                                                                                                                     NaN% |        NaN% |      $1 |\n",
      "| 1981-06-22 |    $1286 |                                                                                                                                                                                                                                                     NaN% |        NaN% |      $2 |\n",
      "| 1981-06-23 |    $1306 |                                                                                                                                                                                                                                                     NaN% |        NaN% |      $2 |\n"
     ]
    },
    {
     "name": "stdout",
     "output_type": "stream",
     "text": [
      "| 1981-06-24 |    $1201 |                                                                                                                                                                                                                                                     NaN% |        NaN% |      $1 |\n",
      "| 1981-06-25 |    $1223 |                                                                                                                                                                                                                                                     NaN% |        NaN% |      $2 |\n",
      "| 1981-06-26 |    $1179 |                                                                                                                                                                                                                                                     NaN% |        NaN% |      $1 |\n",
      "| 1981-06-29 |    $1199 |                                                                                                                                                                                                                                                     NaN% |        NaN% |      $1 |\n",
      "| 1981-06-30 |    $1132 |                                                                                                                                                                                                                                                     NaN% |        NaN% |      $1 |\n",
      "| 1981-07-01 |    $1064 |                                                                                                                                                                                                                                                     NaN% |        NaN% |      $0 |\n",
      "| 1981-07-02 |     $877 |                                                                                                                                                                                                                                                     NaN% |        NaN% |     $-1 |\n",
      "| 1981-07-06 |     $853 |                                                                                                                                                                                                                                                     NaN% |        NaN% |     $-1 |\n",
      "| 1981-07-07 |     $830 |                                                                                                                                                                                                                                                     NaN% |        NaN% |     $-1 |\n",
      "| 1981-07-08 |     $877 |                                                                                                                                                                                                                                                     NaN% |        NaN% |      $0 |\n",
      "| 1981-07-09 |     $900 |                                                                                                                                                                                                                                                     NaN% |        NaN% |      $0 |\n",
      "| 1981-07-10 |     $875 |                                                                                                                                                                                                                                                     NaN% |        NaN% |      $0 |\n",
      "| 1981-07-13 |     $877 |                                                                                                                                                                                                                                                     NaN% |        NaN% |      $0 |\n",
      "| 1981-07-14 |     $903 |                                                                                                                                                                                                                                                     NaN% |        NaN% |      $0 |\n",
      "| 1981-07-15 |     $800 |                                                                                                                                                                                                                                                     NaN% |        NaN% |     $-1 |\n",
      "| 1981-07-16 |     $905 |                                                                                                                                                                                                                                                     NaN% |        NaN% |      $0 |\n",
      "| 1981-07-17 |     $824 |                                                                                                                                                                                                                                                     NaN% |        NaN% |     $-1 |\n",
      "| 1981-07-20 |     $851 |                                                                                                                                                                                                                                                     NaN% |        NaN% |     $-1 |\n",
      "| 1981-07-21 |     $849 |                                                                                                                                                                                                                                                     NaN% |        NaN% |     $-1 |\n",
      "| 1981-07-22 |     $931 |                                                                                                                                                                                                                                                     NaN% |        NaN% |      $0 |\n",
      "| 1981-07-23 |     $959 |                                                                                                                                                                                                                                                     NaN% |        NaN% |      $0 |\n",
      "| 1981-07-24 |     $944 |                                                                                                                                                                                                                                                     NaN% |        NaN% |      $0 |\n",
      "| 1981-07-27 |     $858 |                                                                                                                                                                                                                                                     NaN% |        NaN% |      $0 |\n",
      "| 1981-07-28 |     $800 |                                                                                                                                                                                                                                                     NaN% |        NaN% |     $-1 |\n",
      "| 1981-07-29 |     $831 |                                                                                                                                                                                                                                                     NaN% |        NaN% |     $-1 |\n",
      "| 1981-07-30 |     $831 |                                                                                                                                                                                                                                                     NaN% |        NaN% |     $-1 |\n",
      "| 1981-07-31 |     $801 |                                                                                                                                                                                                                                                     NaN% |        NaN% |     $-1 |\n",
      "| 1981-08-03 |     $832 |                                                                                                                                                                                                                                                     NaN% |        NaN% |     $-1 |\n"
     ]
    },
    {
     "name": "stdout",
     "output_type": "stream",
     "text": [
      "| 1981-08-04 |     $712 |                                                                                                                                                                                                                                                     NaN% |        NaN% |     $-1 |\n",
      "| 1981-08-05 |     $712 |                                                                                                                                                                                                                                                     NaN% |        NaN% |     $-1 |\n",
      "| 1981-08-06 |     $681 |                                                                                                                                                                                                                                                     NaN% |        NaN% |     $-1 |\n",
      "| 1981-08-07 |     $618 |                                                                                                                                                                                                                                                     NaN% |        NaN% |     $-2 |\n",
      "| 1981-08-10 |     $586 |                                                                                                                                                                                                                                                     NaN% |        NaN% |     $-2 |\n",
      "| 1981-08-11 |     $618 |                                                                                                                                                                                                                                                     NaN% |        NaN% |     $-2 |\n",
      "| 1981-08-12 |     $683 |                                                                                                                                                                                                                                                     NaN% |        NaN% |     $-1 |\n",
      "| 1981-08-13 |     $683 |                                                                                                                                                                                                                                                     NaN% |        NaN% |     $-1 |\n",
      "| 1981-08-14 |     $650 |                                                                                                                                                                                                                                                     NaN% |        NaN% |     $-2 |\n",
      "| 1981-08-17 |     $583 |                                                                                                                                                                                                                                                     NaN% |        NaN% |     $-2 |\n",
      "| 1981-08-18 |     $583 |                                                                                                                                                                                                                                                     NaN% |        NaN% |     $-2 |\n",
      "| 1981-08-19 |     $549 |                                                                                                                                                                                                                                                     NaN% |        NaN% |     $-2 |\n",
      "| 1981-08-20 |     $549 |                                                                                                                                                                                                                                                     NaN% |        NaN% |     $-2 |\n",
      "| 1981-08-21 |     $479 |                                                                                                                                                                                                                                                     NaN% |        NaN% |     $-2 |\n",
      "| 1981-08-24 |     $479 |                                                                                                                                                                                                                                                     NaN% |        NaN% |     $-2 |\n",
      "| 1981-08-25 |     $479 |                                                                                                                                                                                                                                                     NaN% |        NaN% |     $-2 |\n",
      "| 1981-08-26 |     $335 |                                                                                                                                                                                                                                                     NaN% |        NaN% |     $-3 |\n",
      "| 1981-08-27 |     $408 |                                                                                                                                                                                                                                                     NaN% |        NaN% |     $-3 |\n",
      "| 1981-08-28 |     $335 |                                                                                                                                                                                                                                                     NaN% |        NaN% |     $-3 |\n",
      "| 1981-08-31 |     $409 |                                                                                                                                                                                                                                                     NaN% |        NaN% |     $-3 |\n",
      "| 1981-09-01 |     $483 |                                                                                                                                                                                                                                                     NaN% |        NaN% |     $-2 |\n",
      "| 1981-09-02 |     $446 |                                                                                                                                                                                                                                                     NaN% |        NaN% |     $-3 |\n",
      "| 1981-09-03 |     $446 |                                                                                                                                                                                                                                                     NaN% |        NaN% |     $-3 |\n",
      "| 1981-09-04 |     $446 |                                                                                                                                                                                                                                                     NaN% |        NaN% |     $-3 |\n",
      "| 1981-09-08 |     $446 |                                                                                                                                                                                                                                                     NaN% |        NaN% |     $-3 |\n",
      "| 1981-09-09 |     $446 |                                                                                                                                                                                                                                                     NaN% |        NaN% |     $-3 |\n",
      "| 1981-09-10 |     $446 |                                                                                                                                                                                                                                                     NaN% |        NaN% |     $-3 |\n",
      "| 1981-09-11 |     $446 |                                                                                                                                                                                                                                                     NaN% |        NaN% |     $-3 |\n"
     ]
    },
    {
     "name": "stdout",
     "output_type": "stream",
     "text": [
      "| 1981-09-14 |     $446 |                                                                                                                                                                                                                                                     NaN% |        NaN% |     $-3 |\n",
      "| 1981-09-15 |     $446 |                                                                                                                                                                                                                                                     NaN% |        NaN% |     $-3 |\n",
      "| 1981-09-16 |     $446 |                                                                                                                                                                                                                                                     NaN% |        NaN% |     $-3 |\n",
      "| 1981-09-17 |     $446 |                                                                                                                                                                                                                                                     NaN% |        NaN% |     $-3 |\n",
      "| 1981-09-18 |     $446 |                                                                                                                                                                                                                                                     NaN% |        NaN% |     $-3 |\n",
      "| 1981-09-21 |     $446 |                                                                                                                                                                                                                                                     NaN% |        NaN% |     $-3 |\n",
      "| 1981-09-22 |     $446 |                                                                                                                                                                                                                                                     NaN% |        NaN% |     $-3 |\n",
      "| 1981-09-23 |     $446 |                                                                                                                                                                                                                                                     NaN% |        NaN% |     $-3 |\n",
      "| 1981-09-24 |     $446 |                                                                                                                                                                                                                                                     NaN% |        NaN% |     $-3 |\n",
      "| 1981-09-25 |     $446 |                                                                                                                                                                                                                                                     NaN% |        NaN% |     $-3 |\n",
      "| 1981-09-28 |     $446 |                                                                                                                                                                                                                                                     NaN% |        NaN% |     $-3 |\n",
      "| 1981-09-29 |     $446 |                                                                                                                                                                                                                                                     NaN% |        NaN% |     $-3 |\n",
      "| 1981-09-30 |     $446 |                                                                                                                                                                                                                                                     NaN% |        NaN% |     $-3 |\n",
      "| 1981-10-01 |     $446 |                                                                                                                                                                                                                                                     NaN% |        NaN% |     $-3 |\n",
      "| 1981-10-02 |     $446 |                                                                                                                                                                                                                                                     NaN% |        NaN% |     $-3 |\n",
      "| 1981-10-05 |     $446 |                                                                                                                                                                                                                                                     NaN% |        NaN% |     $-3 |\n",
      "| 1981-10-06 |     $446 |                                                                                                                                                                                                                                                     NaN% |        NaN% |     $-3 |\n",
      "| 1981-10-07 |     $446 |                                                                                                                                                                                                                                                     NaN% |        NaN% |     $-3 |\n",
      "| 1981-10-08 |     $446 |                                                                                                                                                                                                                                                     NaN% |        NaN% |     $-3 |\n",
      "| 1981-10-09 |     $446 |                                                                                                                                                                                                                                                     NaN% |        NaN% |     $-3 |\n",
      "| 1981-10-12 |     $446 |                                                                                                                                                                                                                                                     NaN% |        NaN% |     $-3 |\n",
      "| 1981-10-13 |     $446 |                                                                                                                                                                                                                                                     NaN% |        NaN% |     $-3 |\n",
      "| 1981-10-14 |     $446 |                                                                                                                                                                                                                                                     NaN% |        NaN% |     $-3 |\n",
      "| 1981-10-15 |     $446 |                                                                                                                                                                                                                                                     NaN% |        NaN% |     $-3 |\n",
      "| 1981-10-16 |     $446 |                                                                                                                                                                                                                                                     NaN% |        NaN% |     $-3 |\n",
      "| 1981-10-19 |     $446 |                                                                                                                                                                                                                                                     NaN% |        NaN% |     $-3 |\n",
      "| 1981-10-20 |     $446 |                                                                                                                                                                                                                                                     NaN% |        NaN% |     $-3 |\n",
      "| 1981-10-21 |     $446 |                                                                                                                                                                                                                                                     NaN% |        NaN% |     $-3 |\n"
     ]
    },
    {
     "name": "stdout",
     "output_type": "stream",
     "text": [
      "| 1981-10-22 |     $446 |                                                                                                                                                                                                                                                     NaN% |        NaN% |     $-3 |\n",
      "| 1981-10-23 |     $446 |                                                                                                                                                                                                                                                     NaN% |        NaN% |     $-3 |\n",
      "| 1981-10-26 |     $446 |                                                                                                                                                                                                                                                     NaN% |        NaN% |     $-3 |\n",
      "| 1981-10-27 |     $446 |                                                                                                                                                                                                                                                     NaN% |        NaN% |     $-3 |\n",
      "| 1981-10-28 |     $446 |                                                                                                                                                                                                                                                     NaN% |        NaN% |     $-3 |\n",
      "| 1981-10-29 |     $446 |                                                                                                                                                                                                                                                     NaN% |        NaN% |     $-3 |\n",
      "| 1981-10-30 |     $446 |                                                                                                                                                                                                                                                     NaN% |        NaN% |     $-3 |\n",
      "| 1981-11-02 |     $446 |                                                                                                                                                                                                                                                     NaN% |        NaN% |     $-3 |\n",
      "| 1981-11-03 |     $446 |                                                                                                                                                                                                                                                     NaN% |        NaN% |     $-3 |\n",
      "| 1981-11-04 |     $446 |                                                                                                                                                                                                                                                     NaN% |        NaN% |     $-3 |\n",
      "| 1981-11-05 |     $446 |                                                                                                                                                                                                                                                     NaN% |        NaN% |     $-3 |\n",
      "| 1981-11-06 |     $446 |                                                                                                                                                                                                                                                     NaN% |        NaN% |     $-3 |\n",
      "| 1981-11-09 |     $446 |                                                                                                                                                                                                                                                     NaN% |        NaN% |     $-3 |\n",
      "| 1981-11-10 |     $446 |                                                                                                                                                                                                                                                     NaN% |        NaN% |     $-3 |\n",
      "| 1981-11-11 |     $446 |                                                                                                                                                                                                                                                     NaN% |        NaN% |     $-3 |\n",
      "| 1981-11-12 |     $446 |                                                                                                                                                                                                                                                     NaN% |        NaN% |     $-3 |\n",
      "| 1981-11-13 |     $446 |                                                                                                                                                                                                                                                     NaN% |        NaN% |     $-3 |\n",
      "| 1981-11-16 |     $446 |                                                                                                                                                                                                                                                     NaN% |        NaN% |     $-3 |\n",
      "| 1981-11-17 |     $446 |                                                                                                                                                                                                                                                     NaN% |        NaN% |     $-3 |\n",
      "| 1981-11-18 |     $446 |                                                                                                                                                                                                                                                     NaN% |        NaN% |     $-3 |\n",
      "| 1981-11-19 |     $446 |                                                                                                                                                                                                                                                     NaN% |        NaN% |     $-3 |\n",
      "| 1981-11-20 |     $446 |                                                                                                                                                                                                                                                     NaN% |        NaN% |     $-3 |\n",
      "| 1981-11-23 |     $446 |                                                                                                                                                                                                                                                     NaN% |        NaN% |     $-3 |\n",
      "| 1981-11-24 |     $446 |                                                                                                                                                                                                                                                     NaN% |        NaN% |     $-3 |\n",
      "| 1981-11-25 |     $446 |                                                                                                                                                                                                                                                     NaN% |        NaN% |     $-3 |\n",
      "| 1981-11-27 |     $446 |                                                                                                                                                                                                                                                     NaN% |        NaN% |     $-3 |\n",
      "| 1981-11-30 |     $446 |                                                                                                                                                                                                                                                     NaN% |        NaN% |     $-3 |\n",
      "| 1981-12-01 |     $446 |                                                                                                                                                                                                                                                     NaN% |        NaN% |     $-3 |\n"
     ]
    },
    {
     "name": "stdout",
     "output_type": "stream",
     "text": [
      "| 1981-12-02 |     $446 |                                                                                                                                                                                                                                                     NaN% |        NaN% |     $-3 |\n",
      "| 1981-12-03 |     $446 |                                                                                                                                                                                                                                                     NaN% |        NaN% |     $-3 |\n",
      "| 1981-12-04 |     $446 |                                                                                                                                                                                                                                                     NaN% |        NaN% |     $-3 |\n",
      "| 1981-12-07 |     $446 |                                                                                                                                                                                                                                                     NaN% |        NaN% |     $-3 |\n",
      "| 1981-12-08 |     $446 |                                                                                                                                                                                                                                                     NaN% |        NaN% |     $-3 |\n",
      "| 1981-12-09 |     $446 |                                                                                                                                                                                                                                                     NaN% |        NaN% |     $-3 |\n",
      "| 1981-12-10 |     $446 |                                                                                                                                                                                                                                                     NaN% |        NaN% |     $-3 |\n",
      "| 1981-12-11 |     $446 |                                                                                                                                                                                                                                                     NaN% |        NaN% |     $-3 |\n",
      "| 1981-12-14 |     $446 |                                                                                                                                                                                                                                                     NaN% |        NaN% |     $-3 |\n",
      "| 1981-12-15 |     $446 |                                                                                                                                                                                                                                                     NaN% |        NaN% |     $-3 |\n",
      "| 1981-12-16 |     $446 |                                                                                                                                                                                                                                                     NaN% |        NaN% |     $-3 |\n",
      "| 1981-12-17 |     $446 |                                                                                                                                                                                                                                                     NaN% |        NaN% |     $-3 |\n",
      "| 1981-12-18 |     $446 |                                                                                                                                                                                                                                                     NaN% |        NaN% |     $-3 |\n",
      "| 1981-12-21 |     $446 |                                                                                                                                                                                                                                                     NaN% |        NaN% |     $-3 |\n",
      "| 1981-12-22 |     $446 |                                                                                                                                                                                                                                                     NaN% |        NaN% |     $-3 |\n",
      "| 1981-12-23 |     $446 |                                                                                                                                                                                                                                                     NaN% |        NaN% |     $-3 |\n",
      "| 1981-12-24 |     $446 |                                                                                                                                                                                                                                                     NaN% |        NaN% |     $-3 |\n",
      "| 1981-12-28 |     $446 |                                                                                                                                                                                                                                                     NaN% |        NaN% |     $-3 |\n",
      "| 1981-12-29 |     $446 |                                                                                                                                                                                                                                                     NaN% |        NaN% |     $-3 |\n",
      "| 1981-12-30 |     $446 |                                                                                                                                                                                                                                                     NaN% |        NaN% |     $-3 |\n",
      "| 1981-12-31 |     $446 |                                                                                                                                                                                                                                                     NaN% |        NaN% |     $-3 |\n",
      "| 1982-01-04 |     $446 |                                                                                                                                                                                                                                                     NaN% |        NaN% |     $-3 |\n",
      "| 1982-01-05 |     $446 |                                                                                                                                                                                                                                                     NaN% |        NaN% |     $-3 |\n",
      "| 1982-01-06 |     $446 |                                                                                                                                                                                                                                                     NaN% |        NaN% |     $-3 |\n",
      "| 1982-01-07 |     $446 |                                                                                                                                                                                                                                                     NaN% |        NaN% |     $-3 |\n",
      "| 1982-01-08 |     $446 |                                                                                                                                                                                                                                                     NaN% |        NaN% |     $-3 |\n",
      "| 1982-01-11 |     $446 |                                                                                                                                                                                                                                                     NaN% |        NaN% |     $-3 |\n",
      "| 1982-01-12 |     $446 |                                                                                                                                                                                                                                                     NaN% |        NaN% |     $-3 |\n"
     ]
    },
    {
     "name": "stdout",
     "output_type": "stream",
     "text": [
      "| 1982-01-13 |     $446 |                                                                                                                                                                                                                                                     NaN% |        NaN% |     $-3 |\n",
      "| 1982-01-14 |     $446 |                                                                                                                                                                                                                                                     NaN% |        NaN% |     $-3 |\n",
      "| 1982-01-15 |     $446 |                                                                                                                                                                                                                                                     NaN% |        NaN% |     $-3 |\n",
      "| 1982-01-18 |     $446 |                                                                                                                                                                                                                                                     NaN% |        NaN% |     $-3 |\n",
      "| 1982-01-19 |     $446 |                                                                                                                                                                                                                                                     NaN% |        NaN% |     $-3 |\n",
      "| 1982-01-20 |     $446 |                                                                                                                                                                                                                                                     NaN% |        NaN% |     $-3 |\n",
      "| 1982-01-21 |     $446 |                                                                                                                                                                                                                                                     NaN% |        NaN% |     $-3 |\n",
      "| 1982-01-22 |     $446 |                                                                                                                                                                                                                                                     NaN% |        NaN% |     $-3 |\n",
      "| 1982-01-25 |     $446 |                                                                                                                                                                                                                                                     NaN% |        NaN% |     $-3 |\n",
      "| 1982-01-26 |     $446 |                                                                                                                                                                                                                                                     NaN% |        NaN% |     $-3 |\n",
      "| 1982-01-27 |     $446 |                                                                                                                                                                                                                                                     NaN% |        NaN% |     $-3 |\n",
      "| 1982-01-28 |     $446 |                                                                                                                                                                                                                                                     NaN% |        NaN% |     $-3 |\n",
      "| 1982-01-29 |     $446 |                                                                                                                                                                                                                                                     NaN% |        NaN% |     $-3 |\n",
      "| 1982-02-01 |     $446 |                                                                                                                                                                                                                                                     NaN% |        NaN% |     $-3 |\n",
      "| 1982-02-02 |     $446 |                                                                                                                                                                                                                                                     NaN% |        NaN% |     $-3 |\n",
      "| 1982-02-03 |     $446 |                                                                                                                                                                                                                                                     NaN% |        NaN% |     $-3 |\n",
      "| 1982-02-04 |     $446 |                                                                                                                                                                                                                                                     NaN% |        NaN% |     $-3 |\n",
      "| 1982-02-05 |     $446 |                                                                                                                                                                                                                                                     NaN% |        NaN% |     $-3 |\n",
      "| 1982-02-08 |     $446 |                                                                                                                                                                                                                                                     NaN% |        NaN% |     $-3 |\n",
      "| 1982-02-09 |     $446 |                                                                                                                                                                                                                                                     NaN% |        NaN% |     $-3 |\n",
      "| 1982-02-10 |     $446 |                                                                                                                                                                                                                                                     NaN% |        NaN% |     $-3 |\n",
      "| 1982-02-11 |     $446 |                                                                                                                                                                                                                                                     NaN% |        NaN% |     $-3 |\n",
      "| 1982-02-12 |     $446 |                                                                                                                                                                                                                                                     NaN% |        NaN% |     $-3 |\n",
      "| 1982-02-16 |     $446 |                                                                                                                                                                                                                                                     NaN% |        NaN% |     $-3 |\n",
      "| 1982-02-17 |     $446 |                                                                                                                                                                                                                                                     NaN% |        NaN% |     $-3 |\n",
      "| 1982-02-18 |     $446 |                                                                                                                                                                                                                                                     NaN% |        NaN% |     $-3 |\n",
      "| 1982-02-19 |     $446 |                                                                                                                                                                                                                                                     NaN% |        NaN% |     $-3 |\n",
      "| 1982-02-22 |     $446 |                                                                                                                                                                                                                                                     NaN% |        NaN% |     $-3 |\n"
     ]
    },
    {
     "name": "stdout",
     "output_type": "stream",
     "text": [
      "| 1982-02-23 |     $446 |                                                                                                                                                                                                                                                     NaN% |        NaN% |     $-3 |\n",
      "| 1982-02-24 |     $446 |                                                                                                                                                                                                                                                     NaN% |        NaN% |     $-3 |\n",
      "| 1982-02-25 |     $446 |                                                                                                                                                                                                                                                     NaN% |        NaN% |     $-3 |\n",
      "| 1982-02-26 |     $446 |                                                                                                                                                                                                                                                     NaN% |        NaN% |     $-3 |\n",
      "| 1982-03-01 |     $446 |                                                                                                                                                                                                                                                     NaN% |        NaN% |     $-3 |\n",
      "| 1982-03-02 |     $446 |                                                                                                                                                                                                                                                     NaN% |        NaN% |     $-3 |\n",
      "| 1982-03-03 |     $446 |                                                                                                                                                                                                                                                     NaN% |        NaN% |     $-3 |\n",
      "| 1982-03-04 |     $446 |                                                                                                                                                                                                                                                     NaN% |        NaN% |     $-3 |\n",
      "| 1982-03-05 |     $446 |                                                                                                                                                                                                                                                     NaN% |        NaN% |     $-3 |\n",
      "| 1982-03-08 |     $446 |                                                                                                                                                                                                                                                     NaN% |        NaN% |     $-3 |\n",
      "| 1982-03-09 |     $446 |                                                                                                                                                                                                                                                     NaN% |        NaN% |     $-3 |\n",
      "| 1982-03-10 |     $446 |                                                                                                                                                                                                                                                     NaN% |        NaN% |     $-3 |\n",
      "| 1982-03-11 |     $446 |                                                                                                                                                                                                                                                     NaN% |        NaN% |     $-3 |\n",
      "| 1982-03-12 |     $446 |                                                                                                                                                                                                                                                     NaN% |        NaN% |     $-3 |\n",
      "| 1982-03-15 |     $446 |                                                                                                                                                                                                                                                     NaN% |        NaN% |     $-3 |\n",
      "| 1982-03-16 |     $446 |                                                                                                                                                                                                                                                     NaN% |        NaN% |     $-3 |\n",
      "| 1982-03-17 |     $446 |                                                                                                                                                                                                                                                     NaN% |        NaN% |     $-3 |\n",
      "| 1982-03-18 |     $446 |                                                                                                                                                                                                                                                     NaN% |        NaN% |     $-3 |\n",
      "| 1982-03-19 |     $446 |                                                                                                                                                                                                                                                     NaN% |        NaN% |     $-3 |\n",
      "| 1982-03-22 |     $446 |                                                                                                                                                                                                                                                     NaN% |        NaN% |     $-3 |\n",
      "| 1982-03-23 |     $446 |                                                                                                                                                                                                                                                     NaN% |        NaN% |     $-3 |\n",
      "| 1982-03-24 |     $446 |                                                                                                                                                                                                                                                     NaN% |        NaN% |     $-3 |\n",
      "| 1982-03-25 |     $446 |                                                                                                                                                                                                                                                     NaN% |        NaN% |     $-3 |\n",
      "| 1982-03-26 |     $446 |                                                                                                                                                                                                                                                     NaN% |        NaN% |     $-3 |\n",
      "| 1982-03-29 |     $446 |                                                                                                                                                                                                                                                     NaN% |        NaN% |     $-3 |\n",
      "| 1982-03-30 |     $446 |                                                                                                                                                                                                                                                     NaN% |        NaN% |     $-3 |\n",
      "| 1982-03-31 |     $446 |                                                                                                                                                                                                                                                     NaN% |        NaN% |     $-3 |\n",
      "| 1982-04-01 |     $446 |                                                                                                                                                                                                                                                     NaN% |        NaN% |     $-3 |\n"
     ]
    },
    {
     "name": "stdout",
     "output_type": "stream",
     "text": [
      "| 1982-04-02 |     $446 |                                                                                                                                                                                                                                                     NaN% |        NaN% |     $-3 |\n",
      "| 1982-04-05 |     $446 |                                                                                                                                                                                                                                                     NaN% |        NaN% |     $-3 |\n",
      "| 1982-04-06 |     $445 |                                                                                                                                                                                                                                                     NaN% |        NaN% |     $-3 |\n",
      "| 1982-04-07 |     $446 |                                                                                                                                                                                                                                                     NaN% |        NaN% |     $-2 |\n",
      "| 1982-04-08 |     $442 |                                                                                                                                                                                                                                                     NaN% |        NaN% |     $-2 |\n",
      "| 1982-04-12 |     $443 |                                                                                                                                                                                                                                                     NaN% |        NaN% |     $-2 |\n",
      "| 1982-04-13 |     $441 |                                                                                                                                                                                                                                                     NaN% |        NaN% |     $-2 |\n",
      "| 1982-04-14 |     $451 |                                                                                                                                                                                                                                                     NaN% |        NaN% |     $-2 |\n",
      "| 1982-04-15 |     $453 |                                                                                                                                                                                                                                                     NaN% |        NaN% |     $-2 |\n",
      "| 1982-04-16 |     $455 |                                                                                                                                                                                                                                                     NaN% |        NaN% |     $-2 |\n",
      "| 1982-04-19 |     $442 |                                                                                                                                                                                                                                                     NaN% |        NaN% |     $-2 |\n",
      "| 1982-04-20 |     $453 |                                                                                                                                                                                                                                                     NaN% |        NaN% |     $-2 |\n",
      "| 1982-04-21 |     $465 |                                                                                                                                                                                                                                                     NaN% |        NaN% |     $-2 |\n",
      "| 1982-04-22 |     $475 |                                                                                                                                                                                                                                                     NaN% |        NaN% |     $-2 |\n",
      "| 1982-04-23 |     $503 |                                                                                                                                                                                                                                                     NaN% |        NaN% |     $-2 |\n",
      "| 1982-04-26 |     $488 |                                                                                                                                                                                                                                                     NaN% |        NaN% |     $-2 |\n",
      "| 1982-04-27 |     $480 |                                                                                                                                                                                                                                                     NaN% |        NaN% |     $-2 |\n",
      "| 1982-04-28 |     $476 |                                                                                                                                                                                                                                                     NaN% |        NaN% |     $-2 |\n",
      "| 1982-04-29 |     $476 |                                                                                                                                                                                                                                                     NaN% |        NaN% |     $-2 |\n",
      "| 1982-04-30 |     $509 |                                                                                                                                                                                                                                                     NaN% |        NaN% |     $-2 |\n",
      "| 1982-05-03 |     $544 |                                                                                                                                                                                                                                                     NaN% |        NaN% |     $-2 |\n",
      "| 1982-05-04 |     $539 |                                                                                                                                                                                                                                                     NaN% |        NaN% |     $-2 |\n",
      "| 1982-05-05 |     $544 |                                                                                                                                                                                                                                                     NaN% |        NaN% |     $-2 |\n",
      "| 1982-05-06 |     $527 |                                                                                                                                                                                                                                                     NaN% |        NaN% |     $-2 |\n",
      "| 1982-05-07 |     $485 |                                                                                                                                                                                                                                                     NaN% |        NaN% |     $-2 |\n",
      "| 1982-05-10 |     $516 |                                                                                                                                                                                                                                                     NaN% |        NaN% |     $-2 |\n",
      "| 1982-05-11 |     $555 |                                                                                                                                                                                                                                                     NaN% |        NaN% |     $-2 |\n",
      "| 1982-05-12 |     $522 |                                                                                                                                                                                                                                                     NaN% |        NaN% |     $-2 |\n"
     ]
    },
    {
     "name": "stdout",
     "output_type": "stream",
     "text": [
      "| 1982-05-13 |     $529 |                                                                                                                                                                                                                                                     NaN% |        NaN% |     $-2 |\n",
      "| 1982-05-14 |     $507 |                                                                                                                                                                                                                                                     NaN% |        NaN% |     $-2 |\n",
      "| 1982-05-17 |     $484 |                                                                                                                                                                                                                                                     NaN% |        NaN% |     $-2 |\n",
      "| 1982-05-18 |     $492 |                                                                                                                                                                                                                                                     NaN% |        NaN% |     $-2 |\n",
      "| 1982-05-19 |     $492 |                                                                                                                                                                                                                                                     NaN% |        NaN% |     $-2 |\n",
      "| 1982-05-20 |     $483 |                                                                                                                                                                                                                                                     NaN% |        NaN% |     $-2 |\n",
      "| 1982-05-21 |     $501 |                                                                                                                                                                                                                                                     NaN% |        NaN% |     $-2 |\n",
      "| 1982-05-24 |     $474 |                                                                                                                                                                                                                                                     NaN% |        NaN% |     $-2 |\n",
      "| 1982-05-25 |     $464 |                                                                                                                                                                                                                                                     NaN% |        NaN% |     $-2 |\n",
      "| 1982-05-26 |     $445 |                                                                                                                                                                                                                                                     NaN% |        NaN% |     $-2 |\n",
      "| 1982-05-27 |     $445 |                                                                                                                                                                                                                                                     NaN% |        NaN% |     $-2 |\n",
      "| 1982-05-28 |     $425 |                                                                                                                                                                                                                                                     NaN% |        NaN% |     $-2 |\n",
      "| 1982-06-01 |     $446 |                                                                                                                                                                                                                                                     NaN% |        NaN% |     $-2 |\n",
      "| 1982-06-02 |     $435 |                                                                                                                                                                                                                                                     NaN% |        NaN% |     $-2 |\n",
      "| 1982-06-03 |     $379 |                                                                                                                                                                                                                                                     NaN% |        NaN% |     $-2 |\n",
      "| 1982-06-04 |     $379 |                                                                                                                                                                                                                                                     NaN% |        NaN% |     $-2 |\n",
      "| 1982-06-07 |     $356 |                                                                                                                                                                                                                                                     NaN% |        NaN% |     $-2 |\n",
      "| 1982-06-08 |     $356 |                                                                                                                                                                                                                                                     NaN% |        NaN% |     $-2 |\n",
      "| 1982-06-09 |     $368 |                                                                                                                                                                                                                                                     NaN% |        NaN% |     $-2 |\n",
      "| 1982-06-10 |     $455 |                                                                                                                                                                                                                                                     NaN% |        NaN% |     $-2 |\n",
      "| 1982-06-11 |     $405 |                                                                                                                                                                                                                                                     NaN% |        NaN% |     $-2 |\n",
      "| 1982-06-14 |     $418 |                                                                                                                                                                                                                                                     NaN% |        NaN% |     $-2 |\n",
      "| 1982-06-15 |     $484 |                                                                                                                                                                                                                                                     NaN% |        NaN% |     $-2 |\n",
      "| 1982-06-16 |     $484 |                                                                                                                                                                                                                                                     NaN% |        NaN% |     $-2 |\n",
      "| 1982-06-17 |     $470 |                                                                                                                                                                                                                                                     NaN% |        NaN% |     $-2 |\n",
      "| 1982-06-18 |     $456 |                                                                                                                                                                                                                                                     NaN% |        NaN% |     $-2 |\n",
      "| 1982-06-21 |     $498 |                                                                                                                                                                                                                                                     NaN% |        NaN% |     $-2 |\n",
      "| 1982-06-22 |     $640 |                                                                                                                                                                                                                                                     NaN% |        NaN% |     $-1 |\n"
     ]
    },
    {
     "name": "stdout",
     "output_type": "stream",
     "text": [
      "| 1982-06-23 |     $626 |                                                                                                                                                                                                                                                     NaN% |        NaN% |     $-1 |\n",
      "| 1982-06-24 |     $538 |                                                                                                                                                                                                                                                     NaN% |        NaN% |     $-1 |\n",
      "| 1982-06-25 |     $568 |                                                                                                                                                                                                                                                     NaN% |        NaN% |     $-1 |\n",
      "| 1982-06-28 |     $598 |                                                                                                                                                                                                                                                     NaN% |        NaN% |     $-1 |\n",
      "| 1982-06-29 |     $598 |                                                                                                                                                                                                                                                     NaN% |        NaN% |     $-1 |\n",
      "| 1982-06-30 |     $504 |                                                                                                                                                                                                                                                     NaN% |        NaN% |     $-2 |\n",
      "| 1982-07-01 |     $373 |                                                                                                                                                                                                                                                     NaN% |        NaN% |     $-2 |\n",
      "| 1982-07-02 |     $356 |                                                                                                                                                                                                                                                     NaN% |        NaN% |     $-2 |\n",
      "| 1982-07-06 |     $541 |                                                                                                                                                                                                                                                     NaN% |        NaN% |     $-1 |\n",
      "| 1982-07-07 |     $525 |                                                                                                                                                                                                                                                     NaN% |        NaN% |     $-1 |\n",
      "| 1982-07-08 |     $490 |                                                                                                                                                                                                                                                     NaN% |        NaN% |     $-2 |\n",
      "| 1982-07-09 |     $577 |                                                                                                                                                                                                                                                     NaN% |        NaN% |     $-1 |\n",
      "| 1982-07-12 |     $577 |                                                                                                                                                                                                                                                     NaN% |        NaN% |     $-1 |\n",
      "| 1982-07-13 |     $559 |                                                                                                                                                                                                                                                     NaN% |        NaN% |     $-1 |\n",
      "| 1982-07-14 |     $486 |                                                                                                                                                                                                                                                     NaN% |        NaN% |     $-2 |\n",
      "| 1982-07-15 |     $652 |                                                                                                                                                                                                                                                     NaN% |        NaN% |     $-1 |\n",
      "| 1982-07-16 |     $652 |                                                                                                                                                                                                                                                     NaN% |        NaN% |     $-1 |\n",
      "| 1982-07-19 |     $633 |                                                                                                                                                                                                                                                     NaN% |        NaN% |     $-1 |\n",
      "| 1982-07-20 |     $652 |                                                                                                                                                                                                                                                     NaN% |        NaN% |     $-1 |\n",
      "| 1982-07-21 |     $613 |                                                                                                                                                                                                                                                     NaN% |        NaN% |     $-1 |\n",
      "| 1982-07-22 |     $652 |                                                                                                                                                                                                                                                     NaN% |        NaN% |     $-1 |\n",
      "| 1982-07-23 |     $593 |                                                                                                                                                                                                                                                     NaN% |        NaN% |     $-1 |\n",
      "| 1982-07-26 |     $613 |                                                                                                                                                                                                                                                     NaN% |        NaN% |     $-1 |\n",
      "| 1982-07-27 |     $532 |                                                                                                                                                                                                                                                     NaN% |        NaN% |     $-1 |\n",
      "| 1982-07-28 |     $427 |                                                                                                                                                                                                                                                     NaN% |        NaN% |     $-2 |\n",
      "| 1982-07-29 |     $384 |                                                                                                                                                                                                                                                     NaN% |        NaN% |     $-2 |\n",
      "| 1982-07-30 |     $470 |                                                                                                                                                                                                                                                     NaN% |        NaN% |     $-2 |\n",
      "| 1982-08-02 |     $449 |                                                                                                                                                                                                                                                     NaN% |        NaN% |     $-2 |\n"
     ]
    },
    {
     "name": "stdout",
     "output_type": "stream",
     "text": [
      "| 1982-08-03 |     $382 |                                                                                                                                                                                                                                                     NaN% |        NaN% |     $-2 |\n",
      "| 1982-08-04 |     $268 |                                                                                                                                                                                                                                                     NaN% |        NaN% |     $-2 |\n",
      "| 1982-08-05 |     $268 |                                                                                                                                                                                                                                                     NaN% |        NaN% |     $-2 |\n",
      "| 1982-08-06 |     $245 |                                                                                                                                                                                                                                                     NaN% |        NaN% |     $-2 |\n",
      "| 1982-08-09 |     $339 |                                                                                                                                                                                                                                                     NaN% |        NaN% |     $-2 |\n",
      "| 1982-08-10 |     $339 |                                                                                                                                                                                                                                                     NaN% |        NaN% |     $-2 |\n",
      "| 1982-08-11 |     $315 |                                                                                                                                                                                                                                                     NaN% |        NaN% |     $-2 |\n",
      "| 1982-08-12 |     $364 |                                                                                                                                                                                                                                                     NaN% |        NaN% |     $-2 |\n",
      "| 1982-08-13 |     $437 |                                                                                                                                                                                                                                                     NaN% |        NaN% |     $-2 |\n",
      "| 1982-08-16 |     $774 |                                                                                                                                                                                                                                                     NaN% |        NaN% |      $0 |\n",
      "| 1982-08-17 |     $606 |                                                                                                                                                                                                                                                     NaN% |        NaN% |     $-1 |\n",
      "| 1982-08-18 |     $728 |                                                                                                                                                                                                                                                     NaN% |        NaN% |      $0 |\n",
      "| 1982-08-19 |     $969 |                                                                                                                                                                                                                                                     NaN% |        NaN% |      $0 |\n",
      "| 1982-08-20 |    $1253 |                                                                                                                                                                                                                                                     NaN% |        NaN% |      $0 |\n",
      "| 1982-08-23 |    $1183 |                                                                                                                                                                                                                                                     NaN% |        NaN% |      $0 |\n",
      "| 1982-08-24 |    $1396 |                                                                                                                                                                                                                                                     NaN% |        NaN% |      $1 |\n",
      "| 1982-08-25 |    $1419 |                                                                                                                                                                                                                                                     NaN% |        NaN% |      $1 |\n",
      "| 1982-08-26 |    $1348 |                                                                                                                                                                                                                                                     NaN% |        NaN% |      $1 |\n",
      "| 1982-08-27 |    $1275 |                                                                                                                                                                                                                                                     NaN% |        NaN% |      $0 |\n",
      "| 1982-08-30 |    $1324 |                                                                                                                                                                                                                                                     NaN% |        NaN% |      $1 |\n",
      "| 1982-08-31 |    $1299 |                                                                                                                                                                                                                                                     NaN% |        NaN% |      $1 |\n",
      "| 1982-09-01 |    $1596 |                                                                                                                                                                                                                                                     NaN% |        NaN% |      $2 |\n",
      "| 1982-09-02 |    $1571 |                                                                                                                                                                                                                                                     NaN% |        NaN% |      $1 |\n",
      "| 1982-09-03 |    $1446 |                                                                                                                                                                                                                                                     NaN% |        NaN% |      $1 |\n",
      "| 1982-09-07 |    $1214 |                                                                                                                                                                                                                                                     NaN% |        NaN% |      $0 |\n",
      "| 1982-09-08 |    $1188 |                                                                                                                                                                                                                                                     NaN% |        NaN% |      $0 |\n",
      "| 1982-09-09 |    $1081 |                                                                                                                                                                                                                                                     NaN% |        NaN% |      $0 |\n",
      "| 1982-09-10 |    $1269 |                                                                                                                                                                                                                                                     NaN% |        NaN% |      $0 |\n"
     ]
    },
    {
     "name": "stdout",
     "output_type": "stream",
     "text": [
      "| 1982-09-13 |    $1403 |                                                                                                                                                                                                                                                     NaN% |        NaN% |      $1 |\n",
      "| 1982-09-14 |    $1376 |                                                                                                                                                                                                                                                     NaN% |        NaN% |      $1 |\n",
      "| 1982-09-15 |    $1376 |                                                                                                                                                                                                                                                     NaN% |        NaN% |      $1 |\n",
      "| 1982-09-16 |    $1238 |                                                                                                                                                                                                                                                     NaN% |        NaN% |      $0 |\n",
      "| 1982-09-17 |    $1210 |                                                                                                                                                                                                                                                     NaN% |        NaN% |      $0 |\n",
      "| 1982-09-20 |    $1210 |                                                                                                                                                                                                                                                     NaN% |        NaN% |      $0 |\n",
      "| 1982-09-21 |    $1153 |                                                                                                                                                                                                                                                     NaN% |        NaN% |      $0 |\n",
      "| 1982-09-22 |     $979 |                                                                                                                                                                                                                                                     NaN% |        NaN% |      $0 |\n",
      "| 1982-09-23 |     $979 |                                                                                                                                                                                                                                                     NaN% |        NaN% |      $0 |\n",
      "| 1982-09-24 |     $979 |                                                                                                                                                                                                                                                     NaN% |        NaN% |      $0 |\n",
      "| 1982-09-27 |    $1098 |                                                                                                                                                                                                                                                     NaN% |        NaN% |      $0 |\n",
      "| 1982-09-28 |     $978 |                                                                                                                                                                                                                                                     NaN% |        NaN% |      $0 |\n",
      "| 1982-09-29 |     $886 |                                                                                                                                                                                                                                                     NaN% |        NaN% |      $0 |\n",
      "| 1982-09-30 |    $1222 |                                                                                                                                                                                                                                                     NaN% |        NaN% |      $0 |\n",
      "| 1982-10-01 |    $1038 |                                                                                                                                                                                                                                                     NaN% |        NaN% |      $0 |\n",
      "| 1982-10-04 |    $1162 |                                                                                                                                                                                                                                                     NaN% |        NaN% |      $0 |\n",
      "| 1982-10-05 |    $1529 |                                                                                                                                                                                                                                                     NaN% |        NaN% |      $1 |\n",
      "| 1982-10-06 |    $1650 |                                                                                                                                                                                                                                                     NaN% |        NaN% |      $2 |\n",
      "| 1982-10-07 |    $1711 |                                                                                                                                                                                                                                                     NaN% |        NaN% |      $2 |\n",
      "| 1982-10-08 |    $2158 |                                                                                                                                                                                                                                                     NaN% |        NaN% |      $3 |\n",
      "| 1982-10-11 |    $2040 |                                                                                                                                                                                                                                                     NaN% |        NaN% |      $3 |\n",
      "| 1982-10-12 |    $2040 |                                                                                                                                                                                                                                                     NaN% |        NaN% |      $3 |\n",
      "| 1982-10-13 |    $1577 |                                                                                                                                                                                                                                                     NaN% |        NaN% |      $1 |\n",
      "| 1982-10-14 |    $1672 |                                                                                                                                                                                                                                                     NaN% |        NaN% |      $2 |\n",
      "| 1982-10-15 |    $2199 |                                                                                                                                                                                                                                                     NaN% |        NaN% |      $3 |\n",
      "| 1982-10-18 |    $2107 |                                                                                                                                                                                                                                                     NaN% |        NaN% |      $3 |\n",
      "| 1982-10-19 |    $2353 |                                                                                                                                                                                                                                                     NaN% |        NaN% |      $4 |\n",
      "| 1982-10-20 |    $2199 |                                                                                                                                                                                                                                                     NaN% |        NaN% |      $3 |\n"
     ]
    },
    {
     "name": "stdout",
     "output_type": "stream",
     "text": [
      "| 1982-10-21 |    $2293 |                                                                                                                                                                                                                                                     NaN% |        NaN% |      $3 |\n",
      "| 1982-10-22 |    $1717 |                                                                                                                                                                                                                                                     NaN% |        NaN% |      $2 |\n",
      "| 1982-10-25 |    $1815 |                                                                                                                                                                                                                                                     NaN% |        NaN% |      $2 |\n",
      "| 1982-10-26 |    $1881 |                                                                                                                                                                                                                                                     NaN% |        NaN% |      $2 |\n",
      "| 1982-10-27 |    $1881 |                                                                                                                                                                                                                                                     NaN% |        NaN% |      $2 |\n",
      "| 1982-10-28 |    $2434 |                                                                                                                                                                                                                                                     NaN% |        NaN% |      $4 |\n",
      "| 1982-10-29 |    $2467 |                                                                                                                                                                                                                                                     NaN% |        NaN% |      $4 |\n",
      "| 1982-11-01 |    $2339 |                                                                                                                                                                                                                                                     NaN% |        NaN% |      $3 |\n",
      "| 1982-11-02 |    $2887 |                                                                                                                                                                                                                                                     NaN% |        NaN% |      $5 |\n",
      "| 1982-11-03 |    $2631 |                                                                                                                                                                                                                                                     NaN% |        NaN% |      $4 |\n",
      "| 1982-11-04 |    $2565 |                                                                                                                                                                                                                                                     NaN% |        NaN% |      $4 |\n",
      "| 1982-11-05 |    $2231 |                                                                                                                                                                                                                                                     NaN% |        NaN% |      $3 |\n",
      "| 1982-11-08 |    $2501 |                                                                                                                                                                                                                                                     NaN% |        NaN% |      $4 |\n",
      "| 1982-11-09 |    $2265 |                                                                                                                                                                                                                                                     NaN% |        NaN% |      $3 |\n",
      "| 1982-11-10 |    $2335 |                                                                                                                                                                                                                                                     NaN% |        NaN% |      $3 |\n",
      "| 1982-11-11 |    $2266 |                                                                                                                                                                                                                                                     NaN% |        NaN% |      $3 |\n"
     ]
    },
    {
     "data": {
      "text/plain": [
       "nil"
      ]
     },
     "execution_count": 8,
     "metadata": {},
     "output_type": "execute_result"
    }
   ],
   "source": [
    "(eval-report 434)\n",
    ";; (update-eval-report)\n",
    ";; (count(deref eval-report-data))\n",
    ";; (deref dailyret-record)"
   ]
  },
  {
   "cell_type": "code",
   "execution_count": 9,
   "metadata": {},
   "outputs": [
    {
     "data": {
      "text/plain": [
       "({:date \"1981-02-26\", :tot-val \"$1000\", :vol \"0.00%\", :sharpe \"0.00%\", :pnl-pt \"$0\"})"
      ]
     },
     "execution_count": 9,
     "metadata": {},
     "output_type": "execute_result"
    }
   ],
   "source": [
    "(take 1 (deref eval-report-data))"
   ]
  },
  {
   "cell_type": "code",
   "execution_count": null,
   "metadata": {},
   "outputs": [],
   "source": []
  },
  {
   "cell_type": "markdown",
   "metadata": {},
   "source": [
    "### Plot variables"
   ]
  },
  {
   "cell_type": "code",
   "execution_count": null,
   "metadata": {},
   "outputs": [],
   "source": [
    "(def data (deref portfolio-value))"
   ]
  },
  {
   "cell_type": "code",
   "execution_count": null,
   "metadata": {},
   "outputs": [],
   "source": [
    "; Add legend name to series\n",
    "(def data-to-plot\n",
    " (map #(assoc % :plot \"portfolio\")\n",
    "  data))"
   ]
  },
  {
   "cell_type": "code",
   "execution_count": null,
   "metadata": {},
   "outputs": [],
   "source": [
    "(first data-to-plot)"
   ]
  },
  {
   "cell_type": "code",
   "execution_count": null,
   "metadata": {},
   "outputs": [],
   "source": [
    "(plot data-to-plot :plot :date :daily-ret)"
   ]
  },
  {
   "cell_type": "code",
   "execution_count": null,
   "metadata": {},
   "outputs": [],
   "source": []
  }
 ],
 "metadata": {
  "kernelspec": {
   "display_name": "Clojure (backtesting_clojure)",
   "language": "clojure",
   "name": "backtesting_clojure"
  },
  "language_info": {
   "file_extension": ".clj",
   "mimetype": "text/x-clojure",
   "name": "clojure",
   "version": "1.10.1"
  }
 },
 "nbformat": 4,
 "nbformat_minor": 2
}
