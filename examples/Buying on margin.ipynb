{
 "cells": [
  {
   "cell_type": "code",
   "execution_count": 1,
   "metadata": {},
   "outputs": [
    {
     "data": {
      "text/plain": [
       "nil"
      ]
     },
     "execution_count": 1,
     "metadata": {},
     "output_type": "execute_result"
    }
   ],
   "source": [
    "; import libraries from kernel\n",
    "(ns clojure-backtesting.demo\n",
    "  (:require [clojure.test :refer :all]\n",
    "            [clojure-backtesting.data :refer :all]\n",
    "            [clojure-backtesting.data-management :refer :all]\n",
    "            [clojure-backtesting.portfolio :refer :all]\n",
    "            [clojure-backtesting.order :refer :all]\n",
    "            [clojure-backtesting.evaluate :refer :all]\n",
    "            [clojure-backtesting.plot :refer :all]\n",
    "            [clojure-backtesting.specs :refer :all]\n",
    "            [clojure-backtesting.counter :refer :all]\n",
    "            [clojure-backtesting.large-data :refer :all]\n",
    "            [clojure-backtesting.parameters :refer :all]\n",
    "            [clojure.string :as str]\n",
    "            [clojure.pprint :as pprint]\n",
    "            [java-time :as t]\n",
    "            [clojupyter.kernel.version :as ver]\n",
    "            [clojupyter.misc.helper :as helper]\n",
    "  ) ;; require all libriaries from core\n",
    "  (:use clojure.pprint)\n",
    ")"
   ]
  },
  {
   "cell_type": "markdown",
   "metadata": {},
   "source": [
    "### Import dataset"
   ]
  },
  {
   "cell_type": "code",
   "execution_count": 2,
   "metadata": {},
   "outputs": [],
   "source": [
    "; path to dataset = \"../resources/CRSP-extract.csv\"\n",
    "; change it to the relative path to your own dataset\n",
    ";\n",
    "(reset! data-set (add-aprc (read-csv-row \"../resources/CRSP-extract.csv\")));"
   ]
  },
  {
   "cell_type": "markdown",
   "metadata": {},
   "source": [
    "### New way of using order"
   ]
  },
  {
   "cell_type": "code",
   "execution_count": 3,
   "metadata": {},
   "outputs": [
    {
     "name": "stdout",
     "output_type": "stream",
     "text": [
      "158.18679382532957\n",
      "\n",
      "|      :date | :tic |  :price | :aprc | :quantity |\n",
      "|------------+------+---------+-------+-----------|\n",
      "| 1980-12-16 | AAPL | 25.3125 | 25.82 |        10 |\n",
      "\n",
      "| :asset |  :price |   :aprc | :quantity | :tot-val |\n",
      "|--------+---------+---------+-----------+----------|\n",
      "|   cash |     N/A |     N/A |       N/A |  -158.19 |\n",
      "|   AAPL | 26.6875 | 26.4187 |        10 |   264.19 |\n",
      "\n",
      "|      :date | :tot-value | :daily-ret | :tot-ret |   :loan | :leverage |\n",
      "|------------+------------+------------+----------+---------+-----------|\n",
      "| 1980-12-15 |    $100.00 |      0.00% |    0.00% |   $0.00 |      0.00 |\n",
      "| 1980-12-16 |    $100.00 |      0.00% |    0.00% | $158.19 |      1.58 |\n",
      "| 1980-12-17 |    $102.75 |      1.81% |    1.81% | $158.19 |      1.54 |\n",
      "| 1980-12-18 |    $106.00 |      2.02% |    3.83% | $158.19 |      1.49 |\n"
     ]
    },
    {
     "data": {
      "text/plain": [
       "nil"
      ]
     },
     "execution_count": 3,
     "metadata": {},
     "output_type": "execute_result"
    }
   ],
   "source": [
    "(init-portfolio \"1980-12-15\" 100)\n",
    "\n",
    "(order \"AAPL\" 10) ;with leverage, exact value trade\n",
    "\n",
    "(next-date)\n",
    "(next-date)\n",
    "(next-date)\n",
    "\n",
    "(pprint/print-table (deref order-record))\n",
    "(view-portfolio)\n",
    "(view-portfolio-record -1)"
   ]
  },
  {
   "cell_type": "code",
   "execution_count": 4,
   "metadata": {},
   "outputs": [
    {
     "name": "stdout",
     "output_type": "stream",
     "text": [
      "Order request 1980-12-15 | AAPL | 10 fails.\n",
      "Failure reason: You do not have enough money to buy or have enough stock to sell. Try to solve by enabling leverage.\n",
      "\n",
      "| :asset | :price | :aprc | :quantity | :tot-val |\n",
      "|--------+--------+-------+-----------+----------|\n",
      "|   cash |    N/A |   N/A |       N/A |   100.00 |\n",
      "\n",
      "|      :date | :tot-value | :daily-ret | :tot-ret | :loan | :leverage |\n",
      "|------------+------------+------------+----------+-------+-----------|\n",
      "| 1980-12-15 |    $100.00 |      0.00% |    0.00% | $0.00 |      0.00 |\n"
     ]
    },
    {
     "data": {
      "text/plain": [
       "nil"
      ]
     },
     "execution_count": 4,
     "metadata": {},
     "output_type": "execute_result"
    }
   ],
   "source": [
    "(init-portfolio \"1980-12-15\" 100)\n",
    "\n",
    "(order \"AAPL\" 10 :leverage false) ;without leverage, exact value trade\n",
    "\n",
    "(next-date)\n",
    "(next-date)\n",
    "(next-date)\n",
    "\n",
    "(pprint/print-table (deref order-record))\n",
    "(view-portfolio)\n",
    "(view-portfolio-record -1)"
   ]
  },
  {
   "cell_type": "code",
   "execution_count": 5,
   "metadata": {},
   "outputs": [
    {
     "name": "stdout",
     "output_type": "stream",
     "text": [
      "158.18679382532957\n",
      "\n",
      "|      :date | :tic |  :price | :aprc | :quantity |\n",
      "|------------+------+---------+-------+-----------|\n",
      "| 1980-12-16 | AAPL | 25.3125 | 25.82 |        10 |\n",
      "\n",
      "| :asset |  :price |   :aprc | :quantity | :tot-val |\n",
      "|--------+---------+---------+-----------+----------|\n",
      "|   cash |     N/A |     N/A |       N/A |  -158.19 |\n",
      "|   AAPL | 26.6875 | 26.4187 |        10 |   264.19 |\n",
      "\n",
      "|      :date | :tot-value | :daily-ret | :tot-ret |   :loan | :leverage |\n",
      "|------------+------------+------------+----------+---------+-----------|\n",
      "| 1980-12-15 |    $100.00 |      0.00% |    0.00% |   $0.00 |      0.00 |\n",
      "| 1980-12-16 |    $100.00 |      0.00% |    0.00% | $158.19 |      1.58 |\n",
      "| 1980-12-17 |    $102.75 |      1.81% |    1.81% | $158.19 |      1.54 |\n",
      "| 1980-12-18 |    $106.00 |      2.02% |    3.83% | $158.19 |      1.49 |\n"
     ]
    },
    {
     "data": {
      "text/plain": [
       "nil"
      ]
     },
     "execution_count": 5,
     "metadata": {},
     "output_type": "execute_result"
    }
   ],
   "source": [
    "(init-portfolio \"1980-12-15\" 100)\n",
    "(order \"AAPL\" 10 :remaining true) ;with leverage, remaining value\n",
    "\n",
    "(next-date)\n",
    "(next-date)\n",
    "(next-date)\n",
    "\n",
    "(pprint/print-table (deref order-record))\n",
    "(view-portfolio)\n",
    "(view-portfolio-record -1)"
   ]
  },
  {
   "cell_type": "code",
   "execution_count": 6,
   "metadata": {},
   "outputs": [
    {
     "name": "stdout",
     "output_type": "stream",
     "text": [
      "Order request 1980-12-15 | AAPL | 10 fails.\n",
      "Failure reason: You do not have enough money to buy or have enough stock to sell. Try to solve by enabling leverage.\n",
      "\n",
      "| :asset | :price | :aprc | :quantity | :tot-val |\n",
      "|--------+--------+-------+-----------+----------|\n",
      "|   cash |    N/A |   N/A |       N/A |   100.00 |\n",
      "\n",
      "|      :date | :tot-value | :daily-ret | :tot-ret | :loan | :leverage |\n",
      "|------------+------------+------------+----------+-------+-----------|\n",
      "| 1980-12-15 |    $100.00 |      0.00% |    0.00% | $0.00 |      0.00 |\n"
     ]
    },
    {
     "data": {
      "text/plain": [
       "nil"
      ]
     },
     "execution_count": 6,
     "metadata": {},
     "output_type": "execute_result"
    }
   ],
   "source": [
    "(init-portfolio \"1980-12-15\" 100)\n",
    "(order \"AAPL\" 10 :leverage false :remaining true) ;without leverage, remaining value\n",
    "\n",
    "(next-date)\n",
    "(next-date)\n",
    "(next-date)\n",
    "\n",
    "(pprint/print-table (deref order-record))\n",
    "(view-portfolio)\n",
    "(view-portfolio-record -1)"
   ]
  },
  {
   "cell_type": "code",
   "execution_count": null,
   "metadata": {},
   "outputs": [],
   "source": []
  }
 ],
 "metadata": {
  "kernelspec": {
   "display_name": "Clojure (backtesting_clojure)",
   "language": "clojure",
   "name": "backtesting_clojure"
  },
  "language_info": {
   "file_extension": ".clj",
   "mimetype": "text/x-clojure",
   "name": "clojure",
   "version": "1.10.1"
  }
 },
 "nbformat": 4,
 "nbformat_minor": 2
}
