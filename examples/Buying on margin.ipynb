{
 "cells": [
  {
   "cell_type": "code",
   "execution_count": 1,
   "metadata": {},
   "outputs": [
    {
     "data": {
      "text/plain": [
       "nil"
      ]
     },
     "execution_count": 1,
     "metadata": {},
     "output_type": "execute_result"
    }
   ],
   "source": [
    "; import libraries from kernel\n",
    "(ns clojure-backtesting.demo\n",
    "  (:require [clojure.test :refer :all]\n",
    "            [clojure-backtesting.data :refer :all]\n",
    "            [clojure-backtesting.data-management :refer :all]\n",
    "            [clojure-backtesting.portfolio :refer :all]\n",
    "            [clojure-backtesting.order :refer :all]\n",
    "            [clojure-backtesting.evaluate :refer :all]\n",
    "            [clojure-backtesting.plot :refer :all]\n",
    "            [clojure-backtesting.specs :refer :all]\n",
    "            [clojure-backtesting.counter :refer :all]\n",
    "            [clojure-backtesting.large-data :refer :all]\n",
    "            [clojure-backtesting.parameters :refer :all]\n",
    "            [clojure.string :as str]\n",
    "            [clojure.pprint :as pprint]\n",
    "            [java-time :as t]\n",
    "            [clojupyter.kernel.version :as ver]\n",
    "            [clojupyter.misc.helper :as helper]\n",
    "  ) ;; require all libriaries from core\n",
    "  (:use clojure.pprint)\n",
    ")"
   ]
  },
  {
   "cell_type": "markdown",
   "metadata": {},
   "source": [
    "### Import dataset"
   ]
  },
  {
   "cell_type": "code",
   "execution_count": 28,
   "metadata": {},
   "outputs": [],
   "source": [
    "; path to dataset = \"../resources/CRSP-extract.csv\"\n",
    "; change it to the relative path to your own dataset\n",
    ";\n",
    "(reset! data-set (add-aprc (read-csv-row \"../resources/CRSP-extract.csv\")));"
   ]
  },
  {
   "cell_type": "markdown",
   "metadata": {},
   "source": [
    "### Trade without leverage"
   ]
  },
  {
   "cell_type": "markdown",
   "metadata": {},
   "source": [
    "The trade would be allowed if you possess enough cash to pay."
   ]
  },
  {
   "cell_type": "code",
   "execution_count": 15,
   "metadata": {},
   "outputs": [
    {
     "name": "stdout",
     "output_type": "stream",
     "text": [
      "Order: 1980-12-16 | AAPL | 10.000000.\n",
      "\n",
      "|      :date | :tic |  :price | :aprc | :quantity |\n",
      "|------------+------+---------+-------+-----------|\n",
      "| 1980-12-16 | AAPL | 25.3125 | 25.82 |        10 |\n",
      "\n",
      "| :asset |  :price |   :aprc | :quantity | :tot-val |\n",
      "|--------+---------+---------+-----------+----------|\n",
      "|   cash |     N/A |     N/A |       N/A |   141.81 |\n",
      "|   AAPL | 26.6875 | 26.4187 |        10 |   264.19 |\n",
      "\n",
      "|      :date | :tot-value | :daily-ret | :tot-ret | :loan | :leverage | :margin |\n",
      "|------------+------------+------------+----------+-------+-----------+---------|\n",
      "| 1980-12-15 |    $400.00 |      0.00% |    0.00% | $0.00 |      0.00 |   0.00% |\n",
      "| 1980-12-16 |    $400.00 |      0.00% |    0.00% | $0.00 |      0.00 |   0.00% |\n",
      "| 1980-12-17 |    $402.75 |      0.30% |    0.30% | $0.00 |      0.00 |   0.00% |\n",
      "| 1980-12-18 |    $406.00 |      0.35% |    0.65% | $0.00 |      0.00 |   0.00% |\n"
     ]
    },
    {
     "data": {
      "text/plain": [
       "nil"
      ]
     },
     "execution_count": 15,
     "metadata": {},
     "output_type": "execute_result"
    }
   ],
   "source": [
    "(init-portfolio \"1980-12-15\" 400)\n",
    "(order \"AAPL\" 10 :leverage false :remaining true :print true) ;without leverage, remaining value\n",
    "\n",
    "(next-date)\n",
    "(next-date)\n",
    "(next-date)\n",
    "\n",
    "(pprint/print-table (deref order-record))\n",
    "(view-portfolio)\n",
    "(view-portfolio-record -1)"
   ]
  },
  {
   "cell_type": "markdown",
   "metadata": {},
   "source": [
    "However, the trade would not be allowed if you do not have sufficient cash."
   ]
  },
  {
   "cell_type": "code",
   "execution_count": 16,
   "metadata": {},
   "outputs": [
    {
     "name": "stdout",
     "output_type": "stream",
     "text": [
      "Order request 1980-12-15 | AAPL | 10 fails.\n",
      "Failure reason: You do not have enough money to buy or have enough stock to sell. Try to solve by enabling leverage.\n",
      "\n",
      "| :asset | :price | :aprc | :quantity | :tot-val |\n",
      "|--------+--------+-------+-----------+----------|\n",
      "|   cash |    N/A |   N/A |       N/A |   100.00 |\n",
      "\n",
      "|      :date | :tot-value | :daily-ret | :tot-ret | :loan | :leverage | :margin |\n",
      "|------------+------------+------------+----------+-------+-----------+---------|\n",
      "| 1980-12-15 |    $100.00 |      0.00% |    0.00% | $0.00 |      0.00 |   0.00% |\n"
     ]
    },
    {
     "data": {
      "text/plain": [
       "nil"
      ]
     },
     "execution_count": 16,
     "metadata": {},
     "output_type": "execute_result"
    }
   ],
   "source": [
    "(init-portfolio \"1980-12-15\" 100)\n",
    "(order \"AAPL\" 10 :leverage false :remaining true :print true) ;without leverage, remaining value\n",
    "\n",
    "(next-date)\n",
    "(next-date)\n",
    "(next-date)\n",
    "\n",
    "(pprint/print-table (deref order-record))\n",
    "(view-portfolio)\n",
    "(view-portfolio-record -1)"
   ]
  },
  {
   "cell_type": "markdown",
   "metadata": {},
   "source": [
    "### Trade with leverage"
   ]
  },
  {
   "cell_type": "code",
   "execution_count": 9,
   "metadata": {},
   "outputs": [
    {
     "name": "stdout",
     "output_type": "stream",
     "text": [
      "Order: 1980-12-16 | AAPL | 1.000000.\n",
      "\n",
      "|      :date | :tic |  :price | :aprc | :quantity |\n",
      "|------------+------+---------+-------+-----------|\n",
      "| 1980-12-16 | AAPL | 25.3125 | 25.82 |         1 |\n",
      "\n",
      "| :asset |  :price |   :aprc | :quantity | :tot-val |\n",
      "|--------+---------+---------+-----------+----------|\n",
      "|   cash |     N/A |     N/A |       N/A |    -5.82 |\n",
      "|   AAPL | 26.6875 | 26.4187 |         1 |    26.42 |\n",
      "\n",
      "|      :date | :tot-value | :daily-ret | :tot-ret | :loan | :leverage | :margin |\n",
      "|------------+------------+------------+----------+-------+-----------+---------|\n",
      "| 1980-12-15 |     $20.00 |      0.00% |    0.00% | $0.00 |      0.00 |   0.00% |\n",
      "| 1980-12-16 |     $20.00 |      0.00% |    0.00% | $5.82 |      0.29 |  77.46% |\n",
      "| 1980-12-17 |     $20.27 |      0.17% |    0.17% | $5.82 |      0.29 |  77.70% |\n",
      "| 1980-12-18 |     $20.60 |      0.20% |    0.37% | $5.82 |      0.28 |  77.98% |\n"
     ]
    },
    {
     "data": {
      "text/plain": [
       "nil"
      ]
     },
     "execution_count": 9,
     "metadata": {},
     "output_type": "execute_result"
    }
   ],
   "source": [
    "(init-portfolio \"1980-12-15\" 20)\n",
    "\n",
    "(order \"AAPL\" 1 :print true) ;with leverage, exact value trade\n",
    "\n",
    "(next-date)\n",
    "(next-date)\n",
    "(next-date)\n",
    "\n",
    "(pprint/print-table (deref order-record))\n",
    "(view-portfolio)\n",
    "(view-portfolio-record -1)"
   ]
  },
  {
   "cell_type": "markdown",
   "metadata": {},
   "source": [
    "### Initial margin"
   ]
  },
  {
   "cell_type": "markdown",
   "metadata": {},
   "source": [
    "The purchase would not be allowed if the ratio of cash to total value of assets bought on margin goes below the initial margin."
   ]
  },
  {
   "cell_type": "code",
   "execution_count": 10,
   "metadata": {},
   "outputs": [
    {
     "name": "stdout",
     "output_type": "stream",
     "text": [
      "0.5\n"
     ]
    },
    {
     "data": {
      "text/plain": [
       "nil"
      ]
     },
     "execution_count": 10,
     "metadata": {},
     "output_type": "execute_result"
    }
   ],
   "source": [
    "; check variable\n",
    "(println INITIAL-MARGIN)"
   ]
  },
  {
   "cell_type": "markdown",
   "metadata": {},
   "source": [
    "**Example**: order failed, since cash is insufficient."
   ]
  },
  {
   "cell_type": "code",
   "execution_count": 6,
   "metadata": {},
   "outputs": [
    {
     "name": "stdout",
     "output_type": "stream",
     "text": [
      "Order request 1980-12-15 | AAPL | 10 fails due to initial margin exceeding.\n",
      "\n",
      "| :asset | :price | :aprc | :quantity | :tot-val |\n",
      "|--------+--------+-------+-----------+----------|\n",
      "|   cash |    N/A |   N/A |       N/A |   100.00 |\n",
      "\n",
      "|      :date | :tot-value | :daily-ret | :tot-ret | :loan | :leverage | :margin |\n",
      "|------------+------------+------------+----------+-------+-----------+---------|\n",
      "| 1980-12-15 |    $100.00 |      0.00% |    0.00% | $0.00 |      0.00 |   0.00% |\n"
     ]
    },
    {
     "data": {
      "text/plain": [
       "nil"
      ]
     },
     "execution_count": 6,
     "metadata": {},
     "output_type": "execute_result"
    }
   ],
   "source": [
    "(init-portfolio \"1980-12-15\" 100)\n",
    "(order \"AAPL\" 10 :remaining true :print true) ;with leverage, remaining value\n",
    "\n",
    "(next-date)\n",
    "(next-date)\n",
    "(next-date)\n",
    "\n",
    "(pprint/print-table (deref order-record))\n",
    "(view-portfolio)\n",
    "(view-portfolio-record -1)"
   ]
  },
  {
   "cell_type": "markdown",
   "metadata": {},
   "source": [
    "Alternatively, you could manually update the initial margin to enable such a case. You could set it to `nil` in order to disable the initial margin requirement."
   ]
  },
  {
   "cell_type": "code",
   "execution_count": 21,
   "metadata": {},
   "outputs": [
    {
     "name": "stdout",
     "output_type": "stream",
     "text": [
      "0.1\n"
     ]
    },
    {
     "data": {
      "text/plain": [
       "nil"
      ]
     },
     "execution_count": 21,
     "metadata": {},
     "output_type": "execute_result"
    }
   ],
   "source": [
    "(update-initial-margin 0.1)\n",
    "(println INITIAL-MARGIN)"
   ]
  },
  {
   "cell_type": "code",
   "execution_count": 22,
   "metadata": {},
   "outputs": [
    {
     "name": "stdout",
     "output_type": "stream",
     "text": [
      "Order: 1980-12-16 | AAPL | 10.000000.\n",
      "\n",
      "|      :date | :tic |  :price | :aprc | :quantity |\n",
      "|------------+------+---------+-------+-----------|\n",
      "| 1980-12-16 | AAPL | 25.3125 | 25.82 |        10 |\n",
      "\n",
      "| :asset |  :price |   :aprc | :quantity | :tot-val |\n",
      "|--------+---------+---------+-----------+----------|\n",
      "|   cash |     N/A |     N/A |       N/A |  -158.19 |\n",
      "|   AAPL | 26.6875 | 26.4187 |        10 |   264.19 |\n",
      "\n",
      "|      :date | :tot-value | :daily-ret | :tot-ret |   :loan | :leverage | :margin |\n",
      "|------------+------------+------------+----------+---------+-----------+---------|\n",
      "| 1980-12-15 |    $100.00 |      0.00% |    0.00% |   $0.00 |      0.00 |   0.00% |\n",
      "| 1980-12-16 |    $100.00 |      0.00% |    0.00% | $158.19 |      1.58 |  38.73% |\n",
      "| 1980-12-17 |    $102.75 |      1.81% |    1.81% | $158.19 |      1.54 |  39.38% |\n",
      "| 1980-12-18 |    $106.00 |      2.02% |    3.83% | $158.19 |      1.49 |  40.12% |\n"
     ]
    },
    {
     "data": {
      "text/plain": [
       "nil"
      ]
     },
     "execution_count": 22,
     "metadata": {},
     "output_type": "execute_result"
    }
   ],
   "source": [
    "(init-portfolio \"1980-12-15\" 100)\n",
    "(order \"AAPL\" 10 :remaining true :print true) ;with leverage, remaining value\n",
    "\n",
    "(next-date)\n",
    "(next-date)\n",
    "(next-date)\n",
    "\n",
    "(pprint/print-table (deref order-record))\n",
    "(view-portfolio)\n",
    "(view-portfolio-record -1)"
   ]
  },
  {
   "cell_type": "markdown",
   "metadata": {},
   "source": [
    "### Maintenance margin"
   ]
  },
  {
   "cell_type": "markdown",
   "metadata": {},
   "source": [
    "All positions will be automatically closed if the portfolio margin goes below the maintenace margin."
   ]
  },
  {
   "cell_type": "code",
   "execution_count": 29,
   "metadata": {},
   "outputs": [
    {
     "name": "stdout",
     "output_type": "stream",
     "text": [
      "Order: 1980-12-16 | AAPL | -10.000000.\n",
      "Order: 1980-12-16 | F | 20.000000.\n",
      "1980-12-15: You have lost all cash. Closing all positions.\n",
      "Please reset the dataset and call init-portfolio again.\n",
      "\n",
      "|      :date | :tic |  :price |  :aprc | :quantity |\n",
      "|------------+------+---------+--------+-----------|\n",
      "| 1980-12-16 | AAPL | 25.3125 |  25.82 |       -10 |\n",
      "| 1980-12-16 |    F |   18.75 | 100.64 |        20 |\n",
      "| 1980-12-16 |    F |   18.75 | 100.64 |       -20 |\n",
      "\n",
      "| :asset |  :price |    :aprc | :quantity | :tot-val |\n",
      "|--------+---------+----------+-----------+----------|\n",
      "|   cash |     N/A |      N/A |       N/A | -1654.57 |\n",
      "|   AAPL | 25.3125 |  25.8187 |       -10 |  -258.19 |\n",
      "|      F |   18.75 | 100.6380 |        20 |  2012.76 |\n",
      "\n",
      "|      :date | :tot-value | :daily-ret | :tot-ret |    :loan | :leverage | :margin |\n",
      "|------------+------------+------------+----------+----------+-----------+---------|\n",
      "| 1980-12-15 |    $100.00 |      0.00% |    0.00% |    $0.00 |      0.00 |   0.00% |\n",
      "| 1980-12-16 |    $100.00 |      0.00% |    0.00% | $1654.57 |     16.55 |   5.70% |\n"
     ]
    },
    {
     "data": {
      "text/plain": [
       "nil"
      ]
     },
     "execution_count": 29,
     "metadata": {},
     "output_type": "execute_result"
    }
   ],
   "source": [
    "(init-portfolio \"1980-12-15\" 100)\n",
    "(order \"AAPL\" -10 :remaining true :print true) ;with leverage, remaining value\n",
    "(order \"F\" 20 :remaining true :print true)\n",
    "\n",
    "(next-date)\n",
    "(next-date)\n",
    "(next-date)\n",
    "\n",
    "(pprint/print-table (deref order-record))\n",
    "(view-portfolio)\n",
    "(view-portfolio-record -1)"
   ]
  },
  {
   "cell_type": "code",
   "execution_count": null,
   "metadata": {},
   "outputs": [],
   "source": []
  }
 ],
 "metadata": {
  "kernelspec": {
   "display_name": "Clojure (backtesting_clojure)",
   "language": "clojure",
   "name": "backtesting_clojure"
  },
  "language_info": {
   "file_extension": ".clj",
   "mimetype": "text/x-clojure",
   "name": "clojure",
   "version": "1.10.1"
  }
 },
 "nbformat": 4,
 "nbformat_minor": 2
}
