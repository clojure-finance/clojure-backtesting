{
 "cells": [
  {
   "cell_type": "code",
   "execution_count": 1,
   "metadata": {},
   "outputs": [
    {
     "data": {
      "text/plain": [
       "nil"
      ]
     },
     "execution_count": 1,
     "metadata": {},
     "output_type": "execute_result"
    }
   ],
   "source": [
    "; import libraries from kernel\n",
    "(ns clojure-backtesting.demo\n",
    "  (:require [clojure-backtesting.data :refer :all]\n",
    "            [clojure-backtesting.data-management :refer :all]\n",
    "            [clojure-backtesting.portfolio :refer :all]\n",
    "            [clojure-backtesting.order :refer :all]\n",
    "            [clojure-backtesting.evaluate :refer :all]\n",
    "            [clojure-backtesting.plot :refer :all]\n",
    "            [clojure-backtesting.counter :refer :all]\n",
    "            [clojure-backtesting.automation :refer :all]\n",
    "            [clojure-backtesting.parameters :refer :all]\n",
    "            [clojure-backtesting.indicators :refer :all]\n",
    "            [clojure-backtesting.direct :refer :all]\n",
    "            [clojure.string :as str]\n",
    "            [clojure.java.io :as io]\n",
    "            [clojure.pprint :as pprint]\n",
    "  ) ;; require all libriaries from core\n",
    ")"
   ]
  },
  {
   "cell_type": "markdown",
   "metadata": {},
   "source": [
    "### Import dataset"
   ]
  },
  {
   "cell_type": "code",
   "execution_count": 2,
   "metadata": {},
   "outputs": [
    {
     "name": "stdout",
     "output_type": "stream",
     "text": [
      "The dataset is already furnished by add-aprc. No more modification is needed.\n"
     ]
    },
    {
     "data": {
      "text/plain": [
       "\"Date range: 1972-01-03 ~ 2017-02-10\""
      ]
     },
     "execution_count": 2,
     "metadata": {},
     "output_type": "execute_result"
    }
   ],
   "source": [
    "; path to dataset = \"/Volumes/T7/CRSP\"\n",
    "; change it to the relative path to your own dataset\n",
    ";\n",
    "(load-dataset \"/Volumes/T7/CRSP\" \"main\" add-aprc)"
   ]
  },
  {
   "cell_type": "markdown",
   "metadata": {},
   "source": [
    "### Trade without leverage"
   ]
  },
  {
   "cell_type": "markdown",
   "metadata": {},
   "source": [
    "The trade would be allowed if you possess enough cash to pay."
   ]
  },
  {
   "cell_type": "code",
   "execution_count": 4,
   "metadata": {},
   "outputs": [
    {
     "name": "stdout",
     "output_type": "stream",
     "text": [
      "Order: 1980-12-16 | 28636 | 10.000000.\n",
      "\n",
      "|      :date |  :tic | :price | :aprc | :quantity |\n",
      "|------------+-------+--------+-------+-----------|\n",
      "| 1980-12-16 | 28636 |  7.375 | 22.18 |        10 |\n",
      "\n",
      "| :asset | :price |   :aprc | :quantity | :tot-val |\n",
      "|--------+--------+---------+-----------+----------|\n",
      "|   cash |    N/A |     N/A |       N/A |   178.23 |\n",
      "|  28636 |  7.125 | 21.8473 |        10 |   218.47 |\n",
      "\n",
      "|      :date | :tot-value | :daily-ret | :tot-ret | :loan | :leverage | :margin |\n",
      "|------------+------------+------------+----------+-------+-----------+---------|\n",
      "| 1980-12-15 |    $400.00 |      0.00% |    0.00% | $0.00 |      0.00 |   0.00% |\n",
      "| 1980-12-16 |    $400.00 |      0.00% |    0.00% | $0.00 |      0.00 |   0.00% |\n",
      "| 1980-12-17 |    $398.36 |     -0.18% |   -0.18% | $0.00 |      0.00 |   0.00% |\n",
      "| 1980-12-18 |    $396.70 |     -0.18% |   -0.36% | $0.00 |      0.00 |   0.00% |\n"
     ]
    },
    {
     "data": {
      "text/plain": [
       "nil"
      ]
     },
     "execution_count": 4,
     "metadata": {},
     "output_type": "execute_result"
    }
   ],
   "source": [
    "(init-portfolio \"1980-12-15\" 400)\n",
    "(order \"28636\" 10 :leverage false :remaining true :print true) ;without leverage, remaining value\n",
    "\n",
    "(next-date)\n",
    "(next-date)\n",
    "(next-date)\n",
    "\n",
    "(print-order-record)\n",
    "(print-portfolio)\n",
    "(print-portfolio-record -1)"
   ]
  },
  {
   "cell_type": "markdown",
   "metadata": {},
   "source": [
    "However, the trade would not be allowed if you do not have sufficient cash."
   ]
  },
  {
   "cell_type": "code",
   "execution_count": 6,
   "metadata": {},
   "outputs": [
    {
     "name": "stdout",
     "output_type": "stream",
     "text": [
      "Order request 1980-12-16 | 28636 | 10 fails.\n",
      "Failure reason: You do not have enough money to buy or have enough stock to sell. Try to solve by enabling leverage.\n",
      "\n",
      "| :asset | :price | :aprc | :quantity | :tot-val |\n",
      "|--------+--------+-------+-----------+----------|\n",
      "|   cash |    N/A |   N/A |       N/A |   100.00 |\n",
      "\n",
      "|      :date | :tot-value | :daily-ret | :tot-ret | :loan | :leverage | :margin |\n",
      "|------------+------------+------------+----------+-------+-----------+---------|\n",
      "| 1980-12-15 |    $100.00 |      0.00% |    0.00% | $0.00 |      0.00 |   0.00% |\n"
     ]
    },
    {
     "data": {
      "text/plain": [
       "nil"
      ]
     },
     "execution_count": 6,
     "metadata": {},
     "output_type": "execute_result"
    }
   ],
   "source": [
    "(init-portfolio \"1980-12-15\" 100)\n",
    "(order \"28636\" 10 :leverage false :remaining true :print true) ;without leverage, remaining value\n",
    "\n",
    "(next-date)\n",
    "(next-date)\n",
    "(next-date)\n",
    "\n",
    "(print-order-record)\n",
    "(print-portfolio)\n",
    "(print-portfolio-record -1)"
   ]
  },
  {
   "cell_type": "markdown",
   "metadata": {},
   "source": [
    "### Trade with leverage"
   ]
  },
  {
   "cell_type": "code",
   "execution_count": 7,
   "metadata": {},
   "outputs": [
    {
     "name": "stdout",
     "output_type": "stream",
     "text": [
      "Order: 1980-12-16 | 28636 | 1.000000.\n",
      "\n",
      "|      :date |  :tic | :price | :aprc | :quantity |\n",
      "|------------+-------+--------+-------+-----------|\n",
      "| 1980-12-16 | 28636 |  7.375 | 22.18 |         1 |\n",
      "\n",
      "| :asset | :price |   :aprc | :quantity | :tot-val |\n",
      "|--------+--------+---------+-----------+----------|\n",
      "|   cash |    N/A |     N/A |       N/A |    -2.18 |\n",
      "|  28636 |  7.125 | 21.8473 |         1 |    21.85 |\n",
      "\n",
      "|      :date | :tot-value | :daily-ret | :tot-ret | :loan | :leverage | :margin |\n",
      "|------------+------------+------------+----------+-------+-----------+---------|\n",
      "| 1980-12-15 |     $20.00 |      0.00% |    0.00% | $0.00 |      0.00 |   0.00% |\n",
      "| 1980-12-16 |     $20.00 |      0.00% |    0.00% | $2.18 |      0.11 |  90.18% |\n",
      "| 1980-12-17 |     $19.84 |     -0.04% |   -0.04% | $2.18 |      0.11 |  90.11% |\n",
      "| 1980-12-18 |     $19.67 |     -0.04% |   -0.08% | $2.18 |      0.11 |  90.04% |\n"
     ]
    },
    {
     "data": {
      "text/plain": [
       "nil"
      ]
     },
     "execution_count": 7,
     "metadata": {},
     "output_type": "execute_result"
    }
   ],
   "source": [
    "(init-portfolio \"1980-12-15\" 20)\n",
    "\n",
    "(order \"28636\" 1 :print true) ;with leverage, exact value trade\n",
    "\n",
    "(next-date)\n",
    "(next-date)\n",
    "(next-date)\n",
    "\n",
    "(print-order-record)\n",
    "(print-portfolio)\n",
    "(print-portfolio-record -1)"
   ]
  },
  {
   "cell_type": "markdown",
   "metadata": {},
   "source": [
    "### Initial margin"
   ]
  },
  {
   "cell_type": "markdown",
   "metadata": {},
   "source": [
    "The purchase would not be allowed if the ratio of cash to total value of assets bought on margin goes below the initial margin."
   ]
  },
  {
   "cell_type": "code",
   "execution_count": 8,
   "metadata": {},
   "outputs": [
    {
     "name": "stdout",
     "output_type": "stream",
     "text": [
      "0.5\n"
     ]
    },
    {
     "data": {
      "text/plain": [
       "nil"
      ]
     },
     "execution_count": 8,
     "metadata": {},
     "output_type": "execute_result"
    }
   ],
   "source": [
    "; check variable\n",
    "(println INITIAL-MARGIN)"
   ]
  },
  {
   "cell_type": "markdown",
   "metadata": {},
   "source": [
    "**Example**: order failed, since cash is insufficient."
   ]
  },
  {
   "cell_type": "code",
   "execution_count": 10,
   "metadata": {},
   "outputs": [
    {
     "name": "stdout",
     "output_type": "stream",
     "text": [
      "Order request 1980-12-16 | 28636 | 10 fails due to initial margin requirement.\n",
      "\n",
      "| :asset | :price | :aprc | :quantity | :tot-val |\n",
      "|--------+--------+-------+-----------+----------|\n",
      "|   cash |    N/A |   N/A |       N/A |   100.00 |\n",
      "\n",
      "|      :date | :tot-value | :daily-ret | :tot-ret | :loan | :leverage | :margin |\n",
      "|------------+------------+------------+----------+-------+-----------+---------|\n",
      "| 1980-12-15 |    $100.00 |      0.00% |    0.00% | $0.00 |      0.00 |   0.00% |\n"
     ]
    },
    {
     "data": {
      "text/plain": [
       "nil"
      ]
     },
     "execution_count": 10,
     "metadata": {},
     "output_type": "execute_result"
    }
   ],
   "source": [
    "(init-portfolio \"1980-12-15\" 100)\n",
    "(order \"28636\" 10 :remaining true :print true) ;with leverage, remaining value\n",
    "\n",
    "(next-date)\n",
    "(next-date)\n",
    "(next-date)\n",
    "\n",
    "(print-order-record)\n",
    "(print-portfolio)\n",
    "(print-portfolio-record -1)"
   ]
  },
  {
   "cell_type": "markdown",
   "metadata": {},
   "source": [
    "Alternatively, you could manually update the initial margin to enable such a case. You could set it to `nil` in order to disable the initial margin requirement."
   ]
  },
  {
   "cell_type": "code",
   "execution_count": 11,
   "metadata": {},
   "outputs": [
    {
     "name": "stdout",
     "output_type": "stream",
     "text": [
      "0.1\n"
     ]
    },
    {
     "data": {
      "text/plain": [
       "nil"
      ]
     },
     "execution_count": 11,
     "metadata": {},
     "output_type": "execute_result"
    }
   ],
   "source": [
    "(update-initial-margin 0.1)\n",
    "(println INITIAL-MARGIN)"
   ]
  },
  {
   "cell_type": "code",
   "execution_count": 12,
   "metadata": {},
   "outputs": [
    {
     "name": "stdout",
     "output_type": "stream",
     "text": [
      "Order: 1980-12-16 | 28636 | 10.000000.\n",
      "\n",
      "|      :date |  :tic | :price | :aprc | :quantity |\n",
      "|------------+-------+--------+-------+-----------|\n",
      "| 1980-12-16 | 28636 |  7.375 | 22.18 |        10 |\n",
      "\n",
      "| :asset | :price |   :aprc | :quantity | :tot-val |\n",
      "|--------+--------+---------+-----------+----------|\n",
      "|   cash |    N/A |     N/A |       N/A |  -121.77 |\n",
      "|  28636 |  7.125 | 21.8473 |        10 |   218.47 |\n",
      "\n",
      "|      :date | :tot-value | :daily-ret | :tot-ret |   :loan | :leverage | :margin |\n",
      "|------------+------------+------------+----------+---------+-----------+---------|\n",
      "| 1980-12-15 |    $100.00 |      0.00% |    0.00% |   $0.00 |      0.00 |   0.00% |\n",
      "| 1980-12-16 |    $100.00 |      0.00% |    0.00% | $121.77 |      1.22 |  45.09% |\n",
      "| 1980-12-17 |     $98.36 |     -0.89% |   -0.89% | $121.77 |      1.24 |  44.68% |\n",
      "| 1980-12-18 |     $96.70 |     -0.93% |   -1.82% | $121.77 |      1.26 |  44.26% |\n"
     ]
    },
    {
     "data": {
      "text/plain": [
       "nil"
      ]
     },
     "execution_count": 12,
     "metadata": {},
     "output_type": "execute_result"
    }
   ],
   "source": [
    "(init-portfolio \"1980-12-15\" 100)\n",
    "(order \"28636\" 10 :remaining true :print true) ;with leverage, remaining value\n",
    "\n",
    "(next-date)\n",
    "(next-date)\n",
    "(next-date)\n",
    "\n",
    "(print-order-record)\n",
    "(print-portfolio)\n",
    "(print-portfolio-record -1)"
   ]
  },
  {
   "cell_type": "markdown",
   "metadata": {},
   "source": [
    "### Maintenance margin"
   ]
  },
  {
   "cell_type": "markdown",
   "metadata": {},
   "source": [
    "All positions will be automatically closed if the portfolio margin goes below the maintenace margin."
   ]
  },
  {
   "cell_type": "code",
   "execution_count": 13,
   "metadata": {},
   "outputs": [
    {
     "name": "stdout",
     "output_type": "stream",
     "text": [
      "Order request 1980-12-16 | 25785 | 20 fails due to initial margin requirement.\n",
      "Order: 1980-12-16 | 28636 | -10.000000.\n",
      "\n",
      "|      :date |  :tic | :price | :aprc | :quantity |\n",
      "|------------+-------+--------+-------+-----------|\n",
      "| 1980-12-16 | 28636 |  7.375 | 22.18 |       -10 |\n",
      "\n",
      "| :asset | :price |   :aprc | :quantity | :tot-val |\n",
      "|--------+--------+---------+-----------+----------|\n",
      "|   cash |    N/A |     N/A |       N/A |   321.77 |\n",
      "|  28636 |  7.125 | 21.8473 |       -10 |  -218.47 |\n",
      "\n",
      "|      :date | :tot-value | :daily-ret | :tot-ret | :loan | :leverage | :margin |\n",
      "|------------+------------+------------+----------+-------+-----------+---------|\n",
      "| 1980-12-15 |    $100.00 |      0.00% |    0.00% | $0.00 |      0.00 |   0.00% |\n",
      "| 1980-12-16 |    $100.00 |     -0.00% |   -0.00% | $0.00 |      0.00 |   0.00% |\n",
      "| 1980-12-17 |    $101.64 |      0.71% |    0.71% | $0.00 |      0.00 |   0.00% |\n",
      "| 1980-12-18 |    $103.30 |      0.70% |    1.41% | $0.00 |      0.00 |   0.00% |\n"
     ]
    },
    {
     "data": {
      "text/plain": [
       "nil"
      ]
     },
     "execution_count": 13,
     "metadata": {},
     "output_type": "execute_result"
    }
   ],
   "source": [
    "(init-portfolio \"1980-12-15\" 100)\n",
    "(order \"28636\" -10 :remaining true :print true) ;with leverage, remaining value\n",
    "(order \"25785\" 20 :remaining true :print true)\n",
    "\n",
    "(next-date)\n",
    "(next-date)\n",
    "(next-date)\n",
    "\n",
    "(print-order-record)\n",
    "(print-portfolio)\n",
    "(print-portfolio-record -1)"
   ]
  },
  {
   "cell_type": "code",
   "execution_count": null,
   "metadata": {},
   "outputs": [],
   "source": []
  }
 ],
 "metadata": {
  "kernelspec": {
   "display_name": "Clojure (backtesting_clojure)",
   "language": "clojure",
   "name": "backtesting_clojure"
  },
  "language_info": {
   "file_extension": ".clj",
   "mimetype": "text/x-clojure",
   "name": "clojure",
   "version": "1.10.1"
  }
 },
 "nbformat": 4,
 "nbformat_minor": 2
}
