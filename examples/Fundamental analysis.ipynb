{
 "cells": [
  {
   "cell_type": "markdown",
   "metadata": {},
   "source": [
    "### Run this in Python kernel"
   ]
  },
  {
   "cell_type": "code",
   "execution_count": 1,
   "metadata": {},
   "outputs": [
    {
     "name": "stderr",
     "output_type": "stream",
     "text": [
      "Syntax error compiling at (REPL:0:0).\n",
      "Unable to resolve symbol: %%html in this context\n",
      "Syntax error compiling at (REPL:0:0).\n",
      "Unable to resolve symbol: <style> in this context\n",
      "Syntax error compiling at (REPL:0:0).\n",
      "Unable to resolve symbol: body in this context\n",
      "Syntax error reading source at (REPL:4:17).\n",
      "Invalid token: font-family:\n"
     ]
    },
    {
     "ename": "class clojure.lang.ExceptionInfo",
     "evalue": "",
     "output_type": "error",
     "traceback": [
      "      Util.java:   221 clojure.lang.Util/runtimeException",
      "LispReader.java:   412 clojure.lang.LispReader/interpretToken",
      "LispReader.java:   305 clojure.lang.LispReader/read",
      "LispReader.java:  1398 clojure.lang.LispReader/readDelimitedList",
      "LispReader.java:  1355 clojure.lang.LispReader$MapReader/invoke",
      "LispReader.java:   285 clojure.lang.LispReader/read",
      "       core.clj:  3768 clojure.core$read/invokeStatic",
      "       core.clj:  3741 clojure.core$read/invoke",
      "       main.clj:   433 clojure.main$repl$read_eval_print__9086$fn__9087/invoke",
      "       main.clj:   432 clojure.main$repl$read_eval_print__9086/invoke",
      "       main.clj:   458 clojure.main$repl$fn__9095/invoke",
      "       main.clj:   368 clojure.main$repl/doInvoke",
      "    RestFn.java:  1523 clojure.lang.RestFn/invoke",
      "       AFn.java:    22 clojure.lang.AFn/run",
      "       AFn.java:    22 clojure.lang.AFn/run",
      "    Thread.java:   844 java.lang.Thread/run"
     ]
    }
   ],
   "source": [
    "%%html\n",
    "<style>\n",
    "body {\n",
    "    font-family: \"Arial\", cursive, sans-serif; # font style of application\n",
    "}\n",
    "pre {\n",
    "    font-family: \"Courier New\"; # font style of cell outputs\n",
    "}\n",
    "</style>  "
   ]
  },
  {
   "cell_type": "markdown",
   "metadata": {},
   "source": [
    "### Run below in the backtesting_clojure kernel"
   ]
  },
  {
   "cell_type": "code",
   "execution_count": 1,
   "metadata": {},
   "outputs": [
    {
     "data": {
      "text/plain": [
       "nil"
      ]
     },
     "execution_count": 1,
     "metadata": {},
     "output_type": "execute_result"
    }
   ],
   "source": [
    "; import libraries from kernel\n",
    "(ns clojure-backtesting.demo\n",
    "  (:require [clojure.test :refer :all]\n",
    "            [clojure-backtesting.data :refer :all]\n",
    "            [clojure-backtesting.data-management :refer :all]\n",
    "            [clojure-backtesting.order :refer :all]\n",
    "            [clojure-backtesting.evaluate :refer :all]\n",
    "            [clojure-backtesting.plot :refer :all]\n",
    "            [clojure-backtesting.counter :refer :all]\n",
    "            ;;[clojure-backtesting.parameters :refer :all]\n",
    "            [clojure.string :as str]\n",
    "            [clojure.pprint :as pprint]\n",
    "            [java-time :as t]\n",
    "            [clojupyter.kernel.version :as ver]\n",
    "            [clojure.edn :as edn]\n",
    "            [clojupyter.misc.helper :as helper]\n",
    "  ) ;; require all libriaries from core\n",
    "  (:use clojure.pprint)\n",
    ")"
   ]
  },
  {
   "cell_type": "markdown",
   "metadata": {},
   "source": [
    "### Import dataset"
   ]
  },
  {
   "cell_type": "code",
   "execution_count": 2,
   "metadata": {},
   "outputs": [],
   "source": [
    "; path to dataset = \"../resources/CRSP-extract.csv\"\n",
    "; change it to the relative to your own dataset\n",
    ";\n",
    "(reset! data-set (add-aprc (read-csv-row \"../resources/CRSP-extract.csv\")));"
   ]
  },
  {
   "cell_type": "markdown",
   "metadata": {},
   "source": [
    "### Get list of tickers with ROE"
   ]
  },
  {
   "cell_type": "code",
   "execution_count": 2,
   "metadata": {},
   "outputs": [
    {
     "data": {
      "text/plain": [
       "#'clojure-backtesting.demo/get-set"
      ]
     },
     "execution_count": 2,
     "metadata": {},
     "output_type": "execute_result"
    }
   ],
   "source": [
    ";; WRITE CHECK YEAR CONDITION\n",
    ";; Amended to include the ROE for each stock using the merged data\n",
    ";; output a list of ROE as well\n",
    ";; Use merged database CRSP + COMPUSTAT\n",
    ";; output {{:tic \"AAPL\" :year \"1980\" :ROE x.x}{...}{:ROE 1.x 2.x 3.x 10.x}}\n",
    "\n",
    "\n",
    ";; change to lazily later with Leo's API\n",
    "(defn get-set\n",
    "    \"return a set of maps of tickers and datadate\" ;;{:tic \"AAPL\", :datadate \"1981/3/31\", :ROE x.x}\n",
    "    [file date]\n",
    "    (loop [remaining file\n",
    "            result-set []\n",
    "            ROE-list [] ]\n",
    "        (if (empty? remaining)\n",
    "            ;; how to change the output here?\n",
    "            ;;(into #{} (conj result-set {:ROE-set ROE-list}))\n",
    "            {:data result-set :ROE-set ROE-list}\n",
    "            (let [first-line (first remaining)\n",
    "                next-remaining (rest remaining)\n",
    "                ;;next-result-set (conj result-set (get first-line :datadate)\n",
    "                [year month day] (map parse-int (str/split date #\"-\"))]\n",
    "                ;;merged file use :datadate as key\n",
    "                (if (= date (get first-line :datadate))\n",
    "                    (let [[niq PRC cshoq] (map edn/read-string [(get first-line :niq)(get first-line :PRC)(get first-line :cshoq)])\n",
    "                          ROE (/ niq (* PRC cshoq))]\n",
    "                        (recur next-remaining (conj result-set {:tic (get first-line :tic) :year year :ROE ROE}) (conj ROE-list ROE))\n",
    "                    )\n",
    "                    (recur next-remaining result-set ROE-list)\n",
    "                )  \n",
    "            )\n",
    "        )\n",
    "    )\n",
    ")"
   ]
  },
  {
   "cell_type": "code",
   "execution_count": 3,
   "metadata": {},
   "outputs": [
    {
     "name": "stdout",
     "output_type": "stream",
     "text": [
      "{:data [{:tic AAPL, :year 1980, :ROE 0.002731506525434953} {:tic GM, :year 1980, :ROE -0.046370846428037134} {:tic IBM, :year 1980, :ROE 0.0238072629827958}], :ROE-set [0.002731506525434953 -0.046370846428037134 0.0238072629827958]}\n"
     ]
    }
   ],
   "source": [
    ";; this function can be used to get the list of stocks available for trading\n",
    "(def dataFA (get-set (read-csv-row \"../resources/data-testing-merged.csv\") \"1980-12-18\"))\n",
    "(println dataFA) ;"
   ]
  },
  {
   "cell_type": "code",
   "execution_count": 4,
   "metadata": {},
   "outputs": [
    {
     "data": {
      "text/plain": [
       "#'clojure-backtesting.demo/get-ROE"
      ]
     },
     "execution_count": 4,
     "metadata": {},
     "output_type": "execute_result"
    }
   ],
   "source": [
    ";; fn to get a set of ROE\n",
    "(defn get-ROE\n",
    "            \"return a set of ROE\"  ;;{10.2 1.8 x.x ...}\n",
    "        [dataset]\n",
    "        (into #{} (get dataset :ROE-set))\n",
    "        )"
   ]
  },
  {
   "cell_type": "code",
   "execution_count": 10,
   "metadata": {},
   "outputs": [
    {
     "data": {
      "text/plain": [
       "#'clojure-backtesting.demo/get-roe-20"
      ]
     },
     "execution_count": 10,
     "metadata": {},
     "output_type": "execute_result"
    }
   ],
   "source": [
    "(defn get-roe-20\n",
    "    \"return a set tickers\" ;;{\"AAPL\" \"GM\"}\n",
    "    [data roe-20]\n",
    "    (loop [remaining (get data :data)\n",
    "            result-set []]\n",
    "        (if (empty? remaining)\n",
    "            (into #{} result-set)\n",
    "            (let [first-line (first remaining)\n",
    "                next-remaining (rest remaining)]\n",
    "                ;;conj the stock ticker whose ROE >= roe-20\n",
    "                ;;(if (not= -1 (compare roe-20 (get first-line :ROE)))\n",
    "                (if (>= (get first-line :ROE) roe-20)\n",
    "                    (recur next-remaining (conj result-set (get first-line :tic)))           \n",
    "                    (recur next-remaining result-set)            \n",
    "                )  \n",
    "            )\n",
    "        )\n",
    "    )\n",
    ")"
   ]
  },
  {
   "cell_type": "code",
   "execution_count": 11,
   "metadata": {},
   "outputs": [
    {
     "name": "stdout",
     "output_type": "stream",
     "text": [
      "#{0.0238072629827958 -0.046370846428037134 0.002731506525434953}\n",
      "#{-0.046370846428037134 0.002731506525434953 0.0238072629827958}\n",
      "[-0.046370846428037134 0.002731506525434953 0.0238072629827958]\n",
      "0.0238072629827958\n",
      "#{IBM}\n",
      "clojure.lang.PersistentHashSet\n"
     ]
    },
    {
     "data": {
      "text/plain": [
       "nil"
      ]
     },
     "execution_count": 11,
     "metadata": {},
     "output_type": "execute_result"
    }
   ],
   "source": [
    ";; test examples\n",
    "\n",
    ";; dataFA is the dataset that contains the output from get-set\n",
    "\n",
    ";; get a set of ROE\n",
    "(def roe-list-demo (get-ROE dataFA))\n",
    "(println roe-list-demo)\n",
    "\n",
    "\n",
    ";; get a sorted set of ROE\n",
    "(def roe-sorted-set (apply sorted-set roe-list-demo))\n",
    "(println roe-sorted-set)\n",
    "\n",
    "\n",
    ";; get a sorted vector of ROE\n",
    "(def roe-sorted-vec (into '[] roe-sorted-set))\n",
    "(println roe-sorted-vec)\n",
    "\n",
    ";; find the 20th per centile ROE\n",
    "(def roe-20-demo (nth roe-sorted-vec (int (* 0.8 (count roe-sorted-vec)))))\n",
    "(println roe-20-demo)\n",
    "         \n",
    ";; get the list of tickers to buy\n",
    "(def stock-to-buy-test (get-roe-20 dataFA roe-20-demo))\n",
    "(println stock-to-buy-test)\n",
    "(println (type stock-to-buy-test)) ;;stored in a set format"
   ]
  },
  {
   "cell_type": "markdown",
   "metadata": {},
   "source": [
    "### Initialise portfolio"
   ]
  },
  {
   "cell_type": "code",
   "execution_count": 7,
   "metadata": {},
   "outputs": [],
   "source": [
    ";; initialise with current date and initial capital (= $1,000,000)\n",
    "(init-portfolio \"1980-12-18\" 100000);"
   ]
  },
  {
   "cell_type": "code",
   "execution_count": 13,
   "metadata": {},
   "outputs": [
    {
     "data": {
      "text/plain": [
       "(\"AAPL\" \"F\" \"IBM\")"
      ]
     },
     "execution_count": 13,
     "metadata": {},
     "output_type": "execute_result"
    }
   ],
   "source": [
    "(keys (deref available-tics-))"
   ]
  },
  {
   "cell_type": "code",
   "execution_count": 9,
   "metadata": {
    "scrolled": false
   },
   "outputs": [
    {
     "name": "stderr",
     "output_type": "stream",
     "text": [
      "Syntax error macroexpanding clojure.core/let at (REPL:27:13).\n",
      "roe-20 - failed: vector? at: [:bindings] spec: :clojure.core.specs.alpha/bindings\n"
     ]
    },
    {
     "ename": "class clojure.lang.Compiler$CompilerException",
     "evalue": "",
     "output_type": "error",
     "traceback": [
      "  alpha.clj:   705 clojure.spec.alpha$macroexpand_check/invokeStatic",
      "  alpha.clj:   697 clojure.spec.alpha$macroexpand_check/invoke",
      "   AFn.java:   156 clojure.lang.AFn/applyToHelper",
      "   AFn.java:   144 clojure.lang.AFn/applyTo",
      "   Var.java:   705 clojure.lang.Var/applyTo",
      "   core.clj:  3214 clojure.core$eval/invokeStatic",
      "   core.clj:  3210 clojure.core$eval/invoke",
      "   main.clj:   437 clojure.main$repl$read_eval_print__9086$fn__9089/invoke",
      "   main.clj:   458 clojure.main$repl$fn__9095/invoke",
      "   main.clj:   368 clojure.main$repl/doInvoke",
      "RestFn.java:  1523 clojure.lang.RestFn/invoke",
      "   AFn.java:    22 clojure.lang.AFn/run",
      "   AFn.java:    22 clojure.lang.AFn/run",
      "Thread.java:   832 java.lang.Thread/run"
     ]
    }
   ],
   "source": [
    "(def start-date (get-date))\n",
    "\n",
    ";; define the end date\n",
    "(def end-date \"1981-12-16\") ; assume end-date later than start-date\n",
    "  \n",
    "(while (not= end-date (get-date))\n",
    "    ;; check whether the start day is in the dataset\n",
    "    ;; find the quarterly date before inputting into get-set function\n",
    "    \n",
    "    (do \n",
    "        ;; write your trading strategy here\n",
    "        \n",
    "        ;; get stock tickers and ROE data\n",
    "        ;; output {{:tic \"AAPL\" :year \"1980\" :ROE x.x}{...}{:ROE 1.x 2.x 3.x 10.x}}\n",
    "        (def stock-data (get-set \"../resources/data-testing-merged.csv\" end-date))\n",
    "        \n",
    "        ;;1. sort the stocks according to their ROE (= Net Income/Total Equity)\n",
    "        ;;Compute the latest quarter ROE by using: niq/(share price * cshoq) in the merged dataset\n",
    "        \n",
    "        ;;1.1 get a set of ROE\n",
    "         \n",
    "        (def roe-list (get-ROE stock-data))\n",
    "        \n",
    "        ;;sorting function, to determine the top 20% stocks to be bought, return the tickers of the top 20% stocks\n",
    "            ;;use sorted-set built-in fn in clojure to sort the values of the map returned by get-roe to determine what are the top 20% stocks     \n",
    "            ;; and turn the sorted-set into list format\n",
    "            (def roe-sorted (into '[] (apply sorted-set roe-list)))\n",
    "            \n",
    "            ;;find the 20% cut-off ROE value\n",
    "            (let roe-20 (nth roe-sorted (int (* 0.8 (count roe-sorted))))\n",
    "                      \n",
    "            ;;get the tickers of the top 20 with function get-roe-20\n",
    "            (def stocks-to-buy (get-roe-20 stock-data roe-20))\n",
    "                \n",
    "            )\n",
    "                \n",
    "        ;;2. buy the top 20% stocks and the sell the stocks that are not in the top 20% this year\n",
    "        ;;i)  use a loop to enter buy orders\n",
    "        \n",
    "        (for [n (range 20)]  ; buy\n",
    "            (order roe_sorted[n+1] 1)\n",
    "        )\n",
    "    \n",
    "        \n",
    "        ;;3. update the trading records (eval-report)\n",
    "        (update-eval-report (get-date))\n",
    "        \n",
    "        ; move on to the next trading day\n",
    "        (next-date)\n",
    "        \n",
    "        ;;4. if equals end-date, sell all stocks\n",
    "        (for [n (range 20)]  ; sell\n",
    "            (order roe_sorted[n+1] -1)\n",
    "        )\n",
    "    )\n",
    ")"
   ]
  },
  {
   "cell_type": "markdown",
   "metadata": {},
   "source": [
    "### Check order record"
   ]
  },
  {
   "cell_type": "code",
   "execution_count": 5,
   "metadata": {},
   "outputs": [
    {
     "name": "stdout",
     "output_type": "stream",
     "text": [
      "\n",
      "|      :date | :tic |  :price | :quantity | :reference |\n",
      "|------------+------+---------+-----------+------------|\n",
      "| 1980-12-17 | AAPL | 25.9375 |        50 |          2 |\n",
      "| 1980-12-18 | AAPL | 26.6875 |       -10 |          3 |\n",
      "| 1980-12-22 | AAPL | 29.6875 |       -10 |          5 |\n",
      "| 1980-12-24 | AAPL | 32.5625 |       -10 |          7 |\n",
      "| 1980-12-29 | AAPL | 36.0625 |       -10 |          9 |\n",
      "| 1980-12-31 | AAPL | 34.1875 |       -10 |         11 |\n"
     ]
    },
    {
     "data": {
      "text/plain": [
       "nil"
      ]
     },
     "execution_count": 5,
     "metadata": {},
     "output_type": "execute_result"
    }
   ],
   "source": [
    "(pprint/print-table (deref order-record))"
   ]
  },
  {
   "cell_type": "markdown",
   "metadata": {},
   "source": [
    "### Check portfolio record"
   ]
  },
  {
   "cell_type": "code",
   "execution_count": 6,
   "metadata": {},
   "outputs": [
    {
     "name": "stdout",
     "output_type": "stream",
     "text": [
      "\n",
      "| :asset |  :price | :aprc | :quantity | :tot-val |\n",
      "|--------+---------+-------+-----------+----------|\n",
      "|   cash |     N/A |   N/A |       N/A |    10295 |\n",
      "|   AAPL | 34.1875 | 29.42 |         0 |        0 |\n"
     ]
    },
    {
     "data": {
      "text/plain": [
       "nil"
      ]
     },
     "execution_count": 6,
     "metadata": {},
     "output_type": "execute_result"
    }
   ],
   "source": [
    ";; view final portfolio\n",
    "(view-portfolio)"
   ]
  },
  {
   "cell_type": "code",
   "execution_count": 7,
   "metadata": {},
   "outputs": [
    {
     "name": "stdout",
     "output_type": "stream",
     "text": [
      "\n",
      "|      :date | :tot-value | :daily-ret | :loan | :leverage |\n",
      "|------------+------------+------------+-------+-----------|\n",
      "| 1980-12-16 |     $10000 |      0.00% | $0.00 |     0.00% |\n",
      "| 1980-12-17 |     $10007 |      0.00% | $0.00 |     0.00% |\n",
      "| 1980-12-18 |     $10026 |      0.00% | $0.00 |     0.00% |\n",
      "| 1980-12-22 |     $10096 |      0.01% | $0.00 |     0.00% |\n",
      "| 1980-12-24 |     $10168 |      0.01% | $0.00 |     0.00% |\n",
      "| 1980-12-29 |     $10254 |      0.01% | $0.00 |     0.00% |\n",
      "| 1980-12-31 |     $10295 |      0.00% | $0.00 |     0.00% |\n"
     ]
    },
    {
     "data": {
      "text/plain": [
       "nil"
      ]
     },
     "execution_count": 7,
     "metadata": {},
     "output_type": "execute_result"
    }
   ],
   "source": [
    ";; view portfolio value and return\n",
    "(view-portfolio-record)"
   ]
  },
  {
   "cell_type": "markdown",
   "metadata": {},
   "source": [
    "### Generate evaluation report"
   ]
  },
  {
   "cell_type": "code",
   "execution_count": 8,
   "metadata": {},
   "outputs": [
    {
     "name": "stdout",
     "output_type": "stream",
     "text": [
      "\n",
      "|      :date | :pnl-pt | :ret-da | :ret-r | :ret-tot | :sharpe-e | :sharpe-r | :tot-val | :vol-e | :vol-r |\n",
      "|------------+---------+---------+--------+----------+-----------+-----------+----------+--------+--------|\n",
      "| 1980-12-16 |      $7 |   0.08% |  0.00% |    0.08% |     1.41% |     0.22% |   $10007 |  0.06% |  0.01% |\n",
      "| 1980-12-17 |     $13 |   0.19% |  0.01% |    0.27% |     2.81% |     0.45% |   $10026 |  0.10% |  0.02% |\n",
      "| 1980-12-18 |     $13 |   0.19% |  0.01% |    0.27% |     2.81% |     0.45% |   $10026 |  0.10% |  0.02% |\n",
      "| 1980-12-19 |     $32 |   0.70% |  0.00% |    0.96% |     3.07% |     0.10% |   $10096 |  0.31% |  0.05% |\n",
      "| 1980-12-22 |     $32 |   0.70% |  0.00% |    0.96% |     3.07% |     0.10% |   $10096 |  0.31% |  0.05% |\n",
      "| 1980-12-23 |     $42 |   0.71% |  0.01% |    1.67% |     4.88% |     0.11% |   $10168 |  0.34% |  0.05% |\n",
      "| 1980-12-24 |     $42 |   0.71% |  0.01% |    1.67% |     4.88% |     0.11% |   $10168 |  0.34% |  0.05% |\n",
      "| 1980-12-26 |     $50 |   0.84% |  0.01% |    2.51% |     6.80% |     0.09% |   $10254 |  0.37% |  0.06% |\n",
      "| 1980-12-29 |     $50 |   0.84% |  0.01% |    2.51% |     6.80% |     0.09% |   $10254 |  0.37% |  0.06% |\n",
      "| 1980-12-30 |     $49 |   0.40% |  0.01% |    2.91% |     8.62% |     0.10% |   $10295 |  0.34% |  0.05% |\n"
     ]
    },
    {
     "data": {
      "text/plain": [
       "nil"
      ]
     },
     "execution_count": 8,
     "metadata": {},
     "output_type": "execute_result"
    }
   ],
   "source": [
    "(eval-report)"
   ]
  },
  {
   "cell_type": "markdown",
   "metadata": {},
   "source": [
    "### Plot variables\n",
    "Below are example codes that show how to plot different variables in the portfolio record / evaluation record."
   ]
  },
  {
   "cell_type": "markdown",
   "metadata": {},
   "source": [
    "### 1. Portfolio daily return"
   ]
  },
  {
   "cell_type": "code",
   "execution_count": 9,
   "metadata": {},
   "outputs": [
    {
     "data": {
      "text/plain": [
       "#'clojure-backtesting.demo/data"
      ]
     },
     "execution_count": 9,
     "metadata": {},
     "output_type": "execute_result"
    }
   ],
   "source": [
    "(def data (deref portfolio-value))"
   ]
  },
  {
   "cell_type": "code",
   "execution_count": 10,
   "metadata": {},
   "outputs": [
    {
     "data": {
      "text/plain": [
       "#'clojure-backtesting.demo/data-to-plot"
      ]
     },
     "execution_count": 10,
     "metadata": {},
     "output_type": "execute_result"
    }
   ],
   "source": [
    "; Add legend name to series\n",
    "(def data-to-plot\n",
    " (map #(assoc % :plot \"portfolio\")\n",
    "  data))"
   ]
  },
  {
   "cell_type": "code",
   "execution_count": 11,
   "metadata": {},
   "outputs": [
    {
     "data": {
      "text/plain": [
       "{:date \"1980-12-16\", :tot-value 10000, :daily-ret 0.0, :loan 0.0, :leverage 0.0, :plot \"portfolio\"}"
      ]
     },
     "execution_count": 11,
     "metadata": {},
     "output_type": "execute_result"
    }
   ],
   "source": [
    "(first data-to-plot)"
   ]
  },
  {
   "cell_type": "code",
   "execution_count": 12,
   "metadata": {},
   "outputs": [
    {
     "data": {
      "text/html": [
       "\n",
       "  <div>\n",
       "    <div id='uuid-e589c4bc-7ba6-4d3f-a07e-bf7a71fa43d2'></div>\n",
       "    <script>\n",
       "    requirejs.config({\n",
       "      baseUrl: 'https://cdn.jsdelivr.net/npm/',\n",
       "      paths: {\n",
       "        'vega-embed':  'vega-embed@6.12.2?noext',\n",
       "        'vega-lib': 'vega-lib?noext',\n",
       "        'vega-lite': 'vega-lite@4.17.0?noext',\n",
       "        'vega': 'vega@5.17.0?noext'\n",
       "      }\n",
       "    });\n",
       "    require(['vega-embed'], function(vegaEmbed) {\n",
       "      let spec = {\"width\":800,\"height\":500,\"data\":{\"values\":[{\"date\":\"1980-12-16\",\"tot-value\":10000,\"daily-ret\":0.0,\"loan\":0.0,\"leverage\":0.0,\"plot\":\"portfolio\"},{\"date\":\"1980-12-17\",\"tot-value\":10007.806415917976,\"daily-ret\":7.803370496319297E-4,\"loan\":0.0,\"leverage\":0.0,\"plot\":\"portfolio\"},{\"date\":\"1980-12-18\",\"tot-value\":10026.746929261568,\"daily-ret\":0.0018907852508677928,\"loan\":0.0,\"leverage\":0.0,\"plot\":\"portfolio\"},{\"date\":\"1980-12-22\",\"tot-value\":10096.96503784025,\"daily-ret\":0.006978672093164625,\"loan\":0.0,\"leverage\":0.0,\"plot\":\"portfolio\"},{\"date\":\"1980-12-24\",\"tot-value\":10168.560659009569,\"daily-ret\":0.007065784535722363,\"loan\":0.0,\"leverage\":0.0,\"plot\":\"portfolio\"},{\"date\":\"1980-12-29\",\"tot-value\":10254.213479138652,\"daily-ret\":0.008388020329870642,\"loan\":0.0,\"leverage\":0.0,\"plot\":\"portfolio\"},{\"date\":\"1980-12-31\",\"tot-value\":10295.0,\"daily-ret\":0.003969648226449433,\"loan\":0.0,\"leverage\":0.0,\"plot\":\"portfolio\"}]},\"encoding\":{\"x\":{\"field\":\"date\",\"type\":\"temporal\"},\"y\":{\"field\":\"daily-ret\",\"type\":\"quantitative\"},\"color\":{\"field\":\"plot\",\"type\":\"nominal\"}},\"mark\":\"line\"};\n",
       "      vegaEmbed('#uuid-e589c4bc-7ba6-4d3f-a07e-bf7a71fa43d2', spec, {defaultStyle:true}).catch(console.warn);\n",
       "      }, function(err) {\n",
       "      console.log('Failed to load');\n",
       "    });\n",
       "    </script>\n",
       "  </div>\n",
       "    "
      ]
     },
     "execution_count": 12,
     "metadata": {},
     "output_type": "execute_result"
    }
   ],
   "source": [
    "(plot data-to-plot :plot :date :daily-ret)"
   ]
  },
  {
   "cell_type": "markdown",
   "metadata": {},
   "source": [
    "### 2. Plot volatility (expanded window)"
   ]
  },
  {
   "cell_type": "code",
   "execution_count": 13,
   "metadata": {},
   "outputs": [
    {
     "data": {
      "text/plain": [
       "#'clojure-backtesting.demo/data"
      ]
     },
     "execution_count": 13,
     "metadata": {},
     "output_type": "execute_result"
    }
   ],
   "source": [
    "(def data (deref eval-record))"
   ]
  },
  {
   "cell_type": "code",
   "execution_count": 14,
   "metadata": {},
   "outputs": [
    {
     "data": {
      "text/plain": [
       "{:date \"1980-12-16\", :pnl-pt 7.806415917975755, :ret-da 0.07803370496319298, :ret-r 0.0019683764070455023, :ret-tot 7.803370496319297E-4, :sharpe-e 1.4142135623730954, :sharpe-r 0.22471944370971253, :tot-val 10007.806415917976, :vol-e 0.05517816194058409, :vol-r 0.00875926165778608}"
      ]
     },
     "execution_count": 14,
     "metadata": {},
     "output_type": "execute_result"
    }
   ],
   "source": [
    "(first data)"
   ]
  },
  {
   "cell_type": "code",
   "execution_count": 15,
   "metadata": {},
   "outputs": [
    {
     "data": {
      "text/plain": [
       "#'clojure-backtesting.demo/data-to-plot"
      ]
     },
     "execution_count": 15,
     "metadata": {},
     "output_type": "execute_result"
    }
   ],
   "source": [
    "; Add legend name to series\n",
    "(def data-to-plot\n",
    " (map #(assoc % :plot \"volatility\")\n",
    "  data))"
   ]
  },
  {
   "cell_type": "code",
   "execution_count": 16,
   "metadata": {},
   "outputs": [
    {
     "name": "stdout",
     "output_type": "stream",
     "text": [
      "\n",
      "|      :date | :pnl-pt | :ret-da | :ret-r | :ret-tot | :sharpe-e | :sharpe-r | :tot-val | :vol-e | :vol-r |\n",
      "|------------+---------+---------+--------+----------+-----------+-----------+----------+--------+--------|\n",
      "| 1980-12-16 |      $7 |   0.08% |  0.00% |    0.08% |     1.41% |     0.22% |   $10007 |  0.06% |  0.01% |\n",
      "| 1980-12-17 |     $13 |   0.19% |  0.01% |    0.27% |     2.81% |     0.45% |   $10026 |  0.10% |  0.02% |\n",
      "| 1980-12-18 |     $13 |   0.19% |  0.01% |    0.27% |     2.81% |     0.45% |   $10026 |  0.10% |  0.02% |\n",
      "| 1980-12-19 |     $32 |   0.70% |  0.00% |    0.96% |     3.07% |     0.10% |   $10096 |  0.31% |  0.05% |\n",
      "| 1980-12-22 |     $32 |   0.70% |  0.00% |    0.96% |     3.07% |     0.10% |   $10096 |  0.31% |  0.05% |\n",
      "| 1980-12-23 |     $42 |   0.71% |  0.01% |    1.67% |     4.88% |     0.11% |   $10168 |  0.34% |  0.05% |\n",
      "| 1980-12-24 |     $42 |   0.71% |  0.01% |    1.67% |     4.88% |     0.11% |   $10168 |  0.34% |  0.05% |\n",
      "| 1980-12-26 |     $50 |   0.84% |  0.01% |    2.51% |     6.80% |     0.09% |   $10254 |  0.37% |  0.06% |\n",
      "| 1980-12-29 |     $50 |   0.84% |  0.01% |    2.51% |     6.80% |     0.09% |   $10254 |  0.37% |  0.06% |\n",
      "| 1980-12-30 |     $49 |   0.40% |  0.01% |    2.91% |     8.62% |     0.10% |   $10295 |  0.34% |  0.05% |\n"
     ]
    },
    {
     "data": {
      "text/plain": [
       "nil"
      ]
     },
     "execution_count": 16,
     "metadata": {},
     "output_type": "execute_result"
    }
   ],
   "source": [
    "(eval-report)"
   ]
  },
  {
   "cell_type": "code",
   "execution_count": 17,
   "metadata": {},
   "outputs": [],
   "source": [
    ";(println data-to-plot)"
   ]
  },
  {
   "cell_type": "code",
   "execution_count": 6,
   "metadata": {},
   "outputs": [
    {
     "name": "stderr",
     "output_type": "stream",
     "text": [
      "Syntax error compiling at (REPL:1:1).\n",
      "Unable to resolve symbol: data-to-plot in this context\n"
     ]
    },
    {
     "ename": "class clojure.lang.Compiler$CompilerException",
     "evalue": "",
     "output_type": "error",
     "traceback": [
      "  Util.java:   221 clojure.lang.Util/runtimeException",
      "   core.clj:  3214 clojure.core$eval/invokeStatic",
      "   core.clj:  3210 clojure.core$eval/invoke",
      "   main.clj:   437 clojure.main$repl$read_eval_print__9086$fn__9089/invoke",
      "   main.clj:   458 clojure.main$repl$fn__9095/invoke",
      "   main.clj:   368 clojure.main$repl/doInvoke",
      "RestFn.java:  1523 clojure.lang.RestFn/invoke",
      "   AFn.java:    22 clojure.lang.AFn/run",
      "   AFn.java:    22 clojure.lang.AFn/run",
      "Thread.java:   844 java.lang.Thread/run"
     ]
    }
   ],
   "source": [
    "(plot data-to-plot :plot :date :vol-e :pnl-pt)"
   ]
  },
  {
   "cell_type": "markdown",
   "metadata": {},
   "source": [
    "### 3. Plot sharpe ratio (expanded window)"
   ]
  },
  {
   "cell_type": "code",
   "execution_count": 19,
   "metadata": {},
   "outputs": [
    {
     "data": {
      "text/html": [
       "\n",
       "  <div>\n",
       "    <div id='uuid-43b5d58e-af2c-47c7-9973-c2116f2d41d3'></div>\n",
       "    <script>\n",
       "    requirejs.config({\n",
       "      baseUrl: 'https://cdn.jsdelivr.net/npm/',\n",
       "      paths: {\n",
       "        'vega-embed':  'vega-embed@6.12.2?noext',\n",
       "        'vega-lib': 'vega-lib?noext',\n",
       "        'vega-lite': 'vega-lite@4.17.0?noext',\n",
       "        'vega': 'vega@5.17.0?noext'\n",
       "      }\n",
       "    });\n",
       "    require(['vega-embed'], function(vegaEmbed) {\n",
       "      let spec = {\"width\":800,\"height\":500,\"data\":{\"values\":[{\"date\":\"1980-12-16\",\"plot\":\"sharpe ratio\",\"pnl-pt\":7.806415917975755,\"ret-da\":0.07803370496319298,\"ret-r\":0.0019683764070455023,\"ret-tot\":7.803370496319297E-4,\"sharpe-e\":1.4142135623730954,\"sharpe-r\":0.22471944370971253,\"tot-val\":10007.806415917976,\"vol-e\":0.05517816194058409,\"vol-r\":0.00875926165778608},{\"date\":\"1980-12-17\",\"plot\":\"sharpe ratio\",\"pnl-pt\":13.373464630783928,\"ret-da\":0.18907852508677928,\"ret-r\":0.006753843325566722,\"ret-tot\":0.0026711223004997225,\"sharpe-e\":2.811165235769397,\"sharpe-r\":0.447757956311124,\"tot-val\":10026.746929261568,\"vol-e\":0.09501833142044581,\"vol-r\":0.01508369249584886},{\"date\":\"1980-12-18\",\"plot\":\"sharpe ratio\",\"pnl-pt\":13.373464630783928,\"ret-da\":0.18907852508677928,\"ret-r\":0.006753843325566722,\"ret-tot\":0.0026711223004997225,\"sharpe-e\":2.811165235769397,\"sharpe-r\":0.447757956311124,\"tot-val\":10026.746929261568,\"vol-e\":0.09501833142044581,\"vol-r\":0.01508369249584886},{\"date\":\"1980-12-19\",\"plot\":\"sharpe ratio\",\"pnl-pt\":32.32167928008312,\"ret-da\":0.6978672093164625,\"ret-r\":0.004875106581884392,\"ret-tot\":0.009649794393664347,\"sharpe-e\":3.07175916247278,\"sharpe-r\":0.09775814382663603,\"tot-val\":10096.96503784025,\"vol-e\":0.31414553951867175,\"vol-r\":0.04986905838279714},{\"date\":\"1980-12-22\",\"plot\":\"sharpe ratio\",\"pnl-pt\":32.32167928008312,\"ret-da\":0.6978672093164625,\"ret-r\":0.004875106581884392,\"ret-tot\":0.009649794393664347,\"sharpe-e\":3.07175916247278,\"sharpe-r\":0.09775814382663603,\"tot-val\":10096.96503784025,\"vol-e\":0.31414553951867175,\"vol-r\":0.04986905838279714},{\"date\":\"1980-12-23\",\"plot\":\"sharpe ratio\",\"pnl-pt\":42.14016475239214,\"ret-da\":0.7065784535722363,\"ret-r\":0.006035244674530205,\"ret-tot\":0.016715578929386708,\"sharpe-e\":4.880120178236681,\"sharpe-r\":0.11099507413890307,\"tot-val\":10168.560659009569,\"vol-e\":0.34252391988072917,\"vol-r\":0.05437398660572532},{\"date\":\"1980-12-24\",\"plot\":\"sharpe ratio\",\"pnl-pt\":42.14016475239214,\"ret-da\":0.7065784535722363,\"ret-r\":0.006035244674530205,\"ret-tot\":0.016715578929386708,\"sharpe-e\":4.880120178236681,\"sharpe-r\":0.11099507413890307,\"tot-val\":10168.560659009569,\"vol-e\":0.34252391988072917,\"vol-r\":0.05437398660572532},{\"date\":\"1980-12-26\",\"plot\":\"sharpe ratio\",\"pnl-pt\":50.842695827730495,\"ret-da\":0.8388020329870642,\"ret-r\":0.005285010913514743,\"ret-tot\":0.02510359925925735,\"sharpe-e\":6.800258723790837,\"sharpe-r\":0.09018515600723398,\"tot-val\":10254.213479138652,\"vol-e\":0.3691565318159428,\"vol-r\":0.05860178268240528},{\"date\":\"1980-12-29\",\"plot\":\"sharpe ratio\",\"pnl-pt\":50.842695827730495,\"ret-da\":0.8388020329870642,\"ret-r\":0.005285010913514743,\"ret-tot\":0.02510359925925735,\"sharpe-e\":6.800258723790837,\"sharpe-r\":0.09018515600723398,\"tot-val\":10254.213479138652,\"vol-e\":0.3691565318159428,\"vol-r\":0.05860178268240528},{\"date\":\"1980-12-30\",\"plot\":\"sharpe ratio\",\"pnl-pt\":49.166666666666664,\"ret-da\":0.3969648226449433,\"ret-r\":0.005246137003819262,\"ret-tot\":0.029073247485706784,\"sharpe-e\":8.624783808592804,\"sharpe-r\":0.09803790682132763,\"tot-val\":10295.0,\"vol-e\":0.3370895796453627,\"vol-r\":0.0535113118375758}]},\"encoding\":{\"x\":{\"field\":\"date\",\"type\":\"temporal\"},\"y\":{\"field\":\"sharpe-e\",\"type\":\"quantitative\"},\"color\":{\"field\":\"plot\",\"type\":\"nominal\"}},\"mark\":\"line\"};\n",
       "      vegaEmbed('#uuid-43b5d58e-af2c-47c7-9973-c2116f2d41d3', spec, {defaultStyle:true}).catch(console.warn);\n",
       "      }, function(err) {\n",
       "      console.log('Failed to load');\n",
       "    });\n",
       "    </script>\n",
       "  </div>\n",
       "    "
      ]
     },
     "execution_count": 19,
     "metadata": {},
     "output_type": "execute_result"
    }
   ],
   "source": [
    "; Add rename legend\n",
    "(def data-to-plot\n",
    " (map #(assoc % :plot \"sharpe ratio\")\n",
    "  data))\n",
    "\n",
    "(plot data-to-plot :plot :date :sharpe-e)"
   ]
  },
  {
   "cell_type": "markdown",
   "metadata": {},
   "source": [
    "### 4. Plot stock price"
   ]
  },
  {
   "cell_type": "code",
   "execution_count": 20,
   "metadata": {},
   "outputs": [
    {
     "data": {
      "text/plain": [
       "#'clojure-backtesting.demo/data"
      ]
     },
     "execution_count": 20,
     "metadata": {},
     "output_type": "execute_result"
    }
   ],
   "source": [
    "(def data (deref order-record))"
   ]
  },
  {
   "cell_type": "code",
   "execution_count": 21,
   "metadata": {},
   "outputs": [
    {
     "data": {
      "text/plain": [
       "{:date \"1980-12-17\", :tic \"AAPL\", :price 25.9375, :quantity 50, :reference 2}"
      ]
     },
     "execution_count": 21,
     "metadata": {},
     "output_type": "execute_result"
    }
   ],
   "source": [
    "(first data)"
   ]
  },
  {
   "cell_type": "code",
   "execution_count": 22,
   "metadata": {},
   "outputs": [
    {
     "data": {
      "text/html": [
       "\n",
       "  <div>\n",
       "    <div id='uuid-564acc38-a17e-4d95-9230-030f035b0162'></div>\n",
       "    <script>\n",
       "    requirejs.config({\n",
       "      baseUrl: 'https://cdn.jsdelivr.net/npm/',\n",
       "      paths: {\n",
       "        'vega-embed':  'vega-embed@6.12.2?noext',\n",
       "        'vega-lib': 'vega-lib?noext',\n",
       "        'vega-lite': 'vega-lite@4.17.0?noext',\n",
       "        'vega': 'vega@5.17.0?noext'\n",
       "      }\n",
       "    });\n",
       "    require(['vega-embed'], function(vegaEmbed) {\n",
       "      let spec = {\"width\":800,\"height\":500,\"data\":{\"values\":[{\"date\":\"1980-12-17\",\"tic\":\"AAPL\",\"price\":25.9375,\"quantity\":50,\"reference\":2,\"plot\":\"price\"},{\"date\":\"1980-12-18\",\"tic\":\"AAPL\",\"price\":26.6875,\"quantity\":-10,\"reference\":3,\"plot\":\"price\"},{\"date\":\"1980-12-22\",\"tic\":\"AAPL\",\"price\":29.6875,\"quantity\":-10,\"reference\":5,\"plot\":\"price\"},{\"date\":\"1980-12-24\",\"tic\":\"AAPL\",\"price\":32.5625,\"quantity\":-10,\"reference\":7,\"plot\":\"price\"},{\"date\":\"1980-12-29\",\"tic\":\"AAPL\",\"price\":36.0625,\"quantity\":-10,\"reference\":9,\"plot\":\"price\"},{\"date\":\"1980-12-31\",\"tic\":\"AAPL\",\"price\":34.1875,\"quantity\":-10,\"reference\":11,\"plot\":\"price\"}]},\"encoding\":{\"x\":{\"field\":\"date\",\"type\":\"temporal\"},\"y\":{\"field\":\"price\",\"type\":\"quantitative\"},\"color\":{\"field\":\"plot\",\"type\":\"nominal\"}},\"mark\":\"line\"};\n",
       "      vegaEmbed('#uuid-564acc38-a17e-4d95-9230-030f035b0162', spec, {defaultStyle:true}).catch(console.warn);\n",
       "      }, function(err) {\n",
       "      console.log('Failed to load');\n",
       "    });\n",
       "    </script>\n",
       "  </div>\n",
       "    "
      ]
     },
     "execution_count": 22,
     "metadata": {},
     "output_type": "execute_result"
    }
   ],
   "source": [
    "; Add rename legend\n",
    "(def data-to-plot\n",
    " (map #(assoc % :plot \"price\")\n",
    "  data))\n",
    "\n",
    "(plot data-to-plot :plot :date :price)"
   ]
  },
  {
   "cell_type": "code",
   "execution_count": null,
   "metadata": {},
   "outputs": [],
   "source": []
  }
 ],
 "metadata": {
  "kernelspec": {
   "display_name": "Clojure (backtesting_clojure)",
   "language": "clojure",
   "name": "backtesting_clojure"
  },
  "language_info": {
   "file_extension": ".clj",
   "mimetype": "text/x-clojure",
   "name": "clojure",
   "version": "1.10.1"
  }
 },
 "nbformat": 4,
 "nbformat_minor": 2
}
