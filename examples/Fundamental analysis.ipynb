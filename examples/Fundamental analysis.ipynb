{
 "cells": [
  {
   "cell_type": "markdown",
   "metadata": {},
   "source": [
    "### Run this in Python kernel"
   ]
  },
  {
   "cell_type": "code",
   "execution_count": null,
   "metadata": {},
   "outputs": [],
   "source": [
    "%%html\n",
    "<style>\n",
    "body {\n",
    "    font-family: \"Arial\", cursive, sans-serif; # font style of application\n",
    "}\n",
    "pre {\n",
    "    font-family: \"Courier New\"; # font style of cell outputs\n",
    "}\n",
    "</style>  "
   ]
  },
  {
   "cell_type": "markdown",
   "metadata": {},
   "source": [
    "### Run below in the backtesting_clojure kernel"
   ]
  },
  {
   "cell_type": "code",
   "execution_count": 15,
   "metadata": {},
   "outputs": [
    {
     "data": {
      "text/plain": [
       "nil"
      ]
     },
     "execution_count": 15,
     "metadata": {},
     "output_type": "execute_result"
    }
   ],
   "source": [
    "; import libraries from kernel\n",
    "(ns clojure-backtesting.demo\n",
    "  (:require [clojure.test :refer :all]\n",
    "            [clojure-backtesting.data :refer :all]\n",
    "            [clojure-backtesting.data-management :refer :all]\n",
    "            [clojure-backtesting.order :refer :all]\n",
    "            [clojure-backtesting.evaluate :refer :all]\n",
    "            [clojure-backtesting.plot :refer :all]\n",
    "            [clojure-backtesting.counter :refer :all]\n",
    "            ;;[clojure-backtesting.parameters :refer :all]\n",
    "            [clojure.string :as str]\n",
    "            [clojure.pprint :as pprint]\n",
    "            [java-time :as t]\n",
    "            [clojupyter.kernel.version :as ver]\n",
    "            [clojure.edn :as edn]\n",
    "            [clojupyter.misc.helper :as helper]\n",
    "  ) ;; require all libriaries from core\n",
    "  (:use clojure.pprint)\n",
    ")"
   ]
  },
  {
   "cell_type": "markdown",
   "metadata": {},
   "source": [
    "### Import dataset"
   ]
  },
  {
   "cell_type": "code",
   "execution_count": 16,
   "metadata": {},
   "outputs": [],
   "source": [
    "; path to dataset = \"../resources/CRSP-extract.csv\"\n",
    "; change it to the relative to your own dataset\n",
    ";\n",
    "(reset! data-set (add-aprc (read-csv-row \"../resources/CRSP-extract.csv\")));"
   ]
  },
  {
   "cell_type": "markdown",
   "metadata": {},
   "source": [
    "### Get list of tickers with ROE"
   ]
  },
  {
   "cell_type": "code",
   "execution_count": 17,
   "metadata": {},
   "outputs": [
    {
     "data": {
      "text/plain": [
       "#'clojure-backtesting.demo/get-set"
      ]
     },
     "execution_count": 17,
     "metadata": {},
     "output_type": "execute_result"
    }
   ],
   "source": [
    ";; Use merged database CRSP + COMPUSTAT\n",
    ";; Compute the latest quarter ROE by using: niq/(share price * cshoq) in the merged dataset\n",
    ";; output {{:tic \"AAPL\" :year \"1980\" :ROE x.x}{...}{:ROE 1.x 2.x 3.x 10.x}}\n",
    "\n",
    ";; need to use lazy sequence if applying on big dataset\n",
    "(defn get-set\n",
    "    \"return a set of maps of tickers and datadate\" ;;{:tic \"AAPL\", :datadate \"1981/3/31\", :ROE x.x}\n",
    "    [file date]\n",
    "    (loop [remaining file\n",
    "            result-set []\n",
    "            ROE-list [] ]\n",
    "        (if (empty? remaining)\n",
    "            ;; how to change the output here?\n",
    "            ;;(into #{} (conj result-set {:ROE-set ROE-list}))\n",
    "            {:data result-set :ROE-set ROE-list}\n",
    "            (let [first-line (first remaining)\n",
    "                next-remaining (rest remaining)\n",
    "                ;;next-result-set (conj result-set (get first-line :datadate)\n",
    "                [year month day] (map parse-int (str/split date #\"-\"))]\n",
    "                ;;merged file use :datadate as key\n",
    "                (if (= date (get first-line :datadate))\n",
    "                    (let [[niq PRC cshoq] (map edn/read-string [(get first-line :niq)(get first-line :PRC)(get first-line :cshoq)])\n",
    "                          ROE (/ niq (* PRC cshoq))]\n",
    "                        (recur next-remaining (conj result-set {:tic (get first-line :tic) :year year :ROE ROE}) (conj ROE-list ROE))\n",
    "                    )\n",
    "                    (recur next-remaining result-set ROE-list)\n",
    "                )  \n",
    "            )\n",
    "        )\n",
    "    )\n",
    ")"
   ]
  },
  {
   "cell_type": "code",
   "execution_count": 18,
   "metadata": {},
   "outputs": [
    {
     "name": "stdout",
     "output_type": "stream",
     "text": [
      "{:data [{:tic AAPL, :year 1980, :ROE 0.002731506525434953} {:tic GM, :year 1980, :ROE -0.046370846428037134} {:tic IBM, :year 1980, :ROE 0.0238072629827958}], :ROE-set [0.002731506525434953 -0.046370846428037134 0.0238072629827958]}\n"
     ]
    }
   ],
   "source": [
    ";; this function can be used to get the list of stocks available for trading\n",
    "(def dataFA (get-set (read-csv-row \"../resources/data-testing-merged.csv\") \"1980-12-18\"))\n",
    "(println dataFA) ;"
   ]
  },
  {
   "cell_type": "code",
   "execution_count": 19,
   "metadata": {},
   "outputs": [
    {
     "data": {
      "text/plain": [
       "#'clojure-backtesting.demo/get-ROE"
      ]
     },
     "execution_count": 19,
     "metadata": {},
     "output_type": "execute_result"
    }
   ],
   "source": [
    ";; fn to get a set of ROE\n",
    "(defn get-ROE\n",
    "            \"return a set of ROE\"  ;;{10.2 1.8 x.x ...}\n",
    "        [dataset]\n",
    "        (into #{} (get dataset :ROE-set))\n",
    "        )"
   ]
  },
  {
   "cell_type": "code",
   "execution_count": 20,
   "metadata": {},
   "outputs": [
    {
     "data": {
      "text/plain": [
       "#'clojure-backtesting.demo/get-roe-20"
      ]
     },
     "execution_count": 20,
     "metadata": {},
     "output_type": "execute_result"
    }
   ],
   "source": [
    "(defn get-roe-20\n",
    "    \"return a set tickers\" ;;{\"AAPL\" \"GM\"}\n",
    "    [data roe-20]\n",
    "    (loop [remaining (get data :data)\n",
    "            result-set []]\n",
    "        (if (empty? remaining)\n",
    "            (into #{} result-set)\n",
    "            (let [first-line (first remaining)\n",
    "                next-remaining (rest remaining)]\n",
    "                ;;conj the stock ticker whose ROE >= roe-20\n",
    "                ;;(if (not= -1 (compare roe-20 (get first-line :ROE)))\n",
    "                (if (>= (get first-line :ROE) roe-20)\n",
    "                    (recur next-remaining (conj result-set (get first-line :tic)))           \n",
    "                    (recur next-remaining result-set)            \n",
    "                )  \n",
    "            )\n",
    "        )\n",
    "    )\n",
    ")"
   ]
  },
  {
   "cell_type": "code",
   "execution_count": 21,
   "metadata": {},
   "outputs": [
    {
     "name": "stdout",
     "output_type": "stream",
     "text": [
      "#{0.0238072629827958 -0.046370846428037134 0.002731506525434953}\n",
      "#{-0.046370846428037134 0.002731506525434953 0.0238072629827958}\n",
      "[-0.046370846428037134 0.002731506525434953 0.0238072629827958]\n",
      "0.0238072629827958\n",
      "#{IBM}\n",
      "clojure.lang.PersistentHashSet\n"
     ]
    },
    {
     "data": {
      "text/plain": [
       "nil"
      ]
     },
     "execution_count": 21,
     "metadata": {},
     "output_type": "execute_result"
    }
   ],
   "source": [
    ";; test examples\n",
    "\n",
    ";; dataFA is the dataset that contains the output from get-set\n",
    "\n",
    ";; get a set of ROE\n",
    "(def roe-list-demo (get-ROE dataFA))\n",
    "(println roe-list-demo)\n",
    "\n",
    "\n",
    ";; get a sorted set of ROE\n",
    "(def roe-sorted-set (apply sorted-set roe-list-demo))\n",
    "(println roe-sorted-set)\n",
    "\n",
    "\n",
    ";; get a sorted vector of ROE\n",
    "(def roe-sorted-vec (into '[] roe-sorted-set))\n",
    "(println roe-sorted-vec)\n",
    "\n",
    ";; find the 20th per centile ROE\n",
    "(def roe-20-demo (nth roe-sorted-vec (int (* 0.8 (count roe-sorted-vec)))))\n",
    "(println roe-20-demo)\n",
    "         \n",
    ";; get the list of tickers to buy\n",
    "(def stock-to-buy-test (get-roe-20 dataFA roe-20-demo))\n",
    "(println stock-to-buy-test)\n",
    "(println (type stock-to-buy-test)) ;;stored in a set format"
   ]
  },
  {
   "cell_type": "markdown",
   "metadata": {},
   "source": [
    "### Initialise portfolio"
   ]
  },
  {
   "cell_type": "code",
   "execution_count": 22,
   "metadata": {},
   "outputs": [
    {
     "data": {
      "text/plain": [
       "(\"AAPL\" \"F\" \"IBM\")"
      ]
     },
     "execution_count": 22,
     "metadata": {},
     "output_type": "execute_result"
    }
   ],
   "source": [
    "(keys (deref available-tics-))"
   ]
  },
  {
   "cell_type": "code",
   "execution_count": 26,
   "metadata": {},
   "outputs": [
    {
     "name": "stdout",
     "output_type": "stream",
     "text": [
      "1980-12-19\n",
      "1980-12-22\n",
      "1980-12-23\n",
      "1980-12-24\n",
      "1980-12-26\n"
     ]
    },
    {
     "data": {
      "text/plain": [
       "({:date \"1980-12-26\", :pnl-pt \"$16\", :sharpe \"0.01%\", :tot-val \"$100033\", :vol \"6.48%\"})"
      ]
     },
     "execution_count": 26,
     "metadata": {},
     "output_type": "execute_result"
    }
   ],
   "source": [
    ";; initialise with current date and initial capital (= $1,000,000)\n",
    "(init-portfolio \"1980-12-18\" 100000)\n",
    "\n",
    "(def start-date (get-date))\n",
    ";; time span = n days\n",
    "(def time-span 5) \n",
    "\n",
    ";; get stock tickers and ROE data\n",
    ";; output {{:tic \"AAPL\" :year \"1980\" :ROE x.x}{...}{:ROE 1.x 2.x 3.x 10.x}}\n",
    "(def stock-data (get-set (read-csv-row \"../resources/data-testing-merged.csv\") \"1980-12-18\"))\n",
    "\n",
    ";; 1. sort the stocks according to their ROE (= Net Income/Total Equity)\n",
    "\n",
    ";; get a set of ROE\n",
    "(def roe-list (get-ROE stock-data))\n",
    "\n",
    ";; sorting function, return tickers of the top 20% stocks\n",
    ";; determine what are the top 20% stocks and turn the sorted-set into list format\n",
    "(def roe-sorted (into '[] (apply sorted-set roe-list)))\n",
    "\n",
    ";(println roe-list)\n",
    ";(println (int (* 0.8 (count roe-sorted))))\n",
    "\n",
    ";;find the 20% cut-off ROE value\n",
    "(let [roe-20 (nth roe-sorted (int (* 0.8 (count roe-sorted))))]    \n",
    "  ;;get the tickers of the top 20 with function get-roe-20\n",
    "  (def stocks-to-buy (get-roe-20 stock-data roe-20))\n",
    ")\n",
    "\n",
    ";; 2. buy the top 20% stocks and the sell the stocks that are not in the top 20% this year      \n",
    "(def stocks-to-buy-list (into [] stocks-to-buy))\n",
    ";(println stocks-to-buy-list)\n",
    "\n",
    "(doseq [stock stocks-to-buy-list]        \n",
    "(order stock 10)\n",
    ")\n",
    "\n",
    "\n",
    "(while (not= time-span 0)\n",
    "  ;; check whether the start day is in the dataset\n",
    "  ;; find the quarterly date before inputting into get-set function\n",
    "  (do \n",
    "      ; move on to the next trading day\n",
    "      (next-date)\n",
    "      ; decrement time span\n",
    "      (println (get-date))\n",
    "      (def time-span (dec time-span))\n",
    "  )\n",
    ")\n",
    "\n",
    ";; 3. sell all stocks by the end of time span\n",
    "(doseq [stock stocks-to-buy-list]        \n",
    "(order stock -10)\n",
    ")\n",
    "\n",
    "; update the eval-report\n",
    "(update-eval-report (get-date))"
   ]
  },
  {
   "cell_type": "markdown",
   "metadata": {},
   "source": [
    "### Check order record"
   ]
  },
  {
   "cell_type": "code",
   "execution_count": 27,
   "metadata": {},
   "outputs": [
    {
     "name": "stdout",
     "output_type": "stream",
     "text": [
      "\n",
      "|      :date | :tic | :price | :quantity | :count |\n",
      "|------------+------+--------+-----------+--------|\n",
      "| 1980-12-19 |  IBM | 64.625 |        10 |        |\n",
      "| 1980-12-29 |  IBM |   68.0 |       -10 |        |\n"
     ]
    },
    {
     "data": {
      "text/plain": [
       "nil"
      ]
     },
     "execution_count": 27,
     "metadata": {},
     "output_type": "execute_result"
    }
   ],
   "source": [
    "(pprint/print-table (deref order-record))"
   ]
  },
  {
   "cell_type": "markdown",
   "metadata": {},
   "source": [
    "### Check portfolio record"
   ]
  },
  {
   "cell_type": "code",
   "execution_count": 28,
   "metadata": {},
   "outputs": [
    {
     "name": "stdout",
     "output_type": "stream",
     "text": [
      "\n",
      "| :asset | :price |  :aprc | :quantity | :tot-val |\n",
      "|--------+--------+--------+-----------+----------|\n",
      "|   cash |    N/A |    N/A |       N/A |   100033 |\n",
      "|    IBM |   68.0 | 752.53 |         0 |        0 |\n"
     ]
    },
    {
     "data": {
      "text/plain": [
       "nil"
      ]
     },
     "execution_count": 28,
     "metadata": {},
     "output_type": "execute_result"
    }
   ],
   "source": [
    ";; view final portfolio\n",
    "(view-portfolio)"
   ]
  },
  {
   "cell_type": "code",
   "execution_count": 29,
   "metadata": {},
   "outputs": [
    {
     "name": "stdout",
     "output_type": "stream",
     "text": [
      "\n",
      "|      :date | :tot-value | :daily-ret | :tot-ret | :loan | :leverage |\n",
      "|------------+------------+------------+----------+-------+-----------|\n",
      "| 1980-12-18 |    $100000 |      0.00% |    0.00% | $0.00 |     0.00% |\n",
      "| 1980-12-19 |    $106714 |      6.50% |    6.50% | $0.00 |     0.00% |\n",
      "| 1980-12-29 |    $100033 |     -6.46% |    0.03% | $0.00 |     0.00% |\n"
     ]
    },
    {
     "data": {
      "text/plain": [
       "nil"
      ]
     },
     "execution_count": 29,
     "metadata": {},
     "output_type": "execute_result"
    }
   ],
   "source": [
    ";; view portfolio value and return\n",
    "(view-portfolio-record)"
   ]
  },
  {
   "cell_type": "markdown",
   "metadata": {},
   "source": [
    "### Generate evaluation report"
   ]
  },
  {
   "cell_type": "code",
   "execution_count": 30,
   "metadata": {},
   "outputs": [
    {
     "name": "stdout",
     "output_type": "stream",
     "text": [
      "\n",
      "|      :date | :pnl-pt | :sharpe | :tot-val |  :vol |\n",
      "|------------+---------+---------+----------+-------|\n",
      "| 1980-12-26 |     $16 |   0.01% |  $100033 | 6.48% |\n"
     ]
    },
    {
     "data": {
      "text/plain": [
       "nil"
      ]
     },
     "execution_count": 30,
     "metadata": {},
     "output_type": "execute_result"
    }
   ],
   "source": [
    "(eval-report)"
   ]
  },
  {
   "cell_type": "markdown",
   "metadata": {},
   "source": [
    "### Plot variables\n",
    "Below are example codes that show how to plot different variables in the portfolio record / evaluation record."
   ]
  },
  {
   "cell_type": "markdown",
   "metadata": {},
   "source": [
    "### 1. Portfolio daily return"
   ]
  },
  {
   "cell_type": "code",
   "execution_count": null,
   "metadata": {},
   "outputs": [],
   "source": [
    "(def data (deref portfolio-value))"
   ]
  },
  {
   "cell_type": "code",
   "execution_count": null,
   "metadata": {},
   "outputs": [],
   "source": [
    "; Add legend name to series\n",
    "(def data-to-plot\n",
    " (map #(assoc % :plot \"portfolio\")\n",
    "  data))"
   ]
  },
  {
   "cell_type": "code",
   "execution_count": null,
   "metadata": {},
   "outputs": [],
   "source": [
    "(first data-to-plot)"
   ]
  },
  {
   "cell_type": "code",
   "execution_count": null,
   "metadata": {},
   "outputs": [],
   "source": [
    "(plot data-to-plot :plot :date :daily-ret)"
   ]
  },
  {
   "cell_type": "markdown",
   "metadata": {},
   "source": [
    "### 2. Plot volatility (expanded window)"
   ]
  },
  {
   "cell_type": "code",
   "execution_count": null,
   "metadata": {},
   "outputs": [],
   "source": [
    "(def data (deref eval-record))"
   ]
  },
  {
   "cell_type": "code",
   "execution_count": null,
   "metadata": {},
   "outputs": [],
   "source": [
    "(first data)"
   ]
  },
  {
   "cell_type": "code",
   "execution_count": null,
   "metadata": {},
   "outputs": [],
   "source": [
    "; Add legend name to series\n",
    "(def data-to-plot\n",
    " (map #(assoc % :plot \"volatility\")\n",
    "  data))"
   ]
  },
  {
   "cell_type": "code",
   "execution_count": null,
   "metadata": {},
   "outputs": [],
   "source": [
    "(eval-report)"
   ]
  },
  {
   "cell_type": "code",
   "execution_count": null,
   "metadata": {},
   "outputs": [],
   "source": [
    ";(println data-to-plot)"
   ]
  },
  {
   "cell_type": "code",
   "execution_count": null,
   "metadata": {},
   "outputs": [],
   "source": [
    "(plot data-to-plot :plot :date :vol-e :pnl-pt)"
   ]
  },
  {
   "cell_type": "markdown",
   "metadata": {},
   "source": [
    "### 3. Plot sharpe ratio (expanded window)"
   ]
  },
  {
   "cell_type": "code",
   "execution_count": null,
   "metadata": {},
   "outputs": [],
   "source": [
    "; Add rename legend\n",
    "(def data-to-plot\n",
    " (map #(assoc % :plot \"sharpe ratio\")\n",
    "  data))\n",
    "\n",
    "(plot data-to-plot :plot :date :sharpe-e)"
   ]
  },
  {
   "cell_type": "markdown",
   "metadata": {},
   "source": [
    "### 4. Plot stock price"
   ]
  },
  {
   "cell_type": "code",
   "execution_count": null,
   "metadata": {},
   "outputs": [],
   "source": [
    "(def data (deref order-record))"
   ]
  },
  {
   "cell_type": "code",
   "execution_count": null,
   "metadata": {},
   "outputs": [],
   "source": [
    "(first data)"
   ]
  },
  {
   "cell_type": "code",
   "execution_count": null,
   "metadata": {},
   "outputs": [],
   "source": [
    "; Add rename legend\n",
    "(def data-to-plot\n",
    " (map #(assoc % :plot \"price\")\n",
    "  data))\n",
    "\n",
    "(plot data-to-plot :plot :date :price)"
   ]
  },
  {
   "cell_type": "code",
   "execution_count": null,
   "metadata": {},
   "outputs": [],
   "source": []
  }
 ],
 "metadata": {
  "kernelspec": {
   "display_name": "Clojure (backtesting_clojure)",
   "language": "clojure",
   "name": "backtesting_clojure"
  },
  "language_info": {
   "file_extension": ".clj",
   "mimetype": "text/x-clojure",
   "name": "clojure",
   "version": "1.10.1"
  }
 },
 "nbformat": 4,
 "nbformat_minor": 2
}
