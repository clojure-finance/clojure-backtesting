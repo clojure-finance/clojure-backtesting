{
 "cells": [
  {
   "cell_type": "markdown",
   "metadata": {},
   "source": [
    "### Run this in Python kernel"
   ]
  },
  {
   "cell_type": "code",
   "execution_count": 2,
   "metadata": {},
   "outputs": [
    {
     "data": {
      "text/html": [
       "<style>\n",
       "body {\n",
       "    font-family: \"Arial\", cursive, sans-serif;\n",
       "}\n",
       "pre {\n",
       "    #font-family: \"Consolas\", cursive, sans-serif;\n",
       "    #font-family: \"Arial\", cursive, sans-serif;\n",
       "    font-family: \"Courier New\";\n",
       "}\n",
       "</style>  \n"
      ],
      "text/plain": [
       "<IPython.core.display.HTML object>"
      ]
     },
     "metadata": {},
     "output_type": "display_data"
    }
   ],
   "source": [
    "%%html\n",
    "<style>\n",
    "body {\n",
    "    font-family: \"Arial\", cursive, sans-serif; # font style of application\n",
    "}\n",
    "pre {\n",
    "    font-family: \"Courier New\"; # font style of cell outputs\n",
    "}\n",
    "</style>  "
   ]
  },
  {
   "cell_type": "markdown",
   "metadata": {},
   "source": [
    "### Run below in the backtesting_clojure kernel"
   ]
  },
  {
   "cell_type": "code",
   "execution_count": 1,
   "metadata": {},
   "outputs": [
    {
     "data": {
      "text/plain": [
       "nil"
      ]
     },
     "execution_count": 1,
     "metadata": {},
     "output_type": "execute_result"
    }
   ],
   "source": [
    "; import libraries from kernel\n",
    "(ns clojure-backtesting.demo\n",
    "  (:require [clojure.test :refer :all]\n",
    "            [clojure-backtesting.data :refer :all]\n",
    "            [clojure-backtesting.order :refer :all]\n",
    "            [clojure-backtesting.evaluate :refer :all]\n",
    "            [clojure-backtesting.plot :refer :all]\n",
    "            [clojure-backtesting.counter :refer :all]\n",
    "            ;;[clojure-backtesting.parameters :refer :all]\n",
    "            [clojure.string :as str]\n",
    "            [clojure.pprint :as pprint]\n",
    "            [java-time :as t]\n",
    "            [clojupyter.kernel.version :as ver]\n",
    "            [clojupyter.misc.helper :as helper]\n",
    "  ) ;; require all libriaries from core\n",
    "  (:use clojure.pprint)\n",
    ")"
   ]
  },
  {
   "cell_type": "markdown",
   "metadata": {},
   "source": [
    "### Import dataset"
   ]
  },
  {
   "cell_type": "code",
   "execution_count": 2,
   "metadata": {},
   "outputs": [],
   "source": [
    "; path to dataset = \"../resources/CRSP-extract.csv\"\n",
    "; change it to the relative to your own dataset\n",
    ";\n",
    "(reset! data-set (add_aprc (read-csv-row \"../resources/CRSP-extract.csv\")));"
   ]
  },
  {
   "cell_type": "markdown",
   "metadata": {},
   "source": [
    "### Initialise portfolio"
   ]
  },
  {
   "cell_type": "code",
   "execution_count": 3,
   "metadata": {},
   "outputs": [],
   "source": [
    ";; initialise with current date and initial capital (= $10000)\n",
    "(init_portfolio \"1980-12-16\" 10000);"
   ]
  },
  {
   "cell_type": "markdown",
   "metadata": {},
   "source": [
    "### Write a strategy\n",
    "\n",
    "The following code implements a simple trading strategy:\n",
    "\n",
    "In a timespan of 10 days (inclusive of today),\n",
    "- Buy 50 stocks of AAPL on the first day\n",
    "- Sell 10 stocks of AAPL on every other day"
   ]
  },
  {
   "cell_type": "code",
   "execution_count": 4,
   "metadata": {
    "scrolled": true
   },
   "outputs": [
    {
     "name": "stdout",
     "output_type": "stream",
     "text": [
      "26.093628318359524\n",
      "Buy 50 stocks of AAPL on 1980-12-16\n",
      "1126.4186732315392\n",
      "Sell 10 stocks of AAPL on 1980-12-17\n",
      "111127.669667928008312\n",
      "Sell 10 stocks of AAPL on 1980-12-19\n",
      "555528.803032950478386\n",
      "Sell 10 stocks of AAPL on 1980-12-23\n",
      "777730.10884791386528\n",
      "Sell 10 stocks of AAPL on 1980-12-26\n",
      "1212121229.41870999204002\n",
      "Sell 10 stocks of AAPL on 1980-12-30\n",
      "1414Counter: 0\n"
     ]
    },
    {
     "data": {
      "text/plain": [
       "nil"
      ]
     },
     "execution_count": 4,
     "metadata": {},
     "output_type": "execute_result"
    }
   ],
   "source": [
    ";; define the \"time span\", i.e. to trade in the coming 10 days \n",
    "(def num-of-days (atom 10))                              \n",
    "\n",
    "(while (pos? @num-of-days)\n",
    "    (do \n",
    "        ;; write your trading strategy here\n",
    "        (if (= 10 @num-of-days)\n",
    "            (do\n",
    "                (order \"AAPL\" 50) ; buy 50 stocks\n",
    "                (println ((fn [date] (str \"Buy 50 stocks of AAPL on \" date)) (get_date)))\n",
    "            )\n",
    "        )\n",
    "        (if (odd? @num-of-days)\n",
    "            (do\n",
    "                (order \"AAPL\" -10) ; sell 10 stocks\n",
    "                (println ((fn [date] (str \"Sell 10 stocks of AAPL on \" date)) (get_date)))\n",
    "            )\n",
    "        )\n",
    "        \n",
    "        (update-eval-report (get_date))\n",
    "        \n",
    "        ; move on to the next trading day\n",
    "        (next_date)\n",
    "        \n",
    "        ; decrement counter\n",
    "        (swap! num-of-days dec)\n",
    "    )\n",
    ")\n",
    "\n",
    "; check whether counter == 0\n",
    "(println ((fn [counter] (str \"Counter: \" counter)) @num-of-days))"
   ]
  },
  {
   "cell_type": "markdown",
   "metadata": {},
   "source": [
    "### Check order record"
   ]
  },
  {
   "cell_type": "code",
   "execution_count": 5,
   "metadata": {},
   "outputs": [
    {
     "name": "stdout",
     "output_type": "stream",
     "text": [
      "\n",
      "|      :date | :tic |  :price | :quantity | :total | :reference |\n",
      "|------------+------+---------+-----------+--------+------------|\n",
      "| 1980-12-17 | AAPL | 25.9375 |        50 |     50 |          2 |\n",
      "| 1980-12-18 | AAPL | 26.6875 |       -10 |     40 |          3 |\n",
      "| 1980-12-22 | AAPL | 29.6875 |       -10 |     30 |          5 |\n",
      "| 1980-12-24 | AAPL | 32.5625 |       -10 |     20 |          7 |\n",
      "| 1980-12-29 | AAPL | 36.0625 |       -10 |     10 |          9 |\n",
      "| 1980-12-31 | AAPL | 34.1875 |       -10 |      0 |         11 |\n"
     ]
    },
    {
     "data": {
      "text/plain": [
       "nil"
      ]
     },
     "execution_count": 5,
     "metadata": {},
     "output_type": "execute_result"
    }
   ],
   "source": [
    "(pprint/print-table (deref order_record))"
   ]
  },
  {
   "cell_type": "markdown",
   "metadata": {},
   "source": [
    "### Check portfolio record"
   ]
  },
  {
   "cell_type": "code",
   "execution_count": 6,
   "metadata": {},
   "outputs": [
    {
     "name": "stdout",
     "output_type": "stream",
     "text": [
      "\n",
      "| :asset |  :price | :aprc | :quantity | :tot_val |\n",
      "|--------+---------+-------+-----------+----------|\n",
      "|   cash |     N/A |   N/A |       N/A |    10295 |\n",
      "|   AAPL | 34.1875 | 29.42 |         0 |        0 |\n"
     ]
    },
    {
     "data": {
      "text/plain": [
       "nil"
      ]
     },
     "execution_count": 6,
     "metadata": {},
     "output_type": "execute_result"
    }
   ],
   "source": [
    ";; view final portfolio\n",
    "(view_portfolio)"
   ]
  },
  {
   "cell_type": "code",
   "execution_count": 7,
   "metadata": {},
   "outputs": [
    {
     "name": "stdout",
     "output_type": "stream",
     "text": [
      "\n",
      "|      :date | :tot_value | :daily_ret |\n",
      "|------------+------------+------------|\n",
      "| 1980-12-16 |     $10000 |      0.00% |\n",
      "| 1980-12-17 |     $10007 |      0.00% |\n",
      "| 1980-12-18 |     $10026 |      0.00% |\n",
      "| 1980-12-22 |     $10096 |      0.01% |\n",
      "| 1980-12-24 |     $10168 |      0.01% |\n",
      "| 1980-12-29 |     $10254 |      0.01% |\n",
      "| 1980-12-31 |     $10295 |      0.00% |\n"
     ]
    },
    {
     "data": {
      "text/plain": [
       "nil"
      ]
     },
     "execution_count": 7,
     "metadata": {},
     "output_type": "execute_result"
    }
   ],
   "source": [
    ";; view portfolio value and return\n",
    "(view_portfolio_record)"
   ]
  },
  {
   "cell_type": "markdown",
   "metadata": {},
   "source": [
    "### Generate evaluation report"
   ]
  },
  {
   "cell_type": "code",
   "execution_count": 8,
   "metadata": {},
   "outputs": [
    {
     "name": "stdout",
     "output_type": "stream",
     "text": [
      "\n",
      "|      :date | :pnl-pt | :ret-da | :ret-r | :ret-tot | :sharpe-e | :sharpe-r | :tot-val | :vol-e | :vol-r |\n",
      "|------------+---------+---------+--------+----------+-----------+-----------+----------+--------+--------|\n",
      "| 1980-12-16 |   $7.81 |   0.08% |  0.22% |    0.00% |     1.41% |    24.80% |   $10007 |  0.06% |  0.88% |\n",
      "| 1980-12-17 |  $13.37 |   0.19% |  0.96% |    0.00% |     2.81% |    63.55% |   $10026 |  0.10% |  1.51% |\n",
      "| 1980-12-18 |  $13.37 |   0.19% |  0.96% |    0.00% |     2.81% |    63.55% |   $10026 |  0.10% |  1.51% |\n",
      "| 1980-12-19 |  $32.32 |   0.70% |  0.62% |    0.01% |     3.07% |    12.48% |   $10096 |  0.31% |  4.99% |\n",
      "| 1980-12-22 |  $32.32 |   0.70% |  0.62% |    0.01% |     3.07% |    12.48% |   $10096 |  0.31% |  4.99% |\n",
      "| 1980-12-23 |  $42.14 |   0.71% |  0.82% |    0.02% |     4.88% |    15.01% |   $10168 |  0.34% |  5.44% |\n",
      "| 1980-12-24 |  $42.14 |   0.71% |  0.82% |    0.02% |     4.88% |    15.01% |   $10168 |  0.34% |  5.44% |\n",
      "| 1980-12-26 |  $50.84 |   0.84% |  0.68% |    0.03% |     6.80% |    11.66% |   $10254 |  0.37% |  5.86% |\n",
      "| 1980-12-29 |  $50.84 |   0.84% |  0.68% |    0.03% |     6.80% |    11.66% |   $10254 |  0.37% |  5.86% |\n",
      "| 1980-12-30 |  $49.17 |   0.40% |  0.68% |    0.03% |     8.62% |    12.62% |   $10295 |  0.34% |  5.35% |\n"
     ]
    },
    {
     "data": {
      "text/plain": [
       "nil"
      ]
     },
     "execution_count": 8,
     "metadata": {},
     "output_type": "execute_result"
    }
   ],
   "source": [
    "(eval-report)"
   ]
  },
  {
   "cell_type": "markdown",
   "metadata": {},
   "source": [
    "### Plot variables"
   ]
  },
  {
   "cell_type": "code",
   "execution_count": null,
   "metadata": {},
   "outputs": [],
   "source": [
    ";; to-do"
   ]
  }
 ],
 "metadata": {
  "kernelspec": {
   "display_name": "Clojure (backtesting_clojure)",
   "language": "clojure",
   "name": "backtesting_clojure"
  },
  "language_info": {
   "file_extension": ".clj",
   "mimetype": "text/x-clojure",
   "name": "clojure",
   "version": "1.10.1"
  }
 },
 "nbformat": 4,
 "nbformat_minor": 2
}
