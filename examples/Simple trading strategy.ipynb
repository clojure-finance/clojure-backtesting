{
 "cells": [
  {
   "cell_type": "markdown",
   "metadata": {},
   "source": [
    "### Run this in Python kernel\n",
    "\n",
    "To reset font style of output (in case it is not the default one)"
   ]
  },
  {
   "cell_type": "code",
   "execution_count": 1,
   "metadata": {},
   "outputs": [
    {
     "data": {
      "text/html": [
       "<style>\n",
       "body {\n",
       "    font-family: \"Arial\", cursive, sans-serif; # font style of application\n",
       "}\n",
       "pre {\n",
       "    font-family: \"Courier New\"; # font style of cell outputs\n",
       "}\n",
       "</style>  \n"
      ],
      "text/plain": [
       "<IPython.core.display.HTML object>"
      ]
     },
     "metadata": {},
     "output_type": "display_data"
    }
   ],
   "source": [
    "%%html\n",
    "<style>\n",
    "body {\n",
    "    font-family: \"Arial\", cursive, sans-serif; # font style of application\n",
    "}\n",
    "pre {\n",
    "    font-family: \"Courier New\"; # font style of cell outputs\n",
    "}\n",
    "</style>  "
   ]
  },
  {
   "cell_type": "markdown",
   "metadata": {},
   "source": [
    "### Run below in the backtesting_clojure kernel"
   ]
  },
  {
   "cell_type": "code",
   "execution_count": 20,
   "metadata": {},
   "outputs": [
    {
     "data": {
      "text/plain": [
       "nil"
      ]
     },
     "execution_count": 20,
     "metadata": {},
     "output_type": "execute_result"
    }
   ],
   "source": [
    "; import libraries from kernel\n",
    "(ns clojure-backtesting.demo\n",
    "  (:require [clojure.test :refer :all]\n",
    "            [oz.notebook.clojupyter :as oz]\n",
    "            [clojure-backtesting.data :refer :all]\n",
    "            [clojure-backtesting.order :refer :all]\n",
    "            [clojure-backtesting.evaluate :refer :all]\n",
    "            [clojure-backtesting.plot :refer :all]\n",
    "            [clojure-backtesting.counter :refer :all]\n",
    "            [clojure-backtesting.parameters :refer :all]\n",
    "            [clojure.string :as str]\n",
    "            [clojure.pprint :as pprint]\n",
    "            [java-time :as t]\n",
    "            [clojupyter.kernel.version :as ver]\n",
    "            [clojupyter.misc.helper :as helper]\n",
    "  ) ;; require all libriaries from core\n",
    "  (:use clojure.pprint)\n",
    ")"
   ]
  },
  {
   "cell_type": "markdown",
   "metadata": {},
   "source": [
    "### Import dataset"
   ]
  },
  {
   "cell_type": "code",
   "execution_count": 21,
   "metadata": {},
   "outputs": [],
   "source": [
    "; path to dataset = \"../resources/CRSP-extract.csv\"\n",
    "; change it to the relative to your own dataset\n",
    ";\n",
    "(reset! data-set (add-aprc (read-csv-row \"../resources/CRSP-extract.csv\")));"
   ]
  },
  {
   "cell_type": "markdown",
   "metadata": {},
   "source": [
    "### Initialise portfolio"
   ]
  },
  {
   "cell_type": "code",
   "execution_count": 22,
   "metadata": {},
   "outputs": [],
   "source": [
    ";; initialise with current date and initial capital (= $10000)\n",
    "(init-portfolio \"1980-12-16\" 10000);"
   ]
  },
  {
   "cell_type": "code",
   "execution_count": 23,
   "metadata": {},
   "outputs": [
    {
     "data": {
      "text/plain": [
       "(\"AAPL\" \"F\" \"IBM\")"
      ]
     },
     "execution_count": 23,
     "metadata": {},
     "output_type": "execute_result"
    }
   ],
   "source": [
    "(keys (deref available-tics))"
   ]
  },
  {
   "cell_type": "markdown",
   "metadata": {},
   "source": [
    "### Write a strategy\n",
    "\n",
    "The following code implements a simple trading strategy:\n",
    "\n",
    "In a timespan of 10 days (inclusive of today),\n",
    "- Buy 50 stocks of AAPL on the first day\n",
    "- Sell 10 stocks of AAPL on every other day"
   ]
  },
  {
   "cell_type": "code",
   "execution_count": 24,
   "metadata": {
    "scrolled": false
   },
   "outputs": [
    {
     "name": "stdout",
     "output_type": "stream",
     "text": [
      "Buy 50 stocks of AAPL on 1980-12-16\n",
      "Sell 10 stocks of AAPL on 1980-12-17\n",
      "Sell 10 stocks of AAPL on 1980-12-19\n",
      "Sell 10 stocks of AAPL on 1980-12-23\n",
      "Sell 10 stocks of AAPL on 1980-12-26\n",
      "Sell 10 stocks of AAPL on 1980-12-30\n",
      "Counter: 0\n"
     ]
    },
    {
     "data": {
      "text/plain": [
       "nil"
      ]
     },
     "execution_count": 24,
     "metadata": {},
     "output_type": "execute_result"
    }
   ],
   "source": [
    ";; define the \"time span\", i.e. to trade in the coming 10 days \n",
    "(def num-of-days (atom 10))                              \n",
    "\n",
    "(while (pos? @num-of-days) ;; check if num-of-days is > 0\n",
    "    (do \n",
    "        ;; write your trading strategy here\n",
    "        (if (= 10 @num-of-days) ;; check if num-of-days == 10\n",
    "            (do\n",
    "                (order \"AAPL\" 50) ; buy 50 stocks\n",
    "                (println ((fn [date] (str \"Buy 50 stocks of AAPL on \" date)) (get-date)))\n",
    "            )\n",
    "        )\n",
    "        (if (odd? @num-of-days) ;; check if num-of-days is odd\n",
    "            (do\n",
    "                (order \"AAPL\" -10) ; sell 10 stocks\n",
    "                (println ((fn [date] (str \"Sell 10 stocks of AAPL on \" date)) (get-date)))\n",
    "            )\n",
    "        )\n",
    "        \n",
    "        (update-eval-report (get-date)) ;; update the evaluation metrics every day\n",
    "        \n",
    "        ; move on to the next trading day\n",
    "        (next-date)\n",
    "        \n",
    "        ; decrement counter\n",
    "        (swap! num-of-days dec)\n",
    "    )\n",
    ")\n",
    "\n",
    "; check whether counter == 0\n",
    "(println ((fn [counter] (str \"Counter: \" counter)) @num-of-days))"
   ]
  },
  {
   "cell_type": "markdown",
   "metadata": {},
   "source": [
    "### Check order record"
   ]
  },
  {
   "cell_type": "code",
   "execution_count": 25,
   "metadata": {},
   "outputs": [
    {
     "name": "stdout",
     "output_type": "stream",
     "text": [
      "\n",
      "|      :date | :tic |  :price | :aprc | :quantity |\n",
      "|------------+------+---------+-------+-----------|\n",
      "| 1980-12-17 | AAPL | 25.9375 | 26.09 |        50 |\n",
      "| 1980-12-18 | AAPL | 26.6875 | 26.42 |       -10 |\n",
      "| 1980-12-22 | AAPL | 29.6875 | 27.67 |       -10 |\n",
      "| 1980-12-24 | AAPL | 32.5625 | 28.80 |       -10 |\n",
      "| 1980-12-29 | AAPL | 36.0625 | 30.11 |       -10 |\n",
      "| 1980-12-31 | AAPL | 34.1875 | 29.42 |       -10 |\n"
     ]
    },
    {
     "data": {
      "text/plain": [
       "nil"
      ]
     },
     "execution_count": 25,
     "metadata": {},
     "output_type": "execute_result"
    }
   ],
   "source": [
    "(pprint/print-table (deref order-record))"
   ]
  },
  {
   "cell_type": "markdown",
   "metadata": {},
   "source": [
    "### Check portfolio record"
   ]
  },
  {
   "cell_type": "code",
   "execution_count": 26,
   "metadata": {},
   "outputs": [
    {
     "name": "stdout",
     "output_type": "stream",
     "text": [
      "\n",
      "| :asset |  :price | :aprc | :quantity | :tot-val |\n",
      "|--------+---------+-------+-----------+----------|\n",
      "|   cash |     N/A |   N/A |       N/A |    10295 |\n",
      "|   AAPL | 34.1875 | 29.42 |         0 |        0 |\n"
     ]
    },
    {
     "data": {
      "text/plain": [
       "nil"
      ]
     },
     "execution_count": 26,
     "metadata": {},
     "output_type": "execute_result"
    }
   ],
   "source": [
    ";; view final portfolio\n",
    "(view-portfolio)"
   ]
  },
  {
   "cell_type": "code",
   "execution_count": 27,
   "metadata": {},
   "outputs": [
    {
     "name": "stdout",
     "output_type": "stream",
     "text": [
      "\n",
      "|      :date | :tot-value | :daily-ret | :tot-ret | :loan | :leverage |\n",
      "|------------+------------+------------+----------+-------+-----------|\n",
      "| 1980-12-16 |     $10000 |      0.00% |    0.00% | $0.00 |     0.00% |\n",
      "| 1980-12-17 |     $10007 |      0.00% |    0.08% | $0.00 |     0.00% |\n",
      "| 1980-12-18 |     $10026 |      0.00% |    0.27% | $0.00 |     0.00% |\n",
      "| 1980-12-19 |     $10054 |      0.27% |    0.54% | $0.00 |     0.00% |\n",
      "| 1980-12-22 |     $10096 |      0.00% |    0.96% | $0.00 |     0.00% |\n",
      "| 1980-12-23 |     $10111 |      0.15% |    1.11% | $0.00 |     0.00% |\n",
      "| 1980-12-24 |     $10168 |      0.00% |    1.67% | $0.00 |     0.00% |\n",
      "| 1980-12-26 |     $10191 |      0.22% |    1.89% | $0.00 |     0.00% |\n",
      "| 1980-12-29 |     $10254 |      0.00% |    2.51% | $0.00 |     0.00% |\n",
      "| 1980-12-30 |     $10251 |     -0.03% |    2.48% | $0.00 |     0.00% |\n",
      "| 1980-12-31 |     $10295 |      0.00% |    2.91% | $0.00 |     0.00% |\n"
     ]
    },
    {
     "data": {
      "text/plain": [
       "nil"
      ]
     },
     "execution_count": 27,
     "metadata": {},
     "output_type": "execute_result"
    }
   ],
   "source": [
    ";; view portfolio value and return\n",
    "(view-portfolio-record)"
   ]
  },
  {
   "cell_type": "markdown",
   "metadata": {},
   "source": [
    "### Generate evaluation report"
   ]
  },
  {
   "cell_type": "code",
   "execution_count": 28,
   "metadata": {},
   "outputs": [
    {
     "name": "stdout",
     "output_type": "stream",
     "text": [
      "\n",
      "|      :date | :pnl-pt | :sharpe | :tot-val |  :vol |\n",
      "|------------+---------+---------+----------+-------|\n",
      "| 1980-12-16 |      $7 |   1.41% |   $10007 | 0.06% |\n",
      "| 1980-12-17 |     $13 |   2.45% |   $10026 | 0.11% |\n",
      "| 1980-12-18 |     $13 |   0.00% |   $10026 | 0.00% |\n",
      "| 1980-12-19 |     $32 |   4.86% |   $10096 | 0.20% |\n",
      "| 1980-12-22 |     $32 |   7.88% |   $10096 | 0.12% |\n",
      "| 1980-12-23 |     $42 |   7.86% |   $10168 | 0.21% |\n",
      "| 1980-12-24 |     $42 |  15.31% |   $10168 | 0.11% |\n",
      "| 1980-12-26 |     $50 |  11.99% |   $10254 | 0.21% |\n",
      "| 1980-12-29 |     $50 |  22.48% |   $10254 | 0.11% |\n",
      "| 1980-12-30 |     $49 |  19.10% |   $10295 | 0.15% |\n"
     ]
    },
    {
     "data": {
      "text/plain": [
       "nil"
      ]
     },
     "execution_count": 28,
     "metadata": {},
     "output_type": "execute_result"
    }
   ],
   "source": [
    "(eval-report)"
   ]
  },
  {
   "cell_type": "markdown",
   "metadata": {},
   "source": [
    "### Plot variables\n",
    "Below are example codes that show how to plot different variables in the portfolio record / evaluation record."
   ]
  },
  {
   "cell_type": "markdown",
   "metadata": {},
   "source": [
    "### 1. Portfolio daily return"
   ]
  },
  {
   "cell_type": "code",
   "execution_count": 29,
   "metadata": {},
   "outputs": [
    {
     "data": {
      "text/plain": [
       "#'clojure-backtesting.demo/data"
      ]
     },
     "execution_count": 29,
     "metadata": {},
     "output_type": "execute_result"
    }
   ],
   "source": [
    "(def data (deref portfolio-value))"
   ]
  },
  {
   "cell_type": "code",
   "execution_count": 30,
   "metadata": {},
   "outputs": [
    {
     "data": {
      "text/plain": [
       "#'clojure-backtesting.demo/data-to-plot"
      ]
     },
     "execution_count": 30,
     "metadata": {},
     "output_type": "execute_result"
    }
   ],
   "source": [
    "; Add legend name to series\n",
    "(def data-to-plot\n",
    " (map #(assoc % :plot \"port-value\")\n",
    "  data))"
   ]
  },
  {
   "cell_type": "code",
   "execution_count": 31,
   "metadata": {},
   "outputs": [
    {
     "data": {
      "text/plain": [
       "{:date \"1980-12-16\", :tot-value 10000, :daily-ret 0.0, :tot-ret 0.0, :loan 0.0, :leverage 0.0, :plot \"port-value\"}"
      ]
     },
     "execution_count": 31,
     "metadata": {},
     "output_type": "execute_result"
    }
   ],
   "source": [
    "(first data-to-plot)"
   ]
  },
  {
   "cell_type": "code",
   "execution_count": 32,
   "metadata": {},
   "outputs": [
    {
     "data": {
      "text/html": [
       "\n",
       "  <div>\n",
       "    <div id='uuid-e1e79a71-a219-4077-ab52-a7540dcee6e7'></div>\n",
       "    <script>\n",
       "    requirejs.config({\n",
       "      baseUrl: 'https://cdn.jsdelivr.net/npm/',\n",
       "      paths: {\n",
       "        'vega-embed':  'vega-embed@6.12.2?noext',\n",
       "        'vega-lib': 'vega-lib?noext',\n",
       "        'vega-lite': 'vega-lite@4.17.0?noext',\n",
       "        'vega': 'vega@5.17.0?noext'\n",
       "      }\n",
       "    });\n",
       "    require(['vega-embed'], function(vegaEmbed) {\n",
       "      let spec = {\"width\":800,\"height\":500,\"data\":{\"values\":[{\"date\":\"1980-12-16\",\"tot-value\":10000,\"daily-ret\":0.0,\"tot-ret\":0.0,\"loan\":0.0,\"leverage\":0.0,\"plot\":\"port-value\"},{\"date\":\"1980-12-17\",\"tot-value\":10007.806415917976,\"daily-ret\":0.0,\"tot-ret\":7.803370496319297E-4,\"loan\":0.0,\"leverage\":0.0,\"plot\":\"port-value\"},{\"date\":\"1980-12-18\",\"tot-value\":10026.746929261568,\"daily-ret\":0.0,\"tot-ret\":0.0026711223004997225,\"loan\":0.0,\"leverage\":0.0,\"plot\":\"port-value\"},{\"date\":\"1980-12-19\",\"tot-value\":10054.22517816266,\"daily-ret\":0.002736746598182656,\"tot-ret\":0.005407868898682378,\"loan\":0.0,\"leverage\":0.0,\"plot\":\"port-value\"},{\"date\":\"1980-12-22\",\"tot-value\":10096.96503784025,\"daily-ret\":0.0,\"tot-ret\":0.009649794393664353,\"loan\":0.0,\"leverage\":0.0,\"plot\":\"port-value\"},{\"date\":\"1980-12-23\",\"tot-value\":10111.96713242666,\"daily-ret\":0.0014846996581327533,\"tot-ret\":0.011134494051797107,\"loan\":0.0,\"leverage\":0.0,\"plot\":\"port-value\"},{\"date\":\"1980-12-24\",\"tot-value\":10168.560659009569,\"daily-ret\":0.0,\"tot-ret\":0.01671557892938662,\"loan\":0.0,\"leverage\":0.0,\"plot\":\"port-value\"},{\"date\":\"1980-12-26\",\"tot-value\":10191.036614720822,\"daily-ret\":0.0022078987653422247,\"tot-ret\":0.018923477694728845,\"loan\":0.0,\"leverage\":0.0,\"plot\":\"port-value\"},{\"date\":\"1980-12-29\",\"tot-value\":10254.213479138652,\"daily-ret\":0.0,\"tot-ret\":0.025103599259257217,\"loan\":0.0,\"leverage\":0.0,\"plot\":\"port-value\"},{\"date\":\"1980-12-30\",\"tot-value\":10251.018769854227,\"daily-ret\":-3.1159942706145886E-4,\"tot-ret\":0.02479199983219576,\"loan\":0.0,\"leverage\":0.0,\"plot\":\"port-value\"},{\"date\":\"1980-12-31\",\"tot-value\":10295.0,\"daily-ret\":0.0,\"tot-ret\":0.029073247485706673,\"loan\":0.0,\"leverage\":0.0,\"plot\":\"port-value\"}]},\"encoding\":{\"x\":{\"field\":\"date\",\"type\":\"temporal\"},\"y\":{\"field\":\"daily-ret\",\"type\":\"quantitative\"},\"color\":{\"field\":\"plot\",\"type\":\"nominal\"}},\"mark\":\"line\"};\n",
       "      vegaEmbed('#uuid-e1e79a71-a219-4077-ab52-a7540dcee6e7', spec, {defaultStyle:true}).catch(console.warn);\n",
       "      }, function(err) {\n",
       "      console.log('Failed to load');\n",
       "    });\n",
       "    </script>\n",
       "  </div>\n",
       "    "
      ]
     },
     "execution_count": 32,
     "metadata": {},
     "output_type": "execute_result"
    }
   ],
   "source": [
    "(plot data-to-plot :plot :date :daily-ret false)"
   ]
  },
  {
   "cell_type": "markdown",
   "metadata": {},
   "source": [
    "### 2. Plot volatility"
   ]
  },
  {
   "cell_type": "code",
   "execution_count": 39,
   "metadata": {},
   "outputs": [
    {
     "data": {
      "text/plain": [
       "#'clojure-backtesting.demo/data"
      ]
     },
     "execution_count": 39,
     "metadata": {},
     "output_type": "execute_result"
    }
   ],
   "source": [
    "(def data (deref eval-record))"
   ]
  },
  {
   "cell_type": "code",
   "execution_count": 40,
   "metadata": {},
   "outputs": [
    {
     "data": {
      "text/plain": [
       "{:date \"1980-12-16\", :pnl-pt 7.806415917975755, :sharpe 1.4142135623730954, :tot-val 10007.806415917976, :vol 0.05517816194058409}"
      ]
     },
     "execution_count": 40,
     "metadata": {},
     "output_type": "execute_result"
    }
   ],
   "source": [
    "(first data)"
   ]
  },
  {
   "cell_type": "code",
   "execution_count": 41,
   "metadata": {},
   "outputs": [
    {
     "data": {
      "text/plain": [
       "#'clojure-backtesting.demo/data-to-plot"
      ]
     },
     "execution_count": 41,
     "metadata": {},
     "output_type": "execute_result"
    }
   ],
   "source": [
    "; Add legend name to series\n",
    "(def data-to-plot\n",
    " (map #(assoc % :plot \"volatility\")\n",
    "  data))"
   ]
  },
  {
   "cell_type": "code",
   "execution_count": 42,
   "metadata": {},
   "outputs": [
    {
     "name": "stdout",
     "output_type": "stream",
     "text": [
      "\n",
      "|      :date | :pnl-pt | :sharpe | :tot-val |  :vol |\n",
      "|------------+---------+---------+----------+-------|\n",
      "| 1980-12-16 |      $7 |   1.41% |   $10007 | 0.06% |\n",
      "| 1980-12-17 |     $13 |   2.45% |   $10026 | 0.11% |\n",
      "| 1980-12-18 |     $13 |   0.00% |   $10026 | 0.00% |\n",
      "| 1980-12-19 |     $32 |   4.86% |   $10096 | 0.20% |\n",
      "| 1980-12-22 |     $32 |   7.88% |   $10096 | 0.12% |\n",
      "| 1980-12-23 |     $42 |   7.86% |   $10168 | 0.21% |\n",
      "| 1980-12-24 |     $42 |  15.31% |   $10168 | 0.11% |\n",
      "| 1980-12-26 |     $50 |  11.99% |   $10254 | 0.21% |\n",
      "| 1980-12-29 |     $50 |  22.48% |   $10254 | 0.11% |\n",
      "| 1980-12-30 |     $49 |  19.10% |   $10295 | 0.15% |\n"
     ]
    },
    {
     "data": {
      "text/plain": [
       "nil"
      ]
     },
     "execution_count": 42,
     "metadata": {},
     "output_type": "execute_result"
    }
   ],
   "source": [
    "(eval-report)"
   ]
  },
  {
   "cell_type": "code",
   "execution_count": 44,
   "metadata": {},
   "outputs": [
    {
     "data": {
      "text/html": [
       "\n",
       "  <div>\n",
       "    <div id='uuid-1ba3a318-7463-4ae5-baf5-5c6a1a487663'></div>\n",
       "    <script>\n",
       "    requirejs.config({\n",
       "      baseUrl: 'https://cdn.jsdelivr.net/npm/',\n",
       "      paths: {\n",
       "        'vega-embed':  'vega-embed@6.12.2?noext',\n",
       "        'vega-lib': 'vega-lib?noext',\n",
       "        'vega-lite': 'vega-lite@4.17.0?noext',\n",
       "        'vega': 'vega@5.17.0?noext'\n",
       "      }\n",
       "    });\n",
       "    require(['vega-embed'], function(vegaEmbed) {\n",
       "      let spec = {\"width\":800,\"height\":500,\"data\":{\"values\":[{\"date\":\"1980-12-16\",\"plot\":\"volatility\",\"pnl-pt\":7.806415917975755,\"sharpe\":1.4142135623730954,\"tot-val\":10007.806415917976,\"vol\":0.05517816194058409},{\"date\":\"1980-12-17\",\"plot\":\"volatility\",\"pnl-pt\":13.373464630783928,\"sharpe\":2.4468773148999334,\"tot-val\":10026.746929261568,\"vol\":0.10916453735682942},{\"date\":\"1980-12-18\",\"plot\":\"volatility\",\"pnl-pt\":13.373464630783928,\"sharpe\":0.0,\"tot-val\":10026.746929261568,\"vol\":0.0},{\"date\":\"1980-12-19\",\"plot\":\"volatility\",\"pnl-pt\":32.32167928008312,\"sharpe\":4.864067625682905,\"tot-val\":10096.96503784025,\"vol\":0.19838939620642182},{\"date\":\"1980-12-22\",\"plot\":\"volatility\",\"pnl-pt\":32.32167928008312,\"sharpe\":7.884396840927296,\"tot-val\":10096.96503784025,\"vol\":0.12239102861455442},{\"date\":\"1980-12-23\",\"plot\":\"volatility\",\"pnl-pt\":42.14016475239214,\"sharpe\":7.8629942169527505,\"tot-val\":10168.560659009569,\"vol\":0.21258541553226054},{\"date\":\"1980-12-24\",\"plot\":\"volatility\",\"pnl-pt\":42.14016475239214,\"sharpe\":15.314232742051127,\"tot-val\":10168.560659009569,\"vol\":0.109150613099196},{\"date\":\"1980-12-26\",\"plot\":\"volatility\",\"pnl-pt\":50.842695827730495,\"sharpe\":11.985335841320678,\"tot-val\":10254.213479138652,\"vol\":0.20945261435820578},{\"date\":\"1980-12-29\",\"plot\":\"volatility\",\"pnl-pt\":50.842695827730495,\"sharpe\":22.480345596610054,\"tot-val\":10254.213479138652,\"vol\":0.11166909846369417},{\"date\":\"1980-12-30\",\"plot\":\"volatility\",\"pnl-pt\":49.166666666666664,\"sharpe\":19.102231552689908,\"tot-val\":10295.0,\"vol\":0.15219817331558147}]},\"encoding\":{\"x\":{\"field\":\"date\",\"type\":\"temporal\",\"timeUnit\":\"yearmonthdate\"},\"y\":{\"field\":\"vol\",\"type\":\"quantitative\"},\"color\":{\"field\":\"plot\",\"type\":\"nominal\"}},\"mark\":\"line\"};\n",
       "      vegaEmbed('#uuid-1ba3a318-7463-4ae5-baf5-5c6a1a487663', spec, {defaultStyle:true}).catch(console.warn);\n",
       "      }, function(err) {\n",
       "      console.log('Failed to load');\n",
       "    });\n",
       "    </script>\n",
       "  </div>\n",
       "    "
      ]
     },
     "execution_count": 44,
     "metadata": {},
     "output_type": "execute_result"
    }
   ],
   "source": [
    "(plot data-to-plot :plot :date :vol true)"
   ]
  },
  {
   "cell_type": "markdown",
   "metadata": {},
   "source": [
    "### 3. Plot sharpe ratio"
   ]
  },
  {
   "cell_type": "code",
   "execution_count": 46,
   "metadata": {},
   "outputs": [
    {
     "data": {
      "text/html": [
       "\n",
       "  <div>\n",
       "    <div id='uuid-b53352d7-9c85-4092-884f-d864a68f4523'></div>\n",
       "    <script>\n",
       "    requirejs.config({\n",
       "      baseUrl: 'https://cdn.jsdelivr.net/npm/',\n",
       "      paths: {\n",
       "        'vega-embed':  'vega-embed@6.12.2?noext',\n",
       "        'vega-lib': 'vega-lib?noext',\n",
       "        'vega-lite': 'vega-lite@4.17.0?noext',\n",
       "        'vega': 'vega@5.17.0?noext'\n",
       "      }\n",
       "    });\n",
       "    require(['vega-embed'], function(vegaEmbed) {\n",
       "      let spec = {\"width\":800,\"height\":500,\"data\":{\"values\":[{\"date\":\"1980-12-16\",\"plot\":\"sharpe ratio\",\"pnl-pt\":7.806415917975755,\"sharpe\":1.4142135623730954,\"tot-val\":10007.806415917976,\"vol\":0.05517816194058409},{\"date\":\"1980-12-17\",\"plot\":\"sharpe ratio\",\"pnl-pt\":13.373464630783928,\"sharpe\":2.4468773148999334,\"tot-val\":10026.746929261568,\"vol\":0.10916453735682942},{\"date\":\"1980-12-18\",\"plot\":\"sharpe ratio\",\"pnl-pt\":13.373464630783928,\"sharpe\":0.0,\"tot-val\":10026.746929261568,\"vol\":0.0},{\"date\":\"1980-12-19\",\"plot\":\"sharpe ratio\",\"pnl-pt\":32.32167928008312,\"sharpe\":4.864067625682905,\"tot-val\":10096.96503784025,\"vol\":0.19838939620642182},{\"date\":\"1980-12-22\",\"plot\":\"sharpe ratio\",\"pnl-pt\":32.32167928008312,\"sharpe\":7.884396840927296,\"tot-val\":10096.96503784025,\"vol\":0.12239102861455442},{\"date\":\"1980-12-23\",\"plot\":\"sharpe ratio\",\"pnl-pt\":42.14016475239214,\"sharpe\":7.8629942169527505,\"tot-val\":10168.560659009569,\"vol\":0.21258541553226054},{\"date\":\"1980-12-24\",\"plot\":\"sharpe ratio\",\"pnl-pt\":42.14016475239214,\"sharpe\":15.314232742051127,\"tot-val\":10168.560659009569,\"vol\":0.109150613099196},{\"date\":\"1980-12-26\",\"plot\":\"sharpe ratio\",\"pnl-pt\":50.842695827730495,\"sharpe\":11.985335841320678,\"tot-val\":10254.213479138652,\"vol\":0.20945261435820578},{\"date\":\"1980-12-29\",\"plot\":\"sharpe ratio\",\"pnl-pt\":50.842695827730495,\"sharpe\":22.480345596610054,\"tot-val\":10254.213479138652,\"vol\":0.11166909846369417},{\"date\":\"1980-12-30\",\"plot\":\"sharpe ratio\",\"pnl-pt\":49.166666666666664,\"sharpe\":19.102231552689908,\"tot-val\":10295.0,\"vol\":0.15219817331558147}]},\"encoding\":{\"x\":{\"field\":\"date\",\"type\":\"temporal\",\"timeUnit\":\"yearmonthdate\"},\"y\":{\"field\":\"sharpe\",\"type\":\"quantitative\"},\"color\":{\"field\":\"plot\",\"type\":\"nominal\"}},\"mark\":\"line\"};\n",
       "      vegaEmbed('#uuid-b53352d7-9c85-4092-884f-d864a68f4523', spec, {defaultStyle:true}).catch(console.warn);\n",
       "      }, function(err) {\n",
       "      console.log('Failed to load');\n",
       "    });\n",
       "    </script>\n",
       "  </div>\n",
       "    "
      ]
     },
     "execution_count": 46,
     "metadata": {},
     "output_type": "execute_result"
    }
   ],
   "source": [
    "; Add rename legend\n",
    "(def data-to-plot\n",
    " (map #(assoc % :plot \"sharpe ratio\")\n",
    "  data))\n",
    "\n",
    "(plot data-to-plot :plot :date :sharpe true)"
   ]
  },
  {
   "cell_type": "markdown",
   "metadata": {},
   "source": [
    "### 4. Plot stock price"
   ]
  },
  {
   "cell_type": "code",
   "execution_count": 47,
   "metadata": {},
   "outputs": [
    {
     "data": {
      "text/plain": [
       "#'clojure-backtesting.demo/data"
      ]
     },
     "execution_count": 47,
     "metadata": {},
     "output_type": "execute_result"
    }
   ],
   "source": [
    "(def data (deref order-record))"
   ]
  },
  {
   "cell_type": "code",
   "execution_count": 48,
   "metadata": {},
   "outputs": [
    {
     "data": {
      "text/plain": [
       "{:date \"1980-12-17\", :tic \"AAPL\", :price 25.9375, :aprc \"26.09\", :quantity 50}"
      ]
     },
     "execution_count": 48,
     "metadata": {},
     "output_type": "execute_result"
    }
   ],
   "source": [
    "(first data)"
   ]
  },
  {
   "cell_type": "code",
   "execution_count": 49,
   "metadata": {},
   "outputs": [
    {
     "data": {
      "text/html": [
       "\n",
       "  <div>\n",
       "    <div id='uuid-bec224b2-849e-428a-aec2-02b638bb359f'></div>\n",
       "    <script>\n",
       "    requirejs.config({\n",
       "      baseUrl: 'https://cdn.jsdelivr.net/npm/',\n",
       "      paths: {\n",
       "        'vega-embed':  'vega-embed@6.12.2?noext',\n",
       "        'vega-lib': 'vega-lib?noext',\n",
       "        'vega-lite': 'vega-lite@4.17.0?noext',\n",
       "        'vega': 'vega@5.17.0?noext'\n",
       "      }\n",
       "    });\n",
       "    require(['vega-embed'], function(vegaEmbed) {\n",
       "      let spec = {\"width\":800,\"height\":500,\"data\":{\"values\":[{\"date\":\"1980-12-17\",\"tic\":\"AAPL\",\"price\":25.9375,\"aprc\":\"26.09\",\"quantity\":50,\"plot\":\"price\"},{\"date\":\"1980-12-18\",\"tic\":\"AAPL\",\"price\":26.6875,\"aprc\":\"26.42\",\"quantity\":-10,\"plot\":\"price\"},{\"date\":\"1980-12-22\",\"tic\":\"AAPL\",\"price\":29.6875,\"aprc\":\"27.67\",\"quantity\":-10,\"plot\":\"price\"},{\"date\":\"1980-12-24\",\"tic\":\"AAPL\",\"price\":32.5625,\"aprc\":\"28.80\",\"quantity\":-10,\"plot\":\"price\"},{\"date\":\"1980-12-29\",\"tic\":\"AAPL\",\"price\":36.0625,\"aprc\":\"30.11\",\"quantity\":-10,\"plot\":\"price\"},{\"date\":\"1980-12-31\",\"tic\":\"AAPL\",\"price\":34.1875,\"aprc\":\"29.42\",\"quantity\":-10,\"plot\":\"price\"}]},\"encoding\":{\"x\":{\"field\":\"date\",\"type\":\"temporal\",\"timeUnit\":\"yearmonthdate\"},\"y\":{\"field\":\"price\",\"type\":\"quantitative\"},\"color\":{\"field\":\"plot\",\"type\":\"nominal\"}},\"mark\":\"line\"};\n",
       "      vegaEmbed('#uuid-bec224b2-849e-428a-aec2-02b638bb359f', spec, {defaultStyle:true}).catch(console.warn);\n",
       "      }, function(err) {\n",
       "      console.log('Failed to load');\n",
       "    });\n",
       "    </script>\n",
       "  </div>\n",
       "    "
      ]
     },
     "execution_count": 49,
     "metadata": {},
     "output_type": "execute_result"
    }
   ],
   "source": [
    "; Add rename legend\n",
    "(def data-to-plot\n",
    " (map #(assoc % :plot \"price\")\n",
    "  data))\n",
    "\n",
    "(plot data-to-plot :plot :date :price true)"
   ]
  },
  {
   "cell_type": "code",
   "execution_count": null,
   "metadata": {},
   "outputs": [],
   "source": []
  }
 ],
 "metadata": {
  "kernelspec": {
   "display_name": "Clojure (backtesting_clojure)",
   "language": "clojure",
   "name": "backtesting_clojure"
  },
  "language_info": {
   "file_extension": ".clj",
   "mimetype": "text/x-clojure",
   "name": "clojure",
   "version": "1.10.1"
  }
 },
 "nbformat": 4,
 "nbformat_minor": 2
}
