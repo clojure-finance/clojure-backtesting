{
 "cells": [
  {
   "cell_type": "code",
   "execution_count": 1,
   "metadata": {},
   "outputs": [
    {
     "data": {
      "text/plain": [
       "nil"
      ]
     },
     "execution_count": 1,
     "metadata": {},
     "output_type": "execute_result"
    }
   ],
   "source": [
    "; import libraries from kernel\n",
    "(ns clojure-backtesting.demo\n",
    "  (:require [clojure.test :refer :all]\n",
    "            [clojure-backtesting.data :refer :all]\n",
    "            [clojure-backtesting.order :refer :all]\n",
    "            [clojure-backtesting.evaluate :refer :all]\n",
    "            [clojure-backtesting.plot :refer :all]\n",
    "            [clojure-backtesting.counter :refer :all]\n",
    "            ;;[clojure-backtesting.parameters :refer :all]\n",
    "            [clojure.string :as str]\n",
    "            [clojure.pprint :as pprint]\n",
    "            [java-time :as t]\n",
    "            [clojupyter.kernel.version :as ver]\n",
    "            [clojupyter.misc.helper :as helper]\n",
    "  ) ;; require all libriaries from core\n",
    "  (:use clojure.pprint)\n",
    ")"
   ]
  },
  {
   "cell_type": "markdown",
   "metadata": {},
   "source": [
    "### Import dataset"
   ]
  },
  {
   "cell_type": "code",
   "execution_count": 2,
   "metadata": {},
   "outputs": [],
   "source": [
    "; path to dataset = \"../resources/CRSP-extract.csv\"\n",
    "; change it to the relative to your own dataset\n",
    ";\n",
    "(reset! data-set (add_aprc (read-csv-row \"../resources/CRSP-extract.csv\")));"
   ]
  },
  {
   "cell_type": "markdown",
   "metadata": {},
   "source": [
    "### Initialise portfolio"
   ]
  },
  {
   "cell_type": "code",
   "execution_count": 3,
   "metadata": {},
   "outputs": [],
   "source": [
    ";; initialise with current date and initial capital (= $10000)\n",
    "(init_portfolio \"1980-12-16\" 10000);"
   ]
  },
  {
   "cell_type": "markdown",
   "metadata": {},
   "source": [
    "### Write a strategy\n",
    "\n",
    "The following code implements a simple trading strategy:\n",
    "\n",
    "In a timespan of 10 days (inclusive of today),\n",
    "- Buy 50 stocks of AAPL on the first day\n",
    "- Sell 10 stocks of AAPL on every other day"
   ]
  },
  {
   "cell_type": "code",
   "execution_count": 4,
   "metadata": {},
   "outputs": [
    {
     "name": "stdout",
     "output_type": "stream",
     "text": [
      "26.093628318359524\n",
      "Buy 50 stocks of AAPL on 1980-12-16\n",
      "26.4186732315392\n",
      "Sell 10 stocks of AAPL on 1980-12-17\n",
      "27.669667928008312\n",
      "Sell 10 stocks of AAPL on 1980-12-19\n",
      "28.803032950478386\n",
      "Sell 10 stocks of AAPL on 1980-12-23\n",
      "30.10884791386528\n",
      "Sell 10 stocks of AAPL on 1980-12-26\n",
      "29.41870999204002\n",
      "Sell 10 stocks of AAPL on 1980-12-30\n",
      "Counter: 0\n"
     ]
    },
    {
     "data": {
      "text/plain": [
       "nil"
      ]
     },
     "execution_count": 4,
     "metadata": {},
     "output_type": "execute_result"
    }
   ],
   "source": [
    ";; define the \"time span\", i.e. to trade in the coming 10 days \n",
    "(def num-of-days (atom 10))                              \n",
    "\n",
    "(while (pos? @num-of-days)\n",
    "    (do \n",
    "        ;; write your trading strategy here\n",
    "        (if (= 10 @num-of-days)\n",
    "            (do\n",
    "                (order \"AAPL\" 50) ; buy 50 stocks\n",
    "                (println ((fn [date] (str \"Buy 50 stocks of AAPL on \" date)) (get_date)))\n",
    "            )\n",
    "        )\n",
    "        (if (odd? @num-of-days)\n",
    "            (do\n",
    "                (order \"AAPL\" -10) ; sell 10 stocks\n",
    "                (println ((fn [date] (str \"Sell 10 stocks of AAPL on \" date)) (get_date)))\n",
    "            )\n",
    "        )\n",
    "        \n",
    "        (update-eval-report (get_date))\n",
    "        \n",
    "        ; move on to the next trading day\n",
    "        (next_date)\n",
    "        \n",
    "        ; decrement counter\n",
    "        (swap! num-of-days dec)\n",
    "    )\n",
    ")\n",
    "\n",
    "; check whether counter == 0\n",
    "(println ((fn [counter] (str \"Counter: \" counter)) @num-of-days))"
   ]
  },
  {
   "cell_type": "markdown",
   "metadata": {},
   "source": [
    "### Check order record"
   ]
  },
  {
   "cell_type": "code",
   "execution_count": 5,
   "metadata": {},
   "outputs": [
    {
     "name": "stdout",
     "output_type": "stream",
     "text": [
      "\n",
      "|      :date | :tic |  :price | :quantity | :total | :reference |\n",
      "|------------+------+---------+-----------+--------+------------|\n",
      "| 1980-12-17 | AAPL | 25.9375 |        50 |     50 |          2 |\n",
      "| 1980-12-18 | AAPL | 26.6875 |       -10 |     40 |          3 |\n",
      "| 1980-12-22 | AAPL | 29.6875 |       -10 |     30 |          5 |\n",
      "| 1980-12-24 | AAPL | 32.5625 |       -10 |     20 |          7 |\n",
      "| 1980-12-29 | AAPL | 36.0625 |       -10 |     10 |          9 |\n",
      "| 1980-12-31 | AAPL | 34.1875 |       -10 |      0 |         11 |\n"
     ]
    },
    {
     "data": {
      "text/plain": [
       "nil"
      ]
     },
     "execution_count": 5,
     "metadata": {},
     "output_type": "execute_result"
    }
   ],
   "source": [
    "(pprint/print-table (deref order_record))"
   ]
  },
  {
   "cell_type": "markdown",
   "metadata": {},
   "source": [
    "### Check portfolio record"
   ]
  },
  {
   "cell_type": "code",
   "execution_count": 6,
   "metadata": {},
   "outputs": [
    {
     "name": "stdout",
     "output_type": "stream",
     "text": [
      "{:cash {:tot_val 10295.0}, AAPL {:price 34.1875, :aprc 29.41870999204002, :quantity 0, :tot_val 0.0}}\n"
     ]
    },
    {
     "data": {
      "text/plain": [
       "nil"
      ]
     },
     "execution_count": 6,
     "metadata": {},
     "output_type": "execute_result"
    }
   ],
   "source": [
    ";; view final portfolio\n",
    "(println (deref portfolio)) ;; display it in a table "
   ]
  },
  {
   "cell_type": "code",
   "execution_count": 7,
   "metadata": {},
   "outputs": [
    {
     "name": "stdout",
     "output_type": "stream",
     "text": [
      "\n",
      "|      :date |         :tot_value |            :daily_ret |\n",
      "|------------+--------------------+-----------------------|\n",
      "| 1980-12-16 |              10000 |                     0 |\n",
      "| 1980-12-17 | 10007.806415917976 |  7.803370496319297E-4 |\n",
      "| 1980-12-18 | 10026.746929261568 | 0.0018907852508677928 |\n",
      "| 1980-12-22 |  10096.96503784025 |  0.006978672093164625 |\n",
      "| 1980-12-24 | 10168.560659009569 |  0.007065784535722363 |\n",
      "| 1980-12-29 | 10254.213479138652 |  0.008388020329870642 |\n",
      "| 1980-12-31 |            10295.0 |  0.003969648226449433 |\n"
     ]
    },
    {
     "data": {
      "text/plain": [
       "nil"
      ]
     },
     "execution_count": 7,
     "metadata": {},
     "output_type": "execute_result"
    }
   ],
   "source": [
    ";; view portfolio value and return\n",
    "(pprint/print-table (deref portfolio_value)) \n",
    "\n",
    ";; round to the nearest dollar\n",
    ";; multiply daily-ret by 100 "
   ]
  },
  {
   "cell_type": "markdown",
   "metadata": {},
   "source": [
    "### Generate evaluation report"
   ]
  },
  {
   "cell_type": "code",
   "execution_count": 10,
   "metadata": {},
   "outputs": [
    {
     "name": "stdout",
     "output_type": "stream",
     "text": [
      "\n",
      "|      :date | :pnl-per-trade | :annualised-sharpe | :annualised-ret | :volatility | :total-val | :total-ret | :daily-ret | :annualised-vol | :sharpe |\n",
      "|------------+----------------+--------------------+-----------------+-------------+------------+------------+------------+-----------------+---------|\n",
      "| 1980-12-16 |           7.81 |              0.001 |             0.0 |       0.001 |   10007.81 |      0.001 |      0.001 |           0.009 |   1.414 |\n",
      "| 1980-12-17 |          13.37 |              0.001 |             0.0 |       0.001 |   10026.75 |      0.003 |      0.002 |           0.015 |   2.811 |\n",
      "| 1980-12-18 |          13.37 |              0.001 |             0.0 |       0.001 |   10026.75 |      0.003 |      0.002 |           0.015 |   2.811 |\n",
      "| 1980-12-19 |          32.32 |              0.001 |             0.0 |       0.003 |   10096.97 |       0.01 |      0.007 |            0.05 |   3.072 |\n",
      "| 1980-12-22 |          32.32 |              0.001 |             0.0 |       0.003 |   10096.97 |       0.01 |      0.007 |            0.05 |   3.072 |\n",
      "| 1980-12-23 |          42.14 |              0.002 |             0.0 |       0.003 |   10168.56 |      0.017 |      0.007 |           0.054 |    4.88 |\n",
      "| 1980-12-24 |          42.14 |              0.002 |             0.0 |       0.003 |   10168.56 |      0.017 |      0.007 |           0.054 |    4.88 |\n",
      "| 1980-12-26 |          50.84 |              0.003 |             0.0 |       0.004 |   10254.21 |      0.025 |      0.008 |           0.059 |     6.8 |\n",
      "| 1980-12-29 |          50.84 |              0.003 |             0.0 |       0.004 |   10254.21 |      0.025 |      0.008 |           0.059 |     6.8 |\n",
      "| 1980-12-30 |          49.17 |              0.004 |             0.0 |       0.003 |    10295.0 |      0.029 |      0.004 |           0.054 |   8.625 |\n"
     ]
    },
    {
     "data": {
      "text/plain": [
       "nil"
      ]
     },
     "execution_count": 10,
     "metadata": {},
     "output_type": "execute_result"
    }
   ],
   "source": [
    "(eval-report)"
   ]
  },
  {
   "cell_type": "markdown",
   "metadata": {},
   "source": [
    "### Plot variables"
   ]
  },
  {
   "cell_type": "code",
   "execution_count": null,
   "metadata": {},
   "outputs": [],
   "source": [
    ";; to-do"
   ]
  }
 ],
 "metadata": {
  "kernelspec": {
   "display_name": "Clojure (backtesting_clojure)",
   "language": "clojure",
   "name": "backtesting_clojure"
  },
  "language_info": {
   "file_extension": ".clj",
   "mimetype": "text/x-clojure",
   "name": "clojure",
   "version": "1.10.1"
  }
 },
 "nbformat": 4,
 "nbformat_minor": 2
}
