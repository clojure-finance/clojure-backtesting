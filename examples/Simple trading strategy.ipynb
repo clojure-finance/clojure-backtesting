{
 "cells": [
  {
   "cell_type": "markdown",
   "metadata": {},
   "source": [
    "### Run this in Python kernel\n",
    "\n",
    "To reset font style of output (in case it is not the default one)"
   ]
  },
  {
   "cell_type": "code",
   "execution_count": 1,
   "metadata": {},
   "outputs": [
    {
     "data": {
      "text/html": [
       "<style>\n",
       "body {\n",
       "    font-family: \"Arial\", cursive, sans-serif; # font style of application\n",
       "}\n",
       "pre {\n",
       "    font-family: \"Courier New\"; # font style of cell outputs\n",
       "}\n",
       "</style>  \n"
      ],
      "text/plain": [
       "<IPython.core.display.HTML object>"
      ]
     },
     "metadata": {},
     "output_type": "display_data"
    }
   ],
   "source": [
    "%%html\n",
    "<style>\n",
    "body {\n",
    "    font-family: \"Arial\", cursive, sans-serif; # font style of application\n",
    "}\n",
    "pre {\n",
    "    font-family: \"Courier New\"; # font style of cell outputs\n",
    "}\n",
    "</style>  "
   ]
  },
  {
   "cell_type": "markdown",
   "metadata": {},
   "source": [
    "### Run below in the backtesting_clojure kernel"
   ]
  },
  {
   "cell_type": "code",
   "execution_count": 1,
   "metadata": {},
   "outputs": [
    {
     "data": {
      "text/plain": [
       "nil"
      ]
     },
     "execution_count": 1,
     "metadata": {},
     "output_type": "execute_result"
    }
   ],
   "source": [
    "; import libraries from kernel\n",
    "(ns clojure-backtesting.demo\n",
    "  (:require [clojure.test :refer :all]\n",
    "            [oz.notebook.clojupyter :as oz]\n",
    "            [clojure-backtesting.data :refer :all]\n",
    "            [clojure-backtesting.portfolio :refer :all]\n",
    "            [clojure-backtesting.order :refer :all]\n",
    "            [clojure-backtesting.evaluate :refer :all]\n",
    "            [clojure-backtesting.plot :refer :all]\n",
    "            [clojure-backtesting.counter :refer :all]\n",
    "            [clojure-backtesting.large-data :refer :all]\n",
    "            [clojure-backtesting.parameters :refer :all]\n",
    "            [clojure.string :as str]\n",
    "            [clojure.pprint :as pprint]\n",
    "            [java-time :as t]\n",
    "            [clojupyter.kernel.version :as ver]\n",
    "            [clojupyter.misc.helper :as helper]\n",
    "  ) ;; require all libriaries from core\n",
    "  (:use clojure.pprint)\n",
    ")"
   ]
  },
  {
   "cell_type": "markdown",
   "metadata": {},
   "source": [
    "### Import dataset\n",
    "You could either load the extract dataset (with 3-4 tickers), or load the large dataset (around 15 GB in size). Note that the large dataset would take a bit of time to run different strategies."
   ]
  },
  {
   "cell_type": "markdown",
   "metadata": {},
   "source": [
    "#### Run with the extract dataset"
   ]
  },
  {
   "cell_type": "code",
   "execution_count": 2,
   "metadata": {},
   "outputs": [],
   "source": [
    "; path to dataset = \"../resources/CRSP-extract.csv\"\n",
    "; change it to the relative to your own dataset\n",
    ";\n",
    "(reset! data-set (add-aprc (read-csv-row \"../resources/CRSP-extract.csv\")));"
   ]
  },
  {
   "cell_type": "markdown",
   "metadata": {},
   "source": [
    "#### Run with the large dataset"
   ]
  },
  {
   "cell_type": "code",
   "execution_count": 3,
   "metadata": {},
   "outputs": [
    {
     "data": {
      "text/plain": [
       "true"
      ]
     },
     "execution_count": 3,
     "metadata": {},
     "output_type": "execute_result"
    }
   ],
   "source": [
    "(load-large-dataset \"../resources/CRSP-extract.csv\" \"main\" add-aprc)\n",
    "(set-main \"main\")"
   ]
  },
  {
   "cell_type": "markdown",
   "metadata": {},
   "source": [
    "### Initialise portfolio"
   ]
  },
  {
   "cell_type": "code",
   "execution_count": 4,
   "metadata": {},
   "outputs": [],
   "source": [
    ";; initialise with current date and initial capital (= $10000)\n",
    "(init-portfolio \"1980-12-16\" 10000);"
   ]
  },
  {
   "cell_type": "code",
   "execution_count": 5,
   "metadata": {},
   "outputs": [
    {
     "data": {
      "text/plain": [
       "(\"AAPL\")"
      ]
     },
     "execution_count": 5,
     "metadata": {},
     "output_type": "execute_result"
    }
   ],
   "source": [
    "(keys (deref available-tics))\n",
    ";; (get-line)"
   ]
  },
  {
   "cell_type": "markdown",
   "metadata": {},
   "source": [
    "### Write a strategy\n",
    "\n",
    "The following code implements a simple trading strategy:\n",
    "\n",
    "In a timespan of 10 days (inclusive of today),\n",
    "- Buy 50 stocks of AAPL on the first day\n",
    "- Sell 10 stocks of AAPL on every other day"
   ]
  },
  {
   "cell_type": "markdown",
   "metadata": {},
   "source": [
    "### (1) Running the strategy in non-lazy mode\n",
    "- Note that you should have loaded the **extract** dataset"
   ]
  },
  {
   "cell_type": "code",
   "execution_count": 6,
   "metadata": {
    "scrolled": false
   },
   "outputs": [
    {
     "name": "stdout",
     "output_type": "stream",
     "text": [
      "Buy 50 stocks of AAPL on 1980-12-16\n",
      "1980-12-16\n",
      "Sell 10 stocks of AAPL on 1980-12-17\n",
      "1980-12-17\n",
      "1980-12-18\n",
      "Sell 10 stocks of AAPL on 1980-12-19\n",
      "1980-12-19\n",
      "1980-12-22\n",
      "Sell 10 stocks of AAPL on 1980-12-23\n",
      "1980-12-23\n",
      "1980-12-24\n",
      "Sell 10 stocks of AAPL on 1980-12-26\n",
      "1980-12-26\n",
      "1980-12-29\n",
      "Sell 10 stocks of AAPL on 1980-12-30\n",
      "1980-12-30\n",
      "Counter: 0\n"
     ]
    },
    {
     "data": {
      "text/plain": [
       "nil"
      ]
     },
     "execution_count": 6,
     "metadata": {},
     "output_type": "execute_result"
    }
   ],
   "source": [
    ";; define the \"time span\", i.e. to trade in the coming 10 days \n",
    "(def num-of-days (atom 10))                              \n",
    "\n",
    "(while (pos? @num-of-days) ;; check if num-of-days is > 0\n",
    "    (do \n",
    "        ;; write your trading strategy here\n",
    "        (if (= 10 @num-of-days) ;; check if num-of-days == 10\n",
    "            (do\n",
    "                (order \"AAPL\" 50) ; buy 50 stocks\n",
    "                (println ((fn [date] (str \"Buy 50 stocks of AAPL on \" date)) (get-date)))\n",
    "            )\n",
    "        )\n",
    "        (if (odd? @num-of-days) ;; check if num-of-days is odd\n",
    "            (do\n",
    "                (order \"AAPL\" -10) ; sell 10 stocks\n",
    "                (println ((fn [date] (str \"Sell 10 stocks of AAPL on \" date)) (get-date)))\n",
    "            )\n",
    "        )\n",
    "        \n",
    "        (update-eval-report (get-date)) ;; update the evaluation metrics every day\n",
    "        (println (get-date))\n",
    "        ; move on to the next trading day\n",
    "        (next-date)\n",
    "        \n",
    "        ; decrement counter\n",
    "        (swap! num-of-days dec)\n",
    "    )\n",
    ")\n",
    "\n",
    "; check whether counter == 0\n",
    "(println ((fn [counter] (str \"Counter: \" counter)) @num-of-days))"
   ]
  },
  {
   "cell_type": "markdown",
   "metadata": {},
   "source": [
    "### (2) Running the strategy in lazy mode\n",
    "- Note that you should have loaded the **large** dataset"
   ]
  },
  {
   "cell_type": "code",
   "execution_count": 14,
   "metadata": {},
   "outputs": [
    {
     "name": "stdout",
     "output_type": "stream",
     "text": [
      "Buy 50 stocks of AAPL on 1980-12-16\n",
      "Sell 10 stocks of AAPL on 1980-12-17\n",
      "Sell 10 stocks of AAPL on 1980-12-19\n",
      "Sell 10 stocks of AAPL on 1980-12-23\n",
      "Sell 10 stocks of AAPL on 1980-12-26\n",
      "Sell 10 stocks of AAPL on 1980-12-30\n",
      "Counter: 0\n"
     ]
    },
    {
     "data": {
      "text/plain": [
       "nil"
      ]
     },
     "execution_count": 14,
     "metadata": {},
     "output_type": "execute_result"
    }
   ],
   "source": [
    ";; define the \"time span\", i.e. to trade in the coming 10 days \n",
    "(def num-of-days (atom 10))                              \n",
    "\n",
    "(while (pos? @num-of-days) ;; check if num-of-days is > 0\n",
    "    (do \n",
    "        ;; write your trading strategy here\n",
    "        (if (= 10 @num-of-days) ;; check if num-of-days == 10\n",
    "            (do\n",
    "                (order-lazy \"AAPL\" 50) ; buy 50 stocks\n",
    "                (println ((fn [date] (str \"Buy 50 stocks of AAPL on \" date)) (get-date)))\n",
    "            )\n",
    "        )\n",
    "        (if (odd? @num-of-days) ;; check if num-of-days is odd\n",
    "            (do\n",
    "                (order-lazy \"AAPL\" -10) ; sell 10 stocks\n",
    "                (println ((fn [date] (str \"Sell 10 stocks of AAPL on \" date)) (get-date)))\n",
    "            )\n",
    "        )\n",
    "        \n",
    "        (update-eval-report (get-date)) ;; update the evaluation metrics every day\n",
    "        \n",
    "        ; move on to the next trading day\n",
    "        (next-date)\n",
    "        \n",
    "        ; decrement counter\n",
    "        (swap! num-of-days dec)\n",
    "    )\n",
    ")\n",
    "\n",
    "; check whether counter == 0\n",
    "(println ((fn [counter] (str \"Counter: \" counter)) @num-of-days))"
   ]
  },
  {
   "cell_type": "markdown",
   "metadata": {},
   "source": [
    "#### The following functions could be run in both lazy and non-lazy modes."
   ]
  },
  {
   "cell_type": "markdown",
   "metadata": {},
   "source": [
    "### Check order record"
   ]
  },
  {
   "cell_type": "code",
   "execution_count": 5,
   "metadata": {},
   "outputs": [
    {
     "name": "stdout",
     "output_type": "stream",
     "text": [
      "\n",
      "|      :date | :tic |  :price | :aprc | :quantity |\n",
      "|------------+------+---------+-------+-----------|\n",
      "| 1980-12-17 | AAPL | 25.9375 | 26.09 |        50 |\n",
      "| 1980-12-17 | AAPL | 25.9375 | 26.09 |       -50 |\n"
     ]
    },
    {
     "data": {
      "text/plain": [
       "nil"
      ]
     },
     "execution_count": 5,
     "metadata": {},
     "output_type": "execute_result"
    }
   ],
   "source": [
    "(pprint/print-table (deref order-record))"
   ]
  },
  {
   "cell_type": "markdown",
   "metadata": {},
   "source": [
    "### Check portfolio record"
   ]
  },
  {
   "cell_type": "code",
   "execution_count": 8,
   "metadata": {},
   "outputs": [
    {
     "name": "stdout",
     "output_type": "stream",
     "text": [
      "\n",
      "| :asset | :price | :aprc | :quantity | :tot-val |\n",
      "|--------+--------+-------+-----------+----------|\n",
      "|   cash |    N/A |   N/A |       N/A | 10119.51 |\n"
     ]
    },
    {
     "data": {
      "text/plain": [
       "nil"
      ]
     },
     "execution_count": 8,
     "metadata": {},
     "output_type": "execute_result"
    }
   ],
   "source": [
    ";; view final portfolio\n",
    "(view-portfolio)"
   ]
  },
  {
   "cell_type": "code",
   "execution_count": 9,
   "metadata": {},
   "outputs": [
    {
     "name": "stdout",
     "output_type": "stream",
     "text": [
      "\n",
      "|      :date | :tot-value | :daily-ret | :tot-ret | :loan | :leverage |\n",
      "|------------+------------+------------+----------+-------+-----------|\n",
      "| 1980-12-16 |  $10000.00 |      0.00% |    0.00% | $0.00 |      0.00 |\n",
      "| 1980-12-17 |  $10000.00 |      0.00% |    0.00% | $0.00 |      0.00 |\n",
      "| 1980-12-18 |  $10016.25 |      0.00% |    0.07% | $0.00 |      0.00 |\n",
      "| 1980-12-19 |  $10043.73 |      0.12% |    0.19% | $0.00 |      0.00 |\n",
      "| 1980-12-22 |  $10066.29 |      0.00% |    0.29% | $0.00 |      0.00 |\n",
      "| 1980-12-23 |  $10081.29 |      0.06% |    0.35% | $0.00 |      0.00 |\n",
      "| 1980-12-24 |  $10100.29 |      0.00% |    0.43% | $0.00 |      0.00 |\n",
      "| 1980-12-26 |  $10122.77 |      0.10% |    0.53% | $0.00 |      0.00 |\n",
      "| 1980-12-29 |  $10126.41 |      0.00% |    0.55% | $0.00 |      0.00 |\n",
      "| 1980-12-30 |  $10123.21 |     -0.01% |    0.53% | $0.00 |      0.00 |\n",
      "| 1980-12-31 |  $10119.51 |     -0.02% |    0.52% | $0.00 |      0.00 |\n"
     ]
    },
    {
     "data": {
      "text/plain": [
       "nil"
      ]
     },
     "execution_count": 9,
     "metadata": {},
     "output_type": "execute_result"
    }
   ],
   "source": [
    ";; view portfolio value and return\n",
    "(view-portfolio-record -1)"
   ]
  },
  {
   "cell_type": "markdown",
   "metadata": {},
   "source": [
    "### Generate evaluation report"
   ]
  },
  {
   "cell_type": "code",
   "execution_count": 10,
   "metadata": {},
   "outputs": [
    {
     "name": "stdout",
     "output_type": "stream",
     "text": [
      "\n",
      "|      :date | :tot-value |    :vol |  :r-vol |  :sharpe | :r-sharpe | :pnl-pt | :max-drawdown |\n",
      "|------------+------------+---------+---------+----------+-----------+---------+---------------|\n",
      "| 1980-12-16 |     $10000 | 0.0000% | 0.0000% |  0.0000% |   0.0000% |      $0 |        0.0000 |\n",
      "| 1980-12-17 |     $10016 | 0.0407% | 0.0407% |  1.7321% |   1.7321% |      $8 |      100.0000 |\n",
      "| 1980-12-18 |     $10016 | 0.0000% | 0.0000% |  0.0000% |   0.0000% |      $8 |        0.0000 |\n",
      "| 1980-12-19 |     $10066 | 0.0598% | 0.0598% |  4.8019% |   4.8019% |     $22 |      100.0000 |\n",
      "| 1980-12-22 |     $10066 | 0.0532% | 0.0532% |  5.3929% |   5.3929% |     $22 |      100.0000 |\n",
      "| 1980-12-23 |     $10100 | 0.0499% | 0.0499% |  8.6792% |   8.6792% |     $25 |      100.0000 |\n",
      "| 1980-12-24 |     $10100 | 0.0475% | 0.0475% |  9.1298% |   9.1298% |     $25 |      100.0000 |\n",
      "| 1980-12-26 |     $10126 | 0.0477% | 0.0477% | 11.4442% |  11.4442% |     $25 |      100.0000 |\n",
      "| 1980-12-29 |     $10126 | 0.0487% | 0.0487% | 11.2135% |  11.2135% |     $25 |      100.0000 |\n",
      "| 1980-12-30 |     $10119 | 0.0473% | 0.0473% | 10.9035% |  10.9035% |     $19 |      113.3677 |\n"
     ]
    },
    {
     "data": {
      "text/plain": [
       "nil"
      ]
     },
     "execution_count": 10,
     "metadata": {},
     "output_type": "execute_result"
    }
   ],
   "source": [
    "(eval-report -1)"
   ]
  },
  {
   "cell_type": "code",
   "execution_count": 12,
   "metadata": {},
   "outputs": [
    {
     "data": {
      "text/plain": [
       "#'clojure-backtesting.demo/is-in-repl"
      ]
     },
     "execution_count": 12,
     "metadata": {},
     "output_type": "execute_result"
    }
   ],
   "source": [
    "(defn current-stack-trace []\n",
    "      (.getStackTrace (Thread/currentThread)))\n",
    "\n",
    "(defn is-repl-stack-element [stack-element]\n",
    "      (and (= \"clojure.main$repl\" (.getClassName  stack-element))\n",
    "           (= \"doInvoke\"          (.getMethodName stack-element))))\n",
    "\n",
    "(defn is-in-repl []\n",
    "      (some is-repl-stack-element (current-stack-trace)))"
   ]
  },
  {
   "cell_type": "code",
   "execution_count": 13,
   "metadata": {},
   "outputs": [
    {
     "data": {
      "text/plain": [
       "true"
      ]
     },
     "execution_count": 13,
     "metadata": {},
     "output_type": "execute_result"
    }
   ],
   "source": [
    "(is-in-repl)"
   ]
  },
  {
   "cell_type": "markdown",
   "metadata": {},
   "source": [
    "### Plot variables\n",
    "Below are example codes that show how to plot different variables in the portfolio record / evaluation record."
   ]
  },
  {
   "cell_type": "markdown",
   "metadata": {},
   "source": [
    "### 1. Portfolio daily return"
   ]
  },
  {
   "cell_type": "code",
   "execution_count": 7,
   "metadata": {},
   "outputs": [
    {
     "data": {
      "text/plain": [
       "#'clojure-backtesting.demo/data"
      ]
     },
     "execution_count": 7,
     "metadata": {},
     "output_type": "execute_result"
    }
   ],
   "source": [
    "(def data (deref portfolio-value))"
   ]
  },
  {
   "cell_type": "code",
   "execution_count": 8,
   "metadata": {},
   "outputs": [
    {
     "data": {
      "text/plain": [
       "#'clojure-backtesting.demo/data-to-plot"
      ]
     },
     "execution_count": 8,
     "metadata": {},
     "output_type": "execute_result"
    }
   ],
   "source": [
    "; Add legend name to series\n",
    "(def data-to-plot\n",
    " (map #(assoc % :plot \"port-value\")\n",
    "  data))"
   ]
  },
  {
   "cell_type": "code",
   "execution_count": 9,
   "metadata": {},
   "outputs": [
    {
     "data": {
      "text/plain": [
       "{:date \"1980-12-16\", :tot-value 10000.0, :daily-ret 0.0, :tot-ret 0.0, :loan 0.0, :leverage 0.0, :margin 0.0, :plot \"port-value\"}"
      ]
     },
     "execution_count": 9,
     "metadata": {},
     "output_type": "execute_result"
    }
   ],
   "source": [
    "(first data-to-plot)"
   ]
  },
  {
   "cell_type": "code",
   "execution_count": 10,
   "metadata": {},
   "outputs": [
    {
     "name": "stdout",
     "output_type": "stream",
     "text": [
      "[I 07:26:07.058 Clojupyter] oz.core:273 -- Starting up server on port 10666\n",
      "[E 07:26:09.473 Clojupyter] oz.core:1147 -- error sending plot to server: java.net.BindException: Address already in use\n",
      "[E 07:26:09.475 Clojupyter] oz.core:1148 -- Try using a different port?\n"
     ]
    },
    {
     "data": {
      "text/plain": [
       "nil"
      ]
     },
     "execution_count": 10,
     "metadata": {},
     "output_type": "execute_result"
    }
   ],
   "source": [
    "(plot data-to-plot :plot :date :daily-ret false)"
   ]
  },
  {
   "cell_type": "markdown",
   "metadata": {},
   "source": [
    "### 2. Plot volatility"
   ]
  },
  {
   "cell_type": "code",
   "execution_count": 15,
   "metadata": {},
   "outputs": [
    {
     "data": {
      "text/plain": [
       "#'clojure-backtesting.demo/data"
      ]
     },
     "execution_count": 15,
     "metadata": {},
     "output_type": "execute_result"
    }
   ],
   "source": [
    "(def data (deref eval-record))"
   ]
  },
  {
   "cell_type": "code",
   "execution_count": 16,
   "metadata": {},
   "outputs": [
    {
     "data": {
      "text/plain": [
       "{:date \"1980-12-16\", :tot-value 10000.0, :vol 0.0, :r-vol 0.0, :sharpe 0.0, :r-sharpe 0.0, :pnl-pt 0.0, :max-drawdown 0.0}"
      ]
     },
     "execution_count": 16,
     "metadata": {},
     "output_type": "execute_result"
    }
   ],
   "source": [
    "(first data)"
   ]
  },
  {
   "cell_type": "code",
   "execution_count": 17,
   "metadata": {},
   "outputs": [
    {
     "data": {
      "text/plain": [
       "#'clojure-backtesting.demo/data-to-plot"
      ]
     },
     "execution_count": 17,
     "metadata": {},
     "output_type": "execute_result"
    }
   ],
   "source": [
    "; Add legend name to series\n",
    "(def data-to-plot\n",
    " (map #(assoc % :plot \"volatility\")\n",
    "  data))"
   ]
  },
  {
   "cell_type": "code",
   "execution_count": 18,
   "metadata": {},
   "outputs": [
    {
     "name": "stdout",
     "output_type": "stream",
     "text": [
      "\n",
      "|      :date | :tot-value |    :vol |  :r-vol |  :sharpe | :r-sharpe | :pnl-pt | :max-drawdown |\n",
      "|------------+------------+---------+---------+----------+-----------+---------+---------------|\n",
      "| 1980-12-16 |     $10000 | 0.0000% | 0.0000% |  0.0000% |   0.0000% |      $0 |        0.0000 |\n",
      "| 1980-12-17 |     $10016 | 0.0407% | 0.0407% |  1.7321% |   1.7321% |      $8 |      100.0000 |\n",
      "| 1980-12-18 |     $10016 | 0.0000% | 0.0000% |  0.0000% |   0.0000% |      $8 |        0.0000 |\n",
      "| 1980-12-19 |     $10066 | 0.0598% | 0.0598% |  4.8019% |   4.8019% |     $22 |      100.0000 |\n",
      "| 1980-12-22 |     $10066 | 0.0532% | 0.0532% |  5.3929% |   5.3929% |     $22 |      100.0000 |\n",
      "| 1980-12-23 |     $10100 | 0.0499% | 0.0499% |  8.6792% |   8.6792% |     $25 |      100.0000 |\n",
      "| 1980-12-24 |     $10100 | 0.0475% | 0.0475% |  9.1298% |   9.1298% |     $25 |      100.0000 |\n",
      "| 1980-12-26 |     $10126 | 0.0477% | 0.0477% | 11.4442% |  11.4442% |     $25 |      100.0000 |\n",
      "| 1980-12-29 |     $10126 | 0.0487% | 0.0487% | 11.2135% |  11.2135% |     $25 |      100.0000 |\n",
      "| 1980-12-30 |     $10119 | 0.0473% | 0.0473% | 10.9035% |  10.9035% |     $19 |      113.3677 |\n"
     ]
    },
    {
     "data": {
      "text/plain": [
       "nil"
      ]
     },
     "execution_count": 18,
     "metadata": {},
     "output_type": "execute_result"
    }
   ],
   "source": [
    "(eval-report -1)"
   ]
  },
  {
   "cell_type": "code",
   "execution_count": 19,
   "metadata": {},
   "outputs": [
    {
     "data": {
      "text/html": [
       "\n",
       "  <div>\n",
       "    <div id='uuid-389ac14c-24bd-4cd4-8f08-0b1edc9fde0d'></div>\n",
       "    <script>\n",
       "    requirejs.config({\n",
       "      baseUrl: 'https://cdn.jsdelivr.net/npm/',\n",
       "      paths: {\n",
       "        'vega-embed':  'vega-embed@6.12.2?noext',\n",
       "        'vega-lib': 'vega-lib?noext',\n",
       "        'vega-lite': 'vega-lite@4.17.0?noext',\n",
       "        'vega': 'vega@5.17.0?noext'\n",
       "      }\n",
       "    });\n",
       "    require(['vega-embed'], function(vegaEmbed) {\n",
       "      let spec = {\"width\":800,\"height\":500,\"data\":{\"values\":[{\"plot\":\"volatility\",\"date\":\"1980-12-16\",\"tot-value\":10000.0,\"r-sharpe\":0.0,\"r-vol\":0.0,\"pnl-pt\":0.0,\"max-drawdown\":0.0,\"sharpe\":0.0,\"vol\":0.0},{\"plot\":\"volatility\",\"date\":\"1980-12-17\",\"tot-value\":10016.252245658983,\"r-sharpe\":1.7320508075688774,\"r-vol\":4.071780778623291E-4,\"pnl-pt\":8.126122829491578,\"max-drawdown\":1.0,\"sharpe\":1.7320508075688774,\"vol\":4.071780778623291E-4},{\"plot\":\"volatility\",\"date\":\"1980-12-18\",\"tot-value\":10016.252245658983,\"r-sharpe\":0.0,\"r-vol\":0.0,\"pnl-pt\":8.126122829491578,\"max-drawdown\":0.0,\"sharpe\":0.0,\"vol\":0.0},{\"plot\":\"volatility\",\"date\":\"1980-12-19\",\"tot-value\":10066.292033517748,\"r-sharpe\":4.801915234727219,\"r-vol\":5.975793896013117E-4,\"pnl-pt\":22.097344505915924,\"max-drawdown\":1.0,\"sharpe\":4.801915234727219,\"vol\":5.975793896013117E-4},{\"plot\":\"volatility\",\"date\":\"1980-12-22\",\"tot-value\":10066.292033517748,\"r-sharpe\":5.392895752989122,\"r-vol\":5.320936480730298E-4,\"pnl-pt\":22.097344505915924,\"max-drawdown\":1.0,\"sharpe\":5.392895752989122,\"vol\":5.320936480730298E-4},{\"plot\":\"volatility\",\"date\":\"1980-12-23\",\"tot-value\":10100.29298419185,\"r-sharpe\":8.679241398031385,\"r-vol\":4.99349143703048E-4,\"pnl-pt\":25.073246047962584,\"max-drawdown\":1.0,\"sharpe\":8.679241398031385,\"vol\":4.99349143703048E-4},{\"plot\":\"volatility\",\"date\":\"1980-12-24\",\"tot-value\":10100.29298419185,\"r-sharpe\":9.129825373460264,\"r-vol\":4.74704781615819E-4,\"pnl-pt\":25.073246047962584,\"max-drawdown\":1.0,\"sharpe\":9.129825373460264,\"vol\":4.74704781615819E-4},{\"plot\":\"volatility\",\"date\":\"1980-12-26\",\"tot-value\":10126.409283459587,\"r-sharpe\":11.444176244946057,\"r-vol\":4.7670329052277964E-4,\"pnl-pt\":25.281856691917348,\"max-drawdown\":1.0,\"sharpe\":11.444176244946057,\"vol\":4.7670329052277964E-4},{\"plot\":\"volatility\",\"date\":\"1980-12-29\",\"tot-value\":10126.409283459587,\"r-sharpe\":11.213534641625637,\"r-vol\":4.865081927902733E-4,\"pnl-pt\":25.281856691917348,\"max-drawdown\":1.0,\"sharpe\":11.213534641625637,\"vol\":4.865081927902733E-4},{\"plot\":\"volatility\",\"date\":\"1980-12-30\",\"tot-value\":10119.507904241334,\"r-sharpe\":10.903490883341494,\"r-vol\":4.7318735023824555E-4,\"pnl-pt\":19.91798404022241,\"max-drawdown\":1.13367685806113,\"sharpe\":10.903490883341494,\"vol\":4.7318735023824555E-4}]},\"encoding\":{\"x\":{\"field\":\"date\",\"type\":\"temporal\",\"timeUnit\":\"yearmonthdate\"},\"y\":{\"field\":\"vol\",\"type\":\"quantitative\"},\"color\":{\"field\":\"plot\",\"type\":\"nominal\"}},\"mark\":\"line\"};\n",
       "      vegaEmbed('#uuid-389ac14c-24bd-4cd4-8f08-0b1edc9fde0d', spec, {defaultStyle:true}).catch(console.warn);\n",
       "      }, function(err) {\n",
       "      console.log('Failed to load');\n",
       "    });\n",
       "    </script>\n",
       "  </div>\n",
       "    "
      ]
     },
     "execution_count": 19,
     "metadata": {},
     "output_type": "execute_result"
    }
   ],
   "source": [
    "(plot data-to-plot :plot :date :vol true)"
   ]
  },
  {
   "cell_type": "markdown",
   "metadata": {},
   "source": [
    "### 3. Plot sharpe ratio"
   ]
  },
  {
   "cell_type": "code",
   "execution_count": 20,
   "metadata": {},
   "outputs": [
    {
     "data": {
      "text/html": [
       "\n",
       "  <div>\n",
       "    <div id='uuid-15d18f78-f3dd-4f88-a749-4519e499813f'></div>\n",
       "    <script>\n",
       "    requirejs.config({\n",
       "      baseUrl: 'https://cdn.jsdelivr.net/npm/',\n",
       "      paths: {\n",
       "        'vega-embed':  'vega-embed@6.12.2?noext',\n",
       "        'vega-lib': 'vega-lib?noext',\n",
       "        'vega-lite': 'vega-lite@4.17.0?noext',\n",
       "        'vega': 'vega@5.17.0?noext'\n",
       "      }\n",
       "    });\n",
       "    require(['vega-embed'], function(vegaEmbed) {\n",
       "      let spec = {\"width\":800,\"height\":500,\"data\":{\"values\":[{\"plot\":\"sharpe ratio\",\"date\":\"1980-12-16\",\"tot-value\":10000.0,\"r-sharpe\":0.0,\"r-vol\":0.0,\"pnl-pt\":0.0,\"max-drawdown\":0.0,\"sharpe\":0.0,\"vol\":0.0},{\"plot\":\"sharpe ratio\",\"date\":\"1980-12-17\",\"tot-value\":10016.252245658983,\"r-sharpe\":1.7320508075688774,\"r-vol\":4.071780778623291E-4,\"pnl-pt\":8.126122829491578,\"max-drawdown\":1.0,\"sharpe\":1.7320508075688774,\"vol\":4.071780778623291E-4},{\"plot\":\"sharpe ratio\",\"date\":\"1980-12-18\",\"tot-value\":10016.252245658983,\"r-sharpe\":0.0,\"r-vol\":0.0,\"pnl-pt\":8.126122829491578,\"max-drawdown\":0.0,\"sharpe\":0.0,\"vol\":0.0},{\"plot\":\"sharpe ratio\",\"date\":\"1980-12-19\",\"tot-value\":10066.292033517748,\"r-sharpe\":4.801915234727219,\"r-vol\":5.975793896013117E-4,\"pnl-pt\":22.097344505915924,\"max-drawdown\":1.0,\"sharpe\":4.801915234727219,\"vol\":5.975793896013117E-4},{\"plot\":\"sharpe ratio\",\"date\":\"1980-12-22\",\"tot-value\":10066.292033517748,\"r-sharpe\":5.392895752989122,\"r-vol\":5.320936480730298E-4,\"pnl-pt\":22.097344505915924,\"max-drawdown\":1.0,\"sharpe\":5.392895752989122,\"vol\":5.320936480730298E-4},{\"plot\":\"sharpe ratio\",\"date\":\"1980-12-23\",\"tot-value\":10100.29298419185,\"r-sharpe\":8.679241398031385,\"r-vol\":4.99349143703048E-4,\"pnl-pt\":25.073246047962584,\"max-drawdown\":1.0,\"sharpe\":8.679241398031385,\"vol\":4.99349143703048E-4},{\"plot\":\"sharpe ratio\",\"date\":\"1980-12-24\",\"tot-value\":10100.29298419185,\"r-sharpe\":9.129825373460264,\"r-vol\":4.74704781615819E-4,\"pnl-pt\":25.073246047962584,\"max-drawdown\":1.0,\"sharpe\":9.129825373460264,\"vol\":4.74704781615819E-4},{\"plot\":\"sharpe ratio\",\"date\":\"1980-12-26\",\"tot-value\":10126.409283459587,\"r-sharpe\":11.444176244946057,\"r-vol\":4.7670329052277964E-4,\"pnl-pt\":25.281856691917348,\"max-drawdown\":1.0,\"sharpe\":11.444176244946057,\"vol\":4.7670329052277964E-4},{\"plot\":\"sharpe ratio\",\"date\":\"1980-12-29\",\"tot-value\":10126.409283459587,\"r-sharpe\":11.213534641625637,\"r-vol\":4.865081927902733E-4,\"pnl-pt\":25.281856691917348,\"max-drawdown\":1.0,\"sharpe\":11.213534641625637,\"vol\":4.865081927902733E-4},{\"plot\":\"sharpe ratio\",\"date\":\"1980-12-30\",\"tot-value\":10119.507904241334,\"r-sharpe\":10.903490883341494,\"r-vol\":4.7318735023824555E-4,\"pnl-pt\":19.91798404022241,\"max-drawdown\":1.13367685806113,\"sharpe\":10.903490883341494,\"vol\":4.7318735023824555E-4}]},\"encoding\":{\"x\":{\"field\":\"date\",\"type\":\"temporal\",\"timeUnit\":\"yearmonthdate\"},\"y\":{\"field\":\"sharpe\",\"type\":\"quantitative\"},\"color\":{\"field\":\"plot\",\"type\":\"nominal\"}},\"mark\":\"line\"};\n",
       "      vegaEmbed('#uuid-15d18f78-f3dd-4f88-a749-4519e499813f', spec, {defaultStyle:true}).catch(console.warn);\n",
       "      }, function(err) {\n",
       "      console.log('Failed to load');\n",
       "    });\n",
       "    </script>\n",
       "  </div>\n",
       "    "
      ]
     },
     "execution_count": 20,
     "metadata": {},
     "output_type": "execute_result"
    }
   ],
   "source": [
    "; Add rename legend\n",
    "(def data-to-plot\n",
    " (map #(assoc % :plot \"sharpe ratio\")\n",
    "  data))\n",
    "\n",
    "(plot data-to-plot :plot :date :sharpe true)"
   ]
  },
  {
   "cell_type": "markdown",
   "metadata": {},
   "source": [
    "### 4. Plot stock price"
   ]
  },
  {
   "cell_type": "code",
   "execution_count": 21,
   "metadata": {},
   "outputs": [
    {
     "data": {
      "text/plain": [
       "#'clojure-backtesting.demo/data"
      ]
     },
     "execution_count": 21,
     "metadata": {},
     "output_type": "execute_result"
    }
   ],
   "source": [
    "(def data (deref order-record))"
   ]
  },
  {
   "cell_type": "code",
   "execution_count": 22,
   "metadata": {},
   "outputs": [
    {
     "data": {
      "text/plain": [
       "{:date \"1980-12-17\", :tic \"AAPL\", :price 25.9375, :aprc \"26.09\", :quantity 50}"
      ]
     },
     "execution_count": 22,
     "metadata": {},
     "output_type": "execute_result"
    }
   ],
   "source": [
    "(first data)"
   ]
  },
  {
   "cell_type": "code",
   "execution_count": 23,
   "metadata": {},
   "outputs": [
    {
     "data": {
      "text/html": [
       "\n",
       "  <div>\n",
       "    <div id='uuid-b58c4a5c-daf7-4063-a2f6-a549752bc387'></div>\n",
       "    <script>\n",
       "    requirejs.config({\n",
       "      baseUrl: 'https://cdn.jsdelivr.net/npm/',\n",
       "      paths: {\n",
       "        'vega-embed':  'vega-embed@6.12.2?noext',\n",
       "        'vega-lib': 'vega-lib?noext',\n",
       "        'vega-lite': 'vega-lite@4.17.0?noext',\n",
       "        'vega': 'vega@5.17.0?noext'\n",
       "      }\n",
       "    });\n",
       "    require(['vega-embed'], function(vegaEmbed) {\n",
       "      let spec = {\"width\":800,\"height\":500,\"data\":{\"values\":[{\"date\":\"1980-12-17\",\"tic\":\"AAPL\",\"price\":25.9375,\"aprc\":\"26.09\",\"quantity\":50,\"plot\":\"price\"},{\"date\":\"1980-12-18\",\"tic\":\"AAPL\",\"price\":26.6875,\"aprc\":\"26.42\",\"quantity\":-10,\"plot\":\"price\"},{\"date\":\"1980-12-22\",\"tic\":\"AAPL\",\"price\":29.6875,\"aprc\":\"27.67\",\"quantity\":-10,\"plot\":\"price\"},{\"date\":\"1980-12-24\",\"tic\":\"AAPL\",\"price\":32.5625,\"aprc\":\"28.80\",\"quantity\":-10,\"plot\":\"price\"},{\"date\":\"1980-12-29\",\"tic\":\"AAPL\",\"price\":36.0625,\"aprc\":\"30.11\",\"quantity\":-10,\"plot\":\"price\"},{\"date\":\"1980-12-31\",\"tic\":\"AAPL\",\"price\":34.1875,\"aprc\":\"29.42\",\"quantity\":-10,\"plot\":\"price\"}]},\"encoding\":{\"x\":{\"field\":\"date\",\"type\":\"temporal\",\"timeUnit\":\"yearmonthdate\"},\"y\":{\"field\":\"price\",\"type\":\"quantitative\"},\"color\":{\"field\":\"plot\",\"type\":\"nominal\"}},\"mark\":\"line\"};\n",
       "      vegaEmbed('#uuid-b58c4a5c-daf7-4063-a2f6-a549752bc387', spec, {defaultStyle:true}).catch(console.warn);\n",
       "      }, function(err) {\n",
       "      console.log('Failed to load');\n",
       "    });\n",
       "    </script>\n",
       "  </div>\n",
       "    "
      ]
     },
     "execution_count": 23,
     "metadata": {},
     "output_type": "execute_result"
    }
   ],
   "source": [
    "; Add rename legend\n",
    "(def data-to-plot\n",
    " (map #(assoc % :plot \"price\")\n",
    "  data))\n",
    "\n",
    "(plot data-to-plot :plot :date :price true)"
   ]
  },
  {
   "cell_type": "code",
   "execution_count": null,
   "metadata": {},
   "outputs": [],
   "source": []
  }
 ],
 "metadata": {
  "kernelspec": {
   "display_name": "Clojure (backtesting_clojure)",
   "language": "clojure",
   "name": "backtesting_clojure"
  },
  "language_info": {
   "file_extension": ".clj",
   "mimetype": "text/x-clojure",
   "name": "clojure",
   "version": "1.10.1"
  }
 },
 "nbformat": 4,
 "nbformat_minor": 2
}
