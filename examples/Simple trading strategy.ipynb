{
 "cells": [
  {
   "cell_type": "markdown",
   "metadata": {},
   "source": [
    "### Run this in Python kernel\n",
    "\n",
    "To reset font style of output (in case it is not the default one)"
   ]
  },
  {
   "cell_type": "code",
   "execution_count": 1,
   "metadata": {},
   "outputs": [
    {
     "data": {
      "text/html": [
       "<style>\n",
       "body {\n",
       "    font-family: \"Arial\", cursive, sans-serif; # font style of application\n",
       "}\n",
       "pre {\n",
       "    font-family: \"Courier New\"; # font style of cell outputs\n",
       "}\n",
       "</style>  \n"
      ],
      "text/plain": [
       "<IPython.core.display.HTML object>"
      ]
     },
     "metadata": {},
     "output_type": "display_data"
    }
   ],
   "source": [
    "%%html\n",
    "<style>\n",
    "body {\n",
    "    font-family: \"Arial\", cursive, sans-serif; # font style of application\n",
    "}\n",
    "pre {\n",
    "    font-family: \"Courier New\"; # font style of cell outputs\n",
    "}\n",
    "</style>  "
   ]
  },
  {
   "cell_type": "markdown",
   "metadata": {},
   "source": [
    "### Run below in the backtesting_clojure kernel"
   ]
  },
  {
   "cell_type": "code",
   "execution_count": 1,
   "metadata": {},
   "outputs": [
    {
     "data": {
      "text/plain": [
       "nil"
      ]
     },
     "execution_count": 1,
     "metadata": {},
     "output_type": "execute_result"
    }
   ],
   "source": [
    "; import libraries from kernel\n",
    "(ns clojure-backtesting.demo\n",
    "  (:require [clojure-backtesting.data :refer :all]\n",
    "            [clojure-backtesting.data-management :refer :all]\n",
    "            [clojure-backtesting.portfolio :refer :all]\n",
    "            [clojure-backtesting.order :refer :all]\n",
    "            [clojure-backtesting.evaluate :refer :all]\n",
    "            [clojure-backtesting.plot :refer :all]\n",
    "            [clojure-backtesting.counter :refer :all]\n",
    "            [clojure-backtesting.automation :refer :all]\n",
    "            [clojure-backtesting.parameters :refer :all]\n",
    "            [clojure-backtesting.indicators :refer :all]\n",
    "            [clojure-backtesting.direct :refer :all]\n",
    "            [clojure.string :as str]\n",
    "            [clojure.java.io :as io]\n",
    "            [clojure.pprint :as pprint]\n",
    "  ) ;; require all libriaries from core\n",
    ")"
   ]
  },
  {
   "cell_type": "markdown",
   "metadata": {},
   "source": [
    "### Import dataset"
   ]
  },
  {
   "cell_type": "code",
   "execution_count": 2,
   "metadata": {},
   "outputs": [
    {
     "name": "stdout",
     "output_type": "stream",
     "text": [
      "The dataset is already furnished by add-aprc. No more modification is needed.\n"
     ]
    },
    {
     "data": {
      "text/plain": [
       "\"Date range: 1972-01-03 ~ 2017-02-10\""
      ]
     },
     "execution_count": 2,
     "metadata": {},
     "output_type": "execute_result"
    }
   ],
   "source": [
    "; path to dataset = \"/Volumes/T7/CRSP\"\n",
    "; change it to the relative path to your own dataset\n",
    ";\n",
    "(load-dataset \"/Volumes/T7/CRSP\" \"main\" add-aprc)"
   ]
  },
  {
   "cell_type": "markdown",
   "metadata": {},
   "source": [
    "### Initialise portfolio"
   ]
  },
  {
   "cell_type": "code",
   "execution_count": 3,
   "metadata": {},
   "outputs": [],
   "source": [
    ";; initialise with current date and initial capital (= $10000)\n",
    "(init-portfolio \"1980-12-16\" 10000)"
   ]
  },
  {
   "cell_type": "markdown",
   "metadata": {},
   "source": [
    "### Write a strategy\n",
    "\n",
    "The following code implements a simple trading strategy:\n",
    "\n",
    "In a timespan of 10 days (inclusive of today),\n",
    "- Buy 50 stocks of AAPL on the first day\n",
    "- Sell 10 stocks of AAPL on every other day"
   ]
  },
  {
   "cell_type": "markdown",
   "metadata": {},
   "source": [
    "### (1) Running the strategy\n",
    "- Note that you should have loaded the **extract** dataset"
   ]
  },
  {
   "cell_type": "code",
   "execution_count": 4,
   "metadata": {
    "scrolled": false
   },
   "outputs": [
    {
     "name": "stdout",
     "output_type": "stream",
     "text": [
      "1980-12-16\n",
      "Order: 1980-12-17 | 14593 | 50.000000.\n",
      "1980-12-17\n",
      "Order: 1980-12-18 | 14593 | -10.000000.\n",
      "1980-12-18\n",
      "1980-12-19\n",
      "Order: 1980-12-22 | 14593 | -10.000000.\n",
      "1980-12-22\n",
      "1980-12-23\n",
      "Order: 1980-12-24 | 14593 | -10.000000.\n",
      "1980-12-24\n",
      "1980-12-26\n",
      "Order: 1980-12-29 | 14593 | -10.000000.\n",
      "1980-12-29\n",
      "1980-12-30\n",
      "Order: 1980-12-31 | 14593 | -10.000000.\n"
     ]
    },
    {
     "data": {
      "text/plain": [
       "nil"
      ]
     },
     "execution_count": 4,
     "metadata": {},
     "output_type": "execute_result"
    }
   ],
   "source": [
    ";; define the \"time span\", i.e. to trade in the coming 10 days \n",
    "(def num-of-days (atom 10))                              \n",
    "\n",
    "(while (pos? @num-of-days) ;; check if num-of-days is > 0\n",
    "    (do \n",
    "        ;; write your trading strategy here\n",
    "        (if (= 10 @num-of-days) ;; check if num-of-days == 10\n",
    "            (do\n",
    "                (order \"14593\" 50 :print true) ; buy 50 stocks\n",
    "                ;; (println ((fn [date] (str \"Buy 50 stocks of AAPL on \" date)) (get-date)))\n",
    "            )\n",
    "        )\n",
    "        (if (odd? @num-of-days) ;; check if num-of-days is odd\n",
    "            (do\n",
    "                (order \"14593\" -10 :print true) ; sell 10 stocks\n",
    "                ;; (println ((fn [date] (str \"Sell 10 stocks of AAPL on \" date)) (get-date)))\n",
    "            )\n",
    "        )\n",
    "        \n",
    "        (update-eval-report) ;; update the evaluation metrics every day\n",
    "        (println (get-date))\n",
    "        ; move on to the next trading day\n",
    "        (next-date)\n",
    "        \n",
    "        ; decrement counter\n",
    "        (swap! num-of-days dec)\n",
    "    )\n",
    ")"
   ]
  },
  {
   "cell_type": "markdown",
   "metadata": {},
   "source": [
    "### Check order record"
   ]
  },
  {
   "cell_type": "code",
   "execution_count": 6,
   "metadata": {},
   "outputs": [
    {
     "name": "stdout",
     "output_type": "stream",
     "text": [
      "\n",
      "|      :date |  :tic |  :price | :aprc | :quantity |\n",
      "|------------+-------+---------+-------+-----------|\n",
      "| 1980-12-17 | 14593 | 25.9375 | 25.35 |        50 |\n",
      "| 1980-12-18 | 14593 | 26.6875 | 25.67 |       -10 |\n",
      "| 1980-12-22 | 14593 | 29.6875 | 26.88 |       -10 |\n",
      "| 1980-12-24 | 14593 | 32.5625 | 27.98 |       -10 |\n",
      "| 1980-12-29 | 14593 | 36.0625 | 29.25 |       -10 |\n",
      "| 1980-12-31 | 14593 | 34.1875 | 28.58 |       -10 |\n"
     ]
    },
    {
     "data": {
      "text/plain": [
       "nil"
      ]
     },
     "execution_count": 6,
     "metadata": {},
     "output_type": "execute_result"
    }
   ],
   "source": [
    "(print-order-record)"
   ]
  },
  {
   "cell_type": "markdown",
   "metadata": {},
   "source": [
    "### Check portfolio record"
   ]
  },
  {
   "cell_type": "code",
   "execution_count": 8,
   "metadata": {},
   "outputs": [
    {
     "name": "stdout",
     "output_type": "stream",
     "text": [
      "\n",
      "| :asset | :price | :aprc | :quantity | :tot-val |\n",
      "|--------+--------+-------+-----------+----------|\n",
      "|   cash |    N/A |   N/A |       N/A | 10116.11 |\n"
     ]
    },
    {
     "data": {
      "text/plain": [
       "nil"
      ]
     },
     "execution_count": 8,
     "metadata": {},
     "output_type": "execute_result"
    }
   ],
   "source": [
    ";; view final portfolio\n",
    "(print-portfolio)"
   ]
  },
  {
   "cell_type": "code",
   "execution_count": 9,
   "metadata": {},
   "outputs": [
    {
     "name": "stdout",
     "output_type": "stream",
     "text": [
      "\n",
      "|      :date | :tot-value | :daily-ret | :tot-ret | :loan | :leverage |\n",
      "|------------+------------+------------+----------+-------+-----------|\n",
      "| 1980-12-16 |  $10000.00 |      0.00% |    0.00% | $0.00 |      0.00 |\n",
      "| 1980-12-17 |  $10000.00 |      0.00% |    0.00% | $0.00 |      0.00 |\n",
      "| 1980-12-18 |  $10016.25 |      0.00% |    0.07% | $0.00 |      0.00 |\n",
      "| 1980-12-19 |  $10043.73 |      0.12% |    0.19% | $0.00 |      0.00 |\n",
      "| 1980-12-22 |  $10066.29 |      0.00% |    0.29% | $0.00 |      0.00 |\n",
      "| 1980-12-23 |  $10081.29 |      0.06% |    0.35% | $0.00 |      0.00 |\n",
      "| 1980-12-24 |  $10100.29 |      0.00% |    0.43% | $0.00 |      0.00 |\n",
      "| 1980-12-26 |  $10122.77 |      0.10% |    0.53% | $0.00 |      0.00 |\n",
      "| 1980-12-29 |  $10126.41 |      0.00% |    0.55% | $0.00 |      0.00 |\n",
      "| 1980-12-30 |  $10123.21 |     -0.01% |    0.53% | $0.00 |      0.00 |\n",
      "| 1980-12-31 |  $10119.51 |     -0.02% |    0.52% | $0.00 |      0.00 |\n"
     ]
    },
    {
     "data": {
      "text/plain": [
       "nil"
      ]
     },
     "execution_count": 9,
     "metadata": {},
     "output_type": "execute_result"
    }
   ],
   "source": [
    ";; view portfolio value and return\n",
    "(print-portfolio-record)"
   ]
  },
  {
   "cell_type": "markdown",
   "metadata": {},
   "source": [
    "### Generate evaluation report"
   ]
  },
  {
   "cell_type": "code",
   "execution_count": 10,
   "metadata": {},
   "outputs": [
    {
     "name": "stdout",
     "output_type": "stream",
     "text": [
      "\n",
      "|      :date | :tot-value |    :vol |  :r-vol |  :sharpe | :r-sharpe | :pnl-pt | :max-drawdown |\n",
      "|------------+------------+---------+---------+----------+-----------+---------+---------------|\n",
      "| 1980-12-17 |     $10000 | 0.0000% | 0.0000% |  0.0000% |   0.0000% |      $0 |        0.0000 |\n",
      "| 1980-12-18 |     $10015 | 0.0000% | 0.0000% |  0.0000% |   0.0000% |      $7 |        0.0000 |\n",
      "| 1980-12-19 |     $10042 | 0.0578% | 0.0578% |  3.1854% |   3.1854% |     $21 |      100.0000 |\n",
      "| 1980-12-22 |     $10064 | 0.0517% | 0.0517% |  5.3929% |   5.3929% |     $21 |      100.0000 |\n",
      "| 1980-12-23 |     $10078 | 0.0490% | 0.0490% |  6.9722% |   6.9722% |     $26 |      100.0000 |\n",
      "| 1980-12-24 |     $10097 | 0.0461% | 0.0461% |  9.1301% |   9.1301% |     $24 |      100.0000 |\n",
      "| 1980-12-26 |     $10119 | 0.0491% | 0.0491% | 10.4957% |  10.4957% |     $29 |      100.0000 |\n",
      "| 1980-12-29 |     $10122 | 0.0473% | 0.0473% | 11.2136% |  11.2136% |     $24 |      100.0000 |\n",
      "| 1980-12-30 |     $10119 | 0.0467% | 0.0467% | 11.0778% |  11.0778% |     $23 |      111.5205 |\n"
     ]
    },
    {
     "data": {
      "text/plain": [
       "nil"
      ]
     },
     "execution_count": 10,
     "metadata": {},
     "output_type": "execute_result"
    }
   ],
   "source": [
    "(print-eval-report)"
   ]
  },
  {
   "cell_type": "markdown",
   "metadata": {},
   "source": [
    "### Plot variables\n",
    "Below are example codes that show how to plot different variables in the portfolio record / evaluation record."
   ]
  },
  {
   "cell_type": "markdown",
   "metadata": {},
   "source": [
    "### 1. Portfolio daily return"
   ]
  },
  {
   "cell_type": "code",
   "execution_count": 11,
   "metadata": {},
   "outputs": [
    {
     "data": {
      "text/plain": [
       "#'clojure-backtesting.demo/data"
      ]
     },
     "execution_count": 11,
     "metadata": {},
     "output_type": "execute_result"
    }
   ],
   "source": [
    "(def data (deref portfolio-value))"
   ]
  },
  {
   "cell_type": "code",
   "execution_count": 12,
   "metadata": {},
   "outputs": [
    {
     "data": {
      "text/plain": [
       "#'clojure-backtesting.demo/data-to-plot"
      ]
     },
     "execution_count": 12,
     "metadata": {},
     "output_type": "execute_result"
    }
   ],
   "source": [
    "; Add legend name to series\n",
    "(def data-to-plot\n",
    " (map #(assoc % :plot \"port-value\")\n",
    "  data))"
   ]
  },
  {
   "cell_type": "code",
   "execution_count": 13,
   "metadata": {},
   "outputs": [
    {
     "data": {
      "text/plain": [
       "{:date \"1980-12-16\", :tot-value 10000, :daily-ret 0.0, :tot-ret 0.0, :loan 0.0, :leverage 0.0, :margin 0.0, :plot \"port-value\"}"
      ]
     },
     "execution_count": 13,
     "metadata": {},
     "output_type": "execute_result"
    }
   ],
   "source": [
    "(first data-to-plot)"
   ]
  },
  {
   "cell_type": "code",
   "execution_count": 14,
   "metadata": {},
   "outputs": [
    {
     "data": {
      "text/html": [
       "\n",
       "  <div>\n",
       "    <div id='uuid-73e58e6e-c724-4e00-a108-2cd63d03c7f5'></div>\n",
       "    <script>\n",
       "    requirejs.config({\n",
       "      baseUrl: 'https://cdn.jsdelivr.net/npm/',\n",
       "      paths: {\n",
       "        'vega-embed':  'vega-embed@6.12.2?noext',\n",
       "        'vega-lib': 'vega-lib?noext',\n",
       "        'vega-lite': 'vega-lite@4.17.0?noext',\n",
       "        'vega': 'vega@5.17.0?noext'\n",
       "      }\n",
       "    });\n",
       "    require(['vega-embed'], function(vegaEmbed) {\n",
       "      let spec = {\"width\":800,\"height\":500,\"data\":{\"values\":[{\"date\":\"1980-12-16\",\"tot-value\":10000,\"daily-ret\":0.0,\"tot-ret\":0.0,\"loan\":0.0,\"leverage\":0.0,\"margin\":0.0,\"plot\":\"port-value\"},{\"date\":\"1980-12-17\",\"tot-value\":10000.0,\"daily-ret\":0.0,\"tot-ret\":0.0,\"loan\":0.0,\"leverage\":0.0,\"margin\":0.0,\"plot\":\"port-value\"},{\"date\":\"1980-12-18\",\"tot-value\":10015.790203282233,\"daily-ret\":0.0,\"tot-ret\":6.85218970278151E-4,\"loan\":0.0,\"leverage\":0.0,\"margin\":0.0,\"plot\":\"port-value\"},{\"date\":\"1980-12-19\",\"tot-value\":10042.487260728456,\"daily-ret\":0.0011560705149500027,\"tot-ret\":0.0018412894852281537,\"loan\":0.0,\"leverage\":0.0,\"margin\":0.0,\"plot\":\"port-value\"},{\"date\":\"1980-12-22\",\"tot-value\":10064.407387582109,\"daily-ret\":0.0,\"tot-ret\":0.0027882078506018806,\"loan\":0.0,\"leverage\":0.0,\"margin\":0.0,\"plot\":\"port-value\"},{\"date\":\"1980-12-23\",\"tot-value\":10078.982980896977,\"daily-ret\":6.285040140810738E-4,\"tot-ret\":0.0034167118646829544,\"loan\":0.0,\"leverage\":0.0,\"margin\":0.0,\"plot\":\"port-value\"},{\"date\":\"1980-12-24\",\"tot-value\":10097.441709988898,\"daily-ret\":0.0,\"tot-ret\":0.004211354775599444,\"loan\":0.0,\"leverage\":0.0,\"margin\":0.0,\"plot\":\"port-value\"},{\"date\":\"1980-12-26\",\"tot-value\":10119.278686680607,\"daily-ret\":9.382018429125655E-4,\"tot-ret\":0.005149556618512009,\"loan\":0.0,\"leverage\":0.0,\"margin\":0.0,\"plot\":\"port-value\"},{\"date\":\"1980-12-29\",\"tot-value\":10122.815537278373,\"daily-ret\":-9.643274665532872E-17,\"tot-ret\":0.005301323001630511,\"loan\":0.0,\"leverage\":0.0,\"margin\":0.0,\"plot\":\"port-value\"},{\"date\":\"1980-12-30\",\"tot-value\":10119.711651816193,\"daily-ret\":-1.3318498492376167E-4,\"tot-ret\":0.005168138016706749,\"loan\":0.0,\"leverage\":0.0,\"margin\":0.0,\"plot\":\"port-value\"},{\"date\":\"1980-12-31\",\"tot-value\":10116.110360463394,\"daily-ret\":0.0,\"tot-ret\":0.005013558580515856,\"loan\":0.0,\"leverage\":0.0,\"margin\":0.0,\"plot\":\"port-value\"}]},\"encoding\":{\"x\":{\"field\":\"date\",\"type\":\"temporal\"},\"y\":{\"field\":\"daily-ret\",\"type\":\"quantitative\"},\"color\":{\"field\":\"plot\",\"type\":\"nominal\"}},\"mark\":\"line\"};\n",
       "      vegaEmbed('#uuid-73e58e6e-c724-4e00-a108-2cd63d03c7f5', spec, {defaultStyle:true}).catch(console.warn);\n",
       "      }, function(err) {\n",
       "      console.log('Failed to load');\n",
       "    });\n",
       "    </script>\n",
       "  </div>\n",
       "    "
      ]
     },
     "execution_count": 14,
     "metadata": {},
     "output_type": "execute_result"
    }
   ],
   "source": [
    "(plot data-to-plot :plot :date :daily-ret false)"
   ]
  },
  {
   "cell_type": "markdown",
   "metadata": {},
   "source": [
    "### 2. Plot volatility"
   ]
  },
  {
   "cell_type": "code",
   "execution_count": 15,
   "metadata": {},
   "outputs": [
    {
     "data": {
      "text/plain": [
       "#'clojure-backtesting.demo/data"
      ]
     },
     "execution_count": 15,
     "metadata": {},
     "output_type": "execute_result"
    }
   ],
   "source": [
    "(def data (deref eval-record))"
   ]
  },
  {
   "cell_type": "code",
   "execution_count": 16,
   "metadata": {},
   "outputs": [
    {
     "data": {
      "text/plain": [
       "{:date \"1980-12-17\", :tot-value 10000.0, :vol 0.0, :r-vol 0.0, :sharpe 0.0, :r-sharpe 0.0, :pnl-pt 0.0, :max-drawdown 0.0}"
      ]
     },
     "execution_count": 16,
     "metadata": {},
     "output_type": "execute_result"
    }
   ],
   "source": [
    "(first data)"
   ]
  },
  {
   "cell_type": "code",
   "execution_count": 17,
   "metadata": {},
   "outputs": [
    {
     "data": {
      "text/plain": [
       "#'clojure-backtesting.demo/data-to-plot"
      ]
     },
     "execution_count": 17,
     "metadata": {},
     "output_type": "execute_result"
    }
   ],
   "source": [
    "; Add legend name to series\n",
    "(def data-to-plot\n",
    " (map #(assoc % :plot \"volatility\")\n",
    "  data))"
   ]
  },
  {
   "cell_type": "code",
   "execution_count": 20,
   "metadata": {},
   "outputs": [
    {
     "name": "stdout",
     "output_type": "stream",
     "text": [
      "\n",
      "|      :date | :tot-value |    :vol |  :r-vol |  :sharpe | :r-sharpe | :pnl-pt | :max-drawdown |\n",
      "|------------+------------+---------+---------+----------+-----------+---------+---------------|\n",
      "| 1980-12-17 |     $10000 | 0.0000% | 0.0000% |  0.0000% |   0.0000% |      $0 |        0.0000 |\n",
      "| 1980-12-18 |     $10015 | 0.0000% | 0.0000% |  0.0000% |   0.0000% |      $7 |        0.0000 |\n",
      "| 1980-12-19 |     $10042 | 0.0578% | 0.0578% |  3.1854% |   3.1854% |     $21 |      100.0000 |\n",
      "| 1980-12-22 |     $10064 | 0.0517% | 0.0517% |  5.3929% |   5.3929% |     $21 |      100.0000 |\n",
      "| 1980-12-23 |     $10078 | 0.0490% | 0.0490% |  6.9722% |   6.9722% |     $26 |      100.0000 |\n",
      "| 1980-12-24 |     $10097 | 0.0461% | 0.0461% |  9.1301% |   9.1301% |     $24 |      100.0000 |\n",
      "| 1980-12-26 |     $10119 | 0.0491% | 0.0491% | 10.4957% |  10.4957% |     $29 |      100.0000 |\n",
      "| 1980-12-29 |     $10122 | 0.0473% | 0.0473% | 11.2136% |  11.2136% |     $24 |      100.0000 |\n",
      "| 1980-12-30 |     $10119 | 0.0467% | 0.0467% | 11.0778% |  11.0778% |     $23 |      111.5205 |\n"
     ]
    },
    {
     "data": {
      "text/plain": [
       "nil"
      ]
     },
     "execution_count": 20,
     "metadata": {},
     "output_type": "execute_result"
    }
   ],
   "source": [
    "(print-eval-report)"
   ]
  },
  {
   "cell_type": "code",
   "execution_count": 19,
   "metadata": {},
   "outputs": [
    {
     "data": {
      "text/html": [
       "\n",
       "  <div>\n",
       "    <div id='uuid-19b00674-2382-4021-b77d-ebd2a6adce84'></div>\n",
       "    <script>\n",
       "    requirejs.config({\n",
       "      baseUrl: 'https://cdn.jsdelivr.net/npm/',\n",
       "      paths: {\n",
       "        'vega-embed':  'vega-embed@6.12.2?noext',\n",
       "        'vega-lib': 'vega-lib?noext',\n",
       "        'vega-lite': 'vega-lite@4.17.0?noext',\n",
       "        'vega': 'vega@5.17.0?noext'\n",
       "      }\n",
       "    });\n",
       "    require(['vega-embed'], function(vegaEmbed) {\n",
       "      let spec = {\"width\":800,\"height\":500,\"data\":{\"values\":[{\"plot\":\"volatility\",\"date\":\"1980-12-17\",\"tot-value\":10000.0,\"r-sharpe\":0.0,\"r-vol\":0.0,\"pnl-pt\":0.0,\"max-drawdown\":0.0,\"sharpe\":0.0,\"vol\":0.0},{\"plot\":\"volatility\",\"date\":\"1980-12-18\",\"tot-value\":10015.790203282233,\"r-sharpe\":0.0,\"r-vol\":0.0,\"pnl-pt\":7.895101641116526,\"max-drawdown\":0.0,\"sharpe\":0.0,\"vol\":0.0},{\"plot\":\"volatility\",\"date\":\"1980-12-19\",\"tot-value\":10042.487260728456,\"r-sharpe\":3.1854276385688904,\"r-vol\":5.780352574750012E-4,\"pnl-pt\":21.24363036422801,\"max-drawdown\":1.0,\"sharpe\":3.1854276385688904,\"vol\":5.780352574750012E-4},{\"plot\":\"volatility\",\"date\":\"1980-12-22\",\"tot-value\":10064.407387582109,\"r-sharpe\":5.392942911976279,\"r-vol\":5.170104516422785E-4,\"pnl-pt\":21.469129194036213,\"max-drawdown\":1.0,\"sharpe\":5.392942911976279,\"vol\":5.170104516422785E-4},{\"plot\":\"volatility\",\"date\":\"1980-12-23\",\"tot-value\":10078.982980896977,\"r-sharpe\":6.972207816523242,\"r-vol\":4.900473357357169E-4,\"pnl-pt\":26.327660298992367,\"max-drawdown\":1.0,\"sharpe\":6.972207816523242,\"vol\":4.900473357357169E-4},{\"plot\":\"volatility\",\"date\":\"1980-12-24\",\"tot-value\":10097.441709988898,\"r-sharpe\":9.130133507926402,\"r-vol\":4.6125883832293584E-4,\"pnl-pt\":24.360427497224464,\"max-drawdown\":1.0,\"sharpe\":9.130133507926402,\"vol\":4.6125883832293584E-4},{\"plot\":\"volatility\",\"date\":\"1980-12-26\",\"tot-value\":10119.278686680607,\"r-sharpe\":10.495725028410938,\"r-vol\":4.906337203549679E-4,\"pnl-pt\":29.81967167015182,\"max-drawdown\":1.0,\"sharpe\":10.495725028410938,\"vol\":4.906337203549679E-4},{\"plot\":\"volatility\",\"date\":\"1980-12-29\",\"tot-value\":10122.815537278373,\"r-sharpe\":11.21356259850174,\"r-vol\":4.727599239815924E-4,\"pnl-pt\":24.56310745567462,\"max-drawdown\":1.0000000000000835,\"sharpe\":11.21356259850174,\"vol\":4.727599239815924E-4},{\"plot\":\"volatility\",\"date\":\"1980-12-30\",\"tot-value\":10119.711651816193,\"r-sharpe\":11.077750057021882,\"r-vol\":4.665331849973279E-4,\"pnl-pt\":23.94233036323858,\"max-drawdown\":1.1152048972804411,\"sharpe\":11.077750057021882,\"vol\":4.665331849973279E-4}]},\"encoding\":{\"x\":{\"field\":\"date\",\"type\":\"temporal\",\"timeUnit\":\"yearmonthdate\"},\"y\":{\"field\":\"vol\",\"type\":\"quantitative\"},\"color\":{\"field\":\"plot\",\"type\":\"nominal\"}},\"mark\":\"line\"};\n",
       "      vegaEmbed('#uuid-19b00674-2382-4021-b77d-ebd2a6adce84', spec, {defaultStyle:true}).catch(console.warn);\n",
       "      }, function(err) {\n",
       "      console.log('Failed to load');\n",
       "    });\n",
       "    </script>\n",
       "  </div>\n",
       "    "
      ]
     },
     "execution_count": 19,
     "metadata": {},
     "output_type": "execute_result"
    }
   ],
   "source": [
    "(plot data-to-plot :plot :date :vol true)"
   ]
  },
  {
   "cell_type": "markdown",
   "metadata": {},
   "source": [
    "### 3. Plot sharpe ratio"
   ]
  },
  {
   "cell_type": "code",
   "execution_count": 21,
   "metadata": {},
   "outputs": [
    {
     "data": {
      "text/html": [
       "\n",
       "  <div>\n",
       "    <div id='uuid-d979f30d-bd2e-4730-8a9c-baba1fdf06c7'></div>\n",
       "    <script>\n",
       "    requirejs.config({\n",
       "      baseUrl: 'https://cdn.jsdelivr.net/npm/',\n",
       "      paths: {\n",
       "        'vega-embed':  'vega-embed@6.12.2?noext',\n",
       "        'vega-lib': 'vega-lib?noext',\n",
       "        'vega-lite': 'vega-lite@4.17.0?noext',\n",
       "        'vega': 'vega@5.17.0?noext'\n",
       "      }\n",
       "    });\n",
       "    require(['vega-embed'], function(vegaEmbed) {\n",
       "      let spec = {\"width\":800,\"height\":500,\"data\":{\"values\":[{\"plot\":\"sharpe ratio\",\"date\":\"1980-12-17\",\"tot-value\":10000.0,\"r-sharpe\":0.0,\"r-vol\":0.0,\"pnl-pt\":0.0,\"max-drawdown\":0.0,\"sharpe\":0.0,\"vol\":0.0},{\"plot\":\"sharpe ratio\",\"date\":\"1980-12-18\",\"tot-value\":10015.790203282233,\"r-sharpe\":0.0,\"r-vol\":0.0,\"pnl-pt\":7.895101641116526,\"max-drawdown\":0.0,\"sharpe\":0.0,\"vol\":0.0},{\"plot\":\"sharpe ratio\",\"date\":\"1980-12-19\",\"tot-value\":10042.487260728456,\"r-sharpe\":3.1854276385688904,\"r-vol\":5.780352574750012E-4,\"pnl-pt\":21.24363036422801,\"max-drawdown\":1.0,\"sharpe\":3.1854276385688904,\"vol\":5.780352574750012E-4},{\"plot\":\"sharpe ratio\",\"date\":\"1980-12-22\",\"tot-value\":10064.407387582109,\"r-sharpe\":5.392942911976279,\"r-vol\":5.170104516422785E-4,\"pnl-pt\":21.469129194036213,\"max-drawdown\":1.0,\"sharpe\":5.392942911976279,\"vol\":5.170104516422785E-4},{\"plot\":\"sharpe ratio\",\"date\":\"1980-12-23\",\"tot-value\":10078.982980896977,\"r-sharpe\":6.972207816523242,\"r-vol\":4.900473357357169E-4,\"pnl-pt\":26.327660298992367,\"max-drawdown\":1.0,\"sharpe\":6.972207816523242,\"vol\":4.900473357357169E-4},{\"plot\":\"sharpe ratio\",\"date\":\"1980-12-24\",\"tot-value\":10097.441709988898,\"r-sharpe\":9.130133507926402,\"r-vol\":4.6125883832293584E-4,\"pnl-pt\":24.360427497224464,\"max-drawdown\":1.0,\"sharpe\":9.130133507926402,\"vol\":4.6125883832293584E-4},{\"plot\":\"sharpe ratio\",\"date\":\"1980-12-26\",\"tot-value\":10119.278686680607,\"r-sharpe\":10.495725028410938,\"r-vol\":4.906337203549679E-4,\"pnl-pt\":29.81967167015182,\"max-drawdown\":1.0,\"sharpe\":10.495725028410938,\"vol\":4.906337203549679E-4},{\"plot\":\"sharpe ratio\",\"date\":\"1980-12-29\",\"tot-value\":10122.815537278373,\"r-sharpe\":11.21356259850174,\"r-vol\":4.727599239815924E-4,\"pnl-pt\":24.56310745567462,\"max-drawdown\":1.0000000000000835,\"sharpe\":11.21356259850174,\"vol\":4.727599239815924E-4},{\"plot\":\"sharpe ratio\",\"date\":\"1980-12-30\",\"tot-value\":10119.711651816193,\"r-sharpe\":11.077750057021882,\"r-vol\":4.665331849973279E-4,\"pnl-pt\":23.94233036323858,\"max-drawdown\":1.1152048972804411,\"sharpe\":11.077750057021882,\"vol\":4.665331849973279E-4}]},\"encoding\":{\"x\":{\"field\":\"date\",\"type\":\"temporal\",\"timeUnit\":\"yearmonthdate\"},\"y\":{\"field\":\"sharpe\",\"type\":\"quantitative\"},\"color\":{\"field\":\"plot\",\"type\":\"nominal\"}},\"mark\":\"line\"};\n",
       "      vegaEmbed('#uuid-d979f30d-bd2e-4730-8a9c-baba1fdf06c7', spec, {defaultStyle:true}).catch(console.warn);\n",
       "      }, function(err) {\n",
       "      console.log('Failed to load');\n",
       "    });\n",
       "    </script>\n",
       "  </div>\n",
       "    "
      ]
     },
     "execution_count": 21,
     "metadata": {},
     "output_type": "execute_result"
    }
   ],
   "source": [
    "; Add rename legend\n",
    "(def data-to-plot\n",
    " (map #(assoc % :plot \"sharpe ratio\")\n",
    "  data))\n",
    "\n",
    "(plot data-to-plot :plot :date :sharpe true)"
   ]
  },
  {
   "cell_type": "markdown",
   "metadata": {},
   "source": [
    "### 4. Plot stock price"
   ]
  },
  {
   "cell_type": "code",
   "execution_count": 21,
   "metadata": {},
   "outputs": [
    {
     "data": {
      "text/plain": [
       "#'clojure-backtesting.demo/data"
      ]
     },
     "execution_count": 21,
     "metadata": {},
     "output_type": "execute_result"
    }
   ],
   "source": [
    "(def data (deref order-record))"
   ]
  },
  {
   "cell_type": "code",
   "execution_count": 22,
   "metadata": {},
   "outputs": [
    {
     "data": {
      "text/plain": [
       "{:date \"1980-12-17\", :tic \"AAPL\", :price 25.9375, :aprc \"26.09\", :quantity 50}"
      ]
     },
     "execution_count": 22,
     "metadata": {},
     "output_type": "execute_result"
    }
   ],
   "source": [
    "(first data)"
   ]
  },
  {
   "cell_type": "code",
   "execution_count": 23,
   "metadata": {},
   "outputs": [
    {
     "data": {
      "text/html": [
       "\n",
       "  <div>\n",
       "    <div id='uuid-b58c4a5c-daf7-4063-a2f6-a549752bc387'></div>\n",
       "    <script>\n",
       "    requirejs.config({\n",
       "      baseUrl: 'https://cdn.jsdelivr.net/npm/',\n",
       "      paths: {\n",
       "        'vega-embed':  'vega-embed@6.12.2?noext',\n",
       "        'vega-lib': 'vega-lib?noext',\n",
       "        'vega-lite': 'vega-lite@4.17.0?noext',\n",
       "        'vega': 'vega@5.17.0?noext'\n",
       "      }\n",
       "    });\n",
       "    require(['vega-embed'], function(vegaEmbed) {\n",
       "      let spec = {\"width\":800,\"height\":500,\"data\":{\"values\":[{\"date\":\"1980-12-17\",\"tic\":\"AAPL\",\"price\":25.9375,\"aprc\":\"26.09\",\"quantity\":50,\"plot\":\"price\"},{\"date\":\"1980-12-18\",\"tic\":\"AAPL\",\"price\":26.6875,\"aprc\":\"26.42\",\"quantity\":-10,\"plot\":\"price\"},{\"date\":\"1980-12-22\",\"tic\":\"AAPL\",\"price\":29.6875,\"aprc\":\"27.67\",\"quantity\":-10,\"plot\":\"price\"},{\"date\":\"1980-12-24\",\"tic\":\"AAPL\",\"price\":32.5625,\"aprc\":\"28.80\",\"quantity\":-10,\"plot\":\"price\"},{\"date\":\"1980-12-29\",\"tic\":\"AAPL\",\"price\":36.0625,\"aprc\":\"30.11\",\"quantity\":-10,\"plot\":\"price\"},{\"date\":\"1980-12-31\",\"tic\":\"AAPL\",\"price\":34.1875,\"aprc\":\"29.42\",\"quantity\":-10,\"plot\":\"price\"}]},\"encoding\":{\"x\":{\"field\":\"date\",\"type\":\"temporal\",\"timeUnit\":\"yearmonthdate\"},\"y\":{\"field\":\"price\",\"type\":\"quantitative\"},\"color\":{\"field\":\"plot\",\"type\":\"nominal\"}},\"mark\":\"line\"};\n",
       "      vegaEmbed('#uuid-b58c4a5c-daf7-4063-a2f6-a549752bc387', spec, {defaultStyle:true}).catch(console.warn);\n",
       "      }, function(err) {\n",
       "      console.log('Failed to load');\n",
       "    });\n",
       "    </script>\n",
       "  </div>\n",
       "    "
      ]
     },
     "execution_count": 23,
     "metadata": {},
     "output_type": "execute_result"
    }
   ],
   "source": [
    "; Add rename legend\n",
    "(def data-to-plot\n",
    " (map #(assoc % :plot \"price\")\n",
    "  data))\n",
    "\n",
    "(plot data-to-plot :plot :date :price true)"
   ]
  },
  {
   "cell_type": "code",
   "execution_count": null,
   "metadata": {},
   "outputs": [],
   "source": []
  }
 ],
 "metadata": {
  "kernelspec": {
   "display_name": "Clojure (backtesting_clojure)",
   "language": "clojure",
   "name": "backtesting_clojure"
  },
  "language_info": {
   "file_extension": ".clj",
   "mimetype": "text/x-clojure",
   "name": "clojure",
   "version": "1.10.1"
  }
 },
 "nbformat": 4,
 "nbformat_minor": 2
}
