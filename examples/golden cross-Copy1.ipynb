{
 "cells": [
  {
   "cell_type": "markdown",
   "metadata": {},
   "source": [
    "### Run this in Python kernel"
   ]
  },
  {
   "cell_type": "code",
   "execution_count": null,
   "metadata": {},
   "outputs": [],
   "source": [
    "%%html\n",
    "<style>\n",
    "body {\n",
    "    font-family: \"Arial\", cursive, sans-serif; # font style of application\n",
    "}\n",
    "pre {\n",
    "    font-family: \"Courier New\"; # font style of cell outputs\n",
    "}\n",
    "</style>  "
   ]
  },
  {
   "cell_type": "markdown",
   "metadata": {},
   "source": [
    "### Run below in the backtesting_clojure kernel"
   ]
  },
  {
   "cell_type": "code",
   "execution_count": 2,
   "metadata": {},
   "outputs": [
    {
     "data": {
      "text/plain": [
       "nil"
      ]
     },
     "execution_count": 2,
     "metadata": {},
     "output_type": "execute_result"
    }
   ],
   "source": [
    "; import libraries from kernel\n",
    "(ns clojure-backtesting.demo\n",
    "  (:require [clojure.test :refer :all]\n",
    "            [clojure-backtesting.data :refer :all]\n",
    "            [clojure-backtesting.data-management :refer :all]\n",
    "            [clojure-backtesting.order :refer :all]\n",
    "            [clojure-backtesting.evaluate :refer :all]\n",
    "            [clojure-backtesting.plot :refer :all]\n",
    "            [clojure-backtesting.counter :refer :all]\n",
    "            [clojure-backtesting.parameters :refer :all]\n",
    "            [clojure.string :as str]\n",
    "            [clojure.pprint :as pprint]\n",
    "            [java-time :as t]\n",
    "            [clojure.java.io :as io]\n",
    "            [clojure.data.csv :as csv]\n",
    "            [clojupyter.kernel.version :as ver]\n",
    "            [clojupyter.misc.helper :as helper]\n",
    "  ) ;; require all libriaries from core\n",
    "  (:use clojure.pprint)\n",
    ")"
   ]
  },
  {
   "cell_type": "code",
   "execution_count": null,
   "metadata": {},
   "outputs": [],
   "source": [
    "(defn- csv->map\n",
    "  \"Convert parsed CSV vectors into maps with headers as keys, by row\"\n",
    "  [csv-data]\n",
    "  (map zipmap ;; make the first row as headers and the following rows as values in a map structure e.g. {:tic AAPL} \n",
    "       (->> (first csv-data) ;; take the first row of the csv-data\n",
    "            (map keyword) ;; make the header be the \"key\" in the map \n",
    "            repeat)      ;; repeat the process for all the headers\n",
    "       (rest csv-data))) ;; use the rest rows as values of the map\n",
    "(defn read-csv-lazy\n",
    "  \"Read CSV data into memory by row\"\n",
    "  [filename]\n",
    "  (csv->map (lazy-read-csv filename)))"
   ]
  },
  {
   "cell_type": "code",
   "execution_count": null,
   "metadata": {},
   "outputs": [],
   "source": [
    "(defn lazy-read-csv\n",
    "  [csv-file]\n",
    "  (let [in-file (io/reader csv-file)\n",
    "        csv-seq (csv/read-csv in-file)\n",
    "        lazy (fn lazy [wrapped]\n",
    "               (lazy-seq\n",
    "                 (if-let [s (seq wrapped)]\n",
    "                   (cons (first s) (lazy (rest s)))\n",
    "                   (.close in-file))))]\n",
    "    (lazy csv-seq)))\n",
    "(take 10 (lazy-read-csv \"/Users/lyc/Downloads/data/data-CRSP.csv\"))"
   ]
  },
  {
   "cell_type": "markdown",
   "metadata": {},
   "source": [
    "### Import dataset"
   ]
  },
  {
   "cell_type": "code",
   "execution_count": null,
   "metadata": {},
   "outputs": [],
   "source": [
    "; path to dataset = \"../resources/CRSP-extract.csv\"\n",
    "; change it to the relative to your own dataset\n",
    ";\n",
    "(def y (reset! data-set (add-aprc (read-csv-lazy \"/Users/lyc/Downloads/data/data-CRSP.csv\"))))"
   ]
  },
  {
   "cell_type": "code",
   "execution_count": null,
   "metadata": {},
   "outputs": [],
   "source": [
    "(def k(swap! data-set rest))"
   ]
  },
  {
   "cell_type": "code",
   "execution_count": 13,
   "metadata": {},
   "outputs": [
    {
     "data": {
      "text/plain": [
       "#'clojure-backtesting.demo/maintaintics"
      ]
     },
     "execution_count": 13,
     "metadata": {},
     "output_type": "execute_result"
    }
   ],
   "source": [
    "(defn lazy\n",
    "    [wrapped]\n",
    "    (lazy-seq\n",
    "        (if-let [s (seq wrapped)]\n",
    "           (cons (first s) (lazy (rest s)))\n",
    "           )))\n",
    "(defn maintaintics \n",
    "    []\n",
    "    (def ticsinfo (atom {}))\n",
    "   (println \"-----\")\n",
    "   (loop [count 0 remaining (lazy-seq (add-aprc (read-csv-lazy \"/Users/lyc/Downloads/data/data-CRSP.csv\"))) cur-tic nil start-date nil end-date nil num 0 reference nil]\n",
    "     (if (empty? remaining)\n",
    "       (do\n",
    "         (if (not= cur-tic nil)\n",
    "           (swap! ticsinfo assoc cur-tic {:start-date start-date :end-date end-date :pointer (atom {:num num :reference nil})}))\n",
    "         nil)\n",
    "       (let [first-line (first remaining)\n",
    "             next-remaining (rest remaining)]\n",
    "         (if (not= cur-tic (get first-line :TICKER))\n",
    "           (do\n",
    "             ;(println \"-----\")\n",
    "             (if (not= cur-tic nil)\n",
    "               (swap! ticsinfo assoc cur-tic {:start-date start-date :end-date end-date :pointer (atom {:num num :reference nil})}))\n",
    "             (let [cur-tic (get first-line :TICKER) start-date (get first-line :date) end-date (get first-line :date) num count reference remaining]\n",
    "               (recur (inc count) next-remaining cur-tic start-date end-date num (lazy reference))))\n",
    "           (if (= (get (first remaining) :date) (get-date))\n",
    "             (recur (inc count) next-remaining cur-tic start-date (get first-line :date) count (lazy remaining))\n",
    "             (recur (inc count) next-remaining cur-tic start-date (get first-line :date) num (lazy reference)))))))\n",
    "   )"
   ]
  },
  {
   "cell_type": "code",
   "execution_count": 16,
   "metadata": {},
   "outputs": [
    {
     "name": "stderr",
     "output_type": "stream",
     "text": [
      "*Interrupted*\n"
     ]
    },
    {
     "name": "stdout",
     "output_type": "stream",
     "text": [
      "-----\n",
      "AAGIY\n",
      "CBNF\n",
      "AAIR\n",
      "AALX\n",
      "AALS\n",
      "AAL\n",
      "AAME\n",
      "AEN\n",
      "AAMN\n",
      "AAPL\n",
      "AARN\n",
      "AASS\n",
      "ABAI\n",
      "AB\n",
      "ABAN\n",
      "ABLD\n",
      "ABCC\n",
      "ABEF\n",
      "ABEV\n",
      "ALEC\n",
      "ABIG\n",
      "ABI\n",
      "ABKC\n",
      "ABKP\n",
      "AZBW\n",
      "ABLA\n",
      "ABLE\n",
      "ABMD\n",
      "ABNC\n",
      "\n",
      "ASQ\n",
      "ASO\n",
      "ABNJ\n",
      "ABOT\n",
      "ABPC\n",
      "ABUD\n",
      "BUD\n",
      "ACAD\n",
      "ACAL\n",
      "ACCM\n",
      "ACCMA\n",
      "ACCMB\n",
      "ACCOB\n",
      "RKY\n",
      "TAP\n",
      "ACCU\n",
      "PCES\n",
      "ACEL\n",
      "ACES\n",
      "AVCS\n",
      "ACET\n",
      "GCMN\n",
      "ACFC\n",
      "ACHP\n",
      "ACIC\n",
      "ACAP\n",
      "UINS\n",
      "ACIG\n",
      "ACLE\n",
      "ACLP\n",
      "ACLV\n",
      "UNII\n",
      "ACME\n",
      "ACMT\n",
      "ACMTA\n",
      "ACOK\n",
      "ACOM\n",
      "INUC\n",
      "ACRA\n",
      "ACRF\n",
      "ACSC\n",
      "ACSH\n",
      "ACTC\n",
      "ACTP\n",
      "\n",
      "ACYT\n",
      "ADAC\n",
      "ADAR\n",
      "AE\n",
      "\n",
      "ADBE\n",
      "ADCO\n",
      "LDDSA\n",
      "LDDS\n",
      "WCOM\n",
      "MCIT\n",
      "MCWE\n",
      "ADDC\n",
      "ADDS\n",
      "ADS\n",
      "BKS\n",
      "ADE\n",
      "ADEV\n",
      "ADE\n",
      "ADGE\n",
      "RELM\n",
      "RWC\n",
      "BKTI\n",
      "ADGN\n",
      "ADIT\n",
      "ADLA\n",
      "ADME\n",
      "ADI\n",
      "ADND\n",
      "SCIO\n",
      "ADRI\n",
      "FAST\n",
      "ADSN\n",
      "\n",
      "ADC\n",
      "ADSC\n",
      "ADSO\n",
      "ADVC\n",
      "ADVN\n",
      "ADVS\n",
      "ASY\n",
      "AEX\n",
      "\n",
      "AEIC\n",
      "DOSK\n",
      "DOSKV\n",
      "DOSK\n",
      "FBAI\n",
      "FDB\n",
      "AELB\n",
      "AELNA\n",
      "AENG\n",
      "ASE\n"
     ]
    },
    {
     "ename": "interrupted",
     "evalue": "",
     "output_type": "error",
     "traceback": [
      "(no stacktrace)"
     ]
    }
   ],
   "source": [
    "(maintaintics)"
   ]
  },
  {
   "cell_type": "code",
   "execution_count": 15,
   "metadata": {},
   "outputs": [
    {
     "data": {
      "text/plain": [
       "651367"
      ]
     },
     "execution_count": 15,
     "metadata": {},
     "output_type": "execute_result"
    }
   ],
   "source": [
    "(get(deref (get (get (deref ticsinfo) \"AMBC\") :pointer)) :num)"
   ]
  },
  {
   "cell_type": "markdown",
   "metadata": {},
   "source": [
    "### Initialise portfolio （Go back here everytime you want to restart.）"
   ]
  },
  {
   "cell_type": "code",
   "execution_count": null,
   "metadata": {},
   "outputs": [],
   "source": [
    ";; initialise with current date and initial capital (= $10000)\n",
    "(init-portfolio \"1980-12-15\" 100000);"
   ]
  },
  {
   "cell_type": "code",
   "execution_count": null,
   "metadata": {},
   "outputs": [],
   "source": [
    "(count (deref tics-info))"
   ]
  },
  {
   "cell_type": "markdown",
   "metadata": {},
   "source": [
    "### Write a strategy\n",
    "\n",
    "The following code implements a trading strategy called Golden Rule:\n",
    "\n",
    "MA 50 cross above the MA 200 (golden cross)\n",
    "\n",
    "MA 200 cross below the MA 50 (death cross)\n",
    "\n",
    "So in the codes, MA50 and MA200 are compared on a daily basis, if golden cross occurs, then you set a buy order; if death cross occurs, then you set a sell order first \n",
    "\n"
   ]
  },
  {
   "cell_type": "code",
   "execution_count": null,
   "metadata": {
    "scrolled": true
   },
   "outputs": [],
   "source": [
    "(time (do (def MA50-vec-aapl [])\n",
    "          (def MA200-vec-aapl [])\n",
    "          (def MA50-vec-f [])\n",
    "          (def MA200-vec-f [])\n",
    "          (while (not= (get-date) \"2016-12-29\")\n",
    "            (do\n",
    "    ;; write your trading strategy here\n",
    "              (def tics (deref available-tics-)) ;20 ms\n",
    "              (def MA50-vec-aapl (get-prev-n-days :PRC 50 \"AAPL\" MA50-vec-aapl (get (get tics \"AAPL\"):reference)))\n",
    "              (def MA200-vec-aapl (get-prev-n-days :PRC 200 \"AAPL\" MA200-vec-aapl (get (get tics \"AAPL\") :reference)))\n",
    "              (def MA50-vec-f (get-prev-n-days :PRC 50 \"F\" MA50-vec-f (get (get tics \"F\"):reference)))\n",
    "              (def MA200-vec-f (get-prev-n-days :PRC 200 \"F\" MA200-vec-f (get (get tics \"F\") :reference)))\n",
    "              (let [[MA50 MA200] [(moving-average :PRC MA50-vec-aapl) (moving-average :PRC MA200-vec-aapl)]]\n",
    "                (if (> MA50 MA200)\n",
    "                  (order \"AAPL\" 1 :reference (get (get tics \"AAPL\") :reference) :print false) \n",
    "                  (order \"AAPL\" 0 :remaining true :reference (get (get tics \"AAPL\") :reference))))\n",
    "              (let [[MA50 MA200] [(moving-average :PRC MA50-vec-f) (moving-average :PRC MA200-vec-f)]]\n",
    "                (if (> MA50 MA200)\n",
    "                  (order \"F\" 1 :reference (get (get tics \"F\") :reference) :print false) \n",
    "                  (order \"F\" 0 :remaining true :reference (get (get tics \"F\") :reference))))\n",
    "              ;(update-eval-report (get-date))\n",
    "              (next-date)))))\n",
    "(.close wrtr)"
   ]
  },
  {
   "cell_type": "code",
   "execution_count": null,
   "metadata": {},
   "outputs": [],
   "source": [
    "(count (deref order-record))\n"
   ]
  },
  {
   "cell_type": "markdown",
   "metadata": {},
   "source": [
    "### Check portfolio record"
   ]
  },
  {
   "cell_type": "code",
   "execution_count": null,
   "metadata": {},
   "outputs": [],
   "source": [
    ";; view final portfolio\n",
    "(view-portfolio)"
   ]
  },
  {
   "cell_type": "code",
   "execution_count": null,
   "metadata": {},
   "outputs": [],
   "source": [
    ";; view portfolio value and return\n",
    "(view-portfolio-record)"
   ]
  },
  {
   "cell_type": "markdown",
   "metadata": {},
   "source": [
    "### Generate evaluation report"
   ]
  },
  {
   "cell_type": "code",
   "execution_count": null,
   "metadata": {},
   "outputs": [],
   "source": [
    "(eval-report)"
   ]
  },
  {
   "cell_type": "markdown",
   "metadata": {},
   "source": [
    "### Plot variables"
   ]
  },
  {
   "cell_type": "code",
   "execution_count": null,
   "metadata": {},
   "outputs": [],
   "source": [
    "(def data (deref portfolio-value))"
   ]
  },
  {
   "cell_type": "code",
   "execution_count": null,
   "metadata": {},
   "outputs": [],
   "source": [
    "; Add legend name to series\n",
    "(def data-to-plot\n",
    " (map #(assoc % :plot \"portfolio\")\n",
    "  data))"
   ]
  },
  {
   "cell_type": "code",
   "execution_count": null,
   "metadata": {},
   "outputs": [],
   "source": [
    "(first data-to-plot)"
   ]
  },
  {
   "cell_type": "code",
   "execution_count": null,
   "metadata": {},
   "outputs": [],
   "source": [
    "(plot data-to-plot :plot :date :daily-ret)"
   ]
  },
  {
   "cell_type": "code",
   "execution_count": null,
   "metadata": {},
   "outputs": [],
   "source": []
  }
 ],
 "metadata": {
  "kernelspec": {
   "display_name": "Clojure (backtesting_clojure)",
   "language": "clojure",
   "name": "backtesting_clojure"
  },
  "language_info": {
   "file_extension": ".clj",
   "mimetype": "text/x-clojure",
   "name": "clojure",
   "version": "1.10.1"
  }
 },
 "nbformat": 4,
 "nbformat_minor": 2
}
