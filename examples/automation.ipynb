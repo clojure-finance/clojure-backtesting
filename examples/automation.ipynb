{
 "cells": [
  {
   "cell_type": "code",
   "execution_count": 12,
   "metadata": {},
   "outputs": [
    {
     "data": {
      "text/plain": [
       "nil"
      ]
     },
     "execution_count": 12,
     "metadata": {},
     "output_type": "execute_result"
    }
   ],
   "source": [
    "(ns clojure-backtesting.demo\n",
    "  (:require [clojure-backtesting.data :refer :all]\n",
    "            [clojure-backtesting.data-management :refer :all]\n",
    "            [clojure-backtesting.portfolio :refer :all]\n",
    "            [clojure-backtesting.order :refer :all]\n",
    "            [clojure-backtesting.evaluate :refer :all]\n",
    "            [clojure-backtesting.plot :refer :all]\n",
    "            [clojure-backtesting.counter :refer :all]\n",
    "            [clojure-backtesting.automation :refer :all]\n",
    "            [clojure-backtesting.parameters :refer :all]\n",
    "            [clojure-backtesting.indicators :refer :all]\n",
    "            [clojure-backtesting.direct :refer :all]\n",
    "            [clojure.string :as str]\n",
    "            [clojure.java.io :as io]\n",
    "            [clojure.pprint :as pprint]\n",
    "  ) ;; require all libriaries from core\n",
    ")"
   ]
  },
  {
   "cell_type": "code",
   "execution_count": 13,
   "metadata": {},
   "outputs": [
    {
     "data": {
      "text/plain": [
       "\"Date: 1986-01-09 Cash: $2000\""
      ]
     },
     "execution_count": 13,
     "metadata": {},
     "output_type": "execute_result"
    }
   ],
   "source": [
    "(load-dataset \"/Volumes/T7/CRSP\" \"main\")\n",
    "(init-portfolio \"1986-01-09\" 2000)"
   ]
  },
  {
   "cell_type": "markdown",
   "metadata": {},
   "source": [
    "### Limit Order\n",
    "#### Stop Buy"
   ]
  },
  {
   "cell_type": "code",
   "execution_count": 16,
   "metadata": {},
   "outputs": [
    {
     "data": {
      "text/plain": [
       "2"
      ]
     },
     "execution_count": 16,
     "metadata": {},
     "output_type": "execute_result"
    }
   ],
   "source": [
    "(defn stop-buy\n",
    "  \"This function executes a stop buy order.\"\n",
    "  [tic prc qty]\n",
    "  (set-automation\n",
    "  ; check if ticker adjusted price is greater than prc\n",
    "   (condition #(and (get (deref portfolio) tic) (> (get-in (deref portfolio) [tic :aprc]) prc)))\n",
    "   (action #(order tic qty))\n",
    "   :max-dispatch nil\n",
    "   :expiration nil))\n",
    "\n",
    "(stop-buy \"OAK\" 32 10)"
   ]
  },
  {
   "cell_type": "code",
   "execution_count": 17,
   "metadata": {},
   "outputs": [
    {
     "data": {
      "text/plain": [
       "3"
      ]
     },
     "execution_count": 17,
     "metadata": {},
     "output_type": "execute_result"
    }
   ],
   "source": [
    "(defn limit-buy\n",
    "  \"This function executes a limit buy order.\"\n",
    "  [tic prc qty]\n",
    "  (set-automation\n",
    "  ; check if ticker adjusted price is smaller than prc\n",
    "   (condition #(and (get (deref portfolio) tic) (< (get-in (deref portfolio) [tic :aprc]) prc)))\n",
    "   (action #(order tic qty))\n",
    "   :max-dispatch nil\n",
    "   :expiration nil))\n",
    "\n",
    "(limit-buy \"MFS\" 35 0)"
   ]
  },
  {
   "cell_type": "code",
   "execution_count": null,
   "metadata": {},
   "outputs": [],
   "source": [
    "\n",
    ";; (defn stop-sell\n",
    ";;   \"This function executes a stop sell order.\"\n",
    ";;   [tic prc qty mode]\n",
    ";;   (if (= mode \"non-lazy\")\n",
    ";;     (set-automation\n",
    ";;       ; check if ticker adjusted price is smaller than prc\n",
    ";;      #(< (or (get-in (deref portfolio) [tic :aprc]) prc) prc)\n",
    ";;      #(order tic (* qty -1))\n",
    ";;      :max-dispatch 1))\n",
    ";;   (if (= mode \"lazy\")\n",
    ";;     (set-automation\n",
    ";;       ; check if ticker adjusted price is greater than prc\n",
    ";;      #(< (or (get-in (deref portfolio) [tic :aprc]) prc) prc)\n",
    ";;      #(order tic (* qty -1))\n",
    ";;      :max-dispatch 1))\n",
    ";;   (if (and (not= mode \"lazy\") (not= mode \"non-lazy\"))\n",
    ";;     (println \"Stop order failed, <mode> could only be \\\"lazy\\\" or \\\"non-lazy\\\".\")))\n",
    "\n",
    ";; (defn limit-sell\n",
    ";;   \"This function executes a limit sell order.\"\n",
    ";;   [tic prc qty mode]\n",
    ";;   (if (= mode \"non-lazy\")\n",
    ";;     (set-automation\n",
    ";;       ; check if ticker adjusted price is smaller than prc\n",
    ";;      #(> (or (get-in (deref portfolio) [tic :aprc]) prc) prc)\n",
    ";;      #(order tic (* qty -1))\n",
    ";;      :max-dispatch 1))\n",
    ";;   (if (= mode \"lazy\")\n",
    ";;     (set-automation\n",
    ";;       ; check if ticker adjusted price is greater than prc\n",
    ";;      #(> (or (get-in (deref portfolio) [tic :aprc]) prc) prc)\n",
    ";;      #(order tic (* qty -1))\n",
    ";;      :max-dispatch 1))\n",
    ";;   (if (and (not= mode \"lazy\") (not= mode \"non-lazy\"))\n",
    ";;     (println \"Stop order failed, <mode> could only be \\\"lazy\\\" or \\\"non-lazy\\\".\")))(set-automation (condition ))"
   ]
  },
  {
   "cell_type": "code",
   "execution_count": 19,
   "metadata": {},
   "outputs": [
    {
     "name": "stdout",
     "output_type": "stream",
     "text": [
      "\n",
      "| :id |                                              :condition |                  :action |              :max-dispatch | :expire-date |\n",
      "|-----+---------------------------------------------------------+--------------------------+----------------------------+--------------|\n",
      "|   1 |                                                         |                          | clojure.lang.Atom@343618d9 |              |\n",
      "|   2 | (fn* [] (> (get-in (deref portfolio) [tic :aprc]) prc)) | (fn* [] (order tic qty)) | clojure.lang.Atom@2c07bd42 |              |\n",
      "|   3 | (fn* [] (< (get-in (deref portfolio) [tic :aprc]) prc)) | (fn* [] (order tic qty)) | clojure.lang.Atom@2c13546f |              |\n"
     ]
    },
    {
     "data": {
      "text/plain": [
       "nil"
      ]
     },
     "execution_count": 19,
     "metadata": {},
     "output_type": "execute_result"
    }
   ],
   "source": [
    "(print-automation-list)"
   ]
  },
  {
   "cell_type": "code",
   "execution_count": 20,
   "metadata": {},
   "outputs": [
    {
     "name": "stderr",
     "output_type": "stream",
     "text": [
      "Execution error (NullPointerException) at clojure-backtesting.demo/stop-buy$fn (REPL:6).\n",
      "null\n"
     ]
    },
    {
     "ename": "class java.lang.NullPointerException",
     "evalue": "",
     "output_type": "error",
     "traceback": [
      "  Numbers.java:  1068 clojure.lang.Numbers/ops",
      "  Numbers.java:   259 clojure.lang.Numbers/gt",
      "automation.clj:    61 clojure_backtesting.automation$check_automation/invokeStatic",
      "     order.clj:   304 clojure_backtesting.order$next_date/invokeStatic",
      "     order.clj:   301 clojure_backtesting.order$next_date/invoke",
      "      core.clj:  3214 clojure.core$eval/invokeStatic",
      "      core.clj:  3210 clojure.core$eval/invoke",
      "      main.clj:   437 clojure.main$repl$read_eval_print__9086$fn__9089/invoke",
      "      main.clj:   458 clojure.main$repl$fn__9095/invoke",
      "      main.clj:   368 clojure.main$repl/doInvoke",
      "   RestFn.java:  1523 clojure.lang.RestFn/invoke",
      "      AFn.java:    22 clojure.lang.AFn/run",
      "      AFn.java:    22 clojure.lang.AFn/run",
      "   Thread.java:   832 java.lang.Thread/run"
     ]
    }
   ],
   "source": [
    "(next-date)"
   ]
  },
  {
   "cell_type": "code",
   "execution_count": null,
   "metadata": {},
   "outputs": [],
   "source": []
  }
 ],
 "metadata": {
  "kernelspec": {
   "display_name": "Clojure (backtesting_clojure)",
   "language": "clojure",
   "name": "backtesting_clojure"
  },
  "language_info": {
   "file_extension": ".clj",
   "mimetype": "text/x-clojure",
   "name": "clojure",
   "version": "1.10.1"
  },
  "orig_nbformat": 4,
  "vscode": {
   "interpreter": {
    "hash": "31f2aee4e71d21fbe5cf8b01ff0e069b9275f58929596ceb00d14d90e3e16cd6"
   }
  }
 },
 "nbformat": 4,
 "nbformat_minor": 2
}
