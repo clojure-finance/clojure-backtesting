{
 "cells": [
  {
   "cell_type": "markdown",
   "metadata": {},
   "source": [
    "### Run this in Python kernel"
   ]
  },
  {
   "cell_type": "code",
   "execution_count": null,
   "metadata": {},
   "outputs": [],
   "source": [
    "%%html\n",
    "<style>\n",
    "body {\n",
    "    font-family: \"Arial\", cursive, sans-serif; # font style of application\n",
    "}\n",
    "pre {\n",
    "    font-family: \"Courier New\"; # font style of cell outputs\n",
    "}\n",
    "</style>  "
   ]
  },
  {
   "cell_type": "markdown",
   "metadata": {},
   "source": [
    "### Run below in the backtesting_clojure kernel"
   ]
  },
  {
   "cell_type": "code",
   "execution_count": 1,
   "metadata": {},
   "outputs": [
    {
     "data": {
      "text/plain": [
       "nil"
      ]
     },
     "execution_count": 1,
     "metadata": {},
     "output_type": "execute_result"
    }
   ],
   "source": [
    "; import libraries from kernel\n",
    "(ns clojure-backtesting.demo\n",
    "  (:require [clojure-backtesting.data :refer :all]\n",
    "            [clojure-backtesting.data-management :refer :all]\n",
    "            [clojure-backtesting.portfolio :refer :all]\n",
    "            [clojure-backtesting.order :refer :all]\n",
    "            [clojure-backtesting.evaluate :refer :all]\n",
    "            [clojure-backtesting.plot :refer :all]\n",
    "            [clojure-backtesting.counter :refer :all]\n",
    "            [clojure-backtesting.automation :refer :all]\n",
    "            [clojure-backtesting.parameters :refer :all]\n",
    "            [clojure-backtesting.indicators :refer :all]\n",
    "            [clojure-backtesting.direct :refer :all]\n",
    "            [clojure.string :as str]\n",
    "            [clojure.java.io :as io]\n",
    "            [clojure.pprint :as pprint]\n",
    "  ) ;; require all libriaries from core\n",
    ")"
   ]
  },
  {
   "cell_type": "markdown",
   "metadata": {},
   "source": [
    "### Import dataset"
   ]
  },
  {
   "cell_type": "code",
   "execution_count": 2,
   "metadata": {},
   "outputs": [],
   "source": [
    "; path to dataset = \"/Volumes/T7/CRSP\"\n",
    "; change it to the relative path to your own dataset\n",
    ";\n",
    "(load-dataset \"/Volumes/T7/CRSP\" \"main\" add-aprc)"
   ]
  },
  {
   "cell_type": "markdown",
   "metadata": {},
   "source": [
    "### Initialise portfolio （Go back here everytime you want to restart.）"
   ]
  },
  {
   "cell_type": "code",
   "execution_count": 3,
   "metadata": {},
   "outputs": [],
   "source": [
    ";; initialise with current date and initial capital (= $10000)\n",
    "(init-portfolio \"1980-12-15\" 1000);"
   ]
  },
  {
   "cell_type": "markdown",
   "metadata": {},
   "source": [
    "### Relative Strength Index (RSI) strategy\n",
    "\n",
    "<p>RSI = 100 - 100 / (1 + RS)</p>\n",
    "RS = Average Gain / Average Loss\n",
    "\n",
    "<p>1st Average Gain = Sum of gains over past 14 periods / 14</p>\n",
    "1st Average Loss = Sum of losses over past 14 periods / 14\n",
    "\n",
    "<p>Average Gain = (Previous average gain x 13 + Current gain) / 14</p>\n",
    "Average Loss = (Previous average loss x 13 + Current loss) / 14\n",
    "\n",
    "We'll trade according to the following rules:\n",
    "- **Buy signal**: when RSI crosses the lower threshold (e.g. 30)\n",
    "- **Sell signal**: when RSI crosses the upper threshold (e.g. 70)"
   ]
  },
  {
   "cell_type": "code",
   "execution_count": 6,
   "metadata": {},
   "outputs": [
    {
     "data": {
      "text/plain": [
       "\"1980-12-15\""
      ]
     },
     "execution_count": 6,
     "metadata": {},
     "output_type": "execute_result"
    }
   ],
   "source": [
    "(get-date)"
   ]
  },
  {
   "cell_type": "code",
   "execution_count": 7,
   "metadata": {},
   "outputs": [
    {
     "data": {
      "text/plain": [
       "\"1981-01-06\""
      ]
     },
     "execution_count": 7,
     "metadata": {},
     "output_type": "execute_result"
    }
   ],
   "source": [
    "(def n 14)\n",
    "\n",
    ";; go to 14 days after\n",
    "(for [x (range n)] \n",
    "  (next-date))\n",
    "\n",
    "(get-date)"
   ]
  },
  {
   "cell_type": "code",
   "execution_count": 11,
   "metadata": {},
   "outputs": [
    {
     "data": {
      "text/plain": [
       "[]"
      ]
     },
     "execution_count": 11,
     "metadata": {},
     "output_type": "execute_result"
    }
   ],
   "source": [
    ";; calculate average gains and losses for remaining days\n",
    "(while (< (compare (get-date) \"1981-03-31\") 0)\n",
    "  (do\n",
    "    (let [rsi (RSI \"14593\")]\n",
    "      (if (< rsi lower-threshold)\n",
    "        (order \"14593\" 1 :print false)) ; buy signal\n",
    "      (if (> rs upper-threshold)\n",
    "        (order \"14593\" -1 :print false)) ; sell signal\n",
    "      (update-eval-report)\n",
    "      (next-date)))\n",
    "(end-order))"
   ]
  },
  {
   "cell_type": "code",
   "execution_count": 13,
   "metadata": {},
   "outputs": [
    {
     "name": "stdout",
     "output_type": "stream",
     "text": [
      "\n",
      "|      :date | :tic |  :price | :aprc | :quantity |\n",
      "|------------+------+---------+-------+-----------|\n",
      "| 1981-01-08 | AAPL | 30.3125 | 27.92 |         1 |\n",
      "| 1981-01-09 | AAPL | 31.9375 | 28.56 |         1 |\n",
      "| 1981-01-12 | AAPL |   31.75 | 28.49 |         1 |\n",
      "| 1981-01-13 | AAPL | 30.5625 | 28.02 |         1 |\n",
      "| 1981-01-14 | AAPL | 30.6875 | 28.07 |         1 |\n",
      "| 1981-01-15 | AAPL |  31.375 | 28.34 |         1 |\n",
      "| 1981-01-16 | AAPL | 31.0625 | 28.22 |         1 |\n",
      "| 1981-01-19 | AAPL | 32.9375 | 28.95 |         1 |\n",
      "| 1981-01-20 | AAPL | 31.9375 | 28.56 |         1 |\n",
      "| 1981-01-21 | AAPL |  32.625 | 28.83 |         1 |\n"
     ]
    },
    {
     "data": {
      "text/plain": [
       "nil"
      ]
     },
     "execution_count": 13,
     "metadata": {},
     "output_type": "execute_result"
    }
   ],
   "source": [
    "(print-order-record 10)"
   ]
  },
  {
   "cell_type": "markdown",
   "metadata": {},
   "source": [
    "### Check portfolio record"
   ]
  },
  {
   "cell_type": "code",
   "execution_count": 14,
   "metadata": {},
   "outputs": [
    {
     "name": "stdout",
     "output_type": "stream",
     "text": [
      "\n",
      "| :asset | :price | :aprc | :quantity | :tot-val |\n",
      "|--------+--------+-------+-----------+----------|\n",
      "|   cash |    N/A |   N/A |       N/A |   891.05 |\n"
     ]
    },
    {
     "data": {
      "text/plain": [
       "nil"
      ]
     },
     "execution_count": 14,
     "metadata": {},
     "output_type": "execute_result"
    }
   ],
   "source": [
    ";; view final portfolio\n",
    "(print-portfolio)"
   ]
  },
  {
   "cell_type": "code",
   "execution_count": 132,
   "metadata": {},
   "outputs": [
    {
     "name": "stdout",
     "output_type": "stream",
     "text": [
      "\n",
      "|      :date | :tot-value | :daily-ret | :tot-ret | :loan | :leverage | :margin |\n",
      "|------------+------------+------------+----------+-------+-----------+---------|\n",
      "| 1980-12-15 |   $1000.00 |      0.00% |    0.00% | $0.00 |      0.00 |   0.00% |\n",
      "| 1981-01-08 |   $1000.00 |      0.00% |    0.00% | $0.00 |      0.00 |   0.00% |\n",
      "| 1981-01-09 |   $1000.64 |      0.00% |    0.03% | $0.00 |      0.00 |   0.00% |\n",
      "| 1981-01-12 |   $1000.49 |      0.00% |    0.02% | $0.00 |      0.00 |   0.00% |\n",
      "| 1981-01-13 |    $999.09 |      0.00% |   -0.04% | $0.00 |      0.00 |   0.00% |\n",
      "| 1981-01-14 |    $999.29 |      0.00% |   -0.03% | $0.00 |      0.00 |   0.00% |\n",
      "| 1981-01-15 |   $1000.65 |      0.00% |    0.03% | $0.00 |      0.00 |   0.00% |\n",
      "| 1981-01-16 |    $999.91 |      0.00% |   -0.00% | $0.00 |      0.00 |   0.00% |\n",
      "| 1981-01-19 |   $1005.00 |      0.00% |    0.22% | $0.00 |      0.00 |   0.00% |\n",
      "| 1981-01-20 |   $1001.92 |      0.00% |    0.08% | $0.00 |      0.00 |   0.00% |\n"
     ]
    },
    {
     "data": {
      "text/plain": [
       "nil"
      ]
     },
     "execution_count": 132,
     "metadata": {},
     "output_type": "execute_result"
    }
   ],
   "source": [
    ";; view portfolio value and return\n",
    "(print-portfolio-record 10)"
   ]
  },
  {
   "cell_type": "markdown",
   "metadata": {},
   "source": [
    "### Generate evaluation report"
   ]
  },
  {
   "cell_type": "code",
   "execution_count": 16,
   "metadata": {},
   "outputs": [
    {
     "name": "stdout",
     "output_type": "stream",
     "text": [
      "\n",
      "|      :date | :tot-value |    :vol |  :r-vol |    :sharpe |  :r-sharpe | :pnl-pt | :max-drawdown |\n",
      "|------------+------------+---------+---------+------------+------------+---------+---------------|\n",
      "| 1981-01-07 |      $1000 | 0.0000% | 0.0000% |    0.0000% |    0.0000% |      $0 |        0.0000 |\n",
      "| 1981-01-08 |      $1000 | 0.0161% | 0.0161% |    1.7321% |    1.7321% |      $0 |      100.0000 |\n",
      "| 1981-01-09 |      $1000 | 0.0032% | 0.0032% |    6.7821% |    6.7821% |      $0 |        0.0000 |\n",
      "| 1981-01-12 |       $999 | 0.0273% | 0.0273% |   -1.4483% |   -1.4483% |      $0 |        0.0000 |\n",
      "| 1981-01-13 |       $999 | 0.0035% | 0.0035% |   -8.7393% |   -8.7393% |      $0 |      100.0000 |\n",
      "| 1981-01-14 |      $1000 | 0.0223% | 0.0223% |    1.2614% |    1.2614% |      $0 |      100.0000 |\n",
      "| 1981-01-15 |       $999 | 0.0113% | 0.0113% |   -0.3470% |   -0.3470% |      $0 |        0.0000 |\n",
      "| 1981-01-16 |      $1005 | 0.0735% | 0.0735% |    2.9466% |    2.9466% |      $0 |      100.0000 |\n",
      "| 1981-01-19 |      $1001 | 0.0422% | 0.0422% |    1.9783% |    1.9783% |      $0 |        0.0000 |\n",
      "| 1981-01-20 |      $1004 | 0.0312% | 0.0312% |    5.9911% |    5.9911% |      $0 |      100.0000 |\n",
      "| 1981-01-21 |      $1005 | 0.0179% | 0.0179% |   13.9049% |   13.9049% |      $0 |      100.0000 |\n",
      "| 1981-01-22 |      $1005 | 0.0063% | 0.0063% |   35.9662% |   35.9662% |      $0 |        0.0000 |\n",
      "| 1981-01-23 |      $1002 | 0.0300% | 0.0300% |    3.8049% |    3.8049% |      $0 |        0.0000 |\n",
      "| 1981-01-26 |      $1001 | 0.0105% | 0.0105% |    6.9427% |    6.9427% |      $0 |        0.0000 |\n",
      "| 1981-01-27 |       $995 | 0.0632% | 0.0632% |   -2.8419% |   -2.8419% |      $0 |        0.0000 |\n",
      "| 1981-01-28 |       $989 | 0.0714% | 0.0714% |   -6.6384% |   -6.6384% |      $0 |        0.0000 |\n",
      "| 1981-01-29 |       $978 | 0.1064% | 0.1064% |   -8.6988% |   -8.6988% |     $-1 |        0.0000 |\n",
      "| 1981-01-30 |       $966 | 0.1241% | 0.1241% |  -11.8128% |  -11.8128% |     $-1 |        0.0000 |\n",
      "| 1981-02-02 |       $974 | 0.0766% | 0.0766% |  -14.6644% |  -14.6644% |     $-1 |      100.0000 |\n",
      "| 1981-02-03 |       $982 | 0.0767% | 0.0767% |  -10.0639% |  -10.0639% |      $0 |      100.0000 |\n",
      "| 1981-02-04 |       $982 | 0.0049% | 0.0049% | -154.2057% | -154.2057% |      $0 |      100.0000 |\n",
      "| 1981-02-05 |       $983 | 0.0050% | 0.0050% | -145.6512% | -145.6512% |      $0 |      100.0000 |\n",
      "| 1981-02-06 |       $970 | 0.1199% | 0.1199% |  -10.9502% |  -10.9502% |     $-1 |        0.0000 |\n",
      "| 1981-02-09 |       $969 | 0.0055% | 0.0055% | -245.4645% | -245.4645% |     $-1 |        0.0000 |\n",
      "| 1981-02-10 |       $960 | 0.0794% | 0.0794% |  -21.9818% |  -21.9818% |     $-1 |        0.0000 |\n",
      "| 1981-02-11 |       $957 | 0.0236% | 0.0236% |  -79.1221% |  -79.1221% |     $-1 |        0.0000 |\n",
      "| 1981-02-12 |       $951 | 0.0550% | 0.0550% |  -39.2591% |  -39.2591% |     $-1 |        0.0000 |\n",
      "| 1981-02-13 |       $958 | 0.0561% | 0.0561% |  -33.0950% |  -33.0950% |     $-1 |      100.0000 |\n",
      "| 1981-02-17 |       $972 | 0.1172% | 0.1172% |  -10.3598% |  -10.3598% |      $0 |      100.0000 |\n",
      "| 1981-02-18 |       $951 | 0.1712% | 0.1740% |  -12.6591% |  -12.4533% |     $-1 |        0.0000 |\n"
     ]
    },
    {
     "data": {
      "text/plain": [
       "nil"
      ]
     },
     "execution_count": 16,
     "metadata": {},
     "output_type": "execute_result"
    }
   ],
   "source": [
    "(print-eval-report 30)"
   ]
  },
  {
   "cell_type": "markdown",
   "metadata": {},
   "source": [
    "### Plot variables"
   ]
  },
  {
   "cell_type": "code",
   "execution_count": 17,
   "metadata": {},
   "outputs": [
    {
     "data": {
      "text/plain": [
       "#'clojure-backtesting.demo/data"
      ]
     },
     "execution_count": 17,
     "metadata": {},
     "output_type": "execute_result"
    }
   ],
   "source": [
    "(def data (deref portfolio-value))"
   ]
  },
  {
   "cell_type": "code",
   "execution_count": 18,
   "metadata": {},
   "outputs": [
    {
     "data": {
      "text/plain": [
       "#'clojure-backtesting.demo/data-to-plot"
      ]
     },
     "execution_count": 18,
     "metadata": {},
     "output_type": "execute_result"
    }
   ],
   "source": [
    "; Add legend name to series\n",
    "(def data-to-plot\n",
    " (map #(assoc % :plot \"portfolio\")\n",
    "  data))"
   ]
  },
  {
   "cell_type": "code",
   "execution_count": 19,
   "metadata": {},
   "outputs": [
    {
     "data": {
      "text/plain": [
       "{:date \"1980-12-15\", :tot-value 1000, :daily-ret 0.0, :tot-ret 0.0, :loan 0.0, :leverage 0.0, :margin 0.0, :plot \"portfolio\"}"
      ]
     },
     "execution_count": 19,
     "metadata": {},
     "output_type": "execute_result"
    }
   ],
   "source": [
    "(first data-to-plot)"
   ]
  },
  {
   "cell_type": "code",
   "execution_count": 21,
   "metadata": {},
   "outputs": [
    {
     "data": {
      "text/html": [
       "\n",
       "  <div>\n",
       "    <div id='uuid-e18194e3-1be9-4b3f-8ca2-28b9fcb0d105'></div>\n",
       "    <script>\n",
       "    requirejs.config({\n",
       "      baseUrl: 'https://cdn.jsdelivr.net/npm/',\n",
       "      paths: {\n",
       "        'vega-embed':  'vega-embed@6.12.2?noext',\n",
       "        'vega-lib': 'vega-lib?noext',\n",
       "        'vega-lite': 'vega-lite@4.17.0?noext',\n",
       "        'vega': 'vega@5.17.0?noext'\n",
       "      }\n",
       "    });\n",
       "    require(['vega-embed'], function(vegaEmbed) {\n",
       "      let spec = {\"width\":800,\"height\":500,\"data\":{\"values\":[{\"date\":\"1980-12-15\",\"tot-value\":1000,\"daily-ret\":0.0,\"tot-ret\":0.0,\"loan\":0.0,\"leverage\":0.0,\"margin\":0.0,\"plot\":\"portfolio\"},{\"date\":\"1981-01-08\",\"tot-value\":1000.0,\"daily-ret\":0.0,\"tot-ret\":0.0,\"loan\":0.0,\"leverage\":0.0,\"margin\":0.0,\"plot\":\"portfolio\"},{\"date\":\"1981-01-09\",\"tot-value\":1000.6404610550364,\"daily-ret\":0.0,\"tot-ret\":2.780596683836722E-4,\"loan\":0.0,\"leverage\":0.0,\"margin\":0.0,\"plot\":\"portfolio\"},{\"date\":\"1981-01-12\",\"tot-value\":1000.4945687860812,\"daily-ret\":0.0,\"tot-ret\":2.1473539837990293E-4,\"loan\":0.0,\"leverage\":0.0,\"margin\":0.0,\"plot\":\"portfolio\"},{\"date\":\"1981-01-13\",\"tot-value\":999.0913216395514,\"daily-ret\":0.0,\"tot-ret\":-3.948134041448114E-4,\"loan\":0.0,\"leverage\":0.0,\"margin\":0.0,\"plot\":\"portfolio\"},{\"date\":\"1981-01-14\",\"tot-value\":999.290182207377,\"daily-ret\":0.0,\"tot-ret\":-3.0837941004143105E-4,\"loan\":0.0,\"leverage\":0.0,\"margin\":0.0,\"plot\":\"portfolio\"},{\"date\":\"1981-01-15\",\"tot-value\":1000.6471958060213,\"daily-ret\":0.0,\"tot-ret\":2.809826516736878E-4,\"loan\":0.0,\"leverage\":0.0,\"margin\":0.0,\"plot\":\"portfolio\"},{\"date\":\"1981-01-16\",\"tot-value\":999.9095388385506,\"daily-ret\":0.0,\"tot-ret\":-3.9288560315238117E-5,\"loan\":0.0,\"leverage\":0.0,\"margin\":0.0,\"plot\":\"portfolio\"},{\"date\":\"1981-01-19\",\"tot-value\":1005.0021340133858,\"daily-ret\":0.0,\"tot-ret\":0.0021669839348696417,\"loan\":0.0,\"leverage\":0.0,\"margin\":0.0,\"plot\":\"portfolio\"},{\"date\":\"1981-01-20\",\"tot-value\":1001.922055512512,\"daily-ret\":0.0,\"tot-ret\":8.339369229535697E-4,\"loan\":0.0,\"leverage\":0.0,\"margin\":0.0,\"plot\":\"portfolio\"},{\"date\":\"1981-01-21\",\"tot-value\":1004.3106921856606,\"daily-ret\":0.0,\"tot-ret\":0.0018680863433389748,\"loan\":0.0,\"leverage\":0.0,\"margin\":0.0,\"plot\":\"portfolio\"},{\"date\":\"1981-01-22\",\"tot-value\":1005.7450235614384,\"daily-ret\":0.0,\"tot-ret\":0.002487892354257267,\"loan\":0.0,\"leverage\":0.0,\"margin\":0.0,\"plot\":\"portfolio\"},{\"date\":\"1981-01-23\",\"tot-value\":1005.220206072416,\"daily-ret\":0.0,\"tot-ret\":0.0022612098226006978,\"loan\":0.0,\"leverage\":0.0,\"margin\":0.0,\"plot\":\"portfolio\"},{\"date\":\"1981-01-26\",\"tot-value\":1002.6285896808373,\"daily-ret\":0.0,\"tot-ret\":0.0011400842423263558,\"loan\":0.0,\"leverage\":0.0,\"margin\":0.0,\"plot\":\"portfolio\"},{\"date\":\"1981-01-27\",\"tot-value\":1001.6865285014273,\"daily-ret\":0.0,\"tot-ret\":7.31833066401539E-4,\"loan\":0.0,\"leverage\":0.0,\"margin\":0.0,\"plot\":\"portfolio\"},{\"date\":\"1981-01-28\",\"tot-value\":995.8735225539443,\"daily-ret\":0.0,\"tot-ret\":-0.0017958141312792893,\"loan\":0.0,\"leverage\":0.0,\"margin\":0.0,\"plot\":\"portfolio\"},{\"date\":\"1981-01-29\",\"tot-value\":989.1461933308162,\"daily-ret\":0.0,\"tot-ret\":-0.004739516021899249,\"loan\":0.0,\"leverage\":0.0,\"margin\":0.0,\"plot\":\"portfolio\"},{\"date\":\"1981-01-30\",\"tot-value\":978.921833056673,\"daily-ret\":0.0,\"tot-ret\":-0.009251985242287568,\"loan\":0.0,\"leverage\":0.0,\"margin\":0.0,\"plot\":\"portfolio\"},{\"date\":\"1981-02-02\",\"tot-value\":966.8021795274055,\"daily-ret\":0.0,\"tot-ret\":-0.01466237920392125,\"loan\":0.0,\"leverage\":0.0,\"margin\":0.0,\"plot\":\"portfolio\"},{\"date\":\"1981-02-03\",\"tot-value\":974.4603362510679,\"daily-ret\":0.0,\"tot-ret\":-0.011235833404092267,\"loan\":0.0,\"leverage\":0.0,\"margin\":0.0,\"plot\":\"portfolio\"},{\"date\":\"1981-02-04\",\"tot-value\":982.3802748678386,\"daily-ret\":0.0,\"tot-ret\":-0.007720366278289289,\"loan\":0.0,\"leverage\":0.0,\"margin\":0.0,\"plot\":\"portfolio\"},{\"date\":\"1981-02-05\",\"tot-value\":982.8959131849564,\"daily-ret\":0.0,\"tot-ret\":-0.007492470695691578,\"loan\":0.0,\"leverage\":0.0,\"margin\":0.0,\"plot\":\"portfolio\"},{\"date\":\"1981-02-06\",\"tot-value\":983.4366026924959,\"daily-ret\":0.0,\"tot-ret\":-0.007253631665599262,\"loan\":0.0,\"leverage\":0.0,\"margin\":0.0,\"plot\":\"portfolio\"},{\"date\":\"1981-02-09\",\"tot-value\":970.2282805437449,\"daily-ret\":0.0,\"tot-ret\":-0.013126070562263233,\"loan\":0.0,\"leverage\":0.0,\"margin\":0.0,\"plot\":\"portfolio\"},{\"date\":\"1981-02-10\",\"tot-value\":969.6187339556395,\"daily-ret\":0.0,\"tot-ret\":-0.013399002114505275,\"loan\":0.0,\"leverage\":0.0,\"margin\":0.0,\"plot\":\"portfolio\"},{\"date\":\"1981-02-11\",\"tot-value\":960.6256472798827,\"daily-ret\":0.0,\"tot-ret\":-0.017445822523792693,\"loan\":0.0,\"leverage\":0.0,\"margin\":0.0,\"plot\":\"portfolio\"},{\"date\":\"1981-02-12\",\"tot-value\":957.9171202649038,\"daily-ret\":0.0,\"tot-ret\":-0.018672064792742114,\"loan\":0.0,\"leverage\":0.0,\"margin\":0.0,\"plot\":\"portfolio\"},{\"date\":\"1981-02-13\",\"tot-value\":951.5227762400688,\"daily-ret\":0.0,\"tot-ret\":-0.021580811710125415,\"loan\":0.0,\"leverage\":0.0,\"margin\":0.0,\"plot\":\"portfolio\"},{\"date\":\"1981-02-17\",\"tot-value\":958.1629006503766,\"daily-ret\":0.0,\"tot-ret\":-0.018560648709289293,\"loan\":0.0,\"leverage\":0.0,\"margin\":0.0,\"plot\":\"portfolio\"},{\"date\":\"1981-02-18\",\"tot-value\":972.4304108941174,\"daily-ret\":0.0,\"tot-ret\":-0.01214146789021303,\"loan\":0.0,\"leverage\":0.0,\"margin\":0.0,\"plot\":\"portfolio\"},{\"date\":\"1981-02-19\",\"tot-value\":951.3180102726678,\"daily-ret\":0.0,\"tot-ret\":-0.02167428114876418,\"loan\":0.0,\"leverage\":0.0,\"margin\":0.0,\"plot\":\"portfolio\"},{\"date\":\"1981-02-20\",\"tot-value\":932.9142066873334,\"daily-ret\":0.0,\"tot-ret\":-0.030158293311879317,\"loan\":0.0,\"leverage\":0.0,\"margin\":0.0,\"plot\":\"portfolio\"},{\"date\":\"1981-02-23\",\"tot-value\":938.1597507053415,\"daily-ret\":0.0,\"tot-ret\":-0.027723203260032102,\"loan\":0.0,\"leverage\":0.0,\"margin\":0.0,\"plot\":\"portfolio\"},{\"date\":\"1981-02-24\",\"tot-value\":926.367738563783,\"daily-ret\":0.0,\"tot-ret\":-0.033216577977277624,\"loan\":0.0,\"leverage\":0.0,\"margin\":0.0,\"plot\":\"portfolio\"},{\"date\":\"1981-02-25\",\"tot-value\":947.7293355923639,\"daily-ret\":0.0,\"tot-ret\":-0.023315676208884573,\"loan\":0.0,\"leverage\":0.0,\"margin\":0.0,\"plot\":\"portfolio\"},{\"date\":\"1981-02-26\",\"tot-value\":953.3538992631594,\"daily-ret\":0.0,\"tot-ret\":-0.02074585280722778,\"loan\":0.0,\"leverage\":0.0,\"margin\":0.0,\"plot\":\"portfolio\"},{\"date\":\"1981-02-27\",\"tot-value\":967.6225488076427,\"daily-ret\":0.0,\"tot-ret\":-0.014294019693550748,\"loan\":0.0,\"leverage\":0.0,\"margin\":0.0,\"plot\":\"portfolio\"},{\"date\":\"1981-03-02\",\"tot-value\":968.5903368384324,\"daily-ret\":0.0,\"tot-ret\":-0.014290030643492166,\"leverage\":0.009188148434507815,\"loan\":8.89955178710144,\"margin\":0.9908955050168189,\"plot\":\"portfolio\"},{\"date\":\"1981-03-03\",\"tot-value\":962.6011178098246,\"daily-ret\":-2.4904758625672966E-5,\"tot-ret\":-0.01431493540211784,\"leverage\":0.009245316281525109,\"loan\":8.89955178710144,\"margin\":0.9908393765793349,\"plot\":\"portfolio\"},{\"date\":\"1981-03-04\",\"tot-value\":958.5816542900644,\"daily-ret\":-1.6871487327911486E-5,\"tot-ret\":-0.014331806889445752,\"leverage\":0.009284083152720612,\"loan\":8.89955178710144,\"margin\":0.9908013181742451,\"plot\":\"portfolio\"},{\"date\":\"1981-03-05\",\"tot-value\":956.5637700505226,\"daily-ret\":-8.51457872929231E-6,\"tot-ret\":-0.014340321468175045,\"leverage\":0.00930366805198089,\"loan\":8.89955178710144,\"margin\":0.9907820923013808,\"plot\":\"portfolio\"},{\"date\":\"1981-03-06\",\"tot-value\":953.5264623697554,\"daily-ret\":-1.289095113363402E-5,\"tot-ret\":-0.014353212419308679,\"leverage\":0.009333303414552118,\"loan\":8.89955178710144,\"margin\":0.9907530016269375,\"plot\":\"portfolio\"},{\"date\":\"1981-03-09\",\"tot-value\":919.255898632828,\"daily-ret\":-1.538963919087522E-4,\"tot-ret\":-0.014507108811217431,\"leverage\":0.009681256111967716,\"loan\":8.89955178710144,\"margin\":0.9904115719160244,\"plot\":\"portfolio\"},{\"date\":\"1981-03-10\",\"tot-value\":899.8480646918334,\"daily-ret\":-9.165354784173453E-5,\"tot-ret\":-0.014598762359059166,\"leverage\":0.009890060484987792,\"loan\":8.89955178710144,\"margin\":0.9902067949057364,\"plot\":\"portfolio\"},{\"date\":\"1981-03-11\",\"tot-value\":885.4882681946042,\"daily-ret\":-7.021618626778694E-5,\"tot-ret\":-0.014668978545326953,\"leverage\":0.010050445733455591,\"loan\":8.89955178710144,\"margin\":0.9900495606175814,\"plot\":\"portfolio\"},{\"date\":\"1981-03-12\",\"tot-value\":899.8479751362343,\"daily-ret\":6.909525412775081E-5,\"tot-ret\":-0.014599883291199203,\"leverage\":0.009890061469276602,\"loan\":8.89955178710144,\"margin\":0.9902067939406318,\"plot\":\"portfolio\"},{\"date\":\"1981-03-13\",\"tot-value\":895.4613131603106,\"daily-ret\":-2.1092660893243026E-5,\"tot-ret\":-0.014620975952092446,\"leverage\":0.009938510638379965,\"loan\":8.89955178710144,\"margin\":0.9901592913492349,\"plot\":\"portfolio\"},{\"date\":\"1981-03-16\",\"tot-value\":911.7719268947659,\"daily-ret\":7.651808885751263E-5,\"tot-ret\":-0.014544457863234933,\"leverage\":0.009760721431082843,\"loan\":8.89955178710144,\"margin\":0.9903336293203706,\"plot\":\"portfolio\"},{\"date\":\"1981-03-17\",\"tot-value\":930.8608010849358,\"daily-ret\":8.603096040369571E-5,\"tot-ret\":-0.014458426902831239,\"leverage\":0.009560561339277414,\"loan\":8.89955178710144,\"margin\":0.9905299773927436,\"plot\":\"portfolio\"},{\"date\":\"1981-03-18\",\"tot-value\":955.5528145976866,\"daily-ret\":1.0589419026218941E-4,\"tot-ret\":-0.014352532712569048,\"leverage\":0.009313511143649754,\"loan\":8.89955178710144,\"margin\":0.9907724299329981,\"plot\":\"portfolio\"},{\"date\":\"1981-03-19\",\"tot-value\":950.476896806732,\"daily-ret\":-2.165842226833085E-5,\"tot-ret\":-0.014374191134837379,\"leverage\":0.009363248930090572,\"loan\":8.89955178710144,\"margin\":0.9907236082351765,\"plot\":\"portfolio\"},{\"date\":\"1981-03-20\",\"tot-value\":955.5529648309694,\"daily-ret\":2.154400479044624E-5,\"tot-ret\":-0.014352647130046933,\"leverage\":0.00931350967936739,\"loan\":8.89955178710144,\"margin\":0.9907724313703815,\"plot\":\"portfolio\"},{\"date\":\"1981-03-23\",\"tot-value\":971.5670386883012,\"daily-ret\":6.611693818490322E-5,\"tot-ret\":-0.01428653019186203,\"leverage\":0.009159997645779131,\"loan\":8.89955178710144,\"margin\":0.9909231463126282,\"plot\":\"portfolio\"},{\"date\":\"1981-03-24\",\"tot-value\":968.5902693586719,\"daily-ret\":-1.2244778094057672E-5,\"tot-ret\":-0.014298774969956088,\"leverage\":0.00918814907462787,\"loan\":8.89955178710144,\"margin\":0.9908955043883017,\"plot\":\"portfolio\"},{\"date\":\"1981-03-25\",\"tot-value\":961.5985915040401,\"daily-ret\":-2.9118709733703057E-5,\"tot-ret\":-0.01432789367968979,\"leverage\":0.009254955098448737,\"loan\":8.89955178710144,\"margin\":0.9908299136390706,\"plot\":\"portfolio\"},{\"date\":\"1981-03-26\",\"tot-value\":952.5112883251776,\"daily-ret\":-3.852864412824765E-5,\"tot-ret\":-0.014366422323818039,\"leverage\":0.009343250726980596,\"loan\":8.89955178710144,\"margin\":0.9907432375257366,\"plot\":\"portfolio\"},{\"date\":\"1981-03-27\",\"tot-value\":938.1492573670794,\"daily-ret\":-6.259233500924617E-5,\"tot-ret\":-0.014429014658827285,\"leverage\":0.009486285596044789,\"loan\":8.89955178710144,\"margin\":0.9906028583732134,\"plot\":\"portfolio\"},{\"date\":\"1981-03-30\",\"tot-value\":939.1845799801824,\"daily-ret\":4.539057913230806E-6,\"tot-ret\":-0.014424475600914054,\"leverage\":0.0094758282629483,\"loan\":8.89955178710144,\"margin\":0.9906131201979805,\"plot\":\"portfolio\"},{\"date\":\"1981-03-31\",\"tot-value\":935.0346902744753,\"daily-ret\":-1.8305077967747593E-5,\"tot-ret\":-0.014442780678881802,\"leverage\":0.009517884073893576,\"loan\":8.89955178710144,\"margin\":0.9905718519463129,\"plot\":\"portfolio\"},{\"date\":\"1981-04-01\",\"tot-value\":929.8136852384526,\"daily-ret\":-2.327545758982366E-5,\"tot-ret\":-0.014466056136471625,\"leverage\":0.009571328028818087,\"loan\":8.89955178710144,\"margin\":0.9905194137718767,\"plot\":\"portfolio\"},{\"date\":\"1981-04-02\",\"tot-value\":964.6035070423086,\"daily-ret\":1.4718346133385868E-4,\"tot-ret\":-0.014318872675137767,\"leverage\":0.00922612422837801,\"loan\":8.89955178710144,\"margin\":0.9908582189789904,\"plot\":\"portfolio\"},{\"date\":\"1981-04-03\",\"tot-value\":966.599777351691,\"daily-ret\":8.266606432375708E-6,\"tot-ret\":-0.01431060606870539,\"leverage\":0.00920706997417753,\"loan\":8.89955178710144,\"margin\":0.9908769267991621,\"plot\":\"portfolio\"},{\"date\":\"1981-04-06\",\"tot-value\":958.5820311332392,\"daily-ret\":-3.3584294149169285E-5,\"tot-ret\":-0.01434419036285456,\"leverage\":0.009284079502909477,\"loan\":8.89955178710144,\"margin\":0.9908013217572181,\"plot\":\"portfolio\"},{\"date\":\"1981-04-07\",\"tot-value\":954.5407523941993,\"daily-ret\":-1.7106634456996467E-5,\"tot-ret\":-0.014361296997311557,\"leverage\":0.009323385895027946,\"loan\":8.89955178710144,\"margin\":0.9907627366755598,\"plot\":\"portfolio\"},{\"date\":\"1981-04-08\",\"tot-value\":975.5178711517169,\"daily-ret\":8.612706536539796E-5,\"tot-ret\":-0.01427516993194616,\"leverage\":0.009122899795361456,\"loan\":8.89955178710144,\"margin\":0.9909595750951529,\"plot\":\"portfolio\"},{\"date\":\"1981-04-09\",\"tot-value\":982.3822585536698,\"daily-ret\":2.7587666086608882E-5,\"tot-ret\":-0.014247582265859551,\"leverage\":0.009059153613181053,\"loan\":8.89955178710144,\"margin\":0.9910221778567266,\"plot\":\"portfolio\"},{\"date\":\"1981-04-10\",\"tot-value\":988.2169423220458,\"daily-ret\":2.3160633588895147E-5,\"tot-ret\":-0.014224421632270657,\"leverage\":0.00900566606983065,\"loan\":8.89955178710144,\"margin\":0.9910747120926401,\"plot\":\"portfolio\"},{\"date\":\"1981-04-13\",\"tot-value\":988.2169423220458,\"daily-ret\":0.0,\"tot-ret\":-0.014224421632270657,\"leverage\":0.00900566606983065,\"loan\":8.89955178710144,\"margin\":0.9910747120926401,\"plot\":\"portfolio\"},{\"date\":\"1981-04-14\",\"tot-value\":988.2169423220458,\"daily-ret\":0.0,\"tot-ret\":-0.014224421632270657,\"leverage\":0.00900566606983065,\"loan\":8.89955178710144,\"margin\":0.9910747120926401,\"plot\":\"portfolio\"},{\"date\":\"1981-04-15\",\"tot-value\":966.5993319061504,\"daily-ret\":-8.844135660197557E-5,\"tot-ret\":-0.014312862988872632,\"leverage\":0.009207074217143698,\"loan\":8.89955178710144,\"margin\":0.9908769226332605,\"plot\":\"portfolio\"},{\"date\":\"1981-04-16\",\"tot-value\":942.2813515261289,\"daily-ret\":-1.0451390186008216E-4,\"tot-ret\":-0.014417376890732714,\"leverage\":0.009444686316552516,\"loan\":8.89955178710144,\"margin\":0.9906436811797821,\"plot\":\"portfolio\"},{\"date\":\"1981-04-20\",\"tot-value\":954.5401167665933,\"daily-ret\":5.233769291380584E-5,\"tot-ret\":-0.014365039197818908,\"leverage\":0.009323392103464188,\"loan\":8.89955178710144,\"margin\":0.9907627305812917,\"plot\":\"portfolio\"},{\"date\":\"1981-04-21\",\"tot-value\":982.3819628735139,\"daily-ret\":1.1311438908958758E-4,\"tot-ret\":-0.01425192480872932,\"leverage\":0.00905915633983123,\"loan\":8.89955178710144,\"margin\":0.9910221751788154,\"plot\":\"portfolio\"},{\"date\":\"1981-04-22\",\"tot-value\":997.8439054536746,\"daily-ret\":6.0489220116255446E-5,\"tot-ret\":-0.014191435588613065,\"leverage\":0.008918781523303705,\"loan\":8.89955178710144,\"margin\":0.9911600599704985,\"plot\":\"portfolio\"},{\"date\":\"1981-04-23\",\"tot-value\":1009.2403914078952,\"daily-ret\":4.349084363122696E-5,\"tot-ret\":-0.014147944744981837,\"leverage\":0.008818069374617996,\"loan\":8.89955178710144,\"margin\":0.9912590092878844,\"plot\":\"portfolio\"},{\"date\":\"1981-04-24\",\"tot-value\":1006.4066783349876,\"daily-ret\":-1.0798180925232506E-5,\"tot-ret\":-0.01415874292590707,\"leverage\":0.008842898182894588,\"loan\":8.89955178710144,\"margin\":0.9912346132397599,\"plot\":\"portfolio\"},{\"date\":\"1981-04-27\",\"tot-value\":1001.6609312866784,\"daily-ret\":-1.8238485427828885E-5,\"tot-ret\":-0.014176981411334898,\"leverage\":0.008884794753519604,\"loan\":8.89955178710144,\"margin\":0.9911934496389251,\"plot\":\"portfolio\"},{\"date\":\"1981-04-28\",\"tot-value\":994.0068649808535,\"daily-ret\":-2.982628463819572E-5,\"tot-ret\":-0.014206807695973094,\"leverage\":0.00895320958097494,\"loan\":8.89955178710144,\"margin\":0.9911262390604879,\"plot\":\"portfolio\"},{\"date\":\"1981-04-29\",\"tot-value\":988.2161528059817,\"daily-ret\":-2.2851314778295303E-5,\"tot-ret\":-0.014229659010751388,\"leverage\":0.009005673264732303,\"loan\":8.89955178710144,\"margin\":0.9910747050255985,\"plot\":\"portfolio\"},{\"date\":\"1981-04-30\",\"tot-value\":996.8858789326506,\"daily-ret\":3.3865875175192294E-5,\"tot-ret\":-0.014195793135576196,\"leverage\":0.008927352644045922,\"loan\":8.89955178710144,\"margin\":0.9911516397878891,\"plot\":\"portfolio\"},{\"date\":\"1981-05-01\",\"tot-value\":996.8858789326506,\"daily-ret\":0.0,\"tot-ret\":-0.014195793135576196,\"leverage\":0.008927352644045922,\"loan\":8.89955178710144,\"margin\":0.9911516397878891,\"plot\":\"portfolio\"},{\"date\":\"1981-05-04\",\"tot-value\":994.0067590938303,\"daily-ret\":-1.1246187195879754E-5,\"tot-ret\":-0.014207039322772076,\"leverage\":0.008953210534719673,\"loan\":8.89955178710144,\"margin\":0.9911262381235947,\"plot\":\"portfolio\"},{\"date\":\"1981-05-05\",\"tot-value\":992.0813694061559,\"daily-ret\":-7.5536248105054694E-6,\"tot-ret\":-0.014214592947582582,\"leverage\":0.008970586548186638,\"loan\":8.89955178710144,\"margin\":0.991109169417043,\"plot\":\"portfolio\"},{\"date\":\"1981-05-06\",\"tot-value\":980.4260413896891,\"daily-ret\":-4.6588477150335006E-5,\"tot-ret\":-0.014261181424732917,\"leverage\":0.009077229093677391,\"loan\":8.89955178710144,\"margin\":0.9910044257942177,\"plot\":\"portfolio\"},{\"date\":\"1981-05-07\",\"tot-value\":986.275646379207,\"daily-ret\":2.3311674072814975E-5,\"tot-ret\":-0.014237869750660102,\"leverage\":0.009023392009904407,\"loan\":8.89955178710144,\"margin\":0.9910573014646068,\"plot\":\"portfolio\"},{\"date\":\"1981-05-08\",\"tot-value\":990.1508521838381,\"daily-ret\":1.530719929134327E-5,\"tot-ret\":-0.014222562551368759,\"leverage\":0.008988076682934663,\"loan\":8.89955178710144,\"margin\":0.9910919892012172,\"plot\":\"portfolio\"},{\"date\":\"1981-05-11\",\"tot-value\":980.4258360371,\"daily-ret\":-3.8910625336566924E-5,\"tot-ret\":-0.014261473176705326,\"leverage\":0.009077230994925224,\"loan\":8.89955178710144,\"margin\":0.9910044239270216,\"plot\":\"portfolio\"},{\"date\":\"1981-05-12\",\"tot-value\":982.3808437853859,\"daily-ret\":7.837429650952206E-6,\"tot-ret\":-0.014253635747054374,\"leverage\":0.009059166659652075,\"loan\":8.89955178710144,\"margin\":0.991022165043462,\"plot\":\"portfolio\"},{\"date\":\"1981-05-13\",\"tot-value\":980.4259814936938,\"daily-ret\":-7.85247176355016E-6,\"tot-ret\":-0.014261488218817925,\"leverage\":0.009077229648221724,\"loan\":8.89955178710144,\"margin\":0.9910044252496053,\"plot\":\"portfolio\"},{\"date\":\"1981-05-14\",\"tot-value\":973.5439168260963,\"daily-ret\":-2.7965949569936114E-5,\"tot-ret\":-0.014289454168387861,\"leverage\":0.00914139735587415,\"loan\":8.89955178710144,\"margin\":0.9909414108074188,\"plot\":\"portfolio\"},{\"date\":\"1981-05-15\",\"tot-value\":984.3309848552602,\"daily-ret\":4.3267734731816767E-5,\"tot-ret\":-0.014246186433656044,\"leverage\":0.009041218781109552,\"loan\":8.89955178710144,\"margin\":0.9910397924159817,\"plot\":\"portfolio\"},{\"date\":\"1981-05-18\",\"tot-value\":991.1166042675809,\"daily-ret\":2.679065818674407E-5,\"tot-ret\":-0.014219395775469301,\"leverage\":0.008979318627880385,\"loan\":8.89955178710144,\"margin\":0.9911005919922209,\"plot\":\"portfolio\"},{\"date\":\"1981-05-19\",\"tot-value\":982.380917376485,\"daily-ret\":-3.4830991271384695E-5,\"tot-ret\":-0.014254226766740685,\"leverage\":0.00905916598102119,\"loan\":8.89955178710144,\"margin\":0.9910221657099624,\"plot\":\"portfolio\"},{\"date\":\"1981-05-20\",\"tot-value\":996.8857694486454,\"daily-ret\":5.682687953619207E-5,\"tot-ret\":-0.014197399887204493,\"leverage\":0.008927353624501609,\"loan\":8.89955178710144,\"margin\":0.9911516388247075,\"plot\":\"portfolio\"},{\"date\":\"1981-05-21\",\"tot-value\":1020.472610096409,\"daily-ret\":8.857019403790232E-5,\"tot-ret\":-0.014108829693166592,\"leverage\":0.008721009950733178,\"loan\":8.89955178710144,\"margin\":0.9913543885130744,\"plot\":\"portfolio\"},{\"date\":\"1981-05-22\",\"tot-value\":1041.5671098321268,\"daily-ret\":7.592460451008512E-5,\"tot-ret\":-0.014032905088656506,\"leverage\":0.008544386341592347,\"loan\":8.89955178710144,\"margin\":0.9915280016850955,\"plot\":\"portfolio\"},{\"date\":\"1981-05-26\",\"tot-value\":1038.8471510615775,\"daily-ret\":-9.728447392820403E-6,\"tot-ret\":-0.014042633536049327,\"leverage\":0.008566757658243721,\"loan\":8.89955178710144,\"margin\":0.9915060083101146,\"plot\":\"portfolio\"},{\"date\":\"1981-05-27\",\"tot-value\":1063.887212264432,\"daily-ret\":8.652833696485724E-5,\"tot-ret\":-0.01395610519908447,\"leverage\":0.008365127134256252,\"loan\":8.89955178710144,\"margin\":0.9917042677209299,\"plot\":\"portfolio\"},{\"date\":\"1981-05-28\",\"tot-value\":1063.887212264432,\"daily-ret\":0.0,\"tot-ret\":-0.01395610519908447,\"leverage\":0.008365127134256252,\"loan\":8.89955178710144,\"margin\":0.9917042677209299,\"plot\":\"portfolio\"},{\"date\":\"1981-05-29\",\"tot-value\":1065.6469202249853,\"daily-ret\":5.994116776485193E-6,\"tot-ret\":-0.013950111082307984,\"leverage\":0.008351313758991128,\"loan\":8.89955178710144,\"margin\":0.9917178530487964,\"plot\":\"portfolio\"},{\"date\":\"1981-06-01\",\"tot-value\":1065.6469202249853,\"daily-ret\":0.0,\"tot-ret\":-0.013950111082307984,\"leverage\":0.008351313758991128,\"loan\":8.89955178710144,\"margin\":0.9917178530487964,\"plot\":\"portfolio\"},{\"date\":\"1981-06-02\",\"tot-value\":1042.4720959674517,\"daily-ret\":-8.151862051636988E-5,\"tot-ret\":-0.014031629702824355,\"leverage\":0.008536968827776955,\"loan\":8.89955178710144,\"margin\":0.9915352941026053,\"plot\":\"portfolio\"},{\"date\":\"1981-06-03\",\"tot-value\":1043.375667874674,\"daily-ret\":3.2093854247632633E-6,\"tot-ret\":-0.01402842031739959,\"leverage\":0.008529575742579438,\"loan\":8.89955178710144,\"margin\":0.9915425626102248,\"plot\":\"portfolio\"},{\"date\":\"1981-06-04\",\"tot-value\":1051.4637587184034,\"daily-ret\":2.838478262987487E-5,\"tot-ret\":-0.014000035534769716,\"leverage\":0.008463964367111262,\"loan\":8.89955178710144,\"margin\":0.9916070730673822,\"plot\":\"portfolio\"},{\"date\":\"1981-06-05\",\"tot-value\":1044.2785084382533,\"daily-ret\":-2.5378843692490735E-5,\"tot-ret\":-0.014025414378462206,\"leverage\":0.008522201419629866,\"loan\":8.89955178710144,\"margin\":0.9915498127779103,\"plot\":\"portfolio\"},{\"date\":\"1981-06-08\",\"tot-value\":1027.8736487410301,\"daily-ret\":-5.953915420426868E-5,\"tot-ret\":-0.014084953532666474,\"leverage\":0.008658215723305947,\"loan\":8.89955178710144,\"margin\":0.9914161054871325,\"plot\":\"portfolio\"},{\"date\":\"1981-06-09\",\"tot-value\":1037.0288649320598,\"daily-ret\":3.3049393480144824E-5,\"tot-ret\":-0.01405190413918633,\"leverage\":0.008581778278355335,\"loan\":8.89955178710144,\"margin\":0.9914912419962569,\"plot\":\"portfolio\"},{\"date\":\"1981-06-10\",\"tot-value\":1044.2785057576023,\"daily-ret\":2.578387144574672E-5,\"tot-ret\":-0.014026120267740583,\"leverage\":0.008522201441506259,\"loan\":8.89955178710144,\"margin\":0.9915498127564021,\"plot\":\"portfolio\"},{\"date\":\"1981-06-11\",\"tot-value\":1062.124321958379,\"daily-ret\":6.16612700016266E-5,\"tot-ret\":-0.013964458997738956,\"leverage\":0.008379011386060873,\"loan\":8.89955178710144,\"margin\":0.9916906130617062,\"plot\":\"portfolio\"},{\"date\":\"1981-06-12\",\"tot-value\":1056.811550375257,\"daily-ret\":-1.8339569263120727E-5,\"tot-ret\":-0.013982798567002077,\"leverage\":0.00842113410280324,\"loan\":8.89955178710144,\"margin\":0.991649189194854,\"plot\":\"portfolio\"},{\"date\":\"1981-06-15\",\"tot-value\":1055.0328033288629,\"daily-ret\":-6.171189268889631E-6,\"tot-ret\":-0.013988969756270966,\"leverage\":0.008435331829514094,\"loan\":8.89955178710144,\"margin\":0.991635227799674,\"plot\":\"portfolio\"},{\"date\":\"1981-06-16\",\"tot-value\":1046.0808168950036,\"daily-ret\":-3.148398586447088E-5,\"tot-ret\":-0.014020453742135437,\"leverage\":0.008507518389943574,\"loan\":8.89955178710144,\"margin\":0.9915642489175236,\"plot\":\"portfolio\"},{\"date\":\"1981-06-17\",\"tot-value\":1038.8474467490198,\"daily-ret\":-2.5815585535458664E-5,\"tot-ret\":-0.014046269327670896,\"leverage\":0.008566755219885067,\"loan\":8.89955178710144,\"margin\":0.9915060107072264,\"plot\":\"portfolio\"},{\"date\":\"1981-06-18\",\"tot-value\":1037.9386920877914,\"daily-ret\":-3.258859540654244E-6,\"tot-ret\":-0.01404952818721155,\"leverage\":0.008574255738747134,\"loan\":8.89955178710144,\"margin\":0.9914986371207077,\"plot\":\"portfolio\"},{\"date\":\"1981-06-19\",\"tot-value\":1024.1820266332445,\"daily-ret\":-5.035131581168216E-5,\"tot-ret\":-0.014099879503023233,\"leverage\":0.008689423906760604,\"loan\":8.89955178710144,\"margin\":0.9913854317287222,\"plot\":\"portfolio\"},{\"date\":\"1981-06-22\",\"tot-value\":1007.3525831329622,\"daily-ret\":-6.357061340080945E-5,\"tot-ret\":-0.014163450116424043,\"leverage\":0.008834594695159256,\"loan\":8.89955178710144,\"margin\":0.9912427718660571,\"plot\":\"portfolio\"},{\"date\":\"1981-06-23\",\"tot-value\":1015.812426911222,\"daily-ret\":3.182016953525019E-5,\"tot-ret\":-0.014131629946888793,\"leverage\":0.00876101881738372,\"loan\":8.89955178710144,\"margin\":0.9913150700176195,\"plot\":\"portfolio\"},{\"date\":\"1981-06-24\",\"tot-value\":1004.5122320211126,\"daily-ret\":-4.304240305748786E-5,\"tot-ret\":-0.014174672349946281,\"leverage\":0.008859575327614718,\"loan\":8.89955178710144,\"margin\":0.9912182274478213,\"plot\":\"portfolio\"},{\"date\":\"1981-06-25\",\"tot-value\":1013.0028532690571,\"daily-ret\":3.211419309742779E-5,\"tot-ret\":-0.014142558156848853,\"leverage\":0.008785317591536624,\"loan\":8.89955178710144,\"margin\":0.9912911920521291,\"plot\":\"portfolio\"},{\"date\":\"1981-06-26\",\"tot-value\":1008.2972683444941,\"daily-ret\":-1.7847502406335806E-5,\"tot-ret\":-0.01416040565925519,\"leverage\":0.008826317462620385,\"loan\":8.89955178710144,\"margin\":0.9912509048288707,\"plot\":\"portfolio\"},{\"date\":\"1981-06-29\",\"tot-value\":993.0455630712439,\"daily-ret\":-5.93223829498457E-5,\"tot-ret\":-0.014219728042205036,\"leverage\":0.00896187659262817,\"loan\":8.89955178710144,\"margin\":0.9911177252574761,\"plot\":\"portfolio\"},{\"date\":\"1981-06-30\",\"tot-value\":958.5816061838555,\"daily-ret\":-1.4241862328436076E-4,\"tot-ret\":-0.014362146665489395,\"leverage\":0.0092840836186403,\"loan\":8.89955178710144,\"margin\":0.9908013177168576,\"plot\":\"portfolio\"},{\"date\":\"1981-07-01\",\"tot-value\":954.5403292198766,\"daily-ret\":-1.710664211075058E-5,\"tot-ret\":-0.014379253307600147,\"leverage\":0.009323390028344675,\"loan\":8.89955178710144,\"margin\":0.9907627326182514,\"plot\":\"portfolio\"},{\"date\":\"1981-07-02\",\"tot-value\":954.5403292198766,\"daily-ret\":0.0,\"tot-ret\":-0.014379253307600147,\"leverage\":0.009323390028344675,\"loan\":8.89955178710144,\"margin\":0.9907627326182514,\"plot\":\"portfolio\"},{\"date\":\"1981-07-06\",\"tot-value\":941.250601341159,\"daily-ret\":-5.757181698723062E-5,\"tot-ret\":-0.014436825124587377,\"leverage\":0.009455029058595812,\"loan\":8.89955178710144,\"margin\":0.9906335311763086,\"plot\":\"portfolio\"},{\"date\":\"1981-07-07\",\"tot-value\":945.365439776463,\"daily-ret\":1.7834160620189426E-5,\"tot-ret\":-0.014418990963967189,\"leverage\":0.009413874690834679,\"loan\":8.89955178710144,\"margin\":0.9906739198589696,\"plot\":\"portfolio\"},{\"date\":\"1981-07-08\",\"tot-value\":960.594345442345,\"daily-ret\":6.429935576413392E-5,\"tot-ret\":-0.014354691608203055,\"leverage\":0.009264630620955068,\"loan\":8.89955178710144,\"margin\":0.9908204148447618,\"plot\":\"portfolio\"},{\"date\":\"1981-07-09\",\"tot-value\":927.7144723450815,\"daily-ret\":-1.4510056996463783E-4,\"tot-ret\":-0.014499792178167693,\"leverage\":0.009592985829578692,\"loan\":8.89955178710144,\"margin\":0.9904981651376111,\"plot\":\"portfolio\"},{\"date\":\"1981-07-10\",\"tot-value\":895.4615233153029,\"daily-ret\":-1.52729053041813E-4,\"tot-ret\":-0.014652521231209506,\"leverage\":0.00993850830592059,\"loan\":8.89955178710144,\"margin\":0.990159293636014,\"plot\":\"portfolio\"},{\"date\":\"1981-07-13\",\"tot-value\":904.2077166973194,\"daily-ret\":4.1547417434761007E-5,\"tot-ret\":-0.014610973813774745,\"leverage\":0.009842375399767282,\"loan\":8.89955178710144,\"margin\":0.9902535527924633,\"plot\":\"portfolio\"},{\"date\":\"1981-07-14\",\"tot-value\":922.4398063733581,\"daily-ret\":8.364510376169101E-5,\"tot-ret\":-0.014527328710013054,\"leverage\":0.00964784013613929,\"loan\":8.89955178710144,\"margin\":0.9904443512355373,\"plot\":\"portfolio\"},{\"date\":\"1981-07-15\",\"tot-value\":931.9065151163504,\"daily-ret\":4.234694014670964E-5,\"tot-ret\":-0.014484981769866345,\"leverage\":0.00954983321045922,\"loan\":8.89955178710144,\"margin\":0.9905405034042847,\"plot\":\"portfolio\"},{\"date\":\"1981-07-16\",\"tot-value\":943.3111395337097,\"daily-ret\":4.9838175773891955E-5,\"tot-ret\":-0.014435143594092453,\"leverage\":0.009434375800439078,\"loan\":8.89955178710144,\"margin\":0.9906537997648851,\"plot\":\"portfolio\"},{\"date\":\"1981-07-17\",\"tot-value\":956.5638918999235,\"daily-ret\":5.637110530966979E-5,\"tot-ret\":-0.014378772488782783,\"leverage\":0.009303666866857357,\"loan\":8.89955178710144,\"margin\":0.9907820934647563,\"plot\":\"portfolio\"},{\"date\":\"1981-07-20\",\"tot-value\":927.7142669365655,\"daily-ret\":-1.27584319819973E-4,\"tot-ret\":-0.014506356808602756,\"leverage\":0.00959298795359581,\"loan\":8.89955178710144,\"margin\":0.9904981630537664,\"plot\":\"portfolio\"},{\"date\":\"1981-07-21\",\"tot-value\":925.6090179179623,\"daily-ret\":-9.4865290853325E-6,\"tot-ret\":-0.014515843337688088,\"leverage\":0.009614806700046885,\"loan\":8.89955178710144,\"margin\":0.9904767574363601,\"plot\":\"portfolio\"},{\"date\":\"1981-07-22\",\"tot-value\":903.1202115391432,\"daily-ret\":-1.0526300712502514E-4,\"tot-ret\":-0.014621106344813114,\"leverage\":0.00985422723729588,\"loan\":8.89955178710144,\"margin\":0.9902419309921051,\"plot\":\"portfolio\"},{\"date\":\"1981-07-23\",\"tot-value\":912.8457977801197,\"daily-ret\":4.5352083874104346E-5,\"tot-ret\":-0.01457575426093901,\"leverage\":0.009749238928133957,\"loan\":8.89955178710144,\"margin\":0.9903448910360328,\"plot\":\"portfolio\"},{\"date\":\"1981-07-24\",\"tot-value\":925.609268680618,\"daily-ret\":5.797990468728713E-5,\"tot-ret\":-0.014517774356251723,\"leverage\":0.009614804095238847,\"loan\":8.89955178710144,\"margin\":0.990476759991792,\"plot\":\"portfolio\"},{\"date\":\"1981-07-27\",\"tot-value\":942.2815948300771,\"daily-ret\":7.322476163025581E-5,\"tot-ret\":-0.014444549594621468,\"leverage\":0.009444683877865945,\"loan\":8.89955178710144,\"margin\":0.9906436835730479,\"plot\":\"portfolio\"},{\"date\":\"1981-07-28\",\"tot-value\":927.7142101434208,\"daily-ret\":-6.491095140168832E-5,\"tot-ret\":-0.014509460546023156,\"leverage\":0.009592988540862823,\"loan\":8.89955178710144,\"margin\":0.9904981624776066,\"plot\":\"portfolio\"},{\"date\":\"1981-07-29\",\"tot-value\":921.3798249070808,\"daily-ret\":-2.874027481415122E-5,\"tot-ret\":-0.014538200820837307,\"leverage\":0.009658939284891485,\"loan\":8.89955178710144,\"margin\":0.9904334633121432,\"plot\":\"portfolio\"},{\"date\":\"1981-07-30\",\"tot-value\":937.1123247301385,\"daily-ret\":6.982937750916064E-5,\"tot-ret\":-0.014468371443328146,\"leverage\":0.009496782351746634,\"loan\":8.89955178710144,\"margin\":0.9905925580766858,\"plot\":\"portfolio\"},{\"date\":\"1981-07-31\",\"tot-value\":942.2812837369381,\"daily-ret\":2.2562556877866108E-5,\"tot-ret\":-0.01444580888645028,\"leverage\":0.009444686996018036,\"loan\":8.89955178710144,\"margin\":0.9906436805129717,\"plot\":\"portfolio\"},{\"date\":\"1981-08-03\",\"tot-value\":939.184373192471,\"daily-ret\":-1.3547661636881394E-5,\"tot-ret\":-0.014459356548087162,\"leverage\":0.009475830349316958,\"loan\":8.89955178710144,\"margin\":0.990613118150597,\"plot\":\"portfolio\"},{\"date\":\"1981-08-04\",\"tot-value\":944.3388966775611,\"daily-ret\":2.2401297825997972E-5,\"tot-ret\":-0.014436955250261164,\"leverage\":0.009424108038345622,\"loan\":8.89955178710144,\"margin\":0.9906638765972611,\"plot\":\"portfolio\"},{\"date\":\"1981-08-05\",\"tot-value\":956.5639205658009,\"daily-ret\":5.197137834253912E-5,\"tot-ret\":-0.014384983871918625,\"leverage\":0.009303666588049252,\"loan\":8.89955178710144,\"margin\":0.990782093738448,\"plot\":\"portfolio\"},{\"date\":\"1981-08-06\",\"tot-value\":946.3908370558556,\"daily-ret\":-4.366567705812122E-5,\"tot-ret\":-0.014428649548976746,\"leverage\":0.009403674928623798,\"loan\":8.89955178710144,\"margin\":0.9906839303618656,\"plot\":\"portfolio\"},{\"date\":\"1981-08-07\",\"tot-value\":946.3908370558556,\"daily-ret\":0.0,\"tot-ret\":-0.014428649548976746,\"leverage\":0.009403674928623798,\"loan\":8.89955178710144,\"margin\":0.9906839303618656,\"plot\":\"portfolio\"},{\"date\":\"1981-08-10\",\"tot-value\":943.311377352598,\"daily-ret\":-1.335392420498181E-5,\"tot-ret\":-0.014442003473181728,\"leverage\":0.009434373421932023,\"loan\":8.89955178710144,\"margin\":0.9906538020991399,\"plot\":\"portfolio\"},{\"date\":\"1981-08-11\",\"tot-value\":935.0351233336467,\"daily-ret\":-3.64263309346215E-5,\"tot-ret\":-0.01447842980411635,\"leverage\":0.009517879665709448,\"loan\":8.89955178710144,\"margin\":0.9905718562717668,\"plot\":\"portfolio\"},{\"date\":\"1981-08-12\",\"tot-value\":925.6094982098844,\"daily-ret\":-4.230630394028499E-5,\"tot-ret\":-0.014520736108056634,\"leverage\":0.009614801710994807,\"loan\":8.89955178710144,\"margin\":0.9904767623308408,\"plot\":\"portfolio\"},{\"date\":\"1981-08-13\",\"tot-value\":912.8461166186438,\"daily-ret\":-5.879013412988278E-5,\"tot-ret\":-0.014579526242186516,\"leverage\":0.009749235522923708,\"loan\":8.89955178710144,\"margin\":0.9903448943758052,\"plot\":\"portfolio\"},{\"date\":\"1981-08-14\",\"tot-value\":907.4594836323033,\"daily-ret\":-2.5207486692254848E-5,\"tot-ret\":-0.014604733728878772,\"leverage\":0.009807106485326546,\"loan\":8.89955178710144,\"margin\":0.990288138771908,\"plot\":\"portfolio\"},{\"date\":\"1981-08-17\",\"tot-value\":894.3603122827377,\"daily-ret\":-6.283621877551979E-5,\"tot-ret\":-0.014667569947654292,\"leverage\":0.009950745426512161,\"loan\":8.89955178710144,\"margin\":0.9901472963195745,\"plot\":\"portfolio\"},{\"date\":\"1981-08-18\",\"tot-value\":885.4882793109252,\"daily-ret\":-4.351543301184343E-5,\"tot-ret\":-0.014711085380666135,\"leverage\":0.010050445607283418,\"loan\":8.89955178710144,\"margin\":0.9900495607412552,\"plot\":\"portfolio\"},{\"date\":\"1981-08-19\",\"tot-value\":881.0090887472198,\"daily-ret\":-2.2247925851203035E-5,\"tot-ret\":-0.014733333306517337,\"leverage\":0.010101543673921066,\"loan\":8.89955178710144,\"margin\":0.9899994770454662,\"plot\":\"portfolio\"},{\"date\":\"1981-08-20\",\"tot-value\":884.3713252508023,\"daily-ret\":1.664708775744794E-5,\"tot-ret\":-0.014716686218759888,\"leverage\":0.010063139241401321,\"loan\":8.89955178710144,\"margin\":0.9900371186211595,\"plot\":\"portfolio\"},{\"date\":\"1981-08-21\",\"tot-value\":858.1582122476715,\"daily-ret\":-1.3551466405255168E-4,\"tot-ret\":-0.01485220088281244,\"leverage\":0.01037052569105166,\"loan\":8.89955178710144,\"margin\":0.9897359182326121,\"plot\":\"portfolio\"},{\"date\":\"1981-08-24\",\"tot-value\":833.28833436002,\"daily-ret\":-1.364061068859014E-4,\"tot-ret\":-0.014988606989698342,\"leverage\":0.010680038853461752,\"loan\":8.89955178710144,\"margin\":0.9894328190496594,\"plot\":\"portfolio\"},{\"date\":\"1981-08-25\",\"tot-value\":842.8742875284006,\"daily-ret\":5.244976202284631E-5,\"tot-ret\":-0.014936157227675495,\"leverage\":0.010558575482469645,\"loan\":8.89955178710144,\"margin\":0.9895517432253458,\"plot\":\"portfolio\"},{\"date\":\"1981-08-26\",\"tot-value\":835.6980642969894,\"daily-ret\":-3.954499870693969E-5,\"tot-ret\":-0.014975702226382434,\"leverage\":0.010649243030840297,\"loan\":8.89955178710144,\"margin\":0.9894629683797078,\"plot\":\"portfolio\"},{\"date\":\"1981-08-27\",\"tot-value\":838.0987531577103,\"daily-ret\":1.3228807120521875E-5,\"tot-ret\":-0.014962473419261912,\"leverage\":0.010618738846192695,\"loan\":8.89955178710144,\"margin\":0.9894928340055162,\"plot\":\"portfolio\"},{\"date\":\"1981-08-28\",\"tot-value\":856.9946492087878,\"daily-ret\":1.0055326549135481E-4,\"tot-ret\":-0.014861920153770558,\"leverage\":0.01038460601278884,\"loan\":8.89955178710144,\"margin\":0.9897221256628513,\"plot\":\"portfolio\"},{\"date\":\"1981-08-31\",\"tot-value\":856.9946492087878,\"daily-ret\":0.0,\"tot-ret\":-0.014861920153770558,\"leverage\":0.01038460601278884,\"loan\":8.89955178710144,\"margin\":0.9897221256628513,\"plot\":\"portfolio\"},{\"date\":\"1981-09-01\",\"tot-value\":879.8847106558852,\"daily-ret\":1.1578681812557993E-4,\"tot-ret\":-0.014746133335644979,\"leverage\":0.01011445213142472,\"loan\":8.89955178710144,\"margin\":0.9899868256413098,\"plot\":\"portfolio\"},{\"date\":\"1981-09-02\",\"tot-value\":886.6037976195512,\"daily-ret\":3.316304455284179E-5,\"tot-ret\":-0.014712970291092137,\"leverage\":0.010037800211318641,\"loan\":8.89955178710144,\"margin\":0.9900619558899493,\"plot\":\"portfolio\"},{\"date\":\"1981-09-03\",\"tot-value\":867.3916314637745,\"daily-ret\":-9.761857410943539E-5,\"tot-ret\":-0.014810588865201573,\"leverage\":0.010260131023033877,\"loan\":8.89955178710144,\"margin\":0.9898440701479093,\"plot\":\"portfolio\"},{\"date\":\"1981-09-04\",\"tot-value\":861.6356629762703,\"daily-ret\":-2.986599158297051E-5,\"tot-ret\":-0.014840454856784544,\"leverage\":0.010328671583022135,\"loan\":8.89955178710144,\"margin\":0.9897769192605028,\"plot\":\"portfolio\"},{\"date\":\"1981-09-08\",\"tot-value\":849.9723098007531,\"daily-ret\":-6.197314154036004E-5,\"tot-ret\":-0.014902427998324903,\"leverage\":0.010470402017199402,\"loan\":8.89955178710144,\"margin\":0.9896380913322177,\"plot\":\"portfolio\"},{\"date\":\"1981-09-09\",\"tot-value\":849.9723098007531,\"daily-ret\":0.0,\"tot-ret\":-0.014902427998324903,\"leverage\":0.010470402017199402,\"loan\":8.89955178710144,\"margin\":0.9896380913322177,\"plot\":\"portfolio\"},{\"date\":\"1981-09-10\",\"tot-value\":852.3214019893999,\"daily-ret\":1.2515404460055649E-5,\"tot-ret\":-0.014889912593864848,\"leverage\":0.010441544429518059,\"loan\":8.89955178710144,\"margin\":0.9896663547861017,\"plot\":\"portfolio\"},{\"date\":\"1981-09-11\",\"tot-value\":847.6147779313275,\"daily-ret\":-2.5250031522836178E-5,\"tot-ret\":-0.014915162625387684,\"leverage\":0.010499524098460764,\"loan\":8.89955178710144,\"margin\":0.9896095704668162,\"plot\":\"portfolio\"},{\"date\":\"1981-09-14\",\"tot-value\":835.6980879590926,\"daily-ret\":-6.54833797468974E-5,\"tot-ret\":-0.01498064600513458,\"leverage\":0.01064924272931575,\"loan\":8.89955178710144,\"margin\":0.9894629686749115,\"plot\":\"portfolio\"},{\"date\":\"1981-09-15\",\"tot-value\":826.0044402158788,\"daily-ret\":-5.4593248777426445E-5,\"tot-ret\":-0.015035239253912007,\"leverage\":0.010774217853811434,\"loan\":8.89955178710144,\"margin\":0.9893406285365207,\"plot\":\"portfolio\"},{\"date\":\"1981-09-16\",\"tot-value\":818.637007949845,\"daily-ret\":-4.229985644116418E-5,\"tot-ret\":-0.01507753911035317,\"leverage\":0.010871181855544313,\"loan\":8.89955178710144,\"margin\":0.9892457297718298,\"plot\":\"portfolio\"},{\"date\":\"1981-09-17\",\"tot-value\":808.6789431087126,\"daily-ret\":-5.849446808033636E-5,\"tot-ret\":-0.015136033578433506,\"leverage\":0.01100504948588114,\"loan\":8.89955178710144,\"margin\":0.9891147433027387,\"plot\":\"portfolio\"},{\"date\":\"1981-09-18\",\"tot-value\":811.183224157588,\"daily-ret\":1.4732241573524226E-5,\"tot-ret\":-0.015121301336859981,\"leverage\":0.010971074748671738,\"loan\":8.89955178710144,\"margin\":0.989147983535138,\"plot\":\"portfolio\"},{\"date\":\"1981-09-21\",\"tot-value\":813.6777933685562,\"daily-ret\":1.4585108273983204E-5,\"tot-ret\":-0.015106716228585998,\"leverage\":0.010937439683904928,\"loan\":8.89955178710144,\"margin\":0.9891808936393484,\"plot\":\"portfolio\"},{\"date\":\"1981-09-22\",\"tot-value\":793.4384504995837,\"daily-ret\":-1.2269907162496032E-4,\"tot-ret\":-0.015229415300210958,\"leverage\":0.011216436235851555,\"loan\":8.89955178710144,\"margin\":0.9889079767358177,\"plot\":\"portfolio\"},{\"date\":\"1981-09-23\",\"tot-value\":786.9756530478815,\"daily-ret\":-4.016735310954811E-5,\"tot-ret\":-0.015269582653320506,\"leverage\":0.011308547796408094,\"loan\":8.89955178710144,\"margin\":0.9888179054542267,\"plot\":\"portfolio\"},{\"date\":\"1981-09-24\",\"tot-value\":783.0649686909105,\"daily-ret\":-2.458823861457899E-5,\"tot-ret\":-0.015294170891935084,\"leverage\":0.011365023520307993,\"loan\":8.89955178710144,\"margin\":0.9887626887859448,\"plot\":\"portfolio\"},{\"date\":\"1981-09-25\",\"tot-value\":738.2675240676983,\"daily-ret\":-3.0840637513443984E-4,\"tot-ret\":-0.015602577267069524,\"leverage\":0.012054643468626098,\"loan\":8.89955178710144,\"margin\":0.9880889401116613,\"plot\":\"portfolio\"},{\"date\":\"1981-09-28\",\"tot-value\":739.6766776859268,\"daily-ret\":9.964165900317338E-6,\"tot-ret\":-0.015592613101169207,\"leverage\":0.012031678239394574,\"loan\":8.89955178710144,\"margin\":0.9881113620273964,\"plot\":\"portfolio\"},{\"date\":\"1981-09-29\",\"tot-value\":756.3234629826328,\"daily-ret\":1.1373432067571765E-4,\"tot-ret\":-0.015478878780493489,\"leverage\":0.011766859317050961,\"loan\":8.89955178710144,\"margin\":0.9883699893817498,\"plot\":\"portfolio\"},{\"date\":\"1981-09-30\",\"tot-value\":759.0522166748326,\"daily-ret\":1.833813989474741E-5,\"tot-ret\":-0.01546054064059874,\"leverage\":0.01172455806280042,\"loan\":8.89955178710144,\"margin\":0.9884113141572346,\"plot\":\"portfolio\"},{\"date\":\"1981-10-01\",\"tot-value\":759.0522166748326,\"daily-ret\":0.0,\"tot-ret\":-0.01546054064059874,\"leverage\":0.01172455806280042,\"loan\":8.89955178710144,\"margin\":0.9884113141572346,\"plot\":\"portfolio\"},{\"date\":\"1981-10-02\",\"tot-value\":785.6750334873134,\"daily-ret\":1.695839279231838E-4,\"tot-ret\":-0.015290956712675557,\"leverage\":0.011327268155129872,\"loan\":8.89955178710144,\"margin\":0.988799601759188,\"plot\":\"portfolio\"},{\"date\":\"1981-10-05\",\"tot-value\":797.283990466818,\"daily-ret\":7.110509368381279E-5,\"tot-ret\":-0.015219851618991745,\"leverage\":0.011162335997604394,\"loan\":8.89955178710144,\"margin\":0.9889608862986459,\"plot\":\"portfolio\"},{\"date\":\"1981-10-06\",\"tot-value\":793.4385745176087,\"daily-ret\":-2.35515154926988E-5,\"tot-ret\":-0.015243403134484444,\"leverage\":0.011216434482672021,\"loan\":8.89955178710144,\"margin\":0.9889079784503203,\"plot\":\"portfolio\"},{\"date\":\"1981-10-07\",\"tot-value\":814.9216119687493,\"daily-ret\":1.2670822506748614E-4,\"tot-ret\":-0.015116694909416957,\"leverage\":0.010920745819467507,\"loan\":8.89955178710144,\"margin\":0.9891972285022057,\"plot\":\"portfolio\"},{\"date\":\"1981-10-08\",\"tot-value\":826.0050205012265,\"daily-ret\":6.321069084726709E-5,\"tot-ret\":-0.015053484218569689,\"leverage\":0.010774210284703985,\"loan\":8.89955178710144,\"margin\":0.9893406359451244,\"plot\":\"portfolio\"},{\"date\":\"1981-10-09\",\"tot-value\":829.6571775341292,\"daily-ret\":2.0552382826607297E-5,\"tot-ret\":-0.015032931835743082,\"leverage\":0.010726782131328386,\"loan\":8.89955178710144,\"margin\":0.9893870605578406,\"plot\":\"portfolio\"},{\"date\":\"1981-10-12\",\"tot-value\":840.4913100097656,\"daily-ret\":5.966152676128719E-5,\"tot-ret\":-0.014973270308981795,\"leverage\":0.010588511363666613,\"loan\":8.89955178710144,\"margin\":0.9895224305000472,\"plot\":\"portfolio\"},{\"date\":\"1981-10-13\",\"tot-value\":841.6839335638894,\"daily-ret\":6.511268767271533E-6,\"tot-ret\":-0.014966759040214524,\"leverage\":0.010573507978723829,\"loan\":8.89955178710144,\"margin\":0.9895371213521397,\"plot\":\"portfolio\"},{\"date\":\"1981-10-14\",\"tot-value\":818.6376075040822,\"daily-ret\":-1.3107749820011265E-4,\"tot-ret\":-0.015097836538414637,\"leverage\":0.010871173893702485,\"loan\":8.89955178710144,\"margin\":0.9892457375633449,\"plot\":\"portfolio\"},{\"date\":\"1981-10-15\",\"tot-value\":826.0052100745355,\"daily-ret\":4.192346383354486E-5,\"tot-ret\":-0.015055913074581092,\"leverage\":0.010774207811956028,\"loan\":8.89955178710144,\"margin\":0.9893406383654375,\"plot\":\"portfolio\"},{\"date\":\"1981-10-16\",\"tot-value\":821.1030518192822,\"daily-ret\":-2.8018910200787474E-5,\"tot-ret\":-0.01508393198478188,\"leverage\":0.010838532103105807,\"loan\":8.89955178710144,\"margin\":0.989277682083848,\"plot\":\"portfolio\"},{\"date\":\"1981-10-19\",\"tot-value\":828.4423601921536,\"daily-ret\":4.151584382797856E-5,\"tot-ret\":-0.0150424161409539,\"leverage\":0.01074251174823705,\"loan\":8.89955178710144,\"margin\":0.9893716632838009,\"plot\":\"portfolio\"},{\"date\":\"1981-10-20\",\"tot-value\":847.6155682208051,\"daily-ret\":1.0432976316973837E-4,\"tot-ret\":-0.014938086377784163,\"leverage\":0.010499514309042392,\"loan\":8.89955178710144,\"margin\":0.989609580053859,\"plot\":\"portfolio\"},{\"date\":\"1981-10-21\",\"tot-value\":847.6155682208051,\"daily-ret\":0.0,\"tot-ret\":-0.014938086377784163,\"leverage\":0.010499514309042392,\"loan\":8.89955178710144,\"margin\":0.989609580053859,\"plot\":\"portfolio\"},{\"date\":\"1981-10-22\",\"tot-value\":845.2496132050142,\"daily-ret\":-1.2781500875575262E-5,\"tot-ret\":-0.014950867878659738,\"leverage\":0.010528903708522452,\"loan\":8.89955178710144,\"margin\":0.9895807990549477,\"plot\":\"portfolio\"},{\"date\":\"1981-10-23\",\"tot-value\":835.6989710873703,\"daily-ret\":-5.255516320981137E-5,\"tot-ret\":-0.01500342304186955,\"leverage\":0.010649231475685297,\"loan\":8.89955178710144,\"margin\":0.9894629796926319,\"plot\":\"portfolio\"},{\"date\":\"1981-10-26\",\"tot-value\":835.6989710873703,\"daily-ret\":0.0,\"tot-ret\":-0.01500342304186955,\"leverage\":0.010649231475685297,\"loan\":8.89955178710144,\"margin\":0.9894629796926319,\"plot\":\"portfolio\"},{\"date\":\"1981-10-27\",\"tot-value\":844.063494776857,\"daily-ret\":4.5604138529008894E-5,\"tot-ret\":-0.01495781890334054,\"leverage\":0.010543699428032002,\"loan\":8.89955178710144,\"margin\":0.9895663102605066,\"plot\":\"portfolio\"},{\"date\":\"1981-10-28\",\"tot-value\":854.663227533235,\"daily-ret\":5.6437069743755986E-5,\"tot-ret\":-0.014901381833596785,\"leverage\":0.010412934007688269,\"loan\":8.89955178710144,\"margin\":0.9896943777566399,\"plot\":\"portfolio\"},{\"date\":\"1981-10-29\",\"tot-value\":849.9732673258733,\"daily-ret\":-2.5021632795960634E-5,\"tot-ret\":-0.014926403466392745,\"leverage\":0.010470390221919085,\"loan\":8.89955178710144,\"margin\":0.9896381028843214,\"plot\":\"portfolio\"},{\"date\":\"1981-10-30\",\"tot-value\":854.6631401870353,\"daily-ret\":2.4883867078652112E-5,\"tot-ret\":-0.014901519599314093,\"leverage\":0.010412935071885579,\"loan\":8.89955178710144,\"margin\":0.9896943767142641,\"plot\":\"portfolio\"},{\"date\":\"1981-11-02\",\"tot-value\":854.6631401870353,\"daily-ret\":0.0,\"tot-ret\":-0.014901519599314093,\"leverage\":0.010412935071885579,\"loan\":8.89955178710144,\"margin\":0.9896943767142641,\"plot\":\"portfolio\"},{\"date\":\"1981-11-03\",\"tot-value\":849.9731804540457,\"daily-ret\":-2.5021635379732192E-5,\"tot-ret\":-0.014926541234693825,\"leverage\":0.010470391292049243,\"loan\":8.89955178710144,\"margin\":0.9896381018362536,\"plot\":\"portfolio\"},{\"date\":\"1981-11-04\",\"tot-value\":840.4915898540348,\"daily-ret\":-5.158562521397294E-5,\"tot-ret\":-0.014978126859907797,\"leverage\":0.01058850783818907,\"loan\":8.89955178710144,\"margin\":0.9895224339520349,\"plot\":\"portfolio\"},{\"date\":\"1981-11-05\",\"tot-value\":813.6785200920596,\"daily-ret\":-1.5400470870130444E-4,\"tot-ret\":-0.015132131568609103,\"leverage\":0.010937429915311695,\"loan\":8.89955178710144,\"margin\":0.9891809031977102,\"plot\":\"portfolio\"},{\"date\":\"1981-11-06\",\"tot-value\":816.163243682203,\"daily-ret\":1.4439042239486011E-5,\"tot-ret\":-0.015117692526369617,\"leverage\":0.010904132054452996,\"loan\":8.89955178710144,\"margin\":0.9892134855238027,\"plot\":\"portfolio\"},{\"date\":\"1981-11-09\",\"tot-value\":821.103476552074,\"daily-ret\":2.8406246755805837E-5,\"tot-ret\":-0.01508928627961381,\"leverage\":0.010838526496650432,\"loan\":8.89955178710144,\"margin\":0.9892776875707197,\"plot\":\"portfolio\"},{\"date\":\"1981-11-10\",\"tot-value\":823.5592818178594,\"daily-ret\":1.401538286102733E-5,\"tot-ret\":-0.015075270896752783,\"leverage\":0.010806206649091826,\"loan\":8.89955178710144,\"margin\":0.9893093190583827,\"plot\":\"portfolio\"},{\"date\":\"1981-11-11\",\"tot-value\":833.2895155198772,\"daily-ret\":5.4479349250708585E-5,\"tot-ret\":-0.015020791547502075,\"leverage\":0.010680023714865943,\"loan\":8.89955178710144,\"margin\":0.9894328338700014,\"plot\":\"portfolio\"},{\"date\":\"1981-11-12\",\"tot-value\":845.2498459669046,\"daily-ret\":6.516529120318674E-5,\"tot-ret\":-0.014955626256298888,\"leverage\":0.010528900809110469,\"loan\":8.89955178710144,\"margin\":0.9895808018942553,\"plot\":\"portfolio\"},{\"date\":\"1981-11-13\",\"tot-value\":818.6380561208231,\"daily-ret\":-1.5103498879155949E-4,\"tot-ret\":-0.015106661245090448,\"leverage\":0.01087116793625821,\"loan\":8.89955178710144,\"margin\":0.9892457433933424,\"plot\":\"portfolio\"},{\"date\":\"1981-11-16\",\"tot-value\":813.6784650613462,\"daily-ret\":-2.8865058905399935E-5,\"tot-ret\":-0.015135526303995847,\"leverage\":0.01093743065503211,\"loan\":8.89955178710144,\"margin\":0.9891809024739096,\"plot\":\"portfolio\"},{\"date\":\"1981-11-17\",\"tot-value\":821.1032593372164,\"daily-ret\":4.2757499817766525E-5,\"tot-ret\":-0.015092768804178081,\"leverage\":0.01083852936387689,\"loan\":8.89955178710144,\"margin\":0.9892776847646502,\"plot\":\"portfolio\"},{\"date\":\"1981-11-18\",\"tot-value\":833.2892546916303,\"daily-ret\":6.83308725358422E-5,\"tot-ret\":-0.015024437931642239,\"leverage\":0.010680027057825002,\"loan\":8.89955178710144,\"margin\":0.9894328305973202,\"plot\":\"portfolio\"},{\"date\":\"1981-11-19\",\"tot-value\":833.2892546916303,\"daily-ret\":0.0,\"tot-ret\":-0.015024437931642239,\"leverage\":0.010680027057825002,\"loan\":8.89955178710144,\"margin\":0.9894328305973202,\"plot\":\"portfolio\"},{\"date\":\"1981-11-20\",\"tot-value\":835.6991304995888,\"daily-ret\":1.3355930198777063E-5,\"tot-ret\":-0.015011082001443462,\"leverage\":0.010649229444311141,\"loan\":8.89955178710144,\"margin\":0.9894629816814222,\"plot\":\"portfolio\"},{\"date\":\"1981-11-23\",\"tot-value\":819.8720213766042,\"daily-ret\":-9.013705255763414E-5,\"tot-ret\":-0.015101219054001096,\"leverage\":0.01085480606126633,\"loan\":8.89955178710144,\"margin\":0.9892617555002172,\"plot\":\"portfolio\"},{\"date\":\"1981-11-24\",\"tot-value\":816.163286796502,\"daily-ret\":-2.1470354332222942E-5,\"tot-ret\":-0.015122689408333318,\"leverage\":0.010904131478435894,\"loan\":8.89955178710144,\"margin\":0.9892134860874604,\"plot\":\"portfolio\"},{\"date\":\"1981-11-25\",\"tot-value\":823.5591557851687,\"daily-ret\":4.233596422577245E-5,\"tot-ret\":-0.015080353444107545,\"leverage\":0.010806208302810675,\"loan\":8.89955178710144,\"margin\":0.9893093174398336,\"plot\":\"portfolio\"},{\"date\":\"1981-11-27\",\"tot-value\":833.2893880140475,\"daily-ret\":5.447935767547805E-5,\"tot-ret\":-0.015025874086432068,\"leverage\":0.010680025349070463,\"loan\":8.89955178710144,\"margin\":0.9894328322701521,\"plot\":\"portfolio\"},{\"date\":\"1981-11-30\",\"tot-value\":828.4428624139367,\"daily-ret\":-2.721388685891329E-5,\"tot-ret\":-0.01505308797329098,\"leverage\":0.010742505235870718,\"loan\":8.89955178710144,\"margin\":0.9893716696584717,\"plot\":\"portfolio\"},{\"date\":\"1981-12-01\",\"tot-value\":828.4428624139367,\"daily-ret\":0.0,\"tot-ret\":-0.01505308797329098,\"leverage\":0.010742505235870718,\"loan\":8.89955178710144,\"margin\":0.9893716696584717,\"plot\":\"portfolio\"},{\"date\":\"1981-12-02\",\"tot-value\":830.8707523493068,\"daily-ret\":1.3612873165342026E-5,\"tot-ret\":-0.015039475100125639,\"leverage\":0.010711114528869558,\"loan\":8.89955178710144,\"margin\":0.9894023976041241,\"plot\":\"portfolio\"},{\"date\":\"1981-12-03\",\"tot-value\":826.0058079504056,\"daily-ret\":-2.7478202242857745E-5,\"tot-ret\":-0.015066953302368496,\"leverage\":0.01077420001341659,\"loan\":8.89955178710144,\"margin\":0.9893406459986082,\"plot\":\"portfolio\"},{\"date\":\"1981-12-04\",\"tot-value\":835.6992766976649,\"daily-ret\":5.39588403147459E-5,\"tot-ret\":-0.01501299446205375,\"leverage\":0.01064922758132418,\"loan\":8.89955178710144,\"margin\":0.9894629835053554,\"plot\":\"portfolio\"},{\"date\":\"1981-12-07\",\"tot-value\":838.0999690045203,\"daily-ret\":1.3228787727316765E-5,\"tot-ret\":-0.014999765674326433,\"leverage\":0.010618723441395857,\"loan\":8.89955178710144,\"margin\":0.9894928490882925,\"plot\":\"portfolio\"},{\"date\":\"1981-12-08\",\"tot-value\":832.0810042139136,\"daily-ret\":-3.3479347495034045E-5,\"tot-ret\":-0.015033245021821467,\"leverage\":0.010695535340948031,\"loan\":8.89955178710144,\"margin\":0.9894176485727326,\"plot\":\"portfolio\"},{\"date\":\"1981-12-09\",\"tot-value\":833.2891608129362,\"daily-ret\":6.729754714692146E-6,\"tot-ret\":-0.015026515267106775,\"leverage\":0.010680028261041172,\"loan\":8.89955178710144,\"margin\":0.9894328294193988,\"plot\":\"portfolio\"},{\"date\":\"1981-12-10\",\"tot-value\":833.2891608129362,\"daily-ret\":0.0,\"tot-ret\":-0.015026515267106775,\"leverage\":0.010680028261041172,\"loan\":8.89955178710144,\"margin\":0.9894328294193988,\"plot\":\"portfolio\"},{\"date\":\"1981-12-11\",\"tot-value\":832.081031131601,\"daily-ret\":-6.739375632776718E-6,\"tot-ret\":-0.015033254642739552,\"leverage\":0.010695534994949185,\"loan\":8.89955178710144,\"margin\":0.9894176489114472,\"plot\":\"portfolio\"},{\"date\":\"1981-12-14\",\"tot-value\":819.8717898024488,\"daily-ret\":-6.968438060644648E-5,\"tot-ret\":-0.015102939023345998,\"leverage\":0.010854809127224418,\"loan\":8.89955178710144,\"margin\":0.9892617524997517,\"plot\":\"portfolio\"},{\"date\":\"1981-12-15\",\"tot-value\":828.4426231247543,\"daily-ret\":4.851844951616499E-5,\"tot-ret\":-0.015054420573829833,\"leverage\":0.010742508338759468,\"loan\":8.89955178710144,\"margin\":0.9893716666211895,\"plot\":\"portfolio\"},{\"date\":\"1981-12-16\",\"tot-value\":845.2497920059275,\"daily-ret\":9.18397903888544E-5,\"tot-ret\":-0.014962580783440978,\"leverage\":0.010528901481278366,\"loan\":8.89955178710144,\"margin\":0.9895808012360214,\"plot\":\"portfolio\"},{\"date\":\"1981-12-17\",\"tot-value\":875.3695036117647,\"daily-ret\":1.545971258677289E-4,\"tot-ret\":-0.01480798365757325,\"leverage\":0.01016662306646735,\"loan\":8.89955178710144,\"margin\":0.9899356969094806,\"plot\":\"portfolio\"},{\"date\":\"1981-12-18\",\"tot-value\":906.3784038131801,\"daily-ret\":1.4844201858440627E-4,\"tot-ret\":-0.014659541638988843,\"leverage\":0.009818803878888303,\"loan\":8.89955178710144,\"margin\":0.9902766676148507,\"plot\":\"portfolio\"},{\"date\":\"1981-12-21\",\"tot-value\":888.8298831247716,\"daily-ret\":-8.501651438998285E-5,\"tot-ret\":-0.014744558153378825,\"leverage\":0.010012660415752633,\"loan\":8.89955178710144,\"margin\":0.990086599101014,\"plot\":\"portfolio\"},{\"date\":\"1981-12-22\",\"tot-value\":895.4625342271528,\"daily-ret\":3.208914493891313E-5,\"tot-ret\":-0.014712469008439913,\"leverage\":0.009938497086070029,\"loan\":8.89955178710144,\"margin\":0.9901593046361287,\"plot\":\"portfolio\"},{\"date\":\"1981-12-23\",\"tot-value\":886.6047385581628,\"daily-ret\":-4.333686920427552E-5,\"tot-ret\":-0.014755805877644189,\"leverage\":0.010037789558371072,\"loan\":8.89955178710144,\"margin\":0.9900619663322102,\"plot\":\"portfolio\"},{\"date\":\"1981-12-24\",\"tot-value\":888.8299942306362,\"daily-ret\":1.09003181069497E-5,\"tot-ret\":-0.014744905559537239,\"leverage\":0.010012659164146252,\"loan\":8.89955178710144,\"margin\":0.9900866003279282,\"plot\":\"portfolio\"},{\"date\":\"1981-12-28\",\"tot-value\":871.9624976007375,\"daily-ret\":-8.49259423109977E-5,\"tot-ret\":-0.014829831501848236,\"leverage\":0.010206346960550651,\"loan\":8.89955178710144,\"margin\":0.9898967701091377,\"plot\":\"portfolio\"},{\"date\":\"1981-12-29\",\"tot-value\":878.7595698512073,\"daily-ret\":3.415224335707832E-5,\"tot-ret\":-0.014795679258491158,\"leverage\":0.010127402411797716,\"loan\":8.89955178710144,\"margin\":0.9899741335720451,\"plot\":\"portfolio\"},{\"date\":\"1981-12-30\",\"tot-value\":893.2588997200554,\"daily-ret\":7.08099794643812E-5,\"tot-ret\":-0.014724869279026777,\"leverage\":0.009963014966758834,\"loan\":8.89955178710144,\"margin\":0.9901352675106754,\"plot\":\"portfolio\"},{\"date\":\"1981-12-31\",\"tot-value\":893.2588997200554,\"daily-ret\":0.0,\"tot-ret\":-0.014724869279026777,\"leverage\":0.009963014966758834,\"loan\":8.89955178710144,\"margin\":0.9901352675106754,\"plot\":\"portfolio\"},{\"date\":\"1982-01-04\",\"tot-value\":891.04795668758,\"daily-ret\":-1.0749532906320473E-5,\"tot-ret\":-0.014735618811933098,\"leverage\":0.009987736036324035,\"loan\":8.89955178710144,\"margin\":0.9901110323621148,\"plot\":\"portfolio\"}]},\"encoding\":{\"x\":{\"field\":\"date\",\"type\":\"temporal\"},\"y\":{\"field\":\"daily-ret\",\"type\":\"quantitative\"},\"color\":{\"field\":\"plot\",\"type\":\"nominal\"}},\"mark\":\"line\"};\n",
       "      vegaEmbed('#uuid-e18194e3-1be9-4b3f-8ca2-28b9fcb0d105', spec, {defaultStyle:true}).catch(console.warn);\n",
       "      }, function(err) {\n",
       "      console.log('Failed to load');\n",
       "    });\n",
       "    </script>\n",
       "  </div>\n",
       "    "
      ]
     },
     "execution_count": 21,
     "metadata": {},
     "output_type": "execute_result"
    }
   ],
   "source": [
    "(plot data-to-plot :plot :date :daily-ret false)"
   ]
  },
  {
   "cell_type": "code",
   "execution_count": null,
   "metadata": {},
   "outputs": [],
   "source": []
  }
 ],
 "metadata": {
  "kernelspec": {
   "display_name": "Clojure (backtesting_clojure)",
   "language": "clojure",
   "name": "backtesting_clojure"
  },
  "language_info": {
   "file_extension": ".clj",
   "mimetype": "text/x-clojure",
   "name": "clojure",
   "version": "1.10.1"
  }
 },
 "nbformat": 4,
 "nbformat_minor": 2
}
