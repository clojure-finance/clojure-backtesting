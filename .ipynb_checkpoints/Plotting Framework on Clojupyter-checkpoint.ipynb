{
 "cells": [
  {
   "cell_type": "code",
   "execution_count": null,
   "metadata": {},
   "outputs": [],
   "source": [
    "(require '[clojupyter.misc.helper :as helper])\n",
    "(helper/add-dependencies '[metasoarous/oz \"1.5.6\"])\n",
    "(require '[oz.notebook.clojupyter :as oz]);"
   ]
  },
  {
   "cell_type": "code",
   "execution_count": 2,
   "metadata": {},
   "outputs": [
    {
     "data": {
      "text/plain": [
       "#'clojure-backtesting.plotv2/play-data"
      ]
     },
     "execution_count": 2,
     "metadata": {},
     "output_type": "execute_result"
    }
   ],
   "source": [
    "(defn play-data [& names]\n",
    "  (for [n names\n",
    "        i (range 20)]\n",
    "    {:time i :item n :quantity (+ (Math/pow (* i (count n)) 0.8) (rand-int (count n)))}))"
   ]
  },
  {
   "cell_type": "code",
   "execution_count": 3,
   "metadata": {},
   "outputs": [
    {
     "name": "stderr",
     "output_type": "stream",
     "text": [
      "Syntax error compiling at (REPL:9:1).\n",
      "No such namespace: oz\n"
     ]
    },
    {
     "ename": "class clojure.lang.Compiler$CompilerException",
     "evalue": "",
     "output_type": "error",
     "traceback": [
      "    RT.java:   462 clojure.lang.RT/load",
      "   core.clj:  6126 clojure.core$load$fn__6839/invoke",
      "   core.clj:  6125 clojure.core$load/invokeStatic",
      "   core.clj:  6109 clojure.core$load/doInvoke",
      "RestFn.java:   408 clojure.lang.RestFn/invoke",
      "   core.clj:  5908 clojure.core$load_one/invokeStatic",
      "   core.clj:  5903 clojure.core$load_one/invoke",
      "   core.clj:  5948 clojure.core$load_lib$fn__6780/invoke",
      "   core.clj:  5947 clojure.core$load_lib/invokeStatic",
      "   core.clj:  5928 clojure.core$load_lib/doInvoke",
      "RestFn.java:   142 clojure.lang.RestFn/applyTo",
      "   core.clj:   667 clojure.core$apply/invokeStatic",
      "   core.clj:  5985 clojure.core$load_libs/invokeStatic",
      "   core.clj:  5969 clojure.core$load_libs/doInvoke",
      "RestFn.java:   137 clojure.lang.RestFn/applyTo",
      "   core.clj:   667 clojure.core$apply/invokeStatic",
      "   core.clj:  6007 clojure.core$require/invokeStatic",
      "RestFn.java:   436 clojure.lang.RestFn/invoke",
      "   core.clj:  3214 clojure.core$eval/invokeStatic",
      "   core.clj:  3210 clojure.core$eval/invoke",
      "   main.clj:   437 clojure.main$repl$read_eval_print__9086$fn__9089/invoke",
      "   main.clj:   458 clojure.main$repl$fn__9095/invoke",
      "   main.clj:   368 clojure.main$repl/doInvoke",
      "RestFn.java:  1523 clojure.lang.RestFn/invoke",
      "   AFn.java:    22 clojure.lang.AFn/run",
      "   AFn.java:    22 clojure.lang.AFn/run",
      "Thread.java:   832 java.lang.Thread/run"
     ]
    }
   ],
   "source": [
    "(def line-plot\n",
    "  {:data {:values (play-data \"monkey\" \"slipper\" \"broom\")}\n",
    "   :encoding {:x {:field \"time\" :type \"quantitative\"}\n",
    "              :y {:field \"quantity\" :type \"quantitative\"}\n",
    "              :color {:field \"item\" :type \"nominal\"}}\n",
    "   :mark \"line\"})\n",
    "\n",
    ";; Render the plot\n",
    "(oz/view! line-plot)"
   ]
  },
  {
   "cell_type": "code",
   "execution_count": null,
   "metadata": {},
   "outputs": [],
   "source": []
  },
  {
   "cell_type": "code",
   "execution_count": null,
   "metadata": {},
   "outputs": [],
   "source": []
  },
  {
   "cell_type": "code",
   "execution_count": null,
   "metadata": {},
   "outputs": [],
   "source": []
  }
 ],
 "metadata": {
  "kernelspec": {
   "display_name": "Clojure (backtesting_clojure)",
   "language": "clojure",
   "name": "backtesting_clojure"
  },
  "language_info": {
   "file_extension": ".clj",
   "mimetype": "text/x-clojure",
   "name": "clojure",
   "version": "1.10.1"
  }
 },
 "nbformat": 4,
 "nbformat_minor": 4
}
